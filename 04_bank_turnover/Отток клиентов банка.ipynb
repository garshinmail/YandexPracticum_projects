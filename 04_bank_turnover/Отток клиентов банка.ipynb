{
 "cells": [
  {
   "cell_type": "markdown",
   "metadata": {
    "toc": true
   },
   "source": [
    "<h1>Содержание<span class=\"tocSkip\"></span></h1>\n",
    "<div class=\"toc\"><ul class=\"toc-item\"><li><span><a href=\"#Цели-и-ход-исследования\" data-toc-modified-id=\"Цели-и-ход-исследования-1\"><span class=\"toc-item-num\">1&nbsp;&nbsp;</span>Цели и ход исследования</a></span></li><li><span><a href=\"#Подготовка-данных\" data-toc-modified-id=\"Подготовка-данных-2\"><span class=\"toc-item-num\">2&nbsp;&nbsp;</span>Подготовка данных</a></span><ul class=\"toc-item\"><li><span><a href=\"#Описание-данных\" data-toc-modified-id=\"Описание-данных-2.1\"><span class=\"toc-item-num\">2.1&nbsp;&nbsp;</span>Описание данных</a></span></li><li><span><a href=\"#Импорт-библиотек\" data-toc-modified-id=\"Импорт-библиотек-2.2\"><span class=\"toc-item-num\">2.2&nbsp;&nbsp;</span>Импорт библиотек</a></span></li><li><span><a href=\"#Импорт-исходных-данных\" data-toc-modified-id=\"Импорт-исходных-данных-2.3\"><span class=\"toc-item-num\">2.3&nbsp;&nbsp;</span>Импорт исходных данных</a></span></li></ul></li><li><span><a href=\"#Исследование-задачи\" data-toc-modified-id=\"Исследование-задачи-3\"><span class=\"toc-item-num\">3&nbsp;&nbsp;</span>Исследование задачи</a></span><ul class=\"toc-item\"><li><span><a href=\"#Исследование-баланса-классов\" data-toc-modified-id=\"Исследование-баланса-классов-3.1\"><span class=\"toc-item-num\">3.1&nbsp;&nbsp;</span>Исследование баланса классов</a></span></li></ul></li><li><span><a href=\"#Борьба-с-дисбалансом\" data-toc-modified-id=\"Борьба-с-дисбалансом-4\"><span class=\"toc-item-num\">4&nbsp;&nbsp;</span>Борьба с дисбалансом</a></span><ul class=\"toc-item\"><li><span><a href=\"#Взвешивание-классов\" data-toc-modified-id=\"Взвешивание-классов-4.1\"><span class=\"toc-item-num\">4.1&nbsp;&nbsp;</span>Взвешивание классов</a></span></li><li><span><a href=\"#Увеличение-выборки\" data-toc-modified-id=\"Увеличение-выборки-4.2\"><span class=\"toc-item-num\">4.2&nbsp;&nbsp;</span>Увеличение выборки</a></span></li><li><span><a href=\"#Уменьшение-выборки\" data-toc-modified-id=\"Уменьшение-выборки-4.3\"><span class=\"toc-item-num\">4.3&nbsp;&nbsp;</span>Уменьшение выборки</a></span></li><li><span><a href=\"#Изменение-порога\" data-toc-modified-id=\"Изменение-порога-4.4\"><span class=\"toc-item-num\">4.4&nbsp;&nbsp;</span>Изменение порога</a></span></li><li><span><a href=\"#Результаты-на-валидационной-выборке\" data-toc-modified-id=\"Результаты-на-валидационной-выборке-4.5\"><span class=\"toc-item-num\">4.5&nbsp;&nbsp;</span>Результаты на валидационной выборке</a></span></li></ul></li><li><span><a href=\"#Тестирование-модели\" data-toc-modified-id=\"Тестирование-модели-5\"><span class=\"toc-item-num\">5&nbsp;&nbsp;</span>Тестирование модели</a></span></li><li><span><a href=\"#Вывод\" data-toc-modified-id=\"Вывод-6\"><span class=\"toc-item-num\">6&nbsp;&nbsp;</span>Вывод</a></span></li><li><span><a href=\"#Чек-лист-готовности-проекта\" data-toc-modified-id=\"Чек-лист-готовности-проекта-7\"><span class=\"toc-item-num\">7&nbsp;&nbsp;</span>Чек-лист готовности проекта</a></span></li></ul></div>"
   ]
  },
  {
   "cell_type": "markdown",
   "metadata": {},
   "source": [
    "# Отток клиентов"
   ]
  },
  {
   "cell_type": "markdown",
   "metadata": {},
   "source": [
    "Из «Бета-Банка» стали уходить клиенты. Каждый месяц. Немного, но заметно. Банковские маркетологи посчитали: сохранять текущих клиентов дешевле, чем привлекать новых.\n",
    "\n",
    "Нужно спрогнозировать, уйдёт клиент из банка в ближайшее время или нет. Вам предоставлены исторические данные о поведении клиентов и расторжении договоров с банком. \n",
    "\n",
    "Постройте модель с предельно большим значением *F1*-меры. Чтобы сдать проект успешно, нужно довести метрику до 0.59. Проверьте *F1*-меру на тестовой выборке самостоятельно.\n",
    "\n",
    "Дополнительно измеряйте *AUC-ROC*, сравнивайте её значение с *F1*-мерой.\n",
    "\n",
    "Источник данных: [https://www.kaggle.com/barelydedicated/bank-customer-churn-modeling](https://www.kaggle.com/barelydedicated/bank-customer-churn-modeling)"
   ]
  },
  {
   "cell_type": "markdown",
   "metadata": {},
   "source": [
    "## Цели и ход исследования"
   ]
  },
  {
   "cell_type": "markdown",
   "metadata": {},
   "source": [
    "**Основная цель исследования:**\n",
    "\n",
    "    Прогноз: уйдёт ли клиент из банка в ближайшее время или нет.\n",
    "    \n",
    "**Ход исследования:**\n",
    "\n",
    "    1. Выполнение предобработки данных;\n",
    "    2. Исследование баланса классов, обучение модели без учёта дисбаланса;\n",
    "    3. Улучшение качества модели за счёт борьбы с дисбалансом. Обучение различных моделей и поиск наилучшей;\n",
    "    4. Тестирование модели."
   ]
  },
  {
   "cell_type": "markdown",
   "metadata": {},
   "source": [
    "## Подготовка данных"
   ]
  },
  {
   "cell_type": "markdown",
   "metadata": {},
   "source": [
    "### Описание данных"
   ]
  },
  {
   "cell_type": "markdown",
   "metadata": {},
   "source": [
    "**Признаки**\n",
    "\n",
    "    RowNumber — индекс строки в данных\n",
    "    CustomerId — уникальный идентификатор клиента\n",
    "    Surname — фамилия\n",
    "    CreditScore — кредитный рейтинг\n",
    "    Geography — страна проживания\n",
    "    Gender — пол\n",
    "    Age — возраст\n",
    "    Tenure — сколько лет человек является клиентом банка\n",
    "    Balance — баланс на счёте\n",
    "    NumOfProducts — количество продуктов банка, используемых клиентом\n",
    "    HasCrCard — наличие кредитной карты\n",
    "    IsActiveMember — активность клиента\n",
    "    EstimatedSalary — предполагаемая зарплата\n",
    "\n",
    "**Целевой признак**\n",
    "\n",
    "    Exited — факт ухода клиента"
   ]
  },
  {
   "cell_type": "markdown",
   "metadata": {},
   "source": [
    "### Импорт библиотек"
   ]
  },
  {
   "cell_type": "code",
   "execution_count": 1,
   "metadata": {},
   "outputs": [],
   "source": [
    "import pandas as pd #импорт библиотеки pandas\n",
    "import numpy as np #импорт библиотеки numpy\n",
    "\n",
    "from sklearn.model_selection import train_test_split #импорт инструмента для разделения выборок\n",
    "from sklearn.linear_model import LogisticRegression #импорт модели логистической регрессии\n",
    "from sklearn.tree import DecisionTreeClassifier #импорт инструмента для формирования модели дерева решений\n",
    "from sklearn.ensemble import RandomForestClassifier #импорт инструмента для формирвоания модели случайного леса\n",
    "from sklearn.metrics import f1_score #импорт метрики f1-меры\n",
    "from sklearn.metrics import roc_auc_score #импорт метрики AUC-ROC\n",
    "from sklearn.utils import shuffle #импорт инструмента для перемешивания строк\n",
    "\n",
    "from sklearn. preprocessing import OneHotEncoder #импорт инструмента кодирования\n",
    "\n",
    "from sklearn.preprocessing import StandardScaler #импорт инструмента масштабирования\n",
    "\n",
    "import random #импорт инструмента с функцией получения случайных значений\n",
    "\n",
    "from tqdm import tqdm #импорт библиотеки для отображения процесса выполнения кода\n",
    " \n",
    "RS=12345 #константа для аргумента random_state\n",
    "\n",
    "import warnings\n",
    "warnings.filterwarnings('ignore')"
   ]
  },
  {
   "cell_type": "markdown",
   "metadata": {},
   "source": [
    "### Импорт исходных данных"
   ]
  },
  {
   "cell_type": "code",
   "execution_count": 2,
   "metadata": {},
   "outputs": [],
   "source": [
    "#импорт данных для работы:\n",
    "#df=pd.read_csv('churn.csv')\n",
    "\n",
    "#импорт данных для ревью:\n",
    "df=pd.read_csv('/datasets/Churn.csv')"
   ]
  },
  {
   "cell_type": "markdown",
   "metadata": {},
   "source": [
    "Изучим общую информацию о полученном датафрейме."
   ]
  },
  {
   "cell_type": "code",
   "execution_count": 3,
   "metadata": {},
   "outputs": [
    {
     "name": "stdout",
     "output_type": "stream",
     "text": [
      "<class 'pandas.core.frame.DataFrame'>\n",
      "RangeIndex: 10000 entries, 0 to 9999\n",
      "Data columns (total 14 columns):\n",
      " #   Column           Non-Null Count  Dtype  \n",
      "---  ------           --------------  -----  \n",
      " 0   RowNumber        10000 non-null  int64  \n",
      " 1   CustomerId       10000 non-null  int64  \n",
      " 2   Surname          10000 non-null  object \n",
      " 3   CreditScore      10000 non-null  int64  \n",
      " 4   Geography        10000 non-null  object \n",
      " 5   Gender           10000 non-null  object \n",
      " 6   Age              10000 non-null  int64  \n",
      " 7   Tenure           9091 non-null   float64\n",
      " 8   Balance          10000 non-null  float64\n",
      " 9   NumOfProducts    10000 non-null  int64  \n",
      " 10  HasCrCard        10000 non-null  int64  \n",
      " 11  IsActiveMember   10000 non-null  int64  \n",
      " 12  EstimatedSalary  10000 non-null  float64\n",
      " 13  Exited           10000 non-null  int64  \n",
      "dtypes: float64(3), int64(8), object(3)\n",
      "memory usage: 1.1+ MB\n"
     ]
    }
   ],
   "source": [
    "#рассмотрение методом info()\n",
    "df.info()"
   ]
  },
  {
   "cell_type": "markdown",
   "metadata": {},
   "source": [
    "По описанию данных методом инфо можно заметить, что в столбце **Tenure** (сколько лет человек является клиентом банка) присутствуют пропуски. Рассмотрим столбец внимательно:"
   ]
  },
  {
   "cell_type": "code",
   "execution_count": 4,
   "metadata": {
    "scrolled": false
   },
   "outputs": [
    {
     "data": {
      "text/plain": [
       "array([ 2.,  1.,  8.,  7.,  4.,  6.,  3., 10.,  5.,  9.,  0., nan])"
      ]
     },
     "execution_count": 4,
     "metadata": {},
     "output_type": "execute_result"
    }
   ],
   "source": [
    "#вызов уникальных значений столбца\n",
    "df['Tenure'].unique()"
   ]
  },
  {
   "cell_type": "code",
   "execution_count": 5,
   "metadata": {
    "scrolled": true
   },
   "outputs": [
    {
     "data": {
      "text/plain": [
       "0.0909"
      ]
     },
     "execution_count": 5,
     "metadata": {},
     "output_type": "execute_result"
    }
   ],
   "source": [
    "#относительное количество пропусков в столбце\n",
    "df['Tenure'].isna().mean()"
   ]
  },
  {
   "cell_type": "markdown",
   "metadata": {},
   "source": [
    "Из подробного рассмотрения видно, что доля пропусков - 9% от общего числа строк, что довольно значительно, а значит отбрасывать эти данные не стоит. Заполним пропуски значением-заглушкой."
   ]
  },
  {
   "cell_type": "code",
   "execution_count": 7,
   "metadata": {},
   "outputs": [
    {
     "data": {
      "text/html": [
       "<div>\n",
       "<style scoped>\n",
       "    .dataframe tbody tr th:only-of-type {\n",
       "        vertical-align: middle;\n",
       "    }\n",
       "\n",
       "    .dataframe tbody tr th {\n",
       "        vertical-align: top;\n",
       "    }\n",
       "\n",
       "    .dataframe thead th {\n",
       "        text-align: right;\n",
       "    }\n",
       "</style>\n",
       "<table border=\"1\" class=\"dataframe\">\n",
       "  <thead>\n",
       "    <tr style=\"text-align: right;\">\n",
       "      <th></th>\n",
       "      <th>RowNumber</th>\n",
       "      <th>CustomerId</th>\n",
       "      <th>Surname</th>\n",
       "      <th>CreditScore</th>\n",
       "      <th>Geography</th>\n",
       "      <th>Gender</th>\n",
       "      <th>Age</th>\n",
       "      <th>Tenure</th>\n",
       "      <th>Balance</th>\n",
       "      <th>NumOfProducts</th>\n",
       "      <th>HasCrCard</th>\n",
       "      <th>IsActiveMember</th>\n",
       "      <th>EstimatedSalary</th>\n",
       "      <th>Exited</th>\n",
       "    </tr>\n",
       "  </thead>\n",
       "  <tbody>\n",
       "    <tr>\n",
       "      <th>30</th>\n",
       "      <td>31</td>\n",
       "      <td>15589475</td>\n",
       "      <td>Azikiwe</td>\n",
       "      <td>591</td>\n",
       "      <td>Spain</td>\n",
       "      <td>Female</td>\n",
       "      <td>39</td>\n",
       "      <td>NaN</td>\n",
       "      <td>0.00</td>\n",
       "      <td>3</td>\n",
       "      <td>1</td>\n",
       "      <td>0</td>\n",
       "      <td>140469.38</td>\n",
       "      <td>1</td>\n",
       "    </tr>\n",
       "    <tr>\n",
       "      <th>48</th>\n",
       "      <td>49</td>\n",
       "      <td>15766205</td>\n",
       "      <td>Yin</td>\n",
       "      <td>550</td>\n",
       "      <td>Germany</td>\n",
       "      <td>Male</td>\n",
       "      <td>38</td>\n",
       "      <td>NaN</td>\n",
       "      <td>103391.38</td>\n",
       "      <td>1</td>\n",
       "      <td>0</td>\n",
       "      <td>1</td>\n",
       "      <td>90878.13</td>\n",
       "      <td>0</td>\n",
       "    </tr>\n",
       "    <tr>\n",
       "      <th>51</th>\n",
       "      <td>52</td>\n",
       "      <td>15768193</td>\n",
       "      <td>Trevisani</td>\n",
       "      <td>585</td>\n",
       "      <td>Germany</td>\n",
       "      <td>Male</td>\n",
       "      <td>36</td>\n",
       "      <td>NaN</td>\n",
       "      <td>146050.97</td>\n",
       "      <td>2</td>\n",
       "      <td>0</td>\n",
       "      <td>0</td>\n",
       "      <td>86424.57</td>\n",
       "      <td>0</td>\n",
       "    </tr>\n",
       "    <tr>\n",
       "      <th>53</th>\n",
       "      <td>54</td>\n",
       "      <td>15702298</td>\n",
       "      <td>Parkhill</td>\n",
       "      <td>655</td>\n",
       "      <td>Germany</td>\n",
       "      <td>Male</td>\n",
       "      <td>41</td>\n",
       "      <td>NaN</td>\n",
       "      <td>125561.97</td>\n",
       "      <td>1</td>\n",
       "      <td>0</td>\n",
       "      <td>0</td>\n",
       "      <td>164040.94</td>\n",
       "      <td>1</td>\n",
       "    </tr>\n",
       "    <tr>\n",
       "      <th>60</th>\n",
       "      <td>61</td>\n",
       "      <td>15651280</td>\n",
       "      <td>Hunter</td>\n",
       "      <td>742</td>\n",
       "      <td>Germany</td>\n",
       "      <td>Male</td>\n",
       "      <td>35</td>\n",
       "      <td>NaN</td>\n",
       "      <td>136857.00</td>\n",
       "      <td>1</td>\n",
       "      <td>0</td>\n",
       "      <td>0</td>\n",
       "      <td>84509.57</td>\n",
       "      <td>0</td>\n",
       "    </tr>\n",
       "    <tr>\n",
       "      <th>...</th>\n",
       "      <td>...</td>\n",
       "      <td>...</td>\n",
       "      <td>...</td>\n",
       "      <td>...</td>\n",
       "      <td>...</td>\n",
       "      <td>...</td>\n",
       "      <td>...</td>\n",
       "      <td>...</td>\n",
       "      <td>...</td>\n",
       "      <td>...</td>\n",
       "      <td>...</td>\n",
       "      <td>...</td>\n",
       "      <td>...</td>\n",
       "      <td>...</td>\n",
       "    </tr>\n",
       "    <tr>\n",
       "      <th>9944</th>\n",
       "      <td>9945</td>\n",
       "      <td>15703923</td>\n",
       "      <td>Cameron</td>\n",
       "      <td>744</td>\n",
       "      <td>Germany</td>\n",
       "      <td>Male</td>\n",
       "      <td>41</td>\n",
       "      <td>NaN</td>\n",
       "      <td>190409.34</td>\n",
       "      <td>2</td>\n",
       "      <td>1</td>\n",
       "      <td>1</td>\n",
       "      <td>138361.48</td>\n",
       "      <td>0</td>\n",
       "    </tr>\n",
       "    <tr>\n",
       "      <th>9956</th>\n",
       "      <td>9957</td>\n",
       "      <td>15707861</td>\n",
       "      <td>Nucci</td>\n",
       "      <td>520</td>\n",
       "      <td>France</td>\n",
       "      <td>Female</td>\n",
       "      <td>46</td>\n",
       "      <td>NaN</td>\n",
       "      <td>85216.61</td>\n",
       "      <td>1</td>\n",
       "      <td>1</td>\n",
       "      <td>0</td>\n",
       "      <td>117369.52</td>\n",
       "      <td>1</td>\n",
       "    </tr>\n",
       "    <tr>\n",
       "      <th>9964</th>\n",
       "      <td>9965</td>\n",
       "      <td>15642785</td>\n",
       "      <td>Douglas</td>\n",
       "      <td>479</td>\n",
       "      <td>France</td>\n",
       "      <td>Male</td>\n",
       "      <td>34</td>\n",
       "      <td>NaN</td>\n",
       "      <td>117593.48</td>\n",
       "      <td>2</td>\n",
       "      <td>0</td>\n",
       "      <td>0</td>\n",
       "      <td>113308.29</td>\n",
       "      <td>0</td>\n",
       "    </tr>\n",
       "    <tr>\n",
       "      <th>9985</th>\n",
       "      <td>9986</td>\n",
       "      <td>15586914</td>\n",
       "      <td>Nepean</td>\n",
       "      <td>659</td>\n",
       "      <td>France</td>\n",
       "      <td>Male</td>\n",
       "      <td>36</td>\n",
       "      <td>NaN</td>\n",
       "      <td>123841.49</td>\n",
       "      <td>2</td>\n",
       "      <td>1</td>\n",
       "      <td>0</td>\n",
       "      <td>96833.00</td>\n",
       "      <td>0</td>\n",
       "    </tr>\n",
       "    <tr>\n",
       "      <th>9999</th>\n",
       "      <td>10000</td>\n",
       "      <td>15628319</td>\n",
       "      <td>Walker</td>\n",
       "      <td>792</td>\n",
       "      <td>France</td>\n",
       "      <td>Female</td>\n",
       "      <td>28</td>\n",
       "      <td>NaN</td>\n",
       "      <td>130142.79</td>\n",
       "      <td>1</td>\n",
       "      <td>1</td>\n",
       "      <td>0</td>\n",
       "      <td>38190.78</td>\n",
       "      <td>0</td>\n",
       "    </tr>\n",
       "  </tbody>\n",
       "</table>\n",
       "<p>909 rows × 14 columns</p>\n",
       "</div>"
      ],
      "text/plain": [
       "      RowNumber  CustomerId    Surname  CreditScore Geography  Gender  Age  \\\n",
       "30           31    15589475    Azikiwe          591     Spain  Female   39   \n",
       "48           49    15766205        Yin          550   Germany    Male   38   \n",
       "51           52    15768193  Trevisani          585   Germany    Male   36   \n",
       "53           54    15702298   Parkhill          655   Germany    Male   41   \n",
       "60           61    15651280     Hunter          742   Germany    Male   35   \n",
       "...         ...         ...        ...          ...       ...     ...  ...   \n",
       "9944       9945    15703923    Cameron          744   Germany    Male   41   \n",
       "9956       9957    15707861      Nucci          520    France  Female   46   \n",
       "9964       9965    15642785    Douglas          479    France    Male   34   \n",
       "9985       9986    15586914     Nepean          659    France    Male   36   \n",
       "9999      10000    15628319     Walker          792    France  Female   28   \n",
       "\n",
       "      Tenure    Balance  NumOfProducts  HasCrCard  IsActiveMember  \\\n",
       "30       NaN       0.00              3          1               0   \n",
       "48       NaN  103391.38              1          0               1   \n",
       "51       NaN  146050.97              2          0               0   \n",
       "53       NaN  125561.97              1          0               0   \n",
       "60       NaN  136857.00              1          0               0   \n",
       "...      ...        ...            ...        ...             ...   \n",
       "9944     NaN  190409.34              2          1               1   \n",
       "9956     NaN   85216.61              1          1               0   \n",
       "9964     NaN  117593.48              2          0               0   \n",
       "9985     NaN  123841.49              2          1               0   \n",
       "9999     NaN  130142.79              1          1               0   \n",
       "\n",
       "      EstimatedSalary  Exited  \n",
       "30          140469.38       1  \n",
       "48           90878.13       0  \n",
       "51           86424.57       0  \n",
       "53          164040.94       1  \n",
       "60           84509.57       0  \n",
       "...               ...     ...  \n",
       "9944        138361.48       0  \n",
       "9956        117369.52       1  \n",
       "9964        113308.29       0  \n",
       "9985         96833.00       0  \n",
       "9999         38190.78       0  \n",
       "\n",
       "[909 rows x 14 columns]"
      ]
     },
     "execution_count": 7,
     "metadata": {},
     "output_type": "execute_result"
    }
   ],
   "source": [
    "df[df['Tenure'].isna()]"
   ]
  },
  {
   "cell_type": "markdown",
   "metadata": {},
   "source": [
    "Явных логических зависимостей на глаз не попадается: люди, разного возраста, пола, страны, балансом, зарплатой, активностью и тд, также имеют пропуски. Построим матрицу корреляций и выберем оттуда столбец Tenure\n"
   ]
  },
  {
   "cell_type": "code",
   "execution_count": 8,
   "metadata": {},
   "outputs": [
    {
     "data": {
      "text/plain": [
       "RowNumber         -0.007322\n",
       "CustomerId        -0.021418\n",
       "CreditScore       -0.000062\n",
       "Age               -0.013134\n",
       "Tenure             1.000000\n",
       "Balance           -0.007911\n",
       "NumOfProducts      0.011979\n",
       "HasCrCard          0.027232\n",
       "IsActiveMember    -0.032178\n",
       "EstimatedSalary    0.010520\n",
       "Exited            -0.016761\n",
       "Name: Tenure, dtype: float64"
      ]
     },
     "execution_count": 8,
     "metadata": {},
     "output_type": "execute_result"
    }
   ],
   "source": [
    "df.corr()['Tenure']"
   ]
  },
  {
   "cell_type": "markdown",
   "metadata": {},
   "source": [
    "\n",
    "Также замечаем: явных корреляций между признаком tenure и остальными нету. Возможно есть смысл заполнить пропуск медианным значением. Проверим распределение значений по столбцу.\n"
   ]
  },
  {
   "cell_type": "code",
   "execution_count": 9,
   "metadata": {
    "scrolled": false
   },
   "outputs": [
    {
     "data": {
      "image/png": "[encoded data removed]",
      "text/plain": [
       "<Figure size 432x288 with 1 Axes>"
      ]
     },
     "metadata": {
      "needs_background": "light"
     },
     "output_type": "display_data"
    }
   ],
   "source": [
    "df['Tenure'].hist();"
   ]
  },
  {
   "cell_type": "markdown",
   "metadata": {},
   "source": [
    "В целом распределение значений имеет плато на значениях от 2 до 9 и рост, но не кардинальный, на значении в 10. Теоретически, можно было бы предположить, что клиенты с пропусками - более старые клиенты, однако это лишь один из вариантов. Медианным значением тоже заполнить как-то неидеально: тогда изменится распределение, пик на значении 10 будет незначителен, а ведь в этом может быть какой-то смысл (или нет): чем более старые клиенты, тем сильнее они могут захотеть уйти из банка. \n",
    "    \n",
    "    Заполним пропуски случайными значениями от 0 до 10, вероятность которых будет заполнена пропорционально появляющимся в столбце.   \n"
   ]
  },
  {
   "cell_type": "code",
   "execution_count": 10,
   "metadata": {},
   "outputs": [
    {
     "data": {
      "text/plain": [
       "array([ 2.,  1.,  8.,  7.,  4.,  6.,  3., 10.,  5.,  9.,  0.])"
      ]
     },
     "execution_count": 10,
     "metadata": {},
     "output_type": "execute_result"
    }
   ],
   "source": [
    "#Заполнение пропусков\n",
    "df['Tenure']=df['Tenure'].fillna(pd.Series(\n",
    "    random.choices(range(0,11),weights=df['Tenure'].value_counts(normalize=True),k=len(df['Tenure'].isna()))))\n",
    "#проверяем наличие пропусков\n",
    "df['Tenure'].unique()"
   ]
  },
  {
   "cell_type": "code",
   "execution_count": 11,
   "metadata": {},
   "outputs": [
    {
     "data": {
      "image/png": "[encoded data removed]",
      "text/plain": [
       "<Figure size 432x288 with 1 Axes>"
      ]
     },
     "metadata": {
      "needs_background": "light"
     },
     "output_type": "display_data"
    }
   ],
   "source": [
    "#проверяем распределение по столбцу Tenure\n",
    "df['Tenure'].hist();"
   ]
  },
  {
   "cell_type": "markdown",
   "metadata": {},
   "source": [
    "Рассмотрим первые строки датафрейма:"
   ]
  },
  {
   "cell_type": "code",
   "execution_count": 12,
   "metadata": {
    "scrolled": true
   },
   "outputs": [
    {
     "data": {
      "text/html": [
       "<div>\n",
       "<style scoped>\n",
       "    .dataframe tbody tr th:only-of-type {\n",
       "        vertical-align: middle;\n",
       "    }\n",
       "\n",
       "    .dataframe tbody tr th {\n",
       "        vertical-align: top;\n",
       "    }\n",
       "\n",
       "    .dataframe thead th {\n",
       "        text-align: right;\n",
       "    }\n",
       "</style>\n",
       "<table border=\"1\" class=\"dataframe\">\n",
       "  <thead>\n",
       "    <tr style=\"text-align: right;\">\n",
       "      <th></th>\n",
       "      <th>RowNumber</th>\n",
       "      <th>CustomerId</th>\n",
       "      <th>Surname</th>\n",
       "      <th>CreditScore</th>\n",
       "      <th>Geography</th>\n",
       "      <th>Gender</th>\n",
       "      <th>Age</th>\n",
       "      <th>Tenure</th>\n",
       "      <th>Balance</th>\n",
       "      <th>NumOfProducts</th>\n",
       "      <th>HasCrCard</th>\n",
       "      <th>IsActiveMember</th>\n",
       "      <th>EstimatedSalary</th>\n",
       "      <th>Exited</th>\n",
       "    </tr>\n",
       "  </thead>\n",
       "  <tbody>\n",
       "    <tr>\n",
       "      <th>0</th>\n",
       "      <td>1</td>\n",
       "      <td>15634602</td>\n",
       "      <td>Hargrave</td>\n",
       "      <td>619</td>\n",
       "      <td>France</td>\n",
       "      <td>Female</td>\n",
       "      <td>42</td>\n",
       "      <td>2.0</td>\n",
       "      <td>0.00</td>\n",
       "      <td>1</td>\n",
       "      <td>1</td>\n",
       "      <td>1</td>\n",
       "      <td>101348.88</td>\n",
       "      <td>1</td>\n",
       "    </tr>\n",
       "    <tr>\n",
       "      <th>1</th>\n",
       "      <td>2</td>\n",
       "      <td>15647311</td>\n",
       "      <td>Hill</td>\n",
       "      <td>608</td>\n",
       "      <td>Spain</td>\n",
       "      <td>Female</td>\n",
       "      <td>41</td>\n",
       "      <td>1.0</td>\n",
       "      <td>83807.86</td>\n",
       "      <td>1</td>\n",
       "      <td>0</td>\n",
       "      <td>1</td>\n",
       "      <td>112542.58</td>\n",
       "      <td>0</td>\n",
       "    </tr>\n",
       "    <tr>\n",
       "      <th>2</th>\n",
       "      <td>3</td>\n",
       "      <td>15619304</td>\n",
       "      <td>Onio</td>\n",
       "      <td>502</td>\n",
       "      <td>France</td>\n",
       "      <td>Female</td>\n",
       "      <td>42</td>\n",
       "      <td>8.0</td>\n",
       "      <td>159660.80</td>\n",
       "      <td>3</td>\n",
       "      <td>1</td>\n",
       "      <td>0</td>\n",
       "      <td>113931.57</td>\n",
       "      <td>1</td>\n",
       "    </tr>\n",
       "    <tr>\n",
       "      <th>3</th>\n",
       "      <td>4</td>\n",
       "      <td>15701354</td>\n",
       "      <td>Boni</td>\n",
       "      <td>699</td>\n",
       "      <td>France</td>\n",
       "      <td>Female</td>\n",
       "      <td>39</td>\n",
       "      <td>1.0</td>\n",
       "      <td>0.00</td>\n",
       "      <td>2</td>\n",
       "      <td>0</td>\n",
       "      <td>0</td>\n",
       "      <td>93826.63</td>\n",
       "      <td>0</td>\n",
       "    </tr>\n",
       "    <tr>\n",
       "      <th>4</th>\n",
       "      <td>5</td>\n",
       "      <td>15737888</td>\n",
       "      <td>Mitchell</td>\n",
       "      <td>850</td>\n",
       "      <td>Spain</td>\n",
       "      <td>Female</td>\n",
       "      <td>43</td>\n",
       "      <td>2.0</td>\n",
       "      <td>125510.82</td>\n",
       "      <td>1</td>\n",
       "      <td>1</td>\n",
       "      <td>1</td>\n",
       "      <td>79084.10</td>\n",
       "      <td>0</td>\n",
       "    </tr>\n",
       "    <tr>\n",
       "      <th>5</th>\n",
       "      <td>6</td>\n",
       "      <td>15574012</td>\n",
       "      <td>Chu</td>\n",
       "      <td>645</td>\n",
       "      <td>Spain</td>\n",
       "      <td>Male</td>\n",
       "      <td>44</td>\n",
       "      <td>8.0</td>\n",
       "      <td>113755.78</td>\n",
       "      <td>2</td>\n",
       "      <td>1</td>\n",
       "      <td>0</td>\n",
       "      <td>149756.71</td>\n",
       "      <td>1</td>\n",
       "    </tr>\n",
       "    <tr>\n",
       "      <th>6</th>\n",
       "      <td>7</td>\n",
       "      <td>15592531</td>\n",
       "      <td>Bartlett</td>\n",
       "      <td>822</td>\n",
       "      <td>France</td>\n",
       "      <td>Male</td>\n",
       "      <td>50</td>\n",
       "      <td>7.0</td>\n",
       "      <td>0.00</td>\n",
       "      <td>2</td>\n",
       "      <td>1</td>\n",
       "      <td>1</td>\n",
       "      <td>10062.80</td>\n",
       "      <td>0</td>\n",
       "    </tr>\n",
       "    <tr>\n",
       "      <th>7</th>\n",
       "      <td>8</td>\n",
       "      <td>15656148</td>\n",
       "      <td>Obinna</td>\n",
       "      <td>376</td>\n",
       "      <td>Germany</td>\n",
       "      <td>Female</td>\n",
       "      <td>29</td>\n",
       "      <td>4.0</td>\n",
       "      <td>115046.74</td>\n",
       "      <td>4</td>\n",
       "      <td>1</td>\n",
       "      <td>0</td>\n",
       "      <td>119346.88</td>\n",
       "      <td>1</td>\n",
       "    </tr>\n",
       "    <tr>\n",
       "      <th>8</th>\n",
       "      <td>9</td>\n",
       "      <td>15792365</td>\n",
       "      <td>He</td>\n",
       "      <td>501</td>\n",
       "      <td>France</td>\n",
       "      <td>Male</td>\n",
       "      <td>44</td>\n",
       "      <td>4.0</td>\n",
       "      <td>142051.07</td>\n",
       "      <td>2</td>\n",
       "      <td>0</td>\n",
       "      <td>1</td>\n",
       "      <td>74940.50</td>\n",
       "      <td>0</td>\n",
       "    </tr>\n",
       "    <tr>\n",
       "      <th>9</th>\n",
       "      <td>10</td>\n",
       "      <td>15592389</td>\n",
       "      <td>H?</td>\n",
       "      <td>684</td>\n",
       "      <td>France</td>\n",
       "      <td>Male</td>\n",
       "      <td>27</td>\n",
       "      <td>2.0</td>\n",
       "      <td>134603.88</td>\n",
       "      <td>1</td>\n",
       "      <td>1</td>\n",
       "      <td>1</td>\n",
       "      <td>71725.73</td>\n",
       "      <td>0</td>\n",
       "    </tr>\n",
       "    <tr>\n",
       "      <th>10</th>\n",
       "      <td>11</td>\n",
       "      <td>15767821</td>\n",
       "      <td>Bearce</td>\n",
       "      <td>528</td>\n",
       "      <td>France</td>\n",
       "      <td>Male</td>\n",
       "      <td>31</td>\n",
       "      <td>6.0</td>\n",
       "      <td>102016.72</td>\n",
       "      <td>2</td>\n",
       "      <td>0</td>\n",
       "      <td>0</td>\n",
       "      <td>80181.12</td>\n",
       "      <td>0</td>\n",
       "    </tr>\n",
       "    <tr>\n",
       "      <th>11</th>\n",
       "      <td>12</td>\n",
       "      <td>15737173</td>\n",
       "      <td>Andrews</td>\n",
       "      <td>497</td>\n",
       "      <td>Spain</td>\n",
       "      <td>Male</td>\n",
       "      <td>24</td>\n",
       "      <td>3.0</td>\n",
       "      <td>0.00</td>\n",
       "      <td>2</td>\n",
       "      <td>1</td>\n",
       "      <td>0</td>\n",
       "      <td>76390.01</td>\n",
       "      <td>0</td>\n",
       "    </tr>\n",
       "    <tr>\n",
       "      <th>12</th>\n",
       "      <td>13</td>\n",
       "      <td>15632264</td>\n",
       "      <td>Kay</td>\n",
       "      <td>476</td>\n",
       "      <td>France</td>\n",
       "      <td>Female</td>\n",
       "      <td>34</td>\n",
       "      <td>10.0</td>\n",
       "      <td>0.00</td>\n",
       "      <td>2</td>\n",
       "      <td>1</td>\n",
       "      <td>0</td>\n",
       "      <td>26260.98</td>\n",
       "      <td>0</td>\n",
       "    </tr>\n",
       "    <tr>\n",
       "      <th>13</th>\n",
       "      <td>14</td>\n",
       "      <td>15691483</td>\n",
       "      <td>Chin</td>\n",
       "      <td>549</td>\n",
       "      <td>France</td>\n",
       "      <td>Female</td>\n",
       "      <td>25</td>\n",
       "      <td>5.0</td>\n",
       "      <td>0.00</td>\n",
       "      <td>2</td>\n",
       "      <td>0</td>\n",
       "      <td>0</td>\n",
       "      <td>190857.79</td>\n",
       "      <td>0</td>\n",
       "    </tr>\n",
       "    <tr>\n",
       "      <th>14</th>\n",
       "      <td>15</td>\n",
       "      <td>15600882</td>\n",
       "      <td>Scott</td>\n",
       "      <td>635</td>\n",
       "      <td>Spain</td>\n",
       "      <td>Female</td>\n",
       "      <td>35</td>\n",
       "      <td>7.0</td>\n",
       "      <td>0.00</td>\n",
       "      <td>2</td>\n",
       "      <td>1</td>\n",
       "      <td>1</td>\n",
       "      <td>65951.65</td>\n",
       "      <td>0</td>\n",
       "    </tr>\n",
       "  </tbody>\n",
       "</table>\n",
       "</div>"
      ],
      "text/plain": [
       "    RowNumber  CustomerId   Surname  CreditScore Geography  Gender  Age  \\\n",
       "0           1    15634602  Hargrave          619    France  Female   42   \n",
       "1           2    15647311      Hill          608     Spain  Female   41   \n",
       "2           3    15619304      Onio          502    France  Female   42   \n",
       "3           4    15701354      Boni          699    France  Female   39   \n",
       "4           5    15737888  Mitchell          850     Spain  Female   43   \n",
       "5           6    15574012       Chu          645     Spain    Male   44   \n",
       "6           7    15592531  Bartlett          822    France    Male   50   \n",
       "7           8    15656148    Obinna          376   Germany  Female   29   \n",
       "8           9    15792365        He          501    France    Male   44   \n",
       "9          10    15592389        H?          684    France    Male   27   \n",
       "10         11    15767821    Bearce          528    France    Male   31   \n",
       "11         12    15737173   Andrews          497     Spain    Male   24   \n",
       "12         13    15632264       Kay          476    France  Female   34   \n",
       "13         14    15691483      Chin          549    France  Female   25   \n",
       "14         15    15600882     Scott          635     Spain  Female   35   \n",
       "\n",
       "    Tenure    Balance  NumOfProducts  HasCrCard  IsActiveMember  \\\n",
       "0      2.0       0.00              1          1               1   \n",
       "1      1.0   83807.86              1          0               1   \n",
       "2      8.0  159660.80              3          1               0   \n",
       "3      1.0       0.00              2          0               0   \n",
       "4      2.0  125510.82              1          1               1   \n",
       "5      8.0  113755.78              2          1               0   \n",
       "6      7.0       0.00              2          1               1   \n",
       "7      4.0  115046.74              4          1               0   \n",
       "8      4.0  142051.07              2          0               1   \n",
       "9      2.0  134603.88              1          1               1   \n",
       "10     6.0  102016.72              2          0               0   \n",
       "11     3.0       0.00              2          1               0   \n",
       "12    10.0       0.00              2          1               0   \n",
       "13     5.0       0.00              2          0               0   \n",
       "14     7.0       0.00              2          1               1   \n",
       "\n",
       "    EstimatedSalary  Exited  \n",
       "0         101348.88       1  \n",
       "1         112542.58       0  \n",
       "2         113931.57       1  \n",
       "3          93826.63       0  \n",
       "4          79084.10       0  \n",
       "5         149756.71       1  \n",
       "6          10062.80       0  \n",
       "7         119346.88       1  \n",
       "8          74940.50       0  \n",
       "9          71725.73       0  \n",
       "10         80181.12       0  \n",
       "11         76390.01       0  \n",
       "12         26260.98       0  \n",
       "13        190857.79       0  \n",
       "14         65951.65       0  "
      ]
     },
     "execution_count": 12,
     "metadata": {},
     "output_type": "execute_result"
    }
   ],
   "source": [
    "#вывод первых 15 строк\n",
    "df.head(15)"
   ]
  },
  {
   "cell_type": "markdown",
   "metadata": {},
   "source": [
    "При рассмотрении первых строк в глаза не бросаются какие-то аномалии."
   ]
  },
  {
   "cell_type": "markdown",
   "metadata": {},
   "source": [
    "Целью исследования является изучение оттока клиентов. Можно предположить, что столбцы RowNumber, CustomerId, Surname не являются решающими и можно их удалить для облегчения расчётов, а также для того, чтобы не пришлось преобразовывать в численные значения Surname (Фамилии)"
   ]
  },
  {
   "cell_type": "code",
   "execution_count": 13,
   "metadata": {},
   "outputs": [
    {
     "data": {
      "text/html": [
       "<div>\n",
       "<style scoped>\n",
       "    .dataframe tbody tr th:only-of-type {\n",
       "        vertical-align: middle;\n",
       "    }\n",
       "\n",
       "    .dataframe tbody tr th {\n",
       "        vertical-align: top;\n",
       "    }\n",
       "\n",
       "    .dataframe thead th {\n",
       "        text-align: right;\n",
       "    }\n",
       "</style>\n",
       "<table border=\"1\" class=\"dataframe\">\n",
       "  <thead>\n",
       "    <tr style=\"text-align: right;\">\n",
       "      <th></th>\n",
       "      <th>CreditScore</th>\n",
       "      <th>Geography</th>\n",
       "      <th>Gender</th>\n",
       "      <th>Age</th>\n",
       "      <th>Tenure</th>\n",
       "      <th>Balance</th>\n",
       "      <th>NumOfProducts</th>\n",
       "      <th>HasCrCard</th>\n",
       "      <th>IsActiveMember</th>\n",
       "      <th>EstimatedSalary</th>\n",
       "      <th>Exited</th>\n",
       "    </tr>\n",
       "  </thead>\n",
       "  <tbody>\n",
       "    <tr>\n",
       "      <th>0</th>\n",
       "      <td>619</td>\n",
       "      <td>France</td>\n",
       "      <td>Female</td>\n",
       "      <td>42</td>\n",
       "      <td>2.0</td>\n",
       "      <td>0.00</td>\n",
       "      <td>1</td>\n",
       "      <td>1</td>\n",
       "      <td>1</td>\n",
       "      <td>101348.88</td>\n",
       "      <td>1</td>\n",
       "    </tr>\n",
       "    <tr>\n",
       "      <th>1</th>\n",
       "      <td>608</td>\n",
       "      <td>Spain</td>\n",
       "      <td>Female</td>\n",
       "      <td>41</td>\n",
       "      <td>1.0</td>\n",
       "      <td>83807.86</td>\n",
       "      <td>1</td>\n",
       "      <td>0</td>\n",
       "      <td>1</td>\n",
       "      <td>112542.58</td>\n",
       "      <td>0</td>\n",
       "    </tr>\n",
       "    <tr>\n",
       "      <th>2</th>\n",
       "      <td>502</td>\n",
       "      <td>France</td>\n",
       "      <td>Female</td>\n",
       "      <td>42</td>\n",
       "      <td>8.0</td>\n",
       "      <td>159660.80</td>\n",
       "      <td>3</td>\n",
       "      <td>1</td>\n",
       "      <td>0</td>\n",
       "      <td>113931.57</td>\n",
       "      <td>1</td>\n",
       "    </tr>\n",
       "    <tr>\n",
       "      <th>3</th>\n",
       "      <td>699</td>\n",
       "      <td>France</td>\n",
       "      <td>Female</td>\n",
       "      <td>39</td>\n",
       "      <td>1.0</td>\n",
       "      <td>0.00</td>\n",
       "      <td>2</td>\n",
       "      <td>0</td>\n",
       "      <td>0</td>\n",
       "      <td>93826.63</td>\n",
       "      <td>0</td>\n",
       "    </tr>\n",
       "    <tr>\n",
       "      <th>4</th>\n",
       "      <td>850</td>\n",
       "      <td>Spain</td>\n",
       "      <td>Female</td>\n",
       "      <td>43</td>\n",
       "      <td>2.0</td>\n",
       "      <td>125510.82</td>\n",
       "      <td>1</td>\n",
       "      <td>1</td>\n",
       "      <td>1</td>\n",
       "      <td>79084.10</td>\n",
       "      <td>0</td>\n",
       "    </tr>\n",
       "  </tbody>\n",
       "</table>\n",
       "</div>"
      ],
      "text/plain": [
       "   CreditScore Geography  Gender  Age  Tenure    Balance  NumOfProducts  \\\n",
       "0          619    France  Female   42     2.0       0.00              1   \n",
       "1          608     Spain  Female   41     1.0   83807.86              1   \n",
       "2          502    France  Female   42     8.0  159660.80              3   \n",
       "3          699    France  Female   39     1.0       0.00              2   \n",
       "4          850     Spain  Female   43     2.0  125510.82              1   \n",
       "\n",
       "   HasCrCard  IsActiveMember  EstimatedSalary  Exited  \n",
       "0          1               1        101348.88       1  \n",
       "1          0               1        112542.58       0  \n",
       "2          1               0        113931.57       1  \n",
       "3          0               0         93826.63       0  \n",
       "4          1               1         79084.10       0  "
      ]
     },
     "execution_count": 13,
     "metadata": {},
     "output_type": "execute_result"
    }
   ],
   "source": [
    "#исключение столбцов\n",
    "df=df.drop(['RowNumber','CustomerId','Surname'] , axis=1)\n",
    "df.head()"
   ]
  },
  {
   "cell_type": "markdown",
   "metadata": {},
   "source": [
    "Теперь можно приступить к преобразованию категориальных переменных (Столбцы **Geography, Gender**) в численные методом прямого кодирования."
   ]
  },
  {
   "cell_type": "code",
   "execution_count": 14,
   "metadata": {},
   "outputs": [
    {
     "data": {
      "text/html": [
       "<div>\n",
       "<style scoped>\n",
       "    .dataframe tbody tr th:only-of-type {\n",
       "        vertical-align: middle;\n",
       "    }\n",
       "\n",
       "    .dataframe tbody tr th {\n",
       "        vertical-align: top;\n",
       "    }\n",
       "\n",
       "    .dataframe thead th {\n",
       "        text-align: right;\n",
       "    }\n",
       "</style>\n",
       "<table border=\"1\" class=\"dataframe\">\n",
       "  <thead>\n",
       "    <tr style=\"text-align: right;\">\n",
       "      <th></th>\n",
       "      <th>CreditScore</th>\n",
       "      <th>Age</th>\n",
       "      <th>Tenure</th>\n",
       "      <th>Balance</th>\n",
       "      <th>NumOfProducts</th>\n",
       "      <th>HasCrCard</th>\n",
       "      <th>IsActiveMember</th>\n",
       "      <th>EstimatedSalary</th>\n",
       "      <th>Exited</th>\n",
       "      <th>Geography_France</th>\n",
       "      <th>Geography_Germany</th>\n",
       "      <th>Geography_Spain</th>\n",
       "      <th>Gender_Female</th>\n",
       "      <th>Gender_Male</th>\n",
       "    </tr>\n",
       "  </thead>\n",
       "  <tbody>\n",
       "    <tr>\n",
       "      <th>0</th>\n",
       "      <td>619</td>\n",
       "      <td>42</td>\n",
       "      <td>2.0</td>\n",
       "      <td>0.00</td>\n",
       "      <td>1</td>\n",
       "      <td>1</td>\n",
       "      <td>1</td>\n",
       "      <td>101348.88</td>\n",
       "      <td>1</td>\n",
       "      <td>1</td>\n",
       "      <td>0</td>\n",
       "      <td>0</td>\n",
       "      <td>1</td>\n",
       "      <td>0</td>\n",
       "    </tr>\n",
       "    <tr>\n",
       "      <th>1</th>\n",
       "      <td>608</td>\n",
       "      <td>41</td>\n",
       "      <td>1.0</td>\n",
       "      <td>83807.86</td>\n",
       "      <td>1</td>\n",
       "      <td>0</td>\n",
       "      <td>1</td>\n",
       "      <td>112542.58</td>\n",
       "      <td>0</td>\n",
       "      <td>0</td>\n",
       "      <td>0</td>\n",
       "      <td>1</td>\n",
       "      <td>1</td>\n",
       "      <td>0</td>\n",
       "    </tr>\n",
       "    <tr>\n",
       "      <th>2</th>\n",
       "      <td>502</td>\n",
       "      <td>42</td>\n",
       "      <td>8.0</td>\n",
       "      <td>159660.80</td>\n",
       "      <td>3</td>\n",
       "      <td>1</td>\n",
       "      <td>0</td>\n",
       "      <td>113931.57</td>\n",
       "      <td>1</td>\n",
       "      <td>1</td>\n",
       "      <td>0</td>\n",
       "      <td>0</td>\n",
       "      <td>1</td>\n",
       "      <td>0</td>\n",
       "    </tr>\n",
       "    <tr>\n",
       "      <th>3</th>\n",
       "      <td>699</td>\n",
       "      <td>39</td>\n",
       "      <td>1.0</td>\n",
       "      <td>0.00</td>\n",
       "      <td>2</td>\n",
       "      <td>0</td>\n",
       "      <td>0</td>\n",
       "      <td>93826.63</td>\n",
       "      <td>0</td>\n",
       "      <td>1</td>\n",
       "      <td>0</td>\n",
       "      <td>0</td>\n",
       "      <td>1</td>\n",
       "      <td>0</td>\n",
       "    </tr>\n",
       "    <tr>\n",
       "      <th>4</th>\n",
       "      <td>850</td>\n",
       "      <td>43</td>\n",
       "      <td>2.0</td>\n",
       "      <td>125510.82</td>\n",
       "      <td>1</td>\n",
       "      <td>1</td>\n",
       "      <td>1</td>\n",
       "      <td>79084.10</td>\n",
       "      <td>0</td>\n",
       "      <td>0</td>\n",
       "      <td>0</td>\n",
       "      <td>1</td>\n",
       "      <td>1</td>\n",
       "      <td>0</td>\n",
       "    </tr>\n",
       "  </tbody>\n",
       "</table>\n",
       "</div>"
      ],
      "text/plain": [
       "   CreditScore  Age  Tenure    Balance  NumOfProducts  HasCrCard  \\\n",
       "0          619   42     2.0       0.00              1          1   \n",
       "1          608   41     1.0   83807.86              1          0   \n",
       "2          502   42     8.0  159660.80              3          1   \n",
       "3          699   39     1.0       0.00              2          0   \n",
       "4          850   43     2.0  125510.82              1          1   \n",
       "\n",
       "   IsActiveMember  EstimatedSalary  Exited  Geography_France  \\\n",
       "0               1        101348.88       1                 1   \n",
       "1               1        112542.58       0                 0   \n",
       "2               0        113931.57       1                 1   \n",
       "3               0         93826.63       0                 1   \n",
       "4               1         79084.10       0                 0   \n",
       "\n",
       "   Geography_Germany  Geography_Spain  Gender_Female  Gender_Male  \n",
       "0                  0                0              1            0  \n",
       "1                  0                1              1            0  \n",
       "2                  0                0              1            0  \n",
       "3                  0                0              1            0  \n",
       "4                  0                1              1            0  "
      ]
     },
     "execution_count": 14,
     "metadata": {},
     "output_type": "execute_result"
    }
   ],
   "source": [
    "#применение метода прямого кодирования\n",
    "df=pd.get_dummies(df,prefix=['Geography','Gender'])\n",
    "df.head()"
   ]
  },
  {
   "cell_type": "markdown",
   "metadata": {},
   "source": [
    "## Исследование задачи"
   ]
  },
  {
   "cell_type": "markdown",
   "metadata": {},
   "source": [
    "### Исследование баланса классов"
   ]
  },
  {
   "cell_type": "markdown",
   "metadata": {},
   "source": [
    "Рассмотрим соотношение классов по столбцу Balance:"
   ]
  },
  {
   "cell_type": "code",
   "execution_count": 15,
   "metadata": {},
   "outputs": [
    {
     "data": {
      "text/plain": [
       "Exited\n",
       "0    7963\n",
       "1    2037\n",
       "Name: Balance, dtype: int64"
      ]
     },
     "execution_count": 15,
     "metadata": {},
     "output_type": "execute_result"
    }
   ],
   "source": [
    "df.groupby('Exited').count()['Balance']"
   ]
  },
  {
   "cell_type": "code",
   "execution_count": 16,
   "metadata": {},
   "outputs": [
    {
     "data": {
      "image/png": "[encoded data removed]",
      "text/plain": [
       "<Figure size 432x288 with 1 Axes>"
      ]
     },
     "metadata": {
      "needs_background": "light"
     },
     "output_type": "display_data"
    }
   ],
   "source": [
    "df.groupby('Exited').count()['Balance'].plot.bar(title='Соотношение клиентов, покинувших банк(1), и тех, кто остался(0)');"
   ]
  },
  {
   "cell_type": "markdown",
   "metadata": {},
   "source": [
    "Как видно, существует дисбаланс классов: число ушедших клиентов в 4 раза меньше, чем число тех, кто остался. Обучим модель без учёта дисбаланса и оценим результаты."
   ]
  },
  {
   "cell_type": "code",
   "execution_count": 17,
   "metadata": {},
   "outputs": [],
   "source": [
    "#разделение выборок на обучающую, валидацоинную и тестовую в соотношении 60:20:20\n",
    "target = df['Exited']\n",
    "features = df.drop(['Exited'] , axis=1)\n",
    "features_train, features_validtest, target_train, target_validtest = train_test_split(\n",
    "    features, target, train_size=0.6, random_state=RS,stratify=target)\n",
    "\n",
    "features_valid,features_test,target_valid,target_test=train_test_split(\n",
    "features_validtest,target_validtest,train_size=0.5,random_state=RS,stratify=target_validtest)\n",
    "\n",
    "#сохраняем перечень численных признаков\n",
    "numeric = ['CreditScore', 'Age', 'Tenure', 'Balance', 'NumOfProducts', 'EstimatedSalary']\n",
    "\n",
    "#обучение инструмента масштабирования\n",
    "scaler=StandardScaler()\n",
    "scaler.fit(features_train[numeric])\n",
    "\n",
    "#масштабирование численных признаков\n",
    "features_train[numeric]=scaler.transform(features_train[numeric])\n",
    "features_valid[numeric]=scaler.transform(features_valid[numeric])\n",
    "features_test[numeric]=scaler.transform(features_test[numeric])"
   ]
  },
  {
   "cell_type": "code",
   "execution_count": 18,
   "metadata": {},
   "outputs": [],
   "source": [
    "#Создание списков результатов для разных моделей для наглядного вывода результатов\n",
    "#Название модели\n",
    "model_name=[]\n",
    "#название метода эксперимента\n",
    "method_name=[]\n",
    "#f1-мера\n",
    "model_f1_res=[]\n",
    "#AUC-ROC\n",
    "model_AR_res=[]"
   ]
  },
  {
   "cell_type": "markdown",
   "metadata": {},
   "source": [
    "Обучение модели логистической регрессии"
   ]
  },
  {
   "cell_type": "code",
   "execution_count": 19,
   "metadata": {
    "scrolled": true
   },
   "outputs": [
    {
     "name": "stdout",
     "output_type": "stream",
     "text": [
      "F1-мера: 0.3107861060329068\n",
      "AUC-ROC: 0.787502155384767\n"
     ]
    }
   ],
   "source": [
    "model_1=LogisticRegression(random_state=RS)\n",
    "model_1.fit(features_train,target_train)\n",
    "model_1_f1=f1_score(target_valid,model_1.predict(features_valid))\n",
    "probabilities_valid = model_1.predict_proba(features_valid)\n",
    "probabilities_one_valid = probabilities_valid[:, 1]\n",
    "model_1_AR=roc_auc_score(target_valid,probabilities_one_valid)\n",
    "print('F1-мера:',model_1_f1)\n",
    "print('AUC-ROC:',model_1_AR)\n",
    "\n",
    "#запись результатов для итоговой таблицы\n",
    "model_name.append('Логистическая регрессия')\n",
    "method_name.append('Без баланса')\n",
    "model_f1_res.append(model_1_f1)\n",
    "model_AR_res.append(model_1_AR)"
   ]
  },
  {
   "cell_type": "markdown",
   "metadata": {},
   "source": [
    "Вывод: для модели линейной регрессии для несбалансированных классов и стандартных гиперпараметров F1-мера равняется 0.30, а метрика AUC-ROC 0.79"
   ]
  },
  {
   "cell_type": "markdown",
   "metadata": {},
   "source": [
    "Обучение модели дерева решений"
   ]
  },
  {
   "cell_type": "code",
   "execution_count": 20,
   "metadata": {},
   "outputs": [
    {
     "name": "stdout",
     "output_type": "stream",
     "text": [
      "F1-мера: 0.5197604790419162\n",
      "AUC-ROC: 0.6999765986796729\n"
     ]
    }
   ],
   "source": [
    "model_2=DecisionTreeClassifier(random_state=RS)\n",
    "model_2.fit(features_train,target_train)\n",
    "model_2_f1=f1_score(target_valid,model_2.predict(features_valid))\n",
    "probabilities_valid = model_2.predict_proba(features_valid)\n",
    "probabilities_one_valid = probabilities_valid[:, 1]\n",
    "model_2_AR=roc_auc_score(target_valid,probabilities_one_valid)\n",
    "print('F1-мера:',model_2_f1)\n",
    "print('AUC-ROC:',model_2_AR)\n",
    "\n",
    "#запись результатов для итоговой таблицы\n",
    "model_name.append('Дерево решений')\n",
    "method_name.append('Без баланса')\n",
    "model_f1_res.append(model_2_f1)\n",
    "model_AR_res.append(model_2_AR)"
   ]
  },
  {
   "cell_type": "markdown",
   "metadata": {},
   "source": [
    "Вывод: для модели дерева решений для несбалансированных классов и стандартных гиперпараметров F1-мера равняется 0.52, а метрика AUC-ROC 0.70"
   ]
  },
  {
   "cell_type": "markdown",
   "metadata": {},
   "source": [
    "Обучение модели случайного леса"
   ]
  },
  {
   "cell_type": "code",
   "execution_count": 21,
   "metadata": {},
   "outputs": [
    {
     "name": "stdout",
     "output_type": "stream",
     "text": [
      "F1-мера: 0.6228070175438597\n",
      "AUC-ROC: 0.8601971253325451\n"
     ]
    }
   ],
   "source": [
    "model_3=RandomForestClassifier(random_state=RS)\n",
    "model_3.fit(features_train,target_train)\n",
    "model_3_f1=f1_score(target_valid,model_3.predict(features_valid))\n",
    "probabilities_valid = model_3.predict_proba(features_valid)\n",
    "probabilities_one_valid = probabilities_valid[:, 1]\n",
    "model_3_AR=roc_auc_score(target_valid,probabilities_one_valid)\n",
    "print('F1-мера:',model_3_f1)\n",
    "print('AUC-ROC:',model_3_AR)\n",
    "\n",
    "#запись результатов для итоговой таблицы\n",
    "model_name.append('Случайный лес')\n",
    "method_name.append('Без баланса')\n",
    "model_f1_res.append(model_3_f1)\n",
    "model_AR_res.append(model_3_AR)"
   ]
  },
  {
   "cell_type": "markdown",
   "metadata": {},
   "source": [
    "Вывод: для модели случайного леса для несбалансированных классов и стандартных гиперпараметров F1-мера равняется 0.59, а метрика AUC-ROC 0.86"
   ]
  },
  {
   "cell_type": "code",
   "execution_count": 22,
   "metadata": {},
   "outputs": [
    {
     "data": {
      "text/html": [
       "<div>\n",
       "<style scoped>\n",
       "    .dataframe tbody tr th:only-of-type {\n",
       "        vertical-align: middle;\n",
       "    }\n",
       "\n",
       "    .dataframe tbody tr th {\n",
       "        vertical-align: top;\n",
       "    }\n",
       "\n",
       "    .dataframe thead th {\n",
       "        text-align: right;\n",
       "    }\n",
       "</style>\n",
       "<table border=\"1\" class=\"dataframe\">\n",
       "  <thead>\n",
       "    <tr style=\"text-align: right;\">\n",
       "      <th></th>\n",
       "      <th>модель</th>\n",
       "      <th>метод</th>\n",
       "      <th>F1-мера</th>\n",
       "      <th>AUC-ROC</th>\n",
       "    </tr>\n",
       "  </thead>\n",
       "  <tbody>\n",
       "    <tr>\n",
       "      <th>0</th>\n",
       "      <td>Логистическая регрессия</td>\n",
       "      <td>Без баланса</td>\n",
       "      <td>0.310786</td>\n",
       "      <td>0.787502</td>\n",
       "    </tr>\n",
       "    <tr>\n",
       "      <th>1</th>\n",
       "      <td>Дерево решений</td>\n",
       "      <td>Без баланса</td>\n",
       "      <td>0.519760</td>\n",
       "      <td>0.699977</td>\n",
       "    </tr>\n",
       "    <tr>\n",
       "      <th>2</th>\n",
       "      <td>Случайный лес</td>\n",
       "      <td>Без баланса</td>\n",
       "      <td>0.622807</td>\n",
       "      <td>0.860197</td>\n",
       "    </tr>\n",
       "  </tbody>\n",
       "</table>\n",
       "</div>"
      ],
      "text/plain": [
       "                    модель        метод   F1-мера   AUC-ROC\n",
       "0  Логистическая регрессия  Без баланса  0.310786  0.787502\n",
       "1           Дерево решений  Без баланса  0.519760  0.699977\n",
       "2            Случайный лес  Без баланса  0.622807  0.860197"
      ]
     },
     "execution_count": 22,
     "metadata": {},
     "output_type": "execute_result"
    }
   ],
   "source": [
    "#Вывод сравнительных результатов\n",
    "results=pd.DataFrame({'модель':model_name,'метод':method_name,'F1-мера':model_f1_res,'AUC-ROC':model_AR_res})\n",
    "results"
   ]
  },
  {
   "cell_type": "markdown",
   "metadata": {},
   "source": [
    "**Вывод по моделям общий для несбалансированных классов:** Наибольшие значения метрик F1-меры и AUC-ROC показывает модель случайного леса. Попробуем устранить дисбаланс классов."
   ]
  },
  {
   "cell_type": "markdown",
   "metadata": {},
   "source": [
    "## Борьба с дисбалансом"
   ]
  },
  {
   "cell_type": "markdown",
   "metadata": {},
   "source": [
    "Попробуем перебрать различные методы балансирования классов: взвешивание классов, увеличение выборки, уменьшение выборки и изменение порога для всех трёх моделей."
   ]
  },
  {
   "cell_type": "markdown",
   "metadata": {},
   "source": [
    "### Взвешивание классов"
   ]
  },
  {
   "cell_type": "markdown",
   "metadata": {},
   "source": [
    "Обучение модели логистической регрессии"
   ]
  },
  {
   "cell_type": "code",
   "execution_count": 23,
   "metadata": {
    "scrolled": true
   },
   "outputs": [
    {
     "name": "stdout",
     "output_type": "stream",
     "text": [
      "F1-мера: 0.5294635004397538\n",
      "AUC-ROC: 0.793697347029264\n"
     ]
    }
   ],
   "source": [
    "model_1=LogisticRegression(random_state=RS, solver='liblinear', class_weight='balanced')\n",
    "model_1.fit(features_train,target_train)\n",
    "model_1_f1=f1_score(target_valid,model_1.predict(features_valid))\n",
    "probabilities_valid = model_1.predict_proba(features_valid)\n",
    "probabilities_one_valid = probabilities_valid[:, 1]\n",
    "model_1_AR=roc_auc_score(target_valid,probabilities_one_valid)\n",
    "print('F1-мера:',model_1_f1)\n",
    "print('AUC-ROC:',model_1_AR)\n",
    "\n",
    "#запись результатов для итоговой таблицы\n",
    "model_name.append('Логистическая регрессия')\n",
    "method_name.append('Взвешивание')\n",
    "model_f1_res.append(model_1_f1)\n",
    "model_AR_res.append(model_1_AR)"
   ]
  },
  {
   "cell_type": "markdown",
   "metadata": {},
   "source": [
    "Обучение модели дерева решений"
   ]
  },
  {
   "cell_type": "code",
   "execution_count": 24,
   "metadata": {},
   "outputs": [
    {
     "name": "stdout",
     "output_type": "stream",
     "text": [
      "F1-мера: 0.5297691373025515\n",
      "AUC-ROC: 0.7052850034486156\n"
     ]
    }
   ],
   "source": [
    "model_2=DecisionTreeClassifier(random_state=RS, class_weight='balanced')\n",
    "model_2.fit(features_train,target_train)\n",
    "model_2_f1=f1_score(target_valid,model_2.predict(features_valid))\n",
    "probabilities_valid = model_2.predict_proba(features_valid)\n",
    "probabilities_one_valid = probabilities_valid[:, 1]\n",
    "model_2_AR=roc_auc_score(target_valid,probabilities_one_valid)\n",
    "print('F1-мера:',model_2_f1)\n",
    "print('AUC-ROC:',model_2_AR)\n",
    "\n",
    "#запись результатов для итоговой таблицы\n",
    "model_name.append('Дерево решений')\n",
    "method_name.append('Взвешивание')\n",
    "model_f1_res.append(model_2_f1)\n",
    "model_AR_res.append(model_2_AR)"
   ]
  },
  {
   "cell_type": "markdown",
   "metadata": {},
   "source": [
    "Обучение модели случайного леса"
   ]
  },
  {
   "cell_type": "code",
   "execution_count": 25,
   "metadata": {
    "scrolled": true
   },
   "outputs": [
    {
     "name": "stdout",
     "output_type": "stream",
     "text": [
      "F1-мера: 0.5927051671732523\n",
      "AUC-ROC: 0.862166223273229\n"
     ]
    }
   ],
   "source": [
    "model_3=RandomForestClassifier(random_state=RS,class_weight='balanced')\n",
    "model_3.fit(features_train,target_train)\n",
    "model_3_f1=f1_score(target_valid,model_3.predict(features_valid))\n",
    "probabilities_valid = model_3.predict_proba(features_valid)\n",
    "probabilities_one_valid = probabilities_valid[:, 1]\n",
    "model_3_AR=roc_auc_score(target_valid,probabilities_one_valid)\n",
    "print('F1-мера:',model_3_f1)\n",
    "print('AUC-ROC:',model_3_AR)\n",
    "\n",
    "#запись результатов для итоговой таблицы\n",
    "model_name.append('Случайный лес')\n",
    "method_name.append('Взвешивание')\n",
    "model_f1_res.append(model_3_f1)\n",
    "model_AR_res.append(model_3_AR)"
   ]
  },
  {
   "cell_type": "code",
   "execution_count": 26,
   "metadata": {
    "scrolled": true
   },
   "outputs": [
    {
     "data": {
      "text/html": [
       "<div>\n",
       "<style scoped>\n",
       "    .dataframe tbody tr th:only-of-type {\n",
       "        vertical-align: middle;\n",
       "    }\n",
       "\n",
       "    .dataframe tbody tr th {\n",
       "        vertical-align: top;\n",
       "    }\n",
       "\n",
       "    .dataframe thead th {\n",
       "        text-align: right;\n",
       "    }\n",
       "</style>\n",
       "<table border=\"1\" class=\"dataframe\">\n",
       "  <thead>\n",
       "    <tr style=\"text-align: right;\">\n",
       "      <th></th>\n",
       "      <th>модель</th>\n",
       "      <th>метод</th>\n",
       "      <th>F1-мера</th>\n",
       "      <th>AUC-ROC</th>\n",
       "    </tr>\n",
       "  </thead>\n",
       "  <tbody>\n",
       "    <tr>\n",
       "      <th>0</th>\n",
       "      <td>Логистическая регрессия</td>\n",
       "      <td>Без баланса</td>\n",
       "      <td>0.310786</td>\n",
       "      <td>0.787502</td>\n",
       "    </tr>\n",
       "    <tr>\n",
       "      <th>1</th>\n",
       "      <td>Дерево решений</td>\n",
       "      <td>Без баланса</td>\n",
       "      <td>0.519760</td>\n",
       "      <td>0.699977</td>\n",
       "    </tr>\n",
       "    <tr>\n",
       "      <th>2</th>\n",
       "      <td>Случайный лес</td>\n",
       "      <td>Без баланса</td>\n",
       "      <td>0.622807</td>\n",
       "      <td>0.860197</td>\n",
       "    </tr>\n",
       "    <tr>\n",
       "      <th>3</th>\n",
       "      <td>Логистическая регрессия</td>\n",
       "      <td>Взвешивание</td>\n",
       "      <td>0.529464</td>\n",
       "      <td>0.793697</td>\n",
       "    </tr>\n",
       "    <tr>\n",
       "      <th>4</th>\n",
       "      <td>Дерево решений</td>\n",
       "      <td>Взвешивание</td>\n",
       "      <td>0.529769</td>\n",
       "      <td>0.705285</td>\n",
       "    </tr>\n",
       "    <tr>\n",
       "      <th>5</th>\n",
       "      <td>Случайный лес</td>\n",
       "      <td>Взвешивание</td>\n",
       "      <td>0.592705</td>\n",
       "      <td>0.862166</td>\n",
       "    </tr>\n",
       "  </tbody>\n",
       "</table>\n",
       "</div>"
      ],
      "text/plain": [
       "                    модель        метод   F1-мера   AUC-ROC\n",
       "0  Логистическая регрессия  Без баланса  0.310786  0.787502\n",
       "1           Дерево решений  Без баланса  0.519760  0.699977\n",
       "2            Случайный лес  Без баланса  0.622807  0.860197\n",
       "3  Логистическая регрессия  Взвешивание  0.529464  0.793697\n",
       "4           Дерево решений  Взвешивание  0.529769  0.705285\n",
       "5            Случайный лес  Взвешивание  0.592705  0.862166"
      ]
     },
     "execution_count": 26,
     "metadata": {},
     "output_type": "execute_result"
    }
   ],
   "source": [
    "#Вывод сравнительных результатов\n",
    "results=pd.DataFrame({'модель':model_name,'метод':method_name,'F1-мера':model_f1_res,'AUC-ROC':model_AR_res})\n",
    "results"
   ]
  },
  {
   "cell_type": "markdown",
   "metadata": {},
   "source": [
    "**Вывод по моделям общий для сбалансированных классов методом взвешвания:** Интересное наблюдение: увеличение F1-меры и метрики AUC-ROC произошло в случае модели логистической регрессии, тогда как для моделей дерева решений и случайного леса результаты незначительно, но ухудшились"
   ]
  },
  {
   "cell_type": "markdown",
   "metadata": {},
   "source": [
    "### Увеличение выборки"
   ]
  },
  {
   "cell_type": "markdown",
   "metadata": {},
   "source": [
    "Для увеличения выборки создадим функцию upsample, которая будет получать в качестве аргументов признаки, целевые признаки, количество повторений (копий) с дублированием признаков для target==1."
   ]
  },
  {
   "cell_type": "code",
   "execution_count": 27,
   "metadata": {},
   "outputs": [],
   "source": [
    "#создание функции upsample\n",
    "def upsample(features,target,repeat):\n",
    "    features_zeros=features[target==0] #делим данные по целевому признаку 0 или 1\n",
    "    features_ones=features[target==1]\n",
    "    target_zeros=target[target==0]\n",
    "    target_ones=target[target==1]\n",
    "    \n",
    "    features_upsampled=pd.concat([features_zeros]+[features_ones]*repeat) #увеличиваем число строк с признаками где целевой признак=1\n",
    "    target_upsampled=pd.concat([target_zeros]+[target_ones]*repeat) #увеличиваем число строк с целевым признаком=1\n",
    "    \n",
    "    features_upsampled,target_upsampled=shuffle(\n",
    "    features_upsampled,target_upsampled,random_state=RS) #перемешиваем строки\n",
    "    \n",
    "    return features_upsampled,target_upsampled   "
   ]
  },
  {
   "cell_type": "markdown",
   "metadata": {},
   "source": [
    "Увеличиваем обучающую выборку. Дисбаланс классов имеет соотношение 4:1. Есть смысл увеличить класс с ушедшими клиентами банка в 4 раза:"
   ]
  },
  {
   "cell_type": "code",
   "execution_count": 28,
   "metadata": {
    "scrolled": false
   },
   "outputs": [
    {
     "data": {
      "text/plain": [
       "0.5056900475894889"
      ]
     },
     "execution_count": 28,
     "metadata": {},
     "output_type": "execute_result"
    }
   ],
   "source": [
    "features_upsampled,target_upsampled=upsample(features_train,target_train,4)\n",
    "#проверка соотношения классов\n",
    "target_upsampled.mean()"
   ]
  },
  {
   "cell_type": "markdown",
   "metadata": {},
   "source": [
    "**Теперь проверим на различных моделях** "
   ]
  },
  {
   "cell_type": "markdown",
   "metadata": {},
   "source": [
    "Обучение модели логистической регрессии"
   ]
  },
  {
   "cell_type": "code",
   "execution_count": 29,
   "metadata": {
    "scrolled": true
   },
   "outputs": [
    {
     "name": "stdout",
     "output_type": "stream",
     "text": [
      "F1-мера: 0.5242214532871973\n",
      "AUC-ROC: 0.7937589294511775\n"
     ]
    }
   ],
   "source": [
    "model_1=LogisticRegression(random_state=RS, solver='liblinear')\n",
    "model_1.fit(features_upsampled,target_upsampled)\n",
    "model_1_f1=f1_score(target_valid,model_1.predict(features_valid))\n",
    "probabilities_valid = model_1.predict_proba(features_valid)\n",
    "probabilities_one_valid = probabilities_valid[:, 1]\n",
    "model_1_AR=roc_auc_score(target_valid,probabilities_one_valid)\n",
    "print('F1-мера:',model_1_f1)\n",
    "print('AUC-ROC:',model_1_AR)\n",
    "\n",
    "#запись результатов для итоговой таблицы\n",
    "model_name.append('Логистическая регрессия')\n",
    "method_name.append('Увеличение выборки')\n",
    "model_f1_res.append(model_1_f1)\n",
    "model_AR_res.append(model_1_AR)"
   ]
  },
  {
   "cell_type": "markdown",
   "metadata": {},
   "source": [
    "Обучение модели дерева решений"
   ]
  },
  {
   "cell_type": "code",
   "execution_count": 30,
   "metadata": {},
   "outputs": [
    {
     "name": "stdout",
     "output_type": "stream",
     "text": [
      "F1-мера: 0.5122549019607843\n",
      "AUC-ROC: 0.6936274509803921\n"
     ]
    }
   ],
   "source": [
    "model_2=DecisionTreeClassifier(random_state=RS)\n",
    "model_2.fit(features_upsampled,target_upsampled)\n",
    "model_2_f1=f1_score(target_valid,model_2.predict(features_valid))\n",
    "probabilities_valid = model_2.predict_proba(features_valid)\n",
    "probabilities_one_valid = probabilities_valid[:, 1]\n",
    "model_2_AR=roc_auc_score(target_valid,probabilities_one_valid)\n",
    "print('F1-мера:',model_2_f1)\n",
    "print('AUC-ROC:',model_2_AR)\n",
    "\n",
    "#запись результатов для итоговой таблицы\n",
    "model_name.append('Дерево решений')\n",
    "method_name.append('Увеличение выборки')\n",
    "model_f1_res.append(model_2_f1)\n",
    "model_AR_res.append(model_2_AR)"
   ]
  },
  {
   "cell_type": "markdown",
   "metadata": {},
   "source": [
    "Обучение модели случайного леса"
   ]
  },
  {
   "cell_type": "code",
   "execution_count": 31,
   "metadata": {
    "scrolled": true
   },
   "outputs": [
    {
     "name": "stdout",
     "output_type": "stream",
     "text": [
      "F1-мера: 0.6205059920106524\n",
      "AUC-ROC: 0.8610746748448124\n"
     ]
    }
   ],
   "source": [
    "model_3=RandomForestClassifier(random_state=RS)\n",
    "model_3.fit(features_upsampled,target_upsampled)\n",
    "model_3_f1=f1_score(target_valid,model_3.predict(features_valid))\n",
    "probabilities_valid = model_3.predict_proba(features_valid)\n",
    "probabilities_one_valid = probabilities_valid[:, 1]\n",
    "model_3_AR=roc_auc_score(target_valid,probabilities_one_valid)\n",
    "print('F1-мера:',model_3_f1)\n",
    "print('AUC-ROC:',model_3_AR)\n",
    "\n",
    "#запись результатов для итоговой таблицы\n",
    "model_name.append('Случайный лес')\n",
    "method_name.append('Увеличение выборки')\n",
    "model_f1_res.append(model_3_f1)\n",
    "model_AR_res.append(model_3_AR)"
   ]
  },
  {
   "cell_type": "code",
   "execution_count": 32,
   "metadata": {
    "scrolled": true
   },
   "outputs": [
    {
     "data": {
      "text/html": [
       "<div>\n",
       "<style scoped>\n",
       "    .dataframe tbody tr th:only-of-type {\n",
       "        vertical-align: middle;\n",
       "    }\n",
       "\n",
       "    .dataframe tbody tr th {\n",
       "        vertical-align: top;\n",
       "    }\n",
       "\n",
       "    .dataframe thead th {\n",
       "        text-align: right;\n",
       "    }\n",
       "</style>\n",
       "<table border=\"1\" class=\"dataframe\">\n",
       "  <thead>\n",
       "    <tr style=\"text-align: right;\">\n",
       "      <th></th>\n",
       "      <th>модель</th>\n",
       "      <th>метод</th>\n",
       "      <th>F1-мера</th>\n",
       "      <th>AUC-ROC</th>\n",
       "    </tr>\n",
       "  </thead>\n",
       "  <tbody>\n",
       "    <tr>\n",
       "      <th>0</th>\n",
       "      <td>Логистическая регрессия</td>\n",
       "      <td>Без баланса</td>\n",
       "      <td>0.310786</td>\n",
       "      <td>0.787502</td>\n",
       "    </tr>\n",
       "    <tr>\n",
       "      <th>1</th>\n",
       "      <td>Дерево решений</td>\n",
       "      <td>Без баланса</td>\n",
       "      <td>0.519760</td>\n",
       "      <td>0.699977</td>\n",
       "    </tr>\n",
       "    <tr>\n",
       "      <th>2</th>\n",
       "      <td>Случайный лес</td>\n",
       "      <td>Без баланса</td>\n",
       "      <td>0.622807</td>\n",
       "      <td>0.860197</td>\n",
       "    </tr>\n",
       "    <tr>\n",
       "      <th>3</th>\n",
       "      <td>Логистическая регрессия</td>\n",
       "      <td>Взвешивание</td>\n",
       "      <td>0.529464</td>\n",
       "      <td>0.793697</td>\n",
       "    </tr>\n",
       "    <tr>\n",
       "      <th>4</th>\n",
       "      <td>Дерево решений</td>\n",
       "      <td>Взвешивание</td>\n",
       "      <td>0.529769</td>\n",
       "      <td>0.705285</td>\n",
       "    </tr>\n",
       "    <tr>\n",
       "      <th>5</th>\n",
       "      <td>Случайный лес</td>\n",
       "      <td>Взвешивание</td>\n",
       "      <td>0.592705</td>\n",
       "      <td>0.862166</td>\n",
       "    </tr>\n",
       "    <tr>\n",
       "      <th>6</th>\n",
       "      <td>Логистическая регрессия</td>\n",
       "      <td>Увеличение выборки</td>\n",
       "      <td>0.524221</td>\n",
       "      <td>0.793759</td>\n",
       "    </tr>\n",
       "    <tr>\n",
       "      <th>7</th>\n",
       "      <td>Дерево решений</td>\n",
       "      <td>Увеличение выборки</td>\n",
       "      <td>0.512255</td>\n",
       "      <td>0.693627</td>\n",
       "    </tr>\n",
       "    <tr>\n",
       "      <th>8</th>\n",
       "      <td>Случайный лес</td>\n",
       "      <td>Увеличение выборки</td>\n",
       "      <td>0.620506</td>\n",
       "      <td>0.861075</td>\n",
       "    </tr>\n",
       "  </tbody>\n",
       "</table>\n",
       "</div>"
      ],
      "text/plain": [
       "                    модель               метод   F1-мера   AUC-ROC\n",
       "0  Логистическая регрессия         Без баланса  0.310786  0.787502\n",
       "1           Дерево решений         Без баланса  0.519760  0.699977\n",
       "2            Случайный лес         Без баланса  0.622807  0.860197\n",
       "3  Логистическая регрессия         Взвешивание  0.529464  0.793697\n",
       "4           Дерево решений         Взвешивание  0.529769  0.705285\n",
       "5            Случайный лес         Взвешивание  0.592705  0.862166\n",
       "6  Логистическая регрессия  Увеличение выборки  0.524221  0.793759\n",
       "7           Дерево решений  Увеличение выборки  0.512255  0.693627\n",
       "8            Случайный лес  Увеличение выборки  0.620506  0.861075"
      ]
     },
     "execution_count": 32,
     "metadata": {},
     "output_type": "execute_result"
    }
   ],
   "source": [
    "#Вывод сравнительных результатов\n",
    "results=pd.DataFrame({'модель':model_name,'метод':method_name,'F1-мера':model_f1_res,'AUC-ROC':model_AR_res})\n",
    "results"
   ]
  },
  {
   "cell_type": "markdown",
   "metadata": {},
   "source": [
    "**Вывод по моделям общий для сбалансированных классов методом увеличения выборки:** Относительно применения метода взвешивания улучшение параметров заметно только для модели случайного леса. Для моделей логистической регрессии и дерева решений метод увеличения выборки показывает незначительно, но худшие результаты, чем для метода взвешивания."
   ]
  },
  {
   "cell_type": "markdown",
   "metadata": {},
   "source": [
    "### Уменьшение выборки"
   ]
  },
  {
   "cell_type": "markdown",
   "metadata": {},
   "source": [
    "Попробуем уменьшить размер преобладающего класса в обучающей выборке. Для этого создадим функцию downsample и уменьшим в 4 раза количество строк с клиентами, не ушедшими из банка."
   ]
  },
  {
   "cell_type": "code",
   "execution_count": 33,
   "metadata": {},
   "outputs": [
    {
     "data": {
      "text/plain": [
       "0.5056900475894889"
      ]
     },
     "execution_count": 33,
     "metadata": {},
     "output_type": "execute_result"
    }
   ],
   "source": [
    "#Создание функции downsample\n",
    "def downsample(features, target, fraction):\n",
    "    features_zeros = features[target == 0]\n",
    "    features_ones = features[target == 1]\n",
    "    target_zeros = target[target == 0]\n",
    "    target_ones = target[target == 1]\n",
    "\n",
    "    features_downsampled = pd.concat(\n",
    "        [features_zeros.sample(frac=fraction, random_state=RS)] + [features_ones])\n",
    "    target_downsampled = pd.concat(\n",
    "        [target_zeros.sample(frac=fraction, random_state=RS)] + [target_ones])\n",
    "    \n",
    "    features_downsampled, target_downsampled = shuffle(\n",
    "        features_downsampled, target_downsampled, random_state=RS)\n",
    "    \n",
    "    return features_downsampled, target_downsampled\n",
    "\n",
    "#применение функции к увеличенному классу\n",
    "features_downsampled, target_downsampled = downsample(features_train, target_train, 0.25)\n",
    "#проверка соотношения классов\n",
    "target_upsampled.mean()"
   ]
  },
  {
   "cell_type": "markdown",
   "metadata": {},
   "source": [
    "**Теперь проверим на различных моделях** "
   ]
  },
  {
   "cell_type": "markdown",
   "metadata": {},
   "source": [
    "Обучение модели логистической регрессии"
   ]
  },
  {
   "cell_type": "code",
   "execution_count": 34,
   "metadata": {
    "scrolled": true
   },
   "outputs": [
    {
     "name": "stdout",
     "output_type": "stream",
     "text": [
      "F1-мера: 0.5275862068965517\n",
      "AUC-ROC: 0.7926997117942653\n"
     ]
    }
   ],
   "source": [
    "model_1=LogisticRegression(random_state=RS, solver='liblinear')\n",
    "model_1.fit(features_downsampled,target_downsampled)\n",
    "model_1_f1=f1_score(target_valid,model_1.predict(features_valid))\n",
    "probabilities_valid = model_1.predict_proba(features_valid)\n",
    "probabilities_one_valid = probabilities_valid[:, 1]\n",
    "model_1_AR=roc_auc_score(target_valid,probabilities_one_valid)\n",
    "print('F1-мера:',model_1_f1)\n",
    "print('AUC-ROC:',model_1_AR)\n",
    "\n",
    "#запись результатов для итоговой таблицы\n",
    "model_name.append('Логистическая регрессия')\n",
    "method_name.append('Уменьшение выборки')\n",
    "model_f1_res.append(model_1_f1)\n",
    "model_AR_res.append(model_1_AR)"
   ]
  },
  {
   "cell_type": "markdown",
   "metadata": {},
   "source": [
    "Обучение модели дерева решений"
   ]
  },
  {
   "cell_type": "code",
   "execution_count": 35,
   "metadata": {},
   "outputs": [
    {
     "name": "stdout",
     "output_type": "stream",
     "text": [
      "F1-мера: 0.5016611295681064\n",
      "AUC-ROC: 0.714947285446842\n"
     ]
    }
   ],
   "source": [
    "model_2=DecisionTreeClassifier(random_state=RS)\n",
    "model_2.fit(features_downsampled,target_downsampled)\n",
    "model_2_f1=f1_score(target_valid,model_2.predict(features_valid))\n",
    "probabilities_valid = model_2.predict_proba(features_valid)\n",
    "probabilities_one_valid = probabilities_valid[:, 1]\n",
    "model_2_AR=roc_auc_score(target_valid,probabilities_one_valid)\n",
    "print('F1-мера:',model_2_f1)\n",
    "print('AUC-ROC:',model_2_AR)\n",
    "\n",
    "#запись результатов для итоговой таблицы\n",
    "model_name.append('Дерево решений')\n",
    "method_name.append('Уменьшение выборки')\n",
    "model_f1_res.append(model_2_f1)\n",
    "model_AR_res.append(model_2_AR)"
   ]
  },
  {
   "cell_type": "markdown",
   "metadata": {},
   "source": [
    "Обучение модели случайного леса"
   ]
  },
  {
   "cell_type": "code",
   "execution_count": 36,
   "metadata": {
    "scrolled": true
   },
   "outputs": [
    {
     "name": "stdout",
     "output_type": "stream",
     "text": [
      "F1-мера: 0.6022304832713754\n",
      "AUC-ROC: 0.8536316693762933\n"
     ]
    }
   ],
   "source": [
    "model_3=RandomForestClassifier(random_state=RS)\n",
    "model_3.fit(features_downsampled,target_downsampled)\n",
    "model_3_f1=f1_score(target_valid,model_3.predict(features_valid))\n",
    "probabilities_valid = model_3.predict_proba(features_valid)\n",
    "probabilities_one_valid = probabilities_valid[:, 1]\n",
    "model_3_AR=roc_auc_score(target_valid,probabilities_one_valid)\n",
    "print('F1-мера:',model_3_f1)\n",
    "print('AUC-ROC:',model_3_AR)\n",
    "\n",
    "#запись результатов для итоговой таблицы\n",
    "model_name.append('Случайный лес')\n",
    "method_name.append('Уменьшение выборки')\n",
    "model_f1_res.append(model_3_f1)\n",
    "model_AR_res.append(model_3_AR)"
   ]
  },
  {
   "cell_type": "code",
   "execution_count": 37,
   "metadata": {
    "scrolled": true
   },
   "outputs": [
    {
     "data": {
      "text/html": [
       "<div>\n",
       "<style scoped>\n",
       "    .dataframe tbody tr th:only-of-type {\n",
       "        vertical-align: middle;\n",
       "    }\n",
       "\n",
       "    .dataframe tbody tr th {\n",
       "        vertical-align: top;\n",
       "    }\n",
       "\n",
       "    .dataframe thead th {\n",
       "        text-align: right;\n",
       "    }\n",
       "</style>\n",
       "<table border=\"1\" class=\"dataframe\">\n",
       "  <thead>\n",
       "    <tr style=\"text-align: right;\">\n",
       "      <th></th>\n",
       "      <th>модель</th>\n",
       "      <th>метод</th>\n",
       "      <th>F1-мера</th>\n",
       "      <th>AUC-ROC</th>\n",
       "    </tr>\n",
       "  </thead>\n",
       "  <tbody>\n",
       "    <tr>\n",
       "      <th>0</th>\n",
       "      <td>Логистическая регрессия</td>\n",
       "      <td>Без баланса</td>\n",
       "      <td>0.310786</td>\n",
       "      <td>0.787502</td>\n",
       "    </tr>\n",
       "    <tr>\n",
       "      <th>1</th>\n",
       "      <td>Дерево решений</td>\n",
       "      <td>Без баланса</td>\n",
       "      <td>0.519760</td>\n",
       "      <td>0.699977</td>\n",
       "    </tr>\n",
       "    <tr>\n",
       "      <th>2</th>\n",
       "      <td>Случайный лес</td>\n",
       "      <td>Без баланса</td>\n",
       "      <td>0.622807</td>\n",
       "      <td>0.860197</td>\n",
       "    </tr>\n",
       "    <tr>\n",
       "      <th>3</th>\n",
       "      <td>Логистическая регрессия</td>\n",
       "      <td>Взвешивание</td>\n",
       "      <td>0.529464</td>\n",
       "      <td>0.793697</td>\n",
       "    </tr>\n",
       "    <tr>\n",
       "      <th>4</th>\n",
       "      <td>Дерево решений</td>\n",
       "      <td>Взвешивание</td>\n",
       "      <td>0.529769</td>\n",
       "      <td>0.705285</td>\n",
       "    </tr>\n",
       "    <tr>\n",
       "      <th>5</th>\n",
       "      <td>Случайный лес</td>\n",
       "      <td>Взвешивание</td>\n",
       "      <td>0.592705</td>\n",
       "      <td>0.862166</td>\n",
       "    </tr>\n",
       "    <tr>\n",
       "      <th>6</th>\n",
       "      <td>Логистическая регрессия</td>\n",
       "      <td>Увеличение выборки</td>\n",
       "      <td>0.524221</td>\n",
       "      <td>0.793759</td>\n",
       "    </tr>\n",
       "    <tr>\n",
       "      <th>7</th>\n",
       "      <td>Дерево решений</td>\n",
       "      <td>Увеличение выборки</td>\n",
       "      <td>0.512255</td>\n",
       "      <td>0.693627</td>\n",
       "    </tr>\n",
       "    <tr>\n",
       "      <th>8</th>\n",
       "      <td>Случайный лес</td>\n",
       "      <td>Увеличение выборки</td>\n",
       "      <td>0.620506</td>\n",
       "      <td>0.861075</td>\n",
       "    </tr>\n",
       "    <tr>\n",
       "      <th>9</th>\n",
       "      <td>Логистическая регрессия</td>\n",
       "      <td>Уменьшение выборки</td>\n",
       "      <td>0.527586</td>\n",
       "      <td>0.792700</td>\n",
       "    </tr>\n",
       "    <tr>\n",
       "      <th>10</th>\n",
       "      <td>Дерево решений</td>\n",
       "      <td>Уменьшение выборки</td>\n",
       "      <td>0.501661</td>\n",
       "      <td>0.714947</td>\n",
       "    </tr>\n",
       "    <tr>\n",
       "      <th>11</th>\n",
       "      <td>Случайный лес</td>\n",
       "      <td>Уменьшение выборки</td>\n",
       "      <td>0.602230</td>\n",
       "      <td>0.853632</td>\n",
       "    </tr>\n",
       "  </tbody>\n",
       "</table>\n",
       "</div>"
      ],
      "text/plain": [
       "                     модель               метод   F1-мера   AUC-ROC\n",
       "0   Логистическая регрессия         Без баланса  0.310786  0.787502\n",
       "1            Дерево решений         Без баланса  0.519760  0.699977\n",
       "2             Случайный лес         Без баланса  0.622807  0.860197\n",
       "3   Логистическая регрессия         Взвешивание  0.529464  0.793697\n",
       "4            Дерево решений         Взвешивание  0.529769  0.705285\n",
       "5             Случайный лес         Взвешивание  0.592705  0.862166\n",
       "6   Логистическая регрессия  Увеличение выборки  0.524221  0.793759\n",
       "7            Дерево решений  Увеличение выборки  0.512255  0.693627\n",
       "8             Случайный лес  Увеличение выборки  0.620506  0.861075\n",
       "9   Логистическая регрессия  Уменьшение выборки  0.527586  0.792700\n",
       "10           Дерево решений  Уменьшение выборки  0.501661  0.714947\n",
       "11            Случайный лес  Уменьшение выборки  0.602230  0.853632"
      ]
     },
     "execution_count": 37,
     "metadata": {},
     "output_type": "execute_result"
    }
   ],
   "source": [
    "#Вывод сравнительных результатов\n",
    "results=pd.DataFrame({'модель':model_name,'метод':method_name,'F1-мера':model_f1_res,'AUC-ROC':model_AR_res})\n",
    "results"
   ]
  },
  {
   "cell_type": "markdown",
   "metadata": {},
   "source": [
    "**Вывод по моделям общий для сбалансированных классов методом уменьшения выборки:** Относительно предыдущего метода балансирования классов (увеличение выборки) для наиболее перспективной модели случайного леса результат f1-меры отличается незначительно, но AUC-ROC принимает наибольшее значение."
   ]
  },
  {
   "cell_type": "markdown",
   "metadata": {},
   "source": [
    "### Изменение порога"
   ]
  },
  {
   "cell_type": "markdown",
   "metadata": {},
   "source": [
    "Рассмотрим f1-меру и значение AUC-ROC для разных значений порога для всех моделей:"
   ]
  },
  {
   "cell_type": "markdown",
   "metadata": {},
   "source": [
    "Обучение модели логистической регрессии"
   ]
  },
  {
   "cell_type": "code",
   "execution_count": 38,
   "metadata": {
    "scrolled": true
   },
   "outputs": [
    {
     "name": "stdout",
     "output_type": "stream",
     "text": [
      "порог: 0.23\n",
      "F1-мера: 0.5265116279069767\n",
      "AUC-ROC: 0.7875021553847669\n",
      "\n"
     ]
    }
   ],
   "source": [
    "#обучение модели\n",
    "model_1=LogisticRegression(random_state=RS, solver='liblinear')\n",
    "model_1.fit(features_train,target_train)\n",
    "probabilities_valid=model_1.predict_proba(features_valid)\n",
    "probabilities_one_valid=probabilities_valid[:,1]\n",
    "\n",
    "#переменные для записи максимальных значений по f1-мере\n",
    "treshold_max=0\n",
    "model_1_f1_max=0\n",
    "model_1_AR_max=0\n",
    "\n",
    "#цикл для поиска максимальной f1-меры в зависимости от разных значений порога\n",
    "for threshold in np.arange(0,0.5,0.01):\n",
    "    predicted_valid=probabilities_one_valid>threshold\n",
    "    model_1_f1=f1_score(target_valid,predicted_valid)\n",
    "    probabilities_valid = model_1.predict_proba(features_valid)\n",
    "    probabilities_one_valid = probabilities_valid[:, 1]\n",
    "    model_1_AR=roc_auc_score(target_valid,probabilities_one_valid)\n",
    "    if model_1_f1>model_1_f1_max:\n",
    "        treshold_max=threshold\n",
    "        model_1_f1_max=model_1_f1\n",
    "        model_1_AR_max=model_1_AR\n",
    "        \n",
    "#вывод значения максимального по f1_мере:        \n",
    "print('порог:',treshold_max)\n",
    "print('F1-мера:',model_1_f1_max)\n",
    "print('AUC-ROC:',model_1_AR_max)\n",
    "print('')\n",
    "\n",
    "#запись результатов для итоговой таблицы\n",
    "model_name.append('Логистическая регрессия')\n",
    "method_name.append('Изменение порога')\n",
    "model_f1_res.append(model_1_f1_max)\n",
    "model_AR_res.append(model_1_AR_max)"
   ]
  },
  {
   "cell_type": "markdown",
   "metadata": {},
   "source": [
    "Обучение модели дерева решений"
   ]
  },
  {
   "cell_type": "code",
   "execution_count": 39,
   "metadata": {},
   "outputs": [
    {
     "name": "stdout",
     "output_type": "stream",
     "text": [
      "порог: 0.0\n",
      "F1-мера: 0.5197604790419162\n",
      "AUC-ROC: 0.6999765986796729\n",
      "\n"
     ]
    }
   ],
   "source": [
    "#обучение модели\n",
    "model_2=DecisionTreeClassifier(random_state=RS)\n",
    "model_2.fit(features_train,target_train)\n",
    "probabilities_valid=model_2.predict_proba(features_valid)\n",
    "probabilities_one_valid=probabilities_valid[:,1]\n",
    "\n",
    "#переменные для записи максимальных значений по f1-мере\n",
    "treshold_max=0\n",
    "model_2_f1_max=0\n",
    "model_2_AR_max=0\n",
    "\n",
    "#цикл для поиска максимальной f1-меры в зависимости от разных значений порога\n",
    "for threshold in np.arange(0,0.5,0.01):\n",
    "    predicted_valid=probabilities_one_valid>threshold\n",
    "    model_2_f1=f1_score(target_valid,predicted_valid)\n",
    "    probabilities_valid = model_2.predict_proba(features_valid)\n",
    "    probabilities_one_valid = probabilities_valid[:, 1]\n",
    "    model_2_AR=roc_auc_score(target_valid,probabilities_one_valid)\n",
    "    if model_2_f1>model_2_f1_max:\n",
    "        treshold_max=threshold\n",
    "        model_2_f1_max=model_2_f1\n",
    "        model_2_AR_max=model_2_AR\n",
    "        \n",
    "#вывод значения максимального по f1_мере:        \n",
    "print('порог:',treshold_max)\n",
    "print('F1-мера:',model_2_f1_max)\n",
    "print('AUC-ROC:',model_2_AR_max)\n",
    "print('')\n",
    "\n",
    "#запись результатов для итоговой таблицы\n",
    "model_name.append('Дерево решений')\n",
    "method_name.append('Изменение порога')\n",
    "model_f1_res.append(model_2_f1_max)\n",
    "model_AR_res.append(model_2_AR_max)"
   ]
  },
  {
   "cell_type": "markdown",
   "metadata": {},
   "source": [
    "Обучение модели случайного леса"
   ]
  },
  {
   "cell_type": "code",
   "execution_count": 40,
   "metadata": {
    "scrolled": true
   },
   "outputs": [
    {
     "name": "stdout",
     "output_type": "stream",
     "text": [
      "порог: 0.41000000000000003\n",
      "F1-мера: 0.642570281124498\n",
      "AUC-ROC: 0.8601971253325451\n"
     ]
    }
   ],
   "source": [
    "#обучение модели\n",
    "model_3=RandomForestClassifier(random_state=RS)\n",
    "model_3.fit(features_train,target_train)\n",
    "probabilities_valid=model_3.predict_proba(features_valid)\n",
    "probabilities_one_valid=probabilities_valid[:,1]\n",
    "\n",
    "#переменные для записи максимальных значений по f1-мере\n",
    "treshold_max=0\n",
    "model_3_f1_max=0\n",
    "model_3_AR_max=0\n",
    "\n",
    "#цикл для поиска максимальной f1-меры в зависимости от разных значений порога\n",
    "for threshold in np.arange(0,0.45,0.01):\n",
    "    predicted_valid=probabilities_one_valid>threshold\n",
    "    model_3_f1=f1_score(target_valid,predicted_valid)\n",
    "    probabilities_valid = model_3.predict_proba(features_valid)\n",
    "    probabilities_one_valid = probabilities_valid[:, 1]\n",
    "    model_3_AR=roc_auc_score(target_valid,probabilities_one_valid)\n",
    "    if model_3_f1>model_3_f1_max:\n",
    "        treshold_max=threshold\n",
    "        model_3_f1_max=model_3_f1\n",
    "        model_3_AR_max=model_3_AR\n",
    "        \n",
    "#вывод значения максимального по f1_мере:        \n",
    "print('порог:',treshold_max)\n",
    "print('F1-мера:',model_3_f1_max)\n",
    "print('AUC-ROC:',model_3_AR_max)\n",
    "\n",
    "\n",
    "#запись результатов для итоговой таблицы\n",
    "model_name.append('Случайный лес')\n",
    "method_name.append('Изменение порога')\n",
    "model_f1_res.append(model_3_f1_max)\n",
    "model_AR_res.append(model_3_AR_max)"
   ]
  },
  {
   "cell_type": "markdown",
   "metadata": {},
   "source": [
    "### Результаты на валидационной выборке\n",
    "\n",
    "Выведем полученные результаты по всем экспериментам:"
   ]
  },
  {
   "cell_type": "code",
   "execution_count": 41,
   "metadata": {
    "scrolled": false
   },
   "outputs": [
    {
     "data": {
      "text/html": [
       "<div>\n",
       "<style scoped>\n",
       "    .dataframe tbody tr th:only-of-type {\n",
       "        vertical-align: middle;\n",
       "    }\n",
       "\n",
       "    .dataframe tbody tr th {\n",
       "        vertical-align: top;\n",
       "    }\n",
       "\n",
       "    .dataframe thead th {\n",
       "        text-align: right;\n",
       "    }\n",
       "</style>\n",
       "<table border=\"1\" class=\"dataframe\">\n",
       "  <thead>\n",
       "    <tr style=\"text-align: right;\">\n",
       "      <th></th>\n",
       "      <th>модель</th>\n",
       "      <th>метод</th>\n",
       "      <th>F1-мера</th>\n",
       "      <th>AUC-ROC</th>\n",
       "    </tr>\n",
       "  </thead>\n",
       "  <tbody>\n",
       "    <tr>\n",
       "      <th>0</th>\n",
       "      <td>Логистическая регрессия</td>\n",
       "      <td>Без баланса</td>\n",
       "      <td>0.310786</td>\n",
       "      <td>0.787502</td>\n",
       "    </tr>\n",
       "    <tr>\n",
       "      <th>1</th>\n",
       "      <td>Дерево решений</td>\n",
       "      <td>Без баланса</td>\n",
       "      <td>0.519760</td>\n",
       "      <td>0.699977</td>\n",
       "    </tr>\n",
       "    <tr>\n",
       "      <th>2</th>\n",
       "      <td>Случайный лес</td>\n",
       "      <td>Без баланса</td>\n",
       "      <td>0.622807</td>\n",
       "      <td>0.860197</td>\n",
       "    </tr>\n",
       "    <tr>\n",
       "      <th>3</th>\n",
       "      <td>Логистическая регрессия</td>\n",
       "      <td>Взвешивание</td>\n",
       "      <td>0.529464</td>\n",
       "      <td>0.793697</td>\n",
       "    </tr>\n",
       "    <tr>\n",
       "      <th>4</th>\n",
       "      <td>Дерево решений</td>\n",
       "      <td>Взвешивание</td>\n",
       "      <td>0.529769</td>\n",
       "      <td>0.705285</td>\n",
       "    </tr>\n",
       "    <tr>\n",
       "      <th>5</th>\n",
       "      <td>Случайный лес</td>\n",
       "      <td>Взвешивание</td>\n",
       "      <td>0.592705</td>\n",
       "      <td>0.862166</td>\n",
       "    </tr>\n",
       "    <tr>\n",
       "      <th>6</th>\n",
       "      <td>Логистическая регрессия</td>\n",
       "      <td>Увеличение выборки</td>\n",
       "      <td>0.524221</td>\n",
       "      <td>0.793759</td>\n",
       "    </tr>\n",
       "    <tr>\n",
       "      <th>7</th>\n",
       "      <td>Дерево решений</td>\n",
       "      <td>Увеличение выборки</td>\n",
       "      <td>0.512255</td>\n",
       "      <td>0.693627</td>\n",
       "    </tr>\n",
       "    <tr>\n",
       "      <th>8</th>\n",
       "      <td>Случайный лес</td>\n",
       "      <td>Увеличение выборки</td>\n",
       "      <td>0.620506</td>\n",
       "      <td>0.861075</td>\n",
       "    </tr>\n",
       "    <tr>\n",
       "      <th>9</th>\n",
       "      <td>Логистическая регрессия</td>\n",
       "      <td>Уменьшение выборки</td>\n",
       "      <td>0.527586</td>\n",
       "      <td>0.792700</td>\n",
       "    </tr>\n",
       "    <tr>\n",
       "      <th>10</th>\n",
       "      <td>Дерево решений</td>\n",
       "      <td>Уменьшение выборки</td>\n",
       "      <td>0.501661</td>\n",
       "      <td>0.714947</td>\n",
       "    </tr>\n",
       "    <tr>\n",
       "      <th>11</th>\n",
       "      <td>Случайный лес</td>\n",
       "      <td>Уменьшение выборки</td>\n",
       "      <td>0.602230</td>\n",
       "      <td>0.853632</td>\n",
       "    </tr>\n",
       "    <tr>\n",
       "      <th>12</th>\n",
       "      <td>Логистическая регрессия</td>\n",
       "      <td>Изменение порога</td>\n",
       "      <td>0.526512</td>\n",
       "      <td>0.787502</td>\n",
       "    </tr>\n",
       "    <tr>\n",
       "      <th>13</th>\n",
       "      <td>Дерево решений</td>\n",
       "      <td>Изменение порога</td>\n",
       "      <td>0.519760</td>\n",
       "      <td>0.699977</td>\n",
       "    </tr>\n",
       "    <tr>\n",
       "      <th>14</th>\n",
       "      <td>Случайный лес</td>\n",
       "      <td>Изменение порога</td>\n",
       "      <td>0.642570</td>\n",
       "      <td>0.860197</td>\n",
       "    </tr>\n",
       "  </tbody>\n",
       "</table>\n",
       "</div>"
      ],
      "text/plain": [
       "                     модель               метод   F1-мера   AUC-ROC\n",
       "0   Логистическая регрессия         Без баланса  0.310786  0.787502\n",
       "1            Дерево решений         Без баланса  0.519760  0.699977\n",
       "2             Случайный лес         Без баланса  0.622807  0.860197\n",
       "3   Логистическая регрессия         Взвешивание  0.529464  0.793697\n",
       "4            Дерево решений         Взвешивание  0.529769  0.705285\n",
       "5             Случайный лес         Взвешивание  0.592705  0.862166\n",
       "6   Логистическая регрессия  Увеличение выборки  0.524221  0.793759\n",
       "7            Дерево решений  Увеличение выборки  0.512255  0.693627\n",
       "8             Случайный лес  Увеличение выборки  0.620506  0.861075\n",
       "9   Логистическая регрессия  Уменьшение выборки  0.527586  0.792700\n",
       "10           Дерево решений  Уменьшение выборки  0.501661  0.714947\n",
       "11            Случайный лес  Уменьшение выборки  0.602230  0.853632\n",
       "12  Логистическая регрессия    Изменение порога  0.526512  0.787502\n",
       "13           Дерево решений    Изменение порога  0.519760  0.699977\n",
       "14            Случайный лес    Изменение порога  0.642570  0.860197"
      ]
     },
     "execution_count": 41,
     "metadata": {},
     "output_type": "execute_result"
    }
   ],
   "source": [
    "#Вывод сравнительных результатов\n",
    "results=pd.DataFrame({'модель':model_name,'метод':method_name,'F1-мера':model_f1_res,'AUC-ROC':model_AR_res})\n",
    "results"
   ]
  },
  {
   "cell_type": "markdown",
   "metadata": {},
   "source": [
    "И в порядке убывания по f1-мере:"
   ]
  },
  {
   "cell_type": "code",
   "execution_count": 42,
   "metadata": {},
   "outputs": [
    {
     "data": {
      "text/html": [
       "<div>\n",
       "<style scoped>\n",
       "    .dataframe tbody tr th:only-of-type {\n",
       "        vertical-align: middle;\n",
       "    }\n",
       "\n",
       "    .dataframe tbody tr th {\n",
       "        vertical-align: top;\n",
       "    }\n",
       "\n",
       "    .dataframe thead th {\n",
       "        text-align: right;\n",
       "    }\n",
       "</style>\n",
       "<table border=\"1\" class=\"dataframe\">\n",
       "  <thead>\n",
       "    <tr style=\"text-align: right;\">\n",
       "      <th></th>\n",
       "      <th>модель</th>\n",
       "      <th>метод</th>\n",
       "      <th>F1-мера</th>\n",
       "      <th>AUC-ROC</th>\n",
       "    </tr>\n",
       "  </thead>\n",
       "  <tbody>\n",
       "    <tr>\n",
       "      <th>14</th>\n",
       "      <td>Случайный лес</td>\n",
       "      <td>Изменение порога</td>\n",
       "      <td>0.642570</td>\n",
       "      <td>0.860197</td>\n",
       "    </tr>\n",
       "    <tr>\n",
       "      <th>2</th>\n",
       "      <td>Случайный лес</td>\n",
       "      <td>Без баланса</td>\n",
       "      <td>0.622807</td>\n",
       "      <td>0.860197</td>\n",
       "    </tr>\n",
       "    <tr>\n",
       "      <th>8</th>\n",
       "      <td>Случайный лес</td>\n",
       "      <td>Увеличение выборки</td>\n",
       "      <td>0.620506</td>\n",
       "      <td>0.861075</td>\n",
       "    </tr>\n",
       "    <tr>\n",
       "      <th>11</th>\n",
       "      <td>Случайный лес</td>\n",
       "      <td>Уменьшение выборки</td>\n",
       "      <td>0.602230</td>\n",
       "      <td>0.853632</td>\n",
       "    </tr>\n",
       "    <tr>\n",
       "      <th>5</th>\n",
       "      <td>Случайный лес</td>\n",
       "      <td>Взвешивание</td>\n",
       "      <td>0.592705</td>\n",
       "      <td>0.862166</td>\n",
       "    </tr>\n",
       "    <tr>\n",
       "      <th>4</th>\n",
       "      <td>Дерево решений</td>\n",
       "      <td>Взвешивание</td>\n",
       "      <td>0.529769</td>\n",
       "      <td>0.705285</td>\n",
       "    </tr>\n",
       "    <tr>\n",
       "      <th>3</th>\n",
       "      <td>Логистическая регрессия</td>\n",
       "      <td>Взвешивание</td>\n",
       "      <td>0.529464</td>\n",
       "      <td>0.793697</td>\n",
       "    </tr>\n",
       "    <tr>\n",
       "      <th>9</th>\n",
       "      <td>Логистическая регрессия</td>\n",
       "      <td>Уменьшение выборки</td>\n",
       "      <td>0.527586</td>\n",
       "      <td>0.792700</td>\n",
       "    </tr>\n",
       "    <tr>\n",
       "      <th>12</th>\n",
       "      <td>Логистическая регрессия</td>\n",
       "      <td>Изменение порога</td>\n",
       "      <td>0.526512</td>\n",
       "      <td>0.787502</td>\n",
       "    </tr>\n",
       "    <tr>\n",
       "      <th>6</th>\n",
       "      <td>Логистическая регрессия</td>\n",
       "      <td>Увеличение выборки</td>\n",
       "      <td>0.524221</td>\n",
       "      <td>0.793759</td>\n",
       "    </tr>\n",
       "    <tr>\n",
       "      <th>1</th>\n",
       "      <td>Дерево решений</td>\n",
       "      <td>Без баланса</td>\n",
       "      <td>0.519760</td>\n",
       "      <td>0.699977</td>\n",
       "    </tr>\n",
       "    <tr>\n",
       "      <th>13</th>\n",
       "      <td>Дерево решений</td>\n",
       "      <td>Изменение порога</td>\n",
       "      <td>0.519760</td>\n",
       "      <td>0.699977</td>\n",
       "    </tr>\n",
       "    <tr>\n",
       "      <th>7</th>\n",
       "      <td>Дерево решений</td>\n",
       "      <td>Увеличение выборки</td>\n",
       "      <td>0.512255</td>\n",
       "      <td>0.693627</td>\n",
       "    </tr>\n",
       "    <tr>\n",
       "      <th>10</th>\n",
       "      <td>Дерево решений</td>\n",
       "      <td>Уменьшение выборки</td>\n",
       "      <td>0.501661</td>\n",
       "      <td>0.714947</td>\n",
       "    </tr>\n",
       "    <tr>\n",
       "      <th>0</th>\n",
       "      <td>Логистическая регрессия</td>\n",
       "      <td>Без баланса</td>\n",
       "      <td>0.310786</td>\n",
       "      <td>0.787502</td>\n",
       "    </tr>\n",
       "  </tbody>\n",
       "</table>\n",
       "</div>"
      ],
      "text/plain": [
       "                     модель               метод   F1-мера   AUC-ROC\n",
       "14            Случайный лес    Изменение порога  0.642570  0.860197\n",
       "2             Случайный лес         Без баланса  0.622807  0.860197\n",
       "8             Случайный лес  Увеличение выборки  0.620506  0.861075\n",
       "11            Случайный лес  Уменьшение выборки  0.602230  0.853632\n",
       "5             Случайный лес         Взвешивание  0.592705  0.862166\n",
       "4            Дерево решений         Взвешивание  0.529769  0.705285\n",
       "3   Логистическая регрессия         Взвешивание  0.529464  0.793697\n",
       "9   Логистическая регрессия  Уменьшение выборки  0.527586  0.792700\n",
       "12  Логистическая регрессия    Изменение порога  0.526512  0.787502\n",
       "6   Логистическая регрессия  Увеличение выборки  0.524221  0.793759\n",
       "1            Дерево решений         Без баланса  0.519760  0.699977\n",
       "13           Дерево решений    Изменение порога  0.519760  0.699977\n",
       "7            Дерево решений  Увеличение выборки  0.512255  0.693627\n",
       "10           Дерево решений  Уменьшение выборки  0.501661  0.714947\n",
       "0   Логистическая регрессия         Без баланса  0.310786  0.787502"
      ]
     },
     "execution_count": 42,
     "metadata": {},
     "output_type": "execute_result"
    }
   ],
   "source": [
    "results.sort_values(by='F1-мера',ascending=False)"
   ]
  },
  {
   "cell_type": "markdown",
   "metadata": {},
   "source": [
    "**Вывод:**\n",
    "\n",
    "Наивысшие показатели f1-меры - у модели случайного леса. При этом сравнивая между собой методы балнсирования классов можно заметить, что лучше всех показал себя метод **изменения порога**, **увеличение, уменьшение выборки и использование исходной несбалансированной модели** показали примерно одинаковое значение показателя, а **взвешивание** наоборот, ухудшило показания. Максимальное значение f1-меры - 0.65.\n",
    "\n",
    "Значение AUC-ROC также наивысшее у модели случайного леса с методом балансирования **изменение порога**. \n",
    "\n",
    "Стоит отметить, что метод **без балансирования** хуже всего показал себя на обучение модели методом логистической регрессии: значение f1-меры 0.3, тогда как в остальных случаях оно было мнимально 0.49. Таким образом, можно сказать, что модель логистической регрессии наиболее чувствительна к дисбалансу классов. При этом в одном случае логистическая регрессия показала себя неожиданно хорошо: при балансировании выборки методом **взвешивания** значение f1-меры было  сопоставимо с результатами модели логистической регрессии."
   ]
  },
  {
   "cell_type": "markdown",
   "metadata": {},
   "source": [
    "По результатам исследования видно, что наибольшее значение f1-меры показывает модель случайного дерева с балансированием классов путём изменения порога. Попробуем улучшить модель с помощью подбора гиперпараметров. "
   ]
  },
  {
   "cell_type": "code",
   "execution_count": 43,
   "metadata": {
    "scrolled": true
   },
   "outputs": [
    {
     "name": "stderr",
     "output_type": "stream",
     "text": [
      "100%|██████████| 2/2 [00:05<00:00,  2.69s/it]\n",
      "100%|██████████| 2/2 [00:05<00:00,  2.85s/it]\n",
      "100%|██████████| 2/2 [00:06<00:00,  3.01s/it]"
     ]
    },
    {
     "name": "stdout",
     "output_type": "stream",
     "text": [
      "F1-мера: 0.6523929471032746\n",
      "AUC-ROC: 0.7775150261109468\n",
      "max_depth: 8\n",
      "n_estimators 44\n",
      "порог: 0.32\n"
     ]
    },
    {
     "name": "stderr",
     "output_type": "stream",
     "text": [
      "\n"
     ]
    }
   ],
   "source": [
    "#обучение модели\n",
    "best_model_3=None\n",
    "best_model_3_f1=0\n",
    "best_model_3_AR=0\n",
    "best_depth=0\n",
    "best_n_estimators=0\n",
    "best_threshold=0\n",
    "\n",
    "for depth in range(8,11):\n",
    "    for estimators in tqdm(range(43,45)):\n",
    "        for threshold in np.arange(0.3,0.4,0.01):\n",
    "            model_3=RandomForestClassifier(random_state=RS,max_depth=depth, n_estimators=estimators)\n",
    "            model_3.fit(features_train,target_train)\n",
    "            probabilities_valid=model_3.predict_proba(features_valid)\n",
    "            probabilities_one_valid=probabilities_valid[:,1]\n",
    "            predicted_valid=probabilities_one_valid>threshold\n",
    "            model_3_f1=f1_score(target_valid,predicted_valid)\n",
    "            model_3_AR=roc_auc_score(target_valid,predicted_valid)\n",
    "            if model_3_f1>best_model_3_f1:\n",
    "                best_model_3=model_3\n",
    "                best_model_3_f1=model_3_f1\n",
    "                best_model_3_AR=model_3_AR\n",
    "                best_depth=depth\n",
    "                best_n_estimators=estimators  \n",
    "                best_treshold=threshold\n",
    "            \n",
    "#вывод значений:   \n",
    "print('F1-мера:',best_model_3_f1)\n",
    "print('AUC-ROC:',best_model_3_AR)\n",
    "print('max_depth:',best_depth)\n",
    "print('n_estimators',best_n_estimators)\n",
    "print('порог:',best_treshold)"
   ]
  },
  {
   "cell_type": "markdown",
   "metadata": {},
   "source": [
    "По результатам подбора гиперпараметров получено незначительное, но всё-таки увеличение f1-меры (0.665 против 0.648) и увеличение значения auc-roc (0.782 против 0.781)"
   ]
  },
  {
   "cell_type": "markdown",
   "metadata": {},
   "source": [
    "## Тестирование модели"
   ]
  },
  {
   "cell_type": "markdown",
   "metadata": {},
   "source": [
    "Приступим к проверке наилучшей модели на тестовой выборке. Напомним: лучше всего себя показала модель **случайного леса (model_3)** с изменением порога до значения 0.35, max_depth=11, n_estimators=43. Возьмём модель из предыдущего пункта best_model_3."
   ]
  },
  {
   "cell_type": "code",
   "execution_count": 44,
   "metadata": {
    "scrolled": true
   },
   "outputs": [
    {
     "name": "stdout",
     "output_type": "stream",
     "text": [
      "F1-мера: 0.5952380952380952\n",
      "AUC-ROC: 0.7374925002043645\n"
     ]
    }
   ],
   "source": [
    "#предсказание по модели best_model_3 и изменение порога \n",
    "probabilities_test=best_model_3.predict_proba(features_test)\n",
    "probabilities_one_test=probabilities_test[:,1]\n",
    "predicted_test=probabilities_one_test>best_treshold\n",
    "\n",
    "#подсчет результатов f1, auc_roc на тестовой выборке\n",
    "model_3_f1=f1_score(target_test,predicted_test)\n",
    "model_3_AR=roc_auc_score(target_test,predicted_test)\n",
    "      \n",
    "#вывод значений:   \n",
    "print('F1-мера:',model_3_f1)\n",
    "print('AUC-ROC:',model_3_AR)"
   ]
  },
  {
   "cell_type": "markdown",
   "metadata": {},
   "source": [
    "Выполнено условие о достижении значения f1-меры в 0.59."
   ]
  },
  {
   "cell_type": "markdown",
   "metadata": {},
   "source": [
    "## Вывод"
   ]
  },
  {
   "cell_type": "markdown",
   "metadata": {},
   "source": [
    "По результатам исследования различных моделей предсказания оттока клиентов банка получено следующее:\n",
    "    \n",
    "    Лучше всех на валидационной выборке себя показала модель случайного леса с балансированием классов по методу изменения порога. При этом в целом можно утверждать о том, что модель случайного леса показвыает себя лучше остальных при любом из показанных методов балансирования классов, а также без балансирования вообще.\n",
    "    \n",
    "    Худший результат без баланса классов показала модель логистической регрессии (f1-мера=0.3), хотя при выполнении баланса модель уже становится пригодной и показывает средние результаты.\n",
    "    \n",
    "    На тестовой выборке достигнуто значение f1-меры в 0.60, однако для этого необходимо было подобрать гиперпараметры модели случайного леса.\n",
    "    \n",
    "    Значения AUC-ROC для моделей ведёт себя аналогично значениям f1-меры: наибольшие значени принимают для модели случайного леса, затем - дерева решений, затем - логистической регрессии.   "
   ]
  },
  {
   "cell_type": "code",
   "execution_count": 42,
   "metadata": {},
   "outputs": [
    {
     "data": {
      "text/html": [
       "<div>\n",
       "<style scoped>\n",
       "    .dataframe tbody tr th:only-of-type {\n",
       "        vertical-align: middle;\n",
       "    }\n",
       "\n",
       "    .dataframe tbody tr th {\n",
       "        vertical-align: top;\n",
       "    }\n",
       "\n",
       "    .dataframe thead th {\n",
       "        text-align: right;\n",
       "    }\n",
       "</style>\n",
       "<table border=\"1\" class=\"dataframe\">\n",
       "  <thead>\n",
       "    <tr style=\"text-align: right;\">\n",
       "      <th></th>\n",
       "      <th>модель</th>\n",
       "      <th>метод</th>\n",
       "      <th>F1-мера</th>\n",
       "      <th>AUC-ROC</th>\n",
       "    </tr>\n",
       "  </thead>\n",
       "  <tbody>\n",
       "    <tr>\n",
       "      <th>14</th>\n",
       "      <td>Случайный лес</td>\n",
       "      <td>Изменение порога</td>\n",
       "      <td>0.642570</td>\n",
       "      <td>0.860197</td>\n",
       "    </tr>\n",
       "    <tr>\n",
       "      <th>2</th>\n",
       "      <td>Случайный лес</td>\n",
       "      <td>Без баланса</td>\n",
       "      <td>0.622807</td>\n",
       "      <td>0.860197</td>\n",
       "    </tr>\n",
       "    <tr>\n",
       "      <th>8</th>\n",
       "      <td>Случайный лес</td>\n",
       "      <td>Увеличение выборки</td>\n",
       "      <td>0.620506</td>\n",
       "      <td>0.861075</td>\n",
       "    </tr>\n",
       "    <tr>\n",
       "      <th>11</th>\n",
       "      <td>Случайный лес</td>\n",
       "      <td>Уменьшение выборки</td>\n",
       "      <td>0.602230</td>\n",
       "      <td>0.853632</td>\n",
       "    </tr>\n",
       "    <tr>\n",
       "      <th>5</th>\n",
       "      <td>Случайный лес</td>\n",
       "      <td>Взвешивание</td>\n",
       "      <td>0.592705</td>\n",
       "      <td>0.862166</td>\n",
       "    </tr>\n",
       "    <tr>\n",
       "      <th>4</th>\n",
       "      <td>Дерево решений</td>\n",
       "      <td>Взвешивание</td>\n",
       "      <td>0.529769</td>\n",
       "      <td>0.705285</td>\n",
       "    </tr>\n",
       "    <tr>\n",
       "      <th>3</th>\n",
       "      <td>Логистическая регрессия</td>\n",
       "      <td>Взвешивание</td>\n",
       "      <td>0.529464</td>\n",
       "      <td>0.793697</td>\n",
       "    </tr>\n",
       "    <tr>\n",
       "      <th>9</th>\n",
       "      <td>Логистическая регрессия</td>\n",
       "      <td>Уменьшение выборки</td>\n",
       "      <td>0.527586</td>\n",
       "      <td>0.792700</td>\n",
       "    </tr>\n",
       "    <tr>\n",
       "      <th>12</th>\n",
       "      <td>Логистическая регрессия</td>\n",
       "      <td>Изменение порога</td>\n",
       "      <td>0.526512</td>\n",
       "      <td>0.787502</td>\n",
       "    </tr>\n",
       "    <tr>\n",
       "      <th>6</th>\n",
       "      <td>Логистическая регрессия</td>\n",
       "      <td>Увеличение выборки</td>\n",
       "      <td>0.524221</td>\n",
       "      <td>0.793759</td>\n",
       "    </tr>\n",
       "    <tr>\n",
       "      <th>1</th>\n",
       "      <td>Дерево решений</td>\n",
       "      <td>Без баланса</td>\n",
       "      <td>0.519760</td>\n",
       "      <td>0.699977</td>\n",
       "    </tr>\n",
       "    <tr>\n",
       "      <th>13</th>\n",
       "      <td>Дерево решений</td>\n",
       "      <td>Изменение порога</td>\n",
       "      <td>0.519760</td>\n",
       "      <td>0.699977</td>\n",
       "    </tr>\n",
       "    <tr>\n",
       "      <th>7</th>\n",
       "      <td>Дерево решений</td>\n",
       "      <td>Увеличение выборки</td>\n",
       "      <td>0.512255</td>\n",
       "      <td>0.693627</td>\n",
       "    </tr>\n",
       "    <tr>\n",
       "      <th>10</th>\n",
       "      <td>Дерево решений</td>\n",
       "      <td>Уменьшение выборки</td>\n",
       "      <td>0.501661</td>\n",
       "      <td>0.714947</td>\n",
       "    </tr>\n",
       "    <tr>\n",
       "      <th>0</th>\n",
       "      <td>Логистическая регрессия</td>\n",
       "      <td>Без баланса</td>\n",
       "      <td>0.310786</td>\n",
       "      <td>0.787502</td>\n",
       "    </tr>\n",
       "  </tbody>\n",
       "</table>\n",
       "</div>"
      ],
      "text/plain": [
       "                     модель               метод   F1-мера   AUC-ROC\n",
       "14            Случайный лес    Изменение порога  0.642570  0.860197\n",
       "2             Случайный лес         Без баланса  0.622807  0.860197\n",
       "8             Случайный лес  Увеличение выборки  0.620506  0.861075\n",
       "11            Случайный лес  Уменьшение выборки  0.602230  0.853632\n",
       "5             Случайный лес         Взвешивание  0.592705  0.862166\n",
       "4            Дерево решений         Взвешивание  0.529769  0.705285\n",
       "3   Логистическая регрессия         Взвешивание  0.529464  0.793697\n",
       "9   Логистическая регрессия  Уменьшение выборки  0.527586  0.792700\n",
       "12  Логистическая регрессия    Изменение порога  0.526512  0.787502\n",
       "6   Логистическая регрессия  Увеличение выборки  0.524221  0.793759\n",
       "1            Дерево решений         Без баланса  0.519760  0.699977\n",
       "13           Дерево решений    Изменение порога  0.519760  0.699977\n",
       "7            Дерево решений  Увеличение выборки  0.512255  0.693627\n",
       "10           Дерево решений  Уменьшение выборки  0.501661  0.714947\n",
       "0   Логистическая регрессия         Без баланса  0.310786  0.787502"
      ]
     },
     "execution_count": 42,
     "metadata": {},
     "output_type": "execute_result"
    }
   ],
   "source": [
    "#вывод общих результатов\n",
    "results.sort_values(by='F1-мера',ascending=False)"
   ]
  },
  {
   "cell_type": "markdown",
   "metadata": {},
   "source": [
    "## Чек-лист готовности проекта"
   ]
  },
  {
   "cell_type": "markdown",
   "metadata": {},
   "source": [
    "- [x]  Jupyter Notebook открыт\n",
    "- [x]  Весь код выполняется без ошибок\n",
    "- [x]  Ячейки с кодом расположены в порядке исполнения\n",
    "- [x]  Выполнен шаг 1: данные подготовлены\n",
    "- [x]  Выполнен шаг 2: задача исследована\n",
    "    - [x]  Исследован баланс классов\n",
    "    - [x]  Изучены модели без учёта дисбаланса\n",
    "    - [x]  Написаны выводы по результатам исследования\n",
    "- [x]  Выполнен шаг 3: учтён дисбаланс\n",
    "    - [x]  Применено несколько способов борьбы с дисбалансом\n",
    "    - [x]  Написаны выводы по результатам исследования\n",
    "- [x]  Выполнен шаг 4: проведено тестирование\n",
    "- [x]  Удалось достичь *F1*-меры не менее 0.59\n",
    "- [x]  Исследована метрика *AUC-ROC*"
   ]
  }
 ],
 "metadata": {
  "ExecuteTimeLog": [
   {
    "duration": 1433,
    "start_time": "2023-04-21T12:37:45.419Z"
   },
   {
    "duration": 43,
    "start_time": "2023-04-21T12:37:46.854Z"
   },
   {
    "duration": 14,
    "start_time": "2023-04-21T12:37:46.899Z"
   },
   {
    "duration": 15,
    "start_time": "2023-04-21T12:37:46.916Z"
   },
   {
    "duration": 10,
    "start_time": "2023-04-21T12:37:46.934Z"
   },
   {
    "duration": 6,
    "start_time": "2023-04-21T12:37:46.946Z"
   },
   {
    "duration": 6,
    "start_time": "2023-04-21T12:37:46.954Z"
   },
   {
    "duration": 19,
    "start_time": "2023-04-21T12:37:46.993Z"
   },
   {
    "duration": 15,
    "start_time": "2023-04-21T12:37:47.014Z"
   },
   {
    "duration": 29,
    "start_time": "2023-04-21T12:37:47.032Z"
   },
   {
    "duration": 38,
    "start_time": "2023-04-21T12:37:47.062Z"
   },
   {
    "duration": 15,
    "start_time": "2023-04-21T12:37:47.102Z"
   },
   {
    "duration": 3,
    "start_time": "2023-04-21T12:37:47.119Z"
   },
   {
    "duration": 582,
    "start_time": "2023-04-21T12:37:47.123Z"
   },
   {
    "duration": 212,
    "start_time": "2023-04-21T12:37:47.707Z"
   },
   {
    "duration": 796,
    "start_time": "2023-04-21T12:37:47.920Z"
   },
   {
    "duration": 12,
    "start_time": "2023-04-21T12:37:48.718Z"
   },
   {
    "duration": 74,
    "start_time": "2023-04-21T12:37:48.732Z"
   },
   {
    "duration": 220,
    "start_time": "2023-04-21T12:37:48.808Z"
   },
   {
    "duration": 794,
    "start_time": "2023-04-21T12:37:49.030Z"
   },
   {
    "duration": 11,
    "start_time": "2023-04-21T12:37:49.826Z"
   },
   {
    "duration": 7,
    "start_time": "2023-04-21T12:37:49.840Z"
   },
   {
    "duration": 19,
    "start_time": "2023-04-21T12:37:49.849Z"
   },
   {
    "duration": 223,
    "start_time": "2023-04-21T12:37:49.870Z"
   },
   {
    "duration": 145,
    "start_time": "2023-04-21T12:37:50.096Z"
   },
   {
    "duration": 1031,
    "start_time": "2023-04-21T12:37:50.243Z"
   },
   {
    "duration": 10,
    "start_time": "2023-04-21T12:37:51.276Z"
   },
   {
    "duration": 15,
    "start_time": "2023-04-21T12:37:51.295Z"
   },
   {
    "duration": 189,
    "start_time": "2023-04-21T12:37:51.312Z"
   },
   {
    "duration": 97,
    "start_time": "2023-04-21T12:37:51.509Z"
   },
   {
    "duration": 531,
    "start_time": "2023-04-21T12:37:51.609Z"
   },
   {
    "duration": 12,
    "start_time": "2023-04-21T12:37:52.142Z"
   },
   {
    "duration": 346,
    "start_time": "2023-04-21T12:37:52.157Z"
   },
   {
    "duration": 191,
    "start_time": "2023-04-21T12:37:52.505Z"
   },
   {
    "duration": 830,
    "start_time": "2023-04-21T12:37:52.698Z"
   },
   {
    "duration": 12,
    "start_time": "2023-04-21T12:37:53.530Z"
   },
   {
    "duration": 14,
    "start_time": "2023-04-21T12:37:53.543Z"
   },
   {
    "duration": 38636,
    "start_time": "2023-04-21T12:37:53.559Z"
   },
   {
    "duration": 38,
    "start_time": "2023-04-21T12:38:32.198Z"
   },
   {
    "duration": 44,
    "start_time": "2023-06-17T23:19:14.213Z"
   },
   {
    "duration": 1085,
    "start_time": "2023-06-17T23:19:22.279Z"
   },
   {
    "duration": 157,
    "start_time": "2023-06-17T23:19:23.366Z"
   },
   {
    "duration": 13,
    "start_time": "2023-06-17T23:19:23.524Z"
   },
   {
    "duration": 8,
    "start_time": "2023-06-17T23:19:23.538Z"
   },
   {
    "duration": 4,
    "start_time": "2023-06-17T23:19:23.549Z"
   },
   {
    "duration": 4,
    "start_time": "2023-06-17T23:19:23.554Z"
   },
   {
    "duration": 25,
    "start_time": "2023-06-17T23:19:23.560Z"
   },
   {
    "duration": 10,
    "start_time": "2023-06-17T23:19:23.587Z"
   },
   {
    "duration": 329,
    "start_time": "2023-06-17T23:19:23.599Z"
   },
   {
    "duration": 11,
    "start_time": "2023-06-17T23:19:23.930Z"
   },
   {
    "duration": 122,
    "start_time": "2023-06-17T23:19:23.942Z"
   },
   {
    "duration": 14,
    "start_time": "2023-06-17T23:19:24.065Z"
   },
   {
    "duration": 20,
    "start_time": "2023-06-17T23:19:24.080Z"
   },
   {
    "duration": 17,
    "start_time": "2023-06-17T23:19:24.102Z"
   },
   {
    "duration": 7,
    "start_time": "2023-06-17T23:19:24.120Z"
   },
   {
    "duration": 124,
    "start_time": "2023-06-17T23:19:24.128Z"
   },
   {
    "duration": 33,
    "start_time": "2023-06-17T23:19:24.254Z"
   },
   {
    "duration": 3,
    "start_time": "2023-06-17T23:19:24.288Z"
   },
   {
    "duration": 366,
    "start_time": "2023-06-17T23:19:24.292Z"
   },
   {
    "duration": 124,
    "start_time": "2023-06-17T23:19:24.660Z"
   },
   {
    "duration": 734,
    "start_time": "2023-06-17T23:19:24.785Z"
   },
   {
    "duration": 9,
    "start_time": "2023-06-17T23:19:25.521Z"
   },
   {
    "duration": 124,
    "start_time": "2023-06-17T23:19:25.532Z"
   },
   {
    "duration": 134,
    "start_time": "2023-06-17T23:19:25.660Z"
   },
   {
    "duration": 692,
    "start_time": "2023-06-17T23:19:25.795Z"
   },
   {
    "duration": 11,
    "start_time": "2023-06-17T23:19:26.489Z"
   },
   {
    "duration": 7,
    "start_time": "2023-06-17T23:19:26.502Z"
   },
   {
    "duration": 15,
    "start_time": "2023-06-17T23:19:26.511Z"
   },
   {
    "duration": 126,
    "start_time": "2023-06-17T23:19:26.528Z"
   },
   {
    "duration": 138,
    "start_time": "2023-06-17T23:19:26.657Z"
   },
   {
    "duration": 893,
    "start_time": "2023-06-17T23:19:26.796Z"
   },
   {
    "duration": 9,
    "start_time": "2023-06-17T23:19:27.690Z"
   },
   {
    "duration": 36,
    "start_time": "2023-06-17T23:19:27.700Z"
   },
   {
    "duration": 116,
    "start_time": "2023-06-17T23:19:27.737Z"
   },
   {
    "duration": 113,
    "start_time": "2023-06-17T23:19:27.856Z"
   },
   {
    "duration": 364,
    "start_time": "2023-06-17T23:19:27.971Z"
   },
   {
    "duration": 10,
    "start_time": "2023-06-17T23:19:28.336Z"
   },
   {
    "duration": 2809,
    "start_time": "2023-06-17T23:19:28.347Z"
   },
   {
    "duration": 311,
    "start_time": "2023-06-17T23:19:31.158Z"
   },
   {
    "duration": 2670,
    "start_time": "2023-06-17T23:19:31.471Z"
   },
   {
    "duration": 16,
    "start_time": "2023-06-17T23:19:34.144Z"
   },
   {
    "duration": 10,
    "start_time": "2023-06-17T23:19:34.161Z"
   },
   {
    "duration": 12868,
    "start_time": "2023-06-17T23:19:34.172Z"
   },
   {
    "duration": 31,
    "start_time": "2023-06-17T23:19:47.041Z"
   },
   {
    "duration": 1744,
    "start_time": "2023-09-26T17:23:07.213Z"
   },
   {
    "duration": 1491,
    "start_time": "2023-09-26T17:23:14.635Z"
   },
   {
    "duration": 117,
    "start_time": "2023-09-26T17:23:16.128Z"
   },
   {
    "duration": 18,
    "start_time": "2023-09-26T17:23:16.246Z"
   },
   {
    "duration": 15,
    "start_time": "2023-09-26T17:23:16.265Z"
   },
   {
    "duration": 24,
    "start_time": "2023-09-26T17:23:16.283Z"
   },
   {
    "duration": 41,
    "start_time": "2023-09-26T17:23:16.309Z"
   },
   {
    "duration": 75,
    "start_time": "2023-09-26T17:23:16.352Z"
   },
   {
    "duration": 11,
    "start_time": "2023-09-26T17:23:16.429Z"
   },
   {
    "duration": 930,
    "start_time": "2023-09-26T17:23:16.442Z"
   },
   {
    "duration": 40,
    "start_time": "2023-09-26T17:23:17.374Z"
   },
   {
    "duration": 154,
    "start_time": "2023-09-26T17:23:17.415Z"
   },
   {
    "duration": 30,
    "start_time": "2023-09-26T17:23:17.571Z"
   },
   {
    "duration": 20,
    "start_time": "2023-09-26T17:23:17.605Z"
   },
   {
    "duration": 23,
    "start_time": "2023-09-26T17:23:17.628Z"
   },
   {
    "duration": 35,
    "start_time": "2023-09-26T17:23:17.652Z"
   },
   {
    "duration": 209,
    "start_time": "2023-09-26T17:23:17.698Z"
   },
   {
    "duration": 43,
    "start_time": "2023-09-26T17:23:17.909Z"
   },
   {
    "duration": 3,
    "start_time": "2023-09-26T17:23:17.954Z"
   },
   {
    "duration": 1052,
    "start_time": "2023-09-26T17:23:17.959Z"
   },
   {
    "duration": 216,
    "start_time": "2023-09-26T17:23:19.015Z"
   },
   {
    "duration": 858,
    "start_time": "2023-09-26T17:23:19.234Z"
   },
   {
    "duration": 20,
    "start_time": "2023-09-26T17:23:20.099Z"
   },
   {
    "duration": 74,
    "start_time": "2023-09-26T17:23:20.121Z"
   },
   {
    "duration": 148,
    "start_time": "2023-09-26T17:23:20.200Z"
   },
   {
    "duration": 843,
    "start_time": "2023-09-26T17:23:20.350Z"
   },
   {
    "duration": 23,
    "start_time": "2023-09-26T17:23:21.196Z"
   },
   {
    "duration": 15,
    "start_time": "2023-09-26T17:23:21.222Z"
   },
   {
    "duration": 19,
    "start_time": "2023-09-26T17:23:21.239Z"
   },
   {
    "duration": 60,
    "start_time": "2023-09-26T17:23:21.260Z"
   },
   {
    "duration": 142,
    "start_time": "2023-09-26T17:23:21.388Z"
   },
   {
    "duration": 1085,
    "start_time": "2023-09-26T17:23:21.532Z"
   },
   {
    "duration": 11,
    "start_time": "2023-09-26T17:23:22.618Z"
   },
   {
    "duration": 23,
    "start_time": "2023-09-26T17:23:22.631Z"
   },
   {
    "duration": 58,
    "start_time": "2023-09-26T17:23:22.656Z"
   },
   {
    "duration": 168,
    "start_time": "2023-09-26T17:23:22.719Z"
   },
   {
    "duration": 465,
    "start_time": "2023-09-26T17:23:22.889Z"
   },
   {
    "duration": 11,
    "start_time": "2023-09-26T17:23:23.357Z"
   },
   {
    "duration": 2737,
    "start_time": "2023-09-26T17:23:23.370Z"
   },
   {
    "duration": 467,
    "start_time": "2023-09-26T17:23:26.110Z"
   },
   {
    "duration": 3388,
    "start_time": "2023-09-26T17:23:26.581Z"
   },
   {
    "duration": 28,
    "start_time": "2023-09-26T17:23:29.972Z"
   },
   {
    "duration": 16,
    "start_time": "2023-09-26T17:23:30.005Z"
   },
   {
    "duration": 17144,
    "start_time": "2023-09-26T17:23:30.023Z"
   },
   {
    "duration": 58,
    "start_time": "2023-09-26T17:23:47.168Z"
   }
  ],
  "kernelspec": {
   "display_name": "Python 3 (ipykernel)",
   "language": "python",
   "name": "python3"
  },
  "language_info": {
   "codemirror_mode": {
    "name": "ipython",
    "version": 3
   },
   "file_extension": ".py",
   "mimetype": "text/x-python",
   "name": "python",
   "nbconvert_exporter": "python",
   "pygments_lexer": "ipython3",
   "version": "3.10.9"
  },
  "toc": {
   "base_numbering": 1,
   "nav_menu": {},
   "number_sections": true,
   "sideBar": true,
   "skip_h1_title": true,
   "title_cell": "Содержание",
   "title_sidebar": "Contents",
   "toc_cell": true,
   "toc_position": {},
   "toc_section_display": true,
   "toc_window_display": true
  }
 },
 "nbformat": 4,
 "nbformat_minor": 2
}
