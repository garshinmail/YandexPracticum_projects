{
 "cells": [
  {
   "cell_type": "markdown",
   "metadata": {
    "toc": true
   },
   "source": [
    "<h1>Содержание<span class=\"tocSkip\"></span></h1>\n",
    "<div class=\"toc\"><ul class=\"toc-item\"><li><span><a href=\"#Подготовка\" data-toc-modified-id=\"Подготовка-1\"><span class=\"toc-item-num\">1&nbsp;&nbsp;</span>Подготовка</a></span><ul class=\"toc-item\"><li><span><a href=\"#Импорт-библиотек\" data-toc-modified-id=\"Импорт-библиотек-1.1\"><span class=\"toc-item-num\">1.1&nbsp;&nbsp;</span>Импорт библиотек</a></span></li><li><span><a href=\"#Загрузка-данных\" data-toc-modified-id=\"Загрузка-данных-1.2\"><span class=\"toc-item-num\">1.2&nbsp;&nbsp;</span>Загрузка данных</a></span></li><li><span><a href=\"#Ресемплирование\" data-toc-modified-id=\"Ресемплирование-1.3\"><span class=\"toc-item-num\">1.3&nbsp;&nbsp;</span>Ресемплирование</a></span></li></ul></li><li><span><a href=\"#Анализ\" data-toc-modified-id=\"Анализ-2\"><span class=\"toc-item-num\">2&nbsp;&nbsp;</span>Анализ</a></span><ul class=\"toc-item\"><li><span><a href=\"#Определение-временных-пределов-ряда\" data-toc-modified-id=\"Определение-временных-пределов-ряда-2.1\"><span class=\"toc-item-num\">2.1&nbsp;&nbsp;</span>Определение временных пределов ряда</a></span></li><li><span><a href=\"#Построение-графика-сырых-данных\" data-toc-modified-id=\"Построение-графика-сырых-данных-2.2\"><span class=\"toc-item-num\">2.2&nbsp;&nbsp;</span>Построение графика сырых данных</a></span></li><li><span><a href=\"#Построение-графиков-декомпозированных-данных\" data-toc-modified-id=\"Построение-графиков-декомпозированных-данных-2.3\"><span class=\"toc-item-num\">2.3&nbsp;&nbsp;</span>Построение графиков декомпозированных данных</a></span></li></ul></li><li><span><a href=\"#Обучение\" data-toc-modified-id=\"Обучение-3\"><span class=\"toc-item-num\">3&nbsp;&nbsp;</span>Обучение</a></span><ul class=\"toc-item\"><li><span><a href=\"#Определение-метрики-RMSE\" data-toc-modified-id=\"Определение-метрики-RMSE-3.1\"><span class=\"toc-item-num\">3.1&nbsp;&nbsp;</span>Определение метрики RMSE</a></span></li><li><span><a href=\"#Создание-признаков.\" data-toc-modified-id=\"Создание-признаков.-3.2\"><span class=\"toc-item-num\">3.2&nbsp;&nbsp;</span>Создание признаков.</a></span></li><li><span><a href=\"#Разделение-выборок\" data-toc-modified-id=\"Разделение-выборок-3.3\"><span class=\"toc-item-num\">3.3&nbsp;&nbsp;</span>Разделение выборок</a></span></li><li><span><a href=\"#Обучение-моделей\" data-toc-modified-id=\"Обучение-моделей-3.4\"><span class=\"toc-item-num\">3.4&nbsp;&nbsp;</span>Обучение моделей</a></span><ul class=\"toc-item\"><li><span><a href=\"#Модель-линейной-регрессии\" data-toc-modified-id=\"Модель-линейной-регрессии-3.4.1\"><span class=\"toc-item-num\">3.4.1&nbsp;&nbsp;</span>Модель линейной регрессии</a></span></li><li><span><a href=\"#Модель-случайного-леса\" data-toc-modified-id=\"Модель-случайного-леса-3.4.2\"><span class=\"toc-item-num\">3.4.2&nbsp;&nbsp;</span>Модель случайного леса</a></span></li><li><span><a href=\"#Модель-градиентного-бустинга\" data-toc-modified-id=\"Модель-градиентного-бустинга-3.4.3\"><span class=\"toc-item-num\">3.4.3&nbsp;&nbsp;</span>Модель градиентного бустинга</a></span></li></ul></li></ul></li><li><span><a href=\"#Тестирование\" data-toc-modified-id=\"Тестирование-4\"><span class=\"toc-item-num\">4&nbsp;&nbsp;</span>Тестирование</a></span><ul class=\"toc-item\"><li><span><a href=\"#Модель-линейной-регрессии\" data-toc-modified-id=\"Модель-линейной-регрессии-4.1\"><span class=\"toc-item-num\">4.1&nbsp;&nbsp;</span>Модель линейной регрессии</a></span></li><li><span><a href=\"#Модель-случайного-леса\" data-toc-modified-id=\"Модель-случайного-леса-4.2\"><span class=\"toc-item-num\">4.2&nbsp;&nbsp;</span>Модель случайного леса</a></span></li><li><span><a href=\"#Модель-градиентного-бустинга\" data-toc-modified-id=\"Модель-градиентного-бустинга-4.3\"><span class=\"toc-item-num\">4.3&nbsp;&nbsp;</span>Модель градиентного бустинга</a></span></li></ul></li><li><span><a href=\"#Решение-для-лага-в-168\" data-toc-modified-id=\"Решение-для-лага-в-168-5\"><span class=\"toc-item-num\">5&nbsp;&nbsp;</span>Решение для лага в 168</a></span></li><li><span><a href=\"#Чек-лист-проверки\" data-toc-modified-id=\"Чек-лист-проверки-6\"><span class=\"toc-item-num\">6&nbsp;&nbsp;</span>Чек-лист проверки</a></span></li></ul></div>"
   ]
  },
  {
   "cell_type": "markdown",
   "metadata": {},
   "source": [
    "#  Прогнозирование заказов такси"
   ]
  },
  {
   "cell_type": "markdown",
   "metadata": {},
   "source": [
    "Компания «Чётенькое такси» собрала исторические данные о заказах такси в аэропортах. Чтобы привлекать больше водителей в период пиковой нагрузки, нужно спрогнозировать количество заказов такси на следующий час. Постройте модель для такого предсказания.\n",
    "\n",
    "Значение метрики *RMSE* на тестовой выборке должно быть не больше 48.\n",
    "\n",
    "Вам нужно:\n",
    "\n",
    "1. Загрузить данные и выполнить их ресемплирование по одному часу.\n",
    "2. Проанализировать данные.\n",
    "3. Обучить разные модели с различными гиперпараметрами. Сделать тестовую выборку размером 10% от исходных данных.\n",
    "4. Проверить данные на тестовой выборке и сделать выводы.\n",
    "\n",
    "\n",
    "Данные лежат в файле `taxi.csv`. Количество заказов находится в столбце `num_orders` (от англ. *number of orders*, «число заказов»)."
   ]
  },
  {
   "cell_type": "markdown",
   "metadata": {},
   "source": [
    "## Подготовка"
   ]
  },
  {
   "cell_type": "markdown",
   "metadata": {},
   "source": [
    "### Импорт библиотек"
   ]
  },
  {
   "cell_type": "code",
   "execution_count": 1,
   "metadata": {},
   "outputs": [],
   "source": [
    "import pandas as pd #импорт библиотеки pandas (работа с таблицами)\n",
    "import matplotlib.pyplot as plt #импорт библиотеки matplotlib (графика)\n",
    "\n",
    "from statsmodels.tsa.seasonal import seasonal_decompose #импорт инструмента декомпозиции тренда и сезонности\n",
    "\n",
    "from sklearn.metrics import mean_squared_error,make_scorer #импорт метрики MSE, инструмента для создания своей метрики (RMSE)\n",
    "from sklearn.linear_model import LinearRegression #импорт модели линейной регрессии\n",
    "from sklearn.model_selection import train_test_split,cross_val_score, GridSearchCV,TimeSeriesSplit #импорт инструмента разделения выборок и подбора гиперпараметров\n",
    "from sklearn.ensemble import RandomForestRegressor #импорт модели случайного леса\n",
    "from lightgbm import LGBMRegressor #импорт инструмента градиентного бустинга"
   ]
  },
  {
   "cell_type": "markdown",
   "metadata": {},
   "source": [
    "### Загрузка данных"
   ]
  },
  {
   "cell_type": "code",
   "execution_count": 2,
   "metadata": {},
   "outputs": [],
   "source": [
    "#загрузка данных методом pandas read_csv\n",
    "df=pd.read_csv('/datasets/taxi.csv')"
   ]
  },
  {
   "cell_type": "code",
   "execution_count": 3,
   "metadata": {},
   "outputs": [
    {
     "name": "stdout",
     "output_type": "stream",
     "text": [
      "<class 'pandas.core.frame.DataFrame'>\n",
      "RangeIndex: 26496 entries, 0 to 26495\n",
      "Data columns (total 2 columns):\n",
      " #   Column      Non-Null Count  Dtype \n",
      "---  ------      --------------  ----- \n",
      " 0   datetime    26496 non-null  object\n",
      " 1   num_orders  26496 non-null  int64 \n",
      "dtypes: int64(1), object(1)\n",
      "memory usage: 414.1+ KB\n"
     ]
    }
   ],
   "source": [
    "#вывод информации о датасете\n",
    "df.info()"
   ]
  },
  {
   "cell_type": "markdown",
   "metadata": {},
   "source": [
    "Как видно, столбец с датой имеет номер 0, а также тип - object. Загрузим данные снова, обозначив столбец дат как индекс, а также преобразуем тип данных в datetime64"
   ]
  },
  {
   "cell_type": "code",
   "execution_count": 4,
   "metadata": {},
   "outputs": [],
   "source": [
    "#загрузка данных методом pandas read_csv\n",
    "#индекс - нулевой столбец с датами, даты - переводим в формат дат\n",
    "df=pd.read_csv('/datasets/taxi.csv', index_col=[0],parse_dates=[0])"
   ]
  },
  {
   "cell_type": "code",
   "execution_count": 5,
   "metadata": {},
   "outputs": [
    {
     "name": "stdout",
     "output_type": "stream",
     "text": [
      "<class 'pandas.core.frame.DataFrame'>\n",
      "DatetimeIndex: 26496 entries, 2018-03-01 00:00:00 to 2018-08-31 23:50:00\n",
      "Data columns (total 1 columns):\n",
      " #   Column      Non-Null Count  Dtype\n",
      "---  ------      --------------  -----\n",
      " 0   num_orders  26496 non-null  int64\n",
      "dtypes: int64(1)\n",
      "memory usage: 414.0 KB\n"
     ]
    }
   ],
   "source": [
    "#вывод информации о датасете\n",
    "df.info()"
   ]
  },
  {
   "cell_type": "code",
   "execution_count": 6,
   "metadata": {
    "scrolled": true
   },
   "outputs": [
    {
     "data": {
      "text/plain": [
       "True"
      ]
     },
     "execution_count": 6,
     "metadata": {},
     "output_type": "execute_result"
    }
   ],
   "source": [
    "#проверка хронологичности данных методом is_monotonic\n",
    "df.index.is_monotonic"
   ]
  },
  {
   "cell_type": "markdown",
   "metadata": {},
   "source": [
    "### Ресемплирование"
   ]
  },
  {
   "cell_type": "markdown",
   "metadata": {},
   "source": [
    "Посмотрим на периодичность исходных данных:"
   ]
  },
  {
   "cell_type": "code",
   "execution_count": 7,
   "metadata": {},
   "outputs": [
    {
     "data": {
      "text/html": [
       "<div>\n",
       "<style scoped>\n",
       "    .dataframe tbody tr th:only-of-type {\n",
       "        vertical-align: middle;\n",
       "    }\n",
       "\n",
       "    .dataframe tbody tr th {\n",
       "        vertical-align: top;\n",
       "    }\n",
       "\n",
       "    .dataframe thead th {\n",
       "        text-align: right;\n",
       "    }\n",
       "</style>\n",
       "<table border=\"1\" class=\"dataframe\">\n",
       "  <thead>\n",
       "    <tr style=\"text-align: right;\">\n",
       "      <th></th>\n",
       "      <th>num_orders</th>\n",
       "    </tr>\n",
       "    <tr>\n",
       "      <th>datetime</th>\n",
       "      <th></th>\n",
       "    </tr>\n",
       "  </thead>\n",
       "  <tbody>\n",
       "    <tr>\n",
       "      <th>2018-03-01 00:00:00</th>\n",
       "      <td>9</td>\n",
       "    </tr>\n",
       "    <tr>\n",
       "      <th>2018-03-01 00:10:00</th>\n",
       "      <td>14</td>\n",
       "    </tr>\n",
       "    <tr>\n",
       "      <th>2018-03-01 00:20:00</th>\n",
       "      <td>28</td>\n",
       "    </tr>\n",
       "    <tr>\n",
       "      <th>2018-03-01 00:30:00</th>\n",
       "      <td>20</td>\n",
       "    </tr>\n",
       "    <tr>\n",
       "      <th>2018-03-01 00:40:00</th>\n",
       "      <td>32</td>\n",
       "    </tr>\n",
       "  </tbody>\n",
       "</table>\n",
       "</div>"
      ],
      "text/plain": [
       "                     num_orders\n",
       "datetime                       \n",
       "2018-03-01 00:00:00           9\n",
       "2018-03-01 00:10:00          14\n",
       "2018-03-01 00:20:00          28\n",
       "2018-03-01 00:30:00          20\n",
       "2018-03-01 00:40:00          32"
      ]
     },
     "execution_count": 7,
     "metadata": {},
     "output_type": "execute_result"
    }
   ],
   "source": [
    "#вывод первых 5 строк датасета\n",
    "df.head()"
   ]
  },
  {
   "cell_type": "markdown",
   "metadata": {},
   "source": [
    "Отсюда видно, что данные выгружены с разницей в 10 минут. По заданию необходимо произвести ресемплирование по 1 часу. В качестве параметра возьмём сумму, так как нам нужно спрогнозировать количество заказов такси на следующий час."
   ]
  },
  {
   "cell_type": "code",
   "execution_count": 8,
   "metadata": {},
   "outputs": [],
   "source": [
    "#выполнение ресемплирования методом resample()\n",
    "#период для ресемплирования - 1 час, параметр - сумма\n",
    "df=df.resample('1H').sum()"
   ]
  },
  {
   "cell_type": "code",
   "execution_count": 9,
   "metadata": {},
   "outputs": [
    {
     "data": {
      "text/html": [
       "<div>\n",
       "<style scoped>\n",
       "    .dataframe tbody tr th:only-of-type {\n",
       "        vertical-align: middle;\n",
       "    }\n",
       "\n",
       "    .dataframe tbody tr th {\n",
       "        vertical-align: top;\n",
       "    }\n",
       "\n",
       "    .dataframe thead th {\n",
       "        text-align: right;\n",
       "    }\n",
       "</style>\n",
       "<table border=\"1\" class=\"dataframe\">\n",
       "  <thead>\n",
       "    <tr style=\"text-align: right;\">\n",
       "      <th></th>\n",
       "      <th>num_orders</th>\n",
       "    </tr>\n",
       "    <tr>\n",
       "      <th>datetime</th>\n",
       "      <th></th>\n",
       "    </tr>\n",
       "  </thead>\n",
       "  <tbody>\n",
       "    <tr>\n",
       "      <th>2018-03-01 00:00:00</th>\n",
       "      <td>124</td>\n",
       "    </tr>\n",
       "    <tr>\n",
       "      <th>2018-03-01 01:00:00</th>\n",
       "      <td>85</td>\n",
       "    </tr>\n",
       "    <tr>\n",
       "      <th>2018-03-01 02:00:00</th>\n",
       "      <td>71</td>\n",
       "    </tr>\n",
       "    <tr>\n",
       "      <th>2018-03-01 03:00:00</th>\n",
       "      <td>66</td>\n",
       "    </tr>\n",
       "    <tr>\n",
       "      <th>2018-03-01 04:00:00</th>\n",
       "      <td>43</td>\n",
       "    </tr>\n",
       "  </tbody>\n",
       "</table>\n",
       "</div>"
      ],
      "text/plain": [
       "                     num_orders\n",
       "datetime                       \n",
       "2018-03-01 00:00:00         124\n",
       "2018-03-01 01:00:00          85\n",
       "2018-03-01 02:00:00          71\n",
       "2018-03-01 03:00:00          66\n",
       "2018-03-01 04:00:00          43"
      ]
     },
     "execution_count": 9,
     "metadata": {},
     "output_type": "execute_result"
    }
   ],
   "source": [
    "#проверка ресемплирования\n",
    "df.head()"
   ]
  },
  {
   "cell_type": "markdown",
   "metadata": {},
   "source": [
    "## Анализ"
   ]
  },
  {
   "cell_type": "markdown",
   "metadata": {},
   "source": [
    "### Определение временных пределов ряда"
   ]
  },
  {
   "cell_type": "markdown",
   "metadata": {},
   "source": [
    "Проведём анализ датасета. Во-первых, узнаем временной диапазон всех измерений:"
   ]
  },
  {
   "cell_type": "code",
   "execution_count": 10,
   "metadata": {},
   "outputs": [
    {
     "data": {
      "text/plain": [
       "Timestamp('2018-03-01 00:00:00', freq='H')"
      ]
     },
     "execution_count": 10,
     "metadata": {},
     "output_type": "execute_result"
    }
   ],
   "source": [
    "#вывод времени первого измерения\n",
    "df.index.min()"
   ]
  },
  {
   "cell_type": "code",
   "execution_count": 11,
   "metadata": {},
   "outputs": [
    {
     "data": {
      "text/plain": [
       "Timestamp('2018-08-31 23:00:00', freq='H')"
      ]
     },
     "execution_count": 11,
     "metadata": {},
     "output_type": "execute_result"
    }
   ],
   "source": [
    "#вывод времени последнего измерения\n",
    "df.index.max()"
   ]
  },
  {
   "cell_type": "markdown",
   "metadata": {},
   "source": [
    "Получается, у нас есть данные с 1 марта 2018 года по 31 августа 2018 года."
   ]
  },
  {
   "cell_type": "markdown",
   "metadata": {},
   "source": [
    "### Построение графика сырых данных"
   ]
  },
  {
   "cell_type": "markdown",
   "metadata": {},
   "source": [
    "Построим график зависимости количества заказов от времени."
   ]
  },
  {
   "cell_type": "code",
   "execution_count": 12,
   "metadata": {
    "scrolled": false
   },
   "outputs": [
    {
     "data": {
      "image/png": "[encoded data removed]",
      "text/plain": [
       "<Figure size 1296x432 with 1 Axes>"
      ]
     },
     "metadata": {
      "needs_background": "light"
     },
     "output_type": "display_data"
    }
   ],
   "source": [
    "#построение графика зависимости количества заказов по времени\n",
    "plt.figure(figsize=(18,6))\n",
    "plt.plot(df)\n",
    "plt.title('Зависимость количества заказов по времени')\n",
    "plt.xlabel('Метка времени с промежутком в 1 ч')\n",
    "plt.ylabel('Количество заказов')\n",
    "plt.show();"
   ]
  },
  {
   "cell_type": "markdown",
   "metadata": {},
   "source": [
    "Из графика видно, что данные имеют сильный разброс: случаются единичные пиковые значения как в большую сторону от средней загрузки, так и в меньшую. Также примерно виден тренд на увеличение числа заказов, от марта к сентябрю. Посмотрим на декомпозированные данные."
   ]
  },
  {
   "cell_type": "markdown",
   "metadata": {},
   "source": [
    "### Построение графиков декомпозированных данных"
   ]
  },
  {
   "cell_type": "code",
   "execution_count": 13,
   "metadata": {},
   "outputs": [],
   "source": [
    "#декомпозиция данных методом seasonal_decompose\n",
    "df_decomposed=seasonal_decompose(df)"
   ]
  },
  {
   "cell_type": "code",
   "execution_count": 14,
   "metadata": {},
   "outputs": [
    {
     "data": {
      "image/png": "[encoded data removed]",
      "text/plain": [
       "<Figure size 1296x432 with 1 Axes>"
      ]
     },
     "metadata": {
      "needs_background": "light"
     },
     "output_type": "display_data"
    }
   ],
   "source": [
    "#вывод графика тренда\n",
    "plt.figure(figsize=(18,6))\n",
    "df_decomposed.trend.plot(ax=plt.gca())\n",
    "plt.title('Тренд зависимости количества заказов по времени')\n",
    "plt.xlabel('Метка времени с промежутком в 1 ч')\n",
    "plt.ylabel('Количество заказов')\n",
    "plt.show();"
   ]
  },
  {
   "cell_type": "markdown",
   "metadata": {},
   "source": [
    "Из графика очевидный тренд на пространстве март-сентябрь: число заказов в аэропорты растёт. Причём март-июнь показывает не такой сильный прирост, как июнь-сентябрь. Данная разница может быть объяснима сезоном отпусков."
   ]
  },
  {
   "cell_type": "code",
   "execution_count": 15,
   "metadata": {},
   "outputs": [
    {
     "data": {
      "image/png": "[encoded data removed]",
      "text/plain": [
       "<Figure size 1296x432 with 1 Axes>"
      ]
     },
     "metadata": {
      "needs_background": "light"
     },
     "output_type": "display_data"
    }
   ],
   "source": [
    "#вывод графика сезонности\n",
    "plt.figure(figsize=(18,6))\n",
    "df_decomposed.seasonal.plot(ax=plt.gca())\n",
    "plt.title('Сезонность зависимости количества заказов по времени')\n",
    "plt.xlabel('Метка времени с промежутком в 1 ч')\n",
    "plt.ylabel('Количество заказов')\n",
    "plt.show();"
   ]
  },
  {
   "cell_type": "markdown",
   "metadata": {},
   "source": [
    "Видно, что присутствует очевидная сезонность, однако пока не понять её суть: слишком небольшой период. Посмотрим на данные за меньший период времени:"
   ]
  },
  {
   "cell_type": "code",
   "execution_count": 16,
   "metadata": {
    "scrolled": false
   },
   "outputs": [
    {
     "data": {
      "image/png": "[encoded data removed]",
      "text/plain": [
       "<Figure size 1296x432 with 1 Axes>"
      ]
     },
     "metadata": {
      "needs_background": "light"
     },
     "output_type": "display_data"
    }
   ],
   "source": [
    "#вывод графика сезонности для первых трёх дней\n",
    "plt.figure(figsize=(18,6))\n",
    "df_decomposed.seasonal['2018-03-01':'2018-03-03'].plot(ax=plt.gca())\n",
    "plt.title('Сезонность зависимости количества заказов по времени за первые три дня')\n",
    "plt.xlabel('Метка времени с промежутком в 1 ч')\n",
    "plt.ylabel('Количество заказов')\n",
    "plt.grid(10)\n",
    "plt.show();"
   ]
  },
  {
   "cell_type": "markdown",
   "metadata": {},
   "source": [
    "По графику сезонности для первых трёх дней из датасета видим отображение суточной периодической составляющей колебаний количества заказов: максимальный пик значения заказов такси приходится на 0:00, тогда как минимум наблюдается в районе 6 утра. При этом в целом от 6 утра до 0:00 следующего дня происходит рост числа заказов с двумя просадками: в 12 часов и в 18 часов. "
   ]
  },
  {
   "cell_type": "code",
   "execution_count": 17,
   "metadata": {},
   "outputs": [],
   "source": [
    "#выполнение ресемплирования методом resample()\n",
    "#период для ресемплирования - 1 день, параметр - сумма\n",
    "df_1day=df.resample('1D').sum()"
   ]
  },
  {
   "cell_type": "code",
   "execution_count": 18,
   "metadata": {},
   "outputs": [],
   "source": [
    "#декомпозиция данных методом seasonal_decompose\n",
    "df_1day_decomposed=seasonal_decompose(df_1day)"
   ]
  },
  {
   "cell_type": "code",
   "execution_count": 19,
   "metadata": {
    "scrolled": false
   },
   "outputs": [
    {
     "data": {
      "image/png": "[encoded data removed]",
      "text/plain": [
       "<Figure size 1296x432 with 1 Axes>"
      ]
     },
     "metadata": {
      "needs_background": "light"
     },
     "output_type": "display_data"
    }
   ],
   "source": [
    "#вывод графика сезонности для ресемплирования по дням для первых 4 недель\n",
    "plt.figure(figsize=(18,6))\n",
    "df_1day_decomposed.seasonal['2018-03-01':'2018-04-01'].plot(ax=plt.gca())\n",
    "plt.title('Сезонность зависимости количества заказов по времени за первые 4 недели')\n",
    "plt.xlabel('Метка времени с промежутком в 1 д')\n",
    "plt.ylabel('Количество заказов')\n",
    "plt.grid(10)\n",
    "plt.show();"
   ]
  },
  {
   "cell_type": "code",
   "execution_count": 20,
   "metadata": {
    "scrolled": true
   },
   "outputs": [
    {
     "data": {
      "text/html": [
       "<div>\n",
       "<style scoped>\n",
       "    .dataframe tbody tr th:only-of-type {\n",
       "        vertical-align: middle;\n",
       "    }\n",
       "\n",
       "    .dataframe tbody tr th {\n",
       "        vertical-align: top;\n",
       "    }\n",
       "\n",
       "    .dataframe thead th {\n",
       "        text-align: right;\n",
       "    }\n",
       "</style>\n",
       "<table border=\"1\" class=\"dataframe\">\n",
       "  <thead>\n",
       "    <tr style=\"text-align: right;\">\n",
       "      <th></th>\n",
       "      <th>num_orders</th>\n",
       "    </tr>\n",
       "    <tr>\n",
       "      <th>datetime</th>\n",
       "      <th></th>\n",
       "    </tr>\n",
       "  </thead>\n",
       "  <tbody>\n",
       "    <tr>\n",
       "      <th>2018-03-01 00:00:00</th>\n",
       "      <td>124</td>\n",
       "    </tr>\n",
       "    <tr>\n",
       "      <th>2018-03-01 01:00:00</th>\n",
       "      <td>85</td>\n",
       "    </tr>\n",
       "    <tr>\n",
       "      <th>2018-03-01 02:00:00</th>\n",
       "      <td>71</td>\n",
       "    </tr>\n",
       "    <tr>\n",
       "      <th>2018-03-01 03:00:00</th>\n",
       "      <td>66</td>\n",
       "    </tr>\n",
       "    <tr>\n",
       "      <th>2018-03-01 04:00:00</th>\n",
       "      <td>43</td>\n",
       "    </tr>\n",
       "  </tbody>\n",
       "</table>\n",
       "</div>"
      ],
      "text/plain": [
       "                     num_orders\n",
       "datetime                       \n",
       "2018-03-01 00:00:00         124\n",
       "2018-03-01 01:00:00          85\n",
       "2018-03-01 02:00:00          71\n",
       "2018-03-01 03:00:00          66\n",
       "2018-03-01 04:00:00          43"
      ]
     },
     "execution_count": 20,
     "metadata": {},
     "output_type": "execute_result"
    }
   ],
   "source": [
    "df.head()"
   ]
  },
  {
   "cell_type": "code",
   "execution_count": 21,
   "metadata": {},
   "outputs": [
    {
     "data": {
      "text/plain": [
       "Int64Index([1, 1, 1, 1, 1, 1, 1, 1, 1, 1, 1, 1, 1, 1, 1, 1, 1, 1, 1, 1, 1, 1,\n",
       "            1, 1],\n",
       "           dtype='int64', name='datetime')"
      ]
     },
     "execution_count": 21,
     "metadata": {},
     "output_type": "execute_result"
    }
   ],
   "source": [
    "#день недели минимума количества заказов во второй неделе\n",
    "df.loc['2018-03-06'].index.dayofweek"
   ]
  },
  {
   "cell_type": "code",
   "execution_count": 22,
   "metadata": {},
   "outputs": [
    {
     "data": {
      "text/plain": [
       "Int64Index([0, 0, 0, 0, 0, 0, 0, 0, 0, 0, 0, 0, 0, 0, 0, 0, 0, 0, 0, 0, 0, 0,\n",
       "            0, 0],\n",
       "           dtype='int64', name='datetime')"
      ]
     },
     "execution_count": 22,
     "metadata": {},
     "output_type": "execute_result"
    }
   ],
   "source": [
    "#день недели пика максимума заказов во второй неделе\n",
    "df.loc['2018-03-12'].index.dayofweek"
   ]
  },
  {
   "cell_type": "markdown",
   "metadata": {},
   "source": [
    "\n",
    "При произведении ресемплирования по дням и построении графика сезонности за первые 4 недели заметно, что существует периодическая составляющая колебаний количества заказов по времени в зависимости от дня недели: минимум наблюдается во вторник, а максимум - в понедельник. При этом существует ещё промежуточный пик в пятницу со последующим провалом на выходных.\n",
    "    \n",
    "Закономерность интересная, провал в выходные можно объяснить со снижением деловой активности и, соответственно, количеством командировочных вылетов, а также, возможно, не сильной загруженностью города в плане пробок по выходным и возможность воспользоваться общественным транспортом или каршерингом (или неспешность в перемещении из аэропорта на место рабочей встречи, тк в выходные рабочих встреч закономерно меньше и можно добираться до гостиницы сколько угодно времени).\n",
    "    \n",
    "Рост со вторника по пятницу включительно тоже объясним: помимо деловых людей также люди приезжают в отпуск, стараясь зацепить выходные, тем самым сэкономив количество отпускных дней. А это сделать тем проще, чем ближе к выходным мы прилетаем.\n",
    "    \n",
    "А максимальное значение в понедельник тоже можно объяснить деловой активностью людей: те, кто приезжает на работу в город на текущую неделю, приезжают соответственно в понедельник, в начале рабочей недели.\n"
   ]
  },
  {
   "cell_type": "code",
   "execution_count": 23,
   "metadata": {},
   "outputs": [
    {
     "data": {
      "image/png": "[encoded data removed]",
      "text/plain": [
       "<Figure size 1296x432 with 1 Axes>"
      ]
     },
     "metadata": {
      "needs_background": "light"
     },
     "output_type": "display_data"
    }
   ],
   "source": [
    "#вывод графика шума\n",
    "plt.figure(figsize=(18,6))\n",
    "df_decomposed.resid.plot(ax=plt.gca())\n",
    "plt.title('Шум зависимости количества заказов по времени')\n",
    "plt.xlabel('Метка времени с промежутком в 1 ч')\n",
    "plt.ylabel('Количество заказов')\n",
    "plt.grid(10)\n",
    "plt.show();"
   ]
  },
  {
   "cell_type": "markdown",
   "metadata": {},
   "source": [
    "По данному графику видно, что, несмотря на общий возрастающий тренд, и суточную периодескую составляющую зависимости, в количестве заказов также присутсвует и шум, который показывает, насколько реальные заказы могут отличаться от общего тренда и суточной периодики: присутсвуют и единичные выбросы, которые могут быть связаны с различными местными условиями, такими как увеличенное количество рейсов в какое-то конкретное время какого-то дня, сбои с общественным транспортом и каршерингом, динамическое ценообразование стоимости такси и тд."
   ]
  },
  {
   "cell_type": "markdown",
   "metadata": {},
   "source": [
    "## Обучение"
   ]
  },
  {
   "cell_type": "markdown",
   "metadata": {},
   "source": [
    "### Определение метрики RMSE"
   ]
  },
  {
   "cell_type": "markdown",
   "metadata": {},
   "source": [
    "Главной метрикой оценки качества модели является среднеквадратическая ошибка RMSE. Её величина на тестовой выборке должна быть не больше 48. Определим метрику своей функцией:"
   ]
  },
  {
   "cell_type": "code",
   "execution_count": 24,
   "metadata": {},
   "outputs": [],
   "source": [
    "#создание функции расчёта RMSE\n",
    "def RMSE(target,predictions):\n",
    "    return(mean_squared_error(target,predictions)**0.5)\n",
    "\n",
    "#создание критерия оценки RMSE для моделей для подбра параметром методом GridSearchCV\n",
    "new_scorer=make_scorer(RMSE,greater_is_better=False)"
   ]
  },
  {
   "cell_type": "markdown",
   "metadata": {},
   "source": [
    "### Создание признаков."
   ]
  },
  {
   "cell_type": "markdown",
   "metadata": {},
   "source": [
    "Создадим функцию, которая будет создавать календарные признаки (месяц, день, час, день недели), будет сдвигать значения на определённое число, и вычислять скользящее среднее."
   ]
  },
  {
   "cell_type": "code",
   "execution_count": 25,
   "metadata": {},
   "outputs": [],
   "source": [
    "#определение функции создания признаков\n",
    "#data - используемый датасет\n",
    "#month, day, hour, dayofweek - месяц (не берём), день, час, день недели\n",
    "#max_lag - величина свдига значений\n",
    "#rolling_mean_size - определение ширины скользящего среднего\n",
    "def make_features(data, max_lag, rolling_mean_size):\n",
    "    #data['month']=data.index.month\n",
    "    data['day']=data.index.day\n",
    "    data['hour']=data.index.hour\n",
    "    data['dayofweek']=data.index.dayofweek\n",
    "    \n",
    "    for lag in range(1,max_lag+1):\n",
    "        data['lag{}'.format(lag)]=data['num_orders'].shift(lag)\n",
    "        \n",
    "    data['rolling_mean']=data['num_orders'].shift().rolling(rolling_mean_size).mean()"
   ]
  },
  {
   "cell_type": "markdown",
   "metadata": {},
   "source": [
    "Проверим корректность выполнения функции на нашем датасете:"
   ]
  },
  {
   "cell_type": "code",
   "execution_count": 26,
   "metadata": {},
   "outputs": [
    {
     "data": {
      "text/html": [
       "<div>\n",
       "<style scoped>\n",
       "    .dataframe tbody tr th:only-of-type {\n",
       "        vertical-align: middle;\n",
       "    }\n",
       "\n",
       "    .dataframe tbody tr th {\n",
       "        vertical-align: top;\n",
       "    }\n",
       "\n",
       "    .dataframe thead th {\n",
       "        text-align: right;\n",
       "    }\n",
       "</style>\n",
       "<table border=\"1\" class=\"dataframe\">\n",
       "  <thead>\n",
       "    <tr style=\"text-align: right;\">\n",
       "      <th></th>\n",
       "      <th>num_orders</th>\n",
       "      <th>day</th>\n",
       "      <th>hour</th>\n",
       "      <th>dayofweek</th>\n",
       "      <th>lag1</th>\n",
       "      <th>lag2</th>\n",
       "      <th>lag3</th>\n",
       "      <th>lag4</th>\n",
       "      <th>lag5</th>\n",
       "      <th>lag6</th>\n",
       "      <th>...</th>\n",
       "      <th>lag16</th>\n",
       "      <th>lag17</th>\n",
       "      <th>lag18</th>\n",
       "      <th>lag19</th>\n",
       "      <th>lag20</th>\n",
       "      <th>lag21</th>\n",
       "      <th>lag22</th>\n",
       "      <th>lag23</th>\n",
       "      <th>lag24</th>\n",
       "      <th>rolling_mean</th>\n",
       "    </tr>\n",
       "    <tr>\n",
       "      <th>datetime</th>\n",
       "      <th></th>\n",
       "      <th></th>\n",
       "      <th></th>\n",
       "      <th></th>\n",
       "      <th></th>\n",
       "      <th></th>\n",
       "      <th></th>\n",
       "      <th></th>\n",
       "      <th></th>\n",
       "      <th></th>\n",
       "      <th></th>\n",
       "      <th></th>\n",
       "      <th></th>\n",
       "      <th></th>\n",
       "      <th></th>\n",
       "      <th></th>\n",
       "      <th></th>\n",
       "      <th></th>\n",
       "      <th></th>\n",
       "      <th></th>\n",
       "      <th></th>\n",
       "    </tr>\n",
       "  </thead>\n",
       "  <tbody>\n",
       "    <tr>\n",
       "      <th>2018-03-01 00:00:00</th>\n",
       "      <td>124</td>\n",
       "      <td>1</td>\n",
       "      <td>0</td>\n",
       "      <td>3</td>\n",
       "      <td>NaN</td>\n",
       "      <td>NaN</td>\n",
       "      <td>NaN</td>\n",
       "      <td>NaN</td>\n",
       "      <td>NaN</td>\n",
       "      <td>NaN</td>\n",
       "      <td>...</td>\n",
       "      <td>NaN</td>\n",
       "      <td>NaN</td>\n",
       "      <td>NaN</td>\n",
       "      <td>NaN</td>\n",
       "      <td>NaN</td>\n",
       "      <td>NaN</td>\n",
       "      <td>NaN</td>\n",
       "      <td>NaN</td>\n",
       "      <td>NaN</td>\n",
       "      <td>NaN</td>\n",
       "    </tr>\n",
       "    <tr>\n",
       "      <th>2018-03-01 01:00:00</th>\n",
       "      <td>85</td>\n",
       "      <td>1</td>\n",
       "      <td>1</td>\n",
       "      <td>3</td>\n",
       "      <td>124.0</td>\n",
       "      <td>NaN</td>\n",
       "      <td>NaN</td>\n",
       "      <td>NaN</td>\n",
       "      <td>NaN</td>\n",
       "      <td>NaN</td>\n",
       "      <td>...</td>\n",
       "      <td>NaN</td>\n",
       "      <td>NaN</td>\n",
       "      <td>NaN</td>\n",
       "      <td>NaN</td>\n",
       "      <td>NaN</td>\n",
       "      <td>NaN</td>\n",
       "      <td>NaN</td>\n",
       "      <td>NaN</td>\n",
       "      <td>NaN</td>\n",
       "      <td>NaN</td>\n",
       "    </tr>\n",
       "    <tr>\n",
       "      <th>2018-03-01 02:00:00</th>\n",
       "      <td>71</td>\n",
       "      <td>1</td>\n",
       "      <td>2</td>\n",
       "      <td>3</td>\n",
       "      <td>85.0</td>\n",
       "      <td>124.0</td>\n",
       "      <td>NaN</td>\n",
       "      <td>NaN</td>\n",
       "      <td>NaN</td>\n",
       "      <td>NaN</td>\n",
       "      <td>...</td>\n",
       "      <td>NaN</td>\n",
       "      <td>NaN</td>\n",
       "      <td>NaN</td>\n",
       "      <td>NaN</td>\n",
       "      <td>NaN</td>\n",
       "      <td>NaN</td>\n",
       "      <td>NaN</td>\n",
       "      <td>NaN</td>\n",
       "      <td>NaN</td>\n",
       "      <td>NaN</td>\n",
       "    </tr>\n",
       "    <tr>\n",
       "      <th>2018-03-01 03:00:00</th>\n",
       "      <td>66</td>\n",
       "      <td>1</td>\n",
       "      <td>3</td>\n",
       "      <td>3</td>\n",
       "      <td>71.0</td>\n",
       "      <td>85.0</td>\n",
       "      <td>124.0</td>\n",
       "      <td>NaN</td>\n",
       "      <td>NaN</td>\n",
       "      <td>NaN</td>\n",
       "      <td>...</td>\n",
       "      <td>NaN</td>\n",
       "      <td>NaN</td>\n",
       "      <td>NaN</td>\n",
       "      <td>NaN</td>\n",
       "      <td>NaN</td>\n",
       "      <td>NaN</td>\n",
       "      <td>NaN</td>\n",
       "      <td>NaN</td>\n",
       "      <td>NaN</td>\n",
       "      <td>NaN</td>\n",
       "    </tr>\n",
       "    <tr>\n",
       "      <th>2018-03-01 04:00:00</th>\n",
       "      <td>43</td>\n",
       "      <td>1</td>\n",
       "      <td>4</td>\n",
       "      <td>3</td>\n",
       "      <td>66.0</td>\n",
       "      <td>71.0</td>\n",
       "      <td>85.0</td>\n",
       "      <td>124.0</td>\n",
       "      <td>NaN</td>\n",
       "      <td>NaN</td>\n",
       "      <td>...</td>\n",
       "      <td>NaN</td>\n",
       "      <td>NaN</td>\n",
       "      <td>NaN</td>\n",
       "      <td>NaN</td>\n",
       "      <td>NaN</td>\n",
       "      <td>NaN</td>\n",
       "      <td>NaN</td>\n",
       "      <td>NaN</td>\n",
       "      <td>NaN</td>\n",
       "      <td>NaN</td>\n",
       "    </tr>\n",
       "  </tbody>\n",
       "</table>\n",
       "<p>5 rows × 29 columns</p>\n",
       "</div>"
      ],
      "text/plain": [
       "                     num_orders  day  hour  dayofweek   lag1   lag2   lag3  \\\n",
       "datetime                                                                     \n",
       "2018-03-01 00:00:00         124    1     0          3    NaN    NaN    NaN   \n",
       "2018-03-01 01:00:00          85    1     1          3  124.0    NaN    NaN   \n",
       "2018-03-01 02:00:00          71    1     2          3   85.0  124.0    NaN   \n",
       "2018-03-01 03:00:00          66    1     3          3   71.0   85.0  124.0   \n",
       "2018-03-01 04:00:00          43    1     4          3   66.0   71.0   85.0   \n",
       "\n",
       "                      lag4  lag5  lag6  ...  lag16  lag17  lag18  lag19  \\\n",
       "datetime                                ...                               \n",
       "2018-03-01 00:00:00    NaN   NaN   NaN  ...    NaN    NaN    NaN    NaN   \n",
       "2018-03-01 01:00:00    NaN   NaN   NaN  ...    NaN    NaN    NaN    NaN   \n",
       "2018-03-01 02:00:00    NaN   NaN   NaN  ...    NaN    NaN    NaN    NaN   \n",
       "2018-03-01 03:00:00    NaN   NaN   NaN  ...    NaN    NaN    NaN    NaN   \n",
       "2018-03-01 04:00:00  124.0   NaN   NaN  ...    NaN    NaN    NaN    NaN   \n",
       "\n",
       "                     lag20  lag21  lag22  lag23  lag24  rolling_mean  \n",
       "datetime                                                              \n",
       "2018-03-01 00:00:00    NaN    NaN    NaN    NaN    NaN           NaN  \n",
       "2018-03-01 01:00:00    NaN    NaN    NaN    NaN    NaN           NaN  \n",
       "2018-03-01 02:00:00    NaN    NaN    NaN    NaN    NaN           NaN  \n",
       "2018-03-01 03:00:00    NaN    NaN    NaN    NaN    NaN           NaN  \n",
       "2018-03-01 04:00:00    NaN    NaN    NaN    NaN    NaN           NaN  \n",
       "\n",
       "[5 rows x 29 columns]"
      ]
     },
     "execution_count": 26,
     "metadata": {},
     "output_type": "execute_result"
    }
   ],
   "source": [
    "#создадаём признаки новой функцией\n",
    "make_features(df,24,5)\n",
    "#вывод первых строк на экран\n",
    "df.head()"
   ]
  },
  {
   "cell_type": "code",
   "execution_count": 27,
   "metadata": {},
   "outputs": [
    {
     "data": {
      "image/png": "[encoded data removed]",
      "text/plain": [
       "<Figure size 1332x432 with 1 Axes>"
      ]
     },
     "metadata": {
      "needs_background": "light"
     },
     "output_type": "display_data"
    }
   ],
   "source": [
    "# Код ревьюера\n",
    "from statsmodels.graphics import tsaplots\n",
    "\n",
    "taxi = pd.read_csv(\"/datasets/taxi.csv\", index_col=[0], parse_dates=[0]).resample('1H').sum()\n",
    "ts = taxi['num_orders']\n",
    "\n",
    "fig = tsaplots.plot_acf(ts,lags= 190)\n",
    "fig.set_size_inches(18.5, 6)\n",
    "plt.ylim(-.1, 1.1)\n",
    "plt.show() \n",
    "\n"
   ]
  },
  {
   "cell_type": "markdown",
   "metadata": {},
   "source": [
    "### Разделение выборок"
   ]
  },
  {
   "cell_type": "markdown",
   "metadata": {},
   "source": [
    "По условию задачи необходимо разделить выборки на тренировочную и тестововую в соотношении 1:9 (10% - тестовая выборка)."
   ]
  },
  {
   "cell_type": "code",
   "execution_count": 28,
   "metadata": {},
   "outputs": [],
   "source": [
    "#разделение выборок методом train_test_split без перемешивания\n",
    "train, test=train_test_split(df,shuffle=False,test_size=0.1)\n",
    "train=train.dropna()"
   ]
  },
  {
   "cell_type": "markdown",
   "metadata": {},
   "source": [
    "Выделим признаки и целевой признак:"
   ]
  },
  {
   "cell_type": "code",
   "execution_count": 29,
   "metadata": {},
   "outputs": [],
   "source": [
    "#выделение целевого признака: num_orders\n",
    "features_train=train.drop(['num_orders'],axis=1)\n",
    "target_train=train['num_orders']\n",
    "features_test=test.drop(['num_orders'],axis=1)\n",
    "target_test=test['num_orders']"
   ]
  },
  {
   "cell_type": "markdown",
   "metadata": {},
   "source": [
    "### Обучение моделей"
   ]
  },
  {
   "cell_type": "markdown",
   "metadata": {},
   "source": [
    "Обучим различные модели, подберём к ним гиперпараметры перебором методов GridSearchCV, ориентируясь на обучающую выборку. Затем посчитаем точность для тестовой выборки."
   ]
  },
  {
   "cell_type": "code",
   "execution_count": 30,
   "metadata": {},
   "outputs": [],
   "source": [
    "#сохранение константы random_state:\n",
    "RS=12345"
   ]
  },
  {
   "cell_type": "markdown",
   "metadata": {},
   "source": [
    "Попробуем подобрать гиперпараметры:"
   ]
  },
  {
   "cell_type": "code",
   "execution_count": 31,
   "metadata": {},
   "outputs": [
    {
     "name": "stdout",
     "output_type": "stream",
     "text": [
      "27.096911169728607\n",
      "{'fit_intercept': False, 'normalize': True, 'positive': True}\n",
      "CPU times: user 1.67 s, sys: 3.99 s, total: 5.66 s\n",
      "Wall time: 5.82 s\n"
     ]
    }
   ],
   "source": [
    "%%time\n",
    "tscv = TimeSeriesSplit()\n",
    "parametres={'fit_intercept':[True,False], 'normalize':[True,False],'positive':[True,False]}\n",
    "model=LinearRegression()\n",
    "best_model_0=GridSearchCV(model,parametres,cv=tscv,scoring=new_scorer)\n",
    "best_model_0.fit(features_train,target_train)\n",
    "\n",
    "print(abs(best_model_0.best_score_))\n",
    "print(best_model_0.best_params_)"
   ]
  },
  {
   "cell_type": "markdown",
   "metadata": {},
   "source": [
    "#### Модель случайного леса"
   ]
  },
  {
   "cell_type": "markdown",
   "metadata": {},
   "source": [
    "Попробуем подобрать гиперпараметры:"
   ]
  },
  {
   "cell_type": "code",
   "execution_count": 32,
   "metadata": {
    "scrolled": true
   },
   "outputs": [
    {
     "name": "stdout",
     "output_type": "stream",
     "text": [
      "25.45170995076299\n",
      "{'max_depth': 17, 'n_estimators': 50}\n",
      "CPU times: user 45.9 s, sys: 55.6 ms, total: 45.9 s\n",
      "Wall time: 47.1 s\n"
     ]
    }
   ],
   "source": [
    "%%time\n",
    "\n",
    "parametres={'n_estimators': range (40, 51, 10),\n",
    "            'max_depth': range (11,19,2)}\n",
    "model=RandomForestRegressor(random_state=RS)\n",
    "best_model_1=GridSearchCV(model,parametres,cv=tscv,scoring=new_scorer)\n",
    "best_model_1.fit(features_train,target_train)\n",
    "\n",
    "print(abs(best_model_1.best_score_))\n",
    "print(best_model_1.best_params_)"
   ]
  },
  {
   "cell_type": "markdown",
   "metadata": {},
   "source": [
    "#### Модель градиентного бустинга"
   ]
  },
  {
   "cell_type": "code",
   "execution_count": 33,
   "metadata": {
    "scrolled": true
   },
   "outputs": [
    {
     "name": "stdout",
     "output_type": "stream",
     "text": [
      "24.96799268511402\n",
      "{'max_depth': 11}\n",
      "CPU times: user 2min 27s, sys: 3.38 s, total: 2min 30s\n",
      "Wall time: 2min 31s\n"
     ]
    }
   ],
   "source": [
    "%%time\n",
    "\n",
    "parametres={'max_depth': range (11,13,2)}\n",
    "model=LGBMRegressor(random_state=RS)\n",
    "best_model_2=GridSearchCV(model,parametres,cv=tscv,scoring=new_scorer)\n",
    "best_model_2.fit(features_train,target_train)\n",
    "\n",
    "print(abs(best_model_2.best_score_))\n",
    "print(best_model_2.best_params_)"
   ]
  },
  {
   "cell_type": "code",
   "execution_count": 34,
   "metadata": {},
   "outputs": [
    {
     "name": "stdout",
     "output_type": "stream",
     "text": [
      "CPU times: user 84.5 ms, sys: 0 ns, total: 84.5 ms\n",
      "Wall time: 91.2 ms\n"
     ]
    }
   ],
   "source": [
    "%%time\n",
    "#Предсказание модели градиентного бустинга с наилучшими гиперпараметрами\n",
    "predictions_best_2=best_model_2.predict(features_train)"
   ]
  },
  {
   "cell_type": "markdown",
   "metadata": {},
   "source": [
    "**Вывод по обучению и подбору гиперпараметров на тренировочной выборке**\n",
    "\n",
    "Лучше всех себя показала модель градиентного бустинга, RMSE которой равняется 24.97, однако время обучения составило 2 минуты 31 секунду с перебором только 1 гиперпараметра.\n",
    "\n",
    "Далее идёт модельслучайного леса со схожим качеством: RMSE=25.5, однако время обучения составило меньше: 47.1 секунд.\n",
    "\n",
    "Замыкает модель линейной регрессии с RMSE=27.0."
   ]
  },
  {
   "cell_type": "markdown",
   "metadata": {},
   "source": [
    "## Тестирование"
   ]
  },
  {
   "cell_type": "markdown",
   "metadata": {},
   "source": [
    "Проверим работу моделей на тестовой выборке."
   ]
  },
  {
   "cell_type": "markdown",
   "metadata": {},
   "source": [
    "### Модель линейной регрессии"
   ]
  },
  {
   "cell_type": "code",
   "execution_count": 35,
   "metadata": {},
   "outputs": [],
   "source": [
    "#предсказание для модели линейной регрессии на тестовой выборке\n",
    "predictions_test_0=best_model_0.predict(features_test)"
   ]
  },
  {
   "cell_type": "code",
   "execution_count": 36,
   "metadata": {
    "scrolled": true
   },
   "outputs": [
    {
     "data": {
      "text/plain": [
       "45.39884294751136"
      ]
     },
     "execution_count": 36,
     "metadata": {},
     "output_type": "execute_result"
    }
   ],
   "source": [
    "RMSE(target_test,predictions_test_0)"
   ]
  },
  {
   "cell_type": "markdown",
   "metadata": {},
   "source": [
    "Как видно, используемая модель линейной регрессии подходит для решения данной задачи: RMSE меньше 48."
   ]
  },
  {
   "cell_type": "markdown",
   "metadata": {},
   "source": [
    "### Модель случайного леса"
   ]
  },
  {
   "cell_type": "code",
   "execution_count": 37,
   "metadata": {},
   "outputs": [],
   "source": [
    "#предсказание для модели случайного леса на тестовой выборке\n",
    "predictions_test_1=best_model_1.predict(features_test)"
   ]
  },
  {
   "cell_type": "code",
   "execution_count": 38,
   "metadata": {
    "scrolled": true
   },
   "outputs": [
    {
     "data": {
      "text/plain": [
       "43.26763909373608"
      ]
     },
     "execution_count": 38,
     "metadata": {},
     "output_type": "execute_result"
    }
   ],
   "source": [
    "RMSE(target_test,predictions_test_1)"
   ]
  },
  {
   "cell_type": "markdown",
   "metadata": {},
   "source": [
    "Для модели случайного леса результат удовлетворителен: RMSE=43.7"
   ]
  },
  {
   "cell_type": "markdown",
   "metadata": {},
   "source": [
    "### Модель градиентного бустинга"
   ]
  },
  {
   "cell_type": "code",
   "execution_count": 39,
   "metadata": {},
   "outputs": [],
   "source": [
    "#предсказание для модели градиентного бустинга на тестовой выборке\n",
    "predictions_test_2=best_model_2.predict(features_test)"
   ]
  },
  {
   "cell_type": "code",
   "execution_count": 40,
   "metadata": {
    "scrolled": false
   },
   "outputs": [
    {
     "data": {
      "text/plain": [
       "40.84641886621221"
      ]
     },
     "execution_count": 40,
     "metadata": {},
     "output_type": "execute_result"
    }
   ],
   "source": [
    "RMSE(target_test,predictions_test_2)"
   ]
  },
  {
   "cell_type": "markdown",
   "metadata": {},
   "source": [
    "Для модели градиентного бустинга результат наилучший: RMSE=40.8"
   ]
  },
  {
   "cell_type": "markdown",
   "metadata": {},
   "source": [
    "**Вывод по оценке на тестовой выборке**\n",
    "\n",
    "Лучше всех себя показала модель градиентного бустинга, RMSE на тренинровочной выборке которой равняется 40.8.\n",
    "\n",
    "Далее идёт модель случайного леса с RMSE=43.7.\n",
    "\n",
    "Замыкает модель линейной регрессии c RMSE=45.4."
   ]
  },
  {
   "cell_type": "markdown",
   "metadata": {},
   "source": [
    "## Решение для лага в 168 (с учётом недельной сезонности)"
   ]
  },
  {
   "cell_type": "code",
   "execution_count": 41,
   "metadata": {},
   "outputs": [],
   "source": [
    "#загрузка данных методом pandas read_csv\n",
    "#индекс - нулевой столбец с датами, даты - переводим в формат дат\n",
    "df_168=pd.read_csv('/datasets/taxi.csv', index_col=[0],parse_dates=[0])"
   ]
  },
  {
   "cell_type": "code",
   "execution_count": 42,
   "metadata": {},
   "outputs": [],
   "source": [
    "#выполнение ресемплирования методом resample()\n",
    "#период для ресемплирования - 1 час, параметр - сумма\n",
    "df_168=df_168.resample('1H').sum()"
   ]
  },
  {
   "cell_type": "code",
   "execution_count": 43,
   "metadata": {},
   "outputs": [],
   "source": [
    "#создадаём признаки новой функцией\n",
    "make_features(df_168,168,5)"
   ]
  },
  {
   "cell_type": "code",
   "execution_count": 44,
   "metadata": {},
   "outputs": [],
   "source": [
    "#разделение выборок методом train_test_split без перемешивания\n",
    "train, test=train_test_split(df_168,shuffle=False,test_size=0.1)\n",
    "train=train.dropna()"
   ]
  },
  {
   "cell_type": "code",
   "execution_count": 45,
   "metadata": {},
   "outputs": [],
   "source": [
    "#выделение целевого признака: num_orders\n",
    "features_train=train.drop(['num_orders'],axis=1)\n",
    "target_train=train['num_orders']\n",
    "features_test=test.drop(['num_orders'],axis=1)\n",
    "target_test=test['num_orders']"
   ]
  },
  {
   "cell_type": "code",
   "execution_count": 46,
   "metadata": {},
   "outputs": [
    {
     "name": "stdout",
     "output_type": "stream",
     "text": [
      "21.960474549689344\n",
      "{'fit_intercept': False, 'normalize': True, 'positive': True}\n",
      "CPU times: user 4.04 s, sys: 9.18 s, total: 13.2 s\n",
      "Wall time: 13.2 s\n"
     ]
    }
   ],
   "source": [
    "%%time\n",
    "tscv = TimeSeriesSplit()\n",
    "parametres={'fit_intercept':[True,False], 'normalize':[True,False],'positive':[True,False]}\n",
    "model=LinearRegression()\n",
    "best_model_0=GridSearchCV(model,parametres,cv=tscv,scoring=new_scorer)\n",
    "best_model_0.fit(features_train,target_train)\n",
    "\n",
    "print(abs(best_model_0.best_score_))\n",
    "print(best_model_0.best_params_)"
   ]
  },
  {
   "cell_type": "code",
   "execution_count": 47,
   "metadata": {},
   "outputs": [],
   "source": [
    "#предсказание для модели линейной регрессии на тестовой выборке\n",
    "predictions_test_0=best_model_0.predict(features_test)"
   ]
  },
  {
   "cell_type": "code",
   "execution_count": 48,
   "metadata": {
    "scrolled": false
   },
   "outputs": [
    {
     "data": {
      "text/plain": [
       "34.844166242987804"
      ]
     },
     "execution_count": 48,
     "metadata": {},
     "output_type": "execute_result"
    }
   ],
   "source": [
    "RMSE(target_test,predictions_test_0)"
   ]
  },
  {
   "cell_type": "markdown",
   "metadata": {},
   "source": [
    "Значение RMSE значительно увеличился на данном лаге. Проверим для сравненения на модели случайного леса (градиентный бустинг слишком долго крутится)"
   ]
  },
  {
   "cell_type": "code",
   "execution_count": 49,
   "metadata": {},
   "outputs": [
    {
     "name": "stdout",
     "output_type": "stream",
     "text": [
      "23.01612048179095\n",
      "{'max_depth': 18, 'n_estimators': 50}\n",
      "CPU times: user 2min 10s, sys: 22.6 ms, total: 2min 10s\n",
      "Wall time: 2min 14s\n"
     ]
    }
   ],
   "source": [
    "%%time\n",
    "\n",
    "parametres={'n_estimators': range (40, 51, 10),\n",
    "            'max_depth': range (16,19,2)}\n",
    "model=RandomForestRegressor(random_state=RS)\n",
    "best_model_1=GridSearchCV(model,parametres,cv=tscv,scoring=new_scorer)\n",
    "best_model_1.fit(features_train,target_train)\n",
    "\n",
    "print(abs(best_model_1.best_score_))\n",
    "print(best_model_1.best_params_)"
   ]
  },
  {
   "cell_type": "code",
   "execution_count": 50,
   "metadata": {},
   "outputs": [],
   "source": [
    "#предсказание для модели случайного леса на тестовой выборке\n",
    "predictions_test_1=best_model_1.predict(features_test)"
   ]
  },
  {
   "cell_type": "code",
   "execution_count": 51,
   "metadata": {
    "scrolled": true
   },
   "outputs": [
    {
     "data": {
      "text/plain": [
       "40.13831844755994"
      ]
     },
     "execution_count": 51,
     "metadata": {},
     "output_type": "execute_result"
    }
   ],
   "source": [
    "RMSE(target_test,predictions_test_1)"
   ]
  },
  {
   "cell_type": "markdown",
   "metadata": {},
   "source": [
    "**Вывод по оценце на лаге в 168**\n",
    "\n",
    "Были проверены две модели с учётом периодичности в неделю.\n",
    "\n",
    "Модель линейной регрессии показала результат на тестовой выборке RMSE=34.8.\n",
    "\n",
    "А модель случайного леса - RMSE=40.13.\n",
    "\n",
    "Можно утверждать, что наибольший благоприятный эффект лаг в 168 показал себя для модели регрессии, тогда как для модели случайного леса эффект не сильно заметен."
   ]
  },
  {
   "cell_type": "markdown",
   "metadata": {},
   "source": [
    "## Чек-лист проверки"
   ]
  },
  {
   "cell_type": "markdown",
   "metadata": {},
   "source": [
    "- [x]  Jupyter Notebook открыт\n",
    "- [x]  Весь код выполняется без ошибок\n",
    "- [x]  Ячейки с кодом расположены в порядке исполнения\n",
    "- [x]  Данные загружены и подготовлены\n",
    "- [x]  Данные проанализированы\n",
    "- [x]  Модель обучена, гиперпараметры подобраны\n",
    "- [x]  Качество моделей проверено, выводы сделаны\n",
    "- [x]  Значение *RMSE* на тестовой выборке не больше 48"
   ]
  }
 ],
 "metadata": {
  "ExecuteTimeLog": [
   {
    "duration": 1278,
    "start_time": "2023-06-26T10:45:28.213Z"
   },
   {
    "duration": 397,
    "start_time": "2023-06-26T10:46:21.130Z"
   },
   {
    "duration": 14,
    "start_time": "2023-06-26T10:47:42.940Z"
   },
   {
    "duration": 15,
    "start_time": "2023-06-26T10:48:38.929Z"
   },
   {
    "duration": 74,
    "start_time": "2023-06-26T10:48:42.656Z"
   },
   {
    "duration": 11,
    "start_time": "2023-06-26T10:48:43.299Z"
   },
   {
    "duration": 11,
    "start_time": "2023-06-26T10:48:45.608Z"
   },
   {
    "duration": 139,
    "start_time": "2023-06-26T10:50:09.144Z"
   },
   {
    "duration": 17,
    "start_time": "2023-06-26T10:50:13.512Z"
   },
   {
    "duration": 16,
    "start_time": "2023-06-26T10:50:22.264Z"
   },
   {
    "duration": 43,
    "start_time": "2023-06-26T10:51:11.308Z"
   },
   {
    "duration": 12,
    "start_time": "2023-06-26T10:51:25.909Z"
   },
   {
    "duration": 3,
    "start_time": "2023-06-26T10:52:24.954Z"
   },
   {
    "duration": 70,
    "start_time": "2023-06-26T10:52:26.466Z"
   },
   {
    "duration": 11,
    "start_time": "2023-06-26T10:52:27.926Z"
   },
   {
    "duration": 47,
    "start_time": "2023-06-26T10:52:32.423Z"
   },
   {
    "duration": 12,
    "start_time": "2023-06-26T10:52:33.452Z"
   },
   {
    "duration": 56,
    "start_time": "2023-06-26T10:53:10.098Z"
   },
   {
    "duration": 11,
    "start_time": "2023-06-26T10:53:15.922Z"
   },
   {
    "duration": 5,
    "start_time": "2023-06-26T10:53:57.120Z"
   },
   {
    "duration": 23,
    "start_time": "2023-06-26T10:55:47.910Z"
   },
   {
    "duration": 6,
    "start_time": "2023-06-26T10:56:08.497Z"
   },
   {
    "duration": 10,
    "start_time": "2023-06-26T10:56:13.853Z"
   },
   {
    "duration": 9,
    "start_time": "2023-06-26T10:56:16.038Z"
   },
   {
    "duration": 11,
    "start_time": "2023-06-26T10:56:18.728Z"
   },
   {
    "duration": 9,
    "start_time": "2023-06-26T10:57:04.128Z"
   },
   {
    "duration": 4,
    "start_time": "2023-06-26T10:57:10.567Z"
   },
   {
    "duration": 84,
    "start_time": "2023-06-26T10:57:10.582Z"
   },
   {
    "duration": 19,
    "start_time": "2023-06-26T10:57:10.672Z"
   },
   {
    "duration": 27,
    "start_time": "2023-06-26T10:57:10.699Z"
   },
   {
    "duration": 12,
    "start_time": "2023-06-26T10:57:10.728Z"
   },
   {
    "duration": 11,
    "start_time": "2023-06-26T10:57:10.742Z"
   },
   {
    "duration": 9,
    "start_time": "2023-06-26T10:57:14.210Z"
   },
   {
    "duration": 8,
    "start_time": "2023-06-26T10:58:27.599Z"
   },
   {
    "duration": 8,
    "start_time": "2023-06-26T10:58:33.404Z"
   },
   {
    "duration": 7,
    "start_time": "2023-06-26T10:58:48.356Z"
   },
   {
    "duration": 5,
    "start_time": "2023-06-26T10:59:30.096Z"
   },
   {
    "duration": 865,
    "start_time": "2023-06-26T10:59:33.904Z"
   },
   {
    "duration": 188,
    "start_time": "2023-06-26T11:01:53.355Z"
   },
   {
    "duration": 5,
    "start_time": "2023-06-26T11:02:10.146Z"
   },
   {
    "duration": 23,
    "start_time": "2023-06-26T11:02:16.317Z"
   },
   {
    "duration": 5,
    "start_time": "2023-06-26T11:02:19.056Z"
   },
   {
    "duration": 4,
    "start_time": "2023-06-26T11:03:10.455Z"
   },
   {
    "duration": 4,
    "start_time": "2023-06-26T11:03:57.045Z"
   },
   {
    "duration": 3,
    "start_time": "2023-06-26T11:06:22.900Z"
   },
   {
    "duration": 245,
    "start_time": "2023-06-26T11:06:52.597Z"
   },
   {
    "duration": 248,
    "start_time": "2023-06-26T11:07:17.597Z"
   },
   {
    "duration": 333,
    "start_time": "2023-06-26T11:07:21.247Z"
   },
   {
    "duration": 252,
    "start_time": "2023-06-26T11:08:00.460Z"
   },
   {
    "duration": 273,
    "start_time": "2023-06-26T11:08:13.309Z"
   },
   {
    "duration": 269,
    "start_time": "2023-06-26T11:08:30.596Z"
   },
   {
    "duration": 256,
    "start_time": "2023-06-26T11:08:34.285Z"
   },
   {
    "duration": 356,
    "start_time": "2023-06-26T11:09:34.398Z"
   },
   {
    "duration": 265,
    "start_time": "2023-06-26T11:09:38.921Z"
   },
   {
    "duration": 255,
    "start_time": "2023-06-26T11:09:45.928Z"
   },
   {
    "duration": 264,
    "start_time": "2023-06-26T11:09:49.033Z"
   },
   {
    "duration": 248,
    "start_time": "2023-06-26T11:09:55.592Z"
   },
   {
    "duration": 282,
    "start_time": "2023-06-26T11:10:01.849Z"
   },
   {
    "duration": 369,
    "start_time": "2023-06-26T11:10:04.468Z"
   },
   {
    "duration": 133,
    "start_time": "2023-06-26T11:10:17.411Z"
   },
   {
    "duration": 27,
    "start_time": "2023-06-26T11:10:20.197Z"
   },
   {
    "duration": 18,
    "start_time": "2023-06-26T11:10:23.161Z"
   },
   {
    "duration": 250,
    "start_time": "2023-06-26T11:10:52.712Z"
   },
   {
    "duration": 253,
    "start_time": "2023-06-26T11:10:57.149Z"
   },
   {
    "duration": 181,
    "start_time": "2023-06-26T11:11:37.441Z"
   },
   {
    "duration": 156,
    "start_time": "2023-06-26T11:11:41.946Z"
   },
   {
    "duration": 149,
    "start_time": "2023-06-26T11:12:17.605Z"
   },
   {
    "duration": 149,
    "start_time": "2023-06-26T11:12:21.808Z"
   },
   {
    "duration": 165,
    "start_time": "2023-06-26T11:12:23.551Z"
   },
   {
    "duration": 367,
    "start_time": "2023-06-26T11:13:52.368Z"
   },
   {
    "duration": 233,
    "start_time": "2023-06-26T11:14:00.865Z"
   },
   {
    "duration": 302,
    "start_time": "2023-06-26T11:14:07.563Z"
   },
   {
    "duration": 13,
    "start_time": "2023-06-26T11:43:30.750Z"
   },
   {
    "duration": 245,
    "start_time": "2023-06-26T11:45:05.965Z"
   },
   {
    "duration": 16,
    "start_time": "2023-06-26T11:53:09.000Z"
   },
   {
    "duration": 262,
    "start_time": "2023-06-26T11:53:40.234Z"
   },
   {
    "duration": 14,
    "start_time": "2023-06-26T11:54:07.137Z"
   },
   {
    "duration": 393,
    "start_time": "2023-06-26T11:54:10.837Z"
   },
   {
    "duration": 347,
    "start_time": "2023-06-26T11:54:44.366Z"
   },
   {
    "duration": 239,
    "start_time": "2023-06-26T11:54:57.851Z"
   },
   {
    "duration": 332,
    "start_time": "2023-06-26T11:55:03.810Z"
   },
   {
    "duration": 335,
    "start_time": "2023-06-26T11:55:27.618Z"
   },
   {
    "duration": 321,
    "start_time": "2023-06-26T11:59:31.035Z"
   },
   {
    "duration": 499,
    "start_time": "2023-06-26T11:59:42.316Z"
   },
   {
    "duration": 425,
    "start_time": "2023-06-26T12:01:24.943Z"
   },
   {
    "duration": 287,
    "start_time": "2023-06-26T12:01:35.756Z"
   },
   {
    "duration": 227,
    "start_time": "2023-06-26T12:02:07.630Z"
   },
   {
    "duration": 228,
    "start_time": "2023-06-26T12:02:31.759Z"
   },
   {
    "duration": 210,
    "start_time": "2023-06-26T12:03:27.806Z"
   },
   {
    "duration": 211,
    "start_time": "2023-06-26T12:03:55.447Z"
   },
   {
    "duration": 220,
    "start_time": "2023-06-26T12:07:29.361Z"
   },
   {
    "duration": 249,
    "start_time": "2023-06-26T12:07:40.061Z"
   },
   {
    "duration": 219,
    "start_time": "2023-06-26T12:07:55.041Z"
   },
   {
    "duration": 220,
    "start_time": "2023-06-26T12:10:11.500Z"
   },
   {
    "duration": 246,
    "start_time": "2023-06-26T12:10:17.307Z"
   },
   {
    "duration": 244,
    "start_time": "2023-06-26T12:10:22.144Z"
   },
   {
    "duration": 234,
    "start_time": "2023-06-26T12:10:37.705Z"
   },
   {
    "duration": 218,
    "start_time": "2023-06-26T12:11:18.120Z"
   },
   {
    "duration": 247,
    "start_time": "2023-06-26T12:12:01.837Z"
   },
   {
    "duration": 402,
    "start_time": "2023-06-26T12:14:54.056Z"
   },
   {
    "duration": 220,
    "start_time": "2023-06-26T12:15:53.409Z"
   },
   {
    "duration": 237,
    "start_time": "2023-06-26T12:15:57.657Z"
   },
   {
    "duration": 322,
    "start_time": "2023-06-26T12:21:00.414Z"
   },
   {
    "duration": 14,
    "start_time": "2023-06-26T12:26:17.411Z"
   },
   {
    "duration": 2554,
    "start_time": "2023-06-26T14:45:50.915Z"
   },
   {
    "duration": 570,
    "start_time": "2023-06-26T14:45:53.472Z"
   },
   {
    "duration": 29,
    "start_time": "2023-06-26T14:45:54.044Z"
   },
   {
    "duration": 67,
    "start_time": "2023-06-26T14:45:54.076Z"
   },
   {
    "duration": 19,
    "start_time": "2023-06-26T14:45:54.147Z"
   },
   {
    "duration": 24,
    "start_time": "2023-06-26T14:45:54.168Z"
   },
   {
    "duration": 19,
    "start_time": "2023-06-26T14:45:54.196Z"
   },
   {
    "duration": 22,
    "start_time": "2023-06-26T14:45:54.217Z"
   },
   {
    "duration": 12,
    "start_time": "2023-06-26T14:45:54.242Z"
   },
   {
    "duration": 13,
    "start_time": "2023-06-26T14:45:54.261Z"
   },
   {
    "duration": 14,
    "start_time": "2023-06-26T14:45:54.279Z"
   },
   {
    "duration": 564,
    "start_time": "2023-06-26T14:45:54.297Z"
   },
   {
    "duration": 15,
    "start_time": "2023-06-26T14:45:54.863Z"
   },
   {
    "duration": 446,
    "start_time": "2023-06-26T14:45:54.894Z"
   },
   {
    "duration": 467,
    "start_time": "2023-06-26T14:45:55.344Z"
   },
   {
    "duration": 418,
    "start_time": "2023-06-26T14:45:55.820Z"
   },
   {
    "duration": 452,
    "start_time": "2023-06-26T14:45:56.240Z"
   },
   {
    "duration": 6,
    "start_time": "2023-06-26T14:45:56.694Z"
   },
   {
    "duration": 2,
    "start_time": "2023-06-26T15:00:40.804Z"
   },
   {
    "duration": 110,
    "start_time": "2023-06-26T15:08:56.455Z"
   },
   {
    "duration": 9,
    "start_time": "2023-06-26T15:09:00.494Z"
   },
   {
    "duration": 5,
    "start_time": "2023-06-26T15:09:50.389Z"
   },
   {
    "duration": 13,
    "start_time": "2023-06-26T15:10:33.392Z"
   },
   {
    "duration": 7,
    "start_time": "2023-06-26T15:10:38.656Z"
   },
   {
    "duration": 11,
    "start_time": "2023-06-26T15:10:55.437Z"
   },
   {
    "duration": 19,
    "start_time": "2023-06-26T15:11:09.271Z"
   },
   {
    "duration": 15,
    "start_time": "2023-06-26T15:11:59.311Z"
   },
   {
    "duration": 18,
    "start_time": "2023-06-26T15:12:14.511Z"
   },
   {
    "duration": 3,
    "start_time": "2023-06-26T15:12:27.653Z"
   },
   {
    "duration": 63,
    "start_time": "2023-06-26T15:12:27.658Z"
   },
   {
    "duration": 11,
    "start_time": "2023-06-26T15:12:27.723Z"
   },
   {
    "duration": 50,
    "start_time": "2023-06-26T15:12:27.735Z"
   },
   {
    "duration": 10,
    "start_time": "2023-06-26T15:12:27.789Z"
   },
   {
    "duration": 10,
    "start_time": "2023-06-26T15:12:27.800Z"
   },
   {
    "duration": 27,
    "start_time": "2023-06-26T15:12:27.811Z"
   },
   {
    "duration": 9,
    "start_time": "2023-06-26T15:12:27.839Z"
   },
   {
    "duration": 6,
    "start_time": "2023-06-26T15:12:27.850Z"
   },
   {
    "duration": 20,
    "start_time": "2023-06-26T15:12:27.857Z"
   },
   {
    "duration": 21,
    "start_time": "2023-06-26T15:12:27.879Z"
   },
   {
    "duration": 230,
    "start_time": "2023-06-26T15:12:27.902Z"
   },
   {
    "duration": 6,
    "start_time": "2023-06-26T15:12:28.134Z"
   },
   {
    "duration": 272,
    "start_time": "2023-06-26T15:12:28.142Z"
   },
   {
    "duration": 331,
    "start_time": "2023-06-26T15:12:28.415Z"
   },
   {
    "duration": 226,
    "start_time": "2023-06-26T15:12:28.748Z"
   },
   {
    "duration": 294,
    "start_time": "2023-06-26T15:12:28.977Z"
   },
   {
    "duration": 4,
    "start_time": "2023-06-26T15:12:29.279Z"
   },
   {
    "duration": 7,
    "start_time": "2023-06-26T15:12:29.285Z"
   },
   {
    "duration": 8,
    "start_time": "2023-06-26T15:12:29.294Z"
   },
   {
    "duration": 22,
    "start_time": "2023-06-26T15:12:29.304Z"
   },
   {
    "duration": 16,
    "start_time": "2023-06-26T15:24:28.046Z"
   },
   {
    "duration": 30,
    "start_time": "2023-06-26T15:26:36.766Z"
   },
   {
    "duration": 17,
    "start_time": "2023-06-26T15:26:45.686Z"
   },
   {
    "duration": 1518,
    "start_time": "2023-06-26T15:26:53.393Z"
   },
   {
    "duration": 42,
    "start_time": "2023-06-26T15:26:54.913Z"
   },
   {
    "duration": 14,
    "start_time": "2023-06-26T15:26:54.957Z"
   },
   {
    "duration": 40,
    "start_time": "2023-06-26T15:26:54.975Z"
   },
   {
    "duration": 12,
    "start_time": "2023-06-26T15:26:55.017Z"
   },
   {
    "duration": 10,
    "start_time": "2023-06-26T15:26:55.031Z"
   },
   {
    "duration": 49,
    "start_time": "2023-06-26T15:26:55.042Z"
   },
   {
    "duration": 15,
    "start_time": "2023-06-26T15:26:55.093Z"
   },
   {
    "duration": 7,
    "start_time": "2023-06-26T15:26:55.110Z"
   },
   {
    "duration": 8,
    "start_time": "2023-06-26T15:26:55.120Z"
   },
   {
    "duration": 11,
    "start_time": "2023-06-26T15:26:55.129Z"
   },
   {
    "duration": 328,
    "start_time": "2023-06-26T15:26:55.142Z"
   },
   {
    "duration": 14,
    "start_time": "2023-06-26T15:26:55.474Z"
   },
   {
    "duration": 286,
    "start_time": "2023-06-26T15:26:55.494Z"
   },
   {
    "duration": 371,
    "start_time": "2023-06-26T15:26:55.781Z"
   },
   {
    "duration": 297,
    "start_time": "2023-06-26T15:26:56.153Z"
   },
   {
    "duration": 296,
    "start_time": "2023-06-26T15:26:56.451Z"
   },
   {
    "duration": 2,
    "start_time": "2023-06-26T15:26:56.749Z"
   },
   {
    "duration": 40,
    "start_time": "2023-06-26T15:26:56.753Z"
   },
   {
    "duration": 24,
    "start_time": "2023-06-26T15:26:56.798Z"
   },
   {
    "duration": 7,
    "start_time": "2023-06-26T15:26:56.823Z"
   },
   {
    "duration": 8,
    "start_time": "2023-06-26T15:28:52.196Z"
   },
   {
    "duration": 10,
    "start_time": "2023-06-26T15:28:53.584Z"
   },
   {
    "duration": 5,
    "start_time": "2023-06-26T15:29:31.216Z"
   },
   {
    "duration": 32,
    "start_time": "2023-06-26T15:31:30.896Z"
   },
   {
    "duration": 357,
    "start_time": "2023-06-26T15:32:30.458Z"
   },
   {
    "duration": 75,
    "start_time": "2023-06-26T15:32:52.096Z"
   },
   {
    "duration": 22,
    "start_time": "2023-06-26T15:33:02.768Z"
   },
   {
    "duration": 9,
    "start_time": "2023-06-26T15:33:07.687Z"
   },
   {
    "duration": 5,
    "start_time": "2023-06-26T15:33:08.904Z"
   },
   {
    "duration": 79,
    "start_time": "2023-06-26T15:33:09.995Z"
   },
   {
    "duration": 16,
    "start_time": "2023-06-26T15:33:27.606Z"
   },
   {
    "duration": 13,
    "start_time": "2023-06-26T15:34:03.357Z"
   },
   {
    "duration": 7,
    "start_time": "2023-06-26T15:34:39.492Z"
   },
   {
    "duration": 3,
    "start_time": "2023-06-26T15:34:51.059Z"
   },
   {
    "duration": 1554,
    "start_time": "2023-06-26T16:40:59.293Z"
   },
   {
    "duration": 62,
    "start_time": "2023-06-26T16:41:00.849Z"
   },
   {
    "duration": 12,
    "start_time": "2023-06-26T16:41:00.913Z"
   },
   {
    "duration": 63,
    "start_time": "2023-06-26T16:41:00.927Z"
   },
   {
    "duration": 12,
    "start_time": "2023-06-26T16:41:00.995Z"
   },
   {
    "duration": 41,
    "start_time": "2023-06-26T16:41:01.009Z"
   },
   {
    "duration": 49,
    "start_time": "2023-06-26T16:41:01.052Z"
   },
   {
    "duration": 14,
    "start_time": "2023-06-26T16:41:01.104Z"
   },
   {
    "duration": 49,
    "start_time": "2023-06-26T16:41:01.120Z"
   },
   {
    "duration": 51,
    "start_time": "2023-06-26T16:41:01.174Z"
   },
   {
    "duration": 49,
    "start_time": "2023-06-26T16:41:01.227Z"
   },
   {
    "duration": 396,
    "start_time": "2023-06-26T16:41:01.287Z"
   },
   {
    "duration": 12,
    "start_time": "2023-06-26T16:41:01.685Z"
   },
   {
    "duration": 296,
    "start_time": "2023-06-26T16:41:01.700Z"
   },
   {
    "duration": 442,
    "start_time": "2023-06-26T16:41:01.998Z"
   },
   {
    "duration": 260,
    "start_time": "2023-06-26T16:41:02.442Z"
   },
   {
    "duration": 303,
    "start_time": "2023-06-26T16:41:02.703Z"
   },
   {
    "duration": 4,
    "start_time": "2023-06-26T16:41:03.007Z"
   },
   {
    "duration": 18,
    "start_time": "2023-06-26T16:41:03.012Z"
   },
   {
    "duration": 26,
    "start_time": "2023-06-26T16:41:03.032Z"
   },
   {
    "duration": 28,
    "start_time": "2023-06-26T16:41:03.059Z"
   },
   {
    "duration": 12,
    "start_time": "2023-06-26T16:41:03.090Z"
   },
   {
    "duration": 83,
    "start_time": "2023-06-26T16:41:03.104Z"
   },
   {
    "duration": 11,
    "start_time": "2023-06-26T16:42:37.936Z"
   },
   {
    "duration": 301,
    "start_time": "2023-06-26T16:42:40.493Z"
   },
   {
    "duration": 12,
    "start_time": "2023-06-26T16:42:49.415Z"
   },
   {
    "duration": 6,
    "start_time": "2023-06-26T16:43:01.191Z"
   },
   {
    "duration": 14,
    "start_time": "2023-06-26T16:43:24.803Z"
   },
   {
    "duration": 8,
    "start_time": "2023-06-26T16:43:26.891Z"
   },
   {
    "duration": 5,
    "start_time": "2023-06-26T16:43:28.920Z"
   },
   {
    "duration": 8,
    "start_time": "2023-06-26T16:43:30.439Z"
   },
   {
    "duration": 10,
    "start_time": "2023-06-26T16:43:31.933Z"
   },
   {
    "duration": 4,
    "start_time": "2023-06-26T16:43:33.203Z"
   },
   {
    "duration": 17,
    "start_time": "2023-06-26T16:43:50.836Z"
   },
   {
    "duration": 7,
    "start_time": "2023-06-26T16:43:52.892Z"
   },
   {
    "duration": 6,
    "start_time": "2023-06-26T16:43:54.160Z"
   },
   {
    "duration": 15,
    "start_time": "2023-06-26T16:43:55.859Z"
   },
   {
    "duration": 10,
    "start_time": "2023-06-26T16:43:57.410Z"
   },
   {
    "duration": 5,
    "start_time": "2023-06-26T16:43:59.158Z"
   },
   {
    "duration": 820,
    "start_time": "2023-06-26T16:46:11.761Z"
   },
   {
    "duration": 124,
    "start_time": "2023-06-26T16:46:13.492Z"
   },
   {
    "duration": 7,
    "start_time": "2023-06-26T16:46:28.438Z"
   },
   {
    "duration": 5,
    "start_time": "2023-06-26T16:46:37.053Z"
   },
   {
    "duration": 157,
    "start_time": "2023-06-26T16:48:32.426Z"
   },
   {
    "duration": 57,
    "start_time": "2023-06-26T16:49:00.826Z"
   },
   {
    "duration": 1783,
    "start_time": "2023-06-26T16:49:08.093Z"
   },
   {
    "duration": 9,
    "start_time": "2023-06-26T16:49:10.952Z"
   },
   {
    "duration": 5,
    "start_time": "2023-06-26T16:49:11.742Z"
   },
   {
    "duration": 1789,
    "start_time": "2023-06-26T16:49:15.991Z"
   },
   {
    "duration": 74,
    "start_time": "2023-06-26T16:49:22.700Z"
   },
   {
    "duration": 4,
    "start_time": "2023-06-26T16:49:26.520Z"
   },
   {
    "duration": 5,
    "start_time": "2023-06-26T16:49:28.801Z"
   },
   {
    "duration": 195,
    "start_time": "2023-06-26T16:50:52.754Z"
   },
   {
    "duration": 3,
    "start_time": "2023-06-26T16:51:28.780Z"
   },
   {
    "duration": 120,
    "start_time": "2023-06-26T16:51:33.984Z"
   },
   {
    "duration": 9,
    "start_time": "2023-06-26T16:51:40.116Z"
   },
   {
    "duration": 325,
    "start_time": "2023-06-26T16:51:49.568Z"
   },
   {
    "duration": 8,
    "start_time": "2023-06-26T16:51:53.796Z"
   },
   {
    "duration": 5,
    "start_time": "2023-06-26T16:51:54.313Z"
   },
   {
    "duration": 1841,
    "start_time": "2023-06-26T16:52:12.398Z"
   },
   {
    "duration": 87,
    "start_time": "2023-06-26T16:52:14.242Z"
   },
   {
    "duration": 4,
    "start_time": "2023-06-26T16:52:16.920Z"
   },
   {
    "duration": 4197,
    "start_time": "2023-06-26T16:52:19.902Z"
   },
   {
    "duration": 57,
    "start_time": "2023-06-26T16:52:31.126Z"
   },
   {
    "duration": 6,
    "start_time": "2023-06-26T16:52:31.787Z"
   },
   {
    "duration": 12394,
    "start_time": "2023-06-26T16:52:58.454Z"
   },
   {
    "duration": 56,
    "start_time": "2023-06-26T16:53:13.204Z"
   },
   {
    "duration": 6,
    "start_time": "2023-06-26T16:53:13.917Z"
   },
   {
    "duration": 383,
    "start_time": "2023-06-26T16:54:25.909Z"
   },
   {
    "duration": 16,
    "start_time": "2023-06-26T16:55:02.916Z"
   },
   {
    "duration": 272,
    "start_time": "2023-06-26T16:55:39.125Z"
   },
   {
    "duration": 14,
    "start_time": "2023-06-26T16:55:44.816Z"
   },
   {
    "duration": 5,
    "start_time": "2023-06-26T16:55:45.679Z"
   },
   {
    "duration": 1683,
    "start_time": "2023-06-26T16:55:55.110Z"
   },
   {
    "duration": 77,
    "start_time": "2023-06-26T16:55:57.808Z"
   },
   {
    "duration": 4,
    "start_time": "2023-06-26T16:56:01.649Z"
   },
   {
    "duration": 12834,
    "start_time": "2023-06-26T16:56:08.204Z"
   },
   {
    "duration": 71,
    "start_time": "2023-06-26T16:56:21.040Z"
   },
   {
    "duration": 6,
    "start_time": "2023-06-26T16:56:21.113Z"
   },
   {
    "duration": 7135,
    "start_time": "2023-06-26T16:57:18.556Z"
   },
   {
    "duration": 216,
    "start_time": "2023-06-26T16:57:25.692Z"
   },
   {
    "duration": 15,
    "start_time": "2023-06-26T16:57:33.319Z"
   },
   {
    "duration": 4,
    "start_time": "2023-06-26T16:57:38.832Z"
   },
   {
    "duration": 10,
    "start_time": "2023-06-26T16:58:24.342Z"
   },
   {
    "duration": 69972,
    "start_time": "2023-06-26T16:58:25.519Z"
   },
   {
    "duration": 97,
    "start_time": "2023-06-26T16:59:35.493Z"
   },
   {
    "duration": 5,
    "start_time": "2023-06-26T16:59:35.592Z"
   },
   {
    "duration": 188381,
    "start_time": "2023-06-26T17:00:02.910Z"
   },
   {
    "duration": 33646,
    "start_time": "2023-06-26T17:03:11.293Z"
   },
   {
    "duration": 86,
    "start_time": "2023-06-26T17:03:44.941Z"
   },
   {
    "duration": 5,
    "start_time": "2023-06-26T17:03:45.029Z"
   },
   {
    "duration": 56,
    "start_time": "2023-06-26T17:03:45.035Z"
   },
   {
    "duration": 6,
    "start_time": "2023-06-26T17:03:45.093Z"
   },
   {
    "duration": 5,
    "start_time": "2023-06-26T17:03:46.383Z"
   },
   {
    "duration": 29,
    "start_time": "2023-06-26T17:03:46.389Z"
   },
   {
    "duration": 5,
    "start_time": "2023-06-26T17:04:43.895Z"
   },
   {
    "duration": 20,
    "start_time": "2023-06-26T17:05:41.911Z"
   },
   {
    "duration": 4,
    "start_time": "2023-06-26T17:05:42.383Z"
   },
   {
    "duration": 9,
    "start_time": "2023-06-26T17:06:49.987Z"
   },
   {
    "duration": 13,
    "start_time": "2023-06-26T17:06:51.425Z"
   },
   {
    "duration": 4,
    "start_time": "2023-06-26T17:06:51.846Z"
   },
   {
    "duration": 1443,
    "start_time": "2023-06-26T17:09:27.463Z"
   },
   {
    "duration": 42,
    "start_time": "2023-06-26T17:09:28.908Z"
   },
   {
    "duration": 11,
    "start_time": "2023-06-26T17:09:28.951Z"
   },
   {
    "duration": 29,
    "start_time": "2023-06-26T17:09:28.964Z"
   },
   {
    "duration": 9,
    "start_time": "2023-06-26T17:09:28.994Z"
   },
   {
    "duration": 5,
    "start_time": "2023-06-26T17:09:29.004Z"
   },
   {
    "duration": 10,
    "start_time": "2023-06-26T17:09:29.011Z"
   },
   {
    "duration": 8,
    "start_time": "2023-06-26T17:09:29.022Z"
   },
   {
    "duration": 5,
    "start_time": "2023-06-26T17:09:29.031Z"
   },
   {
    "duration": 36,
    "start_time": "2023-06-26T17:09:29.038Z"
   },
   {
    "duration": 5,
    "start_time": "2023-06-26T17:09:29.077Z"
   },
   {
    "duration": 314,
    "start_time": "2023-06-26T17:09:29.085Z"
   },
   {
    "duration": 8,
    "start_time": "2023-06-26T17:09:29.401Z"
   },
   {
    "duration": 249,
    "start_time": "2023-06-26T17:09:29.410Z"
   },
   {
    "duration": 367,
    "start_time": "2023-06-26T17:09:29.661Z"
   },
   {
    "duration": 199,
    "start_time": "2023-06-26T17:09:30.030Z"
   },
   {
    "duration": 281,
    "start_time": "2023-06-26T17:09:30.230Z"
   },
   {
    "duration": 4,
    "start_time": "2023-06-26T17:09:30.512Z"
   },
   {
    "duration": 40,
    "start_time": "2023-06-26T17:09:30.517Z"
   },
   {
    "duration": 58,
    "start_time": "2023-06-26T17:09:30.558Z"
   },
   {
    "duration": 19,
    "start_time": "2023-06-26T17:09:30.617Z"
   },
   {
    "duration": 34,
    "start_time": "2023-06-26T17:09:30.637Z"
   },
   {
    "duration": 51,
    "start_time": "2023-06-26T17:09:30.673Z"
   },
   {
    "duration": 50,
    "start_time": "2023-06-26T17:09:30.726Z"
   },
   {
    "duration": 299,
    "start_time": "2023-06-26T17:09:30.777Z"
   },
   {
    "duration": 7,
    "start_time": "2023-06-26T17:09:31.077Z"
   },
   {
    "duration": 409,
    "start_time": "2023-06-26T17:09:31.085Z"
   },
   {
    "duration": 90,
    "start_time": "2023-06-26T17:09:31.497Z"
   },
   {
    "duration": 93,
    "start_time": "2023-06-26T17:09:31.678Z"
   },
   {
    "duration": 1737,
    "start_time": "2023-06-26T17:09:31.773Z"
   },
   {
    "duration": 79,
    "start_time": "2023-06-26T17:09:33.512Z"
   },
   {
    "duration": 5,
    "start_time": "2023-06-26T17:09:33.593Z"
   },
   {
    "duration": 33846,
    "start_time": "2023-06-26T17:09:33.600Z"
   },
   {
    "duration": 76,
    "start_time": "2023-06-26T17:10:07.448Z"
   },
   {
    "duration": 4,
    "start_time": "2023-06-26T17:10:07.526Z"
   },
   {
    "duration": 9159,
    "start_time": "2023-06-26T17:10:07.531Z"
   },
   {
    "duration": 97,
    "start_time": "2023-06-26T17:10:16.691Z"
   },
   {
    "duration": 4,
    "start_time": "2023-06-26T17:10:16.790Z"
   },
   {
    "duration": 2473,
    "start_time": "2023-06-26T17:38:30.069Z"
   },
   {
    "duration": 211,
    "start_time": "2023-06-26T17:38:32.545Z"
   },
   {
    "duration": 14,
    "start_time": "2023-06-26T17:38:32.758Z"
   },
   {
    "duration": 28,
    "start_time": "2023-06-26T17:38:32.775Z"
   },
   {
    "duration": 11,
    "start_time": "2023-06-26T17:38:32.805Z"
   },
   {
    "duration": 6,
    "start_time": "2023-06-26T17:38:32.817Z"
   },
   {
    "duration": 39,
    "start_time": "2023-06-26T17:38:32.825Z"
   },
   {
    "duration": 11,
    "start_time": "2023-06-26T17:38:32.866Z"
   },
   {
    "duration": 12,
    "start_time": "2023-06-26T17:38:32.879Z"
   },
   {
    "duration": 14,
    "start_time": "2023-06-26T17:38:32.893Z"
   },
   {
    "duration": 23,
    "start_time": "2023-06-26T17:38:32.909Z"
   },
   {
    "duration": 332,
    "start_time": "2023-06-26T17:38:32.933Z"
   },
   {
    "duration": 9,
    "start_time": "2023-06-26T17:38:33.267Z"
   },
   {
    "duration": 290,
    "start_time": "2023-06-26T17:38:33.279Z"
   },
   {
    "duration": 396,
    "start_time": "2023-06-26T17:38:33.571Z"
   },
   {
    "duration": 217,
    "start_time": "2023-06-26T17:38:33.969Z"
   },
   {
    "duration": 310,
    "start_time": "2023-06-26T17:38:34.189Z"
   },
   {
    "duration": 4,
    "start_time": "2023-06-26T17:38:34.501Z"
   },
   {
    "duration": 8,
    "start_time": "2023-06-26T17:38:34.507Z"
   },
   {
    "duration": 25,
    "start_time": "2023-06-26T17:38:34.517Z"
   },
   {
    "duration": 432,
    "start_time": "2023-06-26T17:38:34.557Z"
   },
   {
    "duration": 4,
    "start_time": "2023-06-26T17:42:54.041Z"
   },
   {
    "duration": 62,
    "start_time": "2023-06-26T17:42:54.046Z"
   },
   {
    "duration": 11,
    "start_time": "2023-06-26T17:42:54.110Z"
   },
   {
    "duration": 31,
    "start_time": "2023-06-26T17:42:54.123Z"
   },
   {
    "duration": 11,
    "start_time": "2023-06-26T17:42:54.156Z"
   },
   {
    "duration": 10,
    "start_time": "2023-06-26T17:42:54.169Z"
   },
   {
    "duration": 8,
    "start_time": "2023-06-26T17:42:54.180Z"
   },
   {
    "duration": 8,
    "start_time": "2023-06-26T17:42:54.190Z"
   },
   {
    "duration": 8,
    "start_time": "2023-06-26T17:42:54.199Z"
   },
   {
    "duration": 9,
    "start_time": "2023-06-26T17:42:54.209Z"
   },
   {
    "duration": 6,
    "start_time": "2023-06-26T17:42:54.221Z"
   },
   {
    "duration": 228,
    "start_time": "2023-06-26T17:42:54.228Z"
   },
   {
    "duration": 7,
    "start_time": "2023-06-26T17:42:54.458Z"
   },
   {
    "duration": 264,
    "start_time": "2023-06-26T17:42:54.467Z"
   },
   {
    "duration": 409,
    "start_time": "2023-06-26T17:42:54.732Z"
   },
   {
    "duration": 200,
    "start_time": "2023-06-26T17:42:55.143Z"
   },
   {
    "duration": 272,
    "start_time": "2023-06-26T17:42:55.344Z"
   },
   {
    "duration": 3,
    "start_time": "2023-06-26T17:42:55.617Z"
   },
   {
    "duration": 13,
    "start_time": "2023-06-26T17:42:55.622Z"
   },
   {
    "duration": 35,
    "start_time": "2023-06-26T17:42:55.636Z"
   },
   {
    "duration": 307,
    "start_time": "2023-06-26T17:42:55.673Z"
   },
   {
    "duration": 8,
    "start_time": "2023-06-26T17:42:55.981Z"
   },
   {
    "duration": 21,
    "start_time": "2023-06-26T17:42:55.990Z"
   },
   {
    "duration": 13,
    "start_time": "2023-06-26T17:42:56.013Z"
   },
   {
    "duration": 12,
    "start_time": "2023-06-26T17:42:56.027Z"
   },
   {
    "duration": 7,
    "start_time": "2023-06-26T17:42:56.056Z"
   },
   {
    "duration": 93,
    "start_time": "2023-06-26T17:42:56.065Z"
   },
   {
    "duration": 416,
    "start_time": "2023-06-26T17:42:56.160Z"
   },
   {
    "duration": 79,
    "start_time": "2023-06-26T17:42:56.580Z"
   },
   {
    "duration": 6,
    "start_time": "2023-06-26T17:42:56.660Z"
   },
   {
    "duration": 1718,
    "start_time": "2023-06-26T17:42:56.758Z"
   },
   {
    "duration": 93,
    "start_time": "2023-06-26T17:42:58.478Z"
   },
   {
    "duration": 6,
    "start_time": "2023-06-26T17:42:58.573Z"
   },
   {
    "duration": 32177,
    "start_time": "2023-06-26T17:42:58.581Z"
   },
   {
    "duration": 77,
    "start_time": "2023-06-26T17:43:30.760Z"
   },
   {
    "duration": 19,
    "start_time": "2023-06-26T17:43:30.839Z"
   },
   {
    "duration": 701,
    "start_time": "2023-06-26T17:43:30.860Z"
   },
   {
    "duration": 97,
    "start_time": "2023-06-26T17:43:31.563Z"
   },
   {
    "duration": 38,
    "start_time": "2023-06-26T17:43:31.662Z"
   },
   {
    "duration": 31259,
    "start_time": "2023-06-26T17:43:31.702Z"
   },
   {
    "duration": 98,
    "start_time": "2023-06-26T17:44:02.962Z"
   },
   {
    "duration": 6,
    "start_time": "2023-06-26T17:44:03.062Z"
   },
   {
    "duration": 65,
    "start_time": "2023-06-26T17:44:03.070Z"
   },
   {
    "duration": 26,
    "start_time": "2023-06-26T17:44:03.137Z"
   },
   {
    "duration": 24,
    "start_time": "2023-06-26T17:44:03.165Z"
   },
   {
    "duration": 5,
    "start_time": "2023-06-26T17:44:03.191Z"
   },
   {
    "duration": 62,
    "start_time": "2023-06-26T17:44:03.197Z"
   },
   {
    "duration": 8,
    "start_time": "2023-06-26T17:44:03.261Z"
   },
   {
    "duration": 3,
    "start_time": "2023-06-26T19:13:10.512Z"
   },
   {
    "duration": 1712,
    "start_time": "2023-06-27T04:06:52.692Z"
   },
   {
    "duration": 115,
    "start_time": "2023-06-27T04:06:54.406Z"
   },
   {
    "duration": 13,
    "start_time": "2023-06-27T04:06:54.523Z"
   },
   {
    "duration": 27,
    "start_time": "2023-06-27T04:06:54.538Z"
   },
   {
    "duration": 12,
    "start_time": "2023-06-27T04:06:54.567Z"
   },
   {
    "duration": 23,
    "start_time": "2023-06-27T04:06:54.580Z"
   },
   {
    "duration": 16,
    "start_time": "2023-06-27T04:06:54.606Z"
   },
   {
    "duration": 9,
    "start_time": "2023-06-27T04:06:54.623Z"
   },
   {
    "duration": 7,
    "start_time": "2023-06-27T04:06:54.634Z"
   },
   {
    "duration": 68,
    "start_time": "2023-06-27T04:06:54.643Z"
   },
   {
    "duration": 15,
    "start_time": "2023-06-27T04:06:54.713Z"
   },
   {
    "duration": 316,
    "start_time": "2023-06-27T04:06:54.730Z"
   },
   {
    "duration": 10,
    "start_time": "2023-06-27T04:06:55.048Z"
   },
   {
    "duration": 295,
    "start_time": "2023-06-27T04:06:55.059Z"
   },
   {
    "duration": 388,
    "start_time": "2023-06-27T04:06:55.356Z"
   },
   {
    "duration": 205,
    "start_time": "2023-06-27T04:06:55.746Z"
   },
   {
    "duration": 7,
    "start_time": "2023-06-27T04:07:07.038Z"
   },
   {
    "duration": 117,
    "start_time": "2023-06-27T04:07:37.603Z"
   },
   {
    "duration": 9,
    "start_time": "2023-06-27T04:08:00.420Z"
   },
   {
    "duration": 11,
    "start_time": "2023-06-27T04:08:58.335Z"
   },
   {
    "duration": 9,
    "start_time": "2023-06-27T04:09:05.027Z"
   },
   {
    "duration": 8,
    "start_time": "2023-06-27T04:09:31.679Z"
   },
   {
    "duration": 10,
    "start_time": "2023-06-27T04:09:36.255Z"
   },
   {
    "duration": 6,
    "start_time": "2023-06-27T04:09:45.953Z"
   },
   {
    "duration": 218,
    "start_time": "2023-06-27T04:10:25.942Z"
   },
   {
    "duration": 253,
    "start_time": "2023-06-27T04:10:55.113Z"
   },
   {
    "duration": 256,
    "start_time": "2023-06-27T04:11:37.306Z"
   },
   {
    "duration": 10,
    "start_time": "2023-06-27T04:14:00.325Z"
   },
   {
    "duration": 12,
    "start_time": "2023-06-27T04:14:07.793Z"
   },
   {
    "duration": 5,
    "start_time": "2023-06-27T04:14:14.468Z"
   },
   {
    "duration": 12,
    "start_time": "2023-06-27T04:14:28.333Z"
   },
   {
    "duration": 13,
    "start_time": "2023-06-27T04:14:39.948Z"
   },
   {
    "duration": 7,
    "start_time": "2023-06-27T04:14:45.394Z"
   },
   {
    "duration": 7,
    "start_time": "2023-06-27T04:15:05.956Z"
   },
   {
    "duration": 1812,
    "start_time": "2023-06-27T04:15:10.592Z"
   },
   {
    "duration": 20,
    "start_time": "2023-06-27T04:15:18.241Z"
   },
   {
    "duration": 6,
    "start_time": "2023-06-27T04:15:21.735Z"
   },
   {
    "duration": 2639,
    "start_time": "2023-06-27T04:15:29.407Z"
   },
   {
    "duration": 8,
    "start_time": "2023-06-27T04:16:35.452Z"
   },
   {
    "duration": 7,
    "start_time": "2023-06-27T04:16:44.095Z"
   },
   {
    "duration": 7,
    "start_time": "2023-06-27T04:17:33.231Z"
   },
   {
    "duration": 7,
    "start_time": "2023-06-27T04:17:42.895Z"
   },
   {
    "duration": 7,
    "start_time": "2023-06-27T04:18:59.127Z"
   },
   {
    "duration": 7,
    "start_time": "2023-06-27T04:19:21.139Z"
   },
   {
    "duration": 6,
    "start_time": "2023-06-27T04:32:59.540Z"
   },
   {
    "duration": 4,
    "start_time": "2023-06-27T04:43:41.089Z"
   },
   {
    "duration": 68,
    "start_time": "2023-06-27T04:43:41.098Z"
   },
   {
    "duration": 13,
    "start_time": "2023-06-27T04:43:41.169Z"
   },
   {
    "duration": 44,
    "start_time": "2023-06-27T04:43:41.185Z"
   },
   {
    "duration": 14,
    "start_time": "2023-06-27T04:43:41.232Z"
   },
   {
    "duration": 7,
    "start_time": "2023-06-27T04:43:41.248Z"
   },
   {
    "duration": 17,
    "start_time": "2023-06-27T04:43:41.256Z"
   },
   {
    "duration": 12,
    "start_time": "2023-06-27T04:43:41.275Z"
   },
   {
    "duration": 26,
    "start_time": "2023-06-27T04:43:41.289Z"
   },
   {
    "duration": 9,
    "start_time": "2023-06-27T04:43:41.318Z"
   },
   {
    "duration": 8,
    "start_time": "2023-06-27T04:43:41.330Z"
   },
   {
    "duration": 232,
    "start_time": "2023-06-27T04:43:41.340Z"
   },
   {
    "duration": 9,
    "start_time": "2023-06-27T04:43:41.573Z"
   },
   {
    "duration": 300,
    "start_time": "2023-06-27T04:43:41.583Z"
   },
   {
    "duration": 343,
    "start_time": "2023-06-27T04:43:41.884Z"
   },
   {
    "duration": 313,
    "start_time": "2023-06-27T04:43:42.229Z"
   },
   {
    "duration": 8,
    "start_time": "2023-06-27T04:43:42.544Z"
   },
   {
    "duration": 16,
    "start_time": "2023-06-27T04:43:42.553Z"
   },
   {
    "duration": 268,
    "start_time": "2023-06-27T04:43:42.571Z"
   },
   {
    "duration": 6,
    "start_time": "2023-06-27T04:43:42.841Z"
   },
   {
    "duration": 16,
    "start_time": "2023-06-27T04:43:42.849Z"
   },
   {
    "duration": 23,
    "start_time": "2023-06-27T04:43:42.867Z"
   },
   {
    "duration": 302,
    "start_time": "2023-06-27T04:43:42.892Z"
   },
   {
    "duration": 4,
    "start_time": "2023-06-27T04:43:43.196Z"
   },
   {
    "duration": 9,
    "start_time": "2023-06-27T04:43:43.202Z"
   },
   {
    "duration": 42,
    "start_time": "2023-06-27T04:43:56.835Z"
   },
   {
    "duration": 403,
    "start_time": "2023-06-27T04:44:19.940Z"
   },
   {
    "duration": 6,
    "start_time": "2023-06-27T05:32:29.237Z"
   },
   {
    "duration": 165,
    "start_time": "2023-06-27T05:33:00.290Z"
   },
   {
    "duration": 4,
    "start_time": "2023-06-27T05:33:28.775Z"
   },
   {
    "duration": 92,
    "start_time": "2023-06-27T05:33:37.531Z"
   },
   {
    "duration": 116,
    "start_time": "2023-06-27T05:33:54.139Z"
   },
   {
    "duration": 4,
    "start_time": "2023-06-27T05:34:03.806Z"
   },
   {
    "duration": 44,
    "start_time": "2023-06-27T05:34:03.844Z"
   },
   {
    "duration": 17,
    "start_time": "2023-06-27T05:34:03.891Z"
   },
   {
    "duration": 53,
    "start_time": "2023-06-27T05:34:03.909Z"
   },
   {
    "duration": 15,
    "start_time": "2023-06-27T05:34:03.965Z"
   },
   {
    "duration": 14,
    "start_time": "2023-06-27T05:34:03.983Z"
   },
   {
    "duration": 11,
    "start_time": "2023-06-27T05:34:04.003Z"
   },
   {
    "duration": 22,
    "start_time": "2023-06-27T05:34:04.017Z"
   },
   {
    "duration": 10,
    "start_time": "2023-06-27T05:34:04.042Z"
   },
   {
    "duration": 7,
    "start_time": "2023-06-27T05:34:04.055Z"
   },
   {
    "duration": 16,
    "start_time": "2023-06-27T05:34:04.064Z"
   },
   {
    "duration": 244,
    "start_time": "2023-06-27T05:34:04.083Z"
   },
   {
    "duration": 9,
    "start_time": "2023-06-27T05:34:04.328Z"
   },
   {
    "duration": 288,
    "start_time": "2023-06-27T05:34:04.339Z"
   },
   {
    "duration": 330,
    "start_time": "2023-06-27T05:34:04.631Z"
   },
   {
    "duration": 375,
    "start_time": "2023-06-27T05:34:04.963Z"
   },
   {
    "duration": 8,
    "start_time": "2023-06-27T05:34:05.340Z"
   },
   {
    "duration": 16,
    "start_time": "2023-06-27T05:34:05.350Z"
   },
   {
    "duration": 268,
    "start_time": "2023-06-27T05:34:05.368Z"
   },
   {
    "duration": 10,
    "start_time": "2023-06-27T05:34:05.639Z"
   },
   {
    "duration": 59,
    "start_time": "2023-06-27T05:34:05.651Z"
   },
   {
    "duration": 36,
    "start_time": "2023-06-27T05:34:05.712Z"
   },
   {
    "duration": 316,
    "start_time": "2023-06-27T05:34:05.750Z"
   },
   {
    "duration": 4,
    "start_time": "2023-06-27T05:34:06.068Z"
   },
   {
    "duration": 17,
    "start_time": "2023-06-27T05:34:06.073Z"
   },
   {
    "duration": 46,
    "start_time": "2023-06-27T05:34:06.092Z"
   },
   {
    "duration": 343,
    "start_time": "2023-06-27T05:34:06.141Z"
   },
   {
    "duration": 17,
    "start_time": "2023-06-27T05:34:06.486Z"
   },
   {
    "duration": 6,
    "start_time": "2023-06-27T05:34:06.505Z"
   },
   {
    "duration": 6,
    "start_time": "2023-06-27T05:34:06.513Z"
   },
   {
    "duration": 3756,
    "start_time": "2023-06-27T05:34:10.952Z"
   },
   {
    "duration": 4320,
    "start_time": "2023-06-27T05:38:02.607Z"
   },
   {
    "duration": 5982,
    "start_time": "2023-06-27T05:41:53.020Z"
   },
   {
    "duration": 47,
    "start_time": "2023-06-27T05:42:22.167Z"
   },
   {
    "duration": 10,
    "start_time": "2023-06-27T05:42:22.585Z"
   },
   {
    "duration": 6,
    "start_time": "2023-06-27T05:42:29.494Z"
   },
   {
    "duration": 16,
    "start_time": "2023-06-27T05:42:52.081Z"
   },
   {
    "duration": 5,
    "start_time": "2023-06-27T05:42:55.054Z"
   },
   {
    "duration": 34807,
    "start_time": "2023-06-27T05:55:08.942Z"
   },
   {
    "duration": 5272,
    "start_time": "2023-06-27T05:57:27.757Z"
   },
   {
    "duration": 79563,
    "start_time": "2023-06-27T05:58:07.591Z"
   },
   {
    "duration": 93067,
    "start_time": "2023-06-27T05:59:59.980Z"
   },
   {
    "duration": 30919,
    "start_time": "2023-06-27T06:02:12.433Z"
   },
   {
    "duration": 57474,
    "start_time": "2023-06-27T06:02:59.338Z"
   },
   {
    "duration": 208,
    "start_time": "2023-06-27T06:05:48.227Z"
   },
   {
    "duration": 35098,
    "start_time": "2023-06-27T06:05:54.036Z"
   },
   {
    "duration": 511648,
    "start_time": "2023-06-27T06:06:36.631Z"
   },
   {
    "duration": 132385,
    "start_time": "2023-06-27T06:15:18.163Z"
   },
   {
    "duration": 2565458,
    "start_time": "2023-06-27T06:17:54.862Z"
   },
   {
    "duration": 6,
    "start_time": "2023-06-27T07:42:12.713Z"
   },
   {
    "duration": 6,
    "start_time": "2023-06-27T07:42:13.403Z"
   },
   {
    "duration": 13,
    "start_time": "2023-06-27T07:43:03.623Z"
   },
   {
    "duration": 5,
    "start_time": "2023-06-27T07:43:08.729Z"
   },
   {
    "duration": 5,
    "start_time": "2023-06-27T07:43:10.896Z"
   },
   {
    "duration": 19,
    "start_time": "2023-06-27T07:43:53.111Z"
   },
   {
    "duration": 5,
    "start_time": "2023-06-27T07:43:53.797Z"
   },
   {
    "duration": 14,
    "start_time": "2023-06-27T07:44:15.704Z"
   },
   {
    "duration": 5,
    "start_time": "2023-06-27T07:44:16.321Z"
   },
   {
    "duration": 43,
    "start_time": "2023-06-27T07:46:46.448Z"
   },
   {
    "duration": 19,
    "start_time": "2023-06-27T07:48:36.591Z"
   },
   {
    "duration": 12,
    "start_time": "2023-06-27T07:48:59.414Z"
   },
   {
    "duration": 51,
    "start_time": "2023-06-27T07:49:35.202Z"
   },
   {
    "duration": 8,
    "start_time": "2023-06-27T07:49:36.161Z"
   },
   {
    "duration": 148,
    "start_time": "2023-06-27T07:51:10.606Z"
   },
   {
    "duration": 8,
    "start_time": "2023-06-27T07:51:22.750Z"
   },
   {
    "duration": 22,
    "start_time": "2023-06-27T07:51:27.861Z"
   },
   {
    "duration": 7,
    "start_time": "2023-06-27T07:51:43.839Z"
   },
   {
    "duration": 11700,
    "start_time": "2023-06-27T07:52:15.041Z"
   },
   {
    "duration": 9,
    "start_time": "2023-06-27T07:52:57.032Z"
   },
   {
    "duration": 6,
    "start_time": "2023-06-27T07:52:58.932Z"
   },
   {
    "duration": 107519,
    "start_time": "2023-06-27T07:54:18.870Z"
   },
   {
    "duration": 17,
    "start_time": "2023-06-27T07:56:06.391Z"
   },
   {
    "duration": 0,
    "start_time": "2023-06-27T07:56:06.411Z"
   },
   {
    "duration": 1544,
    "start_time": "2023-06-27T07:58:38.532Z"
   },
   {
    "duration": 45,
    "start_time": "2023-06-27T07:58:40.078Z"
   },
   {
    "duration": 14,
    "start_time": "2023-06-27T07:58:40.124Z"
   },
   {
    "duration": 25,
    "start_time": "2023-06-27T07:58:40.140Z"
   },
   {
    "duration": 13,
    "start_time": "2023-06-27T07:58:40.167Z"
   },
   {
    "duration": 24,
    "start_time": "2023-06-27T07:58:40.182Z"
   },
   {
    "duration": 34,
    "start_time": "2023-06-27T07:58:40.219Z"
   },
   {
    "duration": 24,
    "start_time": "2023-06-27T07:58:40.255Z"
   },
   {
    "duration": 26,
    "start_time": "2023-06-27T07:58:40.280Z"
   },
   {
    "duration": 16,
    "start_time": "2023-06-27T07:58:40.311Z"
   },
   {
    "duration": 6,
    "start_time": "2023-06-27T07:58:40.330Z"
   },
   {
    "duration": 405,
    "start_time": "2023-06-27T07:58:40.338Z"
   },
   {
    "duration": 10,
    "start_time": "2023-06-27T07:58:40.745Z"
   },
   {
    "duration": 315,
    "start_time": "2023-06-27T07:58:40.757Z"
   },
   {
    "duration": 429,
    "start_time": "2023-06-27T07:58:41.073Z"
   },
   {
    "duration": 235,
    "start_time": "2023-06-27T07:58:41.505Z"
   },
   {
    "duration": 6,
    "start_time": "2023-06-27T07:58:41.742Z"
   },
   {
    "duration": 19,
    "start_time": "2023-06-27T07:58:41.750Z"
   },
   {
    "duration": 303,
    "start_time": "2023-06-27T07:58:41.770Z"
   },
   {
    "duration": 8,
    "start_time": "2023-06-27T07:58:42.075Z"
   },
   {
    "duration": 27,
    "start_time": "2023-06-27T07:58:42.084Z"
   },
   {
    "duration": 17,
    "start_time": "2023-06-27T07:58:42.113Z"
   },
   {
    "duration": 291,
    "start_time": "2023-06-27T07:58:42.132Z"
   },
   {
    "duration": 4,
    "start_time": "2023-06-27T07:58:42.425Z"
   },
   {
    "duration": 36,
    "start_time": "2023-06-27T07:58:42.431Z"
   },
   {
    "duration": 77,
    "start_time": "2023-06-27T07:58:42.469Z"
   },
   {
    "duration": 378,
    "start_time": "2023-06-27T07:58:42.548Z"
   },
   {
    "duration": 9,
    "start_time": "2023-06-27T07:58:42.930Z"
   },
   {
    "duration": 7,
    "start_time": "2023-06-27T07:58:42.941Z"
   },
   {
    "duration": 8,
    "start_time": "2023-06-27T07:58:42.950Z"
   },
   {
    "duration": 5846,
    "start_time": "2023-06-27T07:58:42.959Z"
   },
   {
    "duration": 47076,
    "start_time": "2023-06-27T07:58:48.808Z"
   },
   {
    "duration": 151618,
    "start_time": "2023-06-27T07:59:35.886Z"
   },
   {
    "duration": 98,
    "start_time": "2023-06-27T08:02:07.507Z"
   },
   {
    "duration": 12,
    "start_time": "2023-06-27T08:02:07.612Z"
   },
   {
    "duration": 183,
    "start_time": "2023-06-27T08:02:07.626Z"
   },
   {
    "duration": 28,
    "start_time": "2023-06-27T08:02:07.812Z"
   },
   {
    "duration": 37,
    "start_time": "2023-06-27T08:02:07.842Z"
   },
   {
    "duration": 23,
    "start_time": "2023-06-27T08:02:07.881Z"
   },
   {
    "duration": 25,
    "start_time": "2023-06-27T08:02:07.906Z"
   },
   {
    "duration": 58,
    "start_time": "2023-06-27T08:02:07.932Z"
   },
   {
    "duration": 6,
    "start_time": "2023-06-27T08:02:07.992Z"
   },
   {
    "duration": 127,
    "start_time": "2023-06-27T08:02:08.000Z"
   },
   {
    "duration": 23,
    "start_time": "2023-06-27T08:02:08.128Z"
   },
   {
    "duration": 7,
    "start_time": "2023-06-27T08:02:08.153Z"
   },
   {
    "duration": 13259,
    "start_time": "2023-06-27T08:02:08.161Z"
   },
   {
    "duration": 7,
    "start_time": "2023-06-27T08:02:21.422Z"
   },
   {
    "duration": 172,
    "start_time": "2023-06-27T08:02:21.431Z"
   },
   {
    "duration": 134536,
    "start_time": "2023-06-27T08:02:21.605Z"
   },
   {
    "duration": 15,
    "start_time": "2023-06-27T08:04:36.143Z"
   },
   {
    "duration": 4,
    "start_time": "2023-06-27T08:04:36.160Z"
   }
  ],
  "kernelspec": {
   "display_name": "Python 3 (ipykernel)",
   "language": "python",
   "name": "python3"
  },
  "language_info": {
   "codemirror_mode": {
    "name": "ipython",
    "version": 3
   },
   "file_extension": ".py",
   "mimetype": "text/x-python",
   "name": "python",
   "nbconvert_exporter": "python",
   "pygments_lexer": "ipython3",
   "version": "3.10.9"
  },
  "toc": {
   "base_numbering": 1,
   "nav_menu": {},
   "number_sections": true,
   "sideBar": true,
   "skip_h1_title": true,
   "title_cell": "Содержание",
   "title_sidebar": "Contents",
   "toc_cell": true,
   "toc_position": {
    "height": "calc(100% - 180px)",
    "left": "10px",
    "top": "150px",
    "width": "230px"
   },
   "toc_section_display": true,
   "toc_window_display": true
  }
 },
 "nbformat": 4,
 "nbformat_minor": 2
}
