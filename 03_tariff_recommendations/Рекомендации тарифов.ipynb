{
 "cells": [
  {
   "cell_type": "markdown",
   "metadata": {},
   "source": [
    "# Рекомендация тарифов"
   ]
  },
  {
   "cell_type": "markdown",
   "metadata": {},
   "source": [
    "В нашем распоряжении данные о поведении клиентов, которые уже перешли на эти тарифы (из проекта курса «Статистический анализ данных»). Нужно построить модель для задачи классификации, которая выберет подходящий тариф. Предобработка данных не понадобится — вы её уже сделали."
   ]
  },
  {
   "cell_type": "markdown",
   "metadata": {},
   "source": [
    "## Импорт и изучение данных"
   ]
  },
  {
   "cell_type": "markdown",
   "metadata": {},
   "source": [
    "**Описание данных**\n",
    "    \n",
    "    Каждый объект в наборе данных — это информация о поведении одного пользователя за месяц. Известно:\n",
    "    сalls — количество звонков,\n",
    "    minutes — суммарная длительность звонков в минутах,\n",
    "    messages — количество sms-сообщений,\n",
    "    mb_used — израсходованный интернет-трафик в Мб,\n",
    "    is_ultra — каким тарифом пользовался в течение месяца («Ультра» — 1, «Смарт» — 0)."
   ]
  },
  {
   "cell_type": "code",
   "execution_count": 1,
   "metadata": {},
   "outputs": [],
   "source": [
    "import pandas as pd #импорт библиотеки pandas\n",
    "\n",
    "from sklearn.model_selection import train_test_split #импорт инструмента для разделения данных\n",
    "from sklearn.tree import DecisionTreeClassifier #импорт инструмента для формирования модели дерева решений\n",
    "from sklearn.ensemble import RandomForestClassifier #импорт инструмента для формирвоания модели случайного леса\n",
    "from sklearn.linear_model import LogisticRegression #импорт модели логистической регрессии\n",
    "\n",
    "from sklearn.metrics import accuracy_score #импорт метрики accuracy\n",
    "\n",
    "from tqdm import tqdm #импорт библиотеки для отображения процесса выполнения кода\n",
    "\n",
    "from sklearn.dummy import DummyClassifier #импорт библиотеки формирования константной модели"
   ]
  },
  {
   "cell_type": "code",
   "execution_count": 2,
   "metadata": {},
   "outputs": [],
   "source": [
    "random_state=12345"
   ]
  },
  {
   "cell_type": "code",
   "execution_count": 3,
   "metadata": {
    "scrolled": true
   },
   "outputs": [],
   "source": [
    "#импорт данных методом read_csv\n",
    "df=pd.read_csv('data_original/users_behavior.csv')"
   ]
  },
  {
   "cell_type": "code",
   "execution_count": 4,
   "metadata": {},
   "outputs": [
    {
     "name": "stdout",
     "output_type": "stream",
     "text": [
      "<class 'pandas.core.frame.DataFrame'>\n",
      "RangeIndex: 3214 entries, 0 to 3213\n",
      "Data columns (total 5 columns):\n",
      " #   Column    Non-Null Count  Dtype  \n",
      "---  ------    --------------  -----  \n",
      " 0   calls     3214 non-null   float64\n",
      " 1   minutes   3214 non-null   float64\n",
      " 2   messages  3214 non-null   float64\n",
      " 3   mb_used   3214 non-null   float64\n",
      " 4   is_ultra  3214 non-null   int64  \n",
      "dtypes: float64(4), int64(1)\n",
      "memory usage: 125.7 KB\n"
     ]
    }
   ],
   "source": [
    "#вызов информации о данных\n",
    "df.info()"
   ]
  },
  {
   "cell_type": "code",
   "execution_count": 5,
   "metadata": {},
   "outputs": [
    {
     "data": {
      "text/html": [
       "<div>\n",
       "<style scoped>\n",
       "    .dataframe tbody tr th:only-of-type {\n",
       "        vertical-align: middle;\n",
       "    }\n",
       "\n",
       "    .dataframe tbody tr th {\n",
       "        vertical-align: top;\n",
       "    }\n",
       "\n",
       "    .dataframe thead th {\n",
       "        text-align: right;\n",
       "    }\n",
       "</style>\n",
       "<table border=\"1\" class=\"dataframe\">\n",
       "  <thead>\n",
       "    <tr style=\"text-align: right;\">\n",
       "      <th></th>\n",
       "      <th>calls</th>\n",
       "      <th>minutes</th>\n",
       "      <th>messages</th>\n",
       "      <th>mb_used</th>\n",
       "      <th>is_ultra</th>\n",
       "    </tr>\n",
       "  </thead>\n",
       "  <tbody>\n",
       "    <tr>\n",
       "      <th>0</th>\n",
       "      <td>40.0</td>\n",
       "      <td>311.90</td>\n",
       "      <td>83.0</td>\n",
       "      <td>19915.42</td>\n",
       "      <td>0</td>\n",
       "    </tr>\n",
       "    <tr>\n",
       "      <th>1</th>\n",
       "      <td>85.0</td>\n",
       "      <td>516.75</td>\n",
       "      <td>56.0</td>\n",
       "      <td>22696.96</td>\n",
       "      <td>0</td>\n",
       "    </tr>\n",
       "    <tr>\n",
       "      <th>2</th>\n",
       "      <td>77.0</td>\n",
       "      <td>467.66</td>\n",
       "      <td>86.0</td>\n",
       "      <td>21060.45</td>\n",
       "      <td>0</td>\n",
       "    </tr>\n",
       "    <tr>\n",
       "      <th>3</th>\n",
       "      <td>106.0</td>\n",
       "      <td>745.53</td>\n",
       "      <td>81.0</td>\n",
       "      <td>8437.39</td>\n",
       "      <td>1</td>\n",
       "    </tr>\n",
       "    <tr>\n",
       "      <th>4</th>\n",
       "      <td>66.0</td>\n",
       "      <td>418.74</td>\n",
       "      <td>1.0</td>\n",
       "      <td>14502.75</td>\n",
       "      <td>0</td>\n",
       "    </tr>\n",
       "  </tbody>\n",
       "</table>\n",
       "</div>"
      ],
      "text/plain": [
       "   calls  minutes  messages   mb_used  is_ultra\n",
       "0   40.0   311.90      83.0  19915.42         0\n",
       "1   85.0   516.75      56.0  22696.96         0\n",
       "2   77.0   467.66      86.0  21060.45         0\n",
       "3  106.0   745.53      81.0   8437.39         1\n",
       "4   66.0   418.74       1.0  14502.75         0"
      ]
     },
     "execution_count": 5,
     "metadata": {},
     "output_type": "execute_result"
    }
   ],
   "source": [
    "#вызов первых пяти строк датафрейма\n",
    "df.head()"
   ]
  },
  {
   "cell_type": "markdown",
   "metadata": {},
   "source": [
    "Из полученной информации можно утверждать, что пропусков в данных нет, соблюдается единый стиль в названиях столбцов, корректный тип данных в столбцах. Предобработка действительно не нужна."
   ]
  },
  {
   "cell_type": "code",
   "execution_count": 6,
   "metadata": {},
   "outputs": [
    {
     "name": "stdout",
     "output_type": "stream",
     "text": [
      "calls 0.20712155898607415\n",
      "minutes 0.20695463812169365\n",
      "messages 0.20382983853553452\n",
      "mb_used 0.1985676456197413\n"
     ]
    }
   ],
   "source": [
    "#Рассчитаем коэффициент корреляции Пирсона для различных столбцов относительно столбца с информацией о тарифе.\n",
    "#Чем ближе к 1 - тем явнее прямая зависимость между данными\n",
    "for i in df.columns[:4]:\n",
    "    print(i,df[i].corr(df['is_ultra']))"
   ]
  },
  {
   "cell_type": "markdown",
   "metadata": {},
   "source": [
    " Как видно из расчётов, столбцы с информацией о кол-ве звонков, минут, сообщений и использованных мегабайт коррелируют с тарифом незначительно и примерно одинаково."
   ]
  },
  {
   "cell_type": "markdown",
   "metadata": {},
   "source": [
    "## Разбиение данных на выборки"
   ]
  },
  {
   "cell_type": "code",
   "execution_count": 7,
   "metadata": {},
   "outputs": [],
   "source": [
    "#извлечение признаков для модели, выбрасываем столбец is_ultra\n",
    "features=df.drop(['is_ultra'], axis=1)\n",
    "\n",
    "#извлечение целевого признака (столбец is_ultra)\n",
    "target=df['is_ultra']"
   ]
  },
  {
   "cell_type": "code",
   "execution_count": 8,
   "metadata": {},
   "outputs": [],
   "source": [
    "#разделение данных на тренировочную, тестовую и валидационную выборки в соотношении 60:20:20 инструментом train_test_split\n",
    "features_train, features_validtest, target_train, target_validtest=\\\n",
    "train_test_split(features,target,train_size=0.6,random_state=random_state, stratify=target)\n",
    "\n",
    "features_valid, features_test, target_valid, target_test=\\\n",
    "train_test_split(features_validtest, target_validtest, train_size=0.5,random_state=random_state, stratify=target_validtest)"
   ]
  },
  {
   "cell_type": "markdown",
   "metadata": {},
   "source": [
    "## Исследуование моделей"
   ]
  },
  {
   "cell_type": "markdown",
   "metadata": {},
   "source": [
    "### Тренировочные выборки"
   ]
  },
  {
   "cell_type": "markdown",
   "metadata": {},
   "source": [
    "#### Применение модели дерева решений"
   ]
  },
  {
   "cell_type": "code",
   "execution_count": 9,
   "metadata": {},
   "outputs": [
    {
     "data": {
      "text/plain": [
       "0.7013996889580093"
      ]
     },
     "execution_count": 9,
     "metadata": {},
     "output_type": "execute_result"
    }
   ],
   "source": [
    "#обучение модели дерева решений при стандартных параметрах\n",
    "model_1=DecisionTreeClassifier(random_state=random_state)\n",
    "model_1.fit(features_train,target_train)\n",
    "#предсказание для валидационной выборки\n",
    "model_1_predictions_valid=model_1.predict(features_valid)\n",
    "#подсчет точности предсказаиий\n",
    "accuracy_score(model_1_predictions_valid,target_valid)"
   ]
  },
  {
   "cell_type": "markdown",
   "metadata": {},
   "source": [
    "Обновлённый вывод: Точность предсказаний составляет 0.7 при стандартных гиперпараметрах.  Посмотрим на глубину дерева, при которой достигается данное значение точности:"
   ]
  },
  {
   "cell_type": "code",
   "execution_count": 10,
   "metadata": {},
   "outputs": [
    {
     "name": "stdout",
     "output_type": "stream",
     "text": [
      "Accuracy наилучшей модели на валидационной выборке: 0.80248833592535 для соответствующей глубины: 8\n"
     ]
    }
   ],
   "source": [
    "#Создадим цикл для подсчета точности предсказаний в зависимости от параметра максимальной глубины дерева решений\n",
    "\n",
    "best_model=None\n",
    "best_result=0\n",
    "best_depth=0\n",
    "\n",
    "for i in range(1,30):\n",
    "    model_1=DecisionTreeClassifier(random_state=random_state,max_depth=i)\n",
    "    model_1.fit(features_train,target_train)\n",
    "    model_1_predictions_valid=model_1.predict(features_valid)\n",
    "    result=accuracy_score(model_1_predictions_valid,target_valid)\n",
    "    if result>best_result:\n",
    "        best_model=model_1\n",
    "        best_result=result\n",
    "        best_depth=i\n",
    "        \n",
    "print(\"Accuracy наилучшей модели на валидационной выборке:\", best_result, 'для соответствующей глубины:',best_depth)"
   ]
  },
  {
   "cell_type": "markdown",
   "metadata": {},
   "source": [
    "Обновлённый вывод: Точность предсказаний составляет 0.8 при глубине дерева 8."
   ]
  },
  {
   "cell_type": "markdown",
   "metadata": {},
   "source": [
    "#### Применение модели случайного леса"
   ]
  },
  {
   "cell_type": "code",
   "execution_count": 11,
   "metadata": {},
   "outputs": [
    {
     "data": {
      "text/plain": [
       "0.80248833592535"
      ]
     },
     "execution_count": 11,
     "metadata": {},
     "output_type": "execute_result"
    }
   ],
   "source": [
    "#обучение модели случайного леса при стандартных параметрах\n",
    "model_2=RandomForestClassifier(random_state=random_state)\n",
    "model_2.fit(features_train,target_train)\n",
    "#предсказание для валидационной выборки\n",
    "model_2_predictions_valid=model_2.predict(features_valid)\n",
    "#подсчет точности предсказаиий\n",
    "accuracy_score(model_2_predictions_valid,target_valid)"
   ]
  },
  {
   "cell_type": "markdown",
   "metadata": {},
   "source": [
    "Обновлённый вывод: Точность предсказаний составляет 0.8 при стандартных параметрах модели. Посмотрим на параметр n_estimators, при которой достигается данное значение точности:"
   ]
  },
  {
   "cell_type": "code",
   "execution_count": 12,
   "metadata": {},
   "outputs": [
    {
     "name": "stderr",
     "output_type": "stream",
     "text": [
      "100%|████████████████████████████████████████████████████████████████████████████████████████████████████████████████████████████| 99/99 [01:18<00:00,  1.25it/s]"
     ]
    },
    {
     "name": "stdout",
     "output_type": "stream",
     "text": [
      "Accuracy наилучшей модели на валидационной выборке: 0.8118195956454122 при соответствующем n_estimators: 58\n"
     ]
    },
    {
     "name": "stderr",
     "output_type": "stream",
     "text": [
      "\n"
     ]
    }
   ],
   "source": [
    "#Создадим цикл для подсчета точности предсказаний в зависимости от параметра n_estimators\n",
    "\n",
    "best_model=None\n",
    "best_result=0\n",
    "best_estimators=0\n",
    "\n",
    "for i in tqdm(range(1,100)):\n",
    "    model_2=RandomForestClassifier(random_state=random_state,n_estimators=i)\n",
    "    model_2.fit(features_train,target_train)\n",
    "    model_2_predictions_valid=model_2.predict(features_valid)\n",
    "    result=accuracy_score(model_2_predictions_valid,target_valid)\n",
    "    if result>best_result:\n",
    "        best_model=model_2\n",
    "        best_result=result\n",
    "        best_estimators=i\n",
    "        \n",
    "print(\"Accuracy наилучшей модели на валидационной выборке:\", best_result, 'при соответствующем n_estimators:',best_estimators)"
   ]
  },
  {
   "cell_type": "markdown",
   "metadata": {},
   "source": [
    "Обновлённый вывод: Точность предсказаний увеличилась, но незначительно: 0.81 против 0.8 относительно стандартных гиперпараметров."
   ]
  },
  {
   "cell_type": "markdown",
   "metadata": {},
   "source": [
    "#### Применение модели логистической регрессии"
   ]
  },
  {
   "cell_type": "code",
   "execution_count": 13,
   "metadata": {},
   "outputs": [
    {
     "data": {
      "text/plain": [
       "0.7387247278382582"
      ]
     },
     "execution_count": 13,
     "metadata": {},
     "output_type": "execute_result"
    }
   ],
   "source": [
    "#обучение модели логистической регрессии при стандартных параметрах\n",
    "model_3=LogisticRegression(random_state=random_state)\n",
    "model_3.fit(features_train,target_train)\n",
    "#предсказание для валидационной выборки\n",
    "model_3_predictions_valid=model_3.predict(features_valid)\n",
    "#подсчет точности предсказаиий\n",
    "accuracy_score(model_3_predictions_valid,target_valid)"
   ]
  },
  {
   "cell_type": "markdown",
   "metadata": {},
   "source": [
    "Как видно, точность предсказаний для данного метода составляет примерно 0.74 при стандартных параметрах модели. Добавим гиперпараметры и посмотрим на изменение качества предсказаний."
   ]
  },
  {
   "cell_type": "code",
   "execution_count": 14,
   "metadata": {},
   "outputs": [
    {
     "data": {
      "text/plain": [
       "0.7387247278382582"
      ]
     },
     "execution_count": 14,
     "metadata": {},
     "output_type": "execute_result"
    }
   ],
   "source": [
    "#обучение модели логистической регрессии при измененных параметрах\n",
    "model_3=LogisticRegression(random_state=random_state, solver='lbfgs', max_iter=10000)\n",
    "model_3.fit(features_train,target_train)\n",
    "#предсказание для валидационной выборки\n",
    "model_3_predictions_valid=model_3.predict(features_valid)\n",
    "#подсчет точности предсказаиий\n",
    "accuracy_score(model_3_predictions_valid,target_valid)"
   ]
  },
  {
   "cell_type": "markdown",
   "metadata": {},
   "source": [
    "Как видно, видимо для модели логистической регрессии максимальное значение точности предсказаний на тренировочных данных имеет значение 0.74. Попробуем проверить: может ли это значение быть хуже?"
   ]
  },
  {
   "cell_type": "code",
   "execution_count": 15,
   "metadata": {},
   "outputs": [
    {
     "name": "stderr",
     "output_type": "stream",
     "text": [
      "C:\\ProgramData\\anaconda3\\lib\\site-packages\\sklearn\\linear_model\\_logistic.py:458: ConvergenceWarning: lbfgs failed to converge (status=1):\n",
      "STOP: TOTAL NO. of ITERATIONS REACHED LIMIT.\n",
      "\n",
      "Increase the number of iterations (max_iter) or scale the data as shown in:\n",
      "    https://scikit-learn.org/stable/modules/preprocessing.html\n",
      "Please also refer to the documentation for alternative solver options:\n",
      "    https://scikit-learn.org/stable/modules/linear_model.html#logistic-regression\n",
      "  n_iter_i = _check_optimize_result(\n"
     ]
    },
    {
     "data": {
      "text/plain": [
       "0.6936236391912908"
      ]
     },
     "execution_count": 15,
     "metadata": {},
     "output_type": "execute_result"
    }
   ],
   "source": [
    "#обучение модели логистической регрессии при измененных параметрах\n",
    "model_3=LogisticRegression(random_state=random_state, solver='lbfgs', max_iter=1)\n",
    "model_3.fit(features_train,target_train)\n",
    "#предсказание для валидационной выборки\n",
    "model_3_predictions_valid=model_3.predict(features_valid)\n",
    "#подсчет точности предсказаиий\n",
    "accuracy_score(model_3_predictions_valid,target_valid)"
   ]
  },
  {
   "cell_type": "markdown",
   "metadata": {},
   "source": [
    "Как видно, для значения с одной итерацией качество предсказаний становится меньше, а также выскакивает предупреждение о том, что расчет остановился по причине достижения максимального числа итераций (при этом видимо сообщается о том, что это не максимальная точность, которую мог быть дать данный метод). Теперь попробуем поменять параметр solver:"
   ]
  },
  {
   "cell_type": "code",
   "execution_count": 16,
   "metadata": {},
   "outputs": [
    {
     "name": "stdout",
     "output_type": "stream",
     "text": [
      "lbfgs : 0.7387247278382582\n",
      "liblinear : 0.71850699844479\n",
      "newton-cg : 0.7387247278382582\n",
      "sag : 0.6936236391912908\n",
      "saga : 0.6936236391912908\n"
     ]
    },
    {
     "name": "stderr",
     "output_type": "stream",
     "text": [
      "C:\\ProgramData\\anaconda3\\lib\\site-packages\\sklearn\\linear_model\\_sag.py:350: ConvergenceWarning: The max_iter was reached which means the coef_ did not converge\n",
      "  warnings.warn(\n",
      "C:\\ProgramData\\anaconda3\\lib\\site-packages\\sklearn\\linear_model\\_sag.py:350: ConvergenceWarning: The max_iter was reached which means the coef_ did not converge\n",
      "  warnings.warn(\n"
     ]
    }
   ],
   "source": [
    "#обучение модели логистической регрессии при различных методах расчета\n",
    "\n",
    "for i in ['lbfgs', 'liblinear', 'newton-cg', 'sag', 'saga']:    \n",
    "    model_3=LogisticRegression(random_state=12345, solver=i)\n",
    "    model_3.fit(features_train,target_train)\n",
    "    model_3_predictions=model_3.predict(features_valid)\n",
    "    print(i,':',model_3.score(features_valid,target_valid))"
   ]
  },
  {
   "cell_type": "markdown",
   "metadata": {},
   "source": [
    "<b>Обновлённый вывод:</b> Из полученных результатов заметно, что для различных методов расчета логистической регрессии получаются различные значения точности. Лучше всех себя показали lbfgs и newton-cg. Также соит отметить, что для sag и saga выпадает предупреждение о несхождении расчёта при стандартном кол-ве итераций</div>"
   ]
  },
  {
   "cell_type": "markdown",
   "metadata": {},
   "source": [
    " <b>Обновлённый вывод:</b> Было произведено обучение трех моделей: по методу Дерева решений, Случайного леса и Логистической регрессии. При проверке на точность на валидационных данных первые два метода показали точность около 0.8 (для метода Дерева решений при параметре глубины дерева в 8), а методом Логистической регрессии максимальная точность составила порядка 0.74. В следующем пункте проверим модели на точность на тестовой выборке.</div>"
   ]
  },
  {
   "cell_type": "markdown",
   "metadata": {},
   "source": [
    "## Проверка моделей на тестовой выборке"
   ]
  },
  {
   "cell_type": "code",
   "execution_count": 17,
   "metadata": {},
   "outputs": [
    {
     "name": "stdout",
     "output_type": "stream",
     "text": [
      "CPU times: total: 78.1 ms\n",
      "Wall time: 88.9 ms\n"
     ]
    },
    {
     "data": {
      "text/plain": [
       "0.8118195956454122"
      ]
     },
     "execution_count": 17,
     "metadata": {},
     "output_type": "execute_result"
    }
   ],
   "source": [
    "%%time\n",
    "#Проверка модели случайного леса на тестовой выборке\n",
    "model_2_predictions_test=model_2.predict(features_test)\n",
    "accuracy_score(model_2_predictions_test,target_test)"
   ]
  },
  {
   "cell_type": "markdown",
   "metadata": {},
   "source": [
    " <b>Обновлённый вывод:</b> При проверке наилучшей модели согласно п.3.1 Случайнго леса было получено значение точности предсказаний в 0.81.</div>"
   ]
  },
  {
   "cell_type": "markdown",
   "metadata": {},
   "source": [
    "## (бонус) Проверка модели на адекватность"
   ]
  },
  {
   "cell_type": "markdown",
   "metadata": {},
   "source": [
    "Для проверки на адекватность создадим константную модель с одним значением: тем, которое чаще встречается."
   ]
  },
  {
   "cell_type": "code",
   "execution_count": 18,
   "metadata": {},
   "outputs": [
    {
     "data": {
      "text/plain": [
       "0.30647168637212197"
      ]
     },
     "execution_count": 18,
     "metadata": {},
     "output_type": "execute_result"
    }
   ],
   "source": [
    "#определим среднее значение: если больше 0.5 - значит 1 больше, чем 0, и наоборот\n",
    "df['is_ultra'].mean()"
   ]
  },
  {
   "cell_type": "markdown",
   "metadata": {},
   "source": [
    "Среднее значение по столбцу меньше 0.5. Значит есть смысл заполнить констатную модель значением \"0\""
   ]
  },
  {
   "cell_type": "code",
   "execution_count": 19,
   "metadata": {},
   "outputs": [
    {
     "data": {
      "text/plain": [
       "0.6936236391912908"
      ]
     },
     "execution_count": 19,
     "metadata": {},
     "output_type": "execute_result"
    }
   ],
   "source": [
    "#создаём столбец нулей размером с размером столбца target_valid\n",
    "target_constant=pd.Series([0]*len(target_valid))\n",
    "\n",
    "#расчет точности предсказания константной модели\n",
    "accuracy_score(target_constant,target_valid)"
   ]
  },
  {
   "cell_type": "markdown",
   "metadata": {},
   "source": [
    "Как видно, значение точности предсказания константной модели - 0.7, тогда как значение точности предсказаний методами Дерева решений и Случайного леса - больше. При этом стоит иметь в виду, что модель Логистической регрессии с указанными параметрами неприменима, и её применение необходимо дополнительно докрутить изменением параметров на других выборках для уверенного применения."
   ]
  },
  {
   "cell_type": "code",
   "execution_count": 20,
   "metadata": {},
   "outputs": [
    {
     "data": {
      "text/plain": [
       "0.6936236391912908"
      ]
     },
     "execution_count": 20,
     "metadata": {},
     "output_type": "execute_result"
    }
   ],
   "source": [
    "#создаём константную модель\n",
    "dummy_clf = DummyClassifier(strategy=\"most_frequent\")\n",
    "#наполняем константную модель\n",
    "dummy_clf.fit(features_train,target_train)\n",
    "dummy_clf.predict(features_valid)\n",
    "dummy_clf.score(features_valid,target_valid)"
   ]
  },
  {
   "cell_type": "markdown",
   "metadata": {},
   "source": [
    "# Общий вывод"
   ]
  },
  {
   "cell_type": "markdown",
   "metadata": {},
   "source": [
    "По результатам исследования предсказания нужно ли переходить на новый тариф или нет по имеющимся данным получено следующее:\n",
    "\n",
    "    Лучше всех на валидационной выборке (по соотношению точность/время) показала себя модель Дерева решений с глубиной дерева 8. Также стоит отметить, что почти равную Дереву решений точность показал метод Случайного леса (но со временем работы в 2 раза больше).\n",
    "    Модель Логистической регрессии не проходит в сравнении тестовой модели с константной моделью, но проходит для валидационной выборки, а значит применяя данный метод необходимо очень внимательно проверять результаты и дополнительно корректировать гиперпараметры."
   ]
  },
  {
   "cell_type": "code",
   "execution_count": null,
   "metadata": {},
   "outputs": [],
   "source": []
  }
 ],
 "metadata": {
  "ExecuteTimeLog": [
   {
    "duration": 473,
    "start_time": "2023-04-02T14:43:57.370Z"
   },
   {
    "duration": 11,
    "start_time": "2023-04-02T14:44:03.350Z"
   },
   {
    "duration": 15,
    "start_time": "2023-04-02T14:44:09.645Z"
   },
   {
    "duration": 407,
    "start_time": "2023-04-03T13:49:08.308Z"
   },
   {
    "duration": 57,
    "start_time": "2023-04-03T13:49:56.098Z"
   },
   {
    "duration": 3,
    "start_time": "2023-04-03T13:50:01.424Z"
   },
   {
    "duration": 62,
    "start_time": "2023-04-03T13:50:02.093Z"
   },
   {
    "duration": 11,
    "start_time": "2023-04-03T13:50:02.881Z"
   },
   {
    "duration": 15,
    "start_time": "2023-04-03T13:51:56.993Z"
   },
   {
    "duration": 587,
    "start_time": "2023-04-03T13:57:15.634Z"
   },
   {
    "duration": 72,
    "start_time": "2023-04-03T13:59:17.683Z"
   },
   {
    "duration": 52,
    "start_time": "2023-04-03T13:59:21.110Z"
   },
   {
    "duration": 38,
    "start_time": "2023-04-03T13:59:25.881Z"
   },
   {
    "duration": 7,
    "start_time": "2023-04-03T13:59:28.935Z"
   },
   {
    "duration": 4,
    "start_time": "2023-04-03T14:01:11.325Z"
   },
   {
    "duration": 9,
    "start_time": "2023-04-03T14:01:12.178Z"
   },
   {
    "duration": 8,
    "start_time": "2023-04-03T14:01:43.791Z"
   },
   {
    "duration": 5,
    "start_time": "2023-04-03T14:01:55.881Z"
   },
   {
    "duration": 10,
    "start_time": "2023-04-03T14:02:09.274Z"
   },
   {
    "duration": 1137,
    "start_time": "2023-04-05T10:58:41.798Z"
   },
   {
    "duration": 62,
    "start_time": "2023-04-05T10:58:42.937Z"
   },
   {
    "duration": 12,
    "start_time": "2023-04-05T10:58:43.000Z"
   },
   {
    "duration": 29,
    "start_time": "2023-04-05T10:58:43.014Z"
   },
   {
    "duration": 9,
    "start_time": "2023-04-05T10:58:43.045Z"
   },
   {
    "duration": 6,
    "start_time": "2023-04-05T10:58:43.056Z"
   },
   {
    "duration": 9,
    "start_time": "2023-04-05T10:58:43.063Z"
   },
   {
    "duration": 40,
    "start_time": "2023-04-05T11:05:42.147Z"
   },
   {
    "duration": 112,
    "start_time": "2023-04-05T11:09:49.391Z"
   },
   {
    "duration": 18,
    "start_time": "2023-04-05T11:09:56.919Z"
   },
   {
    "duration": 23,
    "start_time": "2023-04-05T11:36:28.540Z"
   },
   {
    "duration": 3,
    "start_time": "2023-04-05T11:36:33.722Z"
   },
   {
    "duration": 34,
    "start_time": "2023-04-05T11:36:33.728Z"
   },
   {
    "duration": 11,
    "start_time": "2023-04-05T11:36:33.764Z"
   },
   {
    "duration": 11,
    "start_time": "2023-04-05T11:36:33.776Z"
   },
   {
    "duration": 14,
    "start_time": "2023-04-05T11:36:33.789Z"
   },
   {
    "duration": 15,
    "start_time": "2023-04-05T11:36:33.805Z"
   },
   {
    "duration": 25,
    "start_time": "2023-04-05T11:36:33.822Z"
   },
   {
    "duration": 23,
    "start_time": "2023-04-05T11:36:39.687Z"
   },
   {
    "duration": 29,
    "start_time": "2023-04-05T11:36:46.330Z"
   },
   {
    "duration": 20,
    "start_time": "2023-04-05T11:37:46.188Z"
   },
   {
    "duration": 10,
    "start_time": "2023-04-05T11:38:05.872Z"
   },
   {
    "duration": 12,
    "start_time": "2023-04-05T11:38:09.637Z"
   },
   {
    "duration": 12,
    "start_time": "2023-04-05T11:38:12.927Z"
   },
   {
    "duration": 12,
    "start_time": "2023-04-05T11:38:19.929Z"
   },
   {
    "duration": 16,
    "start_time": "2023-04-05T11:38:25.650Z"
   },
   {
    "duration": 19,
    "start_time": "2023-04-05T11:38:29.299Z"
   },
   {
    "duration": 19,
    "start_time": "2023-04-05T11:38:44.650Z"
   },
   {
    "duration": 21,
    "start_time": "2023-04-05T11:39:05.514Z"
   },
   {
    "duration": 20,
    "start_time": "2023-04-05T11:39:09.101Z"
   },
   {
    "duration": 19,
    "start_time": "2023-04-05T11:39:18.295Z"
   },
   {
    "duration": 22,
    "start_time": "2023-04-05T11:39:59.002Z"
   },
   {
    "duration": 20,
    "start_time": "2023-04-05T11:40:16.723Z"
   },
   {
    "duration": 21,
    "start_time": "2023-04-05T11:40:38.939Z"
   },
   {
    "duration": 83,
    "start_time": "2023-04-05T14:12:42.309Z"
   },
   {
    "duration": 9,
    "start_time": "2023-04-05T14:12:50.148Z"
   },
   {
    "duration": 70,
    "start_time": "2023-04-05T14:13:07.618Z"
   },
   {
    "duration": 18,
    "start_time": "2023-04-05T14:13:16.096Z"
   },
   {
    "duration": 17,
    "start_time": "2023-04-05T14:13:31.618Z"
   },
   {
    "duration": 17,
    "start_time": "2023-04-05T14:15:20.309Z"
   },
   {
    "duration": 3,
    "start_time": "2023-04-05T14:15:31.618Z"
   },
   {
    "duration": 54,
    "start_time": "2023-04-05T14:15:31.623Z"
   },
   {
    "duration": 12,
    "start_time": "2023-04-05T14:15:31.685Z"
   },
   {
    "duration": 30,
    "start_time": "2023-04-05T14:15:31.699Z"
   },
   {
    "duration": 50,
    "start_time": "2023-04-05T14:15:31.732Z"
   },
   {
    "duration": 30,
    "start_time": "2023-04-05T14:15:31.784Z"
   },
   {
    "duration": 67,
    "start_time": "2023-04-05T14:15:31.815Z"
   },
   {
    "duration": 19,
    "start_time": "2023-04-05T14:15:33.594Z"
   },
   {
    "duration": 19,
    "start_time": "2023-04-05T14:17:12.918Z"
   },
   {
    "duration": 19,
    "start_time": "2023-04-05T14:17:34.084Z"
   },
   {
    "duration": 19,
    "start_time": "2023-04-05T14:19:35.689Z"
   },
   {
    "duration": 27,
    "start_time": "2023-04-05T14:19:40.443Z"
   },
   {
    "duration": 21,
    "start_time": "2023-04-05T14:20:09.957Z"
   },
   {
    "duration": 18,
    "start_time": "2023-04-05T14:20:30.622Z"
   },
   {
    "duration": 11,
    "start_time": "2023-04-05T14:20:40.801Z"
   },
   {
    "duration": 20,
    "start_time": "2023-04-05T14:20:55.051Z"
   },
   {
    "duration": 39,
    "start_time": "2023-04-05T14:21:01.286Z"
   },
   {
    "duration": 1527,
    "start_time": "2023-04-05T14:21:20.981Z"
   },
   {
    "duration": 40,
    "start_time": "2023-04-05T14:22:22.190Z"
   },
   {
    "duration": 15,
    "start_time": "2023-04-05T14:27:22.816Z"
   },
   {
    "duration": 28,
    "start_time": "2023-04-05T14:27:28.431Z"
   },
   {
    "duration": 19,
    "start_time": "2023-04-05T14:28:52.930Z"
   },
   {
    "duration": 15,
    "start_time": "2023-04-05T14:29:08.192Z"
   },
   {
    "duration": 282,
    "start_time": "2023-04-05T14:29:18.883Z"
   },
   {
    "duration": 301,
    "start_time": "2023-04-05T14:29:54.436Z"
   },
   {
    "duration": 326,
    "start_time": "2023-04-05T14:29:59.692Z"
   },
   {
    "duration": 331,
    "start_time": "2023-04-05T14:30:04.781Z"
   },
   {
    "duration": 276,
    "start_time": "2023-04-05T14:30:09.096Z"
   },
   {
    "duration": 327,
    "start_time": "2023-04-05T14:30:42.282Z"
   },
   {
    "duration": 389,
    "start_time": "2023-04-05T14:30:47.213Z"
   },
   {
    "duration": 354,
    "start_time": "2023-04-05T14:33:14.079Z"
   },
   {
    "duration": 12,
    "start_time": "2023-04-05T14:43:01.024Z"
   },
   {
    "duration": 446,
    "start_time": "2023-04-05T14:43:58.765Z"
   },
   {
    "duration": 2513,
    "start_time": "2023-04-05T14:46:42.485Z"
   },
   {
    "duration": 1068,
    "start_time": "2023-04-05T14:46:51.133Z"
   },
   {
    "duration": 1106,
    "start_time": "2023-04-05T14:47:17.801Z"
   },
   {
    "duration": 994,
    "start_time": "2023-04-05T14:47:37.193Z"
   },
   {
    "duration": 3,
    "start_time": "2023-04-05T14:49:47.556Z"
   },
   {
    "duration": 43,
    "start_time": "2023-04-05T14:49:47.561Z"
   },
   {
    "duration": 13,
    "start_time": "2023-04-05T14:49:47.606Z"
   },
   {
    "duration": 11,
    "start_time": "2023-04-05T14:49:47.621Z"
   },
   {
    "duration": 5,
    "start_time": "2023-04-05T14:49:47.634Z"
   },
   {
    "duration": 6,
    "start_time": "2023-04-05T14:49:47.640Z"
   },
   {
    "duration": 22,
    "start_time": "2023-04-05T14:49:47.647Z"
   },
   {
    "duration": 10,
    "start_time": "2023-04-05T14:49:47.670Z"
   },
   {
    "duration": 0,
    "start_time": "2023-04-05T14:49:47.681Z"
   },
   {
    "duration": 0,
    "start_time": "2023-04-05T14:49:47.682Z"
   },
   {
    "duration": 0,
    "start_time": "2023-04-05T14:49:47.684Z"
   },
   {
    "duration": 0,
    "start_time": "2023-04-05T14:49:47.685Z"
   },
   {
    "duration": 0,
    "start_time": "2023-04-05T14:49:47.686Z"
   },
   {
    "duration": 4,
    "start_time": "2023-04-05T14:49:59.458Z"
   },
   {
    "duration": 49,
    "start_time": "2023-04-05T14:49:59.464Z"
   },
   {
    "duration": 19,
    "start_time": "2023-04-05T14:49:59.515Z"
   },
   {
    "duration": 34,
    "start_time": "2023-04-05T14:49:59.536Z"
   },
   {
    "duration": 6,
    "start_time": "2023-04-05T14:49:59.573Z"
   },
   {
    "duration": 12,
    "start_time": "2023-04-05T14:49:59.581Z"
   },
   {
    "duration": 31,
    "start_time": "2023-04-05T14:49:59.595Z"
   },
   {
    "duration": 9,
    "start_time": "2023-04-05T14:49:59.627Z"
   },
   {
    "duration": 0,
    "start_time": "2023-04-05T14:49:59.638Z"
   },
   {
    "duration": 0,
    "start_time": "2023-04-05T14:49:59.639Z"
   },
   {
    "duration": 0,
    "start_time": "2023-04-05T14:49:59.641Z"
   },
   {
    "duration": 0,
    "start_time": "2023-04-05T14:49:59.642Z"
   },
   {
    "duration": 0,
    "start_time": "2023-04-05T14:49:59.644Z"
   },
   {
    "duration": 4,
    "start_time": "2023-04-05T15:45:42.682Z"
   },
   {
    "duration": 954,
    "start_time": "2023-04-05T15:47:38.230Z"
   },
   {
    "duration": 471,
    "start_time": "2023-04-05T15:48:37.572Z"
   },
   {
    "duration": 460,
    "start_time": "2023-04-05T15:48:43.056Z"
   },
   {
    "duration": 220,
    "start_time": "2023-04-05T15:49:02.743Z"
   },
   {
    "duration": 346,
    "start_time": "2023-04-05T15:51:47.720Z"
   },
   {
    "duration": 444,
    "start_time": "2023-04-05T15:51:59.832Z"
   },
   {
    "duration": 690,
    "start_time": "2023-04-05T15:52:03.594Z"
   },
   {
    "duration": 59,
    "start_time": "2023-04-05T15:52:07.530Z"
   },
   {
    "duration": 95,
    "start_time": "2023-04-05T15:52:11.490Z"
   },
   {
    "duration": 110,
    "start_time": "2023-04-05T15:53:13.179Z"
   },
   {
    "duration": 187,
    "start_time": "2023-04-05T15:53:18.795Z"
   },
   {
    "duration": 151,
    "start_time": "2023-04-05T15:53:57.425Z"
   },
   {
    "duration": 163,
    "start_time": "2023-04-05T15:54:14.309Z"
   },
   {
    "duration": 257,
    "start_time": "2023-04-05T15:54:23.505Z"
   },
   {
    "duration": 0,
    "start_time": "2023-04-05T15:58:52.217Z"
   },
   {
    "duration": 2454,
    "start_time": "2023-04-05T15:59:01.322Z"
   },
   {
    "duration": 1607,
    "start_time": "2023-04-05T15:59:16.877Z"
   },
   {
    "duration": 57,
    "start_time": "2023-04-05T15:59:29.660Z"
   },
   {
    "duration": 1078,
    "start_time": "2023-04-05T16:00:32.089Z"
   },
   {
    "duration": 155,
    "start_time": "2023-04-05T16:03:05.016Z"
   },
   {
    "duration": 36,
    "start_time": "2023-04-05T16:03:44.236Z"
   },
   {
    "duration": 101,
    "start_time": "2023-04-05T16:03:51.269Z"
   },
   {
    "duration": 242,
    "start_time": "2023-04-05T16:03:58.122Z"
   },
   {
    "duration": 46,
    "start_time": "2023-04-05T16:04:07.428Z"
   },
   {
    "duration": 274,
    "start_time": "2023-04-05T16:04:10.889Z"
   },
   {
    "duration": 97,
    "start_time": "2023-04-05T16:04:13.778Z"
   },
   {
    "duration": 175,
    "start_time": "2023-04-05T16:04:18.594Z"
   },
   {
    "duration": 340,
    "start_time": "2023-04-05T16:04:22.324Z"
   },
   {
    "duration": 369,
    "start_time": "2023-04-05T16:04:25.703Z"
   },
   {
    "duration": 143,
    "start_time": "2023-04-05T16:04:30.121Z"
   },
   {
    "duration": 275,
    "start_time": "2023-04-05T16:04:34.491Z"
   },
   {
    "duration": 827,
    "start_time": "2023-04-05T16:04:38.235Z"
   },
   {
    "duration": 147,
    "start_time": "2023-04-05T16:07:47.119Z"
   },
   {
    "duration": 173,
    "start_time": "2023-04-05T16:11:28.496Z"
   },
   {
    "duration": 19,
    "start_time": "2023-04-05T16:11:34.653Z"
   },
   {
    "duration": 6,
    "start_time": "2023-04-05T16:12:39.037Z"
   },
   {
    "duration": 64,
    "start_time": "2023-04-05T16:13:12.193Z"
   },
   {
    "duration": 3991,
    "start_time": "2023-04-05T16:13:19.373Z"
   },
   {
    "duration": 3894,
    "start_time": "2023-04-05T16:13:50.288Z"
   },
   {
    "duration": 8942,
    "start_time": "2023-04-05T16:14:14.670Z"
   },
   {
    "duration": 4761,
    "start_time": "2023-04-05T16:14:30.247Z"
   },
   {
    "duration": 133,
    "start_time": "2023-04-05T16:15:20.133Z"
   },
   {
    "duration": 211,
    "start_time": "2023-04-05T16:15:29.959Z"
   },
   {
    "duration": 158,
    "start_time": "2023-04-05T16:15:36.704Z"
   },
   {
    "duration": 4443,
    "start_time": "2023-04-05T16:15:47.551Z"
   },
   {
    "duration": 4271,
    "start_time": "2023-04-05T16:16:31.134Z"
   },
   {
    "duration": 5568,
    "start_time": "2023-04-05T16:16:41.647Z"
   },
   {
    "duration": 512,
    "start_time": "2023-04-05T16:16:52.711Z"
   },
   {
    "duration": 697,
    "start_time": "2023-04-05T16:16:59.800Z"
   },
   {
    "duration": 489,
    "start_time": "2023-04-05T16:17:02.644Z"
   },
   {
    "duration": 328,
    "start_time": "2023-04-05T16:17:04.704Z"
   },
   {
    "duration": 4669,
    "start_time": "2023-04-05T16:17:06.694Z"
   },
   {
    "duration": 8569,
    "start_time": "2023-04-05T16:18:04.594Z"
   },
   {
    "duration": 4,
    "start_time": "2023-04-05T17:32:01.533Z"
   },
   {
    "duration": 10,
    "start_time": "2023-04-05T17:32:18.021Z"
   },
   {
    "duration": 8,
    "start_time": "2023-04-05T17:32:21.863Z"
   },
   {
    "duration": 41,
    "start_time": "2023-04-05T17:33:18.950Z"
   },
   {
    "duration": 16,
    "start_time": "2023-04-05T17:33:56.435Z"
   },
   {
    "duration": 12,
    "start_time": "2023-04-05T17:34:00.729Z"
   },
   {
    "duration": 10,
    "start_time": "2023-04-05T17:34:04.944Z"
   },
   {
    "duration": 18,
    "start_time": "2023-04-05T17:35:05.891Z"
   },
   {
    "duration": 10,
    "start_time": "2023-04-05T17:35:32.226Z"
   },
   {
    "duration": 18,
    "start_time": "2023-04-05T17:35:37.686Z"
   },
   {
    "duration": 16,
    "start_time": "2023-04-05T17:37:42.894Z"
   },
   {
    "duration": 21,
    "start_time": "2023-04-05T17:38:41.304Z"
   },
   {
    "duration": 1025,
    "start_time": "2023-04-05T17:38:44.891Z"
   },
   {
    "duration": 51857,
    "start_time": "2023-04-05T17:38:51.055Z"
   },
   {
    "duration": 2596,
    "start_time": "2023-04-05T17:41:18.234Z"
   },
   {
    "duration": 4,
    "start_time": "2023-04-05T17:41:24.379Z"
   },
   {
    "duration": 40,
    "start_time": "2023-04-05T17:41:24.385Z"
   },
   {
    "duration": 11,
    "start_time": "2023-04-05T17:41:24.427Z"
   },
   {
    "duration": 10,
    "start_time": "2023-04-05T17:41:24.440Z"
   },
   {
    "duration": 5,
    "start_time": "2023-04-05T17:41:24.452Z"
   },
   {
    "duration": 9,
    "start_time": "2023-04-05T17:41:24.459Z"
   },
   {
    "duration": 24,
    "start_time": "2023-04-05T17:41:24.470Z"
   },
   {
    "duration": 393,
    "start_time": "2023-04-05T17:41:24.495Z"
   },
   {
    "duration": 569,
    "start_time": "2023-04-05T17:41:24.891Z"
   },
   {
    "duration": 1054,
    "start_time": "2023-04-05T17:41:25.463Z"
   },
   {
    "duration": 165,
    "start_time": "2023-04-05T17:41:26.519Z"
   },
   {
    "duration": 290,
    "start_time": "2023-04-05T17:41:26.688Z"
   },
   {
    "duration": 186,
    "start_time": "2023-04-05T17:41:26.983Z"
   },
   {
    "duration": 5485,
    "start_time": "2023-04-05T17:41:27.176Z"
   },
   {
    "duration": 98,
    "start_time": "2023-04-05T17:41:32.665Z"
   },
   {
    "duration": 16,
    "start_time": "2023-04-05T17:41:34.980Z"
   },
   {
    "duration": 8,
    "start_time": "2023-04-05T17:42:15.621Z"
   },
   {
    "duration": 22,
    "start_time": "2023-04-05T17:42:22.458Z"
   },
   {
    "duration": 23,
    "start_time": "2023-04-05T17:42:27.285Z"
   },
   {
    "duration": 21,
    "start_time": "2023-04-05T17:43:02.260Z"
   },
   {
    "duration": 13,
    "start_time": "2023-04-05T17:43:05.689Z"
   },
   {
    "duration": 19,
    "start_time": "2023-04-05T17:43:07.306Z"
   },
   {
    "duration": 18,
    "start_time": "2023-04-05T17:43:09.262Z"
   },
   {
    "duration": 9,
    "start_time": "2023-04-05T17:43:12.440Z"
   },
   {
    "duration": 19,
    "start_time": "2023-04-05T17:43:14.874Z"
   },
   {
    "duration": 17,
    "start_time": "2023-04-05T17:43:19.331Z"
   },
   {
    "duration": 17,
    "start_time": "2023-04-05T17:43:22.004Z"
   },
   {
    "duration": 24,
    "start_time": "2023-04-05T17:43:24.011Z"
   },
   {
    "duration": 21,
    "start_time": "2023-04-05T17:45:52.750Z"
   },
   {
    "duration": 50,
    "start_time": "2023-04-05T17:46:04.052Z"
   },
   {
    "duration": 23,
    "start_time": "2023-04-05T17:46:13.070Z"
   },
   {
    "duration": 20,
    "start_time": "2023-04-05T17:46:17.722Z"
   },
   {
    "duration": 22,
    "start_time": "2023-04-05T17:46:23.179Z"
   },
   {
    "duration": 26,
    "start_time": "2023-04-05T17:46:27.975Z"
   },
   {
    "duration": 22,
    "start_time": "2023-04-05T17:46:32.321Z"
   },
   {
    "duration": 15,
    "start_time": "2023-04-05T17:46:39.325Z"
   },
   {
    "duration": 12,
    "start_time": "2023-04-05T17:46:44.614Z"
   },
   {
    "duration": 11,
    "start_time": "2023-04-05T17:46:48.075Z"
   },
   {
    "duration": 12,
    "start_time": "2023-04-05T17:46:52.453Z"
   },
   {
    "duration": 13,
    "start_time": "2023-04-05T17:46:56.596Z"
   },
   {
    "duration": 14,
    "start_time": "2023-04-05T17:47:00.460Z"
   },
   {
    "duration": 16,
    "start_time": "2023-04-05T17:47:04.055Z"
   },
   {
    "duration": 13,
    "start_time": "2023-04-05T17:47:06.956Z"
   },
   {
    "duration": 17,
    "start_time": "2023-04-05T17:47:10.453Z"
   },
   {
    "duration": 21,
    "start_time": "2023-04-05T17:47:13.631Z"
   },
   {
    "duration": 17,
    "start_time": "2023-04-05T17:47:16.157Z"
   },
   {
    "duration": 18,
    "start_time": "2023-04-05T17:47:20.673Z"
   },
   {
    "duration": 63,
    "start_time": "2023-04-05T17:49:01.659Z"
   },
   {
    "duration": 336,
    "start_time": "2023-04-05T17:49:06.143Z"
   },
   {
    "duration": 24,
    "start_time": "2023-04-05T17:49:36.680Z"
   },
   {
    "duration": 59,
    "start_time": "2023-04-05T17:50:08.049Z"
   },
   {
    "duration": 46,
    "start_time": "2023-04-05T17:51:05.121Z"
   },
   {
    "duration": 16,
    "start_time": "2023-04-05T18:07:51.678Z"
   },
   {
    "duration": 21,
    "start_time": "2023-04-05T18:07:55.839Z"
   },
   {
    "duration": 31,
    "start_time": "2023-04-05T18:07:59.241Z"
   },
   {
    "duration": 35,
    "start_time": "2023-04-05T18:08:02.411Z"
   },
   {
    "duration": 37,
    "start_time": "2023-04-05T18:08:05.973Z"
   },
   {
    "duration": 40,
    "start_time": "2023-04-05T18:08:10.541Z"
   },
   {
    "duration": 48,
    "start_time": "2023-04-05T18:08:14.767Z"
   },
   {
    "duration": 122,
    "start_time": "2023-04-05T18:08:21.286Z"
   },
   {
    "duration": 64,
    "start_time": "2023-04-05T18:08:25.032Z"
   },
   {
    "duration": 69,
    "start_time": "2023-04-05T18:08:28.587Z"
   },
   {
    "duration": 110,
    "start_time": "2023-04-05T18:08:32.771Z"
   },
   {
    "duration": 77,
    "start_time": "2023-04-05T18:08:36.484Z"
   },
   {
    "duration": 81,
    "start_time": "2023-04-05T18:08:39.490Z"
   },
   {
    "duration": 96,
    "start_time": "2023-04-05T18:08:42.102Z"
   },
   {
    "duration": 80,
    "start_time": "2023-04-05T18:08:45.189Z"
   },
   {
    "duration": 10816,
    "start_time": "2023-04-05T18:08:49.501Z"
   },
   {
    "duration": 91,
    "start_time": "2023-04-05T18:09:08.452Z"
   },
   {
    "duration": 15,
    "start_time": "2023-04-05T18:10:44.162Z"
   },
   {
    "duration": 19,
    "start_time": "2023-04-05T18:10:52.246Z"
   },
   {
    "duration": 22,
    "start_time": "2023-04-05T18:10:56.668Z"
   },
   {
    "duration": 25,
    "start_time": "2023-04-05T18:11:00.894Z"
   },
   {
    "duration": 21,
    "start_time": "2023-04-05T18:11:03.951Z"
   },
   {
    "duration": 23,
    "start_time": "2023-04-05T18:11:09.722Z"
   },
   {
    "duration": 26,
    "start_time": "2023-04-05T18:11:25.365Z"
   },
   {
    "duration": 17,
    "start_time": "2023-04-05T18:11:29.700Z"
   },
   {
    "duration": 26,
    "start_time": "2023-04-05T18:11:34.160Z"
   },
   {
    "duration": 13,
    "start_time": "2023-04-05T18:36:07.529Z"
   },
   {
    "duration": 11,
    "start_time": "2023-04-05T18:36:11.616Z"
   },
   {
    "duration": 5,
    "start_time": "2023-04-05T18:36:27.883Z"
   },
   {
    "duration": 5,
    "start_time": "2023-04-05T18:36:34.030Z"
   },
   {
    "duration": 5,
    "start_time": "2023-04-05T18:36:39.891Z"
   },
   {
    "duration": 5,
    "start_time": "2023-04-05T18:36:47.101Z"
   },
   {
    "duration": 5,
    "start_time": "2023-04-05T18:37:30.693Z"
   },
   {
    "duration": 4,
    "start_time": "2023-04-05T18:39:20.539Z"
   },
   {
    "duration": 7,
    "start_time": "2023-04-05T18:40:38.743Z"
   },
   {
    "duration": 15,
    "start_time": "2023-04-05T18:40:47.109Z"
   },
   {
    "duration": 11,
    "start_time": "2023-04-05T18:55:05.761Z"
   },
   {
    "duration": 13,
    "start_time": "2023-04-05T18:57:23.206Z"
   },
   {
    "duration": 8,
    "start_time": "2023-04-05T18:57:41.982Z"
   },
   {
    "duration": 92,
    "start_time": "2023-04-05T19:01:04.903Z"
   },
   {
    "duration": 4,
    "start_time": "2023-04-05T19:01:08.883Z"
   },
   {
    "duration": 28,
    "start_time": "2023-04-05T19:01:08.888Z"
   },
   {
    "duration": 11,
    "start_time": "2023-04-05T19:01:08.918Z"
   },
   {
    "duration": 11,
    "start_time": "2023-04-05T19:01:08.931Z"
   },
   {
    "duration": 4,
    "start_time": "2023-04-05T19:01:08.944Z"
   },
   {
    "duration": 11,
    "start_time": "2023-04-05T19:01:08.951Z"
   },
   {
    "duration": 24,
    "start_time": "2023-04-05T19:01:08.963Z"
   },
   {
    "duration": 314,
    "start_time": "2023-04-05T19:01:08.988Z"
   },
   {
    "duration": 450,
    "start_time": "2023-04-05T19:01:09.304Z"
   },
   {
    "duration": 993,
    "start_time": "2023-04-05T19:01:09.756Z"
   },
   {
    "duration": 38,
    "start_time": "2023-04-05T19:01:10.751Z"
   },
   {
    "duration": 32,
    "start_time": "2023-04-05T19:01:10.791Z"
   },
   {
    "duration": 38,
    "start_time": "2023-04-05T19:01:10.825Z"
   },
   {
    "duration": 1285,
    "start_time": "2023-04-05T19:01:10.865Z"
   },
   {
    "duration": 108,
    "start_time": "2023-04-05T19:01:13.744Z"
   },
   {
    "duration": 85,
    "start_time": "2023-04-05T19:01:20.721Z"
   },
   {
    "duration": 5,
    "start_time": "2023-04-05T19:01:34.605Z"
   },
   {
    "duration": 33,
    "start_time": "2023-04-05T19:01:34.613Z"
   },
   {
    "duration": 14,
    "start_time": "2023-04-05T19:01:34.648Z"
   },
   {
    "duration": 31,
    "start_time": "2023-04-05T19:01:34.665Z"
   },
   {
    "duration": 9,
    "start_time": "2023-04-05T19:01:34.698Z"
   },
   {
    "duration": 10,
    "start_time": "2023-04-05T19:01:34.709Z"
   },
   {
    "duration": 27,
    "start_time": "2023-04-05T19:01:34.721Z"
   },
   {
    "duration": 426,
    "start_time": "2023-04-05T19:01:34.750Z"
   },
   {
    "duration": 573,
    "start_time": "2023-04-05T19:01:35.179Z"
   },
   {
    "duration": 964,
    "start_time": "2023-04-05T19:01:35.755Z"
   },
   {
    "duration": 60,
    "start_time": "2023-04-05T19:01:36.721Z"
   },
   {
    "duration": 46,
    "start_time": "2023-04-05T19:01:36.787Z"
   },
   {
    "duration": 23,
    "start_time": "2023-04-05T19:01:36.835Z"
   },
   {
    "duration": 1506,
    "start_time": "2023-04-05T19:01:36.861Z"
   },
   {
    "duration": 71,
    "start_time": "2023-04-05T19:01:38.370Z"
   },
   {
    "duration": 131,
    "start_time": "2023-04-05T19:01:38.443Z"
   },
   {
    "duration": 70,
    "start_time": "2023-04-05T19:01:38.576Z"
   },
   {
    "duration": 82,
    "start_time": "2023-04-05T19:01:38.648Z"
   },
   {
    "duration": 157,
    "start_time": "2023-04-05T19:01:38.733Z"
   },
   {
    "duration": 71,
    "start_time": "2023-04-05T19:01:38.892Z"
   },
   {
    "duration": 6,
    "start_time": "2023-04-05T19:01:38.965Z"
   },
   {
    "duration": 8,
    "start_time": "2023-04-05T19:01:38.973Z"
   },
   {
    "duration": 11,
    "start_time": "2023-04-05T19:03:02.814Z"
   },
   {
    "duration": 23,
    "start_time": "2023-04-05T19:03:09.875Z"
   },
   {
    "duration": 91,
    "start_time": "2023-04-05T19:03:17.578Z"
   },
   {
    "duration": 14,
    "start_time": "2023-04-05T19:04:06.031Z"
   },
   {
    "duration": 75,
    "start_time": "2023-04-05T19:04:12.524Z"
   },
   {
    "duration": 18,
    "start_time": "2023-04-05T19:04:33.127Z"
   },
   {
    "duration": 87,
    "start_time": "2023-04-05T19:04:43.609Z"
   },
   {
    "duration": 17,
    "start_time": "2023-04-05T19:05:34.681Z"
   },
   {
    "duration": 18,
    "start_time": "2023-04-05T19:05:40.587Z"
   },
   {
    "duration": 25,
    "start_time": "2023-04-05T19:05:53.749Z"
   },
   {
    "duration": 29,
    "start_time": "2023-04-05T19:06:07.701Z"
   },
   {
    "duration": 72,
    "start_time": "2023-04-05T19:06:37.935Z"
   },
   {
    "duration": 13,
    "start_time": "2023-04-05T19:06:47.734Z"
   },
   {
    "duration": 24,
    "start_time": "2023-04-05T19:07:05.388Z"
   },
   {
    "duration": 24,
    "start_time": "2023-04-05T19:07:30.258Z"
   },
   {
    "duration": 25,
    "start_time": "2023-04-05T19:07:36.832Z"
   },
   {
    "duration": 26,
    "start_time": "2023-04-05T19:07:42.374Z"
   },
   {
    "duration": 28,
    "start_time": "2023-04-05T19:08:24.246Z"
   },
   {
    "duration": 24,
    "start_time": "2023-04-05T19:08:32.461Z"
   },
   {
    "duration": 15,
    "start_time": "2023-04-05T19:12:23.383Z"
   },
   {
    "duration": 33,
    "start_time": "2023-04-05T19:12:32.827Z"
   },
   {
    "duration": 27,
    "start_time": "2023-04-05T19:12:51.213Z"
   },
   {
    "duration": 7,
    "start_time": "2023-04-05T19:12:59.165Z"
   },
   {
    "duration": 19,
    "start_time": "2023-04-05T19:13:05.227Z"
   },
   {
    "duration": 72,
    "start_time": "2023-04-05T19:13:12.398Z"
   },
   {
    "duration": 25,
    "start_time": "2023-04-05T19:14:19.965Z"
   },
   {
    "duration": 40,
    "start_time": "2023-04-05T19:16:02.619Z"
   },
   {
    "duration": 20,
    "start_time": "2023-04-05T19:16:13.949Z"
   },
   {
    "duration": 28,
    "start_time": "2023-04-05T19:16:25.143Z"
   },
   {
    "duration": 21,
    "start_time": "2023-04-05T19:16:39.380Z"
   },
   {
    "duration": 30,
    "start_time": "2023-04-05T19:16:48.476Z"
   },
   {
    "duration": 30,
    "start_time": "2023-04-05T19:16:53.586Z"
   },
   {
    "duration": 31,
    "start_time": "2023-04-05T19:17:08.172Z"
   },
   {
    "duration": 41,
    "start_time": "2023-04-05T19:24:42.026Z"
   },
   {
    "duration": 35,
    "start_time": "2023-04-05T19:25:12.463Z"
   },
   {
    "duration": 32,
    "start_time": "2023-04-05T19:25:27.807Z"
   },
   {
    "duration": 6,
    "start_time": "2023-04-05T19:25:37.633Z"
   },
   {
    "duration": 11,
    "start_time": "2023-04-05T19:26:12.557Z"
   },
   {
    "duration": 30,
    "start_time": "2023-04-05T19:26:12.574Z"
   },
   {
    "duration": 11,
    "start_time": "2023-04-05T19:26:12.606Z"
   },
   {
    "duration": 11,
    "start_time": "2023-04-05T19:26:12.619Z"
   },
   {
    "duration": 11,
    "start_time": "2023-04-05T19:26:12.632Z"
   },
   {
    "duration": 11,
    "start_time": "2023-04-05T19:26:12.645Z"
   },
   {
    "duration": 29,
    "start_time": "2023-04-05T19:26:12.660Z"
   },
   {
    "duration": 296,
    "start_time": "2023-04-05T19:26:12.691Z"
   },
   {
    "duration": 437,
    "start_time": "2023-04-05T19:26:12.989Z"
   },
   {
    "duration": 858,
    "start_time": "2023-04-05T19:26:13.428Z"
   },
   {
    "duration": 28,
    "start_time": "2023-04-05T19:26:14.288Z"
   },
   {
    "duration": 70,
    "start_time": "2023-04-05T19:26:14.318Z"
   },
   {
    "duration": 20,
    "start_time": "2023-04-05T19:26:14.390Z"
   },
   {
    "duration": 1507,
    "start_time": "2023-04-05T19:26:14.413Z"
   },
   {
    "duration": 29,
    "start_time": "2023-04-05T19:26:16.053Z"
   },
   {
    "duration": 19,
    "start_time": "2023-04-05T19:26:27.308Z"
   },
   {
    "duration": 18,
    "start_time": "2023-04-05T19:26:31.979Z"
   },
   {
    "duration": 87,
    "start_time": "2023-04-05T19:26:34.155Z"
   },
   {
    "duration": 38,
    "start_time": "2023-04-05T19:26:36.250Z"
   },
   {
    "duration": 14,
    "start_time": "2023-04-05T19:28:51.790Z"
   },
   {
    "duration": 14,
    "start_time": "2023-04-05T19:29:26.445Z"
   },
   {
    "duration": 1313,
    "start_time": "2023-04-05T19:31:31.044Z"
   },
   {
    "duration": 69,
    "start_time": "2023-04-05T19:32:30.113Z"
   },
   {
    "duration": 62,
    "start_time": "2023-04-05T19:32:41.736Z"
   },
   {
    "duration": 203,
    "start_time": "2023-04-05T19:32:50.406Z"
   },
   {
    "duration": 191,
    "start_time": "2023-04-05T19:32:58.311Z"
   },
   {
    "duration": 127,
    "start_time": "2023-04-05T19:33:02.571Z"
   },
   {
    "duration": 74,
    "start_time": "2023-04-05T19:33:05.628Z"
   },
   {
    "duration": 3,
    "start_time": "2023-04-05T19:34:08.028Z"
   },
   {
    "duration": 61,
    "start_time": "2023-04-05T19:34:08.033Z"
   },
   {
    "duration": 11,
    "start_time": "2023-04-05T19:34:08.096Z"
   },
   {
    "duration": 13,
    "start_time": "2023-04-05T19:34:08.109Z"
   },
   {
    "duration": 17,
    "start_time": "2023-04-05T19:34:08.124Z"
   },
   {
    "duration": 18,
    "start_time": "2023-04-05T19:34:08.143Z"
   },
   {
    "duration": 27,
    "start_time": "2023-04-05T19:34:08.163Z"
   },
   {
    "duration": 303,
    "start_time": "2023-04-05T19:34:08.192Z"
   },
   {
    "duration": 488,
    "start_time": "2023-04-05T19:34:08.497Z"
   },
   {
    "duration": 862,
    "start_time": "2023-04-05T19:34:08.987Z"
   },
   {
    "duration": 39,
    "start_time": "2023-04-05T19:34:09.851Z"
   },
   {
    "duration": 28,
    "start_time": "2023-04-05T19:34:09.892Z"
   },
   {
    "duration": 15,
    "start_time": "2023-04-05T19:34:09.922Z"
   },
   {
    "duration": 1366,
    "start_time": "2023-04-05T19:34:14.036Z"
   },
   {
    "duration": 1233,
    "start_time": "2023-04-05T19:34:44.363Z"
   },
   {
    "duration": 1332,
    "start_time": "2023-04-05T19:34:54.582Z"
   },
   {
    "duration": 5,
    "start_time": "2023-04-05T19:36:01.050Z"
   },
   {
    "duration": 57,
    "start_time": "2023-04-05T19:36:01.073Z"
   },
   {
    "duration": 11,
    "start_time": "2023-04-05T19:36:01.132Z"
   },
   {
    "duration": 35,
    "start_time": "2023-04-05T19:36:01.146Z"
   },
   {
    "duration": 46,
    "start_time": "2023-04-05T19:36:01.183Z"
   },
   {
    "duration": 50,
    "start_time": "2023-04-05T19:36:01.231Z"
   },
   {
    "duration": 69,
    "start_time": "2023-04-05T19:36:01.283Z"
   },
   {
    "duration": 324,
    "start_time": "2023-04-05T19:36:01.354Z"
   },
   {
    "duration": 416,
    "start_time": "2023-04-05T19:36:01.680Z"
   },
   {
    "duration": 841,
    "start_time": "2023-04-05T19:36:02.098Z"
   },
   {
    "duration": 40,
    "start_time": "2023-04-05T19:36:02.941Z"
   },
   {
    "duration": 26,
    "start_time": "2023-04-05T19:36:02.982Z"
   },
   {
    "duration": 14,
    "start_time": "2023-04-05T19:36:03.010Z"
   },
   {
    "duration": 1389,
    "start_time": "2023-04-05T19:36:03.025Z"
   },
   {
    "duration": 14,
    "start_time": "2023-04-05T19:36:04.416Z"
   },
   {
    "duration": 73,
    "start_time": "2023-04-05T19:36:04.431Z"
   },
   {
    "duration": 15,
    "start_time": "2023-04-05T19:36:10.515Z"
   },
   {
    "duration": 28,
    "start_time": "2023-04-05T19:36:19.152Z"
   },
   {
    "duration": 25,
    "start_time": "2023-04-05T19:36:25.489Z"
   },
   {
    "duration": 28,
    "start_time": "2023-04-05T19:36:33.157Z"
   },
   {
    "duration": 16,
    "start_time": "2023-04-05T19:36:35.218Z"
   },
   {
    "duration": 16,
    "start_time": "2023-04-05T19:36:37.993Z"
   },
   {
    "duration": 17,
    "start_time": "2023-04-05T19:36:41.978Z"
   },
   {
    "duration": 15,
    "start_time": "2023-04-05T19:36:45.303Z"
   },
   {
    "duration": 20,
    "start_time": "2023-04-05T19:36:48.653Z"
   },
   {
    "duration": 9,
    "start_time": "2023-04-05T19:37:10.686Z"
   },
   {
    "duration": 12,
    "start_time": "2023-04-05T19:37:13.443Z"
   },
   {
    "duration": 22,
    "start_time": "2023-04-05T19:37:37.973Z"
   },
   {
    "duration": 13,
    "start_time": "2023-04-05T19:37:58.667Z"
   },
   {
    "duration": 13,
    "start_time": "2023-04-05T19:38:04.674Z"
   },
   {
    "duration": 14,
    "start_time": "2023-04-05T19:38:10.161Z"
   },
   {
    "duration": 5,
    "start_time": "2023-04-05T19:39:55.809Z"
   },
   {
    "duration": 8,
    "start_time": "2023-04-05T19:39:57.692Z"
   },
   {
    "duration": 3,
    "start_time": "2023-04-05T19:45:06.857Z"
   },
   {
    "duration": 30,
    "start_time": "2023-04-05T19:45:06.863Z"
   },
   {
    "duration": 11,
    "start_time": "2023-04-05T19:45:06.895Z"
   },
   {
    "duration": 9,
    "start_time": "2023-04-05T19:45:06.908Z"
   },
   {
    "duration": 9,
    "start_time": "2023-04-05T19:45:06.920Z"
   },
   {
    "duration": 6,
    "start_time": "2023-04-05T19:45:06.934Z"
   },
   {
    "duration": 33,
    "start_time": "2023-04-05T19:45:06.941Z"
   },
   {
    "duration": 303,
    "start_time": "2023-04-05T19:45:06.977Z"
   },
   {
    "duration": 394,
    "start_time": "2023-04-05T19:45:07.282Z"
   },
   {
    "duration": 811,
    "start_time": "2023-04-05T19:45:07.679Z"
   },
   {
    "duration": 28,
    "start_time": "2023-04-05T19:45:08.492Z"
   },
   {
    "duration": 52,
    "start_time": "2023-04-05T19:45:08.522Z"
   },
   {
    "duration": 17,
    "start_time": "2023-04-05T19:45:08.578Z"
   },
   {
    "duration": 1214,
    "start_time": "2023-04-05T19:45:08.597Z"
   },
   {
    "duration": 15,
    "start_time": "2023-04-05T19:45:09.813Z"
   },
   {
    "duration": 78,
    "start_time": "2023-04-05T19:45:09.830Z"
   },
   {
    "duration": 17,
    "start_time": "2023-04-05T19:45:09.910Z"
   },
   {
    "duration": 8,
    "start_time": "2023-04-05T19:45:09.929Z"
   },
   {
    "duration": 14,
    "start_time": "2023-04-05T19:45:09.973Z"
   },
   {
    "duration": 8,
    "start_time": "2023-04-05T19:45:09.989Z"
   },
   {
    "duration": 6,
    "start_time": "2023-04-05T19:45:09.999Z"
   },
   {
    "duration": 14,
    "start_time": "2023-04-05T19:45:10.006Z"
   },
   {
    "duration": 43,
    "start_time": "2023-04-08T18:38:31.986Z"
   },
   {
    "duration": 1082,
    "start_time": "2023-04-08T18:38:36.660Z"
   },
   {
    "duration": 127,
    "start_time": "2023-04-08T18:38:37.744Z"
   },
   {
    "duration": 10,
    "start_time": "2023-04-08T18:38:37.873Z"
   },
   {
    "duration": 26,
    "start_time": "2023-04-08T18:38:37.884Z"
   },
   {
    "duration": 5,
    "start_time": "2023-04-08T18:38:40.178Z"
   },
   {
    "duration": 77,
    "start_time": "2023-04-08T18:41:03.503Z"
   },
   {
    "duration": 1497,
    "start_time": "2023-04-08T18:41:16.204Z"
   },
   {
    "duration": 79,
    "start_time": "2023-04-08T18:41:25.093Z"
   },
   {
    "duration": 12,
    "start_time": "2023-04-08T18:41:31.659Z"
   },
   {
    "duration": 7,
    "start_time": "2023-04-08T18:41:37.724Z"
   },
   {
    "duration": 6,
    "start_time": "2023-04-08T18:41:45.016Z"
   },
   {
    "duration": 5,
    "start_time": "2023-04-08T18:42:05.862Z"
   },
   {
    "duration": 5,
    "start_time": "2023-04-08T18:42:09.880Z"
   },
   {
    "duration": 8,
    "start_time": "2023-04-08T18:42:14.667Z"
   },
   {
    "duration": 11,
    "start_time": "2023-04-08T18:44:15.718Z"
   },
   {
    "duration": 7,
    "start_time": "2023-04-08T18:44:22.493Z"
   },
   {
    "duration": 8,
    "start_time": "2023-04-08T18:44:36.804Z"
   },
   {
    "duration": 9,
    "start_time": "2023-04-09T04:20:06.165Z"
   },
   {
    "duration": 1186,
    "start_time": "2023-04-09T04:20:08.221Z"
   },
   {
    "duration": 2,
    "start_time": "2023-04-09T04:20:10.797Z"
   },
   {
    "duration": 3,
    "start_time": "2023-04-09T04:20:19.541Z"
   },
   {
    "duration": 21,
    "start_time": "2023-04-09T04:20:19.546Z"
   },
   {
    "duration": 146,
    "start_time": "2023-04-09T04:20:19.569Z"
   },
   {
    "duration": 11,
    "start_time": "2023-04-09T04:20:19.717Z"
   },
   {
    "duration": 18,
    "start_time": "2023-04-09T04:20:19.730Z"
   },
   {
    "duration": 6,
    "start_time": "2023-04-09T04:20:19.750Z"
   },
   {
    "duration": 6,
    "start_time": "2023-04-09T04:20:19.757Z"
   },
   {
    "duration": 8,
    "start_time": "2023-04-09T04:20:36.602Z"
   },
   {
    "duration": 7,
    "start_time": "2023-04-09T04:22:42.452Z"
   },
   {
    "duration": 9,
    "start_time": "2023-04-09T04:23:44.025Z"
   },
   {
    "duration": 18,
    "start_time": "2023-04-09T04:26:45.228Z"
   },
   {
    "duration": 17,
    "start_time": "2023-04-09T04:31:41.944Z"
   },
   {
    "duration": 3,
    "start_time": "2023-04-09T04:36:55.982Z"
   },
   {
    "duration": 119,
    "start_time": "2023-04-09T04:40:42.673Z"
   },
   {
    "duration": 18,
    "start_time": "2023-04-09T04:41:01.601Z"
   },
   {
    "duration": 253,
    "start_time": "2023-04-09T04:41:30.949Z"
   },
   {
    "duration": 378,
    "start_time": "2023-04-09T04:44:04.236Z"
   },
   {
    "duration": 772,
    "start_time": "2023-04-09T04:45:11.390Z"
   },
   {
    "duration": 779,
    "start_time": "2023-04-09T04:45:26.052Z"
   },
   {
    "duration": 864,
    "start_time": "2023-04-09T04:45:41.513Z"
   },
   {
    "duration": 18675,
    "start_time": "2023-04-09T04:45:53.000Z"
   },
   {
    "duration": 38,
    "start_time": "2023-04-09T05:05:19.887Z"
   },
   {
    "duration": 38,
    "start_time": "2023-04-09T05:05:55.543Z"
   },
   {
    "duration": 17,
    "start_time": "2023-04-09T05:06:24.408Z"
   },
   {
    "duration": 13,
    "start_time": "2023-04-09T05:06:32.308Z"
   },
   {
    "duration": 1484,
    "start_time": "2023-04-09T05:06:55.258Z"
   },
   {
    "duration": 205,
    "start_time": "2023-04-09T05:07:07.519Z"
   },
   {
    "duration": 259,
    "start_time": "2023-04-09T05:07:11.219Z"
   },
   {
    "duration": 221,
    "start_time": "2023-04-09T05:07:53.097Z"
   },
   {
    "duration": 214,
    "start_time": "2023-04-09T05:07:56.884Z"
   },
   {
    "duration": 3,
    "start_time": "2023-04-09T05:12:03.047Z"
   },
   {
    "duration": 36,
    "start_time": "2023-04-09T05:12:03.052Z"
   },
   {
    "duration": 43,
    "start_time": "2023-04-09T05:12:03.091Z"
   },
   {
    "duration": 11,
    "start_time": "2023-04-09T05:12:03.136Z"
   },
   {
    "duration": 15,
    "start_time": "2023-04-09T05:12:03.149Z"
   },
   {
    "duration": 12,
    "start_time": "2023-04-09T05:12:03.166Z"
   },
   {
    "duration": 11,
    "start_time": "2023-04-09T05:12:03.179Z"
   },
   {
    "duration": 30,
    "start_time": "2023-04-09T05:12:03.192Z"
   },
   {
    "duration": 37,
    "start_time": "2023-04-09T05:12:03.224Z"
   },
   {
    "duration": 256,
    "start_time": "2023-04-09T05:12:03.263Z"
   },
   {
    "duration": 394,
    "start_time": "2023-04-09T05:12:03.521Z"
   },
   {
    "duration": 19441,
    "start_time": "2023-04-09T05:12:03.917Z"
   },
   {
    "duration": 42,
    "start_time": "2023-04-09T05:12:23.360Z"
   },
   {
    "duration": 56,
    "start_time": "2023-04-09T05:12:23.404Z"
   },
   {
    "duration": 18,
    "start_time": "2023-04-09T05:12:23.461Z"
   },
   {
    "duration": 242,
    "start_time": "2023-04-09T05:12:23.481Z"
   },
   {
    "duration": 5,
    "start_time": "2023-04-09T05:12:23.726Z"
   },
   {
    "duration": 21,
    "start_time": "2023-04-09T05:12:23.741Z"
   },
   {
    "duration": 101,
    "start_time": "2023-04-09T05:12:23.764Z"
   },
   {
    "duration": 80,
    "start_time": "2023-04-09T05:12:23.867Z"
   },
   {
    "duration": 68,
    "start_time": "2023-04-09T05:12:23.949Z"
   },
   {
    "duration": 13,
    "start_time": "2023-04-09T05:12:24.019Z"
   },
   {
    "duration": 62,
    "start_time": "2023-04-09T05:12:24.034Z"
   },
   {
    "duration": 52,
    "start_time": "2023-04-09T05:12:24.100Z"
   },
   {
    "duration": 4,
    "start_time": "2023-04-09T05:14:36.761Z"
   },
   {
    "duration": 40,
    "start_time": "2023-04-09T05:14:44.643Z"
   },
   {
    "duration": 5,
    "start_time": "2023-04-09T05:16:01.443Z"
   },
   {
    "duration": 3,
    "start_time": "2023-04-09T05:16:09.049Z"
   },
   {
    "duration": 31,
    "start_time": "2023-04-09T05:16:10.037Z"
   },
   {
    "duration": 3,
    "start_time": "2023-04-09T05:16:10.864Z"
   },
   {
    "duration": 76,
    "start_time": "2023-04-09T05:18:15.491Z"
   },
   {
    "duration": 125,
    "start_time": "2023-04-09T05:18:18.791Z"
   },
   {
    "duration": 16,
    "start_time": "2023-04-09T05:18:27.666Z"
   },
   {
    "duration": 8027,
    "start_time": "2023-04-09T05:18:40.176Z"
   },
   {
    "duration": 8022,
    "start_time": "2023-04-09T05:20:10.631Z"
   },
   {
    "duration": 16,
    "start_time": "2023-04-09T05:20:37.227Z"
   },
   {
    "duration": 412,
    "start_time": "2023-04-09T05:20:49.696Z"
   },
   {
    "duration": 20342,
    "start_time": "2023-04-09T05:21:24.253Z"
   },
   {
    "duration": 4,
    "start_time": "2023-04-09T05:24:43.691Z"
   },
   {
    "duration": 4,
    "start_time": "2023-04-09T05:24:47.431Z"
   },
   {
    "duration": 4,
    "start_time": "2023-04-09T05:24:50.187Z"
   },
   {
    "duration": 23,
    "start_time": "2023-04-09T05:24:50.195Z"
   },
   {
    "duration": 33,
    "start_time": "2023-04-09T05:24:50.235Z"
   },
   {
    "duration": 12,
    "start_time": "2023-04-09T05:24:50.271Z"
   },
   {
    "duration": 19,
    "start_time": "2023-04-09T05:24:50.285Z"
   },
   {
    "duration": 22,
    "start_time": "2023-04-09T05:24:50.306Z"
   },
   {
    "duration": 5,
    "start_time": "2023-04-09T05:24:50.332Z"
   },
   {
    "duration": 23,
    "start_time": "2023-04-09T05:24:50.338Z"
   },
   {
    "duration": 24,
    "start_time": "2023-04-09T05:24:50.363Z"
   },
   {
    "duration": 338,
    "start_time": "2023-04-09T05:24:50.389Z"
   },
   {
    "duration": 418,
    "start_time": "2023-04-09T05:24:50.729Z"
   },
   {
    "duration": 21621,
    "start_time": "2023-04-09T05:24:51.150Z"
   },
   {
    "duration": 48,
    "start_time": "2023-04-09T05:25:12.772Z"
   },
   {
    "duration": 61,
    "start_time": "2023-04-09T05:25:12.843Z"
   },
   {
    "duration": 37,
    "start_time": "2023-04-09T05:25:12.906Z"
   },
   {
    "duration": 379,
    "start_time": "2023-04-09T05:25:12.946Z"
   },
   {
    "duration": 4,
    "start_time": "2023-04-09T05:25:13.327Z"
   },
   {
    "duration": 51,
    "start_time": "2023-04-09T05:25:13.341Z"
   },
   {
    "duration": 30,
    "start_time": "2023-04-09T05:25:13.394Z"
   },
   {
    "duration": 38,
    "start_time": "2023-04-09T05:25:13.427Z"
   },
   {
    "duration": 56,
    "start_time": "2023-04-09T05:25:13.468Z"
   },
   {
    "duration": 5,
    "start_time": "2023-04-09T05:25:13.527Z"
   },
   {
    "duration": 20,
    "start_time": "2023-04-09T05:25:13.534Z"
   },
   {
    "duration": 12,
    "start_time": "2023-04-09T05:25:13.556Z"
   },
   {
    "duration": 22664,
    "start_time": "2023-04-09T05:25:26.281Z"
   },
   {
    "duration": 4,
    "start_time": "2023-04-09T05:27:53.443Z"
   },
   {
    "duration": 4,
    "start_time": "2023-04-09T05:27:58.671Z"
   },
   {
    "duration": 7,
    "start_time": "2023-04-09T05:31:17.671Z"
   },
   {
    "duration": 3,
    "start_time": "2023-04-09T05:32:39.230Z"
   },
   {
    "duration": 32,
    "start_time": "2023-04-09T05:32:39.235Z"
   },
   {
    "duration": 55,
    "start_time": "2023-04-09T05:32:39.268Z"
   },
   {
    "duration": 12,
    "start_time": "2023-04-09T05:32:39.325Z"
   },
   {
    "duration": 19,
    "start_time": "2023-04-09T05:32:39.339Z"
   },
   {
    "duration": 13,
    "start_time": "2023-04-09T05:32:39.360Z"
   },
   {
    "duration": 51,
    "start_time": "2023-04-09T05:32:39.375Z"
   },
   {
    "duration": 36,
    "start_time": "2023-04-09T05:32:39.428Z"
   },
   {
    "duration": 37,
    "start_time": "2023-04-09T05:32:39.466Z"
   },
   {
    "duration": 266,
    "start_time": "2023-04-09T05:32:39.505Z"
   },
   {
    "duration": 416,
    "start_time": "2023-04-09T05:32:39.773Z"
   },
   {
    "duration": 20310,
    "start_time": "2023-04-09T05:32:40.191Z"
   },
   {
    "duration": 56,
    "start_time": "2023-04-09T05:33:00.505Z"
   },
   {
    "duration": 49,
    "start_time": "2023-04-09T05:33:00.563Z"
   },
   {
    "duration": 46,
    "start_time": "2023-04-09T05:33:00.614Z"
   },
   {
    "duration": 250,
    "start_time": "2023-04-09T05:33:00.662Z"
   },
   {
    "duration": 4,
    "start_time": "2023-04-09T05:33:00.915Z"
   },
   {
    "duration": 34,
    "start_time": "2023-04-09T05:33:00.921Z"
   },
   {
    "duration": 51,
    "start_time": "2023-04-09T05:33:00.958Z"
   },
   {
    "duration": 43,
    "start_time": "2023-04-09T05:33:01.011Z"
   },
   {
    "duration": 56,
    "start_time": "2023-04-09T05:33:01.056Z"
   },
   {
    "duration": 10,
    "start_time": "2023-04-09T05:33:01.114Z"
   },
   {
    "duration": 28,
    "start_time": "2023-04-09T05:33:01.126Z"
   },
   {
    "duration": 30,
    "start_time": "2023-04-09T05:33:01.156Z"
   },
   {
    "duration": 51,
    "start_time": "2023-04-09T05:33:01.188Z"
   }
  ],
  "kernelspec": {
   "display_name": "Python 3 (ipykernel)",
   "language": "python",
   "name": "python3"
  },
  "language_info": {
   "codemirror_mode": {
    "name": "ipython",
    "version": 3
   },
   "file_extension": ".py",
   "mimetype": "text/x-python",
   "name": "python",
   "nbconvert_exporter": "python",
   "pygments_lexer": "ipython3",
   "version": "3.10.9"
  },
  "toc": {
   "base_numbering": 1,
   "nav_menu": {},
   "number_sections": true,
   "sideBar": true,
   "skip_h1_title": true,
   "title_cell": "Table of Contents",
   "title_sidebar": "Contents",
   "toc_cell": true,
   "toc_position": {},
   "toc_section_display": true,
   "toc_window_display": false
  }
 },
 "nbformat": 4,
 "nbformat_minor": 2
}
