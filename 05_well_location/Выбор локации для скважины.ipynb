{
 "cells": [
  {
   "cell_type": "markdown",
   "metadata": {},
   "source": [
    "# Выбор локации для скважины"
   ]
  },
  {
   "cell_type": "markdown",
   "metadata": {},
   "source": [
    "Основная задача: нужно решить, где бурить новую скважину.\n",
    "\n",
    "В наличии пробы нефти в трёх регионах: в каждом 10 000 месторождений, где измерили качество нефти и объём её запасов. Необходимо построить модель машинного обучения, которая поможет определить регион, где добыча принесёт наибольшую прибыль. А затем - проанализировать возможную прибыль и риски техникой *Bootstrap.*\n",
    "\n",
    "Шаги для выбора локации:\n",
    "\n",
    "- В избранном регионе ищут месторождения, для каждого определяют значения признаков;\n",
    "- Строят модель и оценивают объём запасов;\n",
    "- Выбирают месторождения с самым высокими оценками значений. Количество месторождений зависит от бюджета компании и стоимости разработки одной скважины;\n",
    "- Прибыль равна суммарной прибыли отобранных месторождений."
   ]
  },
  {
   "cell_type": "markdown",
   "metadata": {},
   "source": [
    "## 1. Загрузка и подготовка данных"
   ]
  },
  {
   "cell_type": "markdown",
   "metadata": {},
   "source": [
    "### Описание данных"
   ]
  },
  {
   "cell_type": "markdown",
   "metadata": {},
   "source": [
    "Данные геологоразведки трёх регионов находятся в файлах: \n",
    "    \n",
    "    /datasets/geo_data_0.csv. \n",
    "    /datasets/geo_data_1.csv. \n",
    "    /datasets/geo_data_2.csv. \n",
    "\n",
    "id — уникальный идентификатор скважины;\n",
    "\n",
    "f0, f1, f2 — три признака точек (неважно, что они означают, но сами признаки значимы);\n",
    "\n",
    "product — объём запасов в скважине (тыс. баррелей)."
   ]
  },
  {
   "cell_type": "markdown",
   "metadata": {},
   "source": [
    "### Импорт библиотек"
   ]
  },
  {
   "cell_type": "code",
   "execution_count": 1,
   "metadata": {},
   "outputs": [],
   "source": [
    "import pandas as pd #импорт библиотеки pandas\n",
    "import numpy as np #импорт библиотеки numpy\n",
    "import seaborn as sns #импорт библиотеки seaborn\n",
    "\n",
    "from sklearn.model_selection import train_test_split #импорт инструмента для разделения выборок\n",
    "\n",
    "from sklearn.linear_model import LinearRegression #импорт модели линейной регрессии\n",
    "\n",
    "from sklearn.metrics import mean_squared_error #импорт метрики MSE\n",
    "from sklearn.metrics import r2_score #импорт метрики r2\n",
    "\n",
    "RS=12345 #константа для аргумента random_state\n",
    "\n",
    "from tqdm import tqdm #импорт библиотеки для отображения процесса выполнения кода"
   ]
  },
  {
   "cell_type": "markdown",
   "metadata": {},
   "source": [
    "### Импорт исходных данных"
   ]
  },
  {
   "cell_type": "code",
   "execution_count": 2,
   "metadata": {},
   "outputs": [],
   "source": [
    "try:\n",
    "    #путь для работы\n",
    "    df0=pd.read_csv('geo_data_0.csv')\n",
    "    df1=pd.read_csv('geo_data_1.csv')\n",
    "    df2=pd.read_csv('geo_data_2.csv')\n",
    "\n",
    "\n",
    "except:\n",
    "    #путь для ревьюера\n",
    "    df0=pd.read_csv('/datasets/geo_data_0.csv')\n",
    "    df1=pd.read_csv('/datasets/geo_data_1.csv')\n",
    "    df2=pd.read_csv('/datasets/geo_data_2.csv')"
   ]
  },
  {
   "cell_type": "markdown",
   "metadata": {},
   "source": [
    "Изучим общую информацию о полученных датафреймах."
   ]
  },
  {
   "cell_type": "markdown",
   "metadata": {},
   "source": [
    "Датасет df0:"
   ]
  },
  {
   "cell_type": "code",
   "execution_count": 3,
   "metadata": {
    "scrolled": true
   },
   "outputs": [
    {
     "name": "stdout",
     "output_type": "stream",
     "text": [
      "<class 'pandas.core.frame.DataFrame'>\n",
      "RangeIndex: 100000 entries, 0 to 99999\n",
      "Data columns (total 5 columns):\n",
      " #   Column   Non-Null Count   Dtype  \n",
      "---  ------   --------------   -----  \n",
      " 0   id       100000 non-null  object \n",
      " 1   f0       100000 non-null  float64\n",
      " 2   f1       100000 non-null  float64\n",
      " 3   f2       100000 non-null  float64\n",
      " 4   product  100000 non-null  float64\n",
      "dtypes: float64(4), object(1)\n",
      "memory usage: 3.8+ MB\n"
     ]
    }
   ],
   "source": [
    "#вывод информации методом info()\n",
    "df0.info()"
   ]
  },
  {
   "cell_type": "code",
   "execution_count": 4,
   "metadata": {},
   "outputs": [
    {
     "data": {
      "text/html": [
       "<div>\n",
       "<style scoped>\n",
       "    .dataframe tbody tr th:only-of-type {\n",
       "        vertical-align: middle;\n",
       "    }\n",
       "\n",
       "    .dataframe tbody tr th {\n",
       "        vertical-align: top;\n",
       "    }\n",
       "\n",
       "    .dataframe thead th {\n",
       "        text-align: right;\n",
       "    }\n",
       "</style>\n",
       "<table border=\"1\" class=\"dataframe\">\n",
       "  <thead>\n",
       "    <tr style=\"text-align: right;\">\n",
       "      <th></th>\n",
       "      <th>f0</th>\n",
       "      <th>f1</th>\n",
       "      <th>f2</th>\n",
       "      <th>product</th>\n",
       "    </tr>\n",
       "  </thead>\n",
       "  <tbody>\n",
       "    <tr>\n",
       "      <th>count</th>\n",
       "      <td>100000.000000</td>\n",
       "      <td>100000.000000</td>\n",
       "      <td>100000.000000</td>\n",
       "      <td>100000.000000</td>\n",
       "    </tr>\n",
       "    <tr>\n",
       "      <th>mean</th>\n",
       "      <td>0.500419</td>\n",
       "      <td>0.250143</td>\n",
       "      <td>2.502647</td>\n",
       "      <td>92.500000</td>\n",
       "    </tr>\n",
       "    <tr>\n",
       "      <th>std</th>\n",
       "      <td>0.871832</td>\n",
       "      <td>0.504433</td>\n",
       "      <td>3.248248</td>\n",
       "      <td>44.288691</td>\n",
       "    </tr>\n",
       "    <tr>\n",
       "      <th>min</th>\n",
       "      <td>-1.408605</td>\n",
       "      <td>-0.848218</td>\n",
       "      <td>-12.088328</td>\n",
       "      <td>0.000000</td>\n",
       "    </tr>\n",
       "    <tr>\n",
       "      <th>25%</th>\n",
       "      <td>-0.072580</td>\n",
       "      <td>-0.200881</td>\n",
       "      <td>0.287748</td>\n",
       "      <td>56.497507</td>\n",
       "    </tr>\n",
       "    <tr>\n",
       "      <th>50%</th>\n",
       "      <td>0.502360</td>\n",
       "      <td>0.250252</td>\n",
       "      <td>2.515969</td>\n",
       "      <td>91.849972</td>\n",
       "    </tr>\n",
       "    <tr>\n",
       "      <th>75%</th>\n",
       "      <td>1.073581</td>\n",
       "      <td>0.700646</td>\n",
       "      <td>4.715088</td>\n",
       "      <td>128.564089</td>\n",
       "    </tr>\n",
       "    <tr>\n",
       "      <th>max</th>\n",
       "      <td>2.362331</td>\n",
       "      <td>1.343769</td>\n",
       "      <td>16.003790</td>\n",
       "      <td>185.364347</td>\n",
       "    </tr>\n",
       "  </tbody>\n",
       "</table>\n",
       "</div>"
      ],
      "text/plain": [
       "                  f0             f1             f2        product\n",
       "count  100000.000000  100000.000000  100000.000000  100000.000000\n",
       "mean        0.500419       0.250143       2.502647      92.500000\n",
       "std         0.871832       0.504433       3.248248      44.288691\n",
       "min        -1.408605      -0.848218     -12.088328       0.000000\n",
       "25%        -0.072580      -0.200881       0.287748      56.497507\n",
       "50%         0.502360       0.250252       2.515969      91.849972\n",
       "75%         1.073581       0.700646       4.715088     128.564089\n",
       "max         2.362331       1.343769      16.003790     185.364347"
      ]
     },
     "execution_count": 4,
     "metadata": {},
     "output_type": "execute_result"
    }
   ],
   "source": [
    "#вывод информации методом describe()\n",
    "df0.describe()"
   ]
  },
  {
   "cell_type": "code",
   "execution_count": 5,
   "metadata": {},
   "outputs": [
    {
     "data": {
      "text/html": [
       "<div>\n",
       "<style scoped>\n",
       "    .dataframe tbody tr th:only-of-type {\n",
       "        vertical-align: middle;\n",
       "    }\n",
       "\n",
       "    .dataframe tbody tr th {\n",
       "        vertical-align: top;\n",
       "    }\n",
       "\n",
       "    .dataframe thead th {\n",
       "        text-align: right;\n",
       "    }\n",
       "</style>\n",
       "<table border=\"1\" class=\"dataframe\">\n",
       "  <thead>\n",
       "    <tr style=\"text-align: right;\">\n",
       "      <th></th>\n",
       "      <th>id</th>\n",
       "      <th>f0</th>\n",
       "      <th>f1</th>\n",
       "      <th>f2</th>\n",
       "      <th>product</th>\n",
       "    </tr>\n",
       "  </thead>\n",
       "  <tbody>\n",
       "    <tr>\n",
       "      <th>0</th>\n",
       "      <td>txEyH</td>\n",
       "      <td>0.705745</td>\n",
       "      <td>-0.497823</td>\n",
       "      <td>1.221170</td>\n",
       "      <td>105.280062</td>\n",
       "    </tr>\n",
       "    <tr>\n",
       "      <th>1</th>\n",
       "      <td>2acmU</td>\n",
       "      <td>1.334711</td>\n",
       "      <td>-0.340164</td>\n",
       "      <td>4.365080</td>\n",
       "      <td>73.037750</td>\n",
       "    </tr>\n",
       "    <tr>\n",
       "      <th>2</th>\n",
       "      <td>409Wp</td>\n",
       "      <td>1.022732</td>\n",
       "      <td>0.151990</td>\n",
       "      <td>1.419926</td>\n",
       "      <td>85.265647</td>\n",
       "    </tr>\n",
       "    <tr>\n",
       "      <th>3</th>\n",
       "      <td>iJLyR</td>\n",
       "      <td>-0.032172</td>\n",
       "      <td>0.139033</td>\n",
       "      <td>2.978566</td>\n",
       "      <td>168.620776</td>\n",
       "    </tr>\n",
       "    <tr>\n",
       "      <th>4</th>\n",
       "      <td>Xdl7t</td>\n",
       "      <td>1.988431</td>\n",
       "      <td>0.155413</td>\n",
       "      <td>4.751769</td>\n",
       "      <td>154.036647</td>\n",
       "    </tr>\n",
       "  </tbody>\n",
       "</table>\n",
       "</div>"
      ],
      "text/plain": [
       "      id        f0        f1        f2     product\n",
       "0  txEyH  0.705745 -0.497823  1.221170  105.280062\n",
       "1  2acmU  1.334711 -0.340164  4.365080   73.037750\n",
       "2  409Wp  1.022732  0.151990  1.419926   85.265647\n",
       "3  iJLyR -0.032172  0.139033  2.978566  168.620776\n",
       "4  Xdl7t  1.988431  0.155413  4.751769  154.036647"
      ]
     },
     "execution_count": 5,
     "metadata": {},
     "output_type": "execute_result"
    }
   ],
   "source": [
    "#просмотр 5 первых строк датафрейма\n",
    "df0.head()"
   ]
  },
  {
   "cell_type": "markdown",
   "metadata": {},
   "source": [
    "Датасет df1:"
   ]
  },
  {
   "cell_type": "code",
   "execution_count": 6,
   "metadata": {
    "scrolled": true
   },
   "outputs": [
    {
     "name": "stdout",
     "output_type": "stream",
     "text": [
      "<class 'pandas.core.frame.DataFrame'>\n",
      "RangeIndex: 100000 entries, 0 to 99999\n",
      "Data columns (total 5 columns):\n",
      " #   Column   Non-Null Count   Dtype  \n",
      "---  ------   --------------   -----  \n",
      " 0   id       100000 non-null  object \n",
      " 1   f0       100000 non-null  float64\n",
      " 2   f1       100000 non-null  float64\n",
      " 3   f2       100000 non-null  float64\n",
      " 4   product  100000 non-null  float64\n",
      "dtypes: float64(4), object(1)\n",
      "memory usage: 3.8+ MB\n"
     ]
    }
   ],
   "source": [
    "#вывод информации методом info()\n",
    "df1.info()"
   ]
  },
  {
   "cell_type": "code",
   "execution_count": 7,
   "metadata": {},
   "outputs": [
    {
     "data": {
      "text/html": [
       "<div>\n",
       "<style scoped>\n",
       "    .dataframe tbody tr th:only-of-type {\n",
       "        vertical-align: middle;\n",
       "    }\n",
       "\n",
       "    .dataframe tbody tr th {\n",
       "        vertical-align: top;\n",
       "    }\n",
       "\n",
       "    .dataframe thead th {\n",
       "        text-align: right;\n",
       "    }\n",
       "</style>\n",
       "<table border=\"1\" class=\"dataframe\">\n",
       "  <thead>\n",
       "    <tr style=\"text-align: right;\">\n",
       "      <th></th>\n",
       "      <th>f0</th>\n",
       "      <th>f1</th>\n",
       "      <th>f2</th>\n",
       "      <th>product</th>\n",
       "    </tr>\n",
       "  </thead>\n",
       "  <tbody>\n",
       "    <tr>\n",
       "      <th>count</th>\n",
       "      <td>100000.000000</td>\n",
       "      <td>100000.000000</td>\n",
       "      <td>100000.000000</td>\n",
       "      <td>100000.000000</td>\n",
       "    </tr>\n",
       "    <tr>\n",
       "      <th>mean</th>\n",
       "      <td>1.141296</td>\n",
       "      <td>-4.796579</td>\n",
       "      <td>2.494541</td>\n",
       "      <td>68.825000</td>\n",
       "    </tr>\n",
       "    <tr>\n",
       "      <th>std</th>\n",
       "      <td>8.965932</td>\n",
       "      <td>5.119872</td>\n",
       "      <td>1.703572</td>\n",
       "      <td>45.944423</td>\n",
       "    </tr>\n",
       "    <tr>\n",
       "      <th>min</th>\n",
       "      <td>-31.609576</td>\n",
       "      <td>-26.358598</td>\n",
       "      <td>-0.018144</td>\n",
       "      <td>0.000000</td>\n",
       "    </tr>\n",
       "    <tr>\n",
       "      <th>25%</th>\n",
       "      <td>-6.298551</td>\n",
       "      <td>-8.267985</td>\n",
       "      <td>1.000021</td>\n",
       "      <td>26.953261</td>\n",
       "    </tr>\n",
       "    <tr>\n",
       "      <th>50%</th>\n",
       "      <td>1.153055</td>\n",
       "      <td>-4.813172</td>\n",
       "      <td>2.011479</td>\n",
       "      <td>57.085625</td>\n",
       "    </tr>\n",
       "    <tr>\n",
       "      <th>75%</th>\n",
       "      <td>8.621015</td>\n",
       "      <td>-1.332816</td>\n",
       "      <td>3.999904</td>\n",
       "      <td>107.813044</td>\n",
       "    </tr>\n",
       "    <tr>\n",
       "      <th>max</th>\n",
       "      <td>29.421755</td>\n",
       "      <td>18.734063</td>\n",
       "      <td>5.019721</td>\n",
       "      <td>137.945408</td>\n",
       "    </tr>\n",
       "  </tbody>\n",
       "</table>\n",
       "</div>"
      ],
      "text/plain": [
       "                  f0             f1             f2        product\n",
       "count  100000.000000  100000.000000  100000.000000  100000.000000\n",
       "mean        1.141296      -4.796579       2.494541      68.825000\n",
       "std         8.965932       5.119872       1.703572      45.944423\n",
       "min       -31.609576     -26.358598      -0.018144       0.000000\n",
       "25%        -6.298551      -8.267985       1.000021      26.953261\n",
       "50%         1.153055      -4.813172       2.011479      57.085625\n",
       "75%         8.621015      -1.332816       3.999904     107.813044\n",
       "max        29.421755      18.734063       5.019721     137.945408"
      ]
     },
     "execution_count": 7,
     "metadata": {},
     "output_type": "execute_result"
    }
   ],
   "source": [
    "#вывод информации методом describe()\n",
    "df1.describe()"
   ]
  },
  {
   "cell_type": "code",
   "execution_count": 8,
   "metadata": {},
   "outputs": [
    {
     "data": {
      "text/html": [
       "<div>\n",
       "<style scoped>\n",
       "    .dataframe tbody tr th:only-of-type {\n",
       "        vertical-align: middle;\n",
       "    }\n",
       "\n",
       "    .dataframe tbody tr th {\n",
       "        vertical-align: top;\n",
       "    }\n",
       "\n",
       "    .dataframe thead th {\n",
       "        text-align: right;\n",
       "    }\n",
       "</style>\n",
       "<table border=\"1\" class=\"dataframe\">\n",
       "  <thead>\n",
       "    <tr style=\"text-align: right;\">\n",
       "      <th></th>\n",
       "      <th>id</th>\n",
       "      <th>f0</th>\n",
       "      <th>f1</th>\n",
       "      <th>f2</th>\n",
       "      <th>product</th>\n",
       "    </tr>\n",
       "  </thead>\n",
       "  <tbody>\n",
       "    <tr>\n",
       "      <th>0</th>\n",
       "      <td>kBEdx</td>\n",
       "      <td>-15.001348</td>\n",
       "      <td>-8.276000</td>\n",
       "      <td>-0.005876</td>\n",
       "      <td>3.179103</td>\n",
       "    </tr>\n",
       "    <tr>\n",
       "      <th>1</th>\n",
       "      <td>62mP7</td>\n",
       "      <td>14.272088</td>\n",
       "      <td>-3.475083</td>\n",
       "      <td>0.999183</td>\n",
       "      <td>26.953261</td>\n",
       "    </tr>\n",
       "    <tr>\n",
       "      <th>2</th>\n",
       "      <td>vyE1P</td>\n",
       "      <td>6.263187</td>\n",
       "      <td>-5.948386</td>\n",
       "      <td>5.001160</td>\n",
       "      <td>134.766305</td>\n",
       "    </tr>\n",
       "    <tr>\n",
       "      <th>3</th>\n",
       "      <td>KcrkZ</td>\n",
       "      <td>-13.081196</td>\n",
       "      <td>-11.506057</td>\n",
       "      <td>4.999415</td>\n",
       "      <td>137.945408</td>\n",
       "    </tr>\n",
       "    <tr>\n",
       "      <th>4</th>\n",
       "      <td>AHL4O</td>\n",
       "      <td>12.702195</td>\n",
       "      <td>-8.147433</td>\n",
       "      <td>5.004363</td>\n",
       "      <td>134.766305</td>\n",
       "    </tr>\n",
       "  </tbody>\n",
       "</table>\n",
       "</div>"
      ],
      "text/plain": [
       "      id         f0         f1        f2     product\n",
       "0  kBEdx -15.001348  -8.276000 -0.005876    3.179103\n",
       "1  62mP7  14.272088  -3.475083  0.999183   26.953261\n",
       "2  vyE1P   6.263187  -5.948386  5.001160  134.766305\n",
       "3  KcrkZ -13.081196 -11.506057  4.999415  137.945408\n",
       "4  AHL4O  12.702195  -8.147433  5.004363  134.766305"
      ]
     },
     "execution_count": 8,
     "metadata": {},
     "output_type": "execute_result"
    }
   ],
   "source": [
    "#просмотр 5 первых строк датафрейма\n",
    "df1.head()"
   ]
  },
  {
   "cell_type": "markdown",
   "metadata": {},
   "source": [
    "Датасет df2:"
   ]
  },
  {
   "cell_type": "code",
   "execution_count": 9,
   "metadata": {
    "scrolled": true
   },
   "outputs": [
    {
     "name": "stdout",
     "output_type": "stream",
     "text": [
      "<class 'pandas.core.frame.DataFrame'>\n",
      "RangeIndex: 100000 entries, 0 to 99999\n",
      "Data columns (total 5 columns):\n",
      " #   Column   Non-Null Count   Dtype  \n",
      "---  ------   --------------   -----  \n",
      " 0   id       100000 non-null  object \n",
      " 1   f0       100000 non-null  float64\n",
      " 2   f1       100000 non-null  float64\n",
      " 3   f2       100000 non-null  float64\n",
      " 4   product  100000 non-null  float64\n",
      "dtypes: float64(4), object(1)\n",
      "memory usage: 3.8+ MB\n"
     ]
    }
   ],
   "source": [
    "#вывод информации методом info()\n",
    "df2.info()"
   ]
  },
  {
   "cell_type": "code",
   "execution_count": 10,
   "metadata": {},
   "outputs": [
    {
     "data": {
      "text/html": [
       "<div>\n",
       "<style scoped>\n",
       "    .dataframe tbody tr th:only-of-type {\n",
       "        vertical-align: middle;\n",
       "    }\n",
       "\n",
       "    .dataframe tbody tr th {\n",
       "        vertical-align: top;\n",
       "    }\n",
       "\n",
       "    .dataframe thead th {\n",
       "        text-align: right;\n",
       "    }\n",
       "</style>\n",
       "<table border=\"1\" class=\"dataframe\">\n",
       "  <thead>\n",
       "    <tr style=\"text-align: right;\">\n",
       "      <th></th>\n",
       "      <th>f0</th>\n",
       "      <th>f1</th>\n",
       "      <th>f2</th>\n",
       "      <th>product</th>\n",
       "    </tr>\n",
       "  </thead>\n",
       "  <tbody>\n",
       "    <tr>\n",
       "      <th>count</th>\n",
       "      <td>100000.000000</td>\n",
       "      <td>100000.000000</td>\n",
       "      <td>100000.000000</td>\n",
       "      <td>100000.000000</td>\n",
       "    </tr>\n",
       "    <tr>\n",
       "      <th>mean</th>\n",
       "      <td>0.002023</td>\n",
       "      <td>-0.002081</td>\n",
       "      <td>2.495128</td>\n",
       "      <td>95.000000</td>\n",
       "    </tr>\n",
       "    <tr>\n",
       "      <th>std</th>\n",
       "      <td>1.732045</td>\n",
       "      <td>1.730417</td>\n",
       "      <td>3.473445</td>\n",
       "      <td>44.749921</td>\n",
       "    </tr>\n",
       "    <tr>\n",
       "      <th>min</th>\n",
       "      <td>-8.760004</td>\n",
       "      <td>-7.084020</td>\n",
       "      <td>-11.970335</td>\n",
       "      <td>0.000000</td>\n",
       "    </tr>\n",
       "    <tr>\n",
       "      <th>25%</th>\n",
       "      <td>-1.162288</td>\n",
       "      <td>-1.174820</td>\n",
       "      <td>0.130359</td>\n",
       "      <td>59.450441</td>\n",
       "    </tr>\n",
       "    <tr>\n",
       "      <th>50%</th>\n",
       "      <td>0.009424</td>\n",
       "      <td>-0.009482</td>\n",
       "      <td>2.484236</td>\n",
       "      <td>94.925613</td>\n",
       "    </tr>\n",
       "    <tr>\n",
       "      <th>75%</th>\n",
       "      <td>1.158535</td>\n",
       "      <td>1.163678</td>\n",
       "      <td>4.858794</td>\n",
       "      <td>130.595027</td>\n",
       "    </tr>\n",
       "    <tr>\n",
       "      <th>max</th>\n",
       "      <td>7.238262</td>\n",
       "      <td>7.844801</td>\n",
       "      <td>16.739402</td>\n",
       "      <td>190.029838</td>\n",
       "    </tr>\n",
       "  </tbody>\n",
       "</table>\n",
       "</div>"
      ],
      "text/plain": [
       "                  f0             f1             f2        product\n",
       "count  100000.000000  100000.000000  100000.000000  100000.000000\n",
       "mean        0.002023      -0.002081       2.495128      95.000000\n",
       "std         1.732045       1.730417       3.473445      44.749921\n",
       "min        -8.760004      -7.084020     -11.970335       0.000000\n",
       "25%        -1.162288      -1.174820       0.130359      59.450441\n",
       "50%         0.009424      -0.009482       2.484236      94.925613\n",
       "75%         1.158535       1.163678       4.858794     130.595027\n",
       "max         7.238262       7.844801      16.739402     190.029838"
      ]
     },
     "execution_count": 10,
     "metadata": {},
     "output_type": "execute_result"
    }
   ],
   "source": [
    "#вывод информации методом describe()\n",
    "df2.describe()"
   ]
  },
  {
   "cell_type": "code",
   "execution_count": 11,
   "metadata": {
    "scrolled": false
   },
   "outputs": [
    {
     "data": {
      "text/html": [
       "<div>\n",
       "<style scoped>\n",
       "    .dataframe tbody tr th:only-of-type {\n",
       "        vertical-align: middle;\n",
       "    }\n",
       "\n",
       "    .dataframe tbody tr th {\n",
       "        vertical-align: top;\n",
       "    }\n",
       "\n",
       "    .dataframe thead th {\n",
       "        text-align: right;\n",
       "    }\n",
       "</style>\n",
       "<table border=\"1\" class=\"dataframe\">\n",
       "  <thead>\n",
       "    <tr style=\"text-align: right;\">\n",
       "      <th></th>\n",
       "      <th>id</th>\n",
       "      <th>f0</th>\n",
       "      <th>f1</th>\n",
       "      <th>f2</th>\n",
       "      <th>product</th>\n",
       "    </tr>\n",
       "  </thead>\n",
       "  <tbody>\n",
       "    <tr>\n",
       "      <th>0</th>\n",
       "      <td>fwXo0</td>\n",
       "      <td>-1.146987</td>\n",
       "      <td>0.963328</td>\n",
       "      <td>-0.828965</td>\n",
       "      <td>27.758673</td>\n",
       "    </tr>\n",
       "    <tr>\n",
       "      <th>1</th>\n",
       "      <td>WJtFt</td>\n",
       "      <td>0.262778</td>\n",
       "      <td>0.269839</td>\n",
       "      <td>-2.530187</td>\n",
       "      <td>56.069697</td>\n",
       "    </tr>\n",
       "    <tr>\n",
       "      <th>2</th>\n",
       "      <td>ovLUW</td>\n",
       "      <td>0.194587</td>\n",
       "      <td>0.289035</td>\n",
       "      <td>-5.586433</td>\n",
       "      <td>62.871910</td>\n",
       "    </tr>\n",
       "    <tr>\n",
       "      <th>3</th>\n",
       "      <td>q6cA6</td>\n",
       "      <td>2.236060</td>\n",
       "      <td>-0.553760</td>\n",
       "      <td>0.930038</td>\n",
       "      <td>114.572842</td>\n",
       "    </tr>\n",
       "    <tr>\n",
       "      <th>4</th>\n",
       "      <td>WPMUX</td>\n",
       "      <td>-0.515993</td>\n",
       "      <td>1.716266</td>\n",
       "      <td>5.899011</td>\n",
       "      <td>149.600746</td>\n",
       "    </tr>\n",
       "  </tbody>\n",
       "</table>\n",
       "</div>"
      ],
      "text/plain": [
       "      id        f0        f1        f2     product\n",
       "0  fwXo0 -1.146987  0.963328 -0.828965   27.758673\n",
       "1  WJtFt  0.262778  0.269839 -2.530187   56.069697\n",
       "2  ovLUW  0.194587  0.289035 -5.586433   62.871910\n",
       "3  q6cA6  2.236060 -0.553760  0.930038  114.572842\n",
       "4  WPMUX -0.515993  1.716266  5.899011  149.600746"
      ]
     },
     "execution_count": 11,
     "metadata": {},
     "output_type": "execute_result"
    }
   ],
   "source": [
    "#просмотр 5 первых строк датафрейма\n",
    "df2.head()"
   ]
  },
  {
   "cell_type": "code",
   "execution_count": 12,
   "metadata": {
    "scrolled": false
   },
   "outputs": [
    {
     "data": {
      "image/png": "[encoded data removed]",
      "text/plain": [
       "<Figure size 432x288 with 1 Axes>"
      ]
     },
     "metadata": {
      "needs_background": "light"
     },
     "output_type": "display_data"
    }
   ],
   "source": [
    "#посмотрим на соотношение средних значений запасов по регионам\n",
    "df_012_product=pd.concat([pd.Series(df0['product'].mean()),pd.Series(df1['product'].mean()),pd.Series(df2['product'].mean())],ignore_index=True)\n",
    "df_012_product.plot.bar(title='Среднее по объёму запасов по регионам, млн. баррелей', rot=0);"
   ]
  },
  {
   "cell_type": "markdown",
   "metadata": {},
   "source": [
    "По предварительному просмотру информации о датафреймах можно утверждать следующее:\n",
    "\n",
    "    Во всех трёх таблицах нет пропусков;\n",
    "    В первом и третьем регионах геологоразведки сопоставимые запасы нефти (92,5 и 95 млн. баррелей), а во втором - меньше(68,8 млн. баррелей);\n",
    "    Минимальные значения запаов во всех трёх регионах равны 0 (видимо есть уже отработанные или просто пустые скважины);\n",
    "    Максимальные значения запасов распределены аналогично средним значениям"
   ]
  },
  {
   "cell_type": "markdown",
   "metadata": {},
   "source": [
    "  \n",
    "Сначала проведём проверку на полные дубликаты:<br></div> "
   ]
  },
  {
   "cell_type": "code",
   "execution_count": 13,
   "metadata": {},
   "outputs": [
    {
     "name": "stdout",
     "output_type": "stream",
     "text": [
      "0\n",
      "0\n",
      "0\n"
     ]
    }
   ],
   "source": [
    "dfs=[df0,df1,df2]\n",
    "for i in dfs:\n",
    "    dup=i.duplicated().sum()\n",
    "    print(dup)"
   ]
  },
  {
   "cell_type": "markdown",
   "metadata": {},
   "source": [
    "\n",
    "    \n",
    "Как видно, полных дубликатов в датафреймах не встречается. Рассмотрим дубликаты по столбцам"
   ]
  },
  {
   "cell_type": "code",
   "execution_count": 14,
   "metadata": {},
   "outputs": [
    {
     "name": "stdout",
     "output_type": "stream",
     "text": [
      "id 10\n",
      "f0 0\n",
      "f1 0\n",
      "f2 0\n",
      "product 0\n",
      "id 4\n",
      "f0 0\n",
      "f1 0\n",
      "f2 0\n",
      "product 99988\n",
      "id 4\n",
      "f0 0\n",
      "f1 0\n",
      "f2 0\n",
      "product 0\n"
     ]
    }
   ],
   "source": [
    "#пройдём по всем таблицам и по всем столбцам\n",
    "for i in [df0,df1,df2]:\n",
    "    for name,values in i.iteritems():\n",
    "        print(name,values.duplicated().sum())"
   ]
  },
  {
   "cell_type": "markdown",
   "metadata": {},
   "source": [
    "\n",
    "Заметно следующее: есть дубликаты по id для первого региона (при этом значения других параметров не повторяются, лучше удалить дубликаты), а также большое количество дубликатов для значений product для второго региона (в этом может быть какой-то смысл: воможно, результаты исследований были округлены до неких ключевых значений запасов при обработке исходных данных, а возможно так как данные синтетические, данный столбец был размножен из нескольких уникальных значений до 10000 строк).<br></div> "
   ]
  },
  {
   "cell_type": "code",
   "execution_count": 15,
   "metadata": {},
   "outputs": [
    {
     "data": {
      "text/plain": [
       "99990"
      ]
     },
     "execution_count": 15,
     "metadata": {},
     "output_type": "execute_result"
    }
   ],
   "source": [
    "#сброс дубликатов по id для первого региона\n",
    "df0=df0.drop_duplicates(subset=['id'],keep='first')\n",
    "#проверка\n",
    "df0.shape[0]"
   ]
  },
  {
   "cell_type": "markdown",
   "metadata": {},
   "source": [
    "\n",
    "    \n",
    "Дубликаты по Id удалены.<br></div> "
   ]
  },
  {
   "cell_type": "markdown",
   "metadata": {},
   "source": [
    "\n",
    "    \n",
    "Рассмотрим гистограммы для регионов.<br></div> "
   ]
  },
  {
   "cell_type": "code",
   "execution_count": 16,
   "metadata": {
    "scrolled": false
   },
   "outputs": [
    {
     "data": {
      "image/png": "[encoded data removed]",
      "text/plain": [
       "<Figure size 432x288 with 4 Axes>"
      ]
     },
     "metadata": {
      "needs_background": "light"
     },
     "output_type": "display_data"
    },
    {
     "data": {
      "image/png": "[encoded data removed]",
      "text/plain": [
       "<Figure size 432x288 with 4 Axes>"
      ]
     },
     "metadata": {
      "needs_background": "light"
     },
     "output_type": "display_data"
    },
    {
     "data": {
      "image/png": "[encoded data removed]",
      "text/plain": [
       "<Figure size 432x288 with 4 Axes>"
      ]
     },
     "metadata": {
      "needs_background": "light"
     },
     "output_type": "display_data"
    }
   ],
   "source": [
    "dfs=[df0,df1,df2]\n",
    "for i in dfs:\n",
    "    i.hist();"
   ]
  },
  {
   "cell_type": "markdown",
   "metadata": {},
   "source": [
    "\n",
    "    \n",
    "**Первый регион:** Распределения величин f2, product похожи на нормальные. f1 - разброс между значениями невелик, а f0 похоже на нормальное, с имеющимися дополнительными выбросами.\n",
    "    \n",
    "**Второй регион:** Распределения величин f0, f1 похожи на нормальные,  а вот f2,product иные: такое ощущение, что и там, и там значения лежат по нескольким корзинам, что косвенно может подветрждать вывод о том, что данные были округлены по нескольим параметрам при сборе, или размножены до 10000 из исходных 8-10 наборов (судя по столбцам f2) \n",
    "    \n",
    "**Третий регион:** В данном регионе все величины распределены нормально, возможно, это наиболее реальный набор данных из всех трёх.    "
   ]
  },
  {
   "cell_type": "markdown",
   "metadata": {},
   "source": [
    "\n",
    "    \n",
    "Посмотрим на корреляции между признаками. Построим матрицу корреляций и тепловую карту:<br></div> "
   ]
  },
  {
   "cell_type": "code",
   "execution_count": 17,
   "metadata": {},
   "outputs": [
    {
     "name": "stdout",
     "output_type": "stream",
     "text": [
      "               f0        f1        f2   product\n",
      "f0       1.000000 -0.440717 -0.003211  0.143504\n",
      "f1      -0.440717  1.000000  0.001764 -0.192351\n",
      "f2      -0.003211  0.001764  1.000000  0.483631\n",
      "product  0.143504 -0.192351  0.483631  1.000000\n",
      "               f0        f1        f2   product\n",
      "f0       1.000000  0.182287 -0.001777 -0.030491\n",
      "f1       0.182287  1.000000 -0.002595 -0.010155\n",
      "f2      -0.001777 -0.002595  1.000000  0.999397\n",
      "product -0.030491 -0.010155  0.999397  1.000000\n",
      "               f0        f1        f2   product\n",
      "f0       1.000000  0.000528 -0.000448 -0.001987\n",
      "f1       0.000528  1.000000  0.000779 -0.001012\n",
      "f2      -0.000448  0.000779  1.000000  0.445871\n",
      "product -0.001987 -0.001012  0.445871  1.000000\n"
     ]
    }
   ],
   "source": [
    "dfs=[df0,df1,df2]\n",
    "for i in dfs:\n",
    "    print(i.corr())"
   ]
  },
  {
   "cell_type": "code",
   "execution_count": 18,
   "metadata": {},
   "outputs": [
    {
     "data": {
      "image/png": "[encoded data removed]",
      "text/plain": [
       "<Figure size 432x288 with 2 Axes>"
      ]
     },
     "metadata": {
      "needs_background": "light"
     },
     "output_type": "display_data"
    }
   ],
   "source": [
    "#первый регион\n",
    "sns.heatmap(df0.corr());"
   ]
  },
  {
   "cell_type": "code",
   "execution_count": 19,
   "metadata": {},
   "outputs": [
    {
     "data": {
      "image/png": "[encoded data removed]",
      "text/plain": [
       "<Figure size 432x288 with 2 Axes>"
      ]
     },
     "metadata": {
      "needs_background": "light"
     },
     "output_type": "display_data"
    }
   ],
   "source": [
    "#второй регион\n",
    "sns.heatmap(df1.corr());"
   ]
  },
  {
   "cell_type": "code",
   "execution_count": 20,
   "metadata": {},
   "outputs": [
    {
     "data": {
      "image/png": "[encoded data removed]",
      "text/plain": [
       "<Figure size 432x288 with 2 Axes>"
      ]
     },
     "metadata": {
      "needs_background": "light"
     },
     "output_type": "display_data"
    }
   ],
   "source": [
    "#третий регион\n",
    "sns.heatmap(df2.corr());"
   ]
  },
  {
   "cell_type": "markdown",
   "metadata": {},
   "source": [
    "\n",
    "Исходя из полученного, видно, что:\n",
    "    \n",
    "**Для первого региона** видна сильная взаимосвязь между product и f2. При этом существуют ещё корреляции f0-f1(отрицательная), f0-product(0.15).\n",
    "    \n",
    "**Для второго региона** видна ещё более сильная взаимосвязь между product и f2. При этом существуют ещё корреляции f0-f1(0.18). \n",
    "    \n",
    "**Для третьего региона** также видна сильная взаимосвязь между product и f2. \n",
    "    \n",
    "Отсюда напрашивается следующая мысль: для всех трёх регионов значение f2 для определения запасов имеет наибольший вес. При этом, для первого региона существуют зависимости между параметрами f0,f1,f2, что, возможно, говорит о низком качестве датасета для первых двух регионов: ведь если мы берём 3 геологических параметра для суждения о том, как они влияют на четвёртый параметр (запасы ископаемых), то, возможно, есть смысл брать независимые друг от друга параметры (ведь тогда можно было бы приводить их друг к другу и строить зависимость от одного из параметров). Ну то есть если мы берём условно геологические изыскания, в них есть (это предположение и только, пойду гуглить потом дальше:)): вода, содержание каких-то элементов в почве, тип грунта. И если тип грунта зависит от количества воды, то тогда есть смысл коррелировать не тип грунта - содержание нефти, а просто вода - нефть, тк они зависят друг от друга (так получается для первого датасета). А для второго и третьего региона такой проблемы нет: f0,f1,f2 друг с другом коррелируют очень слабо. Косвенно это может быть подтверждено и тем, что распределение параметров для третьего региона было наиболее нормальным: возможно датасет третьего региона более настоящий, чем остальные)   <br></div> "
   ]
  },
  {
   "cell_type": "markdown",
   "metadata": {},
   "source": [
    "## 2. Обучение и проверка модели"
   ]
  },
  {
   "cell_type": "markdown",
   "metadata": {},
   "source": [
    "### 2.1 Разбивка данных на обучающую и валидационную выборки \n",
    "\n",
    "Разбивку будем производить в соотношении 75:25. Также для обучения и предсказания нет смысла оперировать столбцом с id, так что его удаляем."
   ]
  },
  {
   "cell_type": "code",
   "execution_count": 23,
   "metadata": {},
   "outputs": [],
   "source": [
    "#первый регион (df0)\n",
    "#удаление столбца с id\n",
    "df0=df0.drop(['id'],axis=1)\n",
    "#разделение выборок на обучающую и валидацинную в соотношении 75:25\n",
    "target_0=df0['product']\n",
    "features_0=df0.drop(['product'],axis=1)\n",
    "features_0_train,features_0_valid,target_0_train,target_0_valid=train_test_split(\n",
    "features_0,target_0,train_size=0.75,random_state=RS)"
   ]
  },
  {
   "cell_type": "code",
   "execution_count": 24,
   "metadata": {},
   "outputs": [],
   "source": [
    "#второй регион (df1)\n",
    "#удаление столбца с id\n",
    "df1=df1.drop(['id'],axis=1)\n",
    "#разделение выборок на обучающую и валидацинную в соотношении 75:25\n",
    "target_1=df1['product']\n",
    "features_1=df1.drop(['product'],axis=1)\n",
    "features_1_train,features_1_valid,target_1_train,target_1_valid=train_test_split(\n",
    "features_1,target_1,train_size=0.75,random_state=RS)"
   ]
  },
  {
   "cell_type": "code",
   "execution_count": 25,
   "metadata": {},
   "outputs": [],
   "source": [
    "#третий регион (df2)\n",
    "#удаление столбца с id\n",
    "df2=df2.drop(['id'],axis=1)\n",
    "#разделение выборок на обучающую и валидацинную в соотношении 75:25\n",
    "target_2=df2['product']\n",
    "features_2=df2.drop(['product'],axis=1)\n",
    "features_2_train,features_2_valid,target_2_train,target_2_valid=train_test_split(\n",
    "features_2,target_2,train_size=0.75,random_state=RS)"
   ]
  },
  {
   "cell_type": "markdown",
   "metadata": {},
   "source": [
    "### 2.2 Обучение модели и предсказание на валидационной выборке\n",
    "\n",
    "Обучим модели линейной регрессии для трёх регионов и сохраним предсказания на валидационной выборке"
   ]
  },
  {
   "cell_type": "code",
   "execution_count": 26,
   "metadata": {},
   "outputs": [],
   "source": [
    "#первый регион (df0)\n",
    "model_0=LinearRegression()\n",
    "model_0.fit(features_0_train,target_0_train)\n",
    "predictions_0_valid=model_0.predict(features_0_valid)"
   ]
  },
  {
   "cell_type": "code",
   "execution_count": 27,
   "metadata": {},
   "outputs": [],
   "source": [
    "#второй регион (df1)\n",
    "model_1=LinearRegression()\n",
    "model_1.fit(features_1_train,target_1_train)\n",
    "predictions_1_valid=model_1.predict(features_1_valid)"
   ]
  },
  {
   "cell_type": "code",
   "execution_count": 28,
   "metadata": {},
   "outputs": [],
   "source": [
    "#третий регион (df2)\n",
    "model_2=LinearRegression()\n",
    "model_2.fit(features_2_train,target_2_train)\n",
    "predictions_2_valid=model_2.predict(features_2_valid)"
   ]
  },
  {
   "cell_type": "markdown",
   "metadata": {},
   "source": [
    "### 2.3. Сохранение предсказаний и правильных ответов на валидационной выборке\n",
    "\n",
    "    Предсказания уже сохранены в переменной predictions_*номер df*_valid.\n",
    "    Правильные ответы сохранены в переменной target_*номер df*_valid"
   ]
  },
  {
   "cell_type": "markdown",
   "metadata": {},
   "source": [
    "### 2.4. Отображение на экране среднего запаса предсказанного сырья и RMSE моделей."
   ]
  },
  {
   "cell_type": "code",
   "execution_count": 29,
   "metadata": {},
   "outputs": [],
   "source": [
    "#первый регион (df0)\n",
    "predictions_0_valid_mean=predictions_0_valid.mean()\n",
    "model_0_RMSE=mean_squared_error(target_0_valid,predictions_0_valid)**0.5"
   ]
  },
  {
   "cell_type": "code",
   "execution_count": 30,
   "metadata": {},
   "outputs": [],
   "source": [
    "#второй регион (df1)\n",
    "predictions_1_valid_mean=predictions_1_valid.mean()\n",
    "model_1_RMSE=mean_squared_error(target_1_valid,predictions_1_valid)**0.5"
   ]
  },
  {
   "cell_type": "code",
   "execution_count": 31,
   "metadata": {},
   "outputs": [],
   "source": [
    "#третий регион (df2)\n",
    "predictions_2_valid_mean=predictions_2_valid.mean()\n",
    "model_2_RMSE=mean_squared_error(target_2_valid,predictions_2_valid)**0.5"
   ]
  },
  {
   "cell_type": "code",
   "execution_count": 32,
   "metadata": {},
   "outputs": [
    {
     "data": {
      "text/html": [
       "<div>\n",
       "<style scoped>\n",
       "    .dataframe tbody tr th:only-of-type {\n",
       "        vertical-align: middle;\n",
       "    }\n",
       "\n",
       "    .dataframe tbody tr th {\n",
       "        vertical-align: top;\n",
       "    }\n",
       "\n",
       "    .dataframe thead th {\n",
       "        text-align: right;\n",
       "    }\n",
       "</style>\n",
       "<table border=\"1\" class=\"dataframe\">\n",
       "  <thead>\n",
       "    <tr style=\"text-align: right;\">\n",
       "      <th></th>\n",
       "      <th>средний запас предсказанного сырья</th>\n",
       "      <th>RMSE модели</th>\n",
       "    </tr>\n",
       "  </thead>\n",
       "  <tbody>\n",
       "    <tr>\n",
       "      <th>0</th>\n",
       "      <td>92.789156</td>\n",
       "      <td>37.853527</td>\n",
       "    </tr>\n",
       "    <tr>\n",
       "      <th>1</th>\n",
       "      <td>68.728547</td>\n",
       "      <td>0.893099</td>\n",
       "    </tr>\n",
       "    <tr>\n",
       "      <th>2</th>\n",
       "      <td>94.965046</td>\n",
       "      <td>40.029709</td>\n",
       "    </tr>\n",
       "  </tbody>\n",
       "</table>\n",
       "</div>"
      ],
      "text/plain": [
       "   средний запас предсказанного сырья  RMSE модели\n",
       "0                           92.789156    37.853527\n",
       "1                           68.728547     0.893099\n",
       "2                           94.965046    40.029709"
      ]
     },
     "execution_count": 32,
     "metadata": {},
     "output_type": "execute_result"
    }
   ],
   "source": [
    "results_2=pd.DataFrame({'средний запас предсказанного сырья':\n",
    "                      [predictions_0_valid_mean,predictions_1_valid_mean,predictions_2_valid_mean],\n",
    "                     'RMSE модели':\n",
    "                     [model_0_RMSE,model_1_RMSE,model_2_RMSE]})\n",
    "\n",
    "results_2"
   ]
  },
  {
   "cell_type": "markdown",
   "metadata": {},
   "source": [
    "### 2.5 Анализ результатов"
   ]
  },
  {
   "cell_type": "markdown",
   "metadata": {},
   "source": [
    "Для первого и третьего региона значение ошибки RMSE имеет сопоставимую величину, при этом погрешность значительна: RMSE почти равняется половине от среднего значения запаса. При этом, для второго региона значение RMSE значительно меньше: на 2 порядка модель точнее. Значения средних предсказанных запасов схожи со средним по всему столбцу product, что вполне закономерно."
   ]
  },
  {
   "cell_type": "markdown",
   "metadata": {},
   "source": [
    "## 3. Подготовка к расчёту прибыли"
   ]
  },
  {
   "cell_type": "markdown",
   "metadata": {},
   "source": [
    "### 3.1. Сохранение ключевых значений\n",
    "\n",
    "Запишем все необходимые значения в различные переменные."
   ]
  },
  {
   "cell_type": "code",
   "execution_count": 33,
   "metadata": {},
   "outputs": [],
   "source": [
    "#число точек для разведки\n",
    "exploration_number=500\n",
    "\n",
    "#число точек для разработки\n",
    "mining_number=200\n",
    "\n",
    "#бюджет на разработку скважин в регионе, тыс. рублей\n",
    "mining_budget=10000000\n",
    "\n",
    "#цена за 1000 баррелей, тыс. рублей\n",
    "barrels_price=450\n",
    "\n",
    "#порог вероятности убытков,%\n",
    "risk_value=2.5"
   ]
  },
  {
   "cell_type": "markdown",
   "metadata": {},
   "source": [
    "### 3.2. Расчёт достаточного объёма сырья для безубыточной разработки новой скважины. Сравнение полученного объёма со средним запасом в каждом регионе.\n",
    "\n",
    "Объём для безубыточной разработки - это объём сырья, при продаже которого будет заработано столько денег, сколько на неё было затрачено - 10 млрд рублей (константа mining_budget). Сохраним значение в константу как break_even_point (точка безубыточности)\n"
   ]
  },
  {
   "cell_type": "code",
   "execution_count": 34,
   "metadata": {},
   "outputs": [
    {
     "data": {
      "text/plain": [
       "111.11111111111111"
      ]
     },
     "execution_count": 34,
     "metadata": {},
     "output_type": "execute_result"
    }
   ],
   "source": [
    "#расчёт точки безубыточной разработки кол-во баррелей(тысячи шт.): \n",
    "#затраты на регион(тыс. рублей)/(кол-во скважин на регион(mining_number, шт)*цена за 1000 баррелей(тыс. рублей))\n",
    "break_even_point=mining_budget/(mining_number*barrels_price)\n",
    "break_even_point"
   ]
  },
  {
   "cell_type": "markdown",
   "metadata": {},
   "source": [
    "Сравним со средним по регионам:"
   ]
  },
  {
   "cell_type": "code",
   "execution_count": 35,
   "metadata": {},
   "outputs": [
    {
     "data": {
      "text/html": [
       "<div>\n",
       "<style scoped>\n",
       "    .dataframe tbody tr th:only-of-type {\n",
       "        vertical-align: middle;\n",
       "    }\n",
       "\n",
       "    .dataframe tbody tr th {\n",
       "        vertical-align: top;\n",
       "    }\n",
       "\n",
       "    .dataframe thead th {\n",
       "        text-align: right;\n",
       "    }\n",
       "</style>\n",
       "<table border=\"1\" class=\"dataframe\">\n",
       "  <thead>\n",
       "    <tr style=\"text-align: right;\">\n",
       "      <th></th>\n",
       "      <th>среднее по регионам</th>\n",
       "      <th>отношение к точке безубыточности</th>\n",
       "    </tr>\n",
       "  </thead>\n",
       "  <tbody>\n",
       "    <tr>\n",
       "      <th>0</th>\n",
       "      <td>92.499684</td>\n",
       "      <td>0.832497</td>\n",
       "    </tr>\n",
       "    <tr>\n",
       "      <th>1</th>\n",
       "      <td>68.825000</td>\n",
       "      <td>0.619425</td>\n",
       "    </tr>\n",
       "    <tr>\n",
       "      <th>2</th>\n",
       "      <td>95.000000</td>\n",
       "      <td>0.855000</td>\n",
       "    </tr>\n",
       "  </tbody>\n",
       "</table>\n",
       "</div>"
      ],
      "text/plain": [
       "   среднее по регионам  отношение к точке безубыточности\n",
       "0            92.499684                          0.832497\n",
       "1            68.825000                          0.619425\n",
       "2            95.000000                          0.855000"
      ]
     },
     "execution_count": 35,
     "metadata": {},
     "output_type": "execute_result"
    }
   ],
   "source": [
    "df_means=pd.DataFrame({'среднее по регионам':[df0['product'].mean(),df1['product'].mean(),df2['product'].mean()]})\n",
    "df_means['отношение к точке безубыточности']=df_means['среднее по регионам']/break_even_point\n",
    "df_means"
   ]
  },
  {
   "cell_type": "markdown",
   "metadata": {},
   "source": [
    "### 3.3. Выводы по этапу подготовки расчёта прибыли"
   ]
  },
  {
   "cell_type": "markdown",
   "metadata": {},
   "source": [
    "Отсюда видно, что во всех трёх регионах среднее значение запасов по всем скважинам меньше минимального значения запасов, чтобы бурение скважины было безубыточным. При этом во втором регионе среднее значение меньше всех: на 39% относительно безубыточных запасов, а для первого и третьего региона примерно одинаково: на 17 и 15 процентов соответственно. \n",
    "\n",
    "Получается, для безубыточного бурения необходимо выбирать скважины, запасы в которых будут значительно больше, чем в среднем по региону, и в особенностиэто важно для второго региона"
   ]
  },
  {
   "cell_type": "markdown",
   "metadata": {},
   "source": [
    "## 4. Расчёт прибыли"
   ]
  },
  {
   "cell_type": "markdown",
   "metadata": {},
   "source": [
    "Для расчёта прибыли по выбранным скважинам напишем функцию, которая будет выбирать скважины с максимальными значениями предсказаний, просуммирует целевое значение объёма сырья, соответствующее этим предсказаниям, рассчитает прибыль для полученного объёма сырья."
   ]
  },
  {
   "cell_type": "code",
   "execution_count": 36,
   "metadata": {},
   "outputs": [],
   "source": [
    "def revenue(predictions,target):\n",
    "    #делаем из predictions объект Series, с индексами из target\n",
    "    predictions=pd.Series(predictions,index=target.index)\n",
    "    #сортируем скважины по убыванию значения предсказанных запасов\n",
    "    predictions_sorted=predictions.sort_values(ascending=False)\n",
    "    #выбираем реальные запасы для этих скважин, 200 (mining_number) штук\n",
    "    selected=target[predictions_sorted.index][:mining_number]\n",
    "    #рассчитаем прибыль для суммарного объёма сырья для этих скважин\n",
    "    #прибыль(тыс.рублей) =  суммарный объём сырья(selected.sum()), тыс. баррелей *\\ \n",
    "    #цена за тысячу баррелей(barrels_price), тыс. рублей -\\\n",
    "    #затраты на разработку этих скважин(mining_budget), тыс. рублей\n",
    "    return selected.sum()*barrels_price-mining_budget"
   ]
  },
  {
   "cell_type": "markdown",
   "metadata": {},
   "source": [
    "Расчитаем прибыль для всех регионов:"
   ]
  },
  {
   "cell_type": "code",
   "execution_count": 37,
   "metadata": {},
   "outputs": [
    {
     "data": {
      "text/html": [
       "<div>\n",
       "<style scoped>\n",
       "    .dataframe tbody tr th:only-of-type {\n",
       "        vertical-align: middle;\n",
       "    }\n",
       "\n",
       "    .dataframe tbody tr th {\n",
       "        vertical-align: top;\n",
       "    }\n",
       "\n",
       "    .dataframe thead th {\n",
       "        text-align: right;\n",
       "    }\n",
       "</style>\n",
       "<table border=\"1\" class=\"dataframe\">\n",
       "  <thead>\n",
       "    <tr style=\"text-align: right;\">\n",
       "      <th></th>\n",
       "      <th>прибыль по регионам, тыс. рублей</th>\n",
       "    </tr>\n",
       "  </thead>\n",
       "  <tbody>\n",
       "    <tr>\n",
       "      <th>0</th>\n",
       "      <td>3.365187e+06</td>\n",
       "    </tr>\n",
       "    <tr>\n",
       "      <th>1</th>\n",
       "      <td>2.415087e+06</td>\n",
       "    </tr>\n",
       "    <tr>\n",
       "      <th>2</th>\n",
       "      <td>2.710350e+06</td>\n",
       "    </tr>\n",
       "  </tbody>\n",
       "</table>\n",
       "</div>"
      ],
      "text/plain": [
       "   прибыль по регионам, тыс. рублей\n",
       "0                      3.365187e+06\n",
       "1                      2.415087e+06\n",
       "2                      2.710350e+06"
      ]
     },
     "execution_count": 37,
     "metadata": {},
     "output_type": "execute_result"
    }
   ],
   "source": [
    "#регион 1 (df0)\n",
    "revenue_0=revenue(predictions_0_valid,target_0_valid)\n",
    "\n",
    "#регион 2 (df1)\n",
    "revenue_1=revenue(predictions_1_valid,target_1_valid)\n",
    "\n",
    "#регоин 3 (df2)\n",
    "revenue_2=revenue(predictions_2_valid,target_2_valid)\n",
    "\n",
    "revenues=pd.DataFrame({'прибыль по регионам, тыс. рублей':[revenue_0,revenue_1,revenue_2]})\n",
    "revenues"
   ]
  },
  {
   "cell_type": "markdown",
   "metadata": {},
   "source": [
    "По данным расчётам получаем, что вот не смотря на то, что 1 и 3 регион по средним запасам одинаковы, первый оказывается сильно прибыльнее, чем третий. При этом предсказкуемо прибыльность 2 региона меньше, но не так значительно как соотношение средних запасов (очень грубо 60 к 90). "
   ]
  },
  {
   "cell_type": "markdown",
   "metadata": {},
   "source": [
    "## 5. Подсчёт рисков и прибылей для каждго региона"
   ]
  },
  {
   "cell_type": "markdown",
   "metadata": {},
   "source": [
    "### 5.1. Применение техники Bootstrap c 1000 выборок, чтобы найти распределение прибыли"
   ]
  },
  {
   "cell_type": "code",
   "execution_count": 38,
   "metadata": {},
   "outputs": [],
   "source": [
    "#регион 1 (df0)\n",
    "#создание списка со значениями revenue для каждой выборки\n",
    "values_0=[]\n",
    "\n",
    "state=np.random.RandomState(12345)\n",
    "for i in range(1000):\n",
    "    target_0_subsample=target_0_valid.sample(n=exploration_number,random_state=state,replace=True) #создание подвыборки target на 500 скважин\n",
    "    predictions_0_valid=pd.Series(predictions_0_valid,index=target_0_valid.index) #создание объекта Series для дальнейшей обработки \n",
    "    predictions_0_subsample=predictions_0_valid[target_0_subsample.index] #создание подвыборки predictions для соотвествующих target\n",
    "    values_0.append(revenue(predictions_0_subsample,target_0_subsample)) #вычисление функции revenue\n",
    "    \n",
    "#регион 2 (df1)\n",
    "#создание списка со значениями revenue для каждой выборки\n",
    "values_1=[]\n",
    "\n",
    "state=np.random.RandomState(12345)\n",
    "for i in range(1000):\n",
    "    target_1_subsample=target_1_valid.sample(n=exploration_number,random_state=state,replace=True) #создание подвыборки target на 500 скважин\n",
    "    predictions_1_valid=pd.Series(predictions_1_valid,index=target_1_valid.index) #создание объекта Series для дальнейшей обработки \n",
    "    predictions_1_subsample=predictions_1_valid[target_1_subsample.index] #создание подвыборки predictions для соотвествующих target\n",
    "    values_1.append(revenue(predictions_1_subsample,target_1_subsample)) #вычисление функции revenue\n",
    "    \n",
    "#регион 3 (df2)\n",
    "#создание списка со значениями revenue для каждой выборки\n",
    "values_2=[]\n",
    "\n",
    "state=np.random.RandomState(12345)\n",
    "for i in range(1000):\n",
    "    target_2_subsample=target_2_valid.sample(n=exploration_number,random_state=state,replace=True) #создание подвыборки target на 500 скважин\n",
    "    predictions_2_valid=pd.Series(predictions_2_valid,index=target_2_valid.index) #создание объекта Series для дальнейшей обработки \n",
    "    predictions_2_subsample=predictions_2_valid[target_2_subsample.index] #создание подвыборки predictions для соотвествующих target\n",
    "    values_2.append(revenue(predictions_2_subsample,target_2_subsample)) #вычисление функции revenue"
   ]
  },
  {
   "cell_type": "markdown",
   "metadata": {},
   "source": [
    "### 5.2 Нахождение средней прибыли, 95%-ого доверительного интервала и риска убытков"
   ]
  },
  {
   "cell_type": "code",
   "execution_count": 39,
   "metadata": {},
   "outputs": [
    {
     "data": {
      "text/html": [
       "<div>\n",
       "<style scoped>\n",
       "    .dataframe tbody tr th:only-of-type {\n",
       "        vertical-align: middle;\n",
       "    }\n",
       "\n",
       "    .dataframe tbody tr th {\n",
       "        vertical-align: top;\n",
       "    }\n",
       "\n",
       "    .dataframe thead th {\n",
       "        text-align: right;\n",
       "    }\n",
       "</style>\n",
       "<table border=\"1\" class=\"dataframe\">\n",
       "  <thead>\n",
       "    <tr style=\"text-align: right;\">\n",
       "      <th></th>\n",
       "      <th>среднее</th>\n",
       "      <th>0.025-квантиль</th>\n",
       "      <th>0.975</th>\n",
       "      <th>доля убытков,%</th>\n",
       "    </tr>\n",
       "  </thead>\n",
       "  <tbody>\n",
       "    <tr>\n",
       "      <th>0</th>\n",
       "      <td>409428.038621</td>\n",
       "      <td>-131536.028702</td>\n",
       "      <td>944395.582755</td>\n",
       "      <td>7.1</td>\n",
       "    </tr>\n",
       "    <tr>\n",
       "      <th>1</th>\n",
       "      <td>515222.773443</td>\n",
       "      <td>68873.225371</td>\n",
       "      <td>931547.591257</td>\n",
       "      <td>1.0</td>\n",
       "    </tr>\n",
       "    <tr>\n",
       "      <th>2</th>\n",
       "      <td>435008.362783</td>\n",
       "      <td>-128880.547330</td>\n",
       "      <td>969706.954180</td>\n",
       "      <td>6.4</td>\n",
       "    </tr>\n",
       "  </tbody>\n",
       "</table>\n",
       "</div>"
      ],
      "text/plain": [
       "         среднее  0.025-квантиль          0.975  доля убытков,%\n",
       "0  409428.038621  -131536.028702  944395.582755             7.1\n",
       "1  515222.773443    68873.225371  931547.591257             1.0\n",
       "2  435008.362783  -128880.547330  969706.954180             6.4"
      ]
     },
     "execution_count": 39,
     "metadata": {},
     "output_type": "execute_result"
    }
   ],
   "source": [
    "#регион 1 (df0)\n",
    "values_0=pd.Series(values_0) #создание объекта Series для полученных values\n",
    "values_0_mean=values_0.mean() #подсчёт среднего по выборке\n",
    "lower_0=values_0.quantile(0.025) #отбор нижней границы 95% доверительного интервала\n",
    "upper_0=values_0.quantile(0.975) #отбор верхней границы 95% доверительного интервала\n",
    "\n",
    "loss_0=100*values_0[values_0<0].count()/len(values_0) #доля убытков,% \n",
    "\n",
    "#регион 2 (df1)\n",
    "values_1=pd.Series(values_1) #создание объекта Series для полученных values\n",
    "values_1_mean=values_1.mean() #подсчёт среднего по выборке\n",
    "lower_1=values_1.quantile(0.025) #отбор нижней границы 95% доверительного интервала\n",
    "upper_1=values_1.quantile(0.975) #отбор верхней границы 95% доверительного интервала\n",
    "loss_1=100*values_1[values_1<0].count()/len(values_1) #доля убытков \n",
    "\n",
    "#регион 3 (df2)\n",
    "values_2=pd.Series(values_2) #создание объекта Series для полученных values\n",
    "values_2_mean=values_2.mean() #подсчёт среднего по выборке\n",
    "lower_2=values_2.quantile(0.025) #отбор нижней границы 95% доверительного интервала\n",
    "upper_2=values_2.quantile(0.975) #отбор верхней границы 95% доверительного интервала\n",
    "loss_2=100*values_2[values_2<0].count()/len(values_2) #доля убытков \n",
    "\n",
    "results_5=pd.DataFrame({'среднее':[values_0_mean,values_1_mean,values_2_mean],'0.025-квантиль':[lower_0,lower_1,lower_2],\n",
    "                        '0.975':[upper_0,upper_1,upper_2],'доля убытков,%':[loss_0,loss_1,loss_2]})\n",
    "results_5"
   ]
  },
  {
   "cell_type": "markdown",
   "metadata": {},
   "source": [
    "### 5.3 Выводы."
   ]
  },
  {
   "cell_type": "markdown",
   "metadata": {},
   "source": [
    "Исходя из основного условия задачи, а именно: после оценки рисков оставить лишь те регионы, в которых вероятность убытков меньше 2,5%, получаем, что подходит для разработки только второй регион (df1) с вероятностью убытков 1%. Для первого и третьего регионов вероятность убытков составляет 6,0 и 6,4 процента соответственно.\n",
    "\n",
    "Также интересно отметить, что для второго региона 0.025-квантиль положителен (то есть если считать долю убытков только по доверительному интервалу, то она будет стремиться к нулю)."
   ]
  }
 ],
 "metadata": {
  "ExecuteTimeLog": [
   {
    "duration": 1832,
    "start_time": "2023-05-05T17:57:53.306Z"
   },
   {
    "duration": 143,
    "start_time": "2023-05-05T17:57:55.141Z"
   },
   {
    "duration": 0,
    "start_time": "2023-05-05T17:57:55.286Z"
   },
   {
    "duration": 0,
    "start_time": "2023-05-05T17:57:55.288Z"
   },
   {
    "duration": 0,
    "start_time": "2023-05-05T17:57:55.289Z"
   },
   {
    "duration": 0,
    "start_time": "2023-05-05T17:57:55.291Z"
   },
   {
    "duration": 0,
    "start_time": "2023-05-05T17:57:55.292Z"
   },
   {
    "duration": 0,
    "start_time": "2023-05-05T17:57:55.293Z"
   },
   {
    "duration": 0,
    "start_time": "2023-05-05T17:57:55.294Z"
   },
   {
    "duration": 0,
    "start_time": "2023-05-05T17:57:55.296Z"
   },
   {
    "duration": 0,
    "start_time": "2023-05-05T17:57:55.297Z"
   },
   {
    "duration": 0,
    "start_time": "2023-05-05T17:57:55.298Z"
   },
   {
    "duration": 0,
    "start_time": "2023-05-05T17:57:55.299Z"
   },
   {
    "duration": 0,
    "start_time": "2023-05-05T17:57:55.300Z"
   },
   {
    "duration": 0,
    "start_time": "2023-05-05T17:57:55.302Z"
   },
   {
    "duration": 0,
    "start_time": "2023-05-05T17:57:55.302Z"
   },
   {
    "duration": 0,
    "start_time": "2023-05-05T17:57:55.303Z"
   },
   {
    "duration": 0,
    "start_time": "2023-05-05T17:57:55.304Z"
   },
   {
    "duration": 0,
    "start_time": "2023-05-05T17:57:55.305Z"
   },
   {
    "duration": 0,
    "start_time": "2023-05-05T17:57:55.306Z"
   },
   {
    "duration": 0,
    "start_time": "2023-05-05T17:57:55.307Z"
   },
   {
    "duration": 0,
    "start_time": "2023-05-05T17:57:55.308Z"
   },
   {
    "duration": 0,
    "start_time": "2023-05-05T17:57:55.309Z"
   },
   {
    "duration": 0,
    "start_time": "2023-05-05T17:57:55.310Z"
   },
   {
    "duration": 0,
    "start_time": "2023-05-05T17:57:55.311Z"
   },
   {
    "duration": 0,
    "start_time": "2023-05-05T17:57:55.312Z"
   },
   {
    "duration": 0,
    "start_time": "2023-05-05T17:57:55.313Z"
   },
   {
    "duration": 0,
    "start_time": "2023-05-05T17:57:55.314Z"
   },
   {
    "duration": 0,
    "start_time": "2023-05-05T17:57:55.315Z"
   },
   {
    "duration": 355,
    "start_time": "2023-05-05T18:00:48.878Z"
   },
   {
    "duration": 1855,
    "start_time": "2023-05-05T18:00:55.302Z"
   },
   {
    "duration": 365,
    "start_time": "2023-05-05T18:00:57.159Z"
   },
   {
    "duration": 15,
    "start_time": "2023-05-05T18:00:57.525Z"
   },
   {
    "duration": 66,
    "start_time": "2023-05-05T18:00:57.542Z"
   },
   {
    "duration": 8,
    "start_time": "2023-05-05T18:00:57.610Z"
   },
   {
    "duration": 41,
    "start_time": "2023-05-05T18:00:57.620Z"
   },
   {
    "duration": 47,
    "start_time": "2023-05-05T18:00:57.663Z"
   },
   {
    "duration": 8,
    "start_time": "2023-05-05T18:00:57.712Z"
   },
   {
    "duration": 91,
    "start_time": "2023-05-05T18:00:57.722Z"
   },
   {
    "duration": 76,
    "start_time": "2023-05-05T18:00:57.817Z"
   },
   {
    "duration": 10,
    "start_time": "2023-05-05T18:00:57.895Z"
   },
   {
    "duration": 368,
    "start_time": "2023-05-05T18:00:57.906Z"
   },
   {
    "duration": 23,
    "start_time": "2023-05-05T18:00:58.276Z"
   },
   {
    "duration": 17,
    "start_time": "2023-05-05T18:00:58.300Z"
   },
   {
    "duration": 23,
    "start_time": "2023-05-05T18:00:58.318Z"
   },
   {
    "duration": 49,
    "start_time": "2023-05-05T18:00:58.342Z"
   },
   {
    "duration": 190,
    "start_time": "2023-05-05T18:00:58.394Z"
   },
   {
    "duration": 102,
    "start_time": "2023-05-05T18:00:58.586Z"
   },
   {
    "duration": 94,
    "start_time": "2023-05-05T18:00:58.690Z"
   },
   {
    "duration": 97,
    "start_time": "2023-05-05T18:00:58.786Z"
   },
   {
    "duration": 13,
    "start_time": "2023-05-05T18:00:58.885Z"
   },
   {
    "duration": 13,
    "start_time": "2023-05-05T18:00:58.899Z"
   },
   {
    "duration": 4,
    "start_time": "2023-05-05T18:00:58.914Z"
   },
   {
    "duration": 9,
    "start_time": "2023-05-05T18:00:58.920Z"
   },
   {
    "duration": 12,
    "start_time": "2023-05-05T18:00:58.931Z"
   },
   {
    "duration": 6,
    "start_time": "2023-05-05T18:00:58.945Z"
   },
   {
    "duration": 43,
    "start_time": "2023-05-05T18:00:58.953Z"
   },
   {
    "duration": 4317,
    "start_time": "2023-05-05T18:00:59.000Z"
   },
   {
    "duration": 22,
    "start_time": "2023-05-05T18:01:03.319Z"
   },
   {
    "duration": 1089,
    "start_time": "2023-05-07T06:27:16.053Z"
   },
   {
    "duration": 1405,
    "start_time": "2023-05-07T06:27:17.144Z"
   },
   {
    "duration": 15,
    "start_time": "2023-05-07T06:27:18.551Z"
   },
   {
    "duration": 41,
    "start_time": "2023-05-07T06:27:18.568Z"
   },
   {
    "duration": 7,
    "start_time": "2023-05-07T06:27:18.610Z"
   },
   {
    "duration": 30,
    "start_time": "2023-05-07T06:27:18.619Z"
   },
   {
    "duration": 39,
    "start_time": "2023-05-07T06:27:18.650Z"
   },
   {
    "duration": 8,
    "start_time": "2023-05-07T06:27:18.691Z"
   },
   {
    "duration": 21,
    "start_time": "2023-05-07T06:27:18.700Z"
   },
   {
    "duration": 35,
    "start_time": "2023-05-07T06:27:18.724Z"
   },
   {
    "duration": 27,
    "start_time": "2023-05-07T06:27:18.761Z"
   },
   {
    "duration": 544,
    "start_time": "2023-05-07T06:27:18.790Z"
   },
   {
    "duration": 19,
    "start_time": "2023-05-07T06:27:19.336Z"
   },
   {
    "duration": 32,
    "start_time": "2023-05-07T06:27:19.356Z"
   },
   {
    "duration": 17,
    "start_time": "2023-05-07T06:27:19.391Z"
   },
   {
    "duration": 176,
    "start_time": "2023-05-07T06:27:19.411Z"
   },
   {
    "duration": 15,
    "start_time": "2023-05-07T06:27:19.588Z"
   },
   {
    "duration": 192,
    "start_time": "2023-05-07T06:27:19.605Z"
   },
   {
    "duration": 10,
    "start_time": "2023-05-07T06:27:19.800Z"
   },
   {
    "duration": 192,
    "start_time": "2023-05-07T06:27:19.812Z"
   },
   {
    "duration": 54,
    "start_time": "2023-05-07T06:27:20.006Z"
   },
   {
    "duration": 23,
    "start_time": "2023-05-07T06:27:20.062Z"
   },
   {
    "duration": 20,
    "start_time": "2023-05-07T06:27:20.087Z"
   },
   {
    "duration": 15,
    "start_time": "2023-05-07T06:27:20.109Z"
   },
   {
    "duration": 21,
    "start_time": "2023-05-07T06:27:20.126Z"
   },
   {
    "duration": 5,
    "start_time": "2023-05-07T06:27:20.148Z"
   },
   {
    "duration": 52,
    "start_time": "2023-05-07T06:27:20.155Z"
   },
   {
    "duration": 4004,
    "start_time": "2023-05-07T06:27:20.209Z"
   },
   {
    "duration": 17,
    "start_time": "2023-05-07T06:27:24.215Z"
   },
   {
    "duration": 1086,
    "start_time": "2023-05-07T06:30:09.998Z"
   },
   {
    "duration": 456,
    "start_time": "2023-05-07T06:30:11.086Z"
   },
   {
    "duration": 27,
    "start_time": "2023-05-07T06:30:11.545Z"
   },
   {
    "duration": 45,
    "start_time": "2023-05-07T06:30:11.583Z"
   },
   {
    "duration": 9,
    "start_time": "2023-05-07T06:30:11.630Z"
   },
   {
    "duration": 32,
    "start_time": "2023-05-07T06:30:11.641Z"
   },
   {
    "duration": 42,
    "start_time": "2023-05-07T06:30:11.675Z"
   },
   {
    "duration": 10,
    "start_time": "2023-05-07T06:30:11.719Z"
   },
   {
    "duration": 24,
    "start_time": "2023-05-07T06:30:11.730Z"
   },
   {
    "duration": 58,
    "start_time": "2023-05-07T06:30:11.757Z"
   },
   {
    "duration": 8,
    "start_time": "2023-05-07T06:30:11.817Z"
   },
   {
    "duration": 396,
    "start_time": "2023-05-07T06:30:11.827Z"
   },
   {
    "duration": 17,
    "start_time": "2023-05-07T06:30:12.224Z"
   },
   {
    "duration": 20,
    "start_time": "2023-05-07T06:30:12.243Z"
   },
   {
    "duration": 34,
    "start_time": "2023-05-07T06:30:12.265Z"
   },
   {
    "duration": 86,
    "start_time": "2023-05-07T06:30:12.300Z"
   },
   {
    "duration": 107,
    "start_time": "2023-05-07T06:30:12.389Z"
   },
   {
    "duration": 192,
    "start_time": "2023-05-07T06:30:12.498Z"
   },
   {
    "duration": 102,
    "start_time": "2023-05-07T06:30:12.692Z"
   },
   {
    "duration": 89,
    "start_time": "2023-05-07T06:30:12.796Z"
   },
   {
    "duration": 7,
    "start_time": "2023-05-07T06:30:12.887Z"
   },
   {
    "duration": 12,
    "start_time": "2023-05-07T06:30:12.895Z"
   },
   {
    "duration": 6,
    "start_time": "2023-05-07T06:30:12.909Z"
   },
   {
    "duration": 11,
    "start_time": "2023-05-07T06:30:12.917Z"
   },
   {
    "duration": 22,
    "start_time": "2023-05-07T06:30:12.929Z"
   },
   {
    "duration": 17,
    "start_time": "2023-05-07T06:30:12.953Z"
   },
   {
    "duration": 30,
    "start_time": "2023-05-07T06:30:12.972Z"
   },
   {
    "duration": 4905,
    "start_time": "2023-05-07T06:30:13.005Z"
   },
   {
    "duration": 17,
    "start_time": "2023-05-07T06:30:17.911Z"
   },
   {
    "duration": 29,
    "start_time": "2023-05-07T06:35:34.235Z"
   },
   {
    "duration": 26,
    "start_time": "2023-05-07T06:35:37.280Z"
   },
   {
    "duration": 34,
    "start_time": "2023-05-07T06:35:39.652Z"
   },
   {
    "duration": 80,
    "start_time": "2023-05-07T06:36:38.067Z"
   },
   {
    "duration": 78,
    "start_time": "2023-05-07T06:36:53.705Z"
   },
   {
    "duration": 1783,
    "start_time": "2023-05-07T06:39:28.193Z"
   },
   {
    "duration": 139,
    "start_time": "2023-05-07T06:39:38.929Z"
   },
   {
    "duration": 9,
    "start_time": "2023-05-07T06:43:11.833Z"
   },
   {
    "duration": 5,
    "start_time": "2023-05-07T06:43:14.693Z"
   },
   {
    "duration": 15,
    "start_time": "2023-05-07T06:43:46.219Z"
   },
   {
    "duration": 13,
    "start_time": "2023-05-07T06:44:15.948Z"
   },
   {
    "duration": 7,
    "start_time": "2023-05-07T06:46:19.661Z"
   },
   {
    "duration": 16,
    "start_time": "2023-05-07T06:47:06.332Z"
   },
   {
    "duration": 14,
    "start_time": "2023-05-07T06:47:10.521Z"
   },
   {
    "duration": 15,
    "start_time": "2023-05-07T06:47:16.059Z"
   },
   {
    "duration": 15,
    "start_time": "2023-05-07T06:47:20.161Z"
   },
   {
    "duration": 12,
    "start_time": "2023-05-07T06:47:39.033Z"
   },
   {
    "duration": 5,
    "start_time": "2023-05-07T06:48:02.748Z"
   },
   {
    "duration": 160,
    "start_time": "2023-05-07T06:48:12.087Z"
   },
   {
    "duration": 5,
    "start_time": "2023-05-07T06:48:17.895Z"
   },
   {
    "duration": 5,
    "start_time": "2023-05-07T06:48:43.773Z"
   },
   {
    "duration": 9,
    "start_time": "2023-05-07T06:49:06.212Z"
   },
   {
    "duration": 6,
    "start_time": "2023-05-07T06:49:09.348Z"
   },
   {
    "duration": 35,
    "start_time": "2023-05-07T06:49:55.524Z"
   },
   {
    "duration": 39,
    "start_time": "2023-05-07T06:50:07.688Z"
   },
   {
    "duration": 4,
    "start_time": "2023-05-07T06:50:27.381Z"
   },
   {
    "duration": 398,
    "start_time": "2023-05-07T06:50:27.446Z"
   },
   {
    "duration": 14,
    "start_time": "2023-05-07T06:50:27.846Z"
   },
   {
    "duration": 46,
    "start_time": "2023-05-07T06:50:27.861Z"
   },
   {
    "duration": 10,
    "start_time": "2023-05-07T06:50:27.909Z"
   },
   {
    "duration": 32,
    "start_time": "2023-05-07T06:50:27.920Z"
   },
   {
    "duration": 37,
    "start_time": "2023-05-07T06:50:27.953Z"
   },
   {
    "duration": 9,
    "start_time": "2023-05-07T06:50:27.992Z"
   },
   {
    "duration": 25,
    "start_time": "2023-05-07T06:50:28.002Z"
   },
   {
    "duration": 34,
    "start_time": "2023-05-07T06:50:28.029Z"
   },
   {
    "duration": 20,
    "start_time": "2023-05-07T06:50:28.066Z"
   },
   {
    "duration": 102,
    "start_time": "2023-05-07T06:50:28.088Z"
   },
   {
    "duration": 122,
    "start_time": "2023-05-07T06:50:28.192Z"
   },
   {
    "duration": 76,
    "start_time": "2023-05-07T06:50:30.809Z"
   },
   {
    "duration": 74,
    "start_time": "2023-05-07T06:51:06.100Z"
   },
   {
    "duration": 33,
    "start_time": "2023-05-07T06:58:13.590Z"
   },
   {
    "duration": 74,
    "start_time": "2023-05-07T06:58:42.776Z"
   },
   {
    "duration": 30,
    "start_time": "2023-05-07T06:58:46.032Z"
   },
   {
    "duration": 95,
    "start_time": "2023-05-07T06:58:49.932Z"
   },
   {
    "duration": 22,
    "start_time": "2023-05-07T06:58:57.390Z"
   },
   {
    "duration": 23,
    "start_time": "2023-05-07T06:59:04.250Z"
   },
   {
    "duration": 1119,
    "start_time": "2023-05-07T06:59:44.754Z"
   },
   {
    "duration": 432,
    "start_time": "2023-05-07T06:59:45.875Z"
   },
   {
    "duration": 13,
    "start_time": "2023-05-07T06:59:46.309Z"
   },
   {
    "duration": 44,
    "start_time": "2023-05-07T06:59:46.324Z"
   },
   {
    "duration": 27,
    "start_time": "2023-05-07T06:59:46.370Z"
   },
   {
    "duration": 31,
    "start_time": "2023-05-07T06:59:46.399Z"
   },
   {
    "duration": 43,
    "start_time": "2023-05-07T06:59:46.431Z"
   },
   {
    "duration": 15,
    "start_time": "2023-05-07T06:59:46.476Z"
   },
   {
    "duration": 38,
    "start_time": "2023-05-07T06:59:46.496Z"
   },
   {
    "duration": 37,
    "start_time": "2023-05-07T06:59:46.536Z"
   },
   {
    "duration": 7,
    "start_time": "2023-05-07T06:59:46.575Z"
   },
   {
    "duration": 401,
    "start_time": "2023-05-07T06:59:46.585Z"
   },
   {
    "duration": 166,
    "start_time": "2023-05-07T06:59:46.989Z"
   },
   {
    "duration": 0,
    "start_time": "2023-05-07T06:59:47.157Z"
   },
   {
    "duration": 0,
    "start_time": "2023-05-07T06:59:47.158Z"
   },
   {
    "duration": 0,
    "start_time": "2023-05-07T06:59:47.160Z"
   },
   {
    "duration": 0,
    "start_time": "2023-05-07T06:59:47.161Z"
   },
   {
    "duration": 0,
    "start_time": "2023-05-07T06:59:47.162Z"
   },
   {
    "duration": 0,
    "start_time": "2023-05-07T06:59:47.163Z"
   },
   {
    "duration": 0,
    "start_time": "2023-05-07T06:59:47.164Z"
   },
   {
    "duration": 0,
    "start_time": "2023-05-07T06:59:47.164Z"
   },
   {
    "duration": 0,
    "start_time": "2023-05-07T06:59:47.165Z"
   },
   {
    "duration": 0,
    "start_time": "2023-05-07T06:59:47.185Z"
   },
   {
    "duration": 0,
    "start_time": "2023-05-07T06:59:47.187Z"
   },
   {
    "duration": 0,
    "start_time": "2023-05-07T06:59:47.188Z"
   },
   {
    "duration": 0,
    "start_time": "2023-05-07T06:59:47.189Z"
   },
   {
    "duration": 0,
    "start_time": "2023-05-07T06:59:47.193Z"
   },
   {
    "duration": 0,
    "start_time": "2023-05-07T06:59:47.195Z"
   },
   {
    "duration": 0,
    "start_time": "2023-05-07T06:59:47.198Z"
   },
   {
    "duration": 0,
    "start_time": "2023-05-07T06:59:47.199Z"
   },
   {
    "duration": 0,
    "start_time": "2023-05-07T06:59:47.200Z"
   },
   {
    "duration": 0,
    "start_time": "2023-05-07T06:59:47.202Z"
   },
   {
    "duration": 3,
    "start_time": "2023-05-07T06:59:56.030Z"
   },
   {
    "duration": 445,
    "start_time": "2023-05-07T06:59:56.097Z"
   },
   {
    "duration": 14,
    "start_time": "2023-05-07T06:59:56.544Z"
   },
   {
    "duration": 49,
    "start_time": "2023-05-07T06:59:56.559Z"
   },
   {
    "duration": 12,
    "start_time": "2023-05-07T06:59:56.610Z"
   },
   {
    "duration": 16,
    "start_time": "2023-05-07T06:59:56.625Z"
   },
   {
    "duration": 57,
    "start_time": "2023-05-07T06:59:56.643Z"
   },
   {
    "duration": 9,
    "start_time": "2023-05-07T06:59:56.701Z"
   },
   {
    "duration": 23,
    "start_time": "2023-05-07T06:59:56.712Z"
   },
   {
    "duration": 33,
    "start_time": "2023-05-07T06:59:56.737Z"
   },
   {
    "duration": 18,
    "start_time": "2023-05-07T06:59:56.783Z"
   },
   {
    "duration": 117,
    "start_time": "2023-05-07T06:59:56.803Z"
   },
   {
    "duration": 48,
    "start_time": "2023-05-07T06:59:56.922Z"
   },
   {
    "duration": 0,
    "start_time": "2023-05-07T06:59:56.993Z"
   },
   {
    "duration": 0,
    "start_time": "2023-05-07T06:59:56.995Z"
   },
   {
    "duration": 0,
    "start_time": "2023-05-07T06:59:56.997Z"
   },
   {
    "duration": 0,
    "start_time": "2023-05-07T06:59:56.999Z"
   },
   {
    "duration": 0,
    "start_time": "2023-05-07T06:59:56.999Z"
   },
   {
    "duration": 1,
    "start_time": "2023-05-07T06:59:57.000Z"
   },
   {
    "duration": 0,
    "start_time": "2023-05-07T06:59:57.001Z"
   },
   {
    "duration": 0,
    "start_time": "2023-05-07T06:59:57.003Z"
   },
   {
    "duration": 0,
    "start_time": "2023-05-07T06:59:57.004Z"
   },
   {
    "duration": 0,
    "start_time": "2023-05-07T06:59:57.005Z"
   },
   {
    "duration": 0,
    "start_time": "2023-05-07T06:59:57.005Z"
   },
   {
    "duration": 0,
    "start_time": "2023-05-07T06:59:57.006Z"
   },
   {
    "duration": 0,
    "start_time": "2023-05-07T06:59:57.007Z"
   },
   {
    "duration": 0,
    "start_time": "2023-05-07T06:59:57.008Z"
   },
   {
    "duration": 0,
    "start_time": "2023-05-07T06:59:57.009Z"
   },
   {
    "duration": 0,
    "start_time": "2023-05-07T06:59:57.011Z"
   },
   {
    "duration": 0,
    "start_time": "2023-05-07T06:59:57.011Z"
   },
   {
    "duration": 0,
    "start_time": "2023-05-07T06:59:57.012Z"
   },
   {
    "duration": 0,
    "start_time": "2023-05-07T06:59:57.013Z"
   },
   {
    "duration": 23,
    "start_time": "2023-05-07T07:00:10.517Z"
   },
   {
    "duration": 3,
    "start_time": "2023-05-07T07:00:16.786Z"
   },
   {
    "duration": 417,
    "start_time": "2023-05-07T07:00:16.854Z"
   },
   {
    "duration": 18,
    "start_time": "2023-05-07T07:00:17.273Z"
   },
   {
    "duration": 48,
    "start_time": "2023-05-07T07:00:17.294Z"
   },
   {
    "duration": 8,
    "start_time": "2023-05-07T07:00:17.344Z"
   },
   {
    "duration": 17,
    "start_time": "2023-05-07T07:00:17.354Z"
   },
   {
    "duration": 37,
    "start_time": "2023-05-07T07:00:17.373Z"
   },
   {
    "duration": 8,
    "start_time": "2023-05-07T07:00:17.411Z"
   },
   {
    "duration": 18,
    "start_time": "2023-05-07T07:00:17.420Z"
   },
   {
    "duration": 54,
    "start_time": "2023-05-07T07:00:17.439Z"
   },
   {
    "duration": 8,
    "start_time": "2023-05-07T07:00:17.495Z"
   },
   {
    "duration": 97,
    "start_time": "2023-05-07T07:00:17.505Z"
   },
   {
    "duration": 45,
    "start_time": "2023-05-07T07:00:17.604Z"
   },
   {
    "duration": 0,
    "start_time": "2023-05-07T07:00:17.650Z"
   },
   {
    "duration": 114,
    "start_time": "2023-05-07T07:00:29.141Z"
   },
   {
    "duration": 3,
    "start_time": "2023-05-07T07:00:34.506Z"
   },
   {
    "duration": 424,
    "start_time": "2023-05-07T07:00:34.568Z"
   },
   {
    "duration": 15,
    "start_time": "2023-05-07T07:00:34.993Z"
   },
   {
    "duration": 59,
    "start_time": "2023-05-07T07:00:35.009Z"
   },
   {
    "duration": 9,
    "start_time": "2023-05-07T07:00:35.071Z"
   },
   {
    "duration": 38,
    "start_time": "2023-05-07T07:00:35.081Z"
   },
   {
    "duration": 49,
    "start_time": "2023-05-07T07:00:35.120Z"
   },
   {
    "duration": 8,
    "start_time": "2023-05-07T07:00:35.171Z"
   },
   {
    "duration": 26,
    "start_time": "2023-05-07T07:00:35.181Z"
   },
   {
    "duration": 35,
    "start_time": "2023-05-07T07:00:35.208Z"
   },
   {
    "duration": 11,
    "start_time": "2023-05-07T07:00:35.245Z"
   },
   {
    "duration": 108,
    "start_time": "2023-05-07T07:00:35.257Z"
   },
   {
    "duration": 117,
    "start_time": "2023-05-07T07:00:35.366Z"
   },
   {
    "duration": 73,
    "start_time": "2023-05-07T07:00:35.485Z"
   },
   {
    "duration": 41,
    "start_time": "2023-05-07T07:00:35.560Z"
   },
   {
    "duration": 15,
    "start_time": "2023-05-07T07:00:35.603Z"
   },
   {
    "duration": 20,
    "start_time": "2023-05-07T07:00:35.620Z"
   },
   {
    "duration": 20,
    "start_time": "2023-05-07T07:00:35.642Z"
   },
   {
    "duration": 22,
    "start_time": "2023-05-07T07:00:35.684Z"
   },
   {
    "duration": 85,
    "start_time": "2023-05-07T07:00:35.708Z"
   },
   {
    "duration": 107,
    "start_time": "2023-05-07T07:00:35.884Z"
   },
   {
    "duration": 191,
    "start_time": "2023-05-07T07:00:35.994Z"
   },
   {
    "duration": 9,
    "start_time": "2023-05-07T07:00:36.187Z"
   },
   {
    "duration": 10,
    "start_time": "2023-05-07T07:00:36.197Z"
   },
   {
    "duration": 38,
    "start_time": "2023-05-07T07:00:36.208Z"
   },
   {
    "duration": 11,
    "start_time": "2023-05-07T07:00:36.248Z"
   },
   {
    "duration": 15,
    "start_time": "2023-05-07T07:00:36.261Z"
   },
   {
    "duration": 40,
    "start_time": "2023-05-07T07:00:36.277Z"
   },
   {
    "duration": 4,
    "start_time": "2023-05-07T07:00:36.321Z"
   },
   {
    "duration": 30,
    "start_time": "2023-05-07T07:00:36.327Z"
   },
   {
    "duration": 4956,
    "start_time": "2023-05-07T07:00:36.358Z"
   },
   {
    "duration": 71,
    "start_time": "2023-05-07T07:00:41.316Z"
   },
   {
    "duration": 1101,
    "start_time": "2023-05-07T07:02:05.555Z"
   },
   {
    "duration": 332,
    "start_time": "2023-05-07T07:03:15.951Z"
   },
   {
    "duration": 1025,
    "start_time": "2023-05-07T07:03:24.981Z"
   },
   {
    "duration": 1431,
    "start_time": "2023-05-07T07:04:02.380Z"
   },
   {
    "duration": 393,
    "start_time": "2023-05-07T07:05:09.880Z"
   },
   {
    "duration": 1137,
    "start_time": "2023-05-07T07:05:40.382Z"
   },
   {
    "duration": 21,
    "start_time": "2023-05-07T07:20:41.525Z"
   },
   {
    "duration": 27,
    "start_time": "2023-05-07T07:20:48.534Z"
   },
   {
    "duration": 4,
    "start_time": "2023-05-07T07:21:57.296Z"
   },
   {
    "duration": 430,
    "start_time": "2023-05-07T07:21:57.368Z"
   },
   {
    "duration": 17,
    "start_time": "2023-05-07T07:21:57.800Z"
   },
   {
    "duration": 44,
    "start_time": "2023-05-07T07:21:57.819Z"
   },
   {
    "duration": 21,
    "start_time": "2023-05-07T07:21:57.865Z"
   },
   {
    "duration": 22,
    "start_time": "2023-05-07T07:21:57.888Z"
   },
   {
    "duration": 35,
    "start_time": "2023-05-07T07:21:57.912Z"
   },
   {
    "duration": 8,
    "start_time": "2023-05-07T07:21:57.949Z"
   },
   {
    "duration": 38,
    "start_time": "2023-05-07T07:21:57.959Z"
   },
   {
    "duration": 44,
    "start_time": "2023-05-07T07:21:57.999Z"
   },
   {
    "duration": 10,
    "start_time": "2023-05-07T07:21:58.046Z"
   },
   {
    "duration": 128,
    "start_time": "2023-05-07T07:21:58.058Z"
   },
   {
    "duration": 138,
    "start_time": "2023-05-07T07:21:58.188Z"
   },
   {
    "duration": 87,
    "start_time": "2023-05-07T07:21:58.328Z"
   },
   {
    "duration": 26,
    "start_time": "2023-05-07T07:21:58.417Z"
   },
   {
    "duration": 1053,
    "start_time": "2023-05-07T07:21:58.445Z"
   },
   {
    "duration": 28,
    "start_time": "2023-05-07T07:22:15.840Z"
   },
   {
    "duration": 1084,
    "start_time": "2023-05-07T07:22:36.391Z"
   },
   {
    "duration": 433,
    "start_time": "2023-05-07T07:22:37.477Z"
   },
   {
    "duration": 15,
    "start_time": "2023-05-07T07:22:37.912Z"
   },
   {
    "duration": 55,
    "start_time": "2023-05-07T07:22:37.929Z"
   },
   {
    "duration": 10,
    "start_time": "2023-05-07T07:22:37.985Z"
   },
   {
    "duration": 31,
    "start_time": "2023-05-07T07:22:37.997Z"
   },
   {
    "duration": 54,
    "start_time": "2023-05-07T07:22:38.030Z"
   },
   {
    "duration": 18,
    "start_time": "2023-05-07T07:22:38.086Z"
   },
   {
    "duration": 21,
    "start_time": "2023-05-07T07:22:38.105Z"
   },
   {
    "duration": 38,
    "start_time": "2023-05-07T07:22:38.128Z"
   },
   {
    "duration": 8,
    "start_time": "2023-05-07T07:22:38.168Z"
   },
   {
    "duration": 366,
    "start_time": "2023-05-07T07:22:38.184Z"
   },
   {
    "duration": 136,
    "start_time": "2023-05-07T07:22:38.552Z"
   },
   {
    "duration": 72,
    "start_time": "2023-05-07T07:22:38.689Z"
   },
   {
    "duration": 44,
    "start_time": "2023-05-07T07:22:38.763Z"
   },
   {
    "duration": 1019,
    "start_time": "2023-05-07T07:22:38.809Z"
   },
   {
    "duration": 39,
    "start_time": "2023-05-07T07:22:43.834Z"
   },
   {
    "duration": 17,
    "start_time": "2023-05-07T07:22:54.289Z"
   },
   {
    "duration": 125,
    "start_time": "2023-05-07T10:08:56.103Z"
   },
   {
    "duration": 112,
    "start_time": "2023-05-07T10:09:21.176Z"
   },
   {
    "duration": 459,
    "start_time": "2023-05-07T10:09:33.289Z"
   },
   {
    "duration": 508,
    "start_time": "2023-05-07T10:10:13.081Z"
   },
   {
    "duration": 520,
    "start_time": "2023-05-07T10:10:22.142Z"
   },
   {
    "duration": 460,
    "start_time": "2023-05-07T10:10:29.295Z"
   },
   {
    "duration": 427,
    "start_time": "2023-05-07T10:10:55.503Z"
   },
   {
    "duration": 25,
    "start_time": "2023-05-07T10:11:03.643Z"
   },
   {
    "duration": 26,
    "start_time": "2023-05-07T10:11:06.216Z"
   },
   {
    "duration": 520,
    "start_time": "2023-05-07T10:11:19.240Z"
   },
   {
    "duration": 217,
    "start_time": "2023-05-07T10:11:36.028Z"
   },
   {
    "duration": 237,
    "start_time": "2023-05-07T10:11:42.105Z"
   },
   {
    "duration": 237,
    "start_time": "2023-05-07T10:12:10.408Z"
   },
   {
    "duration": 270,
    "start_time": "2023-05-07T10:12:24.783Z"
   },
   {
    "duration": 411,
    "start_time": "2023-05-07T10:15:08.708Z"
   },
   {
    "duration": 1390,
    "start_time": "2023-05-07T16:54:54.324Z"
   },
   {
    "duration": 418,
    "start_time": "2023-05-07T16:54:55.716Z"
   },
   {
    "duration": 18,
    "start_time": "2023-05-07T16:54:56.137Z"
   },
   {
    "duration": 53,
    "start_time": "2023-05-07T16:54:56.158Z"
   },
   {
    "duration": 8,
    "start_time": "2023-05-07T16:54:56.213Z"
   },
   {
    "duration": 20,
    "start_time": "2023-05-07T16:54:56.223Z"
   },
   {
    "duration": 44,
    "start_time": "2023-05-07T16:54:56.245Z"
   },
   {
    "duration": 8,
    "start_time": "2023-05-07T16:54:56.291Z"
   },
   {
    "duration": 18,
    "start_time": "2023-05-07T16:54:56.301Z"
   },
   {
    "duration": 34,
    "start_time": "2023-05-07T16:54:56.322Z"
   },
   {
    "duration": 26,
    "start_time": "2023-05-07T16:54:56.358Z"
   },
   {
    "duration": 124,
    "start_time": "2023-05-07T16:54:56.386Z"
   },
   {
    "duration": 125,
    "start_time": "2023-05-07T16:54:56.511Z"
   },
   {
    "duration": 88,
    "start_time": "2023-05-07T16:54:56.638Z"
   },
   {
    "duration": 26,
    "start_time": "2023-05-07T16:54:56.727Z"
   },
   {
    "duration": 1113,
    "start_time": "2023-05-07T16:54:56.754Z"
   },
   {
    "duration": 36,
    "start_time": "2023-05-07T16:54:57.868Z"
   },
   {
    "duration": 255,
    "start_time": "2023-05-07T16:54:57.905Z"
   },
   {
    "duration": 267,
    "start_time": "2023-05-07T16:54:58.162Z"
   },
   {
    "duration": 253,
    "start_time": "2023-05-07T16:54:58.431Z"
   },
   {
    "duration": 433,
    "start_time": "2023-05-07T16:54:58.686Z"
   },
   {
    "duration": 18,
    "start_time": "2023-05-07T16:54:59.120Z"
   },
   {
    "duration": 17,
    "start_time": "2023-05-07T16:54:59.139Z"
   },
   {
    "duration": 31,
    "start_time": "2023-05-07T16:54:59.158Z"
   },
   {
    "duration": 93,
    "start_time": "2023-05-07T16:54:59.190Z"
   },
   {
    "duration": 101,
    "start_time": "2023-05-07T16:54:59.285Z"
   },
   {
    "duration": 99,
    "start_time": "2023-05-07T16:54:59.388Z"
   },
   {
    "duration": 193,
    "start_time": "2023-05-07T16:54:59.492Z"
   },
   {
    "duration": 5,
    "start_time": "2023-05-07T16:54:59.687Z"
   },
   {
    "duration": 5,
    "start_time": "2023-05-07T16:54:59.694Z"
   },
   {
    "duration": 11,
    "start_time": "2023-05-07T16:54:59.701Z"
   },
   {
    "duration": 23,
    "start_time": "2023-05-07T16:54:59.714Z"
   },
   {
    "duration": 11,
    "start_time": "2023-05-07T16:54:59.739Z"
   },
   {
    "duration": 16,
    "start_time": "2023-05-07T16:54:59.752Z"
   },
   {
    "duration": 4,
    "start_time": "2023-05-07T16:54:59.769Z"
   },
   {
    "duration": 23,
    "start_time": "2023-05-07T16:54:59.783Z"
   },
   {
    "duration": 4002,
    "start_time": "2023-05-07T16:54:59.808Z"
   },
   {
    "duration": 23,
    "start_time": "2023-05-07T16:55:03.812Z"
   },
   {
    "duration": 2403,
    "start_time": "2023-05-07T17:12:49.341Z"
   },
   {
    "duration": 433,
    "start_time": "2023-05-07T17:12:51.746Z"
   },
   {
    "duration": 16,
    "start_time": "2023-05-07T17:12:52.181Z"
   },
   {
    "duration": 54,
    "start_time": "2023-05-07T17:12:52.199Z"
   },
   {
    "duration": 10,
    "start_time": "2023-05-07T17:12:52.255Z"
   },
   {
    "duration": 37,
    "start_time": "2023-05-07T17:12:52.266Z"
   },
   {
    "duration": 45,
    "start_time": "2023-05-07T17:12:52.305Z"
   },
   {
    "duration": 9,
    "start_time": "2023-05-07T17:12:52.352Z"
   },
   {
    "duration": 30,
    "start_time": "2023-05-07T17:12:52.363Z"
   },
   {
    "duration": 36,
    "start_time": "2023-05-07T17:12:52.395Z"
   },
   {
    "duration": 10,
    "start_time": "2023-05-07T17:12:52.440Z"
   },
   {
    "duration": 134,
    "start_time": "2023-05-07T17:12:52.452Z"
   },
   {
    "duration": 150,
    "start_time": "2023-05-07T17:12:52.588Z"
   },
   {
    "duration": 81,
    "start_time": "2023-05-07T17:12:52.740Z"
   },
   {
    "duration": 45,
    "start_time": "2023-05-07T17:12:52.823Z"
   },
   {
    "duration": 1103,
    "start_time": "2023-05-07T17:12:52.870Z"
   },
   {
    "duration": 30,
    "start_time": "2023-05-07T17:12:53.975Z"
   },
   {
    "duration": 345,
    "start_time": "2023-05-07T17:12:54.008Z"
   },
   {
    "duration": 245,
    "start_time": "2023-05-07T17:12:54.355Z"
   },
   {
    "duration": 294,
    "start_time": "2023-05-07T17:12:54.602Z"
   },
   {
    "duration": 119,
    "start_time": "2023-05-07T17:12:54.898Z"
   },
   {
    "duration": 0,
    "start_time": "2023-05-07T17:12:55.020Z"
   },
   {
    "duration": 0,
    "start_time": "2023-05-07T17:12:55.021Z"
   },
   {
    "duration": 0,
    "start_time": "2023-05-07T17:12:55.022Z"
   },
   {
    "duration": 0,
    "start_time": "2023-05-07T17:12:55.024Z"
   },
   {
    "duration": 0,
    "start_time": "2023-05-07T17:12:55.025Z"
   },
   {
    "duration": 0,
    "start_time": "2023-05-07T17:12:55.041Z"
   },
   {
    "duration": 0,
    "start_time": "2023-05-07T17:12:55.043Z"
   },
   {
    "duration": 0,
    "start_time": "2023-05-07T17:12:55.044Z"
   },
   {
    "duration": 0,
    "start_time": "2023-05-07T17:12:55.046Z"
   },
   {
    "duration": 0,
    "start_time": "2023-05-07T17:12:55.047Z"
   },
   {
    "duration": 0,
    "start_time": "2023-05-07T17:12:55.048Z"
   },
   {
    "duration": 0,
    "start_time": "2023-05-07T17:12:55.049Z"
   },
   {
    "duration": 0,
    "start_time": "2023-05-07T17:12:55.051Z"
   },
   {
    "duration": 0,
    "start_time": "2023-05-07T17:12:55.052Z"
   },
   {
    "duration": 0,
    "start_time": "2023-05-07T17:12:55.053Z"
   },
   {
    "duration": 0,
    "start_time": "2023-05-07T17:12:55.054Z"
   },
   {
    "duration": 0,
    "start_time": "2023-05-07T17:12:55.055Z"
   },
   {
    "duration": 0,
    "start_time": "2023-05-07T17:12:55.057Z"
   },
   {
    "duration": 464,
    "start_time": "2023-05-07T17:13:11.164Z"
   },
   {
    "duration": 297,
    "start_time": "2023-05-07T17:13:28.646Z"
   },
   {
    "duration": 13,
    "start_time": "2023-05-07T17:15:04.357Z"
   },
   {
    "duration": 19,
    "start_time": "2023-05-07T17:16:04.111Z"
   },
   {
    "duration": 598,
    "start_time": "2023-05-07T17:19:28.108Z"
   },
   {
    "duration": 2286,
    "start_time": "2023-05-07T17:20:45.094Z"
   },
   {
    "duration": 445,
    "start_time": "2023-05-07T17:20:47.382Z"
   },
   {
    "duration": 24,
    "start_time": "2023-05-07T17:20:47.829Z"
   },
   {
    "duration": 44,
    "start_time": "2023-05-07T17:20:47.855Z"
   },
   {
    "duration": 10,
    "start_time": "2023-05-07T17:20:47.901Z"
   },
   {
    "duration": 35,
    "start_time": "2023-05-07T17:20:47.912Z"
   },
   {
    "duration": 46,
    "start_time": "2023-05-07T17:20:47.948Z"
   },
   {
    "duration": 10,
    "start_time": "2023-05-07T17:20:47.996Z"
   },
   {
    "duration": 43,
    "start_time": "2023-05-07T17:20:48.008Z"
   },
   {
    "duration": 37,
    "start_time": "2023-05-07T17:20:48.054Z"
   },
   {
    "duration": 10,
    "start_time": "2023-05-07T17:20:48.093Z"
   },
   {
    "duration": 146,
    "start_time": "2023-05-07T17:20:48.106Z"
   },
   {
    "duration": 161,
    "start_time": "2023-05-07T17:20:48.253Z"
   },
   {
    "duration": 89,
    "start_time": "2023-05-07T17:20:48.416Z"
   },
   {
    "duration": 46,
    "start_time": "2023-05-07T17:20:48.507Z"
   },
   {
    "duration": 1134,
    "start_time": "2023-05-07T17:20:48.555Z"
   },
   {
    "duration": 36,
    "start_time": "2023-05-07T17:20:49.691Z"
   },
   {
    "duration": 283,
    "start_time": "2023-05-07T17:20:49.741Z"
   },
   {
    "duration": 280,
    "start_time": "2023-05-07T17:20:50.026Z"
   },
   {
    "duration": 283,
    "start_time": "2023-05-07T17:20:50.308Z"
   },
   {
    "duration": 522,
    "start_time": "2023-05-07T17:20:50.593Z"
   },
   {
    "duration": 593,
    "start_time": "2023-05-07T17:20:51.117Z"
   },
   {
    "duration": 34,
    "start_time": "2023-05-07T17:20:51.712Z"
   },
   {
    "duration": 22,
    "start_time": "2023-05-07T17:20:51.748Z"
   },
   {
    "duration": 21,
    "start_time": "2023-05-07T17:20:51.772Z"
   },
   {
    "duration": 47,
    "start_time": "2023-05-07T17:20:51.795Z"
   },
   {
    "duration": 104,
    "start_time": "2023-05-07T17:20:51.848Z"
   },
   {
    "duration": 186,
    "start_time": "2023-05-07T17:20:51.957Z"
   },
   {
    "duration": 100,
    "start_time": "2023-05-07T17:20:52.146Z"
   },
   {
    "duration": 19,
    "start_time": "2023-05-07T17:20:52.248Z"
   },
   {
    "duration": 9,
    "start_time": "2023-05-07T17:20:52.269Z"
   },
   {
    "duration": 11,
    "start_time": "2023-05-07T17:20:52.280Z"
   },
   {
    "duration": 6,
    "start_time": "2023-05-07T17:20:52.293Z"
   },
   {
    "duration": 41,
    "start_time": "2023-05-07T17:20:52.301Z"
   },
   {
    "duration": 13,
    "start_time": "2023-05-07T17:20:52.344Z"
   },
   {
    "duration": 4,
    "start_time": "2023-05-07T17:20:52.359Z"
   },
   {
    "duration": 35,
    "start_time": "2023-05-07T17:20:52.364Z"
   },
   {
    "duration": 4495,
    "start_time": "2023-05-07T17:20:52.401Z"
   },
   {
    "duration": 23,
    "start_time": "2023-05-07T17:20:56.898Z"
   }
  ],
  "kernelspec": {
   "display_name": "Python 3 (ipykernel)",
   "language": "python",
   "name": "python3"
  },
  "language_info": {
   "codemirror_mode": {
    "name": "ipython",
    "version": 3
   },
   "file_extension": ".py",
   "mimetype": "text/x-python",
   "name": "python",
   "nbconvert_exporter": "python",
   "pygments_lexer": "ipython3",
   "version": "3.10.9"
  },
  "toc": {
   "base_numbering": 1,
   "nav_menu": {},
   "number_sections": true,
   "sideBar": true,
   "skip_h1_title": true,
   "title_cell": "Table of Contents",
   "title_sidebar": "Contents",
   "toc_cell": false,
   "toc_position": {
    "height": "calc(100% - 180px)",
    "left": "10px",
    "top": "150px",
    "width": "371px"
   },
   "toc_section_display": true,
   "toc_window_display": true
  }
 },
 "nbformat": 4,
 "nbformat_minor": 2
}
