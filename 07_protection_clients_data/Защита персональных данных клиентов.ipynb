{
 "cells": [
  {
   "cell_type": "markdown",
   "metadata": {
    "toc": true
   },
   "source": [
    "<h1>Содержание<span class=\"tocSkip\"></span></h1>\n",
    "<div class=\"toc\"><ul class=\"toc-item\"><li><span><a href=\"#Загрузка-и-изучение-данных\" data-toc-modified-id=\"Загрузка-и-изучение-данных-1\"><span class=\"toc-item-num\">1&nbsp;&nbsp;</span>Загрузка и изучение данных</a></span></li><li><span><a href=\"#Умножение-матриц\" data-toc-modified-id=\"Умножение-матриц-2\"><span class=\"toc-item-num\">2&nbsp;&nbsp;</span>Умножение матриц</a></span></li><li><span><a href=\"#Алгоритм-преобразования\" data-toc-modified-id=\"Алгоритм-преобразования-3\"><span class=\"toc-item-num\">3&nbsp;&nbsp;</span>Алгоритм преобразования</a></span></li><li><span><a href=\"#Проверка-алгоритма\" data-toc-modified-id=\"Проверка-алгоритма-4\"><span class=\"toc-item-num\">4&nbsp;&nbsp;</span>Проверка алгоритма</a></span></li><li><span><a href=\"#Чек-лист-проверки\" data-toc-modified-id=\"Чек-лист-проверки-5\"><span class=\"toc-item-num\">5&nbsp;&nbsp;</span>Чек-лист проверки</a></span></li></ul></div>"
   ]
  },
  {
   "cell_type": "markdown",
   "metadata": {},
   "source": [
    "# Защита персональных данных клиентов"
   ]
  },
  {
   "cell_type": "markdown",
   "metadata": {},
   "source": [
    "Вам нужно защитить данные клиентов страховой компании «Хоть потоп». Разработайте такой метод преобразования данных, чтобы по ним было сложно восстановить персональную информацию. Обоснуйте корректность его работы.\n",
    "\n",
    "Нужно защитить данные, чтобы при преобразовании качество моделей машинного обучения не ухудшилось. Подбирать наилучшую модель не требуется."
   ]
  },
  {
   "cell_type": "markdown",
   "metadata": {},
   "source": [
    "**Импорт библиотек**"
   ]
  },
  {
   "cell_type": "code",
   "execution_count": 1,
   "metadata": {},
   "outputs": [],
   "source": [
    "import os #импорт библиотеки os (для проверки существования пути к файлу)\n",
    "import math #импорт библиотеки math (для использования рандома)\n",
    "import datetime #импорт библиотеки datetime (для актуальной даты и преобразования формата для шифрвоания)\n",
    "\n",
    "import pandas as pd #импорт библиотеки pandas (работа с таблицами)\n",
    "import numpy as np #импорт библиотеки numpy (вычисления)\n",
    "import matplotlib.pyplot as plt #импорт библиотеки matplotlib (графика)\n",
    "from sklearn.metrics import r2_score #импорт метрики R2 (оценка качества предсказаний)"
   ]
  },
  {
   "cell_type": "markdown",
   "metadata": {},
   "source": [
    "## Загрузка и изучение данных"
   ]
  },
  {
   "cell_type": "markdown",
   "metadata": {},
   "source": [
    "**Загрузка данных**"
   ]
  },
  {
   "cell_type": "code",
   "execution_count": 2,
   "metadata": {},
   "outputs": [],
   "source": [
    "#путь для ревью\n",
    "pth1='/datasets/insurance.csv'\n",
    "\n",
    "#путь для работы\n",
    "pth2='insurance.csv'\n",
    "\n",
    "#выбор пути если он существует методом os\n",
    "if os.path.exists(pth1):\n",
    "    #загрузка данных методом read_csv\n",
    "    df=df=pd.read_csv(pth1)\n",
    "elif os.path.exists(pth2):\n",
    "    df=df=pd.read_csv(pth2)\n",
    "else:\n",
    "    print('Something is wrong')"
   ]
  },
  {
   "cell_type": "markdown",
   "metadata": {},
   "source": [
    "**Изучение данных**\n",
    "\n",
    "Посмотрим на импортированный датасет различными методами."
   ]
  },
  {
   "cell_type": "code",
   "execution_count": 3,
   "metadata": {},
   "outputs": [
    {
     "name": "stdout",
     "output_type": "stream",
     "text": [
      "<class 'pandas.core.frame.DataFrame'>\n",
      "RangeIndex: 5000 entries, 0 to 4999\n",
      "Data columns (total 5 columns):\n",
      " #   Column             Non-Null Count  Dtype  \n",
      "---  ------             --------------  -----  \n",
      " 0   Пол                5000 non-null   int64  \n",
      " 1   Возраст            5000 non-null   float64\n",
      " 2   Зарплата           5000 non-null   float64\n",
      " 3   Члены семьи        5000 non-null   int64  \n",
      " 4   Страховые выплаты  5000 non-null   int64  \n",
      "dtypes: float64(2), int64(3)\n",
      "memory usage: 195.4 KB\n"
     ]
    }
   ],
   "source": [
    "#вызов информации о датасете методом info()\n",
    "df.info()"
   ]
  },
  {
   "cell_type": "markdown",
   "metadata": {},
   "source": [
    "Отсюда видно: количество строк - 5000, пропусков нет. По условию задачи, столбцы пол, возраст, зарплата, члены семьи (количество членов семьи) - это признаки, а целевой признак - страховые выплаты (количество страховых выплат за последние 5 лет)."
   ]
  },
  {
   "cell_type": "code",
   "execution_count": 4,
   "metadata": {},
   "outputs": [
    {
     "data": {
      "text/html": [
       "<div>\n",
       "<style scoped>\n",
       "    .dataframe tbody tr th:only-of-type {\n",
       "        vertical-align: middle;\n",
       "    }\n",
       "\n",
       "    .dataframe tbody tr th {\n",
       "        vertical-align: top;\n",
       "    }\n",
       "\n",
       "    .dataframe thead th {\n",
       "        text-align: right;\n",
       "    }\n",
       "</style>\n",
       "<table border=\"1\" class=\"dataframe\">\n",
       "  <thead>\n",
       "    <tr style=\"text-align: right;\">\n",
       "      <th></th>\n",
       "      <th>Пол</th>\n",
       "      <th>Возраст</th>\n",
       "      <th>Зарплата</th>\n",
       "      <th>Члены семьи</th>\n",
       "      <th>Страховые выплаты</th>\n",
       "    </tr>\n",
       "  </thead>\n",
       "  <tbody>\n",
       "    <tr>\n",
       "      <th>count</th>\n",
       "      <td>5000.000000</td>\n",
       "      <td>5000.000000</td>\n",
       "      <td>5000.000000</td>\n",
       "      <td>5000.000000</td>\n",
       "      <td>5000.000000</td>\n",
       "    </tr>\n",
       "    <tr>\n",
       "      <th>mean</th>\n",
       "      <td>0.499000</td>\n",
       "      <td>30.952800</td>\n",
       "      <td>39916.360000</td>\n",
       "      <td>1.194200</td>\n",
       "      <td>0.148000</td>\n",
       "    </tr>\n",
       "    <tr>\n",
       "      <th>std</th>\n",
       "      <td>0.500049</td>\n",
       "      <td>8.440807</td>\n",
       "      <td>9900.083569</td>\n",
       "      <td>1.091387</td>\n",
       "      <td>0.463183</td>\n",
       "    </tr>\n",
       "    <tr>\n",
       "      <th>min</th>\n",
       "      <td>0.000000</td>\n",
       "      <td>18.000000</td>\n",
       "      <td>5300.000000</td>\n",
       "      <td>0.000000</td>\n",
       "      <td>0.000000</td>\n",
       "    </tr>\n",
       "    <tr>\n",
       "      <th>25%</th>\n",
       "      <td>0.000000</td>\n",
       "      <td>24.000000</td>\n",
       "      <td>33300.000000</td>\n",
       "      <td>0.000000</td>\n",
       "      <td>0.000000</td>\n",
       "    </tr>\n",
       "    <tr>\n",
       "      <th>50%</th>\n",
       "      <td>0.000000</td>\n",
       "      <td>30.000000</td>\n",
       "      <td>40200.000000</td>\n",
       "      <td>1.000000</td>\n",
       "      <td>0.000000</td>\n",
       "    </tr>\n",
       "    <tr>\n",
       "      <th>75%</th>\n",
       "      <td>1.000000</td>\n",
       "      <td>37.000000</td>\n",
       "      <td>46600.000000</td>\n",
       "      <td>2.000000</td>\n",
       "      <td>0.000000</td>\n",
       "    </tr>\n",
       "    <tr>\n",
       "      <th>max</th>\n",
       "      <td>1.000000</td>\n",
       "      <td>65.000000</td>\n",
       "      <td>79000.000000</td>\n",
       "      <td>6.000000</td>\n",
       "      <td>5.000000</td>\n",
       "    </tr>\n",
       "  </tbody>\n",
       "</table>\n",
       "</div>"
      ],
      "text/plain": [
       "               Пол      Возраст      Зарплата  Члены семьи  Страховые выплаты\n",
       "count  5000.000000  5000.000000   5000.000000  5000.000000        5000.000000\n",
       "mean      0.499000    30.952800  39916.360000     1.194200           0.148000\n",
       "std       0.500049     8.440807   9900.083569     1.091387           0.463183\n",
       "min       0.000000    18.000000   5300.000000     0.000000           0.000000\n",
       "25%       0.000000    24.000000  33300.000000     0.000000           0.000000\n",
       "50%       0.000000    30.000000  40200.000000     1.000000           0.000000\n",
       "75%       1.000000    37.000000  46600.000000     2.000000           0.000000\n",
       "max       1.000000    65.000000  79000.000000     6.000000           5.000000"
      ]
     },
     "execution_count": 4,
     "metadata": {},
     "output_type": "execute_result"
    }
   ],
   "source": [
    "#вызов информации методом describe()\n",
    "df.describe()"
   ]
  },
  {
   "cell_type": "markdown",
   "metadata": {},
   "source": [
    "Отсюда видно, что:\n",
    "\n",
    "    Количество мужчин/женщин одинаковое;\n",
    "    Средний возраст - около 31 года;\n",
    "    Разброс зарплат не очень большой: в пределах от 5300 до 79000, со средней в 39916;\n",
    "    Количество членов семьи застрахованного в среднем 1.2, а в целом от 0 до 6;\n",
    "    Страховые выплаты закономерно производятся редко: 0.75-квантиль - это 0. При этом есть люди, получившие выплату 5 раз."
   ]
  },
  {
   "cell_type": "code",
   "execution_count": 6,
   "metadata": {},
   "outputs": [
    {
     "data": {
      "image/png": "[encoded data removed]",
      "text/plain": [
       "<Figure size 432x288 with 1 Axes>"
      ]
     },
     "metadata": {
      "needs_background": "light"
     },
     "output_type": "display_data"
    },
    {
     "data": {
      "image/png": "[encoded data removed]",
      "text/plain": [
       "<Figure size 432x288 with 1 Axes>"
      ]
     },
     "metadata": {
      "needs_background": "light"
     },
     "output_type": "display_data"
    },
    {
     "data": {
      "image/png": "[encoded data removed]",
      "text/plain": [
       "<Figure size 432x288 with 1 Axes>"
      ]
     },
     "metadata": {
      "needs_background": "light"
     },
     "output_type": "display_data"
    },
    {
     "data": {
      "image/png": "[encoded data removed]",
      "text/plain": [
       "<Figure size 432x288 with 1 Axes>"
      ]
     },
     "metadata": {
      "needs_background": "light"
     },
     "output_type": "display_data"
    },
    {
     "data": {
      "image/png": "[encoded data removed]",
      "text/plain": [
       "<Figure size 432x288 with 1 Axes>"
      ]
     },
     "metadata": {
      "needs_background": "light"
     },
     "output_type": "display_data"
    }
   ],
   "source": [
    "#вывод гистограмм распределений значений по столбцам\n",
    "\n",
    "for i in df.columns:\n",
    "    plt.hist(df[i])\n",
    "    plt.xlabel('Значение')\n",
    "    plt.ylabel('Количество значений')\n",
    "    plt.title('Распределение по столбцу: '+i)\n",
    "    plt.show()"
   ]
  },
  {
   "cell_type": "markdown",
   "metadata": {},
   "source": [
    "В принципе здесь наглядно подтверждаются выводы, сделанные вызовом метода describe()"
   ]
  },
  {
   "cell_type": "code",
   "execution_count": 7,
   "metadata": {
    "scrolled": true
   },
   "outputs": [
    {
     "data": {
      "text/html": [
       "<div>\n",
       "<style scoped>\n",
       "    .dataframe tbody tr th:only-of-type {\n",
       "        vertical-align: middle;\n",
       "    }\n",
       "\n",
       "    .dataframe tbody tr th {\n",
       "        vertical-align: top;\n",
       "    }\n",
       "\n",
       "    .dataframe thead th {\n",
       "        text-align: right;\n",
       "    }\n",
       "</style>\n",
       "<table border=\"1\" class=\"dataframe\">\n",
       "  <thead>\n",
       "    <tr style=\"text-align: right;\">\n",
       "      <th></th>\n",
       "      <th>Пол</th>\n",
       "      <th>Возраст</th>\n",
       "      <th>Зарплата</th>\n",
       "      <th>Члены семьи</th>\n",
       "      <th>Страховые выплаты</th>\n",
       "    </tr>\n",
       "  </thead>\n",
       "  <tbody>\n",
       "    <tr>\n",
       "      <th>0</th>\n",
       "      <td>1</td>\n",
       "      <td>41.0</td>\n",
       "      <td>49600.0</td>\n",
       "      <td>1</td>\n",
       "      <td>0</td>\n",
       "    </tr>\n",
       "    <tr>\n",
       "      <th>1</th>\n",
       "      <td>0</td>\n",
       "      <td>46.0</td>\n",
       "      <td>38000.0</td>\n",
       "      <td>1</td>\n",
       "      <td>1</td>\n",
       "    </tr>\n",
       "    <tr>\n",
       "      <th>2</th>\n",
       "      <td>0</td>\n",
       "      <td>29.0</td>\n",
       "      <td>21000.0</td>\n",
       "      <td>0</td>\n",
       "      <td>0</td>\n",
       "    </tr>\n",
       "    <tr>\n",
       "      <th>3</th>\n",
       "      <td>0</td>\n",
       "      <td>21.0</td>\n",
       "      <td>41700.0</td>\n",
       "      <td>2</td>\n",
       "      <td>0</td>\n",
       "    </tr>\n",
       "    <tr>\n",
       "      <th>4</th>\n",
       "      <td>1</td>\n",
       "      <td>28.0</td>\n",
       "      <td>26100.0</td>\n",
       "      <td>0</td>\n",
       "      <td>0</td>\n",
       "    </tr>\n",
       "    <tr>\n",
       "      <th>5</th>\n",
       "      <td>1</td>\n",
       "      <td>43.0</td>\n",
       "      <td>41000.0</td>\n",
       "      <td>2</td>\n",
       "      <td>1</td>\n",
       "    </tr>\n",
       "    <tr>\n",
       "      <th>6</th>\n",
       "      <td>1</td>\n",
       "      <td>39.0</td>\n",
       "      <td>39700.0</td>\n",
       "      <td>2</td>\n",
       "      <td>0</td>\n",
       "    </tr>\n",
       "    <tr>\n",
       "      <th>7</th>\n",
       "      <td>1</td>\n",
       "      <td>25.0</td>\n",
       "      <td>38600.0</td>\n",
       "      <td>4</td>\n",
       "      <td>0</td>\n",
       "    </tr>\n",
       "    <tr>\n",
       "      <th>8</th>\n",
       "      <td>1</td>\n",
       "      <td>36.0</td>\n",
       "      <td>49700.0</td>\n",
       "      <td>1</td>\n",
       "      <td>0</td>\n",
       "    </tr>\n",
       "    <tr>\n",
       "      <th>9</th>\n",
       "      <td>1</td>\n",
       "      <td>32.0</td>\n",
       "      <td>51700.0</td>\n",
       "      <td>1</td>\n",
       "      <td>0</td>\n",
       "    </tr>\n",
       "  </tbody>\n",
       "</table>\n",
       "</div>"
      ],
      "text/plain": [
       "   Пол  Возраст  Зарплата  Члены семьи  Страховые выплаты\n",
       "0    1     41.0   49600.0            1                  0\n",
       "1    0     46.0   38000.0            1                  1\n",
       "2    0     29.0   21000.0            0                  0\n",
       "3    0     21.0   41700.0            2                  0\n",
       "4    1     28.0   26100.0            0                  0\n",
       "5    1     43.0   41000.0            2                  1\n",
       "6    1     39.0   39700.0            2                  0\n",
       "7    1     25.0   38600.0            4                  0\n",
       "8    1     36.0   49700.0            1                  0\n",
       "9    1     32.0   51700.0            1                  0"
      ]
     },
     "execution_count": 7,
     "metadata": {},
     "output_type": "execute_result"
    }
   ],
   "source": [
    "#вывод первых строк датасета методом head()\n",
    "df.head(10)"
   ]
  },
  {
   "cell_type": "markdown",
   "metadata": {},
   "source": [
    "Всё без сюрпризов. Невыясненными обстоятельствами остаются:\n",
    "\n",
    "    Обозначение пола: 1 - это кто, а 0 - это кто? (в принципе в рамках задачи это неважно);\n",
    "    Зачем/почему столбец Возраст имеет формат данных float, когда значения лет - целочисленные;\n",
    "    Аналогично по зарплатам.\n",
    "\n",
    "Преобразуем тип данных для столбца возраста и зарплаты."
   ]
  },
  {
   "cell_type": "code",
   "execution_count": 8,
   "metadata": {},
   "outputs": [
    {
     "name": "stdout",
     "output_type": "stream",
     "text": [
      "<class 'pandas.core.frame.DataFrame'>\n",
      "RangeIndex: 5000 entries, 0 to 4999\n",
      "Data columns (total 5 columns):\n",
      " #   Column             Non-Null Count  Dtype\n",
      "---  ------             --------------  -----\n",
      " 0   Пол                5000 non-null   int64\n",
      " 1   Возраст            5000 non-null   int64\n",
      " 2   Зарплата           5000 non-null   int64\n",
      " 3   Члены семьи        5000 non-null   int64\n",
      " 4   Страховые выплаты  5000 non-null   int64\n",
      "dtypes: int64(5)\n",
      "memory usage: 195.4 KB\n"
     ]
    }
   ],
   "source": [
    "#преобразование типа данных методом astype(int)\n",
    "df['Возраст']=df['Возраст'].astype(int)\n",
    "df['Зарплата']=df['Зарплата'].astype(int)\n",
    "\n",
    "#вывод метода info() для проверки\n",
    "df.info()"
   ]
  },
  {
   "cell_type": "markdown",
   "metadata": {},
   "source": [
    "**Вывод по блоку 1. Загрузка и изучение данных**\n",
    "\n",
    "    Пропуски - отсутствуют;\n",
    "    Количество мужчин/женщин одинаковое (при этом неясно кто из них кто - 1 или 0, но это неважно);\n",
    "    Средний возраст - около 31 года;\n",
    "    Разброс зарплат не очень большой: в пределах от 5300 до 79000, со средней в 39916;\n",
    "    Количество членов семьи застрахованного в среднем 1.2, а в целом от 0 до 6;\n",
    "    Страховые выплаты закономерно производятся редко: 0.75-квантиль - это 0. При этом есть люди, получившие выплату 5 раз;\n",
    "    Заменён тип данных float на int для столбцов Возраст, Зарплата"
   ]
  },
  {
   "cell_type": "markdown",
   "metadata": {},
   "source": [
    "## Умножение матриц"
   ]
  },
  {
   "cell_type": "markdown",
   "metadata": {},
   "source": [
    "Обозначения:\n",
    "\n",
    "- $X$ — матрица признаков (нулевой столбец состоит из единиц)\n",
    "\n",
    "- $y$ — вектор целевого признака\n",
    "\n",
    "- $P$ — матрица, на которую умножаются признаки\n",
    "\n",
    "- $w$ — вектор весов линейной регрессии (нулевой элемент равен сдвигу)"
   ]
  },
  {
   "cell_type": "markdown",
   "metadata": {},
   "source": [
    "Предсказания:\n",
    "\n",
    "$$\n",
    "a = Xw\n",
    "$$\n",
    "\n",
    "Задача обучения:\n",
    "\n",
    "$$\n",
    "w = \\arg\\min_w MSE(Xw, y)\n",
    "$$\n",
    "\n",
    "Формула обучения:\n",
    "\n",
    "$$\n",
    "w = (X^T X)^{-1} X^T y\n",
    "$$"
   ]
  },
  {
   "cell_type": "markdown",
   "metadata": {},
   "source": [
    "Перейдём к обучению модели линейной регрессии. Сначала для исходных данных:"
   ]
  },
  {
   "cell_type": "code",
   "execution_count": 9,
   "metadata": {},
   "outputs": [],
   "source": [
    "#разделение признаков\n",
    "features_1=df.drop('Страховые выплаты',axis=1)\n",
    "target_1=df['Страховые выплаты']"
   ]
  },
  {
   "cell_type": "code",
   "execution_count": 10,
   "metadata": {},
   "outputs": [],
   "source": [
    "#определение класса линейной регрессии:\n",
    "class LinearRegression:\n",
    "    def fit(self,train_features,train_target):\n",
    "        X=np.concatenate((np.ones((train_features.shape[0],1)),\n",
    "                          train_features),axis=1)\n",
    "        y=train_target\n",
    "        w=np.linalg.inv(X.T@X)@X.T@y\n",
    "        self.w=w[1:]\n",
    "        self.w0=w[0]\n",
    "        \n",
    "    def predict(self,test_features):\n",
    "        return test_features.dot(self.w)+self.w0\n",
    "    \n"
   ]
  },
  {
   "cell_type": "code",
   "execution_count": 11,
   "metadata": {
    "scrolled": true
   },
   "outputs": [
    {
     "data": {
      "text/plain": [
       "0.42494550308169177"
      ]
     },
     "execution_count": 11,
     "metadata": {},
     "output_type": "execute_result"
    }
   ],
   "source": [
    "#обучение модели\n",
    "model_1=LinearRegression()\n",
    "model_1.fit(features_1,target_1)\n",
    "predictions_1=model_1.predict(features_1)\n",
    "r2_1=r2_score(target_1,predictions_1)\n",
    "r2_1"
   ]
  },
  {
   "cell_type": "markdown",
   "metadata": {},
   "source": [
    "Качество предсказаний на обучающей выборке для исходных данных по критерию r2 = 0.42.\n",
    "\n",
    "Теперь умножим матрицу признаков на обратимую матрицу и посмотрим на результат. Для этого используем инструмент numpy random nornal для создания обратимой матрицы размером 4х4 и прогоним цикл обучения и предсказания несколько раз."
   ]
  },
  {
   "cell_type": "code",
   "execution_count": 12,
   "metadata": {
    "scrolled": false
   },
   "outputs": [
    {
     "name": "stdout",
     "output_type": "stream",
     "text": [
      "R2 для предсказаний после умножения: [0.42494550308169243, 0.42494550308166246, 0.42494550308169143, 0.42494550308078216, 0.4249455030813464, 0.4249455030816943, 0.42494550308169365, 0.42494550308169254, 0.42494550308169143, 0.42494550308168944]\n",
      "\n",
      "Равны ли r2 до и после умножения? [False, False, True, False, False, False, False, False, True, False]\n",
      "\n",
      "Соотношение r2 до и после умножения: [1.0000000000000016, 0.999999999999931, 0.9999999999999992, 0.9999999999978595, 0.9999999999991872, 1.000000000000006, 1.0000000000000044, 1.0000000000000018, 0.9999999999999992, 0.9999999999999946]\n"
     ]
    }
   ],
   "source": [
    "r2_2=[]\n",
    "r2_close=[]\n",
    "r2_delta=[]\n",
    "for i in range(10):\n",
    "    #Подбор обратимой матрицы\n",
    "    A=np.random.normal(0,10,(4, 4))\n",
    "    #проверка матрицы на обратимость: вычисление определителя матрицы и сравнение с 0\n",
    "    if np.linalg.det(A)!=0:\n",
    "        #переопределение признаков\n",
    "        features_2=features_1@A\n",
    "        target_2=target_1\n",
    "\n",
    "        #обучение модели\n",
    "        model_2=LinearRegression()\n",
    "        model_2.fit(features_2,target_2)\n",
    "        predictions_2=model_2.predict(features_2)\n",
    "        r2_2.append(r2_score(target_2,predictions_2))\n",
    "        r2_delta.append(r2_2[i]/r2_1)\n",
    "        r2_close.append(math.isclose(r2_2[i],r2_1,rel_tol=1e-15))\n",
    "    else:\n",
    "        print('матрица необратима')\n",
    "print('R2 для предсказаний после умножения:',r2_2)\n",
    "print()\n",
    "print('Равны ли r2 до и после умножения?',r2_close)\n",
    "print()\n",
    "print('Соотношение r2 до и после умножения:',r2_delta)\n",
    "    "
   ]
  },
  {
   "cell_type": "code",
   "execution_count": 13,
   "metadata": {
    "scrolled": true
   },
   "outputs": [
    {
     "data": {
      "text/html": [
       "<div>\n",
       "<style scoped>\n",
       "    .dataframe tbody tr th:only-of-type {\n",
       "        vertical-align: middle;\n",
       "    }\n",
       "\n",
       "    .dataframe tbody tr th {\n",
       "        vertical-align: top;\n",
       "    }\n",
       "\n",
       "    .dataframe thead th {\n",
       "        text-align: right;\n",
       "    }\n",
       "</style>\n",
       "<table border=\"1\" class=\"dataframe\">\n",
       "  <thead>\n",
       "    <tr style=\"text-align: right;\">\n",
       "      <th></th>\n",
       "      <th>0</th>\n",
       "      <th>1</th>\n",
       "      <th>2</th>\n",
       "      <th>3</th>\n",
       "    </tr>\n",
       "  </thead>\n",
       "  <tbody>\n",
       "    <tr>\n",
       "      <th>0</th>\n",
       "      <td>466739.368975</td>\n",
       "      <td>-196800.043294</td>\n",
       "      <td>-338084.259788</td>\n",
       "      <td>70153.544898</td>\n",
       "    </tr>\n",
       "    <tr>\n",
       "      <th>1</th>\n",
       "      <td>357785.961273</td>\n",
       "      <td>-150820.505492</td>\n",
       "      <td>-258911.641286</td>\n",
       "      <td>53684.340625</td>\n",
       "    </tr>\n",
       "    <tr>\n",
       "      <th>2</th>\n",
       "      <td>197786.535736</td>\n",
       "      <td>-83361.710754</td>\n",
       "      <td>-143046.439534</td>\n",
       "      <td>29660.528456</td>\n",
       "    </tr>\n",
       "    <tr>\n",
       "      <th>3</th>\n",
       "      <td>392172.011750</td>\n",
       "      <td>-165392.529536</td>\n",
       "      <td>-284346.506024</td>\n",
       "      <td>59004.752067</td>\n",
       "    </tr>\n",
       "    <tr>\n",
       "      <th>4</th>\n",
       "      <td>245711.687840</td>\n",
       "      <td>-103588.790297</td>\n",
       "      <td>-177851.776674</td>\n",
       "      <td>36904.289077</td>\n",
       "    </tr>\n",
       "    <tr>\n",
       "      <th>...</th>\n",
       "      <td>...</td>\n",
       "      <td>...</td>\n",
       "      <td>...</td>\n",
       "      <td>...</td>\n",
       "    </tr>\n",
       "    <tr>\n",
       "      <th>4995</th>\n",
       "      <td>335887.022654</td>\n",
       "      <td>-141633.768729</td>\n",
       "      <td>-243368.895503</td>\n",
       "      <td>50477.537203</td>\n",
       "    </tr>\n",
       "    <tr>\n",
       "      <th>4996</th>\n",
       "      <td>492940.730519</td>\n",
       "      <td>-207860.017973</td>\n",
       "      <td>-357224.243977</td>\n",
       "      <td>74133.082970</td>\n",
       "    </tr>\n",
       "    <tr>\n",
       "      <th>4997</th>\n",
       "      <td>318852.560572</td>\n",
       "      <td>-134467.241719</td>\n",
       "      <td>-231146.443984</td>\n",
       "      <td>47954.245791</td>\n",
       "    </tr>\n",
       "    <tr>\n",
       "      <th>4998</th>\n",
       "      <td>307596.349060</td>\n",
       "      <td>-129731.316224</td>\n",
       "      <td>-222976.082113</td>\n",
       "      <td>46249.997723</td>\n",
       "    </tr>\n",
       "    <tr>\n",
       "      <th>4999</th>\n",
       "      <td>381965.282777</td>\n",
       "      <td>-161071.395049</td>\n",
       "      <td>-276782.650292</td>\n",
       "      <td>57443.862861</td>\n",
       "    </tr>\n",
       "  </tbody>\n",
       "</table>\n",
       "<p>5000 rows × 4 columns</p>\n",
       "</div>"
      ],
      "text/plain": [
       "                  0              1              2             3\n",
       "0     466739.368975 -196800.043294 -338084.259788  70153.544898\n",
       "1     357785.961273 -150820.505492 -258911.641286  53684.340625\n",
       "2     197786.535736  -83361.710754 -143046.439534  29660.528456\n",
       "3     392172.011750 -165392.529536 -284346.506024  59004.752067\n",
       "4     245711.687840 -103588.790297 -177851.776674  36904.289077\n",
       "...             ...            ...            ...           ...\n",
       "4995  335887.022654 -141633.768729 -243368.895503  50477.537203\n",
       "4996  492940.730519 -207860.017973 -357224.243977  74133.082970\n",
       "4997  318852.560572 -134467.241719 -231146.443984  47954.245791\n",
       "4998  307596.349060 -129731.316224 -222976.082113  46249.997723\n",
       "4999  381965.282777 -161071.395049 -276782.650292  57443.862861\n",
       "\n",
       "[5000 rows x 4 columns]"
      ]
     },
     "execution_count": 13,
     "metadata": {},
     "output_type": "execute_result"
    }
   ],
   "source": [
    "features_2"
   ]
  },
  {
   "cell_type": "markdown",
   "metadata": {},
   "source": [
    "**Ответ:** Видно, что значения r2 получаются разными, однако, видимо, это идёт погрешность округлений в расчётах, так как порядок отличительных значений наблюдается на двеннадцатом знаке после запятой, и различия в реальности не существует. Проверим данное предположение:"
   ]
  },
  {
   "cell_type": "markdown",
   "metadata": {},
   "source": [
    "**Обоснование:** \n",
    "\n",
    "Некоторые свойства матриц:\n",
    "\n",
    "$$\n",
    "(AB)^T=A^T B^T\n",
    "$$\n",
    "\n",
    "$$\n",
    "(AB)^{-1}=A^{-1} B^{-1}\n",
    "$$\n",
    "\n",
    "$$\n",
    "A A^{-1}= E\n",
    "$$\n",
    "\n",
    "$$\n",
    "(ABC)^{-1}=C^{-1} B^{-1} A^{-1}  \n",
    "$$\n",
    "Произведём преобразование формул, раскрыв все скобки, используя упомянутые выше свойства матриц. Рассмотрим два случая: предсказания a для исходной матрицы X и предсказания a1 для матрицы X, умноженной на обратимую матрицу A:\n",
    "\n",
    "Первый случай:\n",
    "$$\n",
    "a=Xw=X (X^T X)^{-1} X^T y\n",
    "$$\n",
    "Получается, предсказания a равны целевым признакам y, что логично: мы же обучаем модель на оубчающей выборке на целевом признаке, а затем используем w, при котором выполняется задача обучения (см. выше)\n",
    "\n",
    "Теперь второй случай: матрица X умножается на обратимую матрицу A:\n",
    "\n",
    "$$\n",
    "a1=XAw1=XA ((XA)^T XA)^{-1} (XA)^T) y= XA(A^T X^T X A)^{-1}A^T X^T y= X A A^{-1} (X^T X)^{-1} (A^T)^{-1} A^T X^T y\n",
    "=X E (X^T X)^{-1} E X^T y=X (X^T X)^{-1} X^T y\n",
    "$$\n",
    "\n",
    "Таким образом, a1=a вне зависимости от умножения матрицы признаков X на обратимую матрицу A."
   ]
  },
  {
   "cell_type": "markdown",
   "metadata": {},
   "source": [
    "## Алгоритм преобразования"
   ]
  },
  {
   "cell_type": "markdown",
   "metadata": {},
   "source": [
    "**Алгоритм**\n",
    "\n",
    "На основе проверки предыдущего пункта, предлагается алгоритм: умножение матрицы признаков на обратимую матрицу-ключ, затем обучение линейной регрессии, проверка r2_score, и уже после вернём значения признаков, умножив матрицу признаков на обратную матрицу-ключ. Для дополнительной \"защиты\" создадим ключ шифр следующим образом: матрицу-код умножим на значение, которое зависит от даты."
   ]
  },
  {
   "cell_type": "markdown",
   "metadata": {},
   "source": [
    "**Обоснование**\n",
    "\n",
    "На основе предыдущей выкладки получено: умножение матрицы на обратимую и использовании уже умноенной матрицы признаков не влияет на качество предсказаний."
   ]
  },
  {
   "cell_type": "markdown",
   "metadata": {},
   "source": [
    "## Проверка алгоритма"
   ]
  },
  {
   "cell_type": "code",
   "execution_count": 14,
   "metadata": {},
   "outputs": [
    {
     "name": "stdout",
     "output_type": "stream",
     "text": [
      "[[-5.00000000e-01  1.00000000e+00 -5.00000000e-01  1.80411242e-16]\n",
      " [ 1.00000000e+00 -7.25000000e+00  5.50000000e+00 -2.50000000e-01]\n",
      " [-5.00000000e-01  5.50000000e+00 -4.50000000e+00  5.00000000e-01]\n",
      " [ 1.11022302e-16 -2.50000000e-01  5.00000000e-01 -2.50000000e-01]]\n"
     ]
    }
   ],
   "source": [
    "#создание матрицы-ключа B\n",
    "B=np.array([\n",
    "    [-1,2,3,4],\n",
    "    [2,3,4,5],\n",
    "    [3,4,5,6],\n",
    "    [4,5,6,3]\n",
    "])\n",
    "#проверка обратимости матрицы B\n",
    "print(np.linalg.inv(B))"
   ]
  },
  {
   "cell_type": "code",
   "execution_count": 15,
   "metadata": {},
   "outputs": [],
   "source": [
    "#редактирование матрицы-ключа умножением (не скалярным) на преобразованное значение даты\n",
    "#выбор сегодняшней даты\n",
    "today=datetime.date.today()\n",
    "#преобразование datetime в число с разделением значения года на произведение месяца и числа\n",
    "today_code=int(today.strftime('%Y'))/(100*int(today.strftime('%m')*int(today.strftime('%d'))))\n",
    "#умножение B на абракадабру из числа today_code\n",
    "B=B*today_code"
   ]
  },
  {
   "cell_type": "code",
   "execution_count": 16,
   "metadata": {},
   "outputs": [
    {
     "data": {
      "text/plain": [
       "3.337950000003338e-10"
      ]
     },
     "execution_count": 16,
     "metadata": {},
     "output_type": "execute_result"
    }
   ],
   "source": [
    "today_code"
   ]
  },
  {
   "cell_type": "code",
   "execution_count": 17,
   "metadata": {},
   "outputs": [],
   "source": [
    "#разделение признаков\n",
    "features_3=features_1@B\n",
    "target_3=target_1"
   ]
  },
  {
   "cell_type": "code",
   "execution_count": 18,
   "metadata": {
    "scrolled": false
   },
   "outputs": [
    {
     "name": "stdout",
     "output_type": "stream",
     "text": [
      "R2 для предсказаний после умножения: 0.4249455030591054\n",
      "\n",
      "Равны ли r2 до и после умножения? True\n"
     ]
    }
   ],
   "source": [
    "#обучение модели\n",
    "model_3=LinearRegression()\n",
    "model_3.fit(features_3,target_3)\n",
    "predictions_3=model_3.predict(features_3)\n",
    "r2_3=r2_score(target_3,predictions_3)\n",
    "r2_3_close=math.isclose(r2_3,r2_1)\n",
    "print('R2 для предсказаний после умножения:',r2_3)\n",
    "print()\n",
    "print('Равны ли r2 до и после умножения?',r2_3_close)"
   ]
  },
  {
   "cell_type": "markdown",
   "metadata": {},
   "source": [
    "Теперь посмотрим на признаки, которые были изначально и зашифрованные:"
   ]
  },
  {
   "cell_type": "code",
   "execution_count": 19,
   "metadata": {},
   "outputs": [
    {
     "data": {
      "text/html": [
       "<div>\n",
       "<style scoped>\n",
       "    .dataframe tbody tr th:only-of-type {\n",
       "        vertical-align: middle;\n",
       "    }\n",
       "\n",
       "    .dataframe tbody tr th {\n",
       "        vertical-align: top;\n",
       "    }\n",
       "\n",
       "    .dataframe thead th {\n",
       "        text-align: right;\n",
       "    }\n",
       "</style>\n",
       "<table border=\"1\" class=\"dataframe\">\n",
       "  <thead>\n",
       "    <tr style=\"text-align: right;\">\n",
       "      <th></th>\n",
       "      <th>0</th>\n",
       "      <th>1</th>\n",
       "      <th>2</th>\n",
       "      <th>3</th>\n",
       "      <th>4</th>\n",
       "      <th>5</th>\n",
       "      <th>6</th>\n",
       "      <th>7</th>\n",
       "    </tr>\n",
       "  </thead>\n",
       "  <tbody>\n",
       "    <tr>\n",
       "      <th>0</th>\n",
       "      <td>1.0</td>\n",
       "      <td>41.0</td>\n",
       "      <td>49600.0</td>\n",
       "      <td>1.0</td>\n",
       "      <td>0.000050</td>\n",
       "      <td>0.000066</td>\n",
       "      <td>0.000083</td>\n",
       "      <td>0.000099</td>\n",
       "    </tr>\n",
       "    <tr>\n",
       "      <th>1</th>\n",
       "      <td>0.0</td>\n",
       "      <td>46.0</td>\n",
       "      <td>38000.0</td>\n",
       "      <td>1.0</td>\n",
       "      <td>0.000038</td>\n",
       "      <td>0.000051</td>\n",
       "      <td>0.000063</td>\n",
       "      <td>0.000076</td>\n",
       "    </tr>\n",
       "    <tr>\n",
       "      <th>2</th>\n",
       "      <td>0.0</td>\n",
       "      <td>29.0</td>\n",
       "      <td>21000.0</td>\n",
       "      <td>0.0</td>\n",
       "      <td>0.000021</td>\n",
       "      <td>0.000028</td>\n",
       "      <td>0.000035</td>\n",
       "      <td>0.000042</td>\n",
       "    </tr>\n",
       "    <tr>\n",
       "      <th>3</th>\n",
       "      <td>0.0</td>\n",
       "      <td>21.0</td>\n",
       "      <td>41700.0</td>\n",
       "      <td>2.0</td>\n",
       "      <td>0.000042</td>\n",
       "      <td>0.000056</td>\n",
       "      <td>0.000070</td>\n",
       "      <td>0.000084</td>\n",
       "    </tr>\n",
       "    <tr>\n",
       "      <th>4</th>\n",
       "      <td>1.0</td>\n",
       "      <td>28.0</td>\n",
       "      <td>26100.0</td>\n",
       "      <td>0.0</td>\n",
       "      <td>0.000026</td>\n",
       "      <td>0.000035</td>\n",
       "      <td>0.000044</td>\n",
       "      <td>0.000052</td>\n",
       "    </tr>\n",
       "    <tr>\n",
       "      <th>5</th>\n",
       "      <td>1.0</td>\n",
       "      <td>43.0</td>\n",
       "      <td>41000.0</td>\n",
       "      <td>2.0</td>\n",
       "      <td>0.000041</td>\n",
       "      <td>0.000055</td>\n",
       "      <td>0.000068</td>\n",
       "      <td>0.000082</td>\n",
       "    </tr>\n",
       "    <tr>\n",
       "      <th>6</th>\n",
       "      <td>1.0</td>\n",
       "      <td>39.0</td>\n",
       "      <td>39700.0</td>\n",
       "      <td>2.0</td>\n",
       "      <td>0.000040</td>\n",
       "      <td>0.000053</td>\n",
       "      <td>0.000066</td>\n",
       "      <td>0.000080</td>\n",
       "    </tr>\n",
       "    <tr>\n",
       "      <th>7</th>\n",
       "      <td>1.0</td>\n",
       "      <td>25.0</td>\n",
       "      <td>38600.0</td>\n",
       "      <td>4.0</td>\n",
       "      <td>0.000039</td>\n",
       "      <td>0.000052</td>\n",
       "      <td>0.000064</td>\n",
       "      <td>0.000077</td>\n",
       "    </tr>\n",
       "    <tr>\n",
       "      <th>8</th>\n",
       "      <td>1.0</td>\n",
       "      <td>36.0</td>\n",
       "      <td>49700.0</td>\n",
       "      <td>1.0</td>\n",
       "      <td>0.000050</td>\n",
       "      <td>0.000066</td>\n",
       "      <td>0.000083</td>\n",
       "      <td>0.000100</td>\n",
       "    </tr>\n",
       "    <tr>\n",
       "      <th>9</th>\n",
       "      <td>1.0</td>\n",
       "      <td>32.0</td>\n",
       "      <td>51700.0</td>\n",
       "      <td>1.0</td>\n",
       "      <td>0.000052</td>\n",
       "      <td>0.000069</td>\n",
       "      <td>0.000086</td>\n",
       "      <td>0.000104</td>\n",
       "    </tr>\n",
       "  </tbody>\n",
       "</table>\n",
       "</div>"
      ],
      "text/plain": [
       "     0     1        2    3         4         5         6         7\n",
       "0  1.0  41.0  49600.0  1.0  0.000050  0.000066  0.000083  0.000099\n",
       "1  0.0  46.0  38000.0  1.0  0.000038  0.000051  0.000063  0.000076\n",
       "2  0.0  29.0  21000.0  0.0  0.000021  0.000028  0.000035  0.000042\n",
       "3  0.0  21.0  41700.0  2.0  0.000042  0.000056  0.000070  0.000084\n",
       "4  1.0  28.0  26100.0  0.0  0.000026  0.000035  0.000044  0.000052\n",
       "5  1.0  43.0  41000.0  2.0  0.000041  0.000055  0.000068  0.000082\n",
       "6  1.0  39.0  39700.0  2.0  0.000040  0.000053  0.000066  0.000080\n",
       "7  1.0  25.0  38600.0  4.0  0.000039  0.000052  0.000064  0.000077\n",
       "8  1.0  36.0  49700.0  1.0  0.000050  0.000066  0.000083  0.000100\n",
       "9  1.0  32.0  51700.0  1.0  0.000052  0.000069  0.000086  0.000104"
      ]
     },
     "execution_count": 19,
     "metadata": {},
     "output_type": "execute_result"
    }
   ],
   "source": [
    "pd.DataFrame(np.concatenate((features_1,features_3),axis=1)).head(10)"
   ]
  },
  {
   "cell_type": "markdown",
   "metadata": {},
   "source": [
    "Как видно, шифрование удалось: столбцы 4,5,6,7 не информативны как (Пол, Возраст, Зарплата,Члены семьи), однако, это не влияет на качество предсказаний, и с таким преобразованием можно использовать данные.\n",
    "\n",
    "Посмотрим теперь на соотношение признаков, если мы знаем матрицу-ключ и хотим проверить настоящие данные:"
   ]
  },
  {
   "cell_type": "code",
   "execution_count": 20,
   "metadata": {
    "scrolled": false
   },
   "outputs": [
    {
     "data": {
      "text/html": [
       "<div>\n",
       "<style scoped>\n",
       "    .dataframe tbody tr th:only-of-type {\n",
       "        vertical-align: middle;\n",
       "    }\n",
       "\n",
       "    .dataframe tbody tr th {\n",
       "        vertical-align: top;\n",
       "    }\n",
       "\n",
       "    .dataframe thead th {\n",
       "        text-align: right;\n",
       "    }\n",
       "</style>\n",
       "<table border=\"1\" class=\"dataframe\">\n",
       "  <thead>\n",
       "    <tr style=\"text-align: right;\">\n",
       "      <th></th>\n",
       "      <th>0</th>\n",
       "      <th>1</th>\n",
       "      <th>2</th>\n",
       "      <th>3</th>\n",
       "      <th>4</th>\n",
       "      <th>5</th>\n",
       "      <th>6</th>\n",
       "      <th>7</th>\n",
       "    </tr>\n",
       "  </thead>\n",
       "  <tbody>\n",
       "    <tr>\n",
       "      <th>0</th>\n",
       "      <td>1.0</td>\n",
       "      <td>41.0</td>\n",
       "      <td>49600.0</td>\n",
       "      <td>1.0</td>\n",
       "      <td>1.0</td>\n",
       "      <td>41.0</td>\n",
       "      <td>49600.0</td>\n",
       "      <td>1.0</td>\n",
       "    </tr>\n",
       "    <tr>\n",
       "      <th>1</th>\n",
       "      <td>0.0</td>\n",
       "      <td>46.0</td>\n",
       "      <td>38000.0</td>\n",
       "      <td>1.0</td>\n",
       "      <td>0.0</td>\n",
       "      <td>46.0</td>\n",
       "      <td>38000.0</td>\n",
       "      <td>1.0</td>\n",
       "    </tr>\n",
       "    <tr>\n",
       "      <th>2</th>\n",
       "      <td>0.0</td>\n",
       "      <td>29.0</td>\n",
       "      <td>21000.0</td>\n",
       "      <td>0.0</td>\n",
       "      <td>-0.0</td>\n",
       "      <td>29.0</td>\n",
       "      <td>21000.0</td>\n",
       "      <td>-0.0</td>\n",
       "    </tr>\n",
       "    <tr>\n",
       "      <th>3</th>\n",
       "      <td>0.0</td>\n",
       "      <td>21.0</td>\n",
       "      <td>41700.0</td>\n",
       "      <td>2.0</td>\n",
       "      <td>-0.0</td>\n",
       "      <td>21.0</td>\n",
       "      <td>41700.0</td>\n",
       "      <td>2.0</td>\n",
       "    </tr>\n",
       "    <tr>\n",
       "      <th>4</th>\n",
       "      <td>1.0</td>\n",
       "      <td>28.0</td>\n",
       "      <td>26100.0</td>\n",
       "      <td>0.0</td>\n",
       "      <td>1.0</td>\n",
       "      <td>28.0</td>\n",
       "      <td>26100.0</td>\n",
       "      <td>0.0</td>\n",
       "    </tr>\n",
       "    <tr>\n",
       "      <th>...</th>\n",
       "      <td>...</td>\n",
       "      <td>...</td>\n",
       "      <td>...</td>\n",
       "      <td>...</td>\n",
       "      <td>...</td>\n",
       "      <td>...</td>\n",
       "      <td>...</td>\n",
       "      <td>...</td>\n",
       "    </tr>\n",
       "    <tr>\n",
       "      <th>4995</th>\n",
       "      <td>0.0</td>\n",
       "      <td>28.0</td>\n",
       "      <td>35700.0</td>\n",
       "      <td>2.0</td>\n",
       "      <td>-0.0</td>\n",
       "      <td>28.0</td>\n",
       "      <td>35700.0</td>\n",
       "      <td>2.0</td>\n",
       "    </tr>\n",
       "    <tr>\n",
       "      <th>4996</th>\n",
       "      <td>0.0</td>\n",
       "      <td>34.0</td>\n",
       "      <td>52400.0</td>\n",
       "      <td>1.0</td>\n",
       "      <td>-0.0</td>\n",
       "      <td>34.0</td>\n",
       "      <td>52400.0</td>\n",
       "      <td>1.0</td>\n",
       "    </tr>\n",
       "    <tr>\n",
       "      <th>4997</th>\n",
       "      <td>0.0</td>\n",
       "      <td>20.0</td>\n",
       "      <td>33900.0</td>\n",
       "      <td>2.0</td>\n",
       "      <td>-0.0</td>\n",
       "      <td>20.0</td>\n",
       "      <td>33900.0</td>\n",
       "      <td>2.0</td>\n",
       "    </tr>\n",
       "    <tr>\n",
       "      <th>4998</th>\n",
       "      <td>1.0</td>\n",
       "      <td>22.0</td>\n",
       "      <td>32700.0</td>\n",
       "      <td>3.0</td>\n",
       "      <td>1.0</td>\n",
       "      <td>22.0</td>\n",
       "      <td>32700.0</td>\n",
       "      <td>3.0</td>\n",
       "    </tr>\n",
       "    <tr>\n",
       "      <th>4999</th>\n",
       "      <td>1.0</td>\n",
       "      <td>28.0</td>\n",
       "      <td>40600.0</td>\n",
       "      <td>1.0</td>\n",
       "      <td>1.0</td>\n",
       "      <td>28.0</td>\n",
       "      <td>40600.0</td>\n",
       "      <td>1.0</td>\n",
       "    </tr>\n",
       "  </tbody>\n",
       "</table>\n",
       "<p>5000 rows × 8 columns</p>\n",
       "</div>"
      ],
      "text/plain": [
       "        0     1        2    3    4     5        6    7\n",
       "0     1.0  41.0  49600.0  1.0  1.0  41.0  49600.0  1.0\n",
       "1     0.0  46.0  38000.0  1.0  0.0  46.0  38000.0  1.0\n",
       "2     0.0  29.0  21000.0  0.0 -0.0  29.0  21000.0 -0.0\n",
       "3     0.0  21.0  41700.0  2.0 -0.0  21.0  41700.0  2.0\n",
       "4     1.0  28.0  26100.0  0.0  1.0  28.0  26100.0  0.0\n",
       "...   ...   ...      ...  ...  ...   ...      ...  ...\n",
       "4995  0.0  28.0  35700.0  2.0 -0.0  28.0  35700.0  2.0\n",
       "4996  0.0  34.0  52400.0  1.0 -0.0  34.0  52400.0  1.0\n",
       "4997  0.0  20.0  33900.0  2.0 -0.0  20.0  33900.0  2.0\n",
       "4998  1.0  22.0  32700.0  3.0  1.0  22.0  32700.0  3.0\n",
       "4999  1.0  28.0  40600.0  1.0  1.0  28.0  40600.0  1.0\n",
       "\n",
       "[5000 rows x 8 columns]"
      ]
     },
     "execution_count": 20,
     "metadata": {},
     "output_type": "execute_result"
    }
   ],
   "source": [
    "pd.DataFrame(np.concatenate((features_1,round(features_3@np.linalg.inv(B))),axis=1))"
   ]
  },
  {
   "cell_type": "markdown",
   "metadata": {},
   "source": [
    "Как видно, данные совпадают (с учётом округлений) Алгоритм можно использовать."
   ]
  },
  {
   "cell_type": "markdown",
   "metadata": {},
   "source": [
    "**Общий вывод**\n",
    "\n",
    "Для выполнения задачи шифрования таблицы признаков-личных данных для дальнейшего использования для предсказания получения страховых выплат применён алгоритм, который умножает исходные данные на матрицу-ключ, которая умножена на число, зависящее от даты.\n",
    "\n",
    "Доказано, что при использовании модели Линейной регрессии, эти преобразования не оказывают влияния на качество предсказаний.\n"
   ]
  },
  {
   "cell_type": "markdown",
   "metadata": {},
   "source": [
    "## Чек-лист проверки"
   ]
  },
  {
   "cell_type": "markdown",
   "metadata": {},
   "source": [
    "- [x]  Jupyter Notebook открыт\n",
    "- [x]  Весь код выполняется без ошибок\n",
    "- [x]  Ячейки с кодом расположены в порядке исполнения\n",
    "- [x]  Выполнен шаг 1: данные загружены\n",
    "- [x]  Выполнен шаг 2: получен ответ на вопрос об умножении матриц\n",
    "    - [x]  Указан правильный вариант ответа\n",
    "    - [x]  Вариант обоснован\n",
    "- [x]  Выполнен шаг 3: предложен алгоритм преобразования\n",
    "    - [x]  Алгоритм описан\n",
    "    - [x]  Алгоритм обоснован\n",
    "- [x]  Выполнен шаг 4: алгоритм проверен\n",
    "    - [x]  Алгоритм реализован\n",
    "    - [x]  Проведено сравнение качества моделей до и после преобразования"
   ]
  }
 ],
 "metadata": {
  "ExecuteTimeLog": [
   {
    "duration": 394,
    "start_time": "2023-05-29T11:02:34.600Z"
   },
   {
    "duration": 103,
    "start_time": "2023-05-29T11:03:25.584Z"
   },
   {
    "duration": 27,
    "start_time": "2023-05-29T11:06:51.220Z"
   },
   {
    "duration": 34,
    "start_time": "2023-05-29T11:07:04.011Z"
   },
   {
    "duration": 13,
    "start_time": "2023-05-29T11:07:31.873Z"
   },
   {
    "duration": 2,
    "start_time": "2023-05-29T11:08:54.588Z"
   },
   {
    "duration": 83,
    "start_time": "2023-05-29T11:09:01.404Z"
   },
   {
    "duration": 10,
    "start_time": "2023-05-29T11:09:06.676Z"
   },
   {
    "duration": 12,
    "start_time": "2023-05-29T11:09:14.142Z"
   },
   {
    "duration": 10,
    "start_time": "2023-05-29T11:09:16.288Z"
   },
   {
    "duration": 20,
    "start_time": "2023-05-29T11:09:34.004Z"
   },
   {
    "duration": 18,
    "start_time": "2023-05-29T11:12:52.196Z"
   },
   {
    "duration": 18,
    "start_time": "2023-05-29T11:12:56.564Z"
   },
   {
    "duration": 19,
    "start_time": "2023-05-29T11:13:05.691Z"
   },
   {
    "duration": 7,
    "start_time": "2023-05-29T11:17:46.495Z"
   },
   {
    "duration": 814,
    "start_time": "2023-05-29T11:17:53.820Z"
   },
   {
    "duration": 83,
    "start_time": "2023-05-29T11:18:07.232Z"
   },
   {
    "duration": 402,
    "start_time": "2023-05-29T11:18:09.345Z"
   },
   {
    "duration": 398,
    "start_time": "2023-05-29T11:18:13.780Z"
   },
   {
    "duration": 452,
    "start_time": "2023-05-29T11:18:17.214Z"
   },
   {
    "duration": 467,
    "start_time": "2023-05-29T11:18:30.595Z"
   },
   {
    "duration": 9,
    "start_time": "2023-05-29T11:19:37.700Z"
   },
   {
    "duration": 1541,
    "start_time": "2023-05-29T11:20:25.705Z"
   },
   {
    "duration": 14,
    "start_time": "2023-05-29T11:20:30.609Z"
   },
   {
    "duration": 9,
    "start_time": "2023-05-29T11:20:38.592Z"
   },
   {
    "duration": 7,
    "start_time": "2023-05-29T11:20:48.006Z"
   },
   {
    "duration": 11,
    "start_time": "2023-05-29T11:20:56.510Z"
   },
   {
    "duration": 9,
    "start_time": "2023-05-29T11:21:05.187Z"
   },
   {
    "duration": 4,
    "start_time": "2023-05-29T11:21:26.615Z"
   },
   {
    "duration": 5,
    "start_time": "2023-05-29T11:21:40.681Z"
   },
   {
    "duration": 67,
    "start_time": "2023-05-29T11:24:26.108Z"
   },
   {
    "duration": 8,
    "start_time": "2023-05-29T11:24:31.039Z"
   },
   {
    "duration": 5,
    "start_time": "2023-05-29T11:25:58.695Z"
   },
   {
    "duration": 8,
    "start_time": "2023-05-29T11:26:03.445Z"
   },
   {
    "duration": 8,
    "start_time": "2023-05-29T11:26:05.872Z"
   },
   {
    "duration": 6,
    "start_time": "2023-05-29T11:26:15.611Z"
   },
   {
    "duration": 8,
    "start_time": "2023-05-29T11:26:41.595Z"
   },
   {
    "duration": 5,
    "start_time": "2023-05-29T11:27:23.924Z"
   },
   {
    "duration": 5,
    "start_time": "2023-05-29T11:27:52.607Z"
   },
   {
    "duration": 10,
    "start_time": "2023-05-29T11:27:57.743Z"
   },
   {
    "duration": 10,
    "start_time": "2023-05-29T11:28:27.007Z"
   },
   {
    "duration": 1341,
    "start_time": "2023-06-01T22:25:12.261Z"
   },
   {
    "duration": 31,
    "start_time": "2023-06-01T22:25:13.605Z"
   },
   {
    "duration": 12,
    "start_time": "2023-06-01T22:25:13.638Z"
   },
   {
    "duration": 33,
    "start_time": "2023-06-01T22:25:13.654Z"
   },
   {
    "duration": 1031,
    "start_time": "2023-06-01T22:25:13.689Z"
   },
   {
    "duration": 12,
    "start_time": "2023-06-01T22:25:14.721Z"
   },
   {
    "duration": 16,
    "start_time": "2023-06-01T22:25:14.734Z"
   },
   {
    "duration": 4,
    "start_time": "2023-06-01T22:25:14.751Z"
   },
   {
    "duration": 22,
    "start_time": "2023-06-01T22:25:14.757Z"
   },
   {
    "duration": 97,
    "start_time": "2023-06-01T22:25:14.782Z"
   },
   {
    "duration": 301,
    "start_time": "2023-06-01T22:25:14.882Z"
   },
   {
    "duration": 92,
    "start_time": "2023-06-01T22:25:15.185Z"
   },
   {
    "duration": 10,
    "start_time": "2023-06-01T22:25:15.280Z"
   },
   {
    "duration": 90,
    "start_time": "2023-06-01T22:25:15.292Z"
   },
   {
    "duration": 5,
    "start_time": "2023-06-01T22:25:15.384Z"
   },
   {
    "duration": 12,
    "start_time": "2023-06-01T22:25:15.390Z"
   },
   {
    "duration": 113,
    "start_time": "2023-06-01T22:25:15.479Z"
   },
   {
    "duration": 87,
    "start_time": "2023-06-01T22:25:15.594Z"
   },
   {
    "duration": 1014,
    "start_time": "2023-06-02T15:16:17.789Z"
   },
   {
    "duration": 107,
    "start_time": "2023-06-02T15:16:18.804Z"
   },
   {
    "duration": 10,
    "start_time": "2023-06-02T15:16:18.913Z"
   },
   {
    "duration": 35,
    "start_time": "2023-06-02T15:16:18.924Z"
   },
   {
    "duration": 987,
    "start_time": "2023-06-02T15:16:18.961Z"
   },
   {
    "duration": 9,
    "start_time": "2023-06-02T15:16:19.950Z"
   },
   {
    "duration": 13,
    "start_time": "2023-06-02T15:16:19.961Z"
   },
   {
    "duration": 9,
    "start_time": "2023-06-02T15:16:19.976Z"
   },
   {
    "duration": 11,
    "start_time": "2023-06-02T15:16:19.986Z"
   },
   {
    "duration": 38,
    "start_time": "2023-06-02T15:16:19.998Z"
   },
   {
    "duration": 288,
    "start_time": "2023-06-02T15:16:20.040Z"
   },
   {
    "duration": 6,
    "start_time": "2023-06-02T15:16:20.330Z"
   },
   {
    "duration": 12,
    "start_time": "2023-06-02T15:16:20.426Z"
   },
   {
    "duration": 82,
    "start_time": "2023-06-02T15:16:20.445Z"
   },
   {
    "duration": 21,
    "start_time": "2023-06-02T15:16:20.529Z"
   },
   {
    "duration": 29,
    "start_time": "2023-06-02T15:16:20.552Z"
   },
   {
    "duration": 149,
    "start_time": "2023-06-02T15:16:20.583Z"
   },
   {
    "duration": 97,
    "start_time": "2023-06-02T15:16:20.733Z"
   },
   {
    "duration": 214,
    "start_time": "2023-06-02T15:16:43.414Z"
   },
   {
    "duration": 172,
    "start_time": "2023-06-02T15:16:50.055Z"
   },
   {
    "duration": 112,
    "start_time": "2023-06-02T15:17:01.614Z"
   },
   {
    "duration": 11,
    "start_time": "2023-06-02T15:21:28.409Z"
   },
   {
    "duration": 1236,
    "start_time": "2023-06-05T07:23:31.161Z"
   },
   {
    "duration": 72,
    "start_time": "2023-06-05T07:26:36.228Z"
   },
   {
    "duration": 3,
    "start_time": "2023-06-05T07:28:07.468Z"
   },
   {
    "duration": 106,
    "start_time": "2023-06-05T07:28:30.904Z"
   },
   {
    "duration": 3,
    "start_time": "2023-06-05T07:28:41.488Z"
   },
   {
    "duration": 100,
    "start_time": "2023-06-05T07:28:41.493Z"
   },
   {
    "duration": 12,
    "start_time": "2023-06-05T07:28:41.595Z"
   },
   {
    "duration": 49,
    "start_time": "2023-06-05T07:28:41.609Z"
   },
   {
    "duration": 1003,
    "start_time": "2023-06-05T07:28:41.661Z"
   },
   {
    "duration": 17,
    "start_time": "2023-06-05T07:28:44.947Z"
   },
   {
    "duration": 138,
    "start_time": "2023-06-05T07:28:56.076Z"
   },
   {
    "duration": 30997,
    "start_time": "2023-06-05T07:29:28.233Z"
   },
   {
    "duration": 5,
    "start_time": "2023-06-05T07:30:05.078Z"
   },
   {
    "duration": 1334,
    "start_time": "2023-06-05T07:30:15.178Z"
   },
   {
    "duration": 8944,
    "start_time": "2023-06-05T07:30:32.268Z"
   },
   {
    "duration": 1952,
    "start_time": "2023-06-05T07:30:41.378Z"
   },
   {
    "duration": 8325,
    "start_time": "2023-06-05T07:30:57.882Z"
   },
   {
    "duration": 8105,
    "start_time": "2023-06-05T07:31:13.706Z"
   },
   {
    "duration": 7750,
    "start_time": "2023-06-05T07:31:39.855Z"
   },
   {
    "duration": 8142,
    "start_time": "2023-06-05T07:32:04.920Z"
   },
   {
    "duration": 93,
    "start_time": "2023-06-05T07:50:38.415Z"
   },
   {
    "duration": 9,
    "start_time": "2023-06-05T07:50:47.557Z"
   },
   {
    "duration": 9,
    "start_time": "2023-06-05T07:50:58.128Z"
   },
   {
    "duration": 11,
    "start_time": "2023-06-05T07:51:29.273Z"
   },
   {
    "duration": 9,
    "start_time": "2023-06-05T07:51:45.692Z"
   },
   {
    "duration": 9206,
    "start_time": "2023-06-05T07:52:24.056Z"
   },
   {
    "duration": 4,
    "start_time": "2023-06-05T07:53:10.197Z"
   },
   {
    "duration": 10,
    "start_time": "2023-06-05T07:53:14.929Z"
   },
   {
    "duration": 0,
    "start_time": "2023-06-05T07:53:29.110Z"
   },
   {
    "duration": 8409,
    "start_time": "2023-06-05T07:53:32.218Z"
   },
   {
    "duration": 7941,
    "start_time": "2023-06-05T07:54:03.268Z"
   },
   {
    "duration": 1816,
    "start_time": "2023-06-05T07:54:49.808Z"
   },
   {
    "duration": 132,
    "start_time": "2023-06-05T07:55:01.992Z"
   },
   {
    "duration": 128,
    "start_time": "2023-06-05T07:55:19.094Z"
   },
   {
    "duration": 206,
    "start_time": "2023-06-05T07:55:23.217Z"
   },
   {
    "duration": 130,
    "start_time": "2023-06-05T07:55:33.944Z"
   },
   {
    "duration": 13,
    "start_time": "2023-06-05T09:07:54.712Z"
   },
   {
    "duration": 620,
    "start_time": "2023-06-05T09:08:13.781Z"
   },
   {
    "duration": 135,
    "start_time": "2023-06-05T09:08:17.594Z"
   },
   {
    "duration": 270,
    "start_time": "2023-06-05T09:08:33.671Z"
   },
   {
    "duration": 94,
    "start_time": "2023-06-05T09:08:37.110Z"
   },
   {
    "duration": 219,
    "start_time": "2023-06-05T09:08:40.293Z"
   },
   {
    "duration": 266,
    "start_time": "2023-06-05T09:09:01.704Z"
   },
   {
    "duration": 210,
    "start_time": "2023-06-05T09:10:59.394Z"
   },
   {
    "duration": 4,
    "start_time": "2023-06-05T09:11:18.000Z"
   },
   {
    "duration": 9,
    "start_time": "2023-06-05T09:11:26.695Z"
   },
   {
    "duration": 726,
    "start_time": "2023-06-05T09:11:38.576Z"
   },
   {
    "duration": 468,
    "start_time": "2023-06-05T09:12:14.198Z"
   },
   {
    "duration": 140,
    "start_time": "2023-06-05T09:12:20.765Z"
   },
   {
    "duration": 160,
    "start_time": "2023-06-05T09:12:37.131Z"
   },
   {
    "duration": 11,
    "start_time": "2023-06-05T09:13:13.923Z"
   },
   {
    "duration": 250,
    "start_time": "2023-06-05T09:13:40.374Z"
   },
   {
    "duration": 273,
    "start_time": "2023-06-05T09:13:47.125Z"
   },
   {
    "duration": 840,
    "start_time": "2023-06-05T09:14:41.997Z"
   },
   {
    "duration": 840,
    "start_time": "2023-06-05T09:15:01.247Z"
   },
   {
    "duration": 147,
    "start_time": "2023-06-05T09:15:16.897Z"
   },
   {
    "duration": 708,
    "start_time": "2023-06-05T09:15:47.038Z"
   },
   {
    "duration": 814,
    "start_time": "2023-06-05T09:15:58.111Z"
   },
   {
    "duration": 699,
    "start_time": "2023-06-05T09:16:30.001Z"
   },
   {
    "duration": 4,
    "start_time": "2023-06-05T09:24:02.195Z"
   },
   {
    "duration": 68,
    "start_time": "2023-06-05T09:24:02.201Z"
   },
   {
    "duration": 11,
    "start_time": "2023-06-05T09:24:02.271Z"
   },
   {
    "duration": 50,
    "start_time": "2023-06-05T09:24:02.284Z"
   },
   {
    "duration": 728,
    "start_time": "2023-06-05T09:24:02.336Z"
   },
   {
    "duration": 699,
    "start_time": "2023-06-05T09:24:03.066Z"
   },
   {
    "duration": 10,
    "start_time": "2023-06-05T09:24:03.766Z"
   },
   {
    "duration": 16,
    "start_time": "2023-06-05T09:24:03.778Z"
   },
   {
    "duration": 4,
    "start_time": "2023-06-05T09:24:03.796Z"
   },
   {
    "duration": 11,
    "start_time": "2023-06-05T09:24:03.801Z"
   },
   {
    "duration": 39,
    "start_time": "2023-06-05T09:24:03.813Z"
   },
   {
    "duration": 251,
    "start_time": "2023-06-05T09:24:06.098Z"
   },
   {
    "duration": 12,
    "start_time": "2023-06-05T09:24:37.490Z"
   },
   {
    "duration": 31121,
    "start_time": "2023-06-05T09:25:01.541Z"
   },
   {
    "duration": 260,
    "start_time": "2023-06-05T09:27:00.888Z"
   },
   {
    "duration": 277,
    "start_time": "2023-06-05T09:27:24.681Z"
   },
   {
    "duration": 62980,
    "start_time": "2023-06-05T09:27:29.884Z"
   },
   {
    "duration": 185,
    "start_time": "2023-06-05T09:28:35.680Z"
   },
   {
    "duration": 10,
    "start_time": "2023-06-05T09:39:02.413Z"
   },
   {
    "duration": 1387,
    "start_time": "2023-06-05T09:39:44.636Z"
   },
   {
    "duration": 29,
    "start_time": "2023-06-05T09:39:46.025Z"
   },
   {
    "duration": 12,
    "start_time": "2023-06-05T09:39:46.055Z"
   },
   {
    "duration": 32,
    "start_time": "2023-06-05T09:39:46.069Z"
   },
   {
    "duration": 574,
    "start_time": "2023-06-05T09:39:46.102Z"
   },
   {
    "duration": 795,
    "start_time": "2023-06-05T09:39:46.679Z"
   },
   {
    "duration": 11,
    "start_time": "2023-06-05T09:39:47.475Z"
   },
   {
    "duration": 15,
    "start_time": "2023-06-05T09:39:47.488Z"
   },
   {
    "duration": 4,
    "start_time": "2023-06-05T09:39:47.506Z"
   },
   {
    "duration": 5,
    "start_time": "2023-06-05T09:39:47.514Z"
   },
   {
    "duration": 16,
    "start_time": "2023-06-05T09:39:47.545Z"
   },
   {
    "duration": 401,
    "start_time": "2023-06-05T09:39:47.649Z"
   },
   {
    "duration": 23,
    "start_time": "2023-06-05T09:39:48.145Z"
   },
   {
    "duration": 13,
    "start_time": "2023-06-05T09:39:48.170Z"
   },
   {
    "duration": 63,
    "start_time": "2023-06-05T09:39:48.184Z"
   },
   {
    "duration": 17,
    "start_time": "2023-06-05T09:39:48.250Z"
   },
   {
    "duration": 87,
    "start_time": "2023-06-05T09:39:48.269Z"
   },
   {
    "duration": 18,
    "start_time": "2023-06-05T09:39:48.358Z"
   },
   {
    "duration": 180,
    "start_time": "2023-06-05T09:39:48.379Z"
   },
   {
    "duration": 87,
    "start_time": "2023-06-05T09:39:48.561Z"
   },
   {
    "duration": 1522,
    "start_time": "2023-06-06T06:19:36.707Z"
   },
   {
    "duration": 53,
    "start_time": "2023-06-06T06:19:38.232Z"
   },
   {
    "duration": 14,
    "start_time": "2023-06-06T06:19:38.287Z"
   },
   {
    "duration": 50,
    "start_time": "2023-06-06T06:19:38.304Z"
   },
   {
    "duration": 662,
    "start_time": "2023-06-06T06:19:38.356Z"
   },
   {
    "duration": 856,
    "start_time": "2023-06-06T06:19:39.019Z"
   },
   {
    "duration": 9,
    "start_time": "2023-06-06T06:19:39.877Z"
   },
   {
    "duration": 13,
    "start_time": "2023-06-06T06:19:39.888Z"
   },
   {
    "duration": 5,
    "start_time": "2023-06-06T06:19:39.903Z"
   },
   {
    "duration": 6,
    "start_time": "2023-06-06T06:19:39.911Z"
   },
   {
    "duration": 154,
    "start_time": "2023-06-06T06:19:39.918Z"
   },
   {
    "duration": 281,
    "start_time": "2023-06-06T06:19:40.074Z"
   },
   {
    "duration": 96,
    "start_time": "2023-06-06T06:19:40.367Z"
   },
   {
    "duration": 22,
    "start_time": "2023-06-06T06:19:40.469Z"
   },
   {
    "duration": 10,
    "start_time": "2023-06-06T06:19:40.493Z"
   },
   {
    "duration": 36,
    "start_time": "2023-06-06T06:19:40.549Z"
   },
   {
    "duration": 89,
    "start_time": "2023-06-06T06:19:40.587Z"
   },
   {
    "duration": 10,
    "start_time": "2023-06-06T06:19:40.678Z"
   },
   {
    "duration": 208,
    "start_time": "2023-06-06T06:19:40.690Z"
   },
   {
    "duration": 46,
    "start_time": "2023-06-06T06:19:40.900Z"
   },
   {
    "duration": 1738,
    "start_time": "2023-06-06T06:20:19.534Z"
   },
   {
    "duration": 30,
    "start_time": "2023-06-06T06:20:21.277Z"
   },
   {
    "duration": 13,
    "start_time": "2023-06-06T06:20:21.309Z"
   },
   {
    "duration": 52,
    "start_time": "2023-06-06T06:20:21.324Z"
   },
   {
    "duration": 653,
    "start_time": "2023-06-06T06:20:21.382Z"
   },
   {
    "duration": 859,
    "start_time": "2023-06-06T06:20:22.037Z"
   },
   {
    "duration": 11,
    "start_time": "2023-06-06T06:20:22.898Z"
   },
   {
    "duration": 37,
    "start_time": "2023-06-06T06:20:22.910Z"
   },
   {
    "duration": 34,
    "start_time": "2023-06-06T06:20:22.952Z"
   },
   {
    "duration": 4,
    "start_time": "2023-06-06T06:20:22.989Z"
   },
   {
    "duration": 52,
    "start_time": "2023-06-06T06:20:22.995Z"
   },
   {
    "duration": 314,
    "start_time": "2023-06-06T06:20:23.066Z"
   },
   {
    "duration": 105,
    "start_time": "2023-06-06T06:20:23.454Z"
   },
   {
    "duration": 18,
    "start_time": "2023-06-06T06:20:23.565Z"
   },
   {
    "duration": 60,
    "start_time": "2023-06-06T06:20:23.585Z"
   },
   {
    "duration": 42,
    "start_time": "2023-06-06T06:20:23.647Z"
   },
   {
    "duration": 32,
    "start_time": "2023-06-06T06:20:23.746Z"
   },
   {
    "duration": 16,
    "start_time": "2023-06-06T06:20:23.780Z"
   },
   {
    "duration": 163,
    "start_time": "2023-06-06T06:20:23.799Z"
   },
   {
    "duration": 84,
    "start_time": "2023-06-06T06:20:23.967Z"
   }
  ],
  "kernelspec": {
   "display_name": "Python 3 (ipykernel)",
   "language": "python",
   "name": "python3"
  },
  "language_info": {
   "codemirror_mode": {
    "name": "ipython",
    "version": 3
   },
   "file_extension": ".py",
   "mimetype": "text/x-python",
   "name": "python",
   "nbconvert_exporter": "python",
   "pygments_lexer": "ipython3",
   "version": "3.10.9"
  },
  "toc": {
   "base_numbering": 1,
   "nav_menu": {},
   "number_sections": true,
   "sideBar": true,
   "skip_h1_title": true,
   "title_cell": "Содержание",
   "title_sidebar": "Contents",
   "toc_cell": true,
   "toc_position": {},
   "toc_section_display": true,
   "toc_window_display": false
  }
 },
 "nbformat": 4,
 "nbformat_minor": 2
}
