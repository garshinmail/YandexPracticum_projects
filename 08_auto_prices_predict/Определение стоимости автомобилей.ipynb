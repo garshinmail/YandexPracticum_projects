{
 "cells": [
  {
   "cell_type": "markdown",
   "metadata": {},
   "source": [
    "# Определение стоимости автомобилей"
   ]
  },
  {
   "cell_type": "markdown",
   "metadata": {},
   "source": [
    "Сервис по продаже автомобилей с пробегом «Не бит, не крашен» разрабатывает приложение для привлечения новых клиентов. В нём можно быстро узнать рыночную стоимость своего автомобиля. В вашем распоряжении исторические данные: технические характеристики, комплектации и цены автомобилей. Вам нужно построить модель для определения стоимости. \n",
    "\n",
    "Заказчику важны:\n",
    "\n",
    "- качество предсказания;\n",
    "- скорость предсказания;\n",
    "- время обучения."
   ]
  },
  {
   "cell_type": "markdown",
   "metadata": {},
   "source": [
    "**Цель исследования**:\n",
    "    \n",
    "Построить модель, для определения стоимости, по возможности с наилучшими показателями:\n",
    "- качество предсказания;\n",
    "- скорость предсказания;\n",
    "- время обучения.\n",
    "    \n",
    "**Ход исследования:** \n",
    "- загрузка данных;\n",
    "- изучение данных:\n",
    "    - заполнение пропущенных значений;\n",
    "    - обработка дубликатов;\n",
    "    - обработка аномалий;\n",
    "    - удаление неинформативных признаков;\n",
    "- подготовка выборок для обучения моделей;\n",
    "- обучение различных моделей (с перебором гиперпараметров):\n",
    "    - LightGBM;\n",
    "    - как минимум одна - не бустинг;\n",
    "- анализ моделей:\n",
    "    - время обучения;\n",
    "    - время предсказания;\n",
    "    - качество моделей;\n",
    "- выбор наилучшей модели по критериям Заказчика;\n",
    "- проверка её качества на тестовой выборке."
   ]
  },
  {
   "cell_type": "markdown",
   "metadata": {},
   "source": [
    "**Импорт библиотек**"
   ]
  },
  {
   "cell_type": "code",
   "execution_count": 1,
   "metadata": {},
   "outputs": [],
   "source": [
    "import os #импорт библиотеки os (для проверки существования пути к файлу)\n",
    "from collections import Counter #импорт модуля Counter (поиск самого часто встречающегося значения в столбце)\n",
    "import random #импорт функции рандом для заполнения пропусков случайными значениями пропорционально признакам\n",
    "\n",
    "import pandas as pd #импорт библиотеки pandas (работа с таблицами)\n",
    "import numpy as np\n",
    "import matplotlib.pyplot as plt #импорт библиотеки matplotlib (графика)\n",
    "\n",
    "from sklearn.model_selection import train_test_split #импорт инструмента для разделения выборок\n",
    "from sklearn.preprocessing import StandardScaler #импорт инструмента масштабирования\n",
    "from sklearn.preprocessing import OneHotEncoder #импорт инструмента преобразования категориальных признаков\n",
    "from sklearn.preprocessing import OrdinalEncoder #импорт инструмента преобразования категориальных признаков для моделей случайного леса\n",
    "from sklearn.ensemble import RandomForestRegressor #импорт модели случайного леса\n",
    "from sklearn.linear_model import LinearRegression #импорт модели линейной регрессии\n",
    "from sklearn.metrics import mean_squared_error #импорт метрики RMSE\n",
    "from sklearn.model_selection import cross_val_score, GridSearchCV #импорт инструмента для перебора гиперпараметров с кросс-валидацией\n",
    "from sklearn.metrics import make_scorer #импорт инструмента для создания своей метрики (RMSE)\n",
    "from lightgbm import LGBMRegressor #импорт инструмента градиентного бустинга\n",
    "\n",
    "import warnings\n",
    "warnings.filterwarnings(\"ignore\")"
   ]
  },
  {
   "cell_type": "markdown",
   "metadata": {},
   "source": [
    "## Подготовка данных"
   ]
  },
  {
   "cell_type": "markdown",
   "metadata": {},
   "source": [
    "**Загрузка данных**"
   ]
  },
  {
   "cell_type": "code",
   "execution_count": 2,
   "metadata": {},
   "outputs": [],
   "source": [
    "#путь для ревью\n",
    "path1='/datasets/autos.csv'\n",
    "\n",
    "#путь для работы\n",
    "path2='autos.csv'\n",
    "\n",
    "#выбор пути если он существует методом os\n",
    "if os.path.exists(path1):\n",
    "    #загрузка датасета методом pandas.read_csv\n",
    "    df=pd.read_csv(path1)\n",
    "elif os.path.exists(path2):\n",
    "    df=pd.read_csv(path2)\n",
    "else:\n",
    "    print('Path does not exist')"
   ]
  },
  {
   "cell_type": "markdown",
   "metadata": {},
   "source": [
    "**Изучение данных**"
   ]
  },
  {
   "cell_type": "markdown",
   "metadata": {},
   "source": [
    "Рассмотрим импортированный датасет различными методами"
   ]
  },
  {
   "cell_type": "code",
   "execution_count": 3,
   "metadata": {},
   "outputs": [
    {
     "name": "stdout",
     "output_type": "stream",
     "text": [
      "<class 'pandas.core.frame.DataFrame'>\n",
      "RangeIndex: 354369 entries, 0 to 354368\n",
      "Data columns (total 16 columns):\n",
      " #   Column             Non-Null Count   Dtype \n",
      "---  ------             --------------   ----- \n",
      " 0   DateCrawled        354369 non-null  object\n",
      " 1   Price              354369 non-null  int64 \n",
      " 2   VehicleType        316879 non-null  object\n",
      " 3   RegistrationYear   354369 non-null  int64 \n",
      " 4   Gearbox            334536 non-null  object\n",
      " 5   Power              354369 non-null  int64 \n",
      " 6   Model              334664 non-null  object\n",
      " 7   Kilometer          354369 non-null  int64 \n",
      " 8   RegistrationMonth  354369 non-null  int64 \n",
      " 9   FuelType           321474 non-null  object\n",
      " 10  Brand              354369 non-null  object\n",
      " 11  Repaired           283215 non-null  object\n",
      " 12  DateCreated        354369 non-null  object\n",
      " 13  NumberOfPictures   354369 non-null  int64 \n",
      " 14  PostalCode         354369 non-null  int64 \n",
      " 15  LastSeen           354369 non-null  object\n",
      "dtypes: int64(7), object(9)\n",
      "memory usage: 43.3+ MB\n"
     ]
    }
   ],
   "source": [
    "#вывод информации о датасете методом info()\n",
    "df.info()"
   ]
  },
  {
   "cell_type": "markdown",
   "metadata": {},
   "source": [
    "Отсюда видно, что датасет содержит 354369 строк, однако в некоторых столбцах присутствуют пропуски. Выведем список таких столбцов:"
   ]
  },
  {
   "cell_type": "code",
   "execution_count": 4,
   "metadata": {
    "scrolled": true
   },
   "outputs": [
    {
     "data": {
      "text/plain": [
       "['VehicleType', 'Gearbox', 'Model', 'FuelType', 'Repaired']"
      ]
     },
     "execution_count": 4,
     "metadata": {},
     "output_type": "execute_result"
    }
   ],
   "source": [
    "#вывод списка с названиями колонок с пропусками\n",
    "df_isna_cols=list(df.loc[:,df.isna().mean()!=0].columns)\n",
    "df_isna_cols"
   ]
  },
  {
   "cell_type": "markdown",
   "metadata": {},
   "source": [
    "Посмотрим на относительное число пропусков:"
   ]
  },
  {
   "cell_type": "code",
   "execution_count": 5,
   "metadata": {
    "scrolled": true
   },
   "outputs": [
    {
     "data": {
      "text/html": [
       "<style  type=\"text/css\" >\n",
       "#T_db3db_row0_col0{\n",
       "            background-color:  #aec9fc;\n",
       "            color:  #000000;\n",
       "        }#T_db3db_row1_col0,#T_db3db_row2_col0{\n",
       "            background-color:  #3b4cc0;\n",
       "            color:  #f1f1f1;\n",
       "        }#T_db3db_row3_col0{\n",
       "            background-color:  #8fb1fe;\n",
       "            color:  #000000;\n",
       "        }#T_db3db_row4_col0{\n",
       "            background-color:  #b40426;\n",
       "            color:  #f1f1f1;\n",
       "        }</style><table id=\"T_db3db_\" ><thead>    <tr>        <th class=\"blank level0\" ></th>        <th class=\"col_heading level0 col0\" >Пропуски, %</th>    </tr></thead><tbody>\n",
       "                <tr>\n",
       "                        <th id=\"T_db3db_level0_row0\" class=\"row_heading level0 row0\" >VehicleType</th>\n",
       "                        <td id=\"T_db3db_row0_col0\" class=\"data row0 col0\" >10.579368</td>\n",
       "            </tr>\n",
       "            <tr>\n",
       "                        <th id=\"T_db3db_level0_row1\" class=\"row_heading level0 row1\" >Gearbox</th>\n",
       "                        <td id=\"T_db3db_row1_col0\" class=\"data row1 col0\" >5.596709</td>\n",
       "            </tr>\n",
       "            <tr>\n",
       "                        <th id=\"T_db3db_level0_row2\" class=\"row_heading level0 row2\" >Model</th>\n",
       "                        <td id=\"T_db3db_row2_col0\" class=\"data row2 col0\" >5.560588</td>\n",
       "            </tr>\n",
       "            <tr>\n",
       "                        <th id=\"T_db3db_level0_row3\" class=\"row_heading level0 row3\" >FuelType</th>\n",
       "                        <td id=\"T_db3db_row3_col0\" class=\"data row3 col0\" >9.282697</td>\n",
       "            </tr>\n",
       "            <tr>\n",
       "                        <th id=\"T_db3db_level0_row4\" class=\"row_heading level0 row4\" >Repaired</th>\n",
       "                        <td id=\"T_db3db_row4_col0\" class=\"data row4 col0\" >20.079070</td>\n",
       "            </tr>\n",
       "    </tbody></table>"
      ],
      "text/plain": [
       "<pandas.io.formats.style.Styler at 0x7f4665fc04f0>"
      ]
     },
     "execution_count": 5,
     "metadata": {},
     "output_type": "execute_result"
    }
   ],
   "source": [
    "#подсчёт относительного числа пропусков в % в колонках с пропусками\n",
    "pd.DataFrame({'Пропуски, %':df[df_isna_cols].isna().mean()*100}).style.background_gradient('coolwarm')"
   ]
  },
  {
   "cell_type": "markdown",
   "metadata": {},
   "source": [
    "Как видно, пропуски присутствуют в 5 столбцах из 15, при этом их число значительно: от 5% до 21% для разных столбцов. Максимальное значение - почти 21% - в столбце с информацией о нахождении машины в ремонте."
   ]
  },
  {
   "cell_type": "code",
   "execution_count": 6,
   "metadata": {},
   "outputs": [
    {
     "data": {
      "text/html": [
       "<div>\n",
       "<style scoped>\n",
       "    .dataframe tbody tr th:only-of-type {\n",
       "        vertical-align: middle;\n",
       "    }\n",
       "\n",
       "    .dataframe tbody tr th {\n",
       "        vertical-align: top;\n",
       "    }\n",
       "\n",
       "    .dataframe thead th {\n",
       "        text-align: right;\n",
       "    }\n",
       "</style>\n",
       "<table border=\"1\" class=\"dataframe\">\n",
       "  <thead>\n",
       "    <tr style=\"text-align: right;\">\n",
       "      <th></th>\n",
       "      <th>Price</th>\n",
       "      <th>RegistrationYear</th>\n",
       "      <th>Power</th>\n",
       "      <th>Kilometer</th>\n",
       "      <th>RegistrationMonth</th>\n",
       "      <th>NumberOfPictures</th>\n",
       "      <th>PostalCode</th>\n",
       "    </tr>\n",
       "  </thead>\n",
       "  <tbody>\n",
       "    <tr>\n",
       "      <th>count</th>\n",
       "      <td>354369.000000</td>\n",
       "      <td>354369.000000</td>\n",
       "      <td>354369.000000</td>\n",
       "      <td>354369.000000</td>\n",
       "      <td>354369.000000</td>\n",
       "      <td>354369.0</td>\n",
       "      <td>354369.000000</td>\n",
       "    </tr>\n",
       "    <tr>\n",
       "      <th>mean</th>\n",
       "      <td>4416.656776</td>\n",
       "      <td>2004.234448</td>\n",
       "      <td>110.094337</td>\n",
       "      <td>128211.172535</td>\n",
       "      <td>5.714645</td>\n",
       "      <td>0.0</td>\n",
       "      <td>50508.689087</td>\n",
       "    </tr>\n",
       "    <tr>\n",
       "      <th>std</th>\n",
       "      <td>4514.158514</td>\n",
       "      <td>90.227958</td>\n",
       "      <td>189.850405</td>\n",
       "      <td>37905.341530</td>\n",
       "      <td>3.726421</td>\n",
       "      <td>0.0</td>\n",
       "      <td>25783.096248</td>\n",
       "    </tr>\n",
       "    <tr>\n",
       "      <th>min</th>\n",
       "      <td>0.000000</td>\n",
       "      <td>1000.000000</td>\n",
       "      <td>0.000000</td>\n",
       "      <td>5000.000000</td>\n",
       "      <td>0.000000</td>\n",
       "      <td>0.0</td>\n",
       "      <td>1067.000000</td>\n",
       "    </tr>\n",
       "    <tr>\n",
       "      <th>25%</th>\n",
       "      <td>1050.000000</td>\n",
       "      <td>1999.000000</td>\n",
       "      <td>69.000000</td>\n",
       "      <td>125000.000000</td>\n",
       "      <td>3.000000</td>\n",
       "      <td>0.0</td>\n",
       "      <td>30165.000000</td>\n",
       "    </tr>\n",
       "    <tr>\n",
       "      <th>50%</th>\n",
       "      <td>2700.000000</td>\n",
       "      <td>2003.000000</td>\n",
       "      <td>105.000000</td>\n",
       "      <td>150000.000000</td>\n",
       "      <td>6.000000</td>\n",
       "      <td>0.0</td>\n",
       "      <td>49413.000000</td>\n",
       "    </tr>\n",
       "    <tr>\n",
       "      <th>75%</th>\n",
       "      <td>6400.000000</td>\n",
       "      <td>2008.000000</td>\n",
       "      <td>143.000000</td>\n",
       "      <td>150000.000000</td>\n",
       "      <td>9.000000</td>\n",
       "      <td>0.0</td>\n",
       "      <td>71083.000000</td>\n",
       "    </tr>\n",
       "    <tr>\n",
       "      <th>max</th>\n",
       "      <td>20000.000000</td>\n",
       "      <td>9999.000000</td>\n",
       "      <td>20000.000000</td>\n",
       "      <td>150000.000000</td>\n",
       "      <td>12.000000</td>\n",
       "      <td>0.0</td>\n",
       "      <td>99998.000000</td>\n",
       "    </tr>\n",
       "  </tbody>\n",
       "</table>\n",
       "</div>"
      ],
      "text/plain": [
       "               Price  RegistrationYear          Power      Kilometer  \\\n",
       "count  354369.000000     354369.000000  354369.000000  354369.000000   \n",
       "mean     4416.656776       2004.234448     110.094337  128211.172535   \n",
       "std      4514.158514         90.227958     189.850405   37905.341530   \n",
       "min         0.000000       1000.000000       0.000000    5000.000000   \n",
       "25%      1050.000000       1999.000000      69.000000  125000.000000   \n",
       "50%      2700.000000       2003.000000     105.000000  150000.000000   \n",
       "75%      6400.000000       2008.000000     143.000000  150000.000000   \n",
       "max     20000.000000       9999.000000   20000.000000  150000.000000   \n",
       "\n",
       "       RegistrationMonth  NumberOfPictures     PostalCode  \n",
       "count      354369.000000          354369.0  354369.000000  \n",
       "mean            5.714645               0.0   50508.689087  \n",
       "std             3.726421               0.0   25783.096248  \n",
       "min             0.000000               0.0    1067.000000  \n",
       "25%             3.000000               0.0   30165.000000  \n",
       "50%             6.000000               0.0   49413.000000  \n",
       "75%             9.000000               0.0   71083.000000  \n",
       "max            12.000000               0.0   99998.000000  "
      ]
     },
     "execution_count": 6,
     "metadata": {},
     "output_type": "execute_result"
    }
   ],
   "source": [
    "#вывод информации о столбцах с числовыми данными методом describe()\n",
    "df.describe()"
   ]
  },
  {
   "cell_type": "markdown",
   "metadata": {},
   "source": [
    "Отсюда видно следующее:\n",
    "    \n",
    "    В датасете у всех автомобилей нет фотографий\n",
    "    Цена: стоит иметь в виду, что среднее и медиана значительно отличаются, а также присутствуют нулевые значения\n",
    "    В некоторых столбцах существуют выбросы: \n",
    "        год регистрации - минимальное значение - 1000, максимальное - 9999\n",
    "        мощность, л.с. - минимальное значение - 0, максимальное - 20000\n",
    "        \n",
    "        "
   ]
  },
  {
   "cell_type": "code",
   "execution_count": 7,
   "metadata": {
    "scrolled": false
   },
   "outputs": [
    {
     "data": {
      "image/png": "[encoded data removed]",
      "text/plain": [
       "<Figure size 1080x1440 with 9 Axes>"
      ]
     },
     "metadata": {
      "needs_background": "light"
     },
     "output_type": "display_data"
    }
   ],
   "source": [
    "#вывод гистограмм распределений значений по количественным столбцам\n",
    "hist=df.hist(figsize=(15,20),color='green')    \n",
    "for ax in hist.flatten():\n",
    "    ax.set_xlabel('Значение'),\n",
    "    ax.set_ylabel('Количество значений')\n",
    "plt.show()    "
   ]
  },
  {
   "cell_type": "markdown",
   "metadata": {},
   "source": [
    "Для гистограмм по столбцам RegistrationYear, Power стандартным методом гистограмма малопоказательна. По данным столбцам построим распредления отдельно.\n",
    "\n",
    "По гистограммам остальных столбцов в первом приближении заметно следующее:\n",
    "- Цена: большинство автомобилей принадлежат низкому бюджетному классу, затем происходит убыль количества машин обратнопропорционально их стоимости: чем дороже автомобиль - тем реже встречается;\n",
    "- Километраж: наибольшее количество машин продаются с пробегом 150000 км;\n",
    "- Месяц регистрации: появляется интересная корреляция с месяцем покупки с пиками регистраций в январе, в июне и в декабре. Тогда как в остальное время года значения отличаются незначительно;\n",
    "- Почтовый индекс владельца анкеты: в целом данный столбец непоказателен в части гистограммы, тк индексы имеют случайное распределение скорее по географическому распределнию."
   ]
  },
  {
   "cell_type": "code",
   "execution_count": 8,
   "metadata": {
    "scrolled": true
   },
   "outputs": [
    {
     "data": {
      "image/png": "[encoded data removed]",
      "text/plain": [
       "<Figure size 432x288 with 1 Axes>"
      ]
     },
     "metadata": {
      "needs_background": "light"
     },
     "output_type": "display_data"
    }
   ],
   "source": [
    "#построение диаграмы размаха для столбца с годом регистрации\n",
    "df.boxplot('RegistrationYear');    "
   ]
  },
  {
   "cell_type": "markdown",
   "metadata": {},
   "source": [
    "Очевидно, в данном столбце присутствуют выбросы: история автомобилестроения начинается в 1880-е года, а максимальная верхняя палка - это наибольший год занесения в базу (2016). На следующе этапе предобработки данных будем учитывать."
   ]
  },
  {
   "cell_type": "code",
   "execution_count": 9,
   "metadata": {},
   "outputs": [
    {
     "data": {
      "image/png": "[encoded data removed]",
      "text/plain": [
       "<Figure size 432x288 with 1 Axes>"
      ]
     },
     "metadata": {
      "needs_background": "light"
     },
     "output_type": "display_data"
    }
   ],
   "source": [
    "#построение диаграмы размаха для столбца с годом регистрации\n",
    "df.boxplot('Power');    "
   ]
  },
  {
   "cell_type": "markdown",
   "metadata": {},
   "source": [
    "В данном столбце тоже что-то не так: для большинства автомобилей в свободной продаже максимальное значение мощности в лошадиных силах не больше 1000 лс, тогда как мы видим множество значений и выше данного порога. Отметим это также на будущее для этапа предобработки данных."
   ]
  },
  {
   "cell_type": "markdown",
   "metadata": {},
   "source": [
    "**Вывод по разделу Исследование данных**\n",
    "\n",
    "- в датасете присутствуют пропуски в столбцах: VehicleType, Gearbox, Model, FuelType, Repaired;\n",
    "- в некоторых столбцах присутствуют выбросы: RegistrationYear, Power\n",
    "- по гистограммам остальных столбцов в первом приближении заметно следующее:\n",
    "    - Цена: большинство автомобилей принадлежат низкому бюджетному классу, затем происходит убыль количества машин обратнопропорционально их стоимости: чем дороже автомобиль - тем реже встречается. Также стоит отметить, что есть строки с нулевыми ценами, что необходимо иметь в виду при предобработке данных;\n",
    "    - Километраж: наибольшее количество машин продаются с пробегом 150000 км;\n",
    "    - Месяц регистрации: появляется интересная корреляция с месяцем покупки с пиками регистраций в январе, в июне и в декабре. Тогда как в остальное время года значения отличаются незначительно;\n",
    "- в датасете присутствуют неинформативные признаки для предсказания стоимости автомобиля:\n",
    "    - DateCrawled — дата скачивания анкеты из базы;\n",
    "    - DateCreated — дата создания анкеты;\n",
    "    - NumberOfPictures — количество фотографий автомобиля (у всех автомобилей фотографии остуствуют);\n",
    "    - PostalCode — почтовый индекс владельца анкеты (пользователя);\n",
    "    - LastSeen — дата последней активности пользователя."
   ]
  },
  {
   "cell_type": "markdown",
   "metadata": {},
   "source": [
    "**Предобработка данных**"
   ]
  },
  {
   "cell_type": "markdown",
   "metadata": {},
   "source": [
    "Обработаем пропущенные значения в столбцах VehicleType, Gearbox, Model, FuelType, Repaired"
   ]
  },
  {
   "cell_type": "markdown",
   "metadata": {},
   "source": [
    "**Обработка пропущенных значений столбца VehicleType (тип автомобильного кузова).**\n",
    "\n",
    "Относительное число пропусков - 10,7%. \n",
    "\n",
    "Возможная причина появления пропусков: незаполненные данные пользователями и/или техническая ошибка.\n",
    "\n",
    "Изучим данные по столбцу пристальнее."
   ]
  },
  {
   "cell_type": "code",
   "execution_count": 10,
   "metadata": {},
   "outputs": [
    {
     "data": {
      "text/plain": [
       "array([nan, 'coupe', 'suv', 'small', 'sedan', 'convertible', 'bus',\n",
       "       'wagon', 'other'], dtype=object)"
      ]
     },
     "execution_count": 10,
     "metadata": {},
     "output_type": "execute_result"
    }
   ],
   "source": [
    "#вывод уникальных значений столбца\n",
    "df['VehicleType'].unique()"
   ]
  },
  {
   "cell_type": "code",
   "execution_count": 11,
   "metadata": {
    "scrolled": true
   },
   "outputs": [
    {
     "data": {
      "text/html": [
       "<div>\n",
       "<style scoped>\n",
       "    .dataframe tbody tr th:only-of-type {\n",
       "        vertical-align: middle;\n",
       "    }\n",
       "\n",
       "    .dataframe tbody tr th {\n",
       "        vertical-align: top;\n",
       "    }\n",
       "\n",
       "    .dataframe thead th {\n",
       "        text-align: right;\n",
       "    }\n",
       "</style>\n",
       "<table border=\"1\" class=\"dataframe\">\n",
       "  <thead>\n",
       "    <tr style=\"text-align: right;\">\n",
       "      <th></th>\n",
       "      <th>DateCrawled</th>\n",
       "      <th>Price</th>\n",
       "      <th>VehicleType</th>\n",
       "      <th>RegistrationYear</th>\n",
       "      <th>Gearbox</th>\n",
       "      <th>Power</th>\n",
       "      <th>Model</th>\n",
       "      <th>Kilometer</th>\n",
       "      <th>RegistrationMonth</th>\n",
       "      <th>FuelType</th>\n",
       "      <th>Brand</th>\n",
       "      <th>Repaired</th>\n",
       "      <th>DateCreated</th>\n",
       "      <th>NumberOfPictures</th>\n",
       "      <th>PostalCode</th>\n",
       "      <th>LastSeen</th>\n",
       "    </tr>\n",
       "  </thead>\n",
       "  <tbody>\n",
       "    <tr>\n",
       "      <th>0</th>\n",
       "      <td>2016-03-24 11:52:17</td>\n",
       "      <td>480</td>\n",
       "      <td>NaN</td>\n",
       "      <td>1993</td>\n",
       "      <td>manual</td>\n",
       "      <td>0</td>\n",
       "      <td>golf</td>\n",
       "      <td>150000</td>\n",
       "      <td>0</td>\n",
       "      <td>petrol</td>\n",
       "      <td>volkswagen</td>\n",
       "      <td>NaN</td>\n",
       "      <td>2016-03-24 00:00:00</td>\n",
       "      <td>0</td>\n",
       "      <td>70435</td>\n",
       "      <td>2016-04-07 03:16:57</td>\n",
       "    </tr>\n",
       "    <tr>\n",
       "      <th>1</th>\n",
       "      <td>2016-03-24 10:58:45</td>\n",
       "      <td>18300</td>\n",
       "      <td>coupe</td>\n",
       "      <td>2011</td>\n",
       "      <td>manual</td>\n",
       "      <td>190</td>\n",
       "      <td>NaN</td>\n",
       "      <td>125000</td>\n",
       "      <td>5</td>\n",
       "      <td>gasoline</td>\n",
       "      <td>audi</td>\n",
       "      <td>yes</td>\n",
       "      <td>2016-03-24 00:00:00</td>\n",
       "      <td>0</td>\n",
       "      <td>66954</td>\n",
       "      <td>2016-04-07 01:46:50</td>\n",
       "    </tr>\n",
       "    <tr>\n",
       "      <th>2</th>\n",
       "      <td>2016-03-14 12:52:21</td>\n",
       "      <td>9800</td>\n",
       "      <td>suv</td>\n",
       "      <td>2004</td>\n",
       "      <td>auto</td>\n",
       "      <td>163</td>\n",
       "      <td>grand</td>\n",
       "      <td>125000</td>\n",
       "      <td>8</td>\n",
       "      <td>gasoline</td>\n",
       "      <td>jeep</td>\n",
       "      <td>NaN</td>\n",
       "      <td>2016-03-14 00:00:00</td>\n",
       "      <td>0</td>\n",
       "      <td>90480</td>\n",
       "      <td>2016-04-05 12:47:46</td>\n",
       "    </tr>\n",
       "    <tr>\n",
       "      <th>3</th>\n",
       "      <td>2016-03-17 16:54:04</td>\n",
       "      <td>1500</td>\n",
       "      <td>small</td>\n",
       "      <td>2001</td>\n",
       "      <td>manual</td>\n",
       "      <td>75</td>\n",
       "      <td>golf</td>\n",
       "      <td>150000</td>\n",
       "      <td>6</td>\n",
       "      <td>petrol</td>\n",
       "      <td>volkswagen</td>\n",
       "      <td>no</td>\n",
       "      <td>2016-03-17 00:00:00</td>\n",
       "      <td>0</td>\n",
       "      <td>91074</td>\n",
       "      <td>2016-03-17 17:40:17</td>\n",
       "    </tr>\n",
       "    <tr>\n",
       "      <th>4</th>\n",
       "      <td>2016-03-31 17:25:20</td>\n",
       "      <td>3600</td>\n",
       "      <td>small</td>\n",
       "      <td>2008</td>\n",
       "      <td>manual</td>\n",
       "      <td>69</td>\n",
       "      <td>fabia</td>\n",
       "      <td>90000</td>\n",
       "      <td>7</td>\n",
       "      <td>gasoline</td>\n",
       "      <td>skoda</td>\n",
       "      <td>no</td>\n",
       "      <td>2016-03-31 00:00:00</td>\n",
       "      <td>0</td>\n",
       "      <td>60437</td>\n",
       "      <td>2016-04-06 10:17:21</td>\n",
       "    </tr>\n",
       "    <tr>\n",
       "      <th>5</th>\n",
       "      <td>2016-04-04 17:36:23</td>\n",
       "      <td>650</td>\n",
       "      <td>sedan</td>\n",
       "      <td>1995</td>\n",
       "      <td>manual</td>\n",
       "      <td>102</td>\n",
       "      <td>3er</td>\n",
       "      <td>150000</td>\n",
       "      <td>10</td>\n",
       "      <td>petrol</td>\n",
       "      <td>bmw</td>\n",
       "      <td>yes</td>\n",
       "      <td>2016-04-04 00:00:00</td>\n",
       "      <td>0</td>\n",
       "      <td>33775</td>\n",
       "      <td>2016-04-06 19:17:07</td>\n",
       "    </tr>\n",
       "    <tr>\n",
       "      <th>6</th>\n",
       "      <td>2016-04-01 20:48:51</td>\n",
       "      <td>2200</td>\n",
       "      <td>convertible</td>\n",
       "      <td>2004</td>\n",
       "      <td>manual</td>\n",
       "      <td>109</td>\n",
       "      <td>2_reihe</td>\n",
       "      <td>150000</td>\n",
       "      <td>8</td>\n",
       "      <td>petrol</td>\n",
       "      <td>peugeot</td>\n",
       "      <td>no</td>\n",
       "      <td>2016-04-01 00:00:00</td>\n",
       "      <td>0</td>\n",
       "      <td>67112</td>\n",
       "      <td>2016-04-05 18:18:39</td>\n",
       "    </tr>\n",
       "    <tr>\n",
       "      <th>7</th>\n",
       "      <td>2016-03-21 18:54:38</td>\n",
       "      <td>0</td>\n",
       "      <td>sedan</td>\n",
       "      <td>1980</td>\n",
       "      <td>manual</td>\n",
       "      <td>50</td>\n",
       "      <td>other</td>\n",
       "      <td>40000</td>\n",
       "      <td>7</td>\n",
       "      <td>petrol</td>\n",
       "      <td>volkswagen</td>\n",
       "      <td>no</td>\n",
       "      <td>2016-03-21 00:00:00</td>\n",
       "      <td>0</td>\n",
       "      <td>19348</td>\n",
       "      <td>2016-03-25 16:47:58</td>\n",
       "    </tr>\n",
       "    <tr>\n",
       "      <th>8</th>\n",
       "      <td>2016-04-04 23:42:13</td>\n",
       "      <td>14500</td>\n",
       "      <td>bus</td>\n",
       "      <td>2014</td>\n",
       "      <td>manual</td>\n",
       "      <td>125</td>\n",
       "      <td>c_max</td>\n",
       "      <td>30000</td>\n",
       "      <td>8</td>\n",
       "      <td>petrol</td>\n",
       "      <td>ford</td>\n",
       "      <td>NaN</td>\n",
       "      <td>2016-04-04 00:00:00</td>\n",
       "      <td>0</td>\n",
       "      <td>94505</td>\n",
       "      <td>2016-04-04 23:42:13</td>\n",
       "    </tr>\n",
       "    <tr>\n",
       "      <th>9</th>\n",
       "      <td>2016-03-17 10:53:50</td>\n",
       "      <td>999</td>\n",
       "      <td>small</td>\n",
       "      <td>1998</td>\n",
       "      <td>manual</td>\n",
       "      <td>101</td>\n",
       "      <td>golf</td>\n",
       "      <td>150000</td>\n",
       "      <td>0</td>\n",
       "      <td>NaN</td>\n",
       "      <td>volkswagen</td>\n",
       "      <td>NaN</td>\n",
       "      <td>2016-03-17 00:00:00</td>\n",
       "      <td>0</td>\n",
       "      <td>27472</td>\n",
       "      <td>2016-03-31 17:17:06</td>\n",
       "    </tr>\n",
       "    <tr>\n",
       "      <th>10</th>\n",
       "      <td>2016-03-26 19:54:18</td>\n",
       "      <td>2000</td>\n",
       "      <td>sedan</td>\n",
       "      <td>2004</td>\n",
       "      <td>manual</td>\n",
       "      <td>105</td>\n",
       "      <td>3_reihe</td>\n",
       "      <td>150000</td>\n",
       "      <td>12</td>\n",
       "      <td>petrol</td>\n",
       "      <td>mazda</td>\n",
       "      <td>no</td>\n",
       "      <td>2016-03-26 00:00:00</td>\n",
       "      <td>0</td>\n",
       "      <td>96224</td>\n",
       "      <td>2016-04-06 10:45:34</td>\n",
       "    </tr>\n",
       "    <tr>\n",
       "      <th>11</th>\n",
       "      <td>2016-04-07 10:06:22</td>\n",
       "      <td>2799</td>\n",
       "      <td>wagon</td>\n",
       "      <td>2005</td>\n",
       "      <td>manual</td>\n",
       "      <td>140</td>\n",
       "      <td>passat</td>\n",
       "      <td>150000</td>\n",
       "      <td>12</td>\n",
       "      <td>gasoline</td>\n",
       "      <td>volkswagen</td>\n",
       "      <td>yes</td>\n",
       "      <td>2016-04-07 00:00:00</td>\n",
       "      <td>0</td>\n",
       "      <td>57290</td>\n",
       "      <td>2016-04-07 10:25:17</td>\n",
       "    </tr>\n",
       "    <tr>\n",
       "      <th>12</th>\n",
       "      <td>2016-03-15 22:49:09</td>\n",
       "      <td>999</td>\n",
       "      <td>wagon</td>\n",
       "      <td>1995</td>\n",
       "      <td>manual</td>\n",
       "      <td>115</td>\n",
       "      <td>passat</td>\n",
       "      <td>150000</td>\n",
       "      <td>11</td>\n",
       "      <td>petrol</td>\n",
       "      <td>volkswagen</td>\n",
       "      <td>NaN</td>\n",
       "      <td>2016-03-15 00:00:00</td>\n",
       "      <td>0</td>\n",
       "      <td>37269</td>\n",
       "      <td>2016-04-01 13:16:16</td>\n",
       "    </tr>\n",
       "    <tr>\n",
       "      <th>13</th>\n",
       "      <td>2016-03-21 21:37:40</td>\n",
       "      <td>2500</td>\n",
       "      <td>wagon</td>\n",
       "      <td>2004</td>\n",
       "      <td>manual</td>\n",
       "      <td>131</td>\n",
       "      <td>passat</td>\n",
       "      <td>150000</td>\n",
       "      <td>2</td>\n",
       "      <td>NaN</td>\n",
       "      <td>volkswagen</td>\n",
       "      <td>no</td>\n",
       "      <td>2016-03-21 00:00:00</td>\n",
       "      <td>0</td>\n",
       "      <td>90762</td>\n",
       "      <td>2016-03-23 02:50:54</td>\n",
       "    </tr>\n",
       "    <tr>\n",
       "      <th>14</th>\n",
       "      <td>2016-03-21 12:57:01</td>\n",
       "      <td>17999</td>\n",
       "      <td>suv</td>\n",
       "      <td>2011</td>\n",
       "      <td>manual</td>\n",
       "      <td>190</td>\n",
       "      <td>navara</td>\n",
       "      <td>70000</td>\n",
       "      <td>3</td>\n",
       "      <td>gasoline</td>\n",
       "      <td>nissan</td>\n",
       "      <td>no</td>\n",
       "      <td>2016-03-21 00:00:00</td>\n",
       "      <td>0</td>\n",
       "      <td>4177</td>\n",
       "      <td>2016-04-06 07:45:42</td>\n",
       "    </tr>\n",
       "    <tr>\n",
       "      <th>15</th>\n",
       "      <td>2016-03-11 21:39:15</td>\n",
       "      <td>450</td>\n",
       "      <td>small</td>\n",
       "      <td>1910</td>\n",
       "      <td>NaN</td>\n",
       "      <td>0</td>\n",
       "      <td>ka</td>\n",
       "      <td>5000</td>\n",
       "      <td>0</td>\n",
       "      <td>petrol</td>\n",
       "      <td>ford</td>\n",
       "      <td>NaN</td>\n",
       "      <td>2016-03-11 00:00:00</td>\n",
       "      <td>0</td>\n",
       "      <td>24148</td>\n",
       "      <td>2016-03-19 08:46:47</td>\n",
       "    </tr>\n",
       "    <tr>\n",
       "      <th>16</th>\n",
       "      <td>2016-04-01 12:46:46</td>\n",
       "      <td>300</td>\n",
       "      <td>NaN</td>\n",
       "      <td>2016</td>\n",
       "      <td>NaN</td>\n",
       "      <td>60</td>\n",
       "      <td>polo</td>\n",
       "      <td>150000</td>\n",
       "      <td>0</td>\n",
       "      <td>petrol</td>\n",
       "      <td>volkswagen</td>\n",
       "      <td>NaN</td>\n",
       "      <td>2016-04-01 00:00:00</td>\n",
       "      <td>0</td>\n",
       "      <td>38871</td>\n",
       "      <td>2016-04-01 12:46:46</td>\n",
       "    </tr>\n",
       "    <tr>\n",
       "      <th>17</th>\n",
       "      <td>2016-03-20 10:25:19</td>\n",
       "      <td>1750</td>\n",
       "      <td>small</td>\n",
       "      <td>2004</td>\n",
       "      <td>auto</td>\n",
       "      <td>75</td>\n",
       "      <td>twingo</td>\n",
       "      <td>150000</td>\n",
       "      <td>2</td>\n",
       "      <td>petrol</td>\n",
       "      <td>renault</td>\n",
       "      <td>no</td>\n",
       "      <td>2016-03-20 00:00:00</td>\n",
       "      <td>0</td>\n",
       "      <td>65599</td>\n",
       "      <td>2016-04-06 13:16:07</td>\n",
       "    </tr>\n",
       "    <tr>\n",
       "      <th>18</th>\n",
       "      <td>2016-03-23 15:48:05</td>\n",
       "      <td>7550</td>\n",
       "      <td>bus</td>\n",
       "      <td>2007</td>\n",
       "      <td>manual</td>\n",
       "      <td>136</td>\n",
       "      <td>c_max</td>\n",
       "      <td>150000</td>\n",
       "      <td>6</td>\n",
       "      <td>gasoline</td>\n",
       "      <td>ford</td>\n",
       "      <td>no</td>\n",
       "      <td>2016-03-23 00:00:00</td>\n",
       "      <td>0</td>\n",
       "      <td>88361</td>\n",
       "      <td>2016-04-05 18:45:11</td>\n",
       "    </tr>\n",
       "    <tr>\n",
       "      <th>19</th>\n",
       "      <td>2016-04-01 22:55:47</td>\n",
       "      <td>1850</td>\n",
       "      <td>bus</td>\n",
       "      <td>2004</td>\n",
       "      <td>manual</td>\n",
       "      <td>102</td>\n",
       "      <td>a_klasse</td>\n",
       "      <td>150000</td>\n",
       "      <td>1</td>\n",
       "      <td>petrol</td>\n",
       "      <td>mercedes_benz</td>\n",
       "      <td>no</td>\n",
       "      <td>2016-04-01 00:00:00</td>\n",
       "      <td>0</td>\n",
       "      <td>49565</td>\n",
       "      <td>2016-04-05 22:46:05</td>\n",
       "    </tr>\n",
       "    <tr>\n",
       "      <th>20</th>\n",
       "      <td>2016-04-01 19:56:48</td>\n",
       "      <td>10400</td>\n",
       "      <td>coupe</td>\n",
       "      <td>2009</td>\n",
       "      <td>manual</td>\n",
       "      <td>160</td>\n",
       "      <td>scirocco</td>\n",
       "      <td>100000</td>\n",
       "      <td>4</td>\n",
       "      <td>petrol</td>\n",
       "      <td>volkswagen</td>\n",
       "      <td>no</td>\n",
       "      <td>2016-04-01 00:00:00</td>\n",
       "      <td>0</td>\n",
       "      <td>75365</td>\n",
       "      <td>2016-04-05 16:45:49</td>\n",
       "    </tr>\n",
       "    <tr>\n",
       "      <th>21</th>\n",
       "      <td>2016-03-27 11:38:00</td>\n",
       "      <td>3699</td>\n",
       "      <td>sedan</td>\n",
       "      <td>2002</td>\n",
       "      <td>auto</td>\n",
       "      <td>231</td>\n",
       "      <td>5er</td>\n",
       "      <td>150000</td>\n",
       "      <td>7</td>\n",
       "      <td>petrol</td>\n",
       "      <td>bmw</td>\n",
       "      <td>no</td>\n",
       "      <td>2016-03-27 00:00:00</td>\n",
       "      <td>0</td>\n",
       "      <td>68309</td>\n",
       "      <td>2016-04-07 06:44:26</td>\n",
       "    </tr>\n",
       "    <tr>\n",
       "      <th>22</th>\n",
       "      <td>2016-03-23 14:52:51</td>\n",
       "      <td>2900</td>\n",
       "      <td>NaN</td>\n",
       "      <td>2018</td>\n",
       "      <td>manual</td>\n",
       "      <td>90</td>\n",
       "      <td>meriva</td>\n",
       "      <td>150000</td>\n",
       "      <td>5</td>\n",
       "      <td>petrol</td>\n",
       "      <td>opel</td>\n",
       "      <td>no</td>\n",
       "      <td>2016-03-23 00:00:00</td>\n",
       "      <td>0</td>\n",
       "      <td>49716</td>\n",
       "      <td>2016-03-31 01:16:33</td>\n",
       "    </tr>\n",
       "    <tr>\n",
       "      <th>23</th>\n",
       "      <td>2016-03-12 19:43:07</td>\n",
       "      <td>450</td>\n",
       "      <td>small</td>\n",
       "      <td>1997</td>\n",
       "      <td>manual</td>\n",
       "      <td>50</td>\n",
       "      <td>arosa</td>\n",
       "      <td>150000</td>\n",
       "      <td>5</td>\n",
       "      <td>petrol</td>\n",
       "      <td>seat</td>\n",
       "      <td>no</td>\n",
       "      <td>2016-03-12 00:00:00</td>\n",
       "      <td>0</td>\n",
       "      <td>9526</td>\n",
       "      <td>2016-03-21 01:46:11</td>\n",
       "    </tr>\n",
       "    <tr>\n",
       "      <th>24</th>\n",
       "      <td>2016-03-13 20:40:49</td>\n",
       "      <td>500</td>\n",
       "      <td>sedan</td>\n",
       "      <td>1990</td>\n",
       "      <td>manual</td>\n",
       "      <td>118</td>\n",
       "      <td>other</td>\n",
       "      <td>150000</td>\n",
       "      <td>10</td>\n",
       "      <td>petrol</td>\n",
       "      <td>mercedes_benz</td>\n",
       "      <td>yes</td>\n",
       "      <td>2016-03-13 00:00:00</td>\n",
       "      <td>0</td>\n",
       "      <td>35390</td>\n",
       "      <td>2016-03-13 20:40:49</td>\n",
       "    </tr>\n",
       "    <tr>\n",
       "      <th>25</th>\n",
       "      <td>2016-03-18 21:44:09</td>\n",
       "      <td>2500</td>\n",
       "      <td>wagon</td>\n",
       "      <td>2002</td>\n",
       "      <td>auto</td>\n",
       "      <td>193</td>\n",
       "      <td>5er</td>\n",
       "      <td>150000</td>\n",
       "      <td>9</td>\n",
       "      <td>gasoline</td>\n",
       "      <td>bmw</td>\n",
       "      <td>yes</td>\n",
       "      <td>2016-03-18 00:00:00</td>\n",
       "      <td>0</td>\n",
       "      <td>73765</td>\n",
       "      <td>2016-03-18 21:44:09</td>\n",
       "    </tr>\n",
       "    <tr>\n",
       "      <th>26</th>\n",
       "      <td>2016-03-10 19:38:18</td>\n",
       "      <td>5555</td>\n",
       "      <td>NaN</td>\n",
       "      <td>2017</td>\n",
       "      <td>manual</td>\n",
       "      <td>125</td>\n",
       "      <td>c4</td>\n",
       "      <td>125000</td>\n",
       "      <td>4</td>\n",
       "      <td>NaN</td>\n",
       "      <td>citroen</td>\n",
       "      <td>no</td>\n",
       "      <td>2016-03-10 00:00:00</td>\n",
       "      <td>0</td>\n",
       "      <td>31139</td>\n",
       "      <td>2016-03-16 09:16:46</td>\n",
       "    </tr>\n",
       "    <tr>\n",
       "      <th>27</th>\n",
       "      <td>2016-03-07 12:51:23</td>\n",
       "      <td>6900</td>\n",
       "      <td>sedan</td>\n",
       "      <td>2008</td>\n",
       "      <td>manual</td>\n",
       "      <td>99</td>\n",
       "      <td>civic</td>\n",
       "      <td>60000</td>\n",
       "      <td>11</td>\n",
       "      <td>petrol</td>\n",
       "      <td>honda</td>\n",
       "      <td>no</td>\n",
       "      <td>2016-03-07 00:00:00</td>\n",
       "      <td>0</td>\n",
       "      <td>12621</td>\n",
       "      <td>2016-03-26 09:44:53</td>\n",
       "    </tr>\n",
       "    <tr>\n",
       "      <th>28</th>\n",
       "      <td>2016-03-09 11:56:38</td>\n",
       "      <td>1990</td>\n",
       "      <td>bus</td>\n",
       "      <td>1981</td>\n",
       "      <td>manual</td>\n",
       "      <td>50</td>\n",
       "      <td>transporter</td>\n",
       "      <td>5000</td>\n",
       "      <td>1</td>\n",
       "      <td>petrol</td>\n",
       "      <td>volkswagen</td>\n",
       "      <td>no</td>\n",
       "      <td>2016-03-09 00:00:00</td>\n",
       "      <td>0</td>\n",
       "      <td>87471</td>\n",
       "      <td>2016-03-10 07:44:33</td>\n",
       "    </tr>\n",
       "    <tr>\n",
       "      <th>29</th>\n",
       "      <td>2016-03-08 19:55:19</td>\n",
       "      <td>690</td>\n",
       "      <td>small</td>\n",
       "      <td>2003</td>\n",
       "      <td>manual</td>\n",
       "      <td>60</td>\n",
       "      <td>punto</td>\n",
       "      <td>150000</td>\n",
       "      <td>3</td>\n",
       "      <td>petrol</td>\n",
       "      <td>fiat</td>\n",
       "      <td>no</td>\n",
       "      <td>2016-03-08 00:00:00</td>\n",
       "      <td>0</td>\n",
       "      <td>86199</td>\n",
       "      <td>2016-03-09 11:45:28</td>\n",
       "    </tr>\n",
       "    <tr>\n",
       "      <th>30</th>\n",
       "      <td>2016-04-03 15:48:11</td>\n",
       "      <td>3300</td>\n",
       "      <td>sedan</td>\n",
       "      <td>1995</td>\n",
       "      <td>auto</td>\n",
       "      <td>113</td>\n",
       "      <td>e_klasse</td>\n",
       "      <td>150000</td>\n",
       "      <td>1</td>\n",
       "      <td>gasoline</td>\n",
       "      <td>mercedes_benz</td>\n",
       "      <td>no</td>\n",
       "      <td>2016-04-03 00:00:00</td>\n",
       "      <td>0</td>\n",
       "      <td>53879</td>\n",
       "      <td>2016-04-05 15:16:05</td>\n",
       "    </tr>\n",
       "    <tr>\n",
       "      <th>31</th>\n",
       "      <td>2016-03-29 16:57:02</td>\n",
       "      <td>899</td>\n",
       "      <td>NaN</td>\n",
       "      <td>2016</td>\n",
       "      <td>manual</td>\n",
       "      <td>60</td>\n",
       "      <td>clio</td>\n",
       "      <td>150000</td>\n",
       "      <td>6</td>\n",
       "      <td>petrol</td>\n",
       "      <td>renault</td>\n",
       "      <td>NaN</td>\n",
       "      <td>2016-03-29 00:00:00</td>\n",
       "      <td>0</td>\n",
       "      <td>37075</td>\n",
       "      <td>2016-03-29 17:43:07</td>\n",
       "    </tr>\n",
       "    <tr>\n",
       "      <th>32</th>\n",
       "      <td>2016-03-15 20:59:01</td>\n",
       "      <td>245</td>\n",
       "      <td>sedan</td>\n",
       "      <td>1994</td>\n",
       "      <td>NaN</td>\n",
       "      <td>0</td>\n",
       "      <td>golf</td>\n",
       "      <td>150000</td>\n",
       "      <td>2</td>\n",
       "      <td>petrol</td>\n",
       "      <td>volkswagen</td>\n",
       "      <td>no</td>\n",
       "      <td>2016-03-15 00:00:00</td>\n",
       "      <td>0</td>\n",
       "      <td>44145</td>\n",
       "      <td>2016-03-17 18:17:43</td>\n",
       "    </tr>\n",
       "    <tr>\n",
       "      <th>33</th>\n",
       "      <td>2016-03-25 21:48:47</td>\n",
       "      <td>18000</td>\n",
       "      <td>sedan</td>\n",
       "      <td>2007</td>\n",
       "      <td>auto</td>\n",
       "      <td>218</td>\n",
       "      <td>3er</td>\n",
       "      <td>20000</td>\n",
       "      <td>5</td>\n",
       "      <td>petrol</td>\n",
       "      <td>bmw</td>\n",
       "      <td>no</td>\n",
       "      <td>2016-03-25 00:00:00</td>\n",
       "      <td>0</td>\n",
       "      <td>39179</td>\n",
       "      <td>2016-04-07 04:45:21</td>\n",
       "    </tr>\n",
       "    <tr>\n",
       "      <th>34</th>\n",
       "      <td>2016-03-17 18:55:12</td>\n",
       "      <td>3500</td>\n",
       "      <td>sedan</td>\n",
       "      <td>2004</td>\n",
       "      <td>auto</td>\n",
       "      <td>122</td>\n",
       "      <td>e_klasse</td>\n",
       "      <td>150000</td>\n",
       "      <td>11</td>\n",
       "      <td>gasoline</td>\n",
       "      <td>mercedes_benz</td>\n",
       "      <td>no</td>\n",
       "      <td>2016-03-17 00:00:00</td>\n",
       "      <td>0</td>\n",
       "      <td>67071</td>\n",
       "      <td>2016-03-30 15:46:10</td>\n",
       "    </tr>\n",
       "    <tr>\n",
       "      <th>35</th>\n",
       "      <td>2016-03-08 07:54:46</td>\n",
       "      <td>350</td>\n",
       "      <td>NaN</td>\n",
       "      <td>2016</td>\n",
       "      <td>manual</td>\n",
       "      <td>75</td>\n",
       "      <td>golf</td>\n",
       "      <td>150000</td>\n",
       "      <td>4</td>\n",
       "      <td>petrol</td>\n",
       "      <td>volkswagen</td>\n",
       "      <td>no</td>\n",
       "      <td>2016-03-08 00:00:00</td>\n",
       "      <td>0</td>\n",
       "      <td>19386</td>\n",
       "      <td>2016-03-08 09:44:50</td>\n",
       "    </tr>\n",
       "    <tr>\n",
       "      <th>36</th>\n",
       "      <td>2016-03-11 11:50:37</td>\n",
       "      <td>1600</td>\n",
       "      <td>other</td>\n",
       "      <td>1991</td>\n",
       "      <td>manual</td>\n",
       "      <td>75</td>\n",
       "      <td>kadett</td>\n",
       "      <td>70000</td>\n",
       "      <td>0</td>\n",
       "      <td>NaN</td>\n",
       "      <td>opel</td>\n",
       "      <td>NaN</td>\n",
       "      <td>2016-03-11 00:00:00</td>\n",
       "      <td>0</td>\n",
       "      <td>2943</td>\n",
       "      <td>2016-04-07 03:46:09</td>\n",
       "    </tr>\n",
       "    <tr>\n",
       "      <th>37</th>\n",
       "      <td>2016-03-28 17:50:15</td>\n",
       "      <td>1500</td>\n",
       "      <td>NaN</td>\n",
       "      <td>2016</td>\n",
       "      <td>NaN</td>\n",
       "      <td>0</td>\n",
       "      <td>kangoo</td>\n",
       "      <td>150000</td>\n",
       "      <td>1</td>\n",
       "      <td>gasoline</td>\n",
       "      <td>renault</td>\n",
       "      <td>no</td>\n",
       "      <td>2016-03-28 00:00:00</td>\n",
       "      <td>0</td>\n",
       "      <td>46483</td>\n",
       "      <td>2016-03-30 09:18:02</td>\n",
       "    </tr>\n",
       "    <tr>\n",
       "      <th>38</th>\n",
       "      <td>2016-04-01 17:45:07</td>\n",
       "      <td>11900</td>\n",
       "      <td>other</td>\n",
       "      <td>2002</td>\n",
       "      <td>manual</td>\n",
       "      <td>129</td>\n",
       "      <td>other</td>\n",
       "      <td>150000</td>\n",
       "      <td>11</td>\n",
       "      <td>gasoline</td>\n",
       "      <td>volkswagen</td>\n",
       "      <td>no</td>\n",
       "      <td>2016-04-01 00:00:00</td>\n",
       "      <td>0</td>\n",
       "      <td>10551</td>\n",
       "      <td>2016-04-05 12:47:30</td>\n",
       "    </tr>\n",
       "    <tr>\n",
       "      <th>39</th>\n",
       "      <td>2016-03-25 15:50:30</td>\n",
       "      <td>1500</td>\n",
       "      <td>bus</td>\n",
       "      <td>1984</td>\n",
       "      <td>manual</td>\n",
       "      <td>70</td>\n",
       "      <td>other</td>\n",
       "      <td>150000</td>\n",
       "      <td>8</td>\n",
       "      <td>gasoline</td>\n",
       "      <td>mercedes_benz</td>\n",
       "      <td>no</td>\n",
       "      <td>2016-03-25 00:00:00</td>\n",
       "      <td>0</td>\n",
       "      <td>22767</td>\n",
       "      <td>2016-03-27 03:17:02</td>\n",
       "    </tr>\n",
       "    <tr>\n",
       "      <th>40</th>\n",
       "      <td>2016-03-26 22:06:17</td>\n",
       "      <td>0</td>\n",
       "      <td>NaN</td>\n",
       "      <td>1990</td>\n",
       "      <td>NaN</td>\n",
       "      <td>0</td>\n",
       "      <td>corsa</td>\n",
       "      <td>150000</td>\n",
       "      <td>1</td>\n",
       "      <td>petrol</td>\n",
       "      <td>opel</td>\n",
       "      <td>NaN</td>\n",
       "      <td>2016-03-26 00:00:00</td>\n",
       "      <td>0</td>\n",
       "      <td>56412</td>\n",
       "      <td>2016-03-27 17:43:34</td>\n",
       "    </tr>\n",
       "    <tr>\n",
       "      <th>41</th>\n",
       "      <td>2016-03-30 20:38:20</td>\n",
       "      <td>7500</td>\n",
       "      <td>sedan</td>\n",
       "      <td>2002</td>\n",
       "      <td>auto</td>\n",
       "      <td>306</td>\n",
       "      <td>e_klasse</td>\n",
       "      <td>150000</td>\n",
       "      <td>4</td>\n",
       "      <td>NaN</td>\n",
       "      <td>mercedes_benz</td>\n",
       "      <td>NaN</td>\n",
       "      <td>2016-03-30 00:00:00</td>\n",
       "      <td>0</td>\n",
       "      <td>33649</td>\n",
       "      <td>2016-04-03 11:44:49</td>\n",
       "    </tr>\n",
       "    <tr>\n",
       "      <th>42</th>\n",
       "      <td>2016-03-24 00:52:09</td>\n",
       "      <td>12500</td>\n",
       "      <td>sedan</td>\n",
       "      <td>2006</td>\n",
       "      <td>auto</td>\n",
       "      <td>231</td>\n",
       "      <td>5er</td>\n",
       "      <td>150000</td>\n",
       "      <td>11</td>\n",
       "      <td>gasoline</td>\n",
       "      <td>bmw</td>\n",
       "      <td>NaN</td>\n",
       "      <td>2016-03-23 00:00:00</td>\n",
       "      <td>0</td>\n",
       "      <td>46119</td>\n",
       "      <td>2016-04-04 16:18:19</td>\n",
       "    </tr>\n",
       "    <tr>\n",
       "      <th>43</th>\n",
       "      <td>2016-03-13 15:47:08</td>\n",
       "      <td>6990</td>\n",
       "      <td>sedan</td>\n",
       "      <td>2007</td>\n",
       "      <td>manual</td>\n",
       "      <td>95</td>\n",
       "      <td>one</td>\n",
       "      <td>100000</td>\n",
       "      <td>8</td>\n",
       "      <td>petrol</td>\n",
       "      <td>mini</td>\n",
       "      <td>no</td>\n",
       "      <td>2016-03-13 00:00:00</td>\n",
       "      <td>0</td>\n",
       "      <td>59174</td>\n",
       "      <td>2016-03-21 17:17:50</td>\n",
       "    </tr>\n",
       "    <tr>\n",
       "      <th>44</th>\n",
       "      <td>2016-03-17 12:44:43</td>\n",
       "      <td>3900</td>\n",
       "      <td>small</td>\n",
       "      <td>2008</td>\n",
       "      <td>auto</td>\n",
       "      <td>61</td>\n",
       "      <td>fortwo</td>\n",
       "      <td>80000</td>\n",
       "      <td>6</td>\n",
       "      <td>petrol</td>\n",
       "      <td>smart</td>\n",
       "      <td>NaN</td>\n",
       "      <td>2016-03-17 00:00:00</td>\n",
       "      <td>0</td>\n",
       "      <td>21073</td>\n",
       "      <td>2016-03-19 11:46:17</td>\n",
       "    </tr>\n",
       "    <tr>\n",
       "      <th>45</th>\n",
       "      <td>2016-03-29 18:57:46</td>\n",
       "      <td>590</td>\n",
       "      <td>small</td>\n",
       "      <td>1999</td>\n",
       "      <td>manual</td>\n",
       "      <td>75</td>\n",
       "      <td>clio</td>\n",
       "      <td>125000</td>\n",
       "      <td>8</td>\n",
       "      <td>petrol</td>\n",
       "      <td>renault</td>\n",
       "      <td>no</td>\n",
       "      <td>2016-03-29 00:00:00</td>\n",
       "      <td>0</td>\n",
       "      <td>84180</td>\n",
       "      <td>2016-03-29 18:57:46</td>\n",
       "    </tr>\n",
       "    <tr>\n",
       "      <th>46</th>\n",
       "      <td>2016-03-15 18:59:02</td>\n",
       "      <td>7999</td>\n",
       "      <td>sedan</td>\n",
       "      <td>2007</td>\n",
       "      <td>manual</td>\n",
       "      <td>177</td>\n",
       "      <td>1er</td>\n",
       "      <td>150000</td>\n",
       "      <td>8</td>\n",
       "      <td>gasoline</td>\n",
       "      <td>bmw</td>\n",
       "      <td>no</td>\n",
       "      <td>2016-03-15 00:00:00</td>\n",
       "      <td>0</td>\n",
       "      <td>53604</td>\n",
       "      <td>2016-03-16 16:47:48</td>\n",
       "    </tr>\n",
       "    <tr>\n",
       "      <th>47</th>\n",
       "      <td>2016-04-04 00:38:22</td>\n",
       "      <td>2100</td>\n",
       "      <td>wagon</td>\n",
       "      <td>1998</td>\n",
       "      <td>auto</td>\n",
       "      <td>193</td>\n",
       "      <td>5er</td>\n",
       "      <td>150000</td>\n",
       "      <td>2</td>\n",
       "      <td>petrol</td>\n",
       "      <td>bmw</td>\n",
       "      <td>no</td>\n",
       "      <td>2016-04-03 00:00:00</td>\n",
       "      <td>0</td>\n",
       "      <td>86157</td>\n",
       "      <td>2016-04-06 08:16:21</td>\n",
       "    </tr>\n",
       "    <tr>\n",
       "      <th>48</th>\n",
       "      <td>2016-03-25 14:40:12</td>\n",
       "      <td>7750</td>\n",
       "      <td>NaN</td>\n",
       "      <td>2017</td>\n",
       "      <td>manual</td>\n",
       "      <td>80</td>\n",
       "      <td>golf</td>\n",
       "      <td>100000</td>\n",
       "      <td>1</td>\n",
       "      <td>petrol</td>\n",
       "      <td>volkswagen</td>\n",
       "      <td>NaN</td>\n",
       "      <td>2016-03-25 00:00:00</td>\n",
       "      <td>0</td>\n",
       "      <td>48499</td>\n",
       "      <td>2016-03-31 21:47:44</td>\n",
       "    </tr>\n",
       "    <tr>\n",
       "      <th>49</th>\n",
       "      <td>2016-04-04 14:06:22</td>\n",
       "      <td>13500</td>\n",
       "      <td>bus</td>\n",
       "      <td>2012</td>\n",
       "      <td>auto</td>\n",
       "      <td>109</td>\n",
       "      <td>b_klasse</td>\n",
       "      <td>150000</td>\n",
       "      <td>7</td>\n",
       "      <td>gasoline</td>\n",
       "      <td>mercedes_benz</td>\n",
       "      <td>no</td>\n",
       "      <td>2016-04-04 00:00:00</td>\n",
       "      <td>0</td>\n",
       "      <td>35576</td>\n",
       "      <td>2016-04-05 12:09:29</td>\n",
       "    </tr>\n",
       "  </tbody>\n",
       "</table>\n",
       "</div>"
      ],
      "text/plain": [
       "            DateCrawled  Price  VehicleType  RegistrationYear Gearbox  Power  \\\n",
       "0   2016-03-24 11:52:17    480          NaN              1993  manual      0   \n",
       "1   2016-03-24 10:58:45  18300        coupe              2011  manual    190   \n",
       "2   2016-03-14 12:52:21   9800          suv              2004    auto    163   \n",
       "3   2016-03-17 16:54:04   1500        small              2001  manual     75   \n",
       "4   2016-03-31 17:25:20   3600        small              2008  manual     69   \n",
       "5   2016-04-04 17:36:23    650        sedan              1995  manual    102   \n",
       "6   2016-04-01 20:48:51   2200  convertible              2004  manual    109   \n",
       "7   2016-03-21 18:54:38      0        sedan              1980  manual     50   \n",
       "8   2016-04-04 23:42:13  14500          bus              2014  manual    125   \n",
       "9   2016-03-17 10:53:50    999        small              1998  manual    101   \n",
       "10  2016-03-26 19:54:18   2000        sedan              2004  manual    105   \n",
       "11  2016-04-07 10:06:22   2799        wagon              2005  manual    140   \n",
       "12  2016-03-15 22:49:09    999        wagon              1995  manual    115   \n",
       "13  2016-03-21 21:37:40   2500        wagon              2004  manual    131   \n",
       "14  2016-03-21 12:57:01  17999          suv              2011  manual    190   \n",
       "15  2016-03-11 21:39:15    450        small              1910     NaN      0   \n",
       "16  2016-04-01 12:46:46    300          NaN              2016     NaN     60   \n",
       "17  2016-03-20 10:25:19   1750        small              2004    auto     75   \n",
       "18  2016-03-23 15:48:05   7550          bus              2007  manual    136   \n",
       "19  2016-04-01 22:55:47   1850          bus              2004  manual    102   \n",
       "20  2016-04-01 19:56:48  10400        coupe              2009  manual    160   \n",
       "21  2016-03-27 11:38:00   3699        sedan              2002    auto    231   \n",
       "22  2016-03-23 14:52:51   2900          NaN              2018  manual     90   \n",
       "23  2016-03-12 19:43:07    450        small              1997  manual     50   \n",
       "24  2016-03-13 20:40:49    500        sedan              1990  manual    118   \n",
       "25  2016-03-18 21:44:09   2500        wagon              2002    auto    193   \n",
       "26  2016-03-10 19:38:18   5555          NaN              2017  manual    125   \n",
       "27  2016-03-07 12:51:23   6900        sedan              2008  manual     99   \n",
       "28  2016-03-09 11:56:38   1990          bus              1981  manual     50   \n",
       "29  2016-03-08 19:55:19    690        small              2003  manual     60   \n",
       "30  2016-04-03 15:48:11   3300        sedan              1995    auto    113   \n",
       "31  2016-03-29 16:57:02    899          NaN              2016  manual     60   \n",
       "32  2016-03-15 20:59:01    245        sedan              1994     NaN      0   \n",
       "33  2016-03-25 21:48:47  18000        sedan              2007    auto    218   \n",
       "34  2016-03-17 18:55:12   3500        sedan              2004    auto    122   \n",
       "35  2016-03-08 07:54:46    350          NaN              2016  manual     75   \n",
       "36  2016-03-11 11:50:37   1600        other              1991  manual     75   \n",
       "37  2016-03-28 17:50:15   1500          NaN              2016     NaN      0   \n",
       "38  2016-04-01 17:45:07  11900        other              2002  manual    129   \n",
       "39  2016-03-25 15:50:30   1500          bus              1984  manual     70   \n",
       "40  2016-03-26 22:06:17      0          NaN              1990     NaN      0   \n",
       "41  2016-03-30 20:38:20   7500        sedan              2002    auto    306   \n",
       "42  2016-03-24 00:52:09  12500        sedan              2006    auto    231   \n",
       "43  2016-03-13 15:47:08   6990        sedan              2007  manual     95   \n",
       "44  2016-03-17 12:44:43   3900        small              2008    auto     61   \n",
       "45  2016-03-29 18:57:46    590        small              1999  manual     75   \n",
       "46  2016-03-15 18:59:02   7999        sedan              2007  manual    177   \n",
       "47  2016-04-04 00:38:22   2100        wagon              1998    auto    193   \n",
       "48  2016-03-25 14:40:12   7750          NaN              2017  manual     80   \n",
       "49  2016-04-04 14:06:22  13500          bus              2012    auto    109   \n",
       "\n",
       "          Model  Kilometer  RegistrationMonth  FuelType          Brand  \\\n",
       "0          golf     150000                  0    petrol     volkswagen   \n",
       "1           NaN     125000                  5  gasoline           audi   \n",
       "2         grand     125000                  8  gasoline           jeep   \n",
       "3          golf     150000                  6    petrol     volkswagen   \n",
       "4         fabia      90000                  7  gasoline          skoda   \n",
       "5           3er     150000                 10    petrol            bmw   \n",
       "6       2_reihe     150000                  8    petrol        peugeot   \n",
       "7         other      40000                  7    petrol     volkswagen   \n",
       "8         c_max      30000                  8    petrol           ford   \n",
       "9          golf     150000                  0       NaN     volkswagen   \n",
       "10      3_reihe     150000                 12    petrol          mazda   \n",
       "11       passat     150000                 12  gasoline     volkswagen   \n",
       "12       passat     150000                 11    petrol     volkswagen   \n",
       "13       passat     150000                  2       NaN     volkswagen   \n",
       "14       navara      70000                  3  gasoline         nissan   \n",
       "15           ka       5000                  0    petrol           ford   \n",
       "16         polo     150000                  0    petrol     volkswagen   \n",
       "17       twingo     150000                  2    petrol        renault   \n",
       "18        c_max     150000                  6  gasoline           ford   \n",
       "19     a_klasse     150000                  1    petrol  mercedes_benz   \n",
       "20     scirocco     100000                  4    petrol     volkswagen   \n",
       "21          5er     150000                  7    petrol            bmw   \n",
       "22       meriva     150000                  5    petrol           opel   \n",
       "23        arosa     150000                  5    petrol           seat   \n",
       "24        other     150000                 10    petrol  mercedes_benz   \n",
       "25          5er     150000                  9  gasoline            bmw   \n",
       "26           c4     125000                  4       NaN        citroen   \n",
       "27        civic      60000                 11    petrol          honda   \n",
       "28  transporter       5000                  1    petrol     volkswagen   \n",
       "29        punto     150000                  3    petrol           fiat   \n",
       "30     e_klasse     150000                  1  gasoline  mercedes_benz   \n",
       "31         clio     150000                  6    petrol        renault   \n",
       "32         golf     150000                  2    petrol     volkswagen   \n",
       "33          3er      20000                  5    petrol            bmw   \n",
       "34     e_klasse     150000                 11  gasoline  mercedes_benz   \n",
       "35         golf     150000                  4    petrol     volkswagen   \n",
       "36       kadett      70000                  0       NaN           opel   \n",
       "37       kangoo     150000                  1  gasoline        renault   \n",
       "38        other     150000                 11  gasoline     volkswagen   \n",
       "39        other     150000                  8  gasoline  mercedes_benz   \n",
       "40        corsa     150000                  1    petrol           opel   \n",
       "41     e_klasse     150000                  4       NaN  mercedes_benz   \n",
       "42          5er     150000                 11  gasoline            bmw   \n",
       "43          one     100000                  8    petrol           mini   \n",
       "44       fortwo      80000                  6    petrol          smart   \n",
       "45         clio     125000                  8    petrol        renault   \n",
       "46          1er     150000                  8  gasoline            bmw   \n",
       "47          5er     150000                  2    petrol            bmw   \n",
       "48         golf     100000                  1    petrol     volkswagen   \n",
       "49     b_klasse     150000                  7  gasoline  mercedes_benz   \n",
       "\n",
       "   Repaired          DateCreated  NumberOfPictures  PostalCode  \\\n",
       "0       NaN  2016-03-24 00:00:00                 0       70435   \n",
       "1       yes  2016-03-24 00:00:00                 0       66954   \n",
       "2       NaN  2016-03-14 00:00:00                 0       90480   \n",
       "3        no  2016-03-17 00:00:00                 0       91074   \n",
       "4        no  2016-03-31 00:00:00                 0       60437   \n",
       "5       yes  2016-04-04 00:00:00                 0       33775   \n",
       "6        no  2016-04-01 00:00:00                 0       67112   \n",
       "7        no  2016-03-21 00:00:00                 0       19348   \n",
       "8       NaN  2016-04-04 00:00:00                 0       94505   \n",
       "9       NaN  2016-03-17 00:00:00                 0       27472   \n",
       "10       no  2016-03-26 00:00:00                 0       96224   \n",
       "11      yes  2016-04-07 00:00:00                 0       57290   \n",
       "12      NaN  2016-03-15 00:00:00                 0       37269   \n",
       "13       no  2016-03-21 00:00:00                 0       90762   \n",
       "14       no  2016-03-21 00:00:00                 0        4177   \n",
       "15      NaN  2016-03-11 00:00:00                 0       24148   \n",
       "16      NaN  2016-04-01 00:00:00                 0       38871   \n",
       "17       no  2016-03-20 00:00:00                 0       65599   \n",
       "18       no  2016-03-23 00:00:00                 0       88361   \n",
       "19       no  2016-04-01 00:00:00                 0       49565   \n",
       "20       no  2016-04-01 00:00:00                 0       75365   \n",
       "21       no  2016-03-27 00:00:00                 0       68309   \n",
       "22       no  2016-03-23 00:00:00                 0       49716   \n",
       "23       no  2016-03-12 00:00:00                 0        9526   \n",
       "24      yes  2016-03-13 00:00:00                 0       35390   \n",
       "25      yes  2016-03-18 00:00:00                 0       73765   \n",
       "26       no  2016-03-10 00:00:00                 0       31139   \n",
       "27       no  2016-03-07 00:00:00                 0       12621   \n",
       "28       no  2016-03-09 00:00:00                 0       87471   \n",
       "29       no  2016-03-08 00:00:00                 0       86199   \n",
       "30       no  2016-04-03 00:00:00                 0       53879   \n",
       "31      NaN  2016-03-29 00:00:00                 0       37075   \n",
       "32       no  2016-03-15 00:00:00                 0       44145   \n",
       "33       no  2016-03-25 00:00:00                 0       39179   \n",
       "34       no  2016-03-17 00:00:00                 0       67071   \n",
       "35       no  2016-03-08 00:00:00                 0       19386   \n",
       "36      NaN  2016-03-11 00:00:00                 0        2943   \n",
       "37       no  2016-03-28 00:00:00                 0       46483   \n",
       "38       no  2016-04-01 00:00:00                 0       10551   \n",
       "39       no  2016-03-25 00:00:00                 0       22767   \n",
       "40      NaN  2016-03-26 00:00:00                 0       56412   \n",
       "41      NaN  2016-03-30 00:00:00                 0       33649   \n",
       "42      NaN  2016-03-23 00:00:00                 0       46119   \n",
       "43       no  2016-03-13 00:00:00                 0       59174   \n",
       "44      NaN  2016-03-17 00:00:00                 0       21073   \n",
       "45       no  2016-03-29 00:00:00                 0       84180   \n",
       "46       no  2016-03-15 00:00:00                 0       53604   \n",
       "47       no  2016-04-03 00:00:00                 0       86157   \n",
       "48      NaN  2016-03-25 00:00:00                 0       48499   \n",
       "49       no  2016-04-04 00:00:00                 0       35576   \n",
       "\n",
       "               LastSeen  \n",
       "0   2016-04-07 03:16:57  \n",
       "1   2016-04-07 01:46:50  \n",
       "2   2016-04-05 12:47:46  \n",
       "3   2016-03-17 17:40:17  \n",
       "4   2016-04-06 10:17:21  \n",
       "5   2016-04-06 19:17:07  \n",
       "6   2016-04-05 18:18:39  \n",
       "7   2016-03-25 16:47:58  \n",
       "8   2016-04-04 23:42:13  \n",
       "9   2016-03-31 17:17:06  \n",
       "10  2016-04-06 10:45:34  \n",
       "11  2016-04-07 10:25:17  \n",
       "12  2016-04-01 13:16:16  \n",
       "13  2016-03-23 02:50:54  \n",
       "14  2016-04-06 07:45:42  \n",
       "15  2016-03-19 08:46:47  \n",
       "16  2016-04-01 12:46:46  \n",
       "17  2016-04-06 13:16:07  \n",
       "18  2016-04-05 18:45:11  \n",
       "19  2016-04-05 22:46:05  \n",
       "20  2016-04-05 16:45:49  \n",
       "21  2016-04-07 06:44:26  \n",
       "22  2016-03-31 01:16:33  \n",
       "23  2016-03-21 01:46:11  \n",
       "24  2016-03-13 20:40:49  \n",
       "25  2016-03-18 21:44:09  \n",
       "26  2016-03-16 09:16:46  \n",
       "27  2016-03-26 09:44:53  \n",
       "28  2016-03-10 07:44:33  \n",
       "29  2016-03-09 11:45:28  \n",
       "30  2016-04-05 15:16:05  \n",
       "31  2016-03-29 17:43:07  \n",
       "32  2016-03-17 18:17:43  \n",
       "33  2016-04-07 04:45:21  \n",
       "34  2016-03-30 15:46:10  \n",
       "35  2016-03-08 09:44:50  \n",
       "36  2016-04-07 03:46:09  \n",
       "37  2016-03-30 09:18:02  \n",
       "38  2016-04-05 12:47:30  \n",
       "39  2016-03-27 03:17:02  \n",
       "40  2016-03-27 17:43:34  \n",
       "41  2016-04-03 11:44:49  \n",
       "42  2016-04-04 16:18:19  \n",
       "43  2016-03-21 17:17:50  \n",
       "44  2016-03-19 11:46:17  \n",
       "45  2016-03-29 18:57:46  \n",
       "46  2016-03-16 16:47:48  \n",
       "47  2016-04-06 08:16:21  \n",
       "48  2016-03-31 21:47:44  \n",
       "49  2016-04-05 12:09:29  "
      ]
     },
     "execution_count": 11,
     "metadata": {},
     "output_type": "execute_result"
    }
   ],
   "source": [
    "#вывод первых строк всего датасета\n",
    "df.head(50)"
   ]
  },
  {
   "cell_type": "markdown",
   "metadata": {},
   "source": [
    "Из выведенных данных можно составить первое предложение для заполнения пропусков:\n",
    "\n",
    "Для некоторых незаполненных типов VehicleType есть заполненные значения по столбцу Model. И для таких моделей в других строках есть заполненные типы автомобиля. Для начала можно взять и заполнить пропуски соответствующих моделей.\n",
    "\n",
    "Попробуем посмотреть на примере модели polo:"
   ]
  },
  {
   "cell_type": "code",
   "execution_count": 12,
   "metadata": {},
   "outputs": [
    {
     "data": {
      "text/plain": [
       "array([nan, 'small', 'sedan', 'wagon', 'coupe', 'convertible', 'bus',\n",
       "       'other', 'suv'], dtype=object)"
      ]
     },
     "execution_count": 12,
     "metadata": {},
     "output_type": "execute_result"
    }
   ],
   "source": [
    "#вывод уникальных значений столбца VehicleType для модели polo:\n",
    "df.loc[df['Model']=='polo',:]['VehicleType'].unique()"
   ]
  },
  {
   "cell_type": "markdown",
   "metadata": {},
   "source": [
    "Занятно, что для одной и той же модели существует различное заполнение информации о типе автомобиля. Странно только, что типы разнятся: от small (видимо это хэтчбеки) и sedan (седан), что вполне логично для общепринятого понятия для корпусов volkswagen polo, до bus (автобус) и suv (\"паркетник\" или городской внедорожник).\n",
    "\n",
    "Посмотрим на распределение количества типов автомобиля для модели Polo:"
   ]
  },
  {
   "cell_type": "code",
   "execution_count": 13,
   "metadata": {},
   "outputs": [
    {
     "data": {
      "image/png": "[encoded data removed]",
      "text/plain": [
       "<Figure size 432x288 with 1 Axes>"
      ]
     },
     "metadata": {
      "needs_background": "light"
     },
     "output_type": "display_data"
    }
   ],
   "source": [
    "#вывод гистограммы распределения значений столбца VehicleType для модели polo\n",
    "df.loc[df['Model']=='polo']['VehicleType'].hist(color='green')\n",
    "plt.title('Число различных типов автомобилей для модели polo')\n",
    "plt.xlabel('Тип кузова автомобиля')\n",
    "plt.ylabel('Количество значений')\n",
    "plt.show()    "
   ]
  },
  {
   "cell_type": "markdown",
   "metadata": {},
   "source": [
    "Отсюда видно, что для данной модели (polo) примущественый тип авто - это small. Тогда есть смысл заполнить пропуски именно этим значением. Для дальнейшего использования достанем функцию Counter:"
   ]
  },
  {
   "cell_type": "code",
   "execution_count": 14,
   "metadata": {},
   "outputs": [
    {
     "data": {
      "text/plain": [
       "'small'"
      ]
     },
     "execution_count": 14,
     "metadata": {},
     "output_type": "execute_result"
    }
   ],
   "source": [
    "#вывод наиболее часто встречающегося значения VehicleType для модели polo\n",
    "model_polo_max=Counter(df.loc[df['Model']=='polo']['VehicleType']).most_common(1)[0][0]\n",
    "model_polo_max"
   ]
  },
  {
   "cell_type": "code",
   "execution_count": 15,
   "metadata": {},
   "outputs": [
    {
     "data": {
      "text/plain": [
       "1600"
      ]
     },
     "execution_count": 15,
     "metadata": {},
     "output_type": "execute_result"
    }
   ],
   "source": [
    "#вывод информации о числе пропусков по для модели polo\n",
    "len(df.loc[(df['Model']=='polo')&(df['VehicleType'].isna())])"
   ]
  },
  {
   "cell_type": "code",
   "execution_count": 16,
   "metadata": {},
   "outputs": [],
   "source": [
    "#заполнение пропусков столбца VehicleType для модели polo наиболее частым типом (small)\n",
    "df.loc[(df['Model']=='polo')&(df['VehicleType'].isna()),'VehicleType']=model_polo_max"
   ]
  },
  {
   "cell_type": "code",
   "execution_count": 17,
   "metadata": {},
   "outputs": [
    {
     "data": {
      "text/plain": [
       "0"
      ]
     },
     "execution_count": 17,
     "metadata": {},
     "output_type": "execute_result"
    }
   ],
   "source": [
    "#вывод информации о числе пропусков по для модели polo\n",
    "len(df.loc[(df['Model']=='polo')&(df['VehicleType'].isna())])"
   ]
  },
  {
   "cell_type": "markdown",
   "metadata": {},
   "source": [
    "Таким образом мы заполнили пропуски для модели polo. Однако пропуски могут быть и для других моделей. Проверим эти модели:"
   ]
  },
  {
   "cell_type": "code",
   "execution_count": 18,
   "metadata": {},
   "outputs": [
    {
     "data": {
      "text/plain": [
       "array(['golf', 'meriva', 'c4', 'clio', 'kangoo', 'corsa', 'punto',\n",
       "       'other', 'astra', '5er', 'ka', 'insignia', 'civic', '3er', '100',\n",
       "       'sportage', 'fabia', 'twingo', 'almera', 'zafira', 'caddy', nan,\n",
       "       'i_reihe', 'fiesta', 'espace', 'jazz', 'a_klasse', 'transporter',\n",
       "       'seicento', 'modus', 'c1', 'fox', 'c_max', 'ibiza', '2_reihe',\n",
       "       '3_reihe', 'e_klasse', '500', 'cooper', '1er', 'galaxy', 'a3',\n",
       "       'qashqai', 'lanos', 'megane', 'passat', 'scenic', 'b_klasse',\n",
       "       'leon', 'vectra', 'c_klasse', '6_reihe', 'touran', 'transit',\n",
       "       'cr_reihe', 'focus', 'carnival', 'fusion', 'fortwo', 'cordoba',\n",
       "       'sprinter', 'mondeo', 'sharan', 'v70', 'c_reihe', 'rio', 'kaefer',\n",
       "       'a6', 'ducato', 'calibra', 'a4', 'clk', 'ptcruiser', '4_reihe',\n",
       "       's_klasse', 'arosa', 'matiz', 'beetle', 'stilo', 'v40', 'berlingo',\n",
       "       'signum', 'primera', 'c2', 'tt', 'freelander', 'yaris', 'picanto',\n",
       "       'tigra', 'samara', 'scirocco', '601', 'agila', 'combo', 'swift',\n",
       "       'auris', 'avensis', 'mx_reihe', 'aygo', 's_max', 'logan', 'colt',\n",
       "       'exeo', 'q7', '80', 'lupo', 'omega', 'ypsilon', 'getz', 's60',\n",
       "       'accord', 'alhambra', 'octavia', '7er', 'kadett', 'grand',\n",
       "       'superb', 'micra', 'laguna', 'mustang', 'niva', 'note', 'v_klasse',\n",
       "       '911', 'bravo', 'roadster', 'cuore', 'roomster', 'ceed', 'lancer',\n",
       "       'c3', 'forester', 'altea', 'toledo', '156', 'panda', 'escort',\n",
       "       'a2', 'bora', 'doblo', 'voyager', '1_reihe', '145', 'aveo',\n",
       "       'corolla', '6er', 'vito', 'one', 'g_klasse', 'carisma', 'vivaro',\n",
       "       'a5', 'rx_reihe', 'jimny', 'forfour', 'a8', 'sorento', '147',\n",
       "       'impreza', 'x_reihe', 'spider', '5_reihe', 'x_type', 'rav',\n",
       "       'santa', 'duster', 'croma', 'a1', 'sandero', 'm_reihe', 'jetta',\n",
       "       'justy', 'tiguan', '300c', 'r19', 'cherokee', 'boxster', 'up',\n",
       "       'm_klasse', '850', 'cl', '900', 'verso', '90', 'galant', 'slk',\n",
       "       'juke', 'tucson', 'delta', 'sl', 'c5', 'phaeton', 'z_reihe',\n",
       "       'serie_2', 'outlander', 'eos', 'amarok', 'charade', 'defender',\n",
       "       'sirion', 'kuga', 'cayenne', 'yeti', 'nubira', 'xc_reihe',\n",
       "       'touareg', 'move', '159', 'pajero', 'glk', 'captiva', 'navara',\n",
       "       'spark', 'range_rover', 'legacy', 'cc', 'crossfire', 'v50',\n",
       "       'citigo', 'viano', 'elefantino', '9000', 'cx_reihe', 'antara',\n",
       "       'kappa', 'x_trail', 'serie_3', 'musa', 'i3', 's_type', 'lybra',\n",
       "       'wrangler', 'b_max', 'clubman', 'kalos', 'v60', '200',\n",
       "       'rangerover', 'serie_1', 'q3', 'kalina'], dtype=object)"
      ]
     },
     "execution_count": 18,
     "metadata": {},
     "output_type": "execute_result"
    }
   ],
   "source": [
    "#вывод моделей, имеющих пропуски по столбцу VehicleType\n",
    "df[df['VehicleType'].isna()]['Model'].unique()"
   ]
  },
  {
   "cell_type": "markdown",
   "metadata": {},
   "source": [
    "Так как моделей с пропусками по VehicleType много, то есть смысл пройти по моделям циклом и заполнить их аналогично."
   ]
  },
  {
   "cell_type": "code",
   "execution_count": 19,
   "metadata": {
    "scrolled": true
   },
   "outputs": [],
   "source": [
    "#заполняем пропуски аналогично\n",
    "#во избежание ошибки для model=nan указываем df[df['Model'].notna()\n",
    "for model in list(df[df['Model'].notna()]['Model'].unique()):\n",
    "    model_max=Counter(df.loc[df['Model']==model]['VehicleType']).most_common(1)[0][0]\n",
    "    #заполнение пропусков столбца VehicleType для модели наиболее частым типом\n",
    "    df.loc[(df['Model']==model)&(df['VehicleType'].isna()),'VehicleType']=model_max"
   ]
  },
  {
   "cell_type": "markdown",
   "metadata": {},
   "source": [
    "Для всех моделей VehicleType должен был заполниться наиболее популярным VehiceType за исключением тех, где есть пропуск в столбце модели. Проверим это:"
   ]
  },
  {
   "cell_type": "code",
   "execution_count": 20,
   "metadata": {},
   "outputs": [
    {
     "data": {
      "text/plain": [
       "array([nan, 'samara'], dtype=object)"
      ]
     },
     "execution_count": 20,
     "metadata": {},
     "output_type": "execute_result"
    }
   ],
   "source": [
    "#вывод моделей, имеющих пропуски по столбцу VehicleType\n",
    "df[df['VehicleType'].isna()]['Model'].unique()"
   ]
  },
  {
   "cell_type": "markdown",
   "metadata": {},
   "source": [
    "Получается, что помимо пропусков по модели, есть ещё проблема для модели samara. Рассмотрим внимательнее:"
   ]
  },
  {
   "cell_type": "code",
   "execution_count": 21,
   "metadata": {},
   "outputs": [
    {
     "data": {
      "image/png": "[encoded data removed]",
      "text/plain": [
       "<Figure size 432x288 with 1 Axes>"
      ]
     },
     "metadata": {
      "needs_background": "light"
     },
     "output_type": "display_data"
    }
   ],
   "source": [
    "#вывод гистограммы распределения значений столбца VegicleType для модели samara\n",
    "df.loc[df['Model']=='samara']['VehicleType'].hist(color='green')\n",
    "plt.title('Число различных типов автомобилей для модели samara')\n",
    "plt.xlabel('Тип автомобиля')\n",
    "plt.ylabel('Количество значений')\n",
    "plt.show()    "
   ]
  },
  {
   "cell_type": "markdown",
   "metadata": {},
   "source": [
    "Как будто всё хорошо, проверим подсчёт самого частовстречающегося типа:"
   ]
  },
  {
   "cell_type": "code",
   "execution_count": 22,
   "metadata": {},
   "outputs": [
    {
     "data": {
      "text/plain": [
       "nan"
      ]
     },
     "execution_count": 22,
     "metadata": {},
     "output_type": "execute_result"
    }
   ],
   "source": [
    "#вывод наиболее часто встречающегося значения VehicleType для модели samara\n",
    "Counter(df.loc[df['Model']=='samara']['VehicleType']).most_common(1)[0][0]"
   ]
  },
  {
   "cell_type": "markdown",
   "metadata": {},
   "source": [
    "Вот и проблема: наиболее часто встречающийся тип автомобиля из всех - это пропуск. Заполним превентивно значением sedan (как наибольшее кроме пропусков)"
   ]
  },
  {
   "cell_type": "code",
   "execution_count": 23,
   "metadata": {},
   "outputs": [],
   "source": [
    "#заполнение пропусков по столбцу VehicleType для модели samara\n",
    "df.loc[(df['Model']=='samara')&(df['VehicleType'].isna()),'VehicleType']='sedan'"
   ]
  },
  {
   "cell_type": "code",
   "execution_count": 24,
   "metadata": {},
   "outputs": [
    {
     "data": {
      "text/plain": [
       "array([nan], dtype=object)"
      ]
     },
     "execution_count": 24,
     "metadata": {},
     "output_type": "execute_result"
    }
   ],
   "source": [
    "#вывод моделей, имеющих пропуски по столбцу VehicleType\n",
    "df[df['VehicleType'].isna()]['Model'].unique()"
   ]
  },
  {
   "cell_type": "markdown",
   "metadata": {},
   "source": [
    "Итак, пропуски по столбцу VehicleType остались только для тех строк, где и Model также пропуск. Посмотрим на число этих машин:"
   ]
  },
  {
   "cell_type": "code",
   "execution_count": 25,
   "metadata": {
    "scrolled": true
   },
   "outputs": [
    {
     "data": {
      "text/plain": [
       "6828"
      ]
     },
     "execution_count": 25,
     "metadata": {},
     "output_type": "execute_result"
    }
   ],
   "source": [
    "#проверка числа пропусков\n",
    "len(df[df['VehicleType'].isna()])"
   ]
  },
  {
   "cell_type": "markdown",
   "metadata": {},
   "source": [
    "Оставшиеся пропуски заполним типом автомобиля other, другой."
   ]
  },
  {
   "cell_type": "code",
   "execution_count": 26,
   "metadata": {},
   "outputs": [],
   "source": [
    "#заполнение пропусков по столбцу VehicleType для модели samara\n",
    "df.loc[df['VehicleType'].isna(),'VehicleType']='other'"
   ]
  },
  {
   "cell_type": "code",
   "execution_count": 27,
   "metadata": {},
   "outputs": [
    {
     "data": {
      "text/plain": [
       "0"
      ]
     },
     "execution_count": 27,
     "metadata": {},
     "output_type": "execute_result"
    }
   ],
   "source": [
    "#проверка числа пропусков\n",
    "len(df[df['VehicleType'].isna()])"
   ]
  },
  {
   "cell_type": "markdown",
   "metadata": {},
   "source": [
    "**Обработка пропущенных значений столбца Gearbox (тип коробки передач).**\n",
    "\n",
    "Относительное число пропусков - 6%. \n",
    "\n",
    "Возможная причина появления пропусков: незаполненные данные пользователями и/или техническая ошибка.\n",
    "\n",
    "Изучим данные по столбцу пристальнее."
   ]
  },
  {
   "cell_type": "code",
   "execution_count": 28,
   "metadata": {},
   "outputs": [
    {
     "data": {
      "text/plain": [
       "array(['manual', 'auto', nan], dtype=object)"
      ]
     },
     "execution_count": 28,
     "metadata": {},
     "output_type": "execute_result"
    }
   ],
   "source": [
    "#вывод уникальных значений столбца\n",
    "df['Gearbox'].unique()"
   ]
  },
  {
   "cell_type": "code",
   "execution_count": 29,
   "metadata": {
    "scrolled": true
   },
   "outputs": [
    {
     "data": {
      "image/png": "[encoded data removed]",
      "text/plain": [
       "<Figure size 432x288 with 1 Axes>"
      ]
     },
     "metadata": {
      "needs_background": "light"
     },
     "output_type": "display_data"
    }
   ],
   "source": [
    "#вывод гистограммы распределения значений столбца Gearbox\n",
    "df['Gearbox'].hist(color='green')\n",
    "plt.title('Число автомобилей по типам коробки передач')\n",
    "plt.xlabel('Тип топлива')\n",
    "plt.ylabel('Количество значений')\n",
    "plt.show()  "
   ]
  },
  {
   "cell_type": "code",
   "execution_count": 30,
   "metadata": {},
   "outputs": [
    {
     "name": "stdout",
     "output_type": "stream",
     "text": [
      "Механическая коробка: 75.7 %\n",
      "Автоматическая коробка: 18.71 %\n"
     ]
    }
   ],
   "source": [
    "#доли различных типов коробок\n",
    "print('Механическая коробка:',round(len(df[df['Gearbox']=='manual'])*100/len(df['Gearbox']),2),'%')\n",
    "print('Автоматическая коробка:',round(len(df[df['Gearbox']=='auto'])*100/len(df['Gearbox']),2),'%')"
   ]
  },
  {
   "cell_type": "markdown",
   "metadata": {},
   "source": [
    "Из выведенных данных можно составить следующее предложение: тк машина может быть только либо с механической коробкой передач либо только с автоматической, то есть смысл задать пропуски. При этом, с одной стороны, тк механики больше, то можно было бы заполнить механической коробко, но автоматическая тоже имеет свой вес: почти 19%. Поэтому заполним пропуски пропорционально содержанию данных по коробках случайным методом, но в пропорции 75,7:18,71."
   ]
  },
  {
   "cell_type": "code",
   "execution_count": 31,
   "metadata": {},
   "outputs": [],
   "source": [
    "#заполнение пропусков пропорционально содержащимся в столбцах категориям случайными категориями\n",
    "df['Gearbox']=df['Gearbox'].fillna(pd.Series(\n",
    "    random.choices(['manual','auto'],weights=df['Gearbox'].value_counts(normalize=True),k=len(df['Gearbox'].isna()))))"
   ]
  },
  {
   "cell_type": "code",
   "execution_count": 32,
   "metadata": {},
   "outputs": [
    {
     "data": {
      "text/plain": [
       "0"
      ]
     },
     "execution_count": 32,
     "metadata": {},
     "output_type": "execute_result"
    }
   ],
   "source": [
    "#проверка заполненных пропусков\n",
    "len(df[df['Gearbox'].isna()])"
   ]
  },
  {
   "cell_type": "markdown",
   "metadata": {},
   "source": [
    "**Обработка пропущенных значений столбца Model (модель автомобиля).**\n",
    "\n",
    "Относительное число пропусков - 5,6%. \n",
    "\n",
    "Возможная причина появления пропусков: незаполненные данные пользователями и/или техническая ошибка."
   ]
  },
  {
   "cell_type": "markdown",
   "metadata": {},
   "source": [
    "Очевидного способа заполнить пропуск нет: на стоимость автомобиля его модель является наиболее важным критерием, и даже если заполнять пропуски самой популярной моделью марки, то велика ероятность наплодить ошибок на будущее (не как с типом кузова, так как это не такой важный фактор, да и есть ощущение, что некоторые модели имеют единственный наиболее популярный тип кузова). \n",
    "\n",
    "Однако, есть смысл заменить пропуски на значение-заглушку, тогда, возможно, модель обучения будет лучше предсказывать стоимость автомобилей для тех клиентов, кто забыл ввести (или не знает) модель автомобиля.\n",
    "\n",
    "Заполним пропуски значением заглушки not_indicated (не указано)."
   ]
  },
  {
   "cell_type": "code",
   "execution_count": 33,
   "metadata": {
    "scrolled": true
   },
   "outputs": [
    {
     "data": {
      "text/plain": [
       "19705"
      ]
     },
     "execution_count": 33,
     "metadata": {},
     "output_type": "execute_result"
    }
   ],
   "source": [
    "#проверка числа пропусков\n",
    "len(df[df['Model'].isna()])"
   ]
  },
  {
   "cell_type": "code",
   "execution_count": 34,
   "metadata": {},
   "outputs": [],
   "source": [
    "#заполнение пропусков по столбцу \n",
    "df.loc[df['Model'].isna(),'Model']='not_indicated'"
   ]
  },
  {
   "cell_type": "code",
   "execution_count": 35,
   "metadata": {},
   "outputs": [
    {
     "data": {
      "text/plain": [
       "0"
      ]
     },
     "execution_count": 35,
     "metadata": {},
     "output_type": "execute_result"
    }
   ],
   "source": [
    "#проверка числа пропусков\n",
    "len(df[df['Model'].isna()])"
   ]
  },
  {
   "cell_type": "markdown",
   "metadata": {},
   "source": [
    "**Обработка пропущенных значений столбца FuelType (тип топлива).**\n",
    "\n",
    "Относительное число пропусков - 9,3%. \n",
    "\n",
    "Возможная причина появления пропусков: незаполненные данные пользователями и/или техническая ошибка.\n",
    "\n",
    "Изучим данные по столбцу пристальнее."
   ]
  },
  {
   "cell_type": "code",
   "execution_count": 36,
   "metadata": {},
   "outputs": [
    {
     "data": {
      "text/plain": [
       "array(['petrol', 'gasoline', nan, 'lpg', 'other', 'hybrid', 'cng',\n",
       "       'electric'], dtype=object)"
      ]
     },
     "execution_count": 36,
     "metadata": {},
     "output_type": "execute_result"
    }
   ],
   "source": [
    "#вывод уникальных значений столбца\n",
    "df['FuelType'].unique()"
   ]
  },
  {
   "cell_type": "code",
   "execution_count": 37,
   "metadata": {
    "scrolled": false
   },
   "outputs": [
    {
     "data": {
      "image/png": "[encoded data removed]",
      "text/plain": [
       "<Figure size 432x288 with 1 Axes>"
      ]
     },
     "metadata": {
      "needs_background": "light"
     },
     "output_type": "display_data"
    }
   ],
   "source": [
    "#вывод гистограммы распределения значений столбца\n",
    "df['FuelType'].hist(color='green')\n",
    "plt.title('Число автомобилей по типам топлива')\n",
    "plt.xlabel('Тип топлива')\n",
    "plt.ylabel('Количество значений')\n",
    "plt.show()  "
   ]
  },
  {
   "cell_type": "markdown",
   "metadata": {},
   "source": [
    "Интересное наблюдение: в датасете представлены в основном только автомобили с бензиновыми двигателями (причём бензин имеет два названия: petrol и gasoline, видимо в зависимости от страны использования авто). Дизельные не указаны вовсе, а остальные: lpg,other,hybrid,cng,electric занимают совсем незначительную долю.\n",
    "\n",
    "Есть смысл заменить пропуски значением для бензиного двигателя. А также есть смысл заменить название gasoline на petrol для унификации, ведь по сути это одно и то же."
   ]
  },
  {
   "cell_type": "code",
   "execution_count": 38,
   "metadata": {
    "scrolled": true
   },
   "outputs": [
    {
     "data": {
      "text/plain": [
       "32895"
      ]
     },
     "execution_count": 38,
     "metadata": {},
     "output_type": "execute_result"
    }
   ],
   "source": [
    "#проверка числа пропусков\n",
    "len(df[df['FuelType'].isna()])"
   ]
  },
  {
   "cell_type": "code",
   "execution_count": 39,
   "metadata": {},
   "outputs": [],
   "source": [
    "#заполнение пропусков по столбцу\n",
    "df.loc[df['FuelType'].isna(),'FuelType']='petrol'"
   ]
  },
  {
   "cell_type": "code",
   "execution_count": 40,
   "metadata": {},
   "outputs": [
    {
     "data": {
      "text/plain": [
       "0"
      ]
     },
     "execution_count": 40,
     "metadata": {},
     "output_type": "execute_result"
    }
   ],
   "source": [
    "#проверка числа пропусков\n",
    "len(df[df['FuelType'].isna()])"
   ]
  },
  {
   "cell_type": "code",
   "execution_count": 41,
   "metadata": {},
   "outputs": [],
   "source": [
    "#замена значений gasoline на petrol\n",
    "df.loc[df['FuelType']=='gasoline','FuelType']='petrol'"
   ]
  },
  {
   "cell_type": "code",
   "execution_count": 42,
   "metadata": {
    "scrolled": true
   },
   "outputs": [
    {
     "data": {
      "text/plain": [
       "array(['petrol', 'lpg', 'other', 'hybrid', 'cng', 'electric'],\n",
       "      dtype=object)"
      ]
     },
     "execution_count": 42,
     "metadata": {},
     "output_type": "execute_result"
    }
   ],
   "source": [
    "#проверка замены gasoline на petrol\n",
    "df['FuelType'].unique()"
   ]
  },
  {
   "cell_type": "markdown",
   "metadata": {},
   "source": [
    "**Обработка пропущенных значений столбца Repaired (была машина в ремонте или нет).**\n",
    "\n",
    "Относительное число пропусков - 20%. \n",
    "\n",
    "Возможная причина появления пропусков: незаполненные данные пользователями и/или техническая ошибка."
   ]
  },
  {
   "cell_type": "markdown",
   "metadata": {},
   "source": [
    "По данному столбцу есть следующие рассуждения:\n",
    "\n",
    "Этот признак значимый: очевидно, что на стоимость автомобиля очень сильно влияет был ли он в ремонте или нет.\n",
    "\n",
    "Этот признак может иметь не прямую корреляцию с заполненными данными,а именно: для тех машин, где указано, что были в ремонте - они реально были в ремонте. Для тех машин, где указано, что не были - возможно, они всё-таки были в ремонте. А для тех, для которых не указано - скорее всего они были в ремонте, но это не указано специально чтобы завысить цену. \n",
    "\n",
    "В общем много от чего зависит этот столбец. Попробуем заполнить случайным значением пропорционально заполненным данным, как для типа коробки передач. А если далее возникнут неудовлетворительные показания модели предсказаний, то можно будет вернуться к этому вопросу."
   ]
  },
  {
   "cell_type": "code",
   "execution_count": 43,
   "metadata": {
    "scrolled": true
   },
   "outputs": [
    {
     "data": {
      "text/plain": [
       "71154"
      ]
     },
     "execution_count": 43,
     "metadata": {},
     "output_type": "execute_result"
    }
   ],
   "source": [
    "#проверка числа пропусков\n",
    "len(df[df['Repaired'].isna()])"
   ]
  },
  {
   "cell_type": "code",
   "execution_count": 44,
   "metadata": {
    "scrolled": true
   },
   "outputs": [
    {
     "data": {
      "image/png": "[encoded data removed]",
      "text/plain": [
       "<Figure size 432x288 with 1 Axes>"
      ]
     },
     "metadata": {
      "needs_background": "light"
     },
     "output_type": "display_data"
    }
   ],
   "source": [
    "#вывод гистограммы распределения значений столбца\n",
    "df['Repaired'].hist(color='green')\n",
    "plt.title('Число автомобилей по производству ремонта')\n",
    "plt.xlabel('Был ремонт?')\n",
    "plt.ylabel('Количество значений')\n",
    "plt.show()  "
   ]
  },
  {
   "cell_type": "code",
   "execution_count": 45,
   "metadata": {},
   "outputs": [
    {
     "name": "stdout",
     "output_type": "stream",
     "text": [
      "Был ремонт: 10.17 %\n",
      "Не было ремонта: 69.75 %\n"
     ]
    }
   ],
   "source": [
    "#доли различных типов коробок\n",
    "print('Был ремонт:',round(len(df[df['Repaired']=='yes'])*100/len(df['Repaired']),2),'%')\n",
    "print('Не было ремонта:',round(len(df[df['Repaired']=='no'])*100/len(df['Repaired']),2),'%')"
   ]
  },
  {
   "cell_type": "code",
   "execution_count": 46,
   "metadata": {},
   "outputs": [
    {
     "data": {
      "text/html": [
       "<div>\n",
       "<style scoped>\n",
       "    .dataframe tbody tr th:only-of-type {\n",
       "        vertical-align: middle;\n",
       "    }\n",
       "\n",
       "    .dataframe tbody tr th {\n",
       "        vertical-align: top;\n",
       "    }\n",
       "\n",
       "    .dataframe thead th {\n",
       "        text-align: right;\n",
       "    }\n",
       "</style>\n",
       "<table border=\"1\" class=\"dataframe\">\n",
       "  <thead>\n",
       "    <tr style=\"text-align: right;\">\n",
       "      <th></th>\n",
       "      <th>DateCrawled</th>\n",
       "      <th>Price</th>\n",
       "      <th>VehicleType</th>\n",
       "      <th>RegistrationYear</th>\n",
       "      <th>Gearbox</th>\n",
       "      <th>Power</th>\n",
       "      <th>Model</th>\n",
       "      <th>Kilometer</th>\n",
       "      <th>RegistrationMonth</th>\n",
       "      <th>FuelType</th>\n",
       "      <th>Brand</th>\n",
       "      <th>Repaired</th>\n",
       "      <th>DateCreated</th>\n",
       "      <th>NumberOfPictures</th>\n",
       "      <th>PostalCode</th>\n",
       "      <th>LastSeen</th>\n",
       "    </tr>\n",
       "  </thead>\n",
       "  <tbody>\n",
       "    <tr>\n",
       "      <th>0</th>\n",
       "      <td>2016-03-24 11:52:17</td>\n",
       "      <td>480</td>\n",
       "      <td>sedan</td>\n",
       "      <td>1993</td>\n",
       "      <td>manual</td>\n",
       "      <td>0</td>\n",
       "      <td>golf</td>\n",
       "      <td>150000</td>\n",
       "      <td>0</td>\n",
       "      <td>petrol</td>\n",
       "      <td>volkswagen</td>\n",
       "      <td>NaN</td>\n",
       "      <td>2016-03-24 00:00:00</td>\n",
       "      <td>0</td>\n",
       "      <td>70435</td>\n",
       "      <td>2016-04-07 03:16:57</td>\n",
       "    </tr>\n",
       "    <tr>\n",
       "      <th>1</th>\n",
       "      <td>2016-03-24 10:58:45</td>\n",
       "      <td>18300</td>\n",
       "      <td>coupe</td>\n",
       "      <td>2011</td>\n",
       "      <td>manual</td>\n",
       "      <td>190</td>\n",
       "      <td>not_indicated</td>\n",
       "      <td>125000</td>\n",
       "      <td>5</td>\n",
       "      <td>petrol</td>\n",
       "      <td>audi</td>\n",
       "      <td>yes</td>\n",
       "      <td>2016-03-24 00:00:00</td>\n",
       "      <td>0</td>\n",
       "      <td>66954</td>\n",
       "      <td>2016-04-07 01:46:50</td>\n",
       "    </tr>\n",
       "    <tr>\n",
       "      <th>2</th>\n",
       "      <td>2016-03-14 12:52:21</td>\n",
       "      <td>9800</td>\n",
       "      <td>suv</td>\n",
       "      <td>2004</td>\n",
       "      <td>auto</td>\n",
       "      <td>163</td>\n",
       "      <td>grand</td>\n",
       "      <td>125000</td>\n",
       "      <td>8</td>\n",
       "      <td>petrol</td>\n",
       "      <td>jeep</td>\n",
       "      <td>NaN</td>\n",
       "      <td>2016-03-14 00:00:00</td>\n",
       "      <td>0</td>\n",
       "      <td>90480</td>\n",
       "      <td>2016-04-05 12:47:46</td>\n",
       "    </tr>\n",
       "    <tr>\n",
       "      <th>3</th>\n",
       "      <td>2016-03-17 16:54:04</td>\n",
       "      <td>1500</td>\n",
       "      <td>small</td>\n",
       "      <td>2001</td>\n",
       "      <td>manual</td>\n",
       "      <td>75</td>\n",
       "      <td>golf</td>\n",
       "      <td>150000</td>\n",
       "      <td>6</td>\n",
       "      <td>petrol</td>\n",
       "      <td>volkswagen</td>\n",
       "      <td>no</td>\n",
       "      <td>2016-03-17 00:00:00</td>\n",
       "      <td>0</td>\n",
       "      <td>91074</td>\n",
       "      <td>2016-03-17 17:40:17</td>\n",
       "    </tr>\n",
       "    <tr>\n",
       "      <th>4</th>\n",
       "      <td>2016-03-31 17:25:20</td>\n",
       "      <td>3600</td>\n",
       "      <td>small</td>\n",
       "      <td>2008</td>\n",
       "      <td>manual</td>\n",
       "      <td>69</td>\n",
       "      <td>fabia</td>\n",
       "      <td>90000</td>\n",
       "      <td>7</td>\n",
       "      <td>petrol</td>\n",
       "      <td>skoda</td>\n",
       "      <td>no</td>\n",
       "      <td>2016-03-31 00:00:00</td>\n",
       "      <td>0</td>\n",
       "      <td>60437</td>\n",
       "      <td>2016-04-06 10:17:21</td>\n",
       "    </tr>\n",
       "    <tr>\n",
       "      <th>...</th>\n",
       "      <td>...</td>\n",
       "      <td>...</td>\n",
       "      <td>...</td>\n",
       "      <td>...</td>\n",
       "      <td>...</td>\n",
       "      <td>...</td>\n",
       "      <td>...</td>\n",
       "      <td>...</td>\n",
       "      <td>...</td>\n",
       "      <td>...</td>\n",
       "      <td>...</td>\n",
       "      <td>...</td>\n",
       "      <td>...</td>\n",
       "      <td>...</td>\n",
       "      <td>...</td>\n",
       "      <td>...</td>\n",
       "    </tr>\n",
       "    <tr>\n",
       "      <th>95</th>\n",
       "      <td>2016-03-25 18:44:10</td>\n",
       "      <td>3850</td>\n",
       "      <td>sedan</td>\n",
       "      <td>2003</td>\n",
       "      <td>manual</td>\n",
       "      <td>131</td>\n",
       "      <td>passat</td>\n",
       "      <td>150000</td>\n",
       "      <td>5</td>\n",
       "      <td>petrol</td>\n",
       "      <td>volkswagen</td>\n",
       "      <td>no</td>\n",
       "      <td>2016-03-25 00:00:00</td>\n",
       "      <td>0</td>\n",
       "      <td>30459</td>\n",
       "      <td>2016-04-07 00:16:18</td>\n",
       "    </tr>\n",
       "    <tr>\n",
       "      <th>96</th>\n",
       "      <td>2016-03-26 15:38:12</td>\n",
       "      <td>6450</td>\n",
       "      <td>bus</td>\n",
       "      <td>2008</td>\n",
       "      <td>manual</td>\n",
       "      <td>84</td>\n",
       "      <td>transporter</td>\n",
       "      <td>150000</td>\n",
       "      <td>12</td>\n",
       "      <td>petrol</td>\n",
       "      <td>volkswagen</td>\n",
       "      <td>no</td>\n",
       "      <td>2016-03-26 00:00:00</td>\n",
       "      <td>0</td>\n",
       "      <td>44623</td>\n",
       "      <td>2016-04-06 03:17:37</td>\n",
       "    </tr>\n",
       "    <tr>\n",
       "      <th>97</th>\n",
       "      <td>2016-04-01 12:45:41</td>\n",
       "      <td>1700</td>\n",
       "      <td>small</td>\n",
       "      <td>1999</td>\n",
       "      <td>auto</td>\n",
       "      <td>102</td>\n",
       "      <td>a_klasse</td>\n",
       "      <td>125000</td>\n",
       "      <td>11</td>\n",
       "      <td>petrol</td>\n",
       "      <td>mercedes_benz</td>\n",
       "      <td>no</td>\n",
       "      <td>2016-04-01 00:00:00</td>\n",
       "      <td>0</td>\n",
       "      <td>12305</td>\n",
       "      <td>2016-04-01 12:45:41</td>\n",
       "    </tr>\n",
       "    <tr>\n",
       "      <th>98</th>\n",
       "      <td>2016-03-11 19:00:25</td>\n",
       "      <td>4290</td>\n",
       "      <td>bus</td>\n",
       "      <td>2008</td>\n",
       "      <td>manual</td>\n",
       "      <td>0</td>\n",
       "      <td>combo</td>\n",
       "      <td>150000</td>\n",
       "      <td>2</td>\n",
       "      <td>petrol</td>\n",
       "      <td>opel</td>\n",
       "      <td>no</td>\n",
       "      <td>2016-03-11 00:00:00</td>\n",
       "      <td>0</td>\n",
       "      <td>23568</td>\n",
       "      <td>2016-04-05 22:45:32</td>\n",
       "    </tr>\n",
       "    <tr>\n",
       "      <th>99</th>\n",
       "      <td>2016-03-28 00:56:46</td>\n",
       "      <td>1500</td>\n",
       "      <td>wagon</td>\n",
       "      <td>2006</td>\n",
       "      <td>manual</td>\n",
       "      <td>109</td>\n",
       "      <td>focus</td>\n",
       "      <td>150000</td>\n",
       "      <td>10</td>\n",
       "      <td>petrol</td>\n",
       "      <td>ford</td>\n",
       "      <td>no</td>\n",
       "      <td>2016-03-27 00:00:00</td>\n",
       "      <td>0</td>\n",
       "      <td>74223</td>\n",
       "      <td>2016-04-02 11:47:00</td>\n",
       "    </tr>\n",
       "  </tbody>\n",
       "</table>\n",
       "<p>100 rows × 16 columns</p>\n",
       "</div>"
      ],
      "text/plain": [
       "            DateCrawled  Price VehicleType  RegistrationYear Gearbox  Power  \\\n",
       "0   2016-03-24 11:52:17    480       sedan              1993  manual      0   \n",
       "1   2016-03-24 10:58:45  18300       coupe              2011  manual    190   \n",
       "2   2016-03-14 12:52:21   9800         suv              2004    auto    163   \n",
       "3   2016-03-17 16:54:04   1500       small              2001  manual     75   \n",
       "4   2016-03-31 17:25:20   3600       small              2008  manual     69   \n",
       "..                  ...    ...         ...               ...     ...    ...   \n",
       "95  2016-03-25 18:44:10   3850       sedan              2003  manual    131   \n",
       "96  2016-03-26 15:38:12   6450         bus              2008  manual     84   \n",
       "97  2016-04-01 12:45:41   1700       small              1999    auto    102   \n",
       "98  2016-03-11 19:00:25   4290         bus              2008  manual      0   \n",
       "99  2016-03-28 00:56:46   1500       wagon              2006  manual    109   \n",
       "\n",
       "            Model  Kilometer  RegistrationMonth FuelType          Brand  \\\n",
       "0            golf     150000                  0   petrol     volkswagen   \n",
       "1   not_indicated     125000                  5   petrol           audi   \n",
       "2           grand     125000                  8   petrol           jeep   \n",
       "3            golf     150000                  6   petrol     volkswagen   \n",
       "4           fabia      90000                  7   petrol          skoda   \n",
       "..            ...        ...                ...      ...            ...   \n",
       "95         passat     150000                  5   petrol     volkswagen   \n",
       "96    transporter     150000                 12   petrol     volkswagen   \n",
       "97       a_klasse     125000                 11   petrol  mercedes_benz   \n",
       "98          combo     150000                  2   petrol           opel   \n",
       "99          focus     150000                 10   petrol           ford   \n",
       "\n",
       "   Repaired          DateCreated  NumberOfPictures  PostalCode  \\\n",
       "0       NaN  2016-03-24 00:00:00                 0       70435   \n",
       "1       yes  2016-03-24 00:00:00                 0       66954   \n",
       "2       NaN  2016-03-14 00:00:00                 0       90480   \n",
       "3        no  2016-03-17 00:00:00                 0       91074   \n",
       "4        no  2016-03-31 00:00:00                 0       60437   \n",
       "..      ...                  ...               ...         ...   \n",
       "95       no  2016-03-25 00:00:00                 0       30459   \n",
       "96       no  2016-03-26 00:00:00                 0       44623   \n",
       "97       no  2016-04-01 00:00:00                 0       12305   \n",
       "98       no  2016-03-11 00:00:00                 0       23568   \n",
       "99       no  2016-03-27 00:00:00                 0       74223   \n",
       "\n",
       "               LastSeen  \n",
       "0   2016-04-07 03:16:57  \n",
       "1   2016-04-07 01:46:50  \n",
       "2   2016-04-05 12:47:46  \n",
       "3   2016-03-17 17:40:17  \n",
       "4   2016-04-06 10:17:21  \n",
       "..                  ...  \n",
       "95  2016-04-07 00:16:18  \n",
       "96  2016-04-06 03:17:37  \n",
       "97  2016-04-01 12:45:41  \n",
       "98  2016-04-05 22:45:32  \n",
       "99  2016-04-02 11:47:00  \n",
       "\n",
       "[100 rows x 16 columns]"
      ]
     },
     "execution_count": 46,
     "metadata": {},
     "output_type": "execute_result"
    }
   ],
   "source": [
    "df.head(100)"
   ]
  },
  {
   "cell_type": "code",
   "execution_count": 47,
   "metadata": {},
   "outputs": [],
   "source": [
    "#заполнение пропусков пропорционально содержащимся в столбцах категориям случайными категориями\n",
    "df['Repaired']=df['Repaired'].fillna(pd.Series(\n",
    "    random.choices(['no','yes'],weights=df['Repaired'].value_counts(normalize=True),k=len(df['Repaired'].isna()))))"
   ]
  },
  {
   "cell_type": "code",
   "execution_count": 48,
   "metadata": {},
   "outputs": [
    {
     "data": {
      "text/plain": [
       "0"
      ]
     },
     "execution_count": 48,
     "metadata": {},
     "output_type": "execute_result"
    }
   ],
   "source": [
    "#проверка заполненных пропусков\n",
    "len(df[df['Repaired'].isna()])"
   ]
  },
  {
   "cell_type": "code",
   "execution_count": 49,
   "metadata": {},
   "outputs": [
    {
     "name": "stdout",
     "output_type": "stream",
     "text": [
      "Был ремонт: 12.76 %\n",
      "Не было ремонта: 87.24 %\n"
     ]
    }
   ],
   "source": [
    "#доли различных типов коробок\n",
    "print('Был ремонт:',round(len(df[df['Repaired']=='yes'])*100/len(df['Repaired']),2),'%')\n",
    "print('Не было ремонта:',round(len(df[df['Repaired']=='no'])*100/len(df['Repaired']),2),'%')"
   ]
  },
  {
   "cell_type": "code",
   "execution_count": 50,
   "metadata": {
    "scrolled": true
   },
   "outputs": [
    {
     "data": {
      "image/png": "[encoded data removed]",
      "text/plain": [
       "<Figure size 432x288 with 1 Axes>"
      ]
     },
     "metadata": {
      "needs_background": "light"
     },
     "output_type": "display_data"
    }
   ],
   "source": [
    "#вывод гистограммы распределения значений столбца\n",
    "df['Repaired'].hist(color='green')\n",
    "plt.title('Число автомобилей по производству ремонта после заполнения пропусков')\n",
    "plt.xlabel('Был ремонт?')\n",
    "plt.ylabel('Количество значений')\n",
    "plt.show()  "
   ]
  },
  {
   "cell_type": "markdown",
   "metadata": {},
   "source": [
    "**Обработка аномальных значений**"
   ]
  },
  {
   "cell_type": "markdown",
   "metadata": {},
   "source": [
    "В некоторых столбцах встречаются выбросы, а именно: RegistrationYear (год регистрации) и Power (мощность, лс). Посмотрим что можно сделать в этих случаях."
   ]
  },
  {
   "cell_type": "markdown",
   "metadata": {},
   "source": [
    "**Обработка выбросов в столбце RegistrationYear**"
   ]
  },
  {
   "cell_type": "code",
   "execution_count": 51,
   "metadata": {},
   "outputs": [
    {
     "data": {
      "text/plain": [
       "count    354369.000000\n",
       "mean       2004.234448\n",
       "std          90.227958\n",
       "min        1000.000000\n",
       "25%        1999.000000\n",
       "50%        2003.000000\n",
       "75%        2008.000000\n",
       "max        9999.000000\n",
       "Name: RegistrationYear, dtype: float64"
      ]
     },
     "execution_count": 51,
     "metadata": {},
     "output_type": "execute_result"
    }
   ],
   "source": [
    "df['RegistrationYear'].describe()"
   ]
  },
  {
   "cell_type": "code",
   "execution_count": 52,
   "metadata": {},
   "outputs": [
    {
     "data": {
      "image/png": "[encoded data removed]",
      "text/plain": [
       "<Figure size 432x288 with 1 Axes>"
      ]
     },
     "metadata": {
      "needs_background": "light"
     },
     "output_type": "display_data"
    }
   ],
   "source": [
    "df.boxplot('RegistrationYear');"
   ]
  },
  {
   "cell_type": "markdown",
   "metadata": {},
   "source": [
    "Первым шагом можно удалить все строки, в которых год регистрации меньше, чем год получения патента на первый автомобиль - 1886. Посмотрим, сколько таких автомобилей:"
   ]
  },
  {
   "cell_type": "code",
   "execution_count": 53,
   "metadata": {
    "scrolled": true
   },
   "outputs": [
    {
     "data": {
      "text/plain": [
       "66"
      ]
     },
     "execution_count": 53,
     "metadata": {},
     "output_type": "execute_result"
    }
   ],
   "source": [
    "#нахождение числа автомобилей с годом регистрации меньше 1886\n",
    "df.loc[df['RegistrationYear']<1886,'RegistrationYear'].count()"
   ]
  },
  {
   "cell_type": "markdown",
   "metadata": {},
   "source": [
    "66 строк - очень малое число относительно общей длины. Можно смело удалить."
   ]
  },
  {
   "cell_type": "code",
   "execution_count": 54,
   "metadata": {},
   "outputs": [],
   "source": [
    "#сохранение автомобилей с годом регистрации после 1886\n",
    "df=df.loc[df['RegistrationYear']>=1886,]"
   ]
  },
  {
   "cell_type": "markdown",
   "metadata": {},
   "source": [
    "Проверим нижнюю границу по маркам. Возьмём какой-нибудь средний год, например, 1950:"
   ]
  },
  {
   "cell_type": "code",
   "execution_count": 55,
   "metadata": {},
   "outputs": [
    {
     "data": {
      "text/plain": [
       "array(['ford', 'volkswagen', 'sonstige_autos', 'opel', 'audi',\n",
       "       'alfa_romeo', 'chrysler', 'fiat', 'bmw', 'hyundai', 'trabant',\n",
       "       'mercedes_benz', 'jeep', 'renault', 'citroen', 'peugeot',\n",
       "       'chevrolet', 'mitsubishi', 'subaru', 'toyota'], dtype=object)"
      ]
     },
     "execution_count": 55,
     "metadata": {},
     "output_type": "execute_result"
    }
   ],
   "source": [
    "#нахождение марок автомобилей для года выпуска раньше 1950\n",
    "df.loc[df['RegistrationYear']<1950,]['Brand'].unique()"
   ]
  },
  {
   "cell_type": "markdown",
   "metadata": {},
   "source": [
    "По маркам можно сказать следующее: hyundai создана в 1967 году. Можно удалить строки с условием: hyundai и не старше 1967. В остальном явных выбросов не наблюдается."
   ]
  },
  {
   "cell_type": "code",
   "execution_count": 56,
   "metadata": {},
   "outputs": [],
   "source": [
    "#удаление строк, индекс которых соответствует строкам, у которых hyundai раньше 1967\n",
    "df=df.drop(labels=df.loc[(df['RegistrationYear']<1967)&(df['Brand']=='hyundai')].index,axis=0)"
   ]
  },
  {
   "cell_type": "markdown",
   "metadata": {},
   "source": [
    "Теперь рассмотрим верхние границы строк с датам выпуска автомобилей. Сначала выясним максимальный год для даты создания анкеты автомобиля в базе данных:"
   ]
  },
  {
   "cell_type": "code",
   "execution_count": 57,
   "metadata": {},
   "outputs": [
    {
     "data": {
      "text/plain": [
       "Period('2016', 'A-DEC')"
      ]
     },
     "execution_count": 57,
     "metadata": {},
     "output_type": "execute_result"
    }
   ],
   "source": [
    "#определение максимального значения года в датах занесения в базу данных\n",
    "pd.to_datetime(df['DateCreated']).dt.to_period(\"Y\").unique().max()"
   ]
  },
  {
   "cell_type": "markdown",
   "metadata": {},
   "source": [
    "Отсюда видно, что последний год занесения в базу данных - 2016, тогда как в столбце с годом регистрации автомобиля присутствуют бОльшие значения, проверим их количество:"
   ]
  },
  {
   "cell_type": "code",
   "execution_count": 58,
   "metadata": {},
   "outputs": [
    {
     "name": "stdout",
     "output_type": "stream",
     "text": [
      "Абсолютное количество: 14530\n",
      "Относительное количество,% 4.1\n"
     ]
    }
   ],
   "source": [
    "print('Абсолютное количество:',len(df.loc[df['RegistrationYear']>2016,]['RegistrationYear']))\n",
    "print('Относительное количество,%',round(100*len(df.loc[df['RegistrationYear']>2016,]['RegistrationYear'])/len(df),2))"
   ]
  },
  {
   "cell_type": "markdown",
   "metadata": {},
   "source": [
    "Количество строк довольно значительно в абсолютных значениях. Посмотрим на уникальные значения дат регистрации автомобилей:"
   ]
  },
  {
   "cell_type": "code",
   "execution_count": 59,
   "metadata": {},
   "outputs": [
    {
     "data": {
      "text/plain": [
       "array([2018, 2017, 5000, 9999, 3200, 8888, 2200, 4100, 3000, 2066, 2019,\n",
       "       8000, 5300, 9000, 2900, 6000, 5900, 5911, 4000, 8500, 3700, 3800,\n",
       "       4800, 7000, 6500, 2290, 2500, 9450, 2800, 5555, 5600, 2222, 9996,\n",
       "       8455, 4500, 7800, 9229, 7100, 8200, 7500, 3500])"
      ]
     },
     "execution_count": 59,
     "metadata": {},
     "output_type": "execute_result"
    }
   ],
   "source": [
    "#вывод уникальных значений лет регистрации автомобилей\n",
    "df.loc[df['RegistrationYear']>2016,]['RegistrationYear'].unique()"
   ]
  },
  {
   "cell_type": "markdown",
   "metadata": {},
   "source": [
    "Последняя реалистичная цифра - 2019. Проверим число строк со значениями, бОльшими 2019:"
   ]
  },
  {
   "cell_type": "code",
   "execution_count": 60,
   "metadata": {},
   "outputs": [
    {
     "data": {
      "text/plain": [
       "105"
      ]
     },
     "execution_count": 60,
     "metadata": {},
     "output_type": "execute_result"
    }
   ],
   "source": [
    "#вывод числа автомобилей с датой регистрации после 2019 года\n",
    "df.loc[df['RegistrationYear']>2019,]['RegistrationYear'].count()"
   ]
  },
  {
   "cell_type": "markdown",
   "metadata": {},
   "source": [
    "Это число строк уже больше похоже на аномалии. Предположим, что проблема не с годом регистрации автомобиля, а с датами создания анкеты и скачивания её из базы данных, а автомобили с 2017, 2018, 2019 годами регистрации реальны. Удалим строки с датами регистрации больше 2019:"
   ]
  },
  {
   "cell_type": "code",
   "execution_count": 61,
   "metadata": {},
   "outputs": [],
   "source": [
    "#сохранение автомобилей с годом регистрации менее 2019 включительно\n",
    "df=df.loc[df['RegistrationYear']<=2019,]"
   ]
  },
  {
   "cell_type": "markdown",
   "metadata": {},
   "source": [
    "**Обработка выбросов в столбце Power**"
   ]
  },
  {
   "cell_type": "code",
   "execution_count": 62,
   "metadata": {},
   "outputs": [
    {
     "data": {
      "text/plain": [
       "count    354196.000000\n",
       "mean        110.078863\n",
       "std         189.537120\n",
       "min           0.000000\n",
       "25%          69.000000\n",
       "50%         105.000000\n",
       "75%         143.000000\n",
       "max       20000.000000\n",
       "Name: Power, dtype: float64"
      ]
     },
     "execution_count": 62,
     "metadata": {},
     "output_type": "execute_result"
    }
   ],
   "source": [
    "df['Power'].describe()"
   ]
  },
  {
   "cell_type": "code",
   "execution_count": 63,
   "metadata": {},
   "outputs": [
    {
     "data": {
      "image/png": "[encoded data removed]",
      "text/plain": [
       "<Figure size 432x288 with 1 Axes>"
      ]
     },
     "metadata": {
      "needs_background": "light"
     },
     "output_type": "display_data"
    }
   ],
   "source": [
    "df.boxplot('Power');"
   ]
  },
  {
   "cell_type": "markdown",
   "metadata": {},
   "source": [
    "Отсюда видно, что есть преобладающее число выбросов - по верхним значениям, но также присутствуют и нулевые значения. Начнём с нулевых значений:"
   ]
  },
  {
   "cell_type": "code",
   "execution_count": 64,
   "metadata": {
    "scrolled": true
   },
   "outputs": [
    {
     "data": {
      "text/plain": [
       "40096"
      ]
     },
     "execution_count": 64,
     "metadata": {},
     "output_type": "execute_result"
    }
   ],
   "source": [
    "#вывод числа строк с нулевой мощностью\n",
    "len(df[df['Power']==0])"
   ]
  },
  {
   "cell_type": "markdown",
   "metadata": {},
   "source": [
    "Как оказалось, нулевых значений в данном столбце очень много: 40096. Есть смысл заполнить их средними значениями по модели."
   ]
  },
  {
   "cell_type": "code",
   "execution_count": 65,
   "metadata": {},
   "outputs": [],
   "source": [
    "#заполняем нулевые значения согласно средней по модели\n",
    "#во избежание ошибки для model=nan указываем df[df['Model'].notna()\n",
    "for model in list(df[df['Model'].notna()]['Model'].unique()):\n",
    "    model_power_mean=df.loc[df['Model']==model]['Power'].mean()\n",
    "    #заполнение нулевых значений столбца Power для модели средней мощностью\n",
    "    df.loc[(df['Model']==model)&(df['Power']==0),'Power']=model_power_mean"
   ]
  },
  {
   "cell_type": "code",
   "execution_count": 66,
   "metadata": {},
   "outputs": [
    {
     "data": {
      "text/plain": [
       "2"
      ]
     },
     "execution_count": 66,
     "metadata": {},
     "output_type": "execute_result"
    }
   ],
   "source": [
    "#проверка заполнения пропусков\n",
    "len(df[df['Power']==0])"
   ]
  },
  {
   "cell_type": "markdown",
   "metadata": {},
   "source": [
    "Как оказалось, остались 2 пропуска. Проверим:"
   ]
  },
  {
   "cell_type": "code",
   "execution_count": 67,
   "metadata": {},
   "outputs": [
    {
     "data": {
      "text/html": [
       "<div>\n",
       "<style scoped>\n",
       "    .dataframe tbody tr th:only-of-type {\n",
       "        vertical-align: middle;\n",
       "    }\n",
       "\n",
       "    .dataframe tbody tr th {\n",
       "        vertical-align: top;\n",
       "    }\n",
       "\n",
       "    .dataframe thead th {\n",
       "        text-align: right;\n",
       "    }\n",
       "</style>\n",
       "<table border=\"1\" class=\"dataframe\">\n",
       "  <thead>\n",
       "    <tr style=\"text-align: right;\">\n",
       "      <th></th>\n",
       "      <th>DateCrawled</th>\n",
       "      <th>Price</th>\n",
       "      <th>VehicleType</th>\n",
       "      <th>RegistrationYear</th>\n",
       "      <th>Gearbox</th>\n",
       "      <th>Power</th>\n",
       "      <th>Model</th>\n",
       "      <th>Kilometer</th>\n",
       "      <th>RegistrationMonth</th>\n",
       "      <th>FuelType</th>\n",
       "      <th>Brand</th>\n",
       "      <th>Repaired</th>\n",
       "      <th>DateCreated</th>\n",
       "      <th>NumberOfPictures</th>\n",
       "      <th>PostalCode</th>\n",
       "      <th>LastSeen</th>\n",
       "    </tr>\n",
       "  </thead>\n",
       "  <tbody>\n",
       "    <tr>\n",
       "      <th>234296</th>\n",
       "      <td>2016-03-30 11:39:08</td>\n",
       "      <td>3800</td>\n",
       "      <td>wagon</td>\n",
       "      <td>1978</td>\n",
       "      <td>manual</td>\n",
       "      <td>0.0</td>\n",
       "      <td>serie_1</td>\n",
       "      <td>30000</td>\n",
       "      <td>0</td>\n",
       "      <td>petrol</td>\n",
       "      <td>land_rover</td>\n",
       "      <td>no</td>\n",
       "      <td>2016-03-30 00:00:00</td>\n",
       "      <td>0</td>\n",
       "      <td>49824</td>\n",
       "      <td>2016-03-30 11:39:08</td>\n",
       "    </tr>\n",
       "    <tr>\n",
       "      <th>280216</th>\n",
       "      <td>2016-04-02 10:53:15</td>\n",
       "      <td>0</td>\n",
       "      <td>wagon</td>\n",
       "      <td>1970</td>\n",
       "      <td>manual</td>\n",
       "      <td>0.0</td>\n",
       "      <td>serie_1</td>\n",
       "      <td>100000</td>\n",
       "      <td>0</td>\n",
       "      <td>petrol</td>\n",
       "      <td>land_rover</td>\n",
       "      <td>no</td>\n",
       "      <td>2016-04-02 00:00:00</td>\n",
       "      <td>0</td>\n",
       "      <td>88634</td>\n",
       "      <td>2016-04-06 09:16:22</td>\n",
       "    </tr>\n",
       "  </tbody>\n",
       "</table>\n",
       "</div>"
      ],
      "text/plain": [
       "                DateCrawled  Price VehicleType  RegistrationYear Gearbox  \\\n",
       "234296  2016-03-30 11:39:08   3800       wagon              1978  manual   \n",
       "280216  2016-04-02 10:53:15      0       wagon              1970  manual   \n",
       "\n",
       "        Power    Model  Kilometer  RegistrationMonth FuelType       Brand  \\\n",
       "234296    0.0  serie_1      30000                  0   petrol  land_rover   \n",
       "280216    0.0  serie_1     100000                  0   petrol  land_rover   \n",
       "\n",
       "       Repaired          DateCreated  NumberOfPictures  PostalCode  \\\n",
       "234296       no  2016-03-30 00:00:00                 0       49824   \n",
       "280216       no  2016-04-02 00:00:00                 0       88634   \n",
       "\n",
       "                   LastSeen  \n",
       "234296  2016-03-30 11:39:08  \n",
       "280216  2016-04-06 09:16:22  "
      ]
     },
     "execution_count": 67,
     "metadata": {},
     "output_type": "execute_result"
    }
   ],
   "source": [
    "#вывод моделей с оставшимися нулевыми значениями\n",
    "df[df['Power']==0]"
   ]
  },
  {
   "cell_type": "markdown",
   "metadata": {},
   "source": [
    "Видимо это редкие модели, у которых у обеих не указана мощность. Проверим:"
   ]
  },
  {
   "cell_type": "code",
   "execution_count": 68,
   "metadata": {},
   "outputs": [
    {
     "data": {
      "text/html": [
       "<div>\n",
       "<style scoped>\n",
       "    .dataframe tbody tr th:only-of-type {\n",
       "        vertical-align: middle;\n",
       "    }\n",
       "\n",
       "    .dataframe tbody tr th {\n",
       "        vertical-align: top;\n",
       "    }\n",
       "\n",
       "    .dataframe thead th {\n",
       "        text-align: right;\n",
       "    }\n",
       "</style>\n",
       "<table border=\"1\" class=\"dataframe\">\n",
       "  <thead>\n",
       "    <tr style=\"text-align: right;\">\n",
       "      <th></th>\n",
       "      <th>DateCrawled</th>\n",
       "      <th>Price</th>\n",
       "      <th>VehicleType</th>\n",
       "      <th>RegistrationYear</th>\n",
       "      <th>Gearbox</th>\n",
       "      <th>Power</th>\n",
       "      <th>Model</th>\n",
       "      <th>Kilometer</th>\n",
       "      <th>RegistrationMonth</th>\n",
       "      <th>FuelType</th>\n",
       "      <th>Brand</th>\n",
       "      <th>Repaired</th>\n",
       "      <th>DateCreated</th>\n",
       "      <th>NumberOfPictures</th>\n",
       "      <th>PostalCode</th>\n",
       "      <th>LastSeen</th>\n",
       "    </tr>\n",
       "  </thead>\n",
       "  <tbody>\n",
       "    <tr>\n",
       "      <th>234296</th>\n",
       "      <td>2016-03-30 11:39:08</td>\n",
       "      <td>3800</td>\n",
       "      <td>wagon</td>\n",
       "      <td>1978</td>\n",
       "      <td>manual</td>\n",
       "      <td>0.0</td>\n",
       "      <td>serie_1</td>\n",
       "      <td>30000</td>\n",
       "      <td>0</td>\n",
       "      <td>petrol</td>\n",
       "      <td>land_rover</td>\n",
       "      <td>no</td>\n",
       "      <td>2016-03-30 00:00:00</td>\n",
       "      <td>0</td>\n",
       "      <td>49824</td>\n",
       "      <td>2016-03-30 11:39:08</td>\n",
       "    </tr>\n",
       "    <tr>\n",
       "      <th>280216</th>\n",
       "      <td>2016-04-02 10:53:15</td>\n",
       "      <td>0</td>\n",
       "      <td>wagon</td>\n",
       "      <td>1970</td>\n",
       "      <td>manual</td>\n",
       "      <td>0.0</td>\n",
       "      <td>serie_1</td>\n",
       "      <td>100000</td>\n",
       "      <td>0</td>\n",
       "      <td>petrol</td>\n",
       "      <td>land_rover</td>\n",
       "      <td>no</td>\n",
       "      <td>2016-04-02 00:00:00</td>\n",
       "      <td>0</td>\n",
       "      <td>88634</td>\n",
       "      <td>2016-04-06 09:16:22</td>\n",
       "    </tr>\n",
       "  </tbody>\n",
       "</table>\n",
       "</div>"
      ],
      "text/plain": [
       "                DateCrawled  Price VehicleType  RegistrationYear Gearbox  \\\n",
       "234296  2016-03-30 11:39:08   3800       wagon              1978  manual   \n",
       "280216  2016-04-02 10:53:15      0       wagon              1970  manual   \n",
       "\n",
       "        Power    Model  Kilometer  RegistrationMonth FuelType       Brand  \\\n",
       "234296    0.0  serie_1      30000                  0   petrol  land_rover   \n",
       "280216    0.0  serie_1     100000                  0   petrol  land_rover   \n",
       "\n",
       "       Repaired          DateCreated  NumberOfPictures  PostalCode  \\\n",
       "234296       no  2016-03-30 00:00:00                 0       49824   \n",
       "280216       no  2016-04-02 00:00:00                 0       88634   \n",
       "\n",
       "                   LastSeen  \n",
       "234296  2016-03-30 11:39:08  \n",
       "280216  2016-04-06 09:16:22  "
      ]
     },
     "execution_count": 68,
     "metadata": {},
     "output_type": "execute_result"
    }
   ],
   "source": [
    "#вывод модели land_rover serie_1\n",
    "df[df['Model']=='serie_1']"
   ]
  },
  {
   "cell_type": "markdown",
   "metadata": {},
   "source": [
    "Действительно, это редкая модель. По смыслу заполнить эти по сути пропуски не находится возможности. Есть смысл удалить данные строки."
   ]
  },
  {
   "cell_type": "code",
   "execution_count": 69,
   "metadata": {},
   "outputs": [],
   "source": [
    "#удаление строк с нулевой мощностью\n",
    "df=df[df['Power']!=0]"
   ]
  },
  {
   "cell_type": "markdown",
   "metadata": {},
   "source": [
    "Теперь займёмся аномальными значениями по высокой стороне. В принципе, самый мощный автомобиль на сегодняшний день имеет мощность в 2000 л.с. Есть смысл удалить все строки со значениями выше."
   ]
  },
  {
   "cell_type": "code",
   "execution_count": 70,
   "metadata": {},
   "outputs": [],
   "source": [
    "#удаление строк с мощностью автомобилей выше 2000 л.с.\n",
    "df=df[df['Power']<=2000]"
   ]
  },
  {
   "cell_type": "markdown",
   "metadata": {},
   "source": [
    "**Вопрос с нулевыми значениями цен**"
   ]
  },
  {
   "cell_type": "markdown",
   "metadata": {},
   "source": [
    "По сути, эти данные являются пропусками. Однако заполнять их синтетически может и не стоит, ведь нам придётся предсказывать цены, и для обучения лучше иметь реальные цифры в особенности для такого важного параметра как целевой параметр цены. Проверим число пропусков:"
   ]
  },
  {
   "cell_type": "code",
   "execution_count": 71,
   "metadata": {},
   "outputs": [
    {
     "data": {
      "text/plain": [
       "3.03"
      ]
     },
     "execution_count": 71,
     "metadata": {},
     "output_type": "execute_result"
    }
   ],
   "source": [
    "round(100*len(df[df['Price']==0])/len(df),2)"
   ]
  },
  {
   "cell_type": "markdown",
   "metadata": {},
   "source": [
    "3% строк с неуказанными ценами. Есть смысл удалить их."
   ]
  },
  {
   "cell_type": "code",
   "execution_count": 72,
   "metadata": {},
   "outputs": [],
   "source": [
    "df=df[df['Price']!=0]"
   ]
  },
  {
   "cell_type": "markdown",
   "metadata": {},
   "source": [
    "**Удаление неинформативных признаков**"
   ]
  },
  {
   "cell_type": "markdown",
   "metadata": {},
   "source": [
    "В датасете присутствуют неинформативные признаки для предсказания стоимости автомобиля:\n",
    "\n",
    "    - DateCrawled — дата скачивания анкеты из базы;\n",
    "    - DateCreated — дата создания анкеты;\n",
    "    - NumberOfPictures — количество фотографий автомобиля (у всех автомобилей фотографии остуствуют);\n",
    "    - PostalCode — почтовый индекс владельца анкеты (пользователя);\n",
    "    - LastSeen — дата последней активности пользователя.\n",
    "\n",
    "Есть смысл удалить их."
   ]
  },
  {
   "cell_type": "code",
   "execution_count": 73,
   "metadata": {},
   "outputs": [],
   "source": [
    "df=df.drop(labels=['DateCrawled','DateCreated','NumberOfPictures','PostalCode','LastSeen'],axis=1)"
   ]
  },
  {
   "cell_type": "code",
   "execution_count": 74,
   "metadata": {},
   "outputs": [],
   "source": [
    "df=df.reset_index()"
   ]
  },
  {
   "cell_type": "markdown",
   "metadata": {},
   "source": [
    "## Обучение моделей"
   ]
  },
  {
   "cell_type": "markdown",
   "metadata": {},
   "source": [
    "**Разделение выборок**"
   ]
  },
  {
   "cell_type": "markdown",
   "metadata": {},
   "source": [
    "Разделим выборки для обучения моделей на обучающую, валидационную и тестовую в соотношении 60:40:20. Целевой признак - цена автомобиля."
   ]
  },
  {
   "cell_type": "code",
   "execution_count": 75,
   "metadata": {},
   "outputs": [],
   "source": [
    "#задание константы random state:\n",
    "RS=12345\n",
    "\n",
    "#разделение выборок\n",
    "target=df['Price']\n",
    "features=df.drop(['Price'],axis=1)\n",
    "features_train,features_validtest,target_train,target_validtest=train_test_split(\n",
    "    features,target,train_size=0.6,random_state=RS)\n",
    "\n",
    "features_valid,features_test,target_valid,target_test=train_test_split(\n",
    "    features_validtest,target_validtest,train_size=0.25,random_state=RS)"
   ]
  },
  {
   "cell_type": "code",
   "execution_count": 76,
   "metadata": {
    "scrolled": true
   },
   "outputs": [],
   "source": [
    "#сохраняем перечень численных признаков\n",
    "numeric_columns=['RegistrationYear','Power','Kilometer','RegistrationMonth']\n",
    "\n",
    "#обучение инструмента масштабирования\n",
    "scaler=StandardScaler()\n",
    "scaler.fit(features_train[numeric_columns])\n",
    "\n",
    "#масштабирование численных признаков\n",
    "features_train[numeric_columns]=scaler.transform(features_train[numeric_columns])\n",
    "features_valid[numeric_columns]=scaler.transform(features_valid[numeric_columns])\n",
    "features_test[numeric_columns]=scaler.transform(features_test[numeric_columns])"
   ]
  },
  {
   "cell_type": "code",
   "execution_count": 77,
   "metadata": {},
   "outputs": [],
   "source": [
    "#сохраняем перечень категориальных переменных\n",
    "categorical_columns=['VehicleType','Gearbox','Model','FuelType','Brand','Repaired']\n",
    "\n",
    "#преобразование категориальных переменных\n",
    "encoder=OneHotEncoder(drop='first', handle_unknown='error')\n",
    "\n",
    "encoder.fit(features_train[categorical_columns])\n",
    "\n",
    "features_train_encoded=pd.DataFrame(encoder.transform(features_train[categorical_columns]).toarray(),\n",
    "                                   columns=encoder.get_feature_names(categorical_columns),\n",
    "                                   index=features_train.index)\n",
    "features_train=pd.concat((features_train[numeric_columns],features_train_encoded),axis=1)\n",
    "\n",
    "features_valid_encoded=pd.DataFrame(encoder.transform(features_valid[categorical_columns]).toarray(),\n",
    "                                   columns=encoder.get_feature_names(categorical_columns),\n",
    "                                   index=features_valid.index)\n",
    "features_valid=pd.concat((features_valid[numeric_columns],features_valid_encoded),axis=1)\n",
    "\n",
    "features_test_encoded=pd.DataFrame(encoder.transform(features_test[categorical_columns]).toarray(),\n",
    "                                   columns=encoder.get_feature_names(categorical_columns),\n",
    "                                   index=features_test.index)\n",
    "features_test = pd.concat((features_test[numeric_columns], features_test_encoded), axis=1)"
   ]
  },
  {
   "cell_type": "code",
   "execution_count": 78,
   "metadata": {},
   "outputs": [],
   "source": [
    "#создание функции расчёта RMSE\n",
    "def RMSE(target,predictions):\n",
    "    return(mean_squared_error(target,predictions)**0.5)\n",
    "\n",
    "#создание критерия оценки RMSE для моделей для подбра параметром методом GridSearchCV\n",
    "new_scorer=make_scorer(RMSE,greater_is_better=False)"
   ]
  },
  {
   "cell_type": "markdown",
   "metadata": {},
   "source": [
    "**Обучение модели линейной регрессии**"
   ]
  },
  {
   "cell_type": "code",
   "execution_count": 79,
   "metadata": {},
   "outputs": [
    {
     "name": "stdout",
     "output_type": "stream",
     "text": [
      "CPU times: user 17.6 s, sys: 9.05 s, total: 26.6 s\n",
      "Wall time: 26.6 s\n"
     ]
    },
    {
     "data": {
      "text/plain": [
       "LinearRegression()"
      ]
     },
     "execution_count": 79,
     "metadata": {},
     "output_type": "execute_result"
    }
   ],
   "source": [
    "%%time\n",
    "#Обучение модели линейной регрессии\n",
    "model_0=LinearRegression()\n",
    "model_0.fit(features_train,target_train)"
   ]
  },
  {
   "cell_type": "code",
   "execution_count": 80,
   "metadata": {},
   "outputs": [
    {
     "name": "stdout",
     "output_type": "stream",
     "text": [
      "CPU times: user 84.3 ms, sys: 81.3 ms, total: 166 ms\n",
      "Wall time: 179 ms\n"
     ]
    }
   ],
   "source": [
    "%%time\n",
    "#Предсказание модели линейной регрессии\n",
    "predictions_0=model_0.predict(features_valid)"
   ]
  },
  {
   "cell_type": "code",
   "execution_count": 81,
   "metadata": {},
   "outputs": [
    {
     "data": {
      "text/plain": [
       "array([ 3532.8806314 ,  2005.97427017,  7674.62255112, ...,\n",
       "       11063.0232329 ,   947.50168284,  3708.39634843])"
      ]
     },
     "execution_count": 81,
     "metadata": {},
     "output_type": "execute_result"
    }
   ],
   "source": [
    "predictions_0"
   ]
  },
  {
   "cell_type": "code",
   "execution_count": 82,
   "metadata": {},
   "outputs": [
    {
     "data": {
      "text/plain": [
       "336187     2750\n",
       "174855     2100\n",
       "205594      950\n",
       "231727     5500\n",
       "202289     1990\n",
       "          ...  \n",
       "233343    10500\n",
       "240416     1999\n",
       "177343    15400\n",
       "86643      1550\n",
       "117489      900\n",
       "Name: Price, Length: 34334, dtype: int64"
      ]
     },
     "execution_count": 82,
     "metadata": {},
     "output_type": "execute_result"
    }
   ],
   "source": [
    "target_valid"
   ]
  },
  {
   "cell_type": "code",
   "execution_count": null,
   "metadata": {},
   "outputs": [],
   "source": []
  },
  {
   "cell_type": "code",
   "execution_count": 83,
   "metadata": {},
   "outputs": [
    {
     "data": {
      "text/plain": [
       "2972.7848747496746"
      ]
     },
     "execution_count": 83,
     "metadata": {},
     "output_type": "execute_result"
    }
   ],
   "source": [
    "#подсчёт метрики RMSE\n",
    "model_0_RMSE=RMSE(target_valid,predictions_0)\n",
    "model_0_RMSE"
   ]
  },
  {
   "cell_type": "markdown",
   "metadata": {},
   "source": [
    "Как видно, без перебора гиперпараметров, модель линейной регресии даёт результат RMSE, равный 2970. Время обучения = 58.9 с, время предсказания модели = 126 мс. \n",
    "\n",
    "Далее попробуем подобрать гиперпараметры методом GridSeacrhCV и посмотрим на новый результат RMSE."
   ]
  },
  {
   "cell_type": "code",
   "execution_count": 84,
   "metadata": {},
   "outputs": [
    {
     "name": "stdout",
     "output_type": "stream",
     "text": [
      "{'fit_intercept': True, 'normalize': False}\n",
      "2954.3767826124804\n",
      "CPU times: user 1min 21s, sys: 48.5 s, total: 2min 10s\n",
      "Wall time: 2min 10s\n"
     ]
    }
   ],
   "source": [
    "%%time\n",
    "parametres={'fit_intercept':[True,False], 'normalize':[True,False]}\n",
    "model=LinearRegression()\n",
    "best_model_0=GridSearchCV(model,parametres,cv=2,scoring=new_scorer)\n",
    "best_model_0.fit(features_train,target_train)\n",
    "\n",
    "print(best_model_0.best_params_)\n",
    "print(abs(best_model_0.best_score_))"
   ]
  },
  {
   "cell_type": "code",
   "execution_count": 85,
   "metadata": {},
   "outputs": [
    {
     "name": "stdout",
     "output_type": "stream",
     "text": [
      "CPU times: user 39.9 ms, sys: 19.7 ms, total: 59.7 ms\n",
      "Wall time: 20.5 ms\n"
     ]
    }
   ],
   "source": [
    "%%time\n",
    "#Предсказание модели линейной регрессии с наилучшими гиперпараметрами\n",
    "predictions_best_0=best_model_0.predict(features_valid)"
   ]
  },
  {
   "cell_type": "code",
   "execution_count": 86,
   "metadata": {},
   "outputs": [
    {
     "data": {
      "text/plain": [
       "2972.7848747496746"
      ]
     },
     "execution_count": 86,
     "metadata": {},
     "output_type": "execute_result"
    }
   ],
   "source": [
    "#подсчёт метрики RMSE\n",
    "best_model_0_RMSE=RMSE(target_valid,predictions_best_0)\n",
    "best_model_0_RMSE"
   ]
  },
  {
   "cell_type": "markdown",
   "metadata": {},
   "source": [
    "Как видно, с перебором гиперпараметров, наилучшая модель линейной регресии даёт результат RMSE, равный 2970. (Такой же, как и без перебора гиперпараметров). Время обучения с перебором гиперпараметров методом GridSearchCV = 5 минут 49 секунд, время предсказания модели = 31,7 мс. "
   ]
  },
  {
   "cell_type": "markdown",
   "metadata": {},
   "source": [
    "**Общий вывод по модели линейной регрессии:** \n",
    "\n",
    "Без перебора гиперпараметров:\n",
    "    \n",
    "    время обучения = 58.9 с, время предсказания = 126 мс, RMSE = 2971\n",
    "    \n",
    "С перебором гиперпараметров методом GridSearchCV:\n",
    "    \n",
    "    время обучения = 5 минут 49 секунд , время предсказания = 31.7 мс, RMSE = 2970\n",
    "    \n",
    "По условиям задачи, RMSE должна быть не более 2500. Таким образом, данная модель не подходит для решения задачи регрессии для настоящего датасета."
   ]
  },
  {
   "cell_type": "markdown",
   "metadata": {},
   "source": [
    "**Обучение модели случайного леса**"
   ]
  },
  {
   "cell_type": "code",
   "execution_count": 87,
   "metadata": {},
   "outputs": [],
   "source": [
    "#разделение выборок\n",
    "target=df['Price']\n",
    "features=df.drop(['Price'],axis=1)\n",
    "features_train,features_validtest,target_train,target_validtest=train_test_split(\n",
    "    features,target,train_size=0.6,random_state=RS)\n",
    "\n",
    "features_valid,features_test,target_valid,target_test=train_test_split(\n",
    "    features_validtest,target_validtest,train_size=0.25,random_state=RS)"
   ]
  },
  {
   "cell_type": "code",
   "execution_count": 88,
   "metadata": {
    "scrolled": true
   },
   "outputs": [],
   "source": [
    "#сохраняем перечень численных признаков\n",
    "numeric_columns=['RegistrationYear','Power','Kilometer','RegistrationMonth']\n",
    "\n",
    "#обучение инструмента масштабирования\n",
    "scaler=StandardScaler()\n",
    "scaler.fit(features_train[numeric_columns])\n",
    "\n",
    "#масштабирование численных признаков\n",
    "features_train[numeric_columns]=scaler.transform(features_train[numeric_columns])\n",
    "features_valid[numeric_columns]=scaler.transform(features_valid[numeric_columns])\n",
    "features_test[numeric_columns]=scaler.transform(features_test[numeric_columns])"
   ]
  },
  {
   "cell_type": "code",
   "execution_count": 89,
   "metadata": {},
   "outputs": [],
   "source": [
    "# порядковое кодирование для модели случайного леса\n",
    "encoder = OrdinalEncoder(handle_unknown='use_encoded_value', unknown_value=9999)\n",
    "#сохраняем перечень категориальных переменных\n",
    "categorical_columns=['VehicleType','Gearbox','Model','FuelType','Brand','Repaired']\n",
    "encoder.fit(features_train[categorical_columns])\n",
    "\n",
    "features_train_ord = features_train.copy()\n",
    "features_valid_ord = features_valid.copy()\n",
    "features_test_ord = features_test.copy()\n",
    "\n",
    "features_train_ord[categorical_columns] = encoder.transform(features_train_ord[categorical_columns])\n",
    "features_valid_ord[categorical_columns] = encoder.transform(features_valid_ord[categorical_columns])\n",
    "features_test_ord[categorical_columns] = encoder.transform(features_test_ord[categorical_columns])"
   ]
  },
  {
   "cell_type": "code",
   "execution_count": 90,
   "metadata": {},
   "outputs": [
    {
     "name": "stdout",
     "output_type": "stream",
     "text": [
      "CPU times: user 1min 41s, sys: 0 ns, total: 1min 41s\n",
      "Wall time: 1min 41s\n"
     ]
    },
    {
     "data": {
      "text/plain": [
       "RandomForestRegressor(random_state=12345)"
      ]
     },
     "execution_count": 90,
     "metadata": {},
     "output_type": "execute_result"
    }
   ],
   "source": [
    "%%time\n",
    "#Обучение модели случайного леса\n",
    "model_1=RandomForestRegressor(random_state=RS)\n",
    "model_1.fit(features_train_ord,target_train)"
   ]
  },
  {
   "cell_type": "code",
   "execution_count": 91,
   "metadata": {},
   "outputs": [
    {
     "name": "stdout",
     "output_type": "stream",
     "text": [
      "CPU times: user 2.1 s, sys: 0 ns, total: 2.1 s\n",
      "Wall time: 2.11 s\n"
     ]
    }
   ],
   "source": [
    "%%time\n",
    "#Предсказание модели случайного леса\n",
    "predictions_1=model_1.predict(features_valid_ord)"
   ]
  },
  {
   "cell_type": "code",
   "execution_count": 92,
   "metadata": {},
   "outputs": [
    {
     "data": {
      "text/plain": [
       "1751.6356474667266"
      ]
     },
     "execution_count": 92,
     "metadata": {},
     "output_type": "execute_result"
    }
   ],
   "source": [
    "#подсчёт метрики RMSE\n",
    "model_1_RMSE=RMSE(target_valid,predictions_1)\n",
    "model_1_RMSE"
   ]
  },
  {
   "cell_type": "markdown",
   "metadata": {},
   "source": [
    "Как видно, без перебора гиперпараметров, модель случайного леса даёт результат RMSE, равный 1717. Время обучения = 7 минут 18 секунд, время предсказания модели = 2,11 с. \n",
    "\n",
    "Результаты уже лучше, чем модель линейной регрессии.\n",
    "\n",
    "Далее попробуем подобрать гиперпараметры методом GridSeacrhCV и посмотрим на новый результат RMSE."
   ]
  },
  {
   "cell_type": "code",
   "execution_count": 93,
   "metadata": {
    "scrolled": true
   },
   "outputs": [
    {
     "name": "stdout",
     "output_type": "stream",
     "text": [
      "{'max_depth': 12}\n",
      "1882.2389064256795\n",
      "CPU times: user 2min 46s, sys: 0 ns, total: 2min 46s\n",
      "Wall time: 2min 47s\n"
     ]
    }
   ],
   "source": [
    "%%time\n",
    "\n",
    "parametres={'max_depth': range (11,13)}\n",
    "model=RandomForestRegressor(random_state=RS)\n",
    "best_model_1=GridSearchCV(model,parametres,cv=2,scoring=new_scorer)\n",
    "best_model_1.fit(features_train_ord,target_train)\n",
    "\n",
    "print(best_model_1.best_params_)\n",
    "print(abs(best_model_1.best_score_))"
   ]
  },
  {
   "cell_type": "code",
   "execution_count": 94,
   "metadata": {},
   "outputs": [
    {
     "name": "stdout",
     "output_type": "stream",
     "text": [
      "CPU times: user 429 ms, sys: 0 ns, total: 429 ms\n",
      "Wall time: 436 ms\n"
     ]
    }
   ],
   "source": [
    "%%time\n",
    "#Предсказание модели случайного леса с наилучшими гиперпараметрами\n",
    "predictions_best_1=best_model_1.predict(features_valid_ord)"
   ]
  },
  {
   "cell_type": "code",
   "execution_count": 95,
   "metadata": {},
   "outputs": [
    {
     "data": {
      "text/plain": [
       "1873.6908419207136"
      ]
     },
     "execution_count": 95,
     "metadata": {},
     "output_type": "execute_result"
    }
   ],
   "source": [
    "#подсчёт метрики RMSE\n",
    "best_model_1_RMSE=RMSE(target_valid,predictions_best_1)\n",
    "best_model_1_RMSE"
   ]
  },
  {
   "cell_type": "markdown",
   "metadata": {},
   "source": [
    "Как видно, c перебором гиперпараметров, наилучшая модель случайного леса даёт результат RMSE, равный 1891. Время обучения с перебором гиперпараметров методом GridSearchCV = 9 минут 43 секунды, время предсказания модели = 246 мс. "
   ]
  },
  {
   "cell_type": "markdown",
   "metadata": {},
   "source": [
    "**Общий вывод по модели случайного леса:** \n",
    "\n",
    "Без перебора гиперпараметров:\n",
    "    \n",
    "    время обучения = 1 минута 24 секунды , время предсказания = 1,75 с, RMSE = 1745\n",
    "    \n",
    "С перебором гиперпараметров методом GridSearchCV:\n",
    "    \n",
    "    время обучения = 2 минуты 20 секунд, время предсказания = 386 мс, RMSE = 1871\n",
    "    \n",
    "Данная модель также по требованию к качеству RMSE, а также можно использовать модель без перебора гиперпараметров, так как RMSE даже ухудшилась при более длительном переборе гиперпараметров. При этом, время обучения и время предсказания больше, чем для модели линейной регрессии, но с новым кодированием данных это уже сопоставимое время."
   ]
  },
  {
   "cell_type": "markdown",
   "metadata": {},
   "source": [
    "**Обучение модели градиентного бустинга lightgbm**"
   ]
  },
  {
   "cell_type": "code",
   "execution_count": 96,
   "metadata": {},
   "outputs": [
    {
     "name": "stdout",
     "output_type": "stream",
     "text": [
      "CPU times: user 6min 1s, sys: 1.04 s, total: 6min 2s\n",
      "Wall time: 6min 6s\n"
     ]
    },
    {
     "data": {
      "text/plain": [
       "LGBMRegressor(random_state=12345)"
      ]
     },
     "execution_count": 96,
     "metadata": {},
     "output_type": "execute_result"
    }
   ],
   "source": [
    "%%time\n",
    "#Обучение модели градиентного бустинга\n",
    "model_2=LGBMRegressor(random_state=RS)\n",
    "model_2.fit(features_train_ord,target_train)"
   ]
  },
  {
   "cell_type": "code",
   "execution_count": 97,
   "metadata": {},
   "outputs": [
    {
     "name": "stdout",
     "output_type": "stream",
     "text": [
      "CPU times: user 337 ms, sys: 0 ns, total: 337 ms\n",
      "Wall time: 319 ms\n"
     ]
    }
   ],
   "source": [
    "%%time\n",
    "#Предсказание модели градиентного бустинга\n",
    "predictions_2=model_2.predict(features_valid_ord)"
   ]
  },
  {
   "cell_type": "code",
   "execution_count": 98,
   "metadata": {},
   "outputs": [
    {
     "data": {
      "text/plain": [
       "1825.1914739862223"
      ]
     },
     "execution_count": 98,
     "metadata": {},
     "output_type": "execute_result"
    }
   ],
   "source": [
    "#подсчёт метрики RMSE\n",
    "model_2_RMSE=RMSE(target_valid,predictions_2)\n",
    "model_2_RMSE"
   ]
  },
  {
   "cell_type": "markdown",
   "metadata": {},
   "source": [
    "Как видно, без перебора гиперпараметров, модель градиентного бустинга даёт результат RMSE, равный 1808. Время обучения = 43,1 с, время предсказания модели = 483 мс. \n",
    "\n",
    "Результаты RMSE также удовлетворяют задаче, но немного хуже, чем в модели случайного леса. При этом время обучения сопоставимо с временем оубчения для линейной регрессии и на порядок быстрее случайного леса.\n",
    "\n",
    "Далее попробуем подобрать гиперпараметры методом GridSeacrhCV и посмотрим на новый результат RMSE."
   ]
  },
  {
   "cell_type": "code",
   "execution_count": 99,
   "metadata": {
    "scrolled": true
   },
   "outputs": [
    {
     "name": "stdout",
     "output_type": "stream",
     "text": [
      "{'max_depth': 11}\n",
      "1811.374086389469\n",
      "CPU times: user 4min 13s, sys: 1.01 s, total: 4min 14s\n",
      "Wall time: 4min 17s\n"
     ]
    }
   ],
   "source": [
    "%%time\n",
    "\n",
    "parametres={'max_depth': range (11,13)}\n",
    "model=LGBMRegressor(random_state=RS)\n",
    "best_model_2=GridSearchCV(model,parametres,cv=2,scoring=new_scorer)\n",
    "best_model_2.fit(features_train_ord,target_train)\n",
    "\n",
    "print(best_model_2.best_params_)\n",
    "print(abs(best_model_2.best_score_))"
   ]
  },
  {
   "cell_type": "code",
   "execution_count": 100,
   "metadata": {},
   "outputs": [
    {
     "name": "stdout",
     "output_type": "stream",
     "text": [
      "CPU times: user 296 ms, sys: 2.23 ms, total: 298 ms\n",
      "Wall time: 302 ms\n"
     ]
    }
   ],
   "source": [
    "%%time\n",
    "#Предсказание модели градиентного бустинга с наилучшими гиперпараметрами\n",
    "predictions_best_2=best_model_2.predict(features_valid_ord)"
   ]
  },
  {
   "cell_type": "code",
   "execution_count": 101,
   "metadata": {},
   "outputs": [
    {
     "data": {
      "text/plain": [
       "1828.2037633906727"
      ]
     },
     "execution_count": 101,
     "metadata": {},
     "output_type": "execute_result"
    }
   ],
   "source": [
    "#подсчёт метрики RMSE\n",
    "best_model_2_RMSE=RMSE(target_valid,predictions_best_2)\n",
    "best_model_2_RMSE"
   ]
  },
  {
   "cell_type": "markdown",
   "metadata": {},
   "source": [
    "Как видно, c перебором гиперпараметров, наилучшая модель градиентного бустинга даёт результат RMSE, равный 1883. Время обучения с перебором гиперпараметров методом GridSearchCV = 3 минуты 17 секунд, время предсказания модели = 372 мс. "
   ]
  },
  {
   "cell_type": "markdown",
   "metadata": {},
   "source": [
    "**Общий вывод по модели градиентного бустинга Lightgbm:** \n",
    "\n",
    "Скорректированный вывод по модели градиентного бустинга:\n",
    "    \n",
    "Без перебора гиперпараметров:\n",
    "    \n",
    "    время обучения = 2 минуты 10 секунд , время предсказания = 215 мс, RMSE = 1819\n",
    "    \n",
    "С перебором гиперпараметров методом GridSearchCV:\n",
    "    \n",
    "    время обучения = 46,8 секунд, время предсказания = 292 мс, RMSE = 1817\n",
    "    \n",
    "Данная модель проходит также по требованию к качеству RMSE, а также можно использовать модель без перебора гиперпараметров, так как RMSE значительно не изменилась. При этом стоит отметить, что при новом методе кодирования данных скорость обучения увеличилась очень значительно, в несколько раз."
   ]
  },
  {
   "cell_type": "markdown",
   "metadata": {},
   "source": [
    "## Анализ моделей"
   ]
  },
  {
   "cell_type": "markdown",
   "metadata": {},
   "source": [
    "Лучше всего по метрике RMSE показала себя модель случайного леса без перебора гиперпараметров с кросс-валидацией методом GridSearchCV: \n",
    "    \n",
    "    время обучения = 1 минута 24 секунды , время предсказания = 1,75 с, RMSE = 1745\n",
    "    \n",
    "На втором месте по качеству RMSE - бустинг (с перебором гиперпараметров с кросс-валидацией):\n",
    "    \n",
    "    время обучения = 46,8 секунд, время предсказания = 292 мс, RMSE = 1817\n",
    "    \n",
    "Как видно, обе модели проходят по условию качества RMSE: она меньше 2500. При этом для градиентного бустинга время обучения в несколько раз меньше, чем для случайного леса.\n",
    "\n",
    "Линейная регрессия показала наихудший результат RMSE, больший 2500:\n",
    "\n",
    "    время обучения = 17,4 с, время предсказания = 126 мс, RMSE = 2971\n",
    "    \n",
    "Проверим наилучшую модель случайного леса без перебора гиперпараметров (model_1) на тестовой выборке:"
   ]
  },
  {
   "cell_type": "markdown",
   "metadata": {},
   "source": [
    "**Проверка наилучшей модели на тестовой выборке**"
   ]
  },
  {
   "cell_type": "code",
   "execution_count": 102,
   "metadata": {},
   "outputs": [
    {
     "name": "stdout",
     "output_type": "stream",
     "text": [
      "CPU times: user 5.5 s, sys: 0 ns, total: 5.5 s\n",
      "Wall time: 5.5 s\n"
     ]
    }
   ],
   "source": [
    "%%time\n",
    "#Предсказание модели случайного леса\n",
    "predictions_1_test=model_1.predict(features_test_ord)"
   ]
  },
  {
   "cell_type": "code",
   "execution_count": 103,
   "metadata": {},
   "outputs": [
    {
     "data": {
      "text/plain": [
       "1716.488807626051"
      ]
     },
     "execution_count": 103,
     "metadata": {},
     "output_type": "execute_result"
    }
   ],
   "source": [
    "#подсчёт метрики RMSE\n",
    "model_1_RMSE=RMSE(target_test,predictions_1_test)\n",
    "model_1_RMSE"
   ]
  },
  {
   "cell_type": "markdown",
   "metadata": {},
   "source": [
    "Результатами показано, что наилучшее значение RMSE принимает для модели случайного леса и равняется 1714 при времени обучения 1 минута 24 секунды, со временем предсказания 4.9 секунд."
   ]
  }
 ],
 "metadata": {
  "ExecuteTimeLog": [
   {
    "duration": 7,
    "start_time": "2023-06-07T17:15:46.372Z"
   },
   {
    "duration": 375,
    "start_time": "2023-06-07T17:20:30.561Z"
   },
   {
    "duration": 2670,
    "start_time": "2023-06-07T17:20:32.195Z"
   },
   {
    "duration": 18,
    "start_time": "2023-06-07T17:20:57.214Z"
   },
   {
    "duration": 101,
    "start_time": "2023-06-07T17:21:07.597Z"
   },
   {
    "duration": 265,
    "start_time": "2023-06-07T17:44:31.583Z"
   },
   {
    "duration": 207,
    "start_time": "2023-06-07T17:44:36.325Z"
   },
   {
    "duration": 244,
    "start_time": "2023-06-07T17:44:44.376Z"
   },
   {
    "duration": 59,
    "start_time": "2023-06-07T17:44:59.808Z"
   },
   {
    "duration": 218,
    "start_time": "2023-06-07T17:45:09.135Z"
   },
   {
    "duration": 4,
    "start_time": "2023-06-07T17:46:45.161Z"
   },
   {
    "duration": 100,
    "start_time": "2023-06-07T17:46:58.002Z"
   },
   {
    "duration": 112,
    "start_time": "2023-06-07T17:47:42.921Z"
   },
   {
    "duration": 99,
    "start_time": "2023-06-07T17:47:49.234Z"
   },
   {
    "duration": 131,
    "start_time": "2023-06-07T17:48:22.399Z"
   },
   {
    "duration": 471,
    "start_time": "2023-06-07T17:48:38.048Z"
   },
   {
    "duration": 128,
    "start_time": "2023-06-07T17:48:47.745Z"
   },
   {
    "duration": 96,
    "start_time": "2023-06-07T17:48:51.024Z"
   },
   {
    "duration": 110,
    "start_time": "2023-06-07T17:48:56.751Z"
   },
   {
    "duration": 99,
    "start_time": "2023-06-07T17:48:59.640Z"
   },
   {
    "duration": 96,
    "start_time": "2023-06-07T17:49:05.897Z"
   },
   {
    "duration": 46,
    "start_time": "2023-06-07T17:49:19.127Z"
   },
   {
    "duration": 90,
    "start_time": "2023-06-07T17:49:24.413Z"
   },
   {
    "duration": 89,
    "start_time": "2023-06-07T17:49:42.184Z"
   },
   {
    "duration": 100,
    "start_time": "2023-06-07T17:49:49.075Z"
   },
   {
    "duration": 95,
    "start_time": "2023-06-07T17:49:53.481Z"
   },
   {
    "duration": 94,
    "start_time": "2023-06-07T17:49:57.412Z"
   },
   {
    "duration": 91,
    "start_time": "2023-06-07T17:50:08.451Z"
   },
   {
    "duration": 90,
    "start_time": "2023-06-07T17:50:15.747Z"
   },
   {
    "duration": 97,
    "start_time": "2023-06-07T17:50:51.353Z"
   },
   {
    "duration": 94,
    "start_time": "2023-06-07T17:50:58.077Z"
   },
   {
    "duration": 97,
    "start_time": "2023-06-07T17:51:00.672Z"
   },
   {
    "duration": 93,
    "start_time": "2023-06-07T17:51:17.424Z"
   },
   {
    "duration": 102,
    "start_time": "2023-06-07T17:51:23.488Z"
   },
   {
    "duration": 7,
    "start_time": "2023-06-07T17:51:53.379Z"
   },
   {
    "duration": 205,
    "start_time": "2023-06-07T17:51:57.230Z"
   },
   {
    "duration": 102,
    "start_time": "2023-06-07T17:52:05.892Z"
   },
   {
    "duration": 209,
    "start_time": "2023-06-07T17:52:12.433Z"
   },
   {
    "duration": 1493,
    "start_time": "2023-06-07T17:52:33.427Z"
   },
   {
    "duration": 97,
    "start_time": "2023-06-07T17:52:41.921Z"
   },
   {
    "duration": 105,
    "start_time": "2023-06-07T17:52:58.322Z"
   },
   {
    "duration": 94,
    "start_time": "2023-06-07T17:54:01.560Z"
   },
   {
    "duration": 130,
    "start_time": "2023-06-07T17:54:19.349Z"
   },
   {
    "duration": 93,
    "start_time": "2023-06-07T17:54:31.980Z"
   },
   {
    "duration": 100,
    "start_time": "2023-06-07T17:56:23.745Z"
   },
   {
    "duration": 93,
    "start_time": "2023-06-07T17:56:27.723Z"
   },
   {
    "duration": 90,
    "start_time": "2023-06-07T17:56:30.882Z"
   },
   {
    "duration": 54,
    "start_time": "2023-06-07T17:56:50.452Z"
   },
   {
    "duration": 45,
    "start_time": "2023-06-07T17:56:56.054Z"
   },
   {
    "duration": 842,
    "start_time": "2023-06-07T17:56:59.804Z"
   },
   {
    "duration": 99,
    "start_time": "2023-06-07T17:57:09.475Z"
   },
   {
    "duration": 120,
    "start_time": "2023-06-07T17:57:24.216Z"
   },
   {
    "duration": 141,
    "start_time": "2023-06-07T17:57:52.935Z"
   },
   {
    "duration": 90,
    "start_time": "2023-06-07T17:58:34.914Z"
   },
   {
    "duration": 108,
    "start_time": "2023-06-07T17:59:20.361Z"
   },
   {
    "duration": 157,
    "start_time": "2023-06-07T17:59:27.757Z"
   },
   {
    "duration": 194,
    "start_time": "2023-06-07T18:01:46.865Z"
   },
   {
    "duration": 7,
    "start_time": "2023-06-07T18:02:01.132Z"
   },
   {
    "duration": 182,
    "start_time": "2023-06-07T18:02:09.101Z"
   },
   {
    "duration": 90,
    "start_time": "2023-06-07T18:02:55.312Z"
   },
   {
    "duration": 154,
    "start_time": "2023-06-07T18:03:02.590Z"
   },
   {
    "duration": 57,
    "start_time": "2023-06-07T18:03:08.622Z"
   },
   {
    "duration": 90,
    "start_time": "2023-06-07T18:03:42.258Z"
   },
   {
    "duration": 95,
    "start_time": "2023-06-07T18:03:46.563Z"
   },
   {
    "duration": 136,
    "start_time": "2023-06-07T18:04:02.401Z"
   },
   {
    "duration": 103,
    "start_time": "2023-06-07T18:04:06.437Z"
   },
   {
    "duration": 49,
    "start_time": "2023-06-07T18:04:21.324Z"
   },
   {
    "duration": 106,
    "start_time": "2023-06-07T18:04:24.501Z"
   },
   {
    "duration": 99,
    "start_time": "2023-06-07T18:04:28.056Z"
   },
   {
    "duration": 102,
    "start_time": "2023-06-07T18:05:01.205Z"
   },
   {
    "duration": 98,
    "start_time": "2023-06-07T18:05:08.876Z"
   },
   {
    "duration": 99,
    "start_time": "2023-06-07T18:05:24.649Z"
   },
   {
    "duration": 119,
    "start_time": "2023-06-07T18:05:31.674Z"
   },
   {
    "duration": 18,
    "start_time": "2023-06-07T18:06:00.385Z"
   },
   {
    "duration": 68,
    "start_time": "2023-06-07T18:06:06.650Z"
   },
   {
    "duration": 62,
    "start_time": "2023-06-07T18:06:16.040Z"
   },
   {
    "duration": 60,
    "start_time": "2023-06-07T18:06:19.086Z"
   },
   {
    "duration": 60,
    "start_time": "2023-06-07T18:06:23.037Z"
   },
   {
    "duration": 50,
    "start_time": "2023-06-07T18:07:00.836Z"
   },
   {
    "duration": 66,
    "start_time": "2023-06-07T18:07:09.994Z"
   },
   {
    "duration": 67,
    "start_time": "2023-06-07T18:07:15.713Z"
   },
   {
    "duration": 63,
    "start_time": "2023-06-07T18:07:21.252Z"
   },
   {
    "duration": 72,
    "start_time": "2023-06-07T18:09:14.288Z"
   },
   {
    "duration": 97,
    "start_time": "2023-06-07T18:24:07.858Z"
   },
   {
    "duration": 63,
    "start_time": "2023-06-07T18:24:37.141Z"
   },
   {
    "duration": 62,
    "start_time": "2023-06-07T18:26:39.700Z"
   },
   {
    "duration": 71,
    "start_time": "2023-06-07T18:26:54.928Z"
   },
   {
    "duration": 65,
    "start_time": "2023-06-07T18:27:15.536Z"
   },
   {
    "duration": 71,
    "start_time": "2023-06-07T18:27:19.262Z"
   },
   {
    "duration": 63,
    "start_time": "2023-06-07T18:27:24.506Z"
   },
   {
    "duration": 63,
    "start_time": "2023-06-07T18:27:32.327Z"
   },
   {
    "duration": 100,
    "start_time": "2023-06-07T18:28:01.545Z"
   },
   {
    "duration": 76,
    "start_time": "2023-06-07T18:28:05.065Z"
   },
   {
    "duration": 753,
    "start_time": "2023-06-07T18:28:27.619Z"
   },
   {
    "duration": 76,
    "start_time": "2023-06-07T18:29:07.068Z"
   },
   {
    "duration": 4,
    "start_time": "2023-06-07T18:29:30.164Z"
   },
   {
    "duration": 49,
    "start_time": "2023-06-07T18:29:35.562Z"
   },
   {
    "duration": 6,
    "start_time": "2023-06-07T18:29:43.007Z"
   },
   {
    "duration": 7,
    "start_time": "2023-06-07T18:29:54.736Z"
   },
   {
    "duration": 13,
    "start_time": "2023-06-07T18:30:14.488Z"
   },
   {
    "duration": 101,
    "start_time": "2023-06-07T18:30:47.778Z"
   },
   {
    "duration": 78,
    "start_time": "2023-06-07T18:31:20.136Z"
   },
   {
    "duration": 628,
    "start_time": "2023-06-07T18:31:31.540Z"
   },
   {
    "duration": 80,
    "start_time": "2023-06-07T18:31:34.954Z"
   },
   {
    "duration": 79,
    "start_time": "2023-06-07T18:31:52.080Z"
   },
   {
    "duration": 18,
    "start_time": "2023-06-07T18:32:29.142Z"
   },
   {
    "duration": 13,
    "start_time": "2023-06-07T18:47:01.625Z"
   },
   {
    "duration": 3,
    "start_time": "2023-06-07T18:47:16.192Z"
   },
   {
    "duration": 564,
    "start_time": "2023-06-07T19:16:29.742Z"
   },
   {
    "duration": 2747,
    "start_time": "2023-06-07T19:16:30.308Z"
   },
   {
    "duration": 105,
    "start_time": "2023-06-07T19:16:33.056Z"
   },
   {
    "duration": 101,
    "start_time": "2023-06-07T19:16:33.163Z"
   },
   {
    "duration": 109,
    "start_time": "2023-06-07T19:16:33.267Z"
   },
   {
    "duration": 97,
    "start_time": "2023-06-07T19:16:33.378Z"
   },
   {
    "duration": 64605,
    "start_time": "2023-06-07T19:16:33.477Z"
   },
   {
    "duration": 0,
    "start_time": "2023-06-07T19:17:38.084Z"
   },
   {
    "duration": 569,
    "start_time": "2023-06-07T19:17:39.647Z"
   },
   {
    "duration": 2127,
    "start_time": "2023-06-07T19:17:58.408Z"
   },
   {
    "duration": 831,
    "start_time": "2023-06-07T19:18:16.622Z"
   },
   {
    "duration": 1570,
    "start_time": "2023-06-07T19:18:20.106Z"
   },
   {
    "duration": 10301,
    "start_time": "2023-06-07T19:18:27.500Z"
   },
   {
    "duration": 2856,
    "start_time": "2023-06-07T19:19:00.328Z"
   },
   {
    "duration": 3257,
    "start_time": "2023-06-07T19:20:32.252Z"
   },
   {
    "duration": 57,
    "start_time": "2023-06-07T19:37:05.689Z"
   },
   {
    "duration": 7,
    "start_time": "2023-06-07T19:37:10.499Z"
   },
   {
    "duration": 839,
    "start_time": "2023-06-07T19:37:13.465Z"
   },
   {
    "duration": 1105,
    "start_time": "2023-06-07T19:37:15.165Z"
   },
   {
    "duration": 6,
    "start_time": "2023-06-07T19:37:21.244Z"
   },
   {
    "duration": 36,
    "start_time": "2023-06-07T19:37:26.670Z"
   },
   {
    "duration": 4,
    "start_time": "2023-06-07T19:37:28.713Z"
   },
   {
    "duration": 157,
    "start_time": "2023-06-07T19:38:17.503Z"
   },
   {
    "duration": 257,
    "start_time": "2023-06-07T19:38:28.008Z"
   },
   {
    "duration": 246,
    "start_time": "2023-06-07T19:38:32.155Z"
   },
   {
    "duration": 31,
    "start_time": "2023-06-07T19:42:38.945Z"
   },
   {
    "duration": 6,
    "start_time": "2023-06-07T19:42:42.696Z"
   },
   {
    "duration": 321,
    "start_time": "2023-06-07T19:42:51.695Z"
   },
   {
    "duration": 266,
    "start_time": "2023-06-07T19:43:06.441Z"
   },
   {
    "duration": 268,
    "start_time": "2023-06-07T19:49:15.199Z"
   },
   {
    "duration": 312,
    "start_time": "2023-06-07T19:49:30.888Z"
   },
   {
    "duration": 261,
    "start_time": "2023-06-07T19:49:39.118Z"
   },
   {
    "duration": 344,
    "start_time": "2023-06-07T19:49:48.215Z"
   },
   {
    "duration": 240,
    "start_time": "2023-06-07T19:49:57.504Z"
   },
   {
    "duration": 247,
    "start_time": "2023-06-07T19:50:02.617Z"
   },
   {
    "duration": 107,
    "start_time": "2023-06-07T19:50:13.455Z"
   },
   {
    "duration": 245,
    "start_time": "2023-06-07T19:50:20.443Z"
   },
   {
    "duration": 87,
    "start_time": "2023-06-07T19:50:33.310Z"
   },
   {
    "duration": 0,
    "start_time": "2023-06-07T19:53:08.778Z"
   },
   {
    "duration": 232,
    "start_time": "2023-06-07T19:53:11.108Z"
   },
   {
    "duration": 5,
    "start_time": "2023-06-07T19:54:27.111Z"
   },
   {
    "duration": 63,
    "start_time": "2023-06-07T19:56:36.577Z"
   },
   {
    "duration": 5,
    "start_time": "2023-06-07T19:56:52.773Z"
   },
   {
    "duration": 7,
    "start_time": "2023-06-07T19:56:56.993Z"
   },
   {
    "duration": 72,
    "start_time": "2023-06-07T19:57:05.225Z"
   },
   {
    "duration": 9,
    "start_time": "2023-06-07T19:57:15.458Z"
   },
   {
    "duration": 12,
    "start_time": "2023-06-07T19:57:22.954Z"
   },
   {
    "duration": 11,
    "start_time": "2023-06-07T19:57:38.702Z"
   },
   {
    "duration": 10,
    "start_time": "2023-06-07T19:57:57.650Z"
   },
   {
    "duration": 157,
    "start_time": "2023-06-07T19:58:04.089Z"
   },
   {
    "duration": 153,
    "start_time": "2023-06-07T19:58:11.912Z"
   },
   {
    "duration": 178,
    "start_time": "2023-06-07T19:58:20.389Z"
   },
   {
    "duration": 16,
    "start_time": "2023-06-07T19:58:36.375Z"
   },
   {
    "duration": 9,
    "start_time": "2023-06-07T19:58:38.843Z"
   },
   {
    "duration": 203,
    "start_time": "2023-06-07T19:59:01.659Z"
   },
   {
    "duration": 204,
    "start_time": "2023-06-07T19:59:09.340Z"
   },
   {
    "duration": 57,
    "start_time": "2023-06-08T08:42:34.783Z"
   },
   {
    "duration": 752,
    "start_time": "2023-06-08T08:42:39.195Z"
   },
   {
    "duration": 1103,
    "start_time": "2023-06-08T08:42:39.950Z"
   },
   {
    "duration": 127,
    "start_time": "2023-06-08T08:42:41.055Z"
   },
   {
    "duration": 146,
    "start_time": "2023-06-08T08:42:41.184Z"
   },
   {
    "duration": 134,
    "start_time": "2023-06-08T08:42:41.332Z"
   },
   {
    "duration": 107,
    "start_time": "2023-06-08T08:42:41.467Z"
   },
   {
    "duration": 772,
    "start_time": "2023-06-08T08:42:41.576Z"
   },
   {
    "duration": 0,
    "start_time": "2023-06-08T08:42:42.350Z"
   },
   {
    "duration": 0,
    "start_time": "2023-06-08T08:42:42.351Z"
   },
   {
    "duration": 0,
    "start_time": "2023-06-08T08:42:42.352Z"
   },
   {
    "duration": 0,
    "start_time": "2023-06-08T08:42:42.353Z"
   },
   {
    "duration": 772,
    "start_time": "2023-06-08T08:42:56.596Z"
   },
   {
    "duration": 749,
    "start_time": "2023-06-08T08:43:05.800Z"
   },
   {
    "duration": 1197,
    "start_time": "2023-06-08T08:43:17.898Z"
   },
   {
    "duration": 1347,
    "start_time": "2023-06-08T08:44:18.105Z"
   },
   {
    "duration": 8,
    "start_time": "2023-06-08T08:45:17.082Z"
   },
   {
    "duration": 24,
    "start_time": "2023-06-08T08:45:22.617Z"
   },
   {
    "duration": 1279,
    "start_time": "2023-06-08T08:47:06.358Z"
   },
   {
    "duration": 1238,
    "start_time": "2023-06-08T08:47:51.333Z"
   },
   {
    "duration": 1496,
    "start_time": "2023-06-08T08:48:25.598Z"
   },
   {
    "duration": 1194,
    "start_time": "2023-06-08T08:48:33.482Z"
   },
   {
    "duration": 1294,
    "start_time": "2023-06-08T08:48:36.900Z"
   },
   {
    "duration": 891,
    "start_time": "2023-06-08T08:50:13.013Z"
   },
   {
    "duration": 1058,
    "start_time": "2023-06-08T08:50:16.526Z"
   },
   {
    "duration": 1328,
    "start_time": "2023-06-08T08:50:53.940Z"
   },
   {
    "duration": 77,
    "start_time": "2023-06-08T08:51:05.856Z"
   },
   {
    "duration": 1135,
    "start_time": "2023-06-08T08:51:08.414Z"
   },
   {
    "duration": 1278,
    "start_time": "2023-06-08T08:51:53.984Z"
   },
   {
    "duration": 1291,
    "start_time": "2023-06-08T08:53:01.090Z"
   },
   {
    "duration": 85,
    "start_time": "2023-06-08T08:53:08.937Z"
   },
   {
    "duration": 1189,
    "start_time": "2023-06-08T08:53:12.485Z"
   },
   {
    "duration": 1312,
    "start_time": "2023-06-08T08:53:16.210Z"
   },
   {
    "duration": 1346,
    "start_time": "2023-06-08T08:54:12.035Z"
   },
   {
    "duration": 1276,
    "start_time": "2023-06-08T08:54:23.433Z"
   },
   {
    "duration": 913,
    "start_time": "2023-06-13T16:07:07.079Z"
   },
   {
    "duration": 1360,
    "start_time": "2023-06-13T16:07:07.994Z"
   },
   {
    "duration": 126,
    "start_time": "2023-06-13T16:07:09.355Z"
   },
   {
    "duration": 153,
    "start_time": "2023-06-13T16:07:09.484Z"
   },
   {
    "duration": 133,
    "start_time": "2023-06-13T16:07:09.640Z"
   },
   {
    "duration": 97,
    "start_time": "2023-06-13T16:07:09.774Z"
   },
   {
    "duration": 1141,
    "start_time": "2023-06-13T16:07:09.872Z"
   },
   {
    "duration": 17,
    "start_time": "2023-06-13T16:07:11.022Z"
   },
   {
    "duration": 241,
    "start_time": "2023-06-13T16:07:11.041Z"
   },
   {
    "duration": 186,
    "start_time": "2023-06-13T16:07:11.283Z"
   },
   {
    "duration": 1006,
    "start_time": "2023-06-13T16:07:28.903Z"
   },
   {
    "duration": 1212,
    "start_time": "2023-06-13T16:10:04.477Z"
   },
   {
    "duration": 50,
    "start_time": "2023-06-13T18:24:06.682Z"
   },
   {
    "duration": 804,
    "start_time": "2023-06-13T18:24:18.883Z"
   },
   {
    "duration": 2818,
    "start_time": "2023-06-13T18:24:19.690Z"
   },
   {
    "duration": 128,
    "start_time": "2023-06-13T18:24:22.509Z"
   },
   {
    "duration": 146,
    "start_time": "2023-06-13T18:24:22.639Z"
   },
   {
    "duration": 137,
    "start_time": "2023-06-13T18:24:22.787Z"
   },
   {
    "duration": 106,
    "start_time": "2023-06-13T18:24:22.926Z"
   },
   {
    "duration": 1299,
    "start_time": "2023-06-13T18:24:23.034Z"
   },
   {
    "duration": 224,
    "start_time": "2023-06-13T18:24:24.335Z"
   },
   {
    "duration": 4,
    "start_time": "2023-06-13T18:24:24.561Z"
   },
   {
    "duration": 254,
    "start_time": "2023-06-13T18:24:24.575Z"
   },
   {
    "duration": 206,
    "start_time": "2023-06-13T18:24:24.831Z"
   },
   {
    "duration": 144,
    "start_time": "2023-06-13T18:24:40.623Z"
   },
   {
    "duration": 157,
    "start_time": "2023-06-13T18:24:43.291Z"
   },
   {
    "duration": 191,
    "start_time": "2023-06-13T18:24:46.646Z"
   },
   {
    "duration": 400,
    "start_time": "2023-06-13T18:24:51.782Z"
   },
   {
    "duration": 75,
    "start_time": "2023-06-13T18:25:12.820Z"
   },
   {
    "duration": 9,
    "start_time": "2023-06-13T18:25:17.322Z"
   },
   {
    "duration": 498,
    "start_time": "2023-06-13T18:25:58.598Z"
   },
   {
    "duration": 437,
    "start_time": "2023-06-13T18:26:18.329Z"
   },
   {
    "duration": 769,
    "start_time": "2023-06-14T07:21:49.868Z"
   },
   {
    "duration": 3025,
    "start_time": "2023-06-14T07:21:50.639Z"
   },
   {
    "duration": 129,
    "start_time": "2023-06-14T07:21:53.666Z"
   },
   {
    "duration": 147,
    "start_time": "2023-06-14T07:21:53.797Z"
   },
   {
    "duration": 132,
    "start_time": "2023-06-14T07:21:53.945Z"
   },
   {
    "duration": 106,
    "start_time": "2023-06-14T07:21:54.079Z"
   },
   {
    "duration": 1166,
    "start_time": "2023-06-14T07:21:54.187Z"
   },
   {
    "duration": 435,
    "start_time": "2023-06-14T07:21:55.355Z"
   },
   {
    "duration": 4,
    "start_time": "2023-06-14T07:21:55.792Z"
   },
   {
    "duration": 262,
    "start_time": "2023-06-14T07:21:55.798Z"
   },
   {
    "duration": 200,
    "start_time": "2023-06-14T07:21:56.062Z"
   },
   {
    "duration": 417,
    "start_time": "2023-06-14T07:22:38.593Z"
   },
   {
    "duration": 344,
    "start_time": "2023-06-14T07:24:50.708Z"
   },
   {
    "duration": 13,
    "start_time": "2023-06-14T07:51:36.038Z"
   },
   {
    "duration": 36,
    "start_time": "2023-06-14T07:51:41.990Z"
   },
   {
    "duration": 105,
    "start_time": "2023-06-14T07:52:03.812Z"
   },
   {
    "duration": 5,
    "start_time": "2023-06-14T07:54:18.682Z"
   },
   {
    "duration": 5,
    "start_time": "2023-06-14T07:54:22.694Z"
   },
   {
    "duration": 71,
    "start_time": "2023-06-14T07:54:45.172Z"
   },
   {
    "duration": 26,
    "start_time": "2023-06-14T07:54:46.732Z"
   },
   {
    "duration": 24,
    "start_time": "2023-06-14T07:56:15.481Z"
   },
   {
    "duration": 29,
    "start_time": "2023-06-14T07:56:44.799Z"
   },
   {
    "duration": 67,
    "start_time": "2023-06-14T07:59:21.287Z"
   },
   {
    "duration": 53,
    "start_time": "2023-06-14T08:00:01.285Z"
   },
   {
    "duration": 44,
    "start_time": "2023-06-14T08:00:19.707Z"
   },
   {
    "duration": 34,
    "start_time": "2023-06-14T08:00:24.959Z"
   },
   {
    "duration": 36,
    "start_time": "2023-06-14T08:00:32.506Z"
   },
   {
    "duration": 37,
    "start_time": "2023-06-14T08:00:38.260Z"
   },
   {
    "duration": 32,
    "start_time": "2023-06-14T08:00:48.484Z"
   },
   {
    "duration": 275,
    "start_time": "2023-06-14T08:01:08.040Z"
   },
   {
    "duration": 270,
    "start_time": "2023-06-14T08:01:12.445Z"
   },
   {
    "duration": 290,
    "start_time": "2023-06-14T08:01:15.011Z"
   },
   {
    "duration": 271,
    "start_time": "2023-06-14T08:01:23.635Z"
   },
   {
    "duration": 56,
    "start_time": "2023-06-14T08:02:26.711Z"
   },
   {
    "duration": 73,
    "start_time": "2023-06-14T09:30:00.608Z"
   },
   {
    "duration": 916,
    "start_time": "2023-06-14T09:30:04.063Z"
   },
   {
    "duration": 1143,
    "start_time": "2023-06-14T09:30:04.982Z"
   },
   {
    "duration": 181,
    "start_time": "2023-06-14T09:30:06.128Z"
   },
   {
    "duration": 212,
    "start_time": "2023-06-14T09:30:06.312Z"
   },
   {
    "duration": 131,
    "start_time": "2023-06-14T09:30:06.526Z"
   },
   {
    "duration": 100,
    "start_time": "2023-06-14T09:30:06.663Z"
   },
   {
    "duration": 1133,
    "start_time": "2023-06-14T09:30:06.765Z"
   },
   {
    "duration": 451,
    "start_time": "2023-06-14T09:30:07.900Z"
   },
   {
    "duration": 351,
    "start_time": "2023-06-14T09:30:08.353Z"
   },
   {
    "duration": 23,
    "start_time": "2023-06-14T09:30:08.707Z"
   },
   {
    "duration": 44,
    "start_time": "2023-06-14T09:30:08.732Z"
   },
   {
    "duration": 84,
    "start_time": "2023-06-14T09:30:08.779Z"
   },
   {
    "duration": 6,
    "start_time": "2023-06-14T09:30:36.622Z"
   },
   {
    "duration": 41,
    "start_time": "2023-06-14T09:30:40.123Z"
   },
   {
    "duration": 7,
    "start_time": "2023-06-14T09:30:44.197Z"
   },
   {
    "duration": 7,
    "start_time": "2023-06-14T09:31:26.412Z"
   },
   {
    "duration": 51,
    "start_time": "2023-06-14T09:31:30.066Z"
   },
   {
    "duration": 53,
    "start_time": "2023-06-14T09:31:35.390Z"
   },
   {
    "duration": 50,
    "start_time": "2023-06-14T09:31:45.324Z"
   },
   {
    "duration": 80,
    "start_time": "2023-06-14T09:33:09.338Z"
   },
   {
    "duration": 82,
    "start_time": "2023-06-14T09:33:15.650Z"
   },
   {
    "duration": 89,
    "start_time": "2023-06-14T09:33:20.677Z"
   },
   {
    "duration": 4,
    "start_time": "2023-06-14T09:35:32.447Z"
   },
   {
    "duration": 4,
    "start_time": "2023-06-14T09:35:40.083Z"
   },
   {
    "duration": 49,
    "start_time": "2023-06-14T09:38:21.441Z"
   },
   {
    "duration": 41,
    "start_time": "2023-06-14T09:38:37.829Z"
   },
   {
    "duration": 30,
    "start_time": "2023-06-14T09:38:43.276Z"
   },
   {
    "duration": 156,
    "start_time": "2023-06-14T09:38:46.140Z"
   },
   {
    "duration": 145,
    "start_time": "2023-06-14T09:38:50.620Z"
   },
   {
    "duration": 22,
    "start_time": "2023-06-14T09:39:47.734Z"
   },
   {
    "duration": 3,
    "start_time": "2023-06-14T09:41:41.003Z"
   },
   {
    "duration": 30,
    "start_time": "2023-06-14T09:41:49.693Z"
   },
   {
    "duration": 6,
    "start_time": "2023-06-14T09:41:53.790Z"
   },
   {
    "duration": 4,
    "start_time": "2023-06-14T09:42:18.468Z"
   },
   {
    "duration": 6,
    "start_time": "2023-06-14T09:42:22.692Z"
   },
   {
    "duration": 8,
    "start_time": "2023-06-14T09:42:26.578Z"
   },
   {
    "duration": 6,
    "start_time": "2023-06-14T09:42:31.268Z"
   },
   {
    "duration": 8,
    "start_time": "2023-06-14T09:42:36.388Z"
   },
   {
    "duration": 30,
    "start_time": "2023-06-14T09:44:52.374Z"
   },
   {
    "duration": 163,
    "start_time": "2023-06-14T09:48:21.580Z"
   },
   {
    "duration": 132,
    "start_time": "2023-06-14T09:48:32.560Z"
   },
   {
    "duration": 161,
    "start_time": "2023-06-14T09:48:35.234Z"
   },
   {
    "duration": 151,
    "start_time": "2023-06-14T09:48:41.150Z"
   },
   {
    "duration": 149,
    "start_time": "2023-06-14T09:48:51.787Z"
   },
   {
    "duration": 179,
    "start_time": "2023-06-14T09:49:02.540Z"
   },
   {
    "duration": 160,
    "start_time": "2023-06-14T09:49:07.148Z"
   },
   {
    "duration": 166,
    "start_time": "2023-06-14T09:49:09.858Z"
   },
   {
    "duration": 152,
    "start_time": "2023-06-14T09:49:43.801Z"
   },
   {
    "duration": 155,
    "start_time": "2023-06-14T09:50:14.433Z"
   },
   {
    "duration": 163,
    "start_time": "2023-06-14T09:50:35.159Z"
   },
   {
    "duration": 147,
    "start_time": "2023-06-14T09:50:57.124Z"
   },
   {
    "duration": 161,
    "start_time": "2023-06-14T09:51:03.375Z"
   },
   {
    "duration": 157,
    "start_time": "2023-06-14T09:51:46.208Z"
   },
   {
    "duration": 181,
    "start_time": "2023-06-14T09:52:23.449Z"
   },
   {
    "duration": 30,
    "start_time": "2023-06-14T09:54:05.851Z"
   },
   {
    "duration": 29,
    "start_time": "2023-06-14T09:54:09.127Z"
   },
   {
    "duration": 32,
    "start_time": "2023-06-14T09:54:14.810Z"
   },
   {
    "duration": 43,
    "start_time": "2023-06-14T09:54:19.677Z"
   },
   {
    "duration": 41,
    "start_time": "2023-06-14T09:54:36.474Z"
   },
   {
    "duration": 31,
    "start_time": "2023-06-14T09:54:44.097Z"
   },
   {
    "duration": 30,
    "start_time": "2023-06-14T09:54:54.494Z"
   },
   {
    "duration": 40,
    "start_time": "2023-06-14T09:55:01.887Z"
   },
   {
    "duration": 72,
    "start_time": "2023-06-14T09:55:56.344Z"
   },
   {
    "duration": 27,
    "start_time": "2023-06-14T09:56:13.800Z"
   },
   {
    "duration": 43,
    "start_time": "2023-06-14T09:56:18.362Z"
   },
   {
    "duration": 40,
    "start_time": "2023-06-14T09:56:26.752Z"
   },
   {
    "duration": 61,
    "start_time": "2023-06-14T09:56:46.876Z"
   },
   {
    "duration": 51,
    "start_time": "2023-06-14T09:57:00.463Z"
   },
   {
    "duration": 29,
    "start_time": "2023-06-14T09:57:52.259Z"
   },
   {
    "duration": 55,
    "start_time": "2023-06-14T09:57:55.889Z"
   },
   {
    "duration": 28,
    "start_time": "2023-06-14T09:58:03.576Z"
   },
   {
    "duration": 30,
    "start_time": "2023-06-14T09:58:08.350Z"
   },
   {
    "duration": 34,
    "start_time": "2023-06-14T09:58:10.606Z"
   },
   {
    "duration": 17,
    "start_time": "2023-06-14T09:58:17.163Z"
   },
   {
    "duration": 37,
    "start_time": "2023-06-14T09:58:20.765Z"
   },
   {
    "duration": 34,
    "start_time": "2023-06-14T09:59:11.763Z"
   },
   {
    "duration": 2249,
    "start_time": "2023-06-14T09:59:19.339Z"
   },
   {
    "duration": 2129,
    "start_time": "2023-06-14T09:59:25.076Z"
   },
   {
    "duration": 63,
    "start_time": "2023-06-14T10:00:02.138Z"
   },
   {
    "duration": 10,
    "start_time": "2023-06-14T10:00:11.621Z"
   },
   {
    "duration": 33,
    "start_time": "2023-06-14T10:00:21.276Z"
   },
   {
    "duration": 45,
    "start_time": "2023-06-14T10:00:26.888Z"
   },
   {
    "duration": 48,
    "start_time": "2023-06-14T10:00:31.441Z"
   },
   {
    "duration": 27,
    "start_time": "2023-06-14T10:02:59.473Z"
   },
   {
    "duration": 23,
    "start_time": "2023-06-14T10:03:03.405Z"
   },
   {
    "duration": 22,
    "start_time": "2023-06-14T10:03:23.154Z"
   },
   {
    "duration": 7,
    "start_time": "2023-06-14T10:03:32.534Z"
   },
   {
    "duration": 56,
    "start_time": "2023-06-14T10:04:36.969Z"
   },
   {
    "duration": 237,
    "start_time": "2023-06-14T10:05:26.585Z"
   },
   {
    "duration": 90,
    "start_time": "2023-06-14T10:05:30.256Z"
   },
   {
    "duration": 4,
    "start_time": "2023-06-14T10:06:25.556Z"
   },
   {
    "duration": 32,
    "start_time": "2023-06-14T10:06:47.967Z"
   },
   {
    "duration": 49,
    "start_time": "2023-06-14T10:07:28.483Z"
   },
   {
    "duration": 55,
    "start_time": "2023-06-14T10:07:35.127Z"
   },
   {
    "duration": 30,
    "start_time": "2023-06-14T10:08:36.919Z"
   },
   {
    "duration": 169,
    "start_time": "2023-06-14T10:08:42.425Z"
   },
   {
    "duration": 7,
    "start_time": "2023-06-14T10:08:59.757Z"
   },
   {
    "duration": 6,
    "start_time": "2023-06-14T10:09:16.420Z"
   },
   {
    "duration": 17,
    "start_time": "2023-06-14T10:09:28.218Z"
   },
   {
    "duration": 9,
    "start_time": "2023-06-14T10:09:32.808Z"
   },
   {
    "duration": 35,
    "start_time": "2023-06-14T10:09:37.543Z"
   },
   {
    "duration": 11,
    "start_time": "2023-06-14T10:09:48.095Z"
   },
   {
    "duration": 30,
    "start_time": "2023-06-14T10:10:21.233Z"
   },
   {
    "duration": 16,
    "start_time": "2023-06-14T10:11:09.920Z"
   },
   {
    "duration": 14,
    "start_time": "2023-06-14T10:11:14.632Z"
   },
   {
    "duration": 30,
    "start_time": "2023-06-14T10:11:37.319Z"
   },
   {
    "duration": 63,
    "start_time": "2023-06-14T10:11:50.208Z"
   },
   {
    "duration": 40,
    "start_time": "2023-06-14T10:12:00.359Z"
   },
   {
    "duration": 10,
    "start_time": "2023-06-14T10:12:56.421Z"
   },
   {
    "duration": 49,
    "start_time": "2023-06-14T10:13:22.923Z"
   },
   {
    "duration": 22,
    "start_time": "2023-06-14T10:13:27.182Z"
   },
   {
    "duration": 33,
    "start_time": "2023-06-14T10:13:30.459Z"
   },
   {
    "duration": 42,
    "start_time": "2023-06-14T10:14:08.763Z"
   },
   {
    "duration": 292,
    "start_time": "2023-06-14T10:14:12.962Z"
   },
   {
    "duration": 46,
    "start_time": "2023-06-14T10:14:18.324Z"
   },
   {
    "duration": 53,
    "start_time": "2023-06-14T10:14:22.334Z"
   },
   {
    "duration": 58,
    "start_time": "2023-06-14T10:14:39.949Z"
   },
   {
    "duration": 89,
    "start_time": "2023-06-14T10:15:02.415Z"
   },
   {
    "duration": 31,
    "start_time": "2023-06-14T10:15:02.517Z"
   },
   {
    "duration": 57,
    "start_time": "2023-06-14T10:15:15.659Z"
   },
   {
    "duration": 84,
    "start_time": "2023-06-14T10:15:19.323Z"
   },
   {
    "duration": 44,
    "start_time": "2023-06-14T10:16:01.398Z"
   },
   {
    "duration": 6,
    "start_time": "2023-06-14T10:16:17.318Z"
   },
   {
    "duration": 61,
    "start_time": "2023-06-14T10:16:25.810Z"
   },
   {
    "duration": 32,
    "start_time": "2023-06-14T10:16:30.999Z"
   },
   {
    "duration": 65,
    "start_time": "2023-06-14T10:18:21.073Z"
   },
   {
    "duration": 81,
    "start_time": "2023-06-14T10:18:52.862Z"
   },
   {
    "duration": 56,
    "start_time": "2023-06-14T10:19:03.771Z"
   },
   {
    "duration": 58,
    "start_time": "2023-06-14T10:19:13.225Z"
   },
   {
    "duration": 80,
    "start_time": "2023-06-14T10:19:17.290Z"
   },
   {
    "duration": 645,
    "start_time": "2023-06-14T10:19:44.796Z"
   },
   {
    "duration": 1127,
    "start_time": "2023-06-14T10:19:45.444Z"
   },
   {
    "duration": 138,
    "start_time": "2023-06-14T10:19:46.574Z"
   },
   {
    "duration": 171,
    "start_time": "2023-06-14T10:19:46.715Z"
   },
   {
    "duration": 166,
    "start_time": "2023-06-14T10:19:46.888Z"
   },
   {
    "duration": 111,
    "start_time": "2023-06-14T10:19:47.056Z"
   },
   {
    "duration": 1344,
    "start_time": "2023-06-14T10:19:47.169Z"
   },
   {
    "duration": 501,
    "start_time": "2023-06-14T10:19:48.515Z"
   },
   {
    "duration": 419,
    "start_time": "2023-06-14T10:19:49.019Z"
   },
   {
    "duration": 29,
    "start_time": "2023-06-14T10:19:49.442Z"
   },
   {
    "duration": 72,
    "start_time": "2023-06-14T10:19:49.472Z"
   },
   {
    "duration": 41,
    "start_time": "2023-06-14T10:19:49.546Z"
   },
   {
    "duration": 232,
    "start_time": "2023-06-14T10:19:49.589Z"
   },
   {
    "duration": 96,
    "start_time": "2023-06-14T10:19:49.823Z"
   },
   {
    "duration": 0,
    "start_time": "2023-06-14T10:19:49.921Z"
   },
   {
    "duration": 0,
    "start_time": "2023-06-14T10:19:49.922Z"
   },
   {
    "duration": 0,
    "start_time": "2023-06-14T10:19:49.924Z"
   },
   {
    "duration": 0,
    "start_time": "2023-06-14T10:19:49.926Z"
   },
   {
    "duration": 0,
    "start_time": "2023-06-14T10:19:49.927Z"
   },
   {
    "duration": 0,
    "start_time": "2023-06-14T10:19:49.929Z"
   },
   {
    "duration": 0,
    "start_time": "2023-06-14T10:19:49.930Z"
   },
   {
    "duration": 4,
    "start_time": "2023-06-14T10:22:53.078Z"
   },
   {
    "duration": 699,
    "start_time": "2023-06-14T10:22:59.333Z"
   },
   {
    "duration": 910,
    "start_time": "2023-06-14T10:23:00.034Z"
   },
   {
    "duration": 137,
    "start_time": "2023-06-14T10:23:00.946Z"
   },
   {
    "duration": 178,
    "start_time": "2023-06-14T10:23:01.085Z"
   },
   {
    "duration": 130,
    "start_time": "2023-06-14T10:23:01.264Z"
   },
   {
    "duration": 108,
    "start_time": "2023-06-14T10:23:01.395Z"
   },
   {
    "duration": 1371,
    "start_time": "2023-06-14T10:23:01.505Z"
   },
   {
    "duration": 462,
    "start_time": "2023-06-14T10:23:02.878Z"
   },
   {
    "duration": 348,
    "start_time": "2023-06-14T10:23:03.342Z"
   },
   {
    "duration": 20,
    "start_time": "2023-06-14T10:23:03.693Z"
   },
   {
    "duration": 59,
    "start_time": "2023-06-14T10:23:03.716Z"
   },
   {
    "duration": 67,
    "start_time": "2023-06-14T10:23:03.778Z"
   },
   {
    "duration": 189,
    "start_time": "2023-06-14T10:23:03.847Z"
   },
   {
    "duration": 41,
    "start_time": "2023-06-14T10:23:04.038Z"
   },
   {
    "duration": 63,
    "start_time": "2023-06-14T10:23:04.081Z"
   },
   {
    "duration": 137,
    "start_time": "2023-06-14T10:23:04.146Z"
   },
   {
    "duration": 61,
    "start_time": "2023-06-14T10:23:04.285Z"
   },
   {
    "duration": 35,
    "start_time": "2023-06-14T10:23:04.348Z"
   },
   {
    "duration": 12,
    "start_time": "2023-06-14T10:23:04.385Z"
   },
   {
    "duration": 95,
    "start_time": "2023-06-14T10:23:04.399Z"
   },
   {
    "duration": 0,
    "start_time": "2023-06-14T10:23:04.496Z"
   },
   {
    "duration": 7,
    "start_time": "2023-06-14T10:23:38.115Z"
   },
   {
    "duration": 83,
    "start_time": "2023-06-14T10:23:44.862Z"
   },
   {
    "duration": 12,
    "start_time": "2023-06-14T10:23:58.720Z"
   },
   {
    "duration": 4,
    "start_time": "2023-06-14T10:24:12.642Z"
   },
   {
    "duration": 93,
    "start_time": "2023-06-14T10:24:15.479Z"
   },
   {
    "duration": 81,
    "start_time": "2023-06-14T10:24:17.527Z"
   },
   {
    "duration": 107,
    "start_time": "2023-06-14T10:24:19.577Z"
   },
   {
    "duration": 109,
    "start_time": "2023-06-14T10:24:26.440Z"
   },
   {
    "duration": 12,
    "start_time": "2023-06-14T10:24:36.522Z"
   },
   {
    "duration": 15,
    "start_time": "2023-06-14T10:24:55.419Z"
   },
   {
    "duration": 72,
    "start_time": "2023-06-14T10:25:07.439Z"
   },
   {
    "duration": 81,
    "start_time": "2023-06-14T10:25:23.738Z"
   },
   {
    "duration": 96,
    "start_time": "2023-06-14T10:25:27.673Z"
   },
   {
    "duration": 22,
    "start_time": "2023-06-14T10:25:53.784Z"
   },
   {
    "duration": 76,
    "start_time": "2023-06-14T10:26:47.089Z"
   },
   {
    "duration": 77,
    "start_time": "2023-06-14T10:27:08.741Z"
   },
   {
    "duration": 70,
    "start_time": "2023-06-14T10:31:59.768Z"
   },
   {
    "duration": 58,
    "start_time": "2023-06-14T10:32:04.272Z"
   },
   {
    "duration": 6,
    "start_time": "2023-06-14T10:32:45.879Z"
   },
   {
    "duration": 34,
    "start_time": "2023-06-14T10:32:49.367Z"
   },
   {
    "duration": 180,
    "start_time": "2023-06-14T10:33:15.339Z"
   },
   {
    "duration": 414,
    "start_time": "2023-06-14T10:33:24.705Z"
   },
   {
    "duration": 115,
    "start_time": "2023-06-14T10:34:01.216Z"
   },
   {
    "duration": 15394,
    "start_time": "2023-06-14T10:34:08.687Z"
   },
   {
    "duration": 16426,
    "start_time": "2023-06-14T10:34:45.143Z"
   },
   {
    "duration": 43,
    "start_time": "2023-06-14T10:35:12.382Z"
   },
   {
    "duration": 4,
    "start_time": "2023-06-14T10:36:17.456Z"
   },
   {
    "duration": 15505,
    "start_time": "2023-06-14T10:36:38.931Z"
   },
   {
    "duration": 37,
    "start_time": "2023-06-14T10:37:16.807Z"
   },
   {
    "duration": 27,
    "start_time": "2023-06-14T10:38:24.749Z"
   },
   {
    "duration": 4887,
    "start_time": "2023-06-14T10:39:06.058Z"
   },
   {
    "duration": 949,
    "start_time": "2023-06-14T12:12:33.187Z"
   },
   {
    "duration": 3472,
    "start_time": "2023-06-14T12:12:34.138Z"
   },
   {
    "duration": 140,
    "start_time": "2023-06-14T12:12:37.611Z"
   },
   {
    "duration": 158,
    "start_time": "2023-06-14T12:12:37.753Z"
   },
   {
    "duration": 137,
    "start_time": "2023-06-14T12:12:37.913Z"
   },
   {
    "duration": 111,
    "start_time": "2023-06-14T12:12:38.052Z"
   },
   {
    "duration": 1264,
    "start_time": "2023-06-14T12:12:38.179Z"
   },
   {
    "duration": 418,
    "start_time": "2023-06-14T12:12:39.445Z"
   },
   {
    "duration": 363,
    "start_time": "2023-06-14T12:12:39.865Z"
   },
   {
    "duration": 20,
    "start_time": "2023-06-14T12:12:40.229Z"
   },
   {
    "duration": 39,
    "start_time": "2023-06-14T12:12:40.250Z"
   },
   {
    "duration": 28,
    "start_time": "2023-06-14T12:12:40.291Z"
   },
   {
    "duration": 199,
    "start_time": "2023-06-14T12:12:40.321Z"
   },
   {
    "duration": 32,
    "start_time": "2023-06-14T12:12:40.522Z"
   },
   {
    "duration": 73,
    "start_time": "2023-06-14T12:12:40.555Z"
   },
   {
    "duration": 81,
    "start_time": "2023-06-14T12:12:40.629Z"
   },
   {
    "duration": 55,
    "start_time": "2023-06-14T12:12:40.712Z"
   },
   {
    "duration": 107,
    "start_time": "2023-06-14T12:12:40.777Z"
   },
   {
    "duration": 65,
    "start_time": "2023-06-14T12:12:40.888Z"
   },
   {
    "duration": 0,
    "start_time": "2023-06-14T12:12:40.955Z"
   },
   {
    "duration": 0,
    "start_time": "2023-06-14T12:12:40.956Z"
   },
   {
    "duration": 5441,
    "start_time": "2023-06-14T12:12:53.517Z"
   },
   {
    "duration": 5299,
    "start_time": "2023-06-14T12:13:16.145Z"
   },
   {
    "duration": 6976,
    "start_time": "2023-06-14T12:13:33.610Z"
   },
   {
    "duration": 5588,
    "start_time": "2023-06-14T12:13:54.541Z"
   },
   {
    "duration": 78,
    "start_time": "2023-06-14T12:14:21.130Z"
   },
   {
    "duration": 73,
    "start_time": "2023-06-14T12:15:17.909Z"
   },
   {
    "duration": 35,
    "start_time": "2023-06-14T12:15:27.759Z"
   },
   {
    "duration": 30,
    "start_time": "2023-06-14T12:15:37.274Z"
   },
   {
    "duration": 26,
    "start_time": "2023-06-14T12:15:54.450Z"
   },
   {
    "duration": 24,
    "start_time": "2023-06-14T12:16:28.550Z"
   },
   {
    "duration": 57,
    "start_time": "2023-06-14T12:17:15.702Z"
   },
   {
    "duration": 64,
    "start_time": "2023-06-14T12:17:15.761Z"
   },
   {
    "duration": 62,
    "start_time": "2023-06-14T12:17:15.826Z"
   },
   {
    "duration": 72,
    "start_time": "2023-06-14T12:17:15.889Z"
   },
   {
    "duration": 33,
    "start_time": "2023-06-14T12:17:15.963Z"
   },
   {
    "duration": 50,
    "start_time": "2023-06-14T12:17:15.997Z"
   },
   {
    "duration": 5076,
    "start_time": "2023-06-14T12:17:16.049Z"
   },
   {
    "duration": 89,
    "start_time": "2023-06-14T12:17:21.127Z"
   },
   {
    "duration": 3,
    "start_time": "2023-06-14T12:17:23.559Z"
   },
   {
    "duration": 909,
    "start_time": "2023-06-14T12:17:23.572Z"
   },
   {
    "duration": 136,
    "start_time": "2023-06-14T12:17:24.483Z"
   },
   {
    "duration": 143,
    "start_time": "2023-06-14T12:17:24.621Z"
   },
   {
    "duration": 99,
    "start_time": "2023-06-14T12:17:24.766Z"
   },
   {
    "duration": 87,
    "start_time": "2023-06-14T12:17:24.876Z"
   },
   {
    "duration": 1152,
    "start_time": "2023-06-14T12:17:24.964Z"
   },
   {
    "duration": 447,
    "start_time": "2023-06-14T12:17:26.118Z"
   },
   {
    "duration": 350,
    "start_time": "2023-06-14T12:17:26.566Z"
   },
   {
    "duration": 21,
    "start_time": "2023-06-14T12:17:26.918Z"
   },
   {
    "duration": 39,
    "start_time": "2023-06-14T12:17:26.941Z"
   },
   {
    "duration": 37,
    "start_time": "2023-06-14T12:17:26.982Z"
   },
   {
    "duration": 266,
    "start_time": "2023-06-14T12:17:27.020Z"
   },
   {
    "duration": 33,
    "start_time": "2023-06-14T12:17:27.288Z"
   },
   {
    "duration": 76,
    "start_time": "2023-06-14T12:17:27.322Z"
   },
   {
    "duration": 87,
    "start_time": "2023-06-14T12:17:45.309Z"
   },
   {
    "duration": 34,
    "start_time": "2023-06-14T12:20:15.006Z"
   },
   {
    "duration": 31,
    "start_time": "2023-06-14T12:20:18.477Z"
   },
   {
    "duration": 212,
    "start_time": "2023-06-14T12:21:04.052Z"
   },
   {
    "duration": 32,
    "start_time": "2023-06-14T12:21:13.229Z"
   },
   {
    "duration": 33,
    "start_time": "2023-06-14T12:21:29.357Z"
   },
   {
    "duration": 47,
    "start_time": "2023-06-14T12:21:32.588Z"
   },
   {
    "duration": 31,
    "start_time": "2023-06-14T12:21:37.957Z"
   },
   {
    "duration": 129,
    "start_time": "2023-06-14T12:21:46.205Z"
   },
   {
    "duration": 36,
    "start_time": "2023-06-14T12:21:59.622Z"
   },
   {
    "duration": 55,
    "start_time": "2023-06-14T12:22:15.313Z"
   },
   {
    "duration": 4,
    "start_time": "2023-06-14T12:22:17.550Z"
   },
   {
    "duration": 66,
    "start_time": "2023-06-14T12:22:28.105Z"
   },
   {
    "duration": 55,
    "start_time": "2023-06-14T12:22:45.409Z"
   },
   {
    "duration": 56,
    "start_time": "2023-06-14T12:22:51.717Z"
   },
   {
    "duration": 24,
    "start_time": "2023-06-14T12:23:22.782Z"
   },
   {
    "duration": 4,
    "start_time": "2023-06-14T12:23:30.747Z"
   },
   {
    "duration": 56,
    "start_time": "2023-06-14T12:23:33.852Z"
   },
   {
    "duration": 4,
    "start_time": "2023-06-14T12:24:28.817Z"
   },
   {
    "duration": 69,
    "start_time": "2023-06-14T12:24:32.541Z"
   },
   {
    "duration": 55,
    "start_time": "2023-06-14T12:24:35.706Z"
   },
   {
    "duration": 37,
    "start_time": "2023-06-14T12:24:45.205Z"
   },
   {
    "duration": 37,
    "start_time": "2023-06-14T12:24:52.781Z"
   },
   {
    "duration": 33,
    "start_time": "2023-06-14T12:24:57.917Z"
   },
   {
    "duration": 94,
    "start_time": "2023-06-14T12:25:40.928Z"
   },
   {
    "duration": 4,
    "start_time": "2023-06-14T12:28:35.805Z"
   },
   {
    "duration": 32,
    "start_time": "2023-06-14T12:28:39.234Z"
   },
   {
    "duration": 31,
    "start_time": "2023-06-14T12:28:51.234Z"
   },
   {
    "duration": 40,
    "start_time": "2023-06-14T12:29:37.379Z"
   },
   {
    "duration": 80,
    "start_time": "2023-06-14T12:29:49.234Z"
   },
   {
    "duration": 21,
    "start_time": "2023-06-14T12:29:51.077Z"
   },
   {
    "duration": 36,
    "start_time": "2023-06-14T12:29:52.822Z"
   },
   {
    "duration": 25,
    "start_time": "2023-06-14T12:29:56.309Z"
   },
   {
    "duration": 85,
    "start_time": "2023-06-14T12:30:11.046Z"
   },
   {
    "duration": 37,
    "start_time": "2023-06-14T12:30:23.462Z"
   },
   {
    "duration": 2,
    "start_time": "2023-06-14T12:30:31.210Z"
   },
   {
    "duration": 815,
    "start_time": "2023-06-14T12:30:31.214Z"
   },
   {
    "duration": 146,
    "start_time": "2023-06-14T12:30:32.031Z"
   },
   {
    "duration": 194,
    "start_time": "2023-06-14T12:30:32.178Z"
   },
   {
    "duration": 110,
    "start_time": "2023-06-14T12:30:32.376Z"
   },
   {
    "duration": 96,
    "start_time": "2023-06-14T12:30:32.487Z"
   },
   {
    "duration": 1102,
    "start_time": "2023-06-14T12:30:32.586Z"
   },
   {
    "duration": 461,
    "start_time": "2023-06-14T12:30:33.690Z"
   },
   {
    "duration": 351,
    "start_time": "2023-06-14T12:30:34.153Z"
   },
   {
    "duration": 36,
    "start_time": "2023-06-14T12:30:34.506Z"
   },
   {
    "duration": 34,
    "start_time": "2023-06-14T12:30:34.544Z"
   },
   {
    "duration": 37,
    "start_time": "2023-06-14T12:30:34.579Z"
   },
   {
    "duration": 30,
    "start_time": "2023-06-14T12:31:29.386Z"
   },
   {
    "duration": 30,
    "start_time": "2023-06-14T12:31:36.857Z"
   },
   {
    "duration": 29,
    "start_time": "2023-06-14T12:31:42.405Z"
   },
   {
    "duration": 34,
    "start_time": "2023-06-14T12:31:45.083Z"
   },
   {
    "duration": 32,
    "start_time": "2023-06-14T12:31:47.633Z"
   },
   {
    "duration": 32,
    "start_time": "2023-06-14T12:31:49.483Z"
   },
   {
    "duration": 86,
    "start_time": "2023-06-14T12:32:11.506Z"
   },
   {
    "duration": 40,
    "start_time": "2023-06-14T12:32:16.317Z"
   },
   {
    "duration": 55,
    "start_time": "2023-06-14T12:32:32.253Z"
   },
   {
    "duration": 82,
    "start_time": "2023-06-14T12:32:45.461Z"
   },
   {
    "duration": 56,
    "start_time": "2023-06-14T12:32:47.613Z"
   },
   {
    "duration": 80,
    "start_time": "2023-06-14T12:32:51.653Z"
   },
   {
    "duration": 31,
    "start_time": "2023-06-14T12:33:02.710Z"
   },
   {
    "duration": 61,
    "start_time": "2023-06-14T12:33:11.047Z"
   },
   {
    "duration": 34,
    "start_time": "2023-06-14T12:33:22.379Z"
   },
   {
    "duration": 55,
    "start_time": "2023-06-14T12:33:47.241Z"
   },
   {
    "duration": 869,
    "start_time": "2023-06-14T12:33:49.193Z"
   },
   {
    "duration": 5,
    "start_time": "2023-06-14T12:33:56.339Z"
   },
   {
    "duration": 5,
    "start_time": "2023-06-14T12:34:07.125Z"
   },
   {
    "duration": 3,
    "start_time": "2023-06-14T12:34:12.409Z"
   },
   {
    "duration": 768,
    "start_time": "2023-06-14T12:34:12.414Z"
   },
   {
    "duration": 131,
    "start_time": "2023-06-14T12:34:13.183Z"
   },
   {
    "duration": 141,
    "start_time": "2023-06-14T12:34:13.316Z"
   },
   {
    "duration": 96,
    "start_time": "2023-06-14T12:34:13.459Z"
   },
   {
    "duration": 95,
    "start_time": "2023-06-14T12:34:13.556Z"
   },
   {
    "duration": 1267,
    "start_time": "2023-06-14T12:34:13.653Z"
   },
   {
    "duration": 419,
    "start_time": "2023-06-14T12:34:14.921Z"
   },
   {
    "duration": 345,
    "start_time": "2023-06-14T12:34:15.342Z"
   },
   {
    "duration": 21,
    "start_time": "2023-06-14T12:34:15.689Z"
   },
   {
    "duration": 22,
    "start_time": "2023-06-14T12:34:22.852Z"
   },
   {
    "duration": 31,
    "start_time": "2023-06-14T12:34:45.262Z"
   },
   {
    "duration": 170,
    "start_time": "2023-06-14T12:34:48.053Z"
   },
   {
    "duration": 36,
    "start_time": "2023-06-14T12:34:52.637Z"
   },
   {
    "duration": 36,
    "start_time": "2023-06-14T12:34:55.249Z"
   },
   {
    "duration": 69,
    "start_time": "2023-06-14T12:35:08.026Z"
   },
   {
    "duration": 29,
    "start_time": "2023-06-14T12:35:10.961Z"
   },
   {
    "duration": 55,
    "start_time": "2023-06-14T12:36:48.144Z"
   },
   {
    "duration": 37,
    "start_time": "2023-06-14T12:37:29.409Z"
   },
   {
    "duration": 31,
    "start_time": "2023-06-14T12:38:06.351Z"
   },
   {
    "duration": 102,
    "start_time": "2023-06-14T12:39:01.439Z"
   },
   {
    "duration": 37,
    "start_time": "2023-06-14T12:39:08.646Z"
   },
   {
    "duration": 95,
    "start_time": "2023-06-14T12:39:52.746Z"
   },
   {
    "duration": 97,
    "start_time": "2023-06-14T12:39:55.493Z"
   },
   {
    "duration": 4,
    "start_time": "2023-06-14T12:40:04.293Z"
   },
   {
    "duration": 790,
    "start_time": "2023-06-14T12:40:04.300Z"
   },
   {
    "duration": 137,
    "start_time": "2023-06-14T12:40:05.092Z"
   },
   {
    "duration": 150,
    "start_time": "2023-06-14T12:40:05.231Z"
   },
   {
    "duration": 85,
    "start_time": "2023-06-14T12:40:05.383Z"
   },
   {
    "duration": 101,
    "start_time": "2023-06-14T12:40:05.475Z"
   },
   {
    "duration": 1126,
    "start_time": "2023-06-14T12:40:05.578Z"
   },
   {
    "duration": 561,
    "start_time": "2023-06-14T12:40:06.705Z"
   },
   {
    "duration": 349,
    "start_time": "2023-06-14T12:40:07.268Z"
   },
   {
    "duration": 22,
    "start_time": "2023-06-14T12:40:07.618Z"
   },
   {
    "duration": 37,
    "start_time": "2023-06-14T12:40:07.642Z"
   },
   {
    "duration": 33,
    "start_time": "2023-06-14T12:40:07.681Z"
   },
   {
    "duration": 196,
    "start_time": "2023-06-14T12:40:07.717Z"
   },
   {
    "duration": 31,
    "start_time": "2023-06-14T12:40:07.915Z"
   },
   {
    "duration": 47,
    "start_time": "2023-06-14T12:40:07.948Z"
   },
   {
    "duration": 94,
    "start_time": "2023-06-14T12:40:24.747Z"
   },
   {
    "duration": 36,
    "start_time": "2023-06-14T12:40:36.451Z"
   },
   {
    "duration": 65,
    "start_time": "2023-06-14T12:40:49.709Z"
   },
   {
    "duration": 64,
    "start_time": "2023-06-14T12:40:56.783Z"
   },
   {
    "duration": 34,
    "start_time": "2023-06-14T12:41:12.241Z"
   },
   {
    "duration": 33,
    "start_time": "2023-06-14T12:41:23.325Z"
   },
   {
    "duration": 5165,
    "start_time": "2023-06-14T12:41:41.713Z"
   },
   {
    "duration": 134,
    "start_time": "2023-06-14T12:42:39.707Z"
   },
   {
    "duration": 158,
    "start_time": "2023-06-14T12:42:46.561Z"
   },
   {
    "duration": 120,
    "start_time": "2023-06-14T12:42:51.491Z"
   },
   {
    "duration": 121,
    "start_time": "2023-06-14T12:43:14.961Z"
   },
   {
    "duration": 116,
    "start_time": "2023-06-14T12:43:19.929Z"
   },
   {
    "duration": 117,
    "start_time": "2023-06-14T12:43:22.733Z"
   },
   {
    "duration": 32,
    "start_time": "2023-06-14T12:44:03.825Z"
   },
   {
    "duration": 32,
    "start_time": "2023-06-14T12:44:07.907Z"
   },
   {
    "duration": 52,
    "start_time": "2023-06-14T12:44:16.306Z"
   },
   {
    "duration": 76,
    "start_time": "2023-06-14T12:44:35.508Z"
   },
   {
    "duration": 3,
    "start_time": "2023-06-14T12:44:40.046Z"
   },
   {
    "duration": 795,
    "start_time": "2023-06-14T12:44:40.052Z"
   },
   {
    "duration": 137,
    "start_time": "2023-06-14T12:44:40.848Z"
   },
   {
    "duration": 137,
    "start_time": "2023-06-14T12:44:40.988Z"
   },
   {
    "duration": 95,
    "start_time": "2023-06-14T12:44:41.127Z"
   },
   {
    "duration": 98,
    "start_time": "2023-06-14T12:44:41.223Z"
   },
   {
    "duration": 1115,
    "start_time": "2023-06-14T12:44:41.323Z"
   },
   {
    "duration": 420,
    "start_time": "2023-06-14T12:44:42.439Z"
   },
   {
    "duration": 339,
    "start_time": "2023-06-14T12:44:42.861Z"
   },
   {
    "duration": 20,
    "start_time": "2023-06-14T12:44:43.202Z"
   },
   {
    "duration": 25,
    "start_time": "2023-06-14T12:44:43.223Z"
   },
   {
    "duration": 54,
    "start_time": "2023-06-14T12:44:43.249Z"
   },
   {
    "duration": 183,
    "start_time": "2023-06-14T12:44:43.305Z"
   },
   {
    "duration": 34,
    "start_time": "2023-06-14T12:44:43.490Z"
   },
   {
    "duration": 37,
    "start_time": "2023-06-14T12:44:53.748Z"
   },
   {
    "duration": 65,
    "start_time": "2023-06-14T12:44:57.109Z"
   },
   {
    "duration": 35,
    "start_time": "2023-06-14T12:44:59.092Z"
   },
   {
    "duration": 51,
    "start_time": "2023-06-14T12:45:04.013Z"
   },
   {
    "duration": 58,
    "start_time": "2023-06-14T12:45:47.050Z"
   },
   {
    "duration": 4,
    "start_time": "2023-06-14T12:45:56.605Z"
   },
   {
    "duration": 6,
    "start_time": "2023-06-14T12:46:08.188Z"
   },
   {
    "duration": 72,
    "start_time": "2023-06-14T12:46:26.037Z"
   },
   {
    "duration": 69,
    "start_time": "2023-06-14T12:46:32.326Z"
   },
   {
    "duration": 59,
    "start_time": "2023-06-14T12:46:59.837Z"
   },
   {
    "duration": 3,
    "start_time": "2023-06-14T12:48:40.908Z"
   },
   {
    "duration": 77,
    "start_time": "2023-06-14T12:48:42.192Z"
   },
   {
    "duration": 63,
    "start_time": "2023-06-14T12:48:57.045Z"
   },
   {
    "duration": 64,
    "start_time": "2023-06-14T12:49:01.193Z"
   },
   {
    "duration": 84,
    "start_time": "2023-06-14T12:49:07.621Z"
   },
   {
    "duration": 65,
    "start_time": "2023-06-14T12:49:14.318Z"
   },
   {
    "duration": 5098,
    "start_time": "2023-06-14T12:49:34.505Z"
   },
   {
    "duration": 62,
    "start_time": "2023-06-14T12:50:10.801Z"
   },
   {
    "duration": 5378,
    "start_time": "2023-06-14T12:50:14.098Z"
   },
   {
    "duration": 68,
    "start_time": "2023-06-14T12:50:32.288Z"
   },
   {
    "duration": 68,
    "start_time": "2023-06-14T12:50:40.059Z"
   },
   {
    "duration": 56,
    "start_time": "2023-06-14T12:50:48.141Z"
   },
   {
    "duration": 5093,
    "start_time": "2023-06-14T12:50:55.505Z"
   },
   {
    "duration": 69,
    "start_time": "2023-06-14T12:52:31.489Z"
   },
   {
    "duration": 69,
    "start_time": "2023-06-14T12:52:47.593Z"
   },
   {
    "duration": 30,
    "start_time": "2023-06-14T12:52:56.649Z"
   },
   {
    "duration": 31,
    "start_time": "2023-06-14T12:53:01.088Z"
   },
   {
    "duration": 67,
    "start_time": "2023-06-14T12:53:11.530Z"
   },
   {
    "duration": 5,
    "start_time": "2023-06-14T12:53:21.017Z"
   },
   {
    "duration": 77,
    "start_time": "2023-06-14T12:53:22.929Z"
   },
   {
    "duration": 5912,
    "start_time": "2023-06-14T12:54:29.242Z"
   },
   {
    "duration": 58,
    "start_time": "2023-06-14T12:54:54.482Z"
   },
   {
    "duration": 5606,
    "start_time": "2023-06-14T12:54:59.431Z"
   },
   {
    "duration": 5943,
    "start_time": "2023-06-14T12:56:08.487Z"
   },
   {
    "duration": 97,
    "start_time": "2023-06-14T12:58:03.149Z"
   },
   {
    "duration": 5022,
    "start_time": "2023-06-14T12:58:44.658Z"
   },
   {
    "duration": 63,
    "start_time": "2023-06-14T12:59:05.859Z"
   },
   {
    "duration": 38,
    "start_time": "2023-06-14T12:59:08.589Z"
   },
   {
    "duration": 39,
    "start_time": "2023-06-14T12:59:15.227Z"
   },
   {
    "duration": 42,
    "start_time": "2023-06-14T12:59:22.039Z"
   },
   {
    "duration": 38,
    "start_time": "2023-06-14T12:59:29.533Z"
   },
   {
    "duration": 38,
    "start_time": "2023-06-14T12:59:36.935Z"
   },
   {
    "duration": 45,
    "start_time": "2023-06-14T12:59:39.517Z"
   },
   {
    "duration": 39,
    "start_time": "2023-06-14T12:59:41.387Z"
   },
   {
    "duration": 36,
    "start_time": "2023-06-14T12:59:46.888Z"
   },
   {
    "duration": 67,
    "start_time": "2023-06-14T13:00:02.452Z"
   },
   {
    "duration": 71,
    "start_time": "2023-06-14T13:00:05.645Z"
   },
   {
    "duration": 65,
    "start_time": "2023-06-14T13:00:08.188Z"
   },
   {
    "duration": 67,
    "start_time": "2023-06-14T13:00:11.588Z"
   },
   {
    "duration": 65,
    "start_time": "2023-06-14T13:00:23.342Z"
   },
   {
    "duration": 56,
    "start_time": "2023-06-14T13:00:39.817Z"
   },
   {
    "duration": 23,
    "start_time": "2023-06-14T13:00:54.758Z"
   },
   {
    "duration": 54,
    "start_time": "2023-06-14T13:01:15.953Z"
   },
   {
    "duration": 25,
    "start_time": "2023-06-14T13:01:26.113Z"
   },
   {
    "duration": 10,
    "start_time": "2023-06-14T13:01:34.758Z"
   },
   {
    "duration": 103,
    "start_time": "2023-06-14T13:01:39.725Z"
   },
   {
    "duration": 68,
    "start_time": "2023-06-14T13:02:08.834Z"
   },
   {
    "duration": 71,
    "start_time": "2023-06-14T13:02:18.135Z"
   },
   {
    "duration": 63,
    "start_time": "2023-06-14T13:02:25.087Z"
   },
   {
    "duration": 43,
    "start_time": "2023-06-14T13:02:43.009Z"
   },
   {
    "duration": 40,
    "start_time": "2023-06-14T13:02:53.544Z"
   },
   {
    "duration": 79,
    "start_time": "2023-06-14T13:03:04.304Z"
   },
   {
    "duration": 36,
    "start_time": "2023-06-14T13:03:23.259Z"
   },
   {
    "duration": 95,
    "start_time": "2023-06-14T13:04:06.288Z"
   },
   {
    "duration": 97,
    "start_time": "2023-06-14T13:04:13.687Z"
   },
   {
    "duration": 24,
    "start_time": "2023-06-14T13:04:20.178Z"
   },
   {
    "duration": 67,
    "start_time": "2023-06-14T13:04:23.709Z"
   },
   {
    "duration": 101,
    "start_time": "2023-06-14T13:04:26.939Z"
   },
   {
    "duration": 82,
    "start_time": "2023-06-14T13:04:33.521Z"
   },
   {
    "duration": 6342,
    "start_time": "2023-06-14T13:04:51.784Z"
   },
   {
    "duration": 5311,
    "start_time": "2023-06-14T13:05:14.691Z"
   },
   {
    "duration": 1114,
    "start_time": "2023-06-14T13:06:02.891Z"
   },
   {
    "duration": 188,
    "start_time": "2023-06-14T13:06:12.055Z"
   },
   {
    "duration": 190,
    "start_time": "2023-06-14T13:06:18.487Z"
   },
   {
    "duration": 12912,
    "start_time": "2023-06-14T13:11:40.357Z"
   },
   {
    "duration": 4,
    "start_time": "2023-06-14T13:12:02.523Z"
   },
   {
    "duration": 865,
    "start_time": "2023-06-14T13:12:02.530Z"
   },
   {
    "duration": 135,
    "start_time": "2023-06-14T13:12:03.397Z"
   },
   {
    "duration": 164,
    "start_time": "2023-06-14T13:12:03.534Z"
   },
   {
    "duration": 100,
    "start_time": "2023-06-14T13:12:03.700Z"
   },
   {
    "duration": 94,
    "start_time": "2023-06-14T13:12:03.802Z"
   },
   {
    "duration": 1204,
    "start_time": "2023-06-14T13:12:03.898Z"
   },
   {
    "duration": 418,
    "start_time": "2023-06-14T13:12:05.104Z"
   },
   {
    "duration": 339,
    "start_time": "2023-06-14T13:12:05.524Z"
   },
   {
    "duration": 26,
    "start_time": "2023-06-14T13:12:05.865Z"
   },
   {
    "duration": 27,
    "start_time": "2023-06-14T13:12:05.893Z"
   },
   {
    "duration": 54,
    "start_time": "2023-06-14T13:12:05.922Z"
   },
   {
    "duration": 180,
    "start_time": "2023-06-14T13:12:05.978Z"
   },
   {
    "duration": 38,
    "start_time": "2023-06-14T13:12:06.160Z"
   },
   {
    "duration": 41,
    "start_time": "2023-06-14T13:12:11.821Z"
   },
   {
    "duration": 1352,
    "start_time": "2023-06-14T13:13:03.857Z"
   },
   {
    "duration": 62,
    "start_time": "2023-06-14T13:13:13.936Z"
   },
   {
    "duration": 47,
    "start_time": "2023-06-14T13:13:20.244Z"
   },
   {
    "duration": 45,
    "start_time": "2023-06-14T13:13:26.591Z"
   },
   {
    "duration": 41,
    "start_time": "2023-06-14T13:13:29.759Z"
   },
   {
    "duration": 38,
    "start_time": "2023-06-14T13:13:31.045Z"
   },
   {
    "duration": 36,
    "start_time": "2023-06-14T13:13:39.141Z"
   },
   {
    "duration": 49,
    "start_time": "2023-06-14T13:13:39.493Z"
   },
   {
    "duration": 34,
    "start_time": "2023-06-14T13:13:45.590Z"
   },
   {
    "duration": 13462,
    "start_time": "2023-06-14T13:13:54.050Z"
   },
   {
    "duration": 28,
    "start_time": "2023-06-14T13:14:15.589Z"
   },
   {
    "duration": 115,
    "start_time": "2023-06-14T13:15:14.187Z"
   },
   {
    "duration": 36,
    "start_time": "2023-06-14T13:16:16.378Z"
   },
   {
    "duration": 32,
    "start_time": "2023-06-14T13:16:27.853Z"
   },
   {
    "duration": 40,
    "start_time": "2023-06-14T13:16:35.449Z"
   },
   {
    "duration": 33,
    "start_time": "2023-06-14T13:17:55.249Z"
   },
   {
    "duration": 759,
    "start_time": "2023-06-14T13:18:08.825Z"
   },
   {
    "duration": 144,
    "start_time": "2023-06-14T13:18:22.279Z"
   },
   {
    "duration": 65,
    "start_time": "2023-06-14T13:19:02.633Z"
   },
   {
    "duration": 23,
    "start_time": "2023-06-14T13:19:06.376Z"
   },
   {
    "duration": 26,
    "start_time": "2023-06-14T13:19:23.885Z"
   },
   {
    "duration": 166,
    "start_time": "2023-06-14T13:23:10.549Z"
   },
   {
    "duration": 22,
    "start_time": "2023-06-14T13:23:45.955Z"
   },
   {
    "duration": 166,
    "start_time": "2023-06-14T13:24:36.725Z"
   },
   {
    "duration": 36,
    "start_time": "2023-06-14T13:26:05.292Z"
   },
   {
    "duration": 26,
    "start_time": "2023-06-14T13:26:17.490Z"
   },
   {
    "duration": 15,
    "start_time": "2023-06-14T13:26:32.886Z"
   },
   {
    "duration": 37,
    "start_time": "2023-06-14T13:26:43.053Z"
   },
   {
    "duration": 24,
    "start_time": "2023-06-14T13:28:45.991Z"
   },
   {
    "duration": 908,
    "start_time": "2023-06-14T15:37:19.917Z"
   },
   {
    "duration": 1179,
    "start_time": "2023-06-14T15:37:20.827Z"
   },
   {
    "duration": 139,
    "start_time": "2023-06-14T15:37:22.008Z"
   },
   {
    "duration": 155,
    "start_time": "2023-06-14T15:37:22.149Z"
   },
   {
    "duration": 160,
    "start_time": "2023-06-14T15:37:22.307Z"
   },
   {
    "duration": 128,
    "start_time": "2023-06-14T15:37:22.469Z"
   },
   {
    "duration": 1224,
    "start_time": "2023-06-14T15:37:22.599Z"
   },
   {
    "duration": 454,
    "start_time": "2023-06-14T15:37:23.825Z"
   },
   {
    "duration": 391,
    "start_time": "2023-06-14T15:37:24.281Z"
   },
   {
    "duration": 19,
    "start_time": "2023-06-14T15:37:24.674Z"
   },
   {
    "duration": 58,
    "start_time": "2023-06-14T15:37:24.695Z"
   },
   {
    "duration": 58,
    "start_time": "2023-06-14T15:37:24.756Z"
   },
   {
    "duration": 190,
    "start_time": "2023-06-14T15:37:24.816Z"
   },
   {
    "duration": 41,
    "start_time": "2023-06-14T15:37:25.009Z"
   },
   {
    "duration": 49,
    "start_time": "2023-06-14T15:37:25.051Z"
   },
   {
    "duration": 67,
    "start_time": "2023-06-14T15:37:25.102Z"
   },
   {
    "duration": 65,
    "start_time": "2023-06-14T15:37:25.170Z"
   },
   {
    "duration": 66,
    "start_time": "2023-06-14T15:37:25.236Z"
   },
   {
    "duration": 13783,
    "start_time": "2023-06-14T15:37:25.304Z"
   },
   {
    "duration": 26,
    "start_time": "2023-06-14T15:37:39.089Z"
   },
   {
    "duration": 170,
    "start_time": "2023-06-14T15:37:39.117Z"
   },
   {
    "duration": 24,
    "start_time": "2023-06-14T15:37:39.289Z"
   },
   {
    "duration": 51,
    "start_time": "2023-06-14T15:37:39.315Z"
   },
   {
    "duration": 35,
    "start_time": "2023-06-14T15:37:39.368Z"
   },
   {
    "duration": 23,
    "start_time": "2023-06-14T15:37:39.405Z"
   },
   {
    "duration": 90,
    "start_time": "2023-06-14T15:37:39.430Z"
   },
   {
    "duration": 20,
    "start_time": "2023-06-14T15:38:14.900Z"
   },
   {
    "duration": 19,
    "start_time": "2023-06-14T15:38:20.073Z"
   },
   {
    "duration": 18,
    "start_time": "2023-06-14T15:38:28.931Z"
   },
   {
    "duration": 18,
    "start_time": "2023-06-14T15:38:38.271Z"
   },
   {
    "duration": 19,
    "start_time": "2023-06-14T15:38:41.723Z"
   },
   {
    "duration": 19,
    "start_time": "2023-06-14T15:38:42.901Z"
   },
   {
    "duration": 2431,
    "start_time": "2023-06-14T15:42:00.816Z"
   },
   {
    "duration": 2007,
    "start_time": "2023-06-14T15:42:18.407Z"
   },
   {
    "duration": 1456,
    "start_time": "2023-06-14T15:42:23.430Z"
   },
   {
    "duration": 22,
    "start_time": "2023-06-14T15:42:30.793Z"
   },
   {
    "duration": 27,
    "start_time": "2023-06-14T15:42:46.999Z"
   },
   {
    "duration": 225,
    "start_time": "2023-06-14T15:43:09.980Z"
   },
   {
    "duration": 199,
    "start_time": "2023-06-14T15:44:19.493Z"
   },
   {
    "duration": 218,
    "start_time": "2023-06-14T15:45:00.242Z"
   },
   {
    "duration": 224,
    "start_time": "2023-06-14T15:45:05.689Z"
   },
   {
    "duration": 91,
    "start_time": "2023-06-14T15:45:24.680Z"
   },
   {
    "duration": 54,
    "start_time": "2023-06-14T15:45:29.701Z"
   },
   {
    "duration": 87,
    "start_time": "2023-06-14T15:46:02.347Z"
   },
   {
    "duration": 81,
    "start_time": "2023-06-14T15:46:56.743Z"
   },
   {
    "duration": 57,
    "start_time": "2023-06-14T15:47:09.480Z"
   },
   {
    "duration": 58,
    "start_time": "2023-06-14T15:47:18.180Z"
   },
   {
    "duration": 101,
    "start_time": "2023-06-14T15:47:35.658Z"
   },
   {
    "duration": 1623,
    "start_time": "2023-06-14T22:07:48.387Z"
   },
   {
    "duration": 7035,
    "start_time": "2023-06-14T22:07:50.018Z"
   },
   {
    "duration": 251,
    "start_time": "2023-06-14T22:07:57.066Z"
   },
   {
    "duration": 309,
    "start_time": "2023-06-14T22:07:57.324Z"
   },
   {
    "duration": 322,
    "start_time": "2023-06-14T22:07:57.635Z"
   },
   {
    "duration": 168,
    "start_time": "2023-06-14T22:07:57.965Z"
   },
   {
    "duration": 2183,
    "start_time": "2023-06-14T22:07:58.139Z"
   },
   {
    "duration": 835,
    "start_time": "2023-06-14T22:08:00.328Z"
   },
   {
    "duration": 788,
    "start_time": "2023-06-14T22:08:01.168Z"
   },
   {
    "duration": 52,
    "start_time": "2023-06-14T22:08:01.968Z"
   },
   {
    "duration": 124,
    "start_time": "2023-06-14T22:08:02.033Z"
   },
   {
    "duration": 130,
    "start_time": "2023-06-14T22:08:02.163Z"
   },
   {
    "duration": 443,
    "start_time": "2023-06-14T22:08:02.298Z"
   },
   {
    "duration": 65,
    "start_time": "2023-06-14T22:08:02.747Z"
   },
   {
    "duration": 82,
    "start_time": "2023-06-14T22:08:02.818Z"
   },
   {
    "duration": 83,
    "start_time": "2023-06-14T22:08:02.904Z"
   },
   {
    "duration": 148,
    "start_time": "2023-06-14T22:08:02.990Z"
   },
   {
    "duration": 361,
    "start_time": "2023-06-14T22:08:03.146Z"
   },
   {
    "duration": 21202,
    "start_time": "2023-06-14T22:08:03.521Z"
   },
   {
    "duration": 59,
    "start_time": "2023-06-14T22:08:24.729Z"
   },
   {
    "duration": 246,
    "start_time": "2023-06-14T22:08:24.794Z"
   },
   {
    "duration": 37,
    "start_time": "2023-06-14T22:08:25.046Z"
   },
   {
    "duration": 91,
    "start_time": "2023-06-14T22:08:25.090Z"
   },
   {
    "duration": 97,
    "start_time": "2023-06-14T22:08:25.182Z"
   },
   {
    "duration": 81,
    "start_time": "2023-06-14T22:08:25.284Z"
   },
   {
    "duration": 139,
    "start_time": "2023-06-14T22:08:25.370Z"
   },
   {
    "duration": 78,
    "start_time": "2023-06-14T22:08:25.519Z"
   },
   {
    "duration": 73,
    "start_time": "2023-06-14T22:08:25.604Z"
   },
   {
    "duration": 483,
    "start_time": "2023-06-14T22:08:25.687Z"
   },
   {
    "duration": 185,
    "start_time": "2023-06-14T22:08:26.172Z"
   },
   {
    "duration": 179,
    "start_time": "2023-06-14T22:08:26.366Z"
   },
   {
    "duration": 20,
    "start_time": "2023-06-14T22:12:49.957Z"
   },
   {
    "duration": 7,
    "start_time": "2023-06-14T22:13:37.258Z"
   },
   {
    "duration": 213,
    "start_time": "2023-06-14T22:15:35.940Z"
   },
   {
    "duration": 244,
    "start_time": "2023-06-14T22:15:47.631Z"
   },
   {
    "duration": 232,
    "start_time": "2023-06-14T22:15:54.539Z"
   },
   {
    "duration": 221,
    "start_time": "2023-06-14T22:15:57.910Z"
   },
   {
    "duration": 226,
    "start_time": "2023-06-14T22:15:59.855Z"
   },
   {
    "duration": 202,
    "start_time": "2023-06-14T22:16:04.159Z"
   },
   {
    "duration": 273,
    "start_time": "2023-06-14T22:16:14.971Z"
   },
   {
    "duration": 210,
    "start_time": "2023-06-14T22:16:20.475Z"
   },
   {
    "duration": 223,
    "start_time": "2023-06-14T22:16:38.618Z"
   },
   {
    "duration": 433,
    "start_time": "2023-06-14T22:17:06.364Z"
   },
   {
    "duration": 155,
    "start_time": "2023-06-14T22:17:37.258Z"
   },
   {
    "duration": 189,
    "start_time": "2023-06-14T22:17:51.664Z"
   },
   {
    "duration": 195,
    "start_time": "2023-06-14T22:18:23.722Z"
   },
   {
    "duration": 352,
    "start_time": "2023-06-14T22:18:55.567Z"
   },
   {
    "duration": 254,
    "start_time": "2023-06-14T22:19:13.443Z"
   },
   {
    "duration": 407,
    "start_time": "2023-06-14T22:19:23.647Z"
   },
   {
    "duration": 363,
    "start_time": "2023-06-14T22:19:46.199Z"
   },
   {
    "duration": 66,
    "start_time": "2023-06-14T22:19:59.667Z"
   },
   {
    "duration": 66,
    "start_time": "2023-06-14T22:20:09.559Z"
   },
   {
    "duration": 71,
    "start_time": "2023-06-14T22:20:20.972Z"
   },
   {
    "duration": 352,
    "start_time": "2023-06-14T22:20:33.136Z"
   },
   {
    "duration": 52,
    "start_time": "2023-06-14T22:21:30.738Z"
   },
   {
    "duration": 417,
    "start_time": "2023-06-14T22:21:53.648Z"
   },
   {
    "duration": 74,
    "start_time": "2023-06-14T22:22:27.885Z"
   },
   {
    "duration": 741,
    "start_time": "2023-06-15T09:51:32.908Z"
   },
   {
    "duration": 2726,
    "start_time": "2023-06-15T09:51:33.651Z"
   },
   {
    "duration": 99,
    "start_time": "2023-06-15T09:51:36.378Z"
   },
   {
    "duration": 130,
    "start_time": "2023-06-15T09:51:36.479Z"
   },
   {
    "duration": 121,
    "start_time": "2023-06-15T09:51:36.611Z"
   },
   {
    "duration": 93,
    "start_time": "2023-06-15T09:51:36.734Z"
   },
   {
    "duration": 1027,
    "start_time": "2023-06-15T09:51:36.828Z"
   },
   {
    "duration": 311,
    "start_time": "2023-06-15T09:51:37.856Z"
   },
   {
    "duration": 272,
    "start_time": "2023-06-15T09:51:38.169Z"
   },
   {
    "duration": 17,
    "start_time": "2023-06-15T09:51:38.443Z"
   },
   {
    "duration": 24,
    "start_time": "2023-06-15T09:51:38.462Z"
   },
   {
    "duration": 43,
    "start_time": "2023-06-15T09:51:38.487Z"
   },
   {
    "duration": 172,
    "start_time": "2023-06-15T09:51:38.531Z"
   },
   {
    "duration": 26,
    "start_time": "2023-06-15T09:51:38.705Z"
   },
   {
    "duration": 34,
    "start_time": "2023-06-15T09:51:38.733Z"
   },
   {
    "duration": 48,
    "start_time": "2023-06-15T09:51:38.769Z"
   },
   {
    "duration": 29,
    "start_time": "2023-06-15T09:51:38.818Z"
   },
   {
    "duration": 30,
    "start_time": "2023-06-15T09:51:38.848Z"
   },
   {
    "duration": 10614,
    "start_time": "2023-06-15T09:51:38.879Z"
   },
   {
    "duration": 23,
    "start_time": "2023-06-15T09:51:49.495Z"
   },
   {
    "duration": 147,
    "start_time": "2023-06-15T09:51:49.520Z"
   },
   {
    "duration": 19,
    "start_time": "2023-06-15T09:51:49.668Z"
   },
   {
    "duration": 72,
    "start_time": "2023-06-15T09:51:49.689Z"
   },
   {
    "duration": 28,
    "start_time": "2023-06-15T09:51:49.763Z"
   },
   {
    "duration": 21,
    "start_time": "2023-06-15T09:51:49.793Z"
   },
   {
    "duration": 21,
    "start_time": "2023-06-15T09:51:49.815Z"
   },
   {
    "duration": 31,
    "start_time": "2023-06-15T09:51:49.837Z"
   },
   {
    "duration": 35,
    "start_time": "2023-06-15T09:51:49.873Z"
   },
   {
    "duration": 191,
    "start_time": "2023-06-15T09:51:49.910Z"
   },
   {
    "duration": 83,
    "start_time": "2023-06-15T09:51:50.103Z"
   },
   {
    "duration": 118,
    "start_time": "2023-06-15T09:51:50.188Z"
   },
   {
    "duration": 12,
    "start_time": "2023-06-15T09:51:50.308Z"
   },
   {
    "duration": 97,
    "start_time": "2023-06-15T09:51:50.321Z"
   },
   {
    "duration": 846,
    "start_time": "2023-06-16T22:07:54.748Z"
   },
   {
    "duration": 3225,
    "start_time": "2023-06-16T22:07:55.596Z"
   },
   {
    "duration": 193,
    "start_time": "2023-06-16T22:07:58.823Z"
   },
   {
    "duration": 206,
    "start_time": "2023-06-16T22:07:59.019Z"
   },
   {
    "duration": 141,
    "start_time": "2023-06-16T22:07:59.227Z"
   },
   {
    "duration": 147,
    "start_time": "2023-06-16T22:07:59.370Z"
   },
   {
    "duration": 1510,
    "start_time": "2023-06-16T22:07:59.520Z"
   },
   {
    "duration": 436,
    "start_time": "2023-06-16T22:08:01.032Z"
   },
   {
    "duration": 352,
    "start_time": "2023-06-16T22:08:01.470Z"
   },
   {
    "duration": 21,
    "start_time": "2023-06-16T22:08:01.826Z"
   },
   {
    "duration": 74,
    "start_time": "2023-06-16T22:08:01.848Z"
   },
   {
    "duration": 79,
    "start_time": "2023-06-16T22:08:01.925Z"
   },
   {
    "duration": 217,
    "start_time": "2023-06-16T22:08:02.006Z"
   },
   {
    "duration": 52,
    "start_time": "2023-06-16T22:08:02.225Z"
   },
   {
    "duration": 84,
    "start_time": "2023-06-16T22:08:02.279Z"
   },
   {
    "duration": 64,
    "start_time": "2023-06-16T22:08:02.366Z"
   },
   {
    "duration": 119,
    "start_time": "2023-06-16T22:08:02.432Z"
   },
   {
    "duration": 91,
    "start_time": "2023-06-16T22:08:02.553Z"
   },
   {
    "duration": 13707,
    "start_time": "2023-06-16T22:08:02.647Z"
   },
   {
    "duration": 25,
    "start_time": "2023-06-16T22:08:16.356Z"
   },
   {
    "duration": 189,
    "start_time": "2023-06-16T22:08:16.383Z"
   },
   {
    "duration": 22,
    "start_time": "2023-06-16T22:08:16.574Z"
   },
   {
    "duration": 47,
    "start_time": "2023-06-16T22:08:16.598Z"
   },
   {
    "duration": 29,
    "start_time": "2023-06-16T22:08:16.648Z"
   },
   {
    "duration": 39,
    "start_time": "2023-06-16T22:08:16.679Z"
   },
   {
    "duration": 41,
    "start_time": "2023-06-16T22:08:16.723Z"
   },
   {
    "duration": 29,
    "start_time": "2023-06-16T22:08:16.767Z"
   },
   {
    "duration": 41,
    "start_time": "2023-06-16T22:08:16.800Z"
   },
   {
    "duration": 313,
    "start_time": "2023-06-16T22:08:16.843Z"
   },
   {
    "duration": 126,
    "start_time": "2023-06-16T22:08:17.158Z"
   },
   {
    "duration": 154,
    "start_time": "2023-06-16T22:08:17.287Z"
   },
   {
    "duration": 31,
    "start_time": "2023-06-16T22:08:17.444Z"
   },
   {
    "duration": 98,
    "start_time": "2023-06-16T22:08:17.477Z"
   },
   {
    "duration": 102,
    "start_time": "2023-06-16T22:08:17.577Z"
   },
   {
    "duration": 974,
    "start_time": "2023-06-17T08:45:06.715Z"
   },
   {
    "duration": 7397,
    "start_time": "2023-06-17T08:45:07.692Z"
   },
   {
    "duration": 241,
    "start_time": "2023-06-17T08:45:15.091Z"
   },
   {
    "duration": 258,
    "start_time": "2023-06-17T08:45:15.335Z"
   },
   {
    "duration": 233,
    "start_time": "2023-06-17T08:45:15.595Z"
   },
   {
    "duration": 155,
    "start_time": "2023-06-17T08:45:15.830Z"
   },
   {
    "duration": 1964,
    "start_time": "2023-06-17T08:45:15.987Z"
   },
   {
    "duration": 616,
    "start_time": "2023-06-17T08:45:17.960Z"
   },
   {
    "duration": 602,
    "start_time": "2023-06-17T08:45:18.579Z"
   },
   {
    "duration": 81,
    "start_time": "2023-06-17T08:45:19.192Z"
   },
   {
    "duration": 62,
    "start_time": "2023-06-17T08:45:19.287Z"
   },
   {
    "duration": 79,
    "start_time": "2023-06-17T08:45:19.354Z"
   },
   {
    "duration": 330,
    "start_time": "2023-06-17T08:45:19.438Z"
   },
   {
    "duration": 99,
    "start_time": "2023-06-17T08:45:19.770Z"
   },
   {
    "duration": 116,
    "start_time": "2023-06-17T08:45:19.877Z"
   },
   {
    "duration": 65,
    "start_time": "2023-06-17T08:45:19.995Z"
   },
   {
    "duration": 51,
    "start_time": "2023-06-17T08:45:20.062Z"
   },
   {
    "duration": 46,
    "start_time": "2023-06-17T08:45:20.115Z"
   },
   {
    "duration": 21996,
    "start_time": "2023-06-17T08:45:20.163Z"
   },
   {
    "duration": 44,
    "start_time": "2023-06-17T08:45:42.161Z"
   },
   {
    "duration": 286,
    "start_time": "2023-06-17T08:45:42.213Z"
   },
   {
    "duration": 51,
    "start_time": "2023-06-17T08:45:42.510Z"
   },
   {
    "duration": 66,
    "start_time": "2023-06-17T08:45:42.568Z"
   },
   {
    "duration": 46,
    "start_time": "2023-06-17T08:45:42.640Z"
   },
   {
    "duration": 53,
    "start_time": "2023-06-17T08:45:42.695Z"
   },
   {
    "duration": 51,
    "start_time": "2023-06-17T08:45:42.754Z"
   },
   {
    "duration": 35,
    "start_time": "2023-06-17T08:45:42.814Z"
   },
   {
    "duration": 69,
    "start_time": "2023-06-17T08:45:42.856Z"
   },
   {
    "duration": 487,
    "start_time": "2023-06-17T08:45:42.930Z"
   },
   {
    "duration": 195,
    "start_time": "2023-06-17T08:45:43.419Z"
   },
   {
    "duration": 252,
    "start_time": "2023-06-17T08:45:43.621Z"
   },
   {
    "duration": 48,
    "start_time": "2023-06-17T08:45:43.879Z"
   },
   {
    "duration": 178,
    "start_time": "2023-06-17T08:45:43.932Z"
   },
   {
    "duration": 74,
    "start_time": "2023-06-17T08:47:33.428Z"
   },
   {
    "duration": 5312,
    "start_time": "2023-06-17T08:47:46.245Z"
   },
   {
    "duration": 130,
    "start_time": "2023-06-17T08:48:26.395Z"
   },
   {
    "duration": 87,
    "start_time": "2023-06-17T08:51:37.630Z"
   },
   {
    "duration": 616,
    "start_time": "2023-06-17T08:51:50.456Z"
   },
   {
    "duration": 83,
    "start_time": "2023-06-17T08:59:03.858Z"
   },
   {
    "duration": 52,
    "start_time": "2023-06-17T08:59:37.406Z"
   },
   {
    "duration": 51,
    "start_time": "2023-06-17T08:59:38.033Z"
   },
   {
    "duration": 88,
    "start_time": "2023-06-17T09:01:32.197Z"
   },
   {
    "duration": 483,
    "start_time": "2023-06-17T09:01:36.906Z"
   },
   {
    "duration": 453,
    "start_time": "2023-06-17T09:02:29.340Z"
   },
   {
    "duration": 422,
    "start_time": "2023-06-17T09:04:46.773Z"
   },
   {
    "duration": 638,
    "start_time": "2023-06-17T09:04:56.519Z"
   },
   {
    "duration": 76,
    "start_time": "2023-06-17T09:04:57.161Z"
   },
   {
    "duration": 57,
    "start_time": "2023-06-17T09:10:12.506Z"
   },
   {
    "duration": 68,
    "start_time": "2023-06-17T09:10:21.015Z"
   },
   {
    "duration": 66,
    "start_time": "2023-06-17T09:10:25.107Z"
   },
   {
    "duration": 58,
    "start_time": "2023-06-17T09:10:36.271Z"
   },
   {
    "duration": 36,
    "start_time": "2023-06-17T09:10:39.121Z"
   },
   {
    "duration": 107,
    "start_time": "2023-06-17T09:11:24.438Z"
   },
   {
    "duration": 66,
    "start_time": "2023-06-17T09:11:30.035Z"
   },
   {
    "duration": 79,
    "start_time": "2023-06-17T09:11:48.653Z"
   },
   {
    "duration": 67,
    "start_time": "2023-06-17T09:11:49.274Z"
   },
   {
    "duration": 83,
    "start_time": "2023-06-17T09:13:24.618Z"
   },
   {
    "duration": 783,
    "start_time": "2023-06-17T09:13:58.311Z"
   },
   {
    "duration": 802,
    "start_time": "2023-06-17T09:14:01.515Z"
   },
   {
    "duration": 515,
    "start_time": "2023-06-17T09:14:23.710Z"
   },
   {
    "duration": 490,
    "start_time": "2023-06-17T09:14:33.627Z"
   },
   {
    "duration": 91,
    "start_time": "2023-06-17T09:51:49.570Z"
   },
   {
    "duration": 162,
    "start_time": "2023-06-17T09:52:02.143Z"
   },
   {
    "duration": 266,
    "start_time": "2023-06-17T09:53:10.070Z"
   },
   {
    "duration": 41,
    "start_time": "2023-06-17T09:53:12.847Z"
   },
   {
    "duration": 246,
    "start_time": "2023-06-17T09:53:28.915Z"
   },
   {
    "duration": 266,
    "start_time": "2023-06-17T09:53:51.935Z"
   },
   {
    "duration": 397,
    "start_time": "2023-06-17T09:53:56.514Z"
   },
   {
    "duration": 33,
    "start_time": "2023-06-17T09:54:27.644Z"
   },
   {
    "duration": 1659,
    "start_time": "2023-06-17T09:54:27.680Z"
   },
   {
    "duration": 255,
    "start_time": "2023-06-17T09:54:29.357Z"
   },
   {
    "duration": 264,
    "start_time": "2023-06-17T09:54:29.617Z"
   },
   {
    "duration": 180,
    "start_time": "2023-06-17T09:54:29.887Z"
   },
   {
    "duration": 160,
    "start_time": "2023-06-17T09:54:30.073Z"
   },
   {
    "duration": 2032,
    "start_time": "2023-06-17T09:54:30.238Z"
   },
   {
    "duration": 782,
    "start_time": "2023-06-17T09:54:32.276Z"
   },
   {
    "duration": 619,
    "start_time": "2023-06-17T09:54:33.064Z"
   },
   {
    "duration": 57,
    "start_time": "2023-06-17T09:54:33.694Z"
   },
   {
    "duration": 55,
    "start_time": "2023-06-17T09:54:33.758Z"
   },
   {
    "duration": 76,
    "start_time": "2023-06-17T09:54:33.819Z"
   },
   {
    "duration": 313,
    "start_time": "2023-06-17T09:54:33.901Z"
   },
   {
    "duration": 96,
    "start_time": "2023-06-17T09:54:34.225Z"
   },
   {
    "duration": 110,
    "start_time": "2023-06-17T09:54:34.327Z"
   },
   {
    "duration": 78,
    "start_time": "2023-06-17T09:54:34.447Z"
   },
   {
    "duration": 81,
    "start_time": "2023-06-17T09:54:34.531Z"
   },
   {
    "duration": 67,
    "start_time": "2023-06-17T09:54:34.614Z"
   },
   {
    "duration": 21749,
    "start_time": "2023-06-17T09:54:34.684Z"
   },
   {
    "duration": 34,
    "start_time": "2023-06-17T09:54:56.434Z"
   },
   {
    "duration": 280,
    "start_time": "2023-06-17T09:54:56.470Z"
   },
   {
    "duration": 36,
    "start_time": "2023-06-17T09:54:56.755Z"
   },
   {
    "duration": 71,
    "start_time": "2023-06-17T09:54:56.796Z"
   },
   {
    "duration": 48,
    "start_time": "2023-06-17T09:54:56.877Z"
   },
   {
    "duration": 43,
    "start_time": "2023-06-17T09:54:56.930Z"
   },
   {
    "duration": 42,
    "start_time": "2023-06-17T09:54:56.978Z"
   },
   {
    "duration": 29,
    "start_time": "2023-06-17T09:54:57.027Z"
   },
   {
    "duration": 47,
    "start_time": "2023-06-17T09:54:57.061Z"
   },
   {
    "duration": 409,
    "start_time": "2023-06-17T09:54:57.109Z"
   },
   {
    "duration": 247,
    "start_time": "2023-06-17T09:54:57.542Z"
   },
   {
    "duration": 243,
    "start_time": "2023-06-17T09:54:57.801Z"
   },
   {
    "duration": 60,
    "start_time": "2023-06-17T09:54:58.051Z"
   },
   {
    "duration": 86,
    "start_time": "2023-06-17T09:54:58.127Z"
   },
   {
    "duration": 73,
    "start_time": "2023-06-17T09:54:58.224Z"
   },
   {
    "duration": 80,
    "start_time": "2023-06-17T09:54:58.305Z"
   },
   {
    "duration": 84,
    "start_time": "2023-06-17T09:54:58.398Z"
   },
   {
    "duration": 545,
    "start_time": "2023-06-17T09:54:58.488Z"
   },
   {
    "duration": 77,
    "start_time": "2023-06-17T09:54:59.040Z"
   },
   {
    "duration": 54,
    "start_time": "2023-06-17T09:54:59.124Z"
   },
   {
    "duration": 51,
    "start_time": "2023-06-17T09:54:59.185Z"
   },
   {
    "duration": 77,
    "start_time": "2023-06-17T09:54:59.252Z"
   },
   {
    "duration": 65,
    "start_time": "2023-06-17T09:54:59.340Z"
   },
   {
    "duration": 103,
    "start_time": "2023-06-17T09:54:59.422Z"
   },
   {
    "duration": 572,
    "start_time": "2023-06-17T09:54:59.538Z"
   },
   {
    "duration": 208,
    "start_time": "2023-06-17T09:55:00.127Z"
   },
   {
    "duration": 151,
    "start_time": "2023-06-17T09:55:05.452Z"
   },
   {
    "duration": 377,
    "start_time": "2023-06-17T09:55:17.479Z"
   },
   {
    "duration": 59,
    "start_time": "2023-06-17T09:55:18.458Z"
   },
   {
    "duration": 206,
    "start_time": "2023-06-17T09:55:19.260Z"
   },
   {
    "duration": 461,
    "start_time": "2023-06-17T09:55:21.868Z"
   },
   {
    "duration": 6,
    "start_time": "2023-06-17T09:55:37.554Z"
   },
   {
    "duration": 1261,
    "start_time": "2023-06-17T09:55:37.566Z"
   },
   {
    "duration": 215,
    "start_time": "2023-06-17T09:55:38.832Z"
   },
   {
    "duration": 242,
    "start_time": "2023-06-17T09:55:39.053Z"
   },
   {
    "duration": 147,
    "start_time": "2023-06-17T09:55:39.301Z"
   },
   {
    "duration": 127,
    "start_time": "2023-06-17T09:55:39.454Z"
   },
   {
    "duration": 1799,
    "start_time": "2023-06-17T09:55:39.592Z"
   },
   {
    "duration": 802,
    "start_time": "2023-06-17T09:55:41.397Z"
   },
   {
    "duration": 574,
    "start_time": "2023-06-17T09:55:42.205Z"
   },
   {
    "duration": 47,
    "start_time": "2023-06-17T09:55:42.787Z"
   },
   {
    "duration": 50,
    "start_time": "2023-06-17T09:55:42.842Z"
   },
   {
    "duration": 57,
    "start_time": "2023-06-17T09:55:42.898Z"
   },
   {
    "duration": 283,
    "start_time": "2023-06-17T09:55:42.964Z"
   },
   {
    "duration": 58,
    "start_time": "2023-06-17T09:55:43.253Z"
   },
   {
    "duration": 94,
    "start_time": "2023-06-17T09:55:43.320Z"
   },
   {
    "duration": 91,
    "start_time": "2023-06-17T09:55:43.420Z"
   },
   {
    "duration": 64,
    "start_time": "2023-06-17T09:55:43.518Z"
   },
   {
    "duration": 60,
    "start_time": "2023-06-17T09:55:43.588Z"
   },
   {
    "duration": 22307,
    "start_time": "2023-06-17T09:55:43.654Z"
   },
   {
    "duration": 61,
    "start_time": "2023-06-17T09:56:05.963Z"
   },
   {
    "duration": 235,
    "start_time": "2023-06-17T09:56:06.030Z"
   },
   {
    "duration": 47,
    "start_time": "2023-06-17T09:56:06.270Z"
   },
   {
    "duration": 67,
    "start_time": "2023-06-17T09:56:06.323Z"
   },
   {
    "duration": 38,
    "start_time": "2023-06-17T09:56:06.398Z"
   },
   {
    "duration": 37,
    "start_time": "2023-06-17T09:56:06.442Z"
   },
   {
    "duration": 54,
    "start_time": "2023-06-17T09:56:06.495Z"
   },
   {
    "duration": 53,
    "start_time": "2023-06-17T09:56:06.556Z"
   },
   {
    "duration": 111,
    "start_time": "2023-06-17T09:56:06.614Z"
   },
   {
    "duration": 469,
    "start_time": "2023-06-17T09:56:06.744Z"
   },
   {
    "duration": 173,
    "start_time": "2023-06-17T09:56:07.224Z"
   },
   {
    "duration": 221,
    "start_time": "2023-06-17T09:56:07.403Z"
   },
   {
    "duration": 28,
    "start_time": "2023-06-17T09:56:07.630Z"
   },
   {
    "duration": 74,
    "start_time": "2023-06-17T09:56:07.661Z"
   },
   {
    "duration": 36,
    "start_time": "2023-06-17T09:56:07.741Z"
   },
   {
    "duration": 29,
    "start_time": "2023-06-17T09:56:07.782Z"
   },
   {
    "duration": 60,
    "start_time": "2023-06-17T09:56:07.817Z"
   },
   {
    "duration": 450,
    "start_time": "2023-06-17T09:56:07.883Z"
   },
   {
    "duration": 53,
    "start_time": "2023-06-17T09:56:08.334Z"
   },
   {
    "duration": 32,
    "start_time": "2023-06-17T09:56:08.388Z"
   },
   {
    "duration": 33,
    "start_time": "2023-06-17T09:56:08.431Z"
   },
   {
    "duration": 50,
    "start_time": "2023-06-17T09:56:08.466Z"
   },
   {
    "duration": 39,
    "start_time": "2023-06-17T09:56:08.521Z"
   },
   {
    "duration": 56,
    "start_time": "2023-06-17T09:56:08.565Z"
   },
   {
    "duration": 290,
    "start_time": "2023-06-17T09:56:08.627Z"
   },
   {
    "duration": 118,
    "start_time": "2023-06-17T09:56:08.923Z"
   },
   {
    "duration": 32,
    "start_time": "2023-06-17T09:56:09.046Z"
   },
   {
    "duration": 351,
    "start_time": "2023-06-17T09:56:29.511Z"
   },
   {
    "duration": 67,
    "start_time": "2023-06-17T09:56:42.810Z"
   },
   {
    "duration": 44,
    "start_time": "2023-06-17T09:56:59.346Z"
   },
   {
    "duration": 174,
    "start_time": "2023-06-17T09:56:59.861Z"
   },
   {
    "duration": 381,
    "start_time": "2023-06-17T09:57:00.673Z"
   },
   {
    "duration": 682,
    "start_time": "2023-06-17T09:57:14.723Z"
   },
   {
    "duration": 558,
    "start_time": "2023-06-17T09:57:42.529Z"
   },
   {
    "duration": 825,
    "start_time": "2023-06-17T15:20:23.050Z"
   },
   {
    "duration": 3317,
    "start_time": "2023-06-17T15:20:23.877Z"
   },
   {
    "duration": 134,
    "start_time": "2023-06-17T15:20:27.196Z"
   },
   {
    "duration": 169,
    "start_time": "2023-06-17T15:20:27.332Z"
   },
   {
    "duration": 155,
    "start_time": "2023-06-17T15:20:27.503Z"
   },
   {
    "duration": 109,
    "start_time": "2023-06-17T15:20:27.660Z"
   },
   {
    "duration": 1147,
    "start_time": "2023-06-17T15:20:27.771Z"
   },
   {
    "duration": 393,
    "start_time": "2023-06-17T15:20:28.920Z"
   },
   {
    "duration": 323,
    "start_time": "2023-06-17T15:20:29.315Z"
   },
   {
    "duration": 28,
    "start_time": "2023-06-17T15:20:29.640Z"
   },
   {
    "duration": 22,
    "start_time": "2023-06-17T15:20:29.671Z"
   },
   {
    "duration": 29,
    "start_time": "2023-06-17T15:20:29.694Z"
   },
   {
    "duration": 193,
    "start_time": "2023-06-17T15:20:29.724Z"
   },
   {
    "duration": 38,
    "start_time": "2023-06-17T15:20:29.919Z"
   },
   {
    "duration": 42,
    "start_time": "2023-06-17T15:20:29.960Z"
   },
   {
    "duration": 60,
    "start_time": "2023-06-17T15:20:30.003Z"
   },
   {
    "duration": 57,
    "start_time": "2023-06-17T15:20:30.065Z"
   },
   {
    "duration": 54,
    "start_time": "2023-06-17T15:20:30.123Z"
   },
   {
    "duration": 14161,
    "start_time": "2023-06-17T15:20:30.179Z"
   },
   {
    "duration": 32,
    "start_time": "2023-06-17T15:20:44.341Z"
   },
   {
    "duration": 164,
    "start_time": "2023-06-17T15:20:44.374Z"
   },
   {
    "duration": 36,
    "start_time": "2023-06-17T15:20:44.539Z"
   },
   {
    "duration": 44,
    "start_time": "2023-06-17T15:20:44.578Z"
   },
   {
    "duration": 45,
    "start_time": "2023-06-17T15:20:44.623Z"
   },
   {
    "duration": 37,
    "start_time": "2023-06-17T15:20:44.670Z"
   },
   {
    "duration": 24,
    "start_time": "2023-06-17T15:20:44.709Z"
   },
   {
    "duration": 50,
    "start_time": "2023-06-17T15:20:44.735Z"
   },
   {
    "duration": 20,
    "start_time": "2023-06-17T15:20:44.789Z"
   },
   {
    "duration": 230,
    "start_time": "2023-06-17T15:20:44.810Z"
   },
   {
    "duration": 112,
    "start_time": "2023-06-17T15:20:45.042Z"
   },
   {
    "duration": 166,
    "start_time": "2023-06-17T15:20:45.156Z"
   },
   {
    "duration": 32,
    "start_time": "2023-06-17T15:20:45.323Z"
   },
   {
    "duration": 42,
    "start_time": "2023-06-17T15:20:45.358Z"
   },
   {
    "duration": 32,
    "start_time": "2023-06-17T15:20:45.402Z"
   },
   {
    "duration": 52,
    "start_time": "2023-06-17T15:20:45.436Z"
   },
   {
    "duration": 32,
    "start_time": "2023-06-17T15:20:45.491Z"
   },
   {
    "duration": 278,
    "start_time": "2023-06-17T15:20:45.525Z"
   },
   {
    "duration": 26,
    "start_time": "2023-06-17T15:20:45.805Z"
   },
   {
    "duration": 39,
    "start_time": "2023-06-17T15:20:45.832Z"
   },
   {
    "duration": 16,
    "start_time": "2023-06-17T15:20:45.873Z"
   },
   {
    "duration": 26,
    "start_time": "2023-06-17T15:20:45.891Z"
   },
   {
    "duration": 18,
    "start_time": "2023-06-17T15:20:45.918Z"
   },
   {
    "duration": 58,
    "start_time": "2023-06-17T15:20:45.938Z"
   },
   {
    "duration": 244,
    "start_time": "2023-06-17T15:20:45.998Z"
   },
   {
    "duration": 102,
    "start_time": "2023-06-17T15:20:46.243Z"
   },
   {
    "duration": 25,
    "start_time": "2023-06-17T15:20:46.354Z"
   },
   {
    "duration": 150,
    "start_time": "2023-06-17T15:20:46.381Z"
   },
   {
    "duration": 30,
    "start_time": "2023-06-17T15:20:46.533Z"
   },
   {
    "duration": 117,
    "start_time": "2023-06-17T15:20:46.565Z"
   },
   {
    "duration": 256,
    "start_time": "2023-06-17T15:20:46.685Z"
   },
   {
    "duration": 93,
    "start_time": "2023-06-17T15:20:46.944Z"
   },
   {
    "duration": 85,
    "start_time": "2023-06-17T15:29:54.394Z"
   },
   {
    "duration": 136,
    "start_time": "2023-06-17T15:30:21.726Z"
   },
   {
    "duration": 70,
    "start_time": "2023-06-17T15:30:28.268Z"
   },
   {
    "duration": 7,
    "start_time": "2023-06-17T15:30:36.111Z"
   },
   {
    "duration": 8,
    "start_time": "2023-06-17T15:30:40.794Z"
   },
   {
    "duration": 508,
    "start_time": "2023-06-17T15:31:22.069Z"
   },
   {
    "duration": 1055,
    "start_time": "2023-06-17T15:31:42.627Z"
   },
   {
    "duration": 16,
    "start_time": "2023-06-17T15:31:50.068Z"
   },
   {
    "duration": 111,
    "start_time": "2023-06-17T15:32:50.804Z"
   },
   {
    "duration": 6,
    "start_time": "2023-06-17T15:32:58.800Z"
   },
   {
    "duration": 5,
    "start_time": "2023-06-17T15:33:12.097Z"
   },
   {
    "duration": 6,
    "start_time": "2023-06-17T15:33:15.422Z"
   },
   {
    "duration": 10,
    "start_time": "2023-06-17T15:33:32.133Z"
   },
   {
    "duration": 10,
    "start_time": "2023-06-17T15:33:42.578Z"
   },
   {
    "duration": 119,
    "start_time": "2023-06-17T15:33:48.559Z"
   },
   {
    "duration": 147,
    "start_time": "2023-06-17T15:33:58.768Z"
   },
   {
    "duration": 59,
    "start_time": "2023-06-17T15:34:03.546Z"
   },
   {
    "duration": 8,
    "start_time": "2023-06-17T15:34:05.053Z"
   },
   {
    "duration": 6,
    "start_time": "2023-06-17T15:34:46.948Z"
   },
   {
    "duration": 20,
    "start_time": "2023-06-17T15:34:57.874Z"
   },
   {
    "duration": 8,
    "start_time": "2023-06-17T15:35:47.925Z"
   },
   {
    "duration": 6,
    "start_time": "2023-06-17T15:35:56.061Z"
   },
   {
    "duration": 5,
    "start_time": "2023-06-17T15:36:02.482Z"
   },
   {
    "duration": 7,
    "start_time": "2023-06-17T15:36:06.104Z"
   },
   {
    "duration": 128,
    "start_time": "2023-06-17T15:36:19.268Z"
   },
   {
    "duration": 102,
    "start_time": "2023-06-17T15:36:38.827Z"
   },
   {
    "duration": 89,
    "start_time": "2023-06-17T15:36:50.914Z"
   },
   {
    "duration": 100,
    "start_time": "2023-06-17T15:37:00.220Z"
   },
   {
    "duration": 21,
    "start_time": "2023-06-17T15:37:12.941Z"
   },
   {
    "duration": 7,
    "start_time": "2023-06-17T15:37:36.060Z"
   },
   {
    "duration": 370,
    "start_time": "2023-06-17T15:58:12.866Z"
   },
   {
    "duration": 6,
    "start_time": "2023-06-17T15:59:10.099Z"
   },
   {
    "duration": 19,
    "start_time": "2023-06-17T15:59:40.236Z"
   },
   {
    "duration": 7,
    "start_time": "2023-06-17T15:59:47.298Z"
   },
   {
    "duration": 5,
    "start_time": "2023-06-17T15:59:52.660Z"
   },
   {
    "duration": 7,
    "start_time": "2023-06-17T16:01:17.893Z"
   },
   {
    "duration": 12,
    "start_time": "2023-06-17T16:01:20.199Z"
   },
   {
    "duration": 24,
    "start_time": "2023-06-17T16:01:39.412Z"
   },
   {
    "duration": 20,
    "start_time": "2023-06-17T16:01:48.816Z"
   },
   {
    "duration": 39,
    "start_time": "2023-06-17T16:01:56.461Z"
   },
   {
    "duration": 20,
    "start_time": "2023-06-17T16:01:59.090Z"
   },
   {
    "duration": 96,
    "start_time": "2023-06-17T17:00:43.309Z"
   },
   {
    "duration": 65,
    "start_time": "2023-06-17T17:01:00.619Z"
   },
   {
    "duration": 60,
    "start_time": "2023-06-17T17:01:05.792Z"
   },
   {
    "duration": 6,
    "start_time": "2023-06-17T17:01:09.757Z"
   },
   {
    "duration": 28,
    "start_time": "2023-06-17T17:02:40.160Z"
   },
   {
    "duration": 7,
    "start_time": "2023-06-17T17:03:50.008Z"
   },
   {
    "duration": 8,
    "start_time": "2023-06-17T17:03:57.358Z"
   },
   {
    "duration": 36,
    "start_time": "2023-06-17T17:08:18.875Z"
   },
   {
    "duration": 28,
    "start_time": "2023-06-17T17:08:23.796Z"
   },
   {
    "duration": 301,
    "start_time": "2023-06-17T17:08:37.923Z"
   },
   {
    "duration": 29,
    "start_time": "2023-06-17T17:08:45.211Z"
   },
   {
    "duration": 40,
    "start_time": "2023-06-17T17:10:23.730Z"
   },
   {
    "duration": 26,
    "start_time": "2023-06-17T17:10:32.800Z"
   },
   {
    "duration": 68,
    "start_time": "2023-06-17T17:11:13.879Z"
   },
   {
    "duration": 27,
    "start_time": "2023-06-17T17:11:16.851Z"
   },
   {
    "duration": 42,
    "start_time": "2023-06-17T17:11:28.927Z"
   },
   {
    "duration": 22,
    "start_time": "2023-06-17T17:11:45.044Z"
   },
   {
    "duration": 4,
    "start_time": "2023-06-17T17:12:14.563Z"
   },
   {
    "duration": 116,
    "start_time": "2023-06-17T17:12:18.911Z"
   },
   {
    "duration": 80,
    "start_time": "2023-06-17T17:13:59.603Z"
   },
   {
    "duration": 4,
    "start_time": "2023-06-17T17:14:21.367Z"
   },
   {
    "duration": 52,
    "start_time": "2023-06-17T17:14:24.801Z"
   },
   {
    "duration": 60,
    "start_time": "2023-06-17T17:14:30.607Z"
   },
   {
    "duration": 46,
    "start_time": "2023-06-17T17:14:48.002Z"
   },
   {
    "duration": 51,
    "start_time": "2023-06-17T17:14:58.136Z"
   },
   {
    "duration": 60,
    "start_time": "2023-06-17T17:15:09.428Z"
   },
   {
    "duration": 1143,
    "start_time": "2023-06-17T17:15:27.148Z"
   },
   {
    "duration": 40,
    "start_time": "2023-06-17T17:15:30.357Z"
   },
   {
    "duration": 26,
    "start_time": "2023-06-17T17:15:33.914Z"
   },
   {
    "duration": 4,
    "start_time": "2023-06-17T17:15:47.902Z"
   },
   {
    "duration": 789,
    "start_time": "2023-06-17T17:15:47.908Z"
   },
   {
    "duration": 139,
    "start_time": "2023-06-17T17:15:48.699Z"
   },
   {
    "duration": 145,
    "start_time": "2023-06-17T17:15:48.840Z"
   },
   {
    "duration": 91,
    "start_time": "2023-06-17T17:15:48.987Z"
   },
   {
    "duration": 101,
    "start_time": "2023-06-17T17:15:49.080Z"
   },
   {
    "duration": 1177,
    "start_time": "2023-06-17T17:15:49.183Z"
   },
   {
    "duration": 411,
    "start_time": "2023-06-17T17:15:50.361Z"
   },
   {
    "duration": 338,
    "start_time": "2023-06-17T17:15:50.774Z"
   },
   {
    "duration": 20,
    "start_time": "2023-06-17T17:15:51.114Z"
   },
   {
    "duration": 49,
    "start_time": "2023-06-17T17:15:51.135Z"
   },
   {
    "duration": 29,
    "start_time": "2023-06-17T17:15:51.186Z"
   },
   {
    "duration": 180,
    "start_time": "2023-06-17T17:15:51.217Z"
   },
   {
    "duration": 29,
    "start_time": "2023-06-17T17:15:51.399Z"
   },
   {
    "duration": 54,
    "start_time": "2023-06-17T17:15:51.429Z"
   },
   {
    "duration": 32,
    "start_time": "2023-06-17T17:15:51.484Z"
   },
   {
    "duration": 54,
    "start_time": "2023-06-17T17:15:51.518Z"
   },
   {
    "duration": 29,
    "start_time": "2023-06-17T17:15:51.574Z"
   },
   {
    "duration": 13785,
    "start_time": "2023-06-17T17:15:51.604Z"
   },
   {
    "duration": 22,
    "start_time": "2023-06-17T17:16:05.391Z"
   },
   {
    "duration": 166,
    "start_time": "2023-06-17T17:16:05.415Z"
   },
   {
    "duration": 20,
    "start_time": "2023-06-17T17:16:05.582Z"
   },
   {
    "duration": 72,
    "start_time": "2023-06-17T17:16:05.604Z"
   },
   {
    "duration": 43,
    "start_time": "2023-06-17T17:16:05.679Z"
   },
   {
    "duration": 45,
    "start_time": "2023-06-17T17:16:05.724Z"
   },
   {
    "duration": 29,
    "start_time": "2023-06-17T17:16:05.771Z"
   },
   {
    "duration": 17,
    "start_time": "2023-06-17T17:16:05.802Z"
   },
   {
    "duration": 48,
    "start_time": "2023-06-17T17:16:05.821Z"
   },
   {
    "duration": 205,
    "start_time": "2023-06-17T17:16:05.871Z"
   },
   {
    "duration": 94,
    "start_time": "2023-06-17T17:16:06.077Z"
   },
   {
    "duration": 140,
    "start_time": "2023-06-17T17:16:06.173Z"
   },
   {
    "duration": 16,
    "start_time": "2023-06-17T17:16:06.314Z"
   },
   {
    "duration": 51,
    "start_time": "2023-06-17T17:16:06.332Z"
   },
   {
    "duration": 19,
    "start_time": "2023-06-17T17:16:06.385Z"
   },
   {
    "duration": 46,
    "start_time": "2023-06-17T17:16:06.406Z"
   },
   {
    "duration": 30,
    "start_time": "2023-06-17T17:16:06.461Z"
   },
   {
    "duration": 253,
    "start_time": "2023-06-17T17:16:06.492Z"
   },
   {
    "duration": 41,
    "start_time": "2023-06-17T17:16:06.747Z"
   },
   {
    "duration": 25,
    "start_time": "2023-06-17T17:16:06.790Z"
   },
   {
    "duration": 58,
    "start_time": "2023-06-17T17:16:06.817Z"
   },
   {
    "duration": 34,
    "start_time": "2023-06-17T17:16:06.876Z"
   },
   {
    "duration": 23,
    "start_time": "2023-06-17T17:16:06.912Z"
   },
   {
    "duration": 54,
    "start_time": "2023-06-17T17:16:06.937Z"
   },
   {
    "duration": 198,
    "start_time": "2023-06-17T17:16:06.993Z"
   },
   {
    "duration": 96,
    "start_time": "2023-06-17T17:16:07.192Z"
   },
   {
    "duration": 19,
    "start_time": "2023-06-17T17:16:07.290Z"
   },
   {
    "duration": 197,
    "start_time": "2023-06-17T17:16:07.311Z"
   },
   {
    "duration": 23,
    "start_time": "2023-06-17T17:16:07.510Z"
   },
   {
    "duration": 117,
    "start_time": "2023-06-17T17:16:07.535Z"
   },
   {
    "duration": 252,
    "start_time": "2023-06-17T17:16:07.654Z"
   },
   {
    "duration": 15,
    "start_time": "2023-06-17T17:16:07.908Z"
   },
   {
    "duration": 452,
    "start_time": "2023-06-17T17:16:07.924Z"
   },
   {
    "duration": 5,
    "start_time": "2023-06-17T17:16:08.378Z"
   },
   {
    "duration": 50,
    "start_time": "2023-06-17T17:16:08.385Z"
   },
   {
    "duration": 8,
    "start_time": "2023-06-17T17:16:08.437Z"
   },
   {
    "duration": 34,
    "start_time": "2023-06-17T17:16:08.446Z"
   },
   {
    "duration": 26,
    "start_time": "2023-06-17T17:17:27.677Z"
   },
   {
    "duration": 33,
    "start_time": "2023-06-17T17:17:31.845Z"
   },
   {
    "duration": 51,
    "start_time": "2023-06-17T17:17:38.903Z"
   },
   {
    "duration": 33,
    "start_time": "2023-06-17T17:17:51.862Z"
   },
   {
    "duration": 64,
    "start_time": "2023-06-17T17:17:56.418Z"
   },
   {
    "duration": 47,
    "start_time": "2023-06-17T17:18:20.169Z"
   },
   {
    "duration": 136,
    "start_time": "2023-06-17T17:18:39.567Z"
   },
   {
    "duration": 29,
    "start_time": "2023-06-17T17:18:43.894Z"
   },
   {
    "duration": 86,
    "start_time": "2023-06-17T17:18:58.617Z"
   },
   {
    "duration": 121,
    "start_time": "2023-06-17T17:19:15.819Z"
   },
   {
    "duration": 3,
    "start_time": "2023-06-17T17:19:24.298Z"
   },
   {
    "duration": 889,
    "start_time": "2023-06-17T17:19:24.306Z"
   },
   {
    "duration": 144,
    "start_time": "2023-06-17T17:19:25.198Z"
   },
   {
    "duration": 166,
    "start_time": "2023-06-17T17:19:25.344Z"
   },
   {
    "duration": 113,
    "start_time": "2023-06-17T17:19:25.512Z"
   },
   {
    "duration": 109,
    "start_time": "2023-06-17T17:19:25.627Z"
   },
   {
    "duration": 1120,
    "start_time": "2023-06-17T17:19:25.737Z"
   },
   {
    "duration": 383,
    "start_time": "2023-06-17T17:19:26.858Z"
   },
   {
    "duration": 427,
    "start_time": "2023-06-17T17:19:27.243Z"
   },
   {
    "duration": 29,
    "start_time": "2023-06-17T17:19:27.673Z"
   },
   {
    "duration": 26,
    "start_time": "2023-06-17T17:19:27.705Z"
   },
   {
    "duration": 58,
    "start_time": "2023-06-17T17:19:27.733Z"
   },
   {
    "duration": 177,
    "start_time": "2023-06-17T17:19:27.793Z"
   },
   {
    "duration": 30,
    "start_time": "2023-06-17T17:19:27.972Z"
   },
   {
    "duration": 57,
    "start_time": "2023-06-17T17:19:28.003Z"
   },
   {
    "duration": 37,
    "start_time": "2023-06-17T17:19:28.064Z"
   },
   {
    "duration": 32,
    "start_time": "2023-06-17T17:19:28.103Z"
   },
   {
    "duration": 41,
    "start_time": "2023-06-17T17:19:28.153Z"
   },
   {
    "duration": 13547,
    "start_time": "2023-06-17T17:19:28.195Z"
   },
   {
    "duration": 40,
    "start_time": "2023-06-17T17:19:41.744Z"
   },
   {
    "duration": 157,
    "start_time": "2023-06-17T17:19:41.786Z"
   },
   {
    "duration": 35,
    "start_time": "2023-06-17T17:19:41.944Z"
   },
   {
    "duration": 34,
    "start_time": "2023-06-17T17:19:41.980Z"
   },
   {
    "duration": 22,
    "start_time": "2023-06-17T17:19:42.016Z"
   },
   {
    "duration": 33,
    "start_time": "2023-06-17T17:19:42.055Z"
   },
   {
    "duration": 17,
    "start_time": "2023-06-17T17:19:42.090Z"
   },
   {
    "duration": 16,
    "start_time": "2023-06-17T17:19:42.109Z"
   },
   {
    "duration": 49,
    "start_time": "2023-06-17T17:19:42.127Z"
   },
   {
    "duration": 228,
    "start_time": "2023-06-17T17:19:42.181Z"
   },
   {
    "duration": 111,
    "start_time": "2023-06-17T17:19:42.411Z"
   },
   {
    "duration": 123,
    "start_time": "2023-06-17T17:19:42.524Z"
   },
   {
    "duration": 27,
    "start_time": "2023-06-17T17:19:42.654Z"
   },
   {
    "duration": 26,
    "start_time": "2023-06-17T17:19:42.683Z"
   },
   {
    "duration": 18,
    "start_time": "2023-06-17T17:19:42.711Z"
   },
   {
    "duration": 48,
    "start_time": "2023-06-17T17:19:42.731Z"
   },
   {
    "duration": 20,
    "start_time": "2023-06-17T17:19:42.780Z"
   },
   {
    "duration": 248,
    "start_time": "2023-06-17T17:19:42.801Z"
   },
   {
    "duration": 33,
    "start_time": "2023-06-17T17:19:43.054Z"
   },
   {
    "duration": 28,
    "start_time": "2023-06-17T17:19:43.089Z"
   },
   {
    "duration": 16,
    "start_time": "2023-06-17T17:19:43.119Z"
   },
   {
    "duration": 57,
    "start_time": "2023-06-17T17:19:43.136Z"
   },
   {
    "duration": 29,
    "start_time": "2023-06-17T17:19:43.195Z"
   },
   {
    "duration": 54,
    "start_time": "2023-06-17T17:19:43.225Z"
   },
   {
    "duration": 315,
    "start_time": "2023-06-17T17:19:43.280Z"
   },
   {
    "duration": 88,
    "start_time": "2023-06-17T17:19:43.597Z"
   },
   {
    "duration": 22,
    "start_time": "2023-06-17T17:19:43.687Z"
   },
   {
    "duration": 134,
    "start_time": "2023-06-17T17:19:43.711Z"
   },
   {
    "duration": 32,
    "start_time": "2023-06-17T17:19:43.848Z"
   },
   {
    "duration": 100,
    "start_time": "2023-06-17T17:19:43.882Z"
   },
   {
    "duration": 243,
    "start_time": "2023-06-17T17:19:43.984Z"
   },
   {
    "duration": 25,
    "start_time": "2023-06-17T17:19:44.229Z"
   },
   {
    "duration": 434,
    "start_time": "2023-06-17T17:19:44.257Z"
   },
   {
    "duration": 5,
    "start_time": "2023-06-17T17:19:44.693Z"
   },
   {
    "duration": 56,
    "start_time": "2023-06-17T17:19:44.699Z"
   },
   {
    "duration": 14,
    "start_time": "2023-06-17T17:19:44.758Z"
   },
   {
    "duration": 21,
    "start_time": "2023-06-17T17:19:44.773Z"
   },
   {
    "duration": 39,
    "start_time": "2023-06-17T17:19:56.958Z"
   },
   {
    "duration": 30,
    "start_time": "2023-06-17T17:20:00.571Z"
   },
   {
    "duration": 42,
    "start_time": "2023-06-17T17:20:19.501Z"
   },
   {
    "duration": 119,
    "start_time": "2023-06-17T17:20:45.783Z"
   },
   {
    "duration": 134,
    "start_time": "2023-06-17T17:20:48.815Z"
   },
   {
    "duration": 4,
    "start_time": "2023-06-17T17:20:58.431Z"
   },
   {
    "duration": 3,
    "start_time": "2023-06-17T18:03:12.919Z"
   },
   {
    "duration": 778,
    "start_time": "2023-06-17T18:03:12.926Z"
   },
   {
    "duration": 148,
    "start_time": "2023-06-17T18:03:13.706Z"
   },
   {
    "duration": 153,
    "start_time": "2023-06-17T18:03:13.856Z"
   },
   {
    "duration": 94,
    "start_time": "2023-06-17T18:03:14.011Z"
   },
   {
    "duration": 103,
    "start_time": "2023-06-17T18:03:14.107Z"
   },
   {
    "duration": 1137,
    "start_time": "2023-06-17T18:03:14.212Z"
   },
   {
    "duration": 483,
    "start_time": "2023-06-17T18:03:15.355Z"
   },
   {
    "duration": 353,
    "start_time": "2023-06-17T18:03:15.841Z"
   },
   {
    "duration": 35,
    "start_time": "2023-06-17T18:03:16.196Z"
   },
   {
    "duration": 47,
    "start_time": "2023-06-17T18:03:16.234Z"
   },
   {
    "duration": 38,
    "start_time": "2023-06-17T18:03:16.283Z"
   },
   {
    "duration": 247,
    "start_time": "2023-06-17T18:03:16.323Z"
   },
   {
    "duration": 47,
    "start_time": "2023-06-17T18:03:16.572Z"
   },
   {
    "duration": 77,
    "start_time": "2023-06-17T18:03:16.621Z"
   },
   {
    "duration": 70,
    "start_time": "2023-06-17T18:03:16.700Z"
   },
   {
    "duration": 60,
    "start_time": "2023-06-17T18:03:16.772Z"
   },
   {
    "duration": 58,
    "start_time": "2023-06-17T18:03:16.834Z"
   },
   {
    "duration": 13673,
    "start_time": "2023-06-17T18:03:16.894Z"
   },
   {
    "duration": 23,
    "start_time": "2023-06-17T18:03:30.569Z"
   },
   {
    "duration": 173,
    "start_time": "2023-06-17T18:03:30.594Z"
   },
   {
    "duration": 21,
    "start_time": "2023-06-17T18:03:30.768Z"
   },
   {
    "duration": 57,
    "start_time": "2023-06-17T18:03:30.790Z"
   },
   {
    "duration": 39,
    "start_time": "2023-06-17T18:03:30.849Z"
   },
   {
    "duration": 31,
    "start_time": "2023-06-17T18:03:30.890Z"
   },
   {
    "duration": 45,
    "start_time": "2023-06-17T18:03:30.923Z"
   },
   {
    "duration": 28,
    "start_time": "2023-06-17T18:03:30.970Z"
   },
   {
    "duration": 34,
    "start_time": "2023-06-17T18:03:31.000Z"
   },
   {
    "duration": 213,
    "start_time": "2023-06-17T18:03:31.038Z"
   },
   {
    "duration": 117,
    "start_time": "2023-06-17T18:03:31.254Z"
   },
   {
    "duration": 122,
    "start_time": "2023-06-17T18:03:31.373Z"
   },
   {
    "duration": 16,
    "start_time": "2023-06-17T18:03:31.497Z"
   },
   {
    "duration": 60,
    "start_time": "2023-06-17T18:03:31.515Z"
   },
   {
    "duration": 43,
    "start_time": "2023-06-17T18:03:31.577Z"
   },
   {
    "duration": 44,
    "start_time": "2023-06-17T18:03:31.623Z"
   },
   {
    "duration": 41,
    "start_time": "2023-06-17T18:03:31.669Z"
   },
   {
    "duration": 240,
    "start_time": "2023-06-17T18:03:31.713Z"
   },
   {
    "duration": 30,
    "start_time": "2023-06-17T18:03:31.954Z"
   },
   {
    "duration": 25,
    "start_time": "2023-06-17T18:03:31.985Z"
   },
   {
    "duration": 39,
    "start_time": "2023-06-17T18:03:32.011Z"
   },
   {
    "duration": 39,
    "start_time": "2023-06-17T18:03:32.052Z"
   },
   {
    "duration": 40,
    "start_time": "2023-06-17T18:03:32.093Z"
   },
   {
    "duration": 48,
    "start_time": "2023-06-17T18:03:32.135Z"
   },
   {
    "duration": 204,
    "start_time": "2023-06-17T18:03:32.184Z"
   },
   {
    "duration": 108,
    "start_time": "2023-06-17T18:03:32.393Z"
   },
   {
    "duration": 24,
    "start_time": "2023-06-17T18:03:32.503Z"
   },
   {
    "duration": 144,
    "start_time": "2023-06-17T18:03:32.529Z"
   },
   {
    "duration": 20,
    "start_time": "2023-06-17T18:03:32.675Z"
   },
   {
    "duration": 99,
    "start_time": "2023-06-17T18:03:32.697Z"
   },
   {
    "duration": 211,
    "start_time": "2023-06-17T18:03:32.797Z"
   },
   {
    "duration": 18,
    "start_time": "2023-06-17T18:03:33.010Z"
   },
   {
    "duration": 408,
    "start_time": "2023-06-17T18:03:33.030Z"
   },
   {
    "duration": 6,
    "start_time": "2023-06-17T18:03:33.439Z"
   },
   {
    "duration": 50,
    "start_time": "2023-06-17T18:03:33.454Z"
   },
   {
    "duration": 5,
    "start_time": "2023-06-17T18:03:40.666Z"
   },
   {
    "duration": 3,
    "start_time": "2023-06-17T18:03:57.009Z"
   },
   {
    "duration": 876,
    "start_time": "2023-06-17T18:03:57.040Z"
   },
   {
    "duration": 147,
    "start_time": "2023-06-17T18:03:57.919Z"
   },
   {
    "duration": 140,
    "start_time": "2023-06-17T18:03:58.068Z"
   },
   {
    "duration": 103,
    "start_time": "2023-06-17T18:03:58.210Z"
   },
   {
    "duration": 94,
    "start_time": "2023-06-17T18:03:58.315Z"
   },
   {
    "duration": 1072,
    "start_time": "2023-06-17T18:03:58.410Z"
   },
   {
    "duration": 536,
    "start_time": "2023-06-17T18:03:59.484Z"
   },
   {
    "duration": 376,
    "start_time": "2023-06-17T18:04:00.021Z"
   },
   {
    "duration": 27,
    "start_time": "2023-06-17T18:04:00.398Z"
   },
   {
    "duration": 52,
    "start_time": "2023-06-17T18:04:00.427Z"
   },
   {
    "duration": 56,
    "start_time": "2023-06-17T18:04:00.480Z"
   },
   {
    "duration": 210,
    "start_time": "2023-06-17T18:04:00.538Z"
   },
   {
    "duration": 46,
    "start_time": "2023-06-17T18:04:00.750Z"
   },
   {
    "duration": 71,
    "start_time": "2023-06-17T18:04:00.800Z"
   },
   {
    "duration": 68,
    "start_time": "2023-06-17T18:04:00.873Z"
   },
   {
    "duration": 55,
    "start_time": "2023-06-17T18:04:00.943Z"
   },
   {
    "duration": 86,
    "start_time": "2023-06-17T18:04:01.000Z"
   },
   {
    "duration": 14332,
    "start_time": "2023-06-17T18:04:01.088Z"
   },
   {
    "duration": 37,
    "start_time": "2023-06-17T18:04:15.422Z"
   },
   {
    "duration": 157,
    "start_time": "2023-06-17T18:04:15.461Z"
   },
   {
    "duration": 26,
    "start_time": "2023-06-17T18:04:15.620Z"
   },
   {
    "duration": 63,
    "start_time": "2023-06-17T18:04:15.656Z"
   },
   {
    "duration": 41,
    "start_time": "2023-06-17T18:04:15.721Z"
   },
   {
    "duration": 37,
    "start_time": "2023-06-17T18:04:15.763Z"
   },
   {
    "duration": 42,
    "start_time": "2023-06-17T18:04:15.802Z"
   },
   {
    "duration": 38,
    "start_time": "2023-06-17T18:04:15.846Z"
   },
   {
    "duration": 44,
    "start_time": "2023-06-17T18:04:15.886Z"
   },
   {
    "duration": 289,
    "start_time": "2023-06-17T18:04:15.932Z"
   },
   {
    "duration": 96,
    "start_time": "2023-06-17T18:04:16.223Z"
   },
   {
    "duration": 206,
    "start_time": "2023-06-17T18:04:16.321Z"
   },
   {
    "duration": 29,
    "start_time": "2023-06-17T18:04:16.529Z"
   },
   {
    "duration": 46,
    "start_time": "2023-06-17T18:04:16.560Z"
   },
   {
    "duration": 47,
    "start_time": "2023-06-17T18:04:16.608Z"
   },
   {
    "duration": 34,
    "start_time": "2023-06-17T18:04:16.658Z"
   },
   {
    "duration": 44,
    "start_time": "2023-06-17T18:04:16.694Z"
   },
   {
    "duration": 289,
    "start_time": "2023-06-17T18:04:16.739Z"
   },
   {
    "duration": 49,
    "start_time": "2023-06-17T18:04:17.031Z"
   },
   {
    "duration": 34,
    "start_time": "2023-06-17T18:04:17.082Z"
   },
   {
    "duration": 39,
    "start_time": "2023-06-17T18:04:17.118Z"
   },
   {
    "duration": 48,
    "start_time": "2023-06-17T18:04:17.159Z"
   },
   {
    "duration": 33,
    "start_time": "2023-06-17T18:04:17.212Z"
   },
   {
    "duration": 60,
    "start_time": "2023-06-17T18:04:17.247Z"
   },
   {
    "duration": 238,
    "start_time": "2023-06-17T18:04:17.310Z"
   },
   {
    "duration": 93,
    "start_time": "2023-06-17T18:04:17.550Z"
   },
   {
    "duration": 41,
    "start_time": "2023-06-17T18:04:17.645Z"
   },
   {
    "duration": 211,
    "start_time": "2023-06-17T18:04:17.688Z"
   },
   {
    "duration": 28,
    "start_time": "2023-06-17T18:04:17.902Z"
   },
   {
    "duration": 160,
    "start_time": "2023-06-17T18:04:17.933Z"
   },
   {
    "duration": 254,
    "start_time": "2023-06-17T18:04:18.096Z"
   },
   {
    "duration": 23,
    "start_time": "2023-06-17T18:04:18.359Z"
   },
   {
    "duration": 458,
    "start_time": "2023-06-17T18:04:18.385Z"
   },
   {
    "duration": 17,
    "start_time": "2023-06-17T18:04:18.844Z"
   },
   {
    "duration": 5,
    "start_time": "2023-06-17T18:04:21.971Z"
   },
   {
    "duration": 45,
    "start_time": "2023-06-17T18:04:24.653Z"
   },
   {
    "duration": 5,
    "start_time": "2023-06-17T18:04:26.274Z"
   },
   {
    "duration": 4,
    "start_time": "2023-06-17T18:04:50.724Z"
   },
   {
    "duration": 831,
    "start_time": "2023-06-17T18:04:50.730Z"
   },
   {
    "duration": 135,
    "start_time": "2023-06-17T18:04:51.567Z"
   },
   {
    "duration": 157,
    "start_time": "2023-06-17T18:04:51.703Z"
   },
   {
    "duration": 91,
    "start_time": "2023-06-17T18:04:51.863Z"
   },
   {
    "duration": 85,
    "start_time": "2023-06-17T18:04:51.957Z"
   },
   {
    "duration": 1289,
    "start_time": "2023-06-17T18:04:52.044Z"
   },
   {
    "duration": 463,
    "start_time": "2023-06-17T18:04:53.335Z"
   },
   {
    "duration": 363,
    "start_time": "2023-06-17T18:04:53.800Z"
   },
   {
    "duration": 29,
    "start_time": "2023-06-17T18:04:54.165Z"
   },
   {
    "duration": 29,
    "start_time": "2023-06-17T18:04:54.197Z"
   },
   {
    "duration": 59,
    "start_time": "2023-06-17T18:04:54.228Z"
   },
   {
    "duration": 201,
    "start_time": "2023-06-17T18:04:54.289Z"
   },
   {
    "duration": 30,
    "start_time": "2023-06-17T18:04:54.492Z"
   },
   {
    "duration": 60,
    "start_time": "2023-06-17T18:04:54.524Z"
   },
   {
    "duration": 36,
    "start_time": "2023-06-17T18:04:54.586Z"
   },
   {
    "duration": 59,
    "start_time": "2023-06-17T18:04:54.624Z"
   },
   {
    "duration": 29,
    "start_time": "2023-06-17T18:04:54.685Z"
   },
   {
    "duration": 13997,
    "start_time": "2023-06-17T18:04:54.716Z"
   },
   {
    "duration": 22,
    "start_time": "2023-06-17T18:05:08.715Z"
   },
   {
    "duration": 173,
    "start_time": "2023-06-17T18:05:08.738Z"
   },
   {
    "duration": 20,
    "start_time": "2023-06-17T18:05:08.913Z"
   },
   {
    "duration": 60,
    "start_time": "2023-06-17T18:05:08.935Z"
   },
   {
    "duration": 24,
    "start_time": "2023-06-17T18:05:08.998Z"
   },
   {
    "duration": 43,
    "start_time": "2023-06-17T18:05:09.024Z"
   },
   {
    "duration": 24,
    "start_time": "2023-06-17T18:05:09.069Z"
   },
   {
    "duration": 25,
    "start_time": "2023-06-17T18:05:09.096Z"
   },
   {
    "duration": 58,
    "start_time": "2023-06-17T18:05:09.123Z"
   },
   {
    "duration": 223,
    "start_time": "2023-06-17T18:05:09.185Z"
   },
   {
    "duration": 111,
    "start_time": "2023-06-17T18:05:09.409Z"
   },
   {
    "duration": 134,
    "start_time": "2023-06-17T18:05:09.521Z"
   },
   {
    "duration": 26,
    "start_time": "2023-06-17T18:05:09.657Z"
   },
   {
    "duration": 31,
    "start_time": "2023-06-17T18:05:09.685Z"
   },
   {
    "duration": 19,
    "start_time": "2023-06-17T18:05:09.717Z"
   },
   {
    "duration": 40,
    "start_time": "2023-06-17T18:05:09.737Z"
   },
   {
    "duration": 20,
    "start_time": "2023-06-17T18:05:09.779Z"
   },
   {
    "duration": 236,
    "start_time": "2023-06-17T18:05:09.800Z"
   },
   {
    "duration": 37,
    "start_time": "2023-06-17T18:05:10.038Z"
   },
   {
    "duration": 34,
    "start_time": "2023-06-17T18:05:10.077Z"
   },
   {
    "duration": 45,
    "start_time": "2023-06-17T18:05:10.113Z"
   },
   {
    "duration": 41,
    "start_time": "2023-06-17T18:05:10.160Z"
   },
   {
    "duration": 20,
    "start_time": "2023-06-17T18:05:10.203Z"
   },
   {
    "duration": 63,
    "start_time": "2023-06-17T18:05:10.225Z"
   },
   {
    "duration": 239,
    "start_time": "2023-06-17T18:05:10.290Z"
   },
   {
    "duration": 97,
    "start_time": "2023-06-17T18:05:10.530Z"
   },
   {
    "duration": 43,
    "start_time": "2023-06-17T18:05:10.628Z"
   },
   {
    "duration": 145,
    "start_time": "2023-06-17T18:05:10.674Z"
   },
   {
    "duration": 16,
    "start_time": "2023-06-17T18:05:10.821Z"
   },
   {
    "duration": 103,
    "start_time": "2023-06-17T18:05:10.838Z"
   },
   {
    "duration": 243,
    "start_time": "2023-06-17T18:05:10.954Z"
   },
   {
    "duration": 19,
    "start_time": "2023-06-17T18:05:11.199Z"
   },
   {
    "duration": 585,
    "start_time": "2023-06-17T18:05:11.220Z"
   },
   {
    "duration": 6,
    "start_time": "2023-06-17T18:05:11.807Z"
   },
   {
    "duration": 5,
    "start_time": "2023-06-17T18:05:11.815Z"
   },
   {
    "duration": 60,
    "start_time": "2023-06-17T18:05:18.864Z"
   },
   {
    "duration": 54,
    "start_time": "2023-06-17T18:05:41.693Z"
   },
   {
    "duration": 77,
    "start_time": "2023-06-17T18:06:09.546Z"
   },
   {
    "duration": 39,
    "start_time": "2023-06-17T18:06:13.671Z"
   },
   {
    "duration": 4,
    "start_time": "2023-06-17T18:06:15.506Z"
   },
   {
    "duration": 6,
    "start_time": "2023-06-17T18:06:34.896Z"
   },
   {
    "duration": 45,
    "start_time": "2023-06-17T18:06:50.446Z"
   },
   {
    "duration": 50,
    "start_time": "2023-06-17T18:07:50.523Z"
   },
   {
    "duration": 70,
    "start_time": "2023-06-17T18:13:55.536Z"
   },
   {
    "duration": 46,
    "start_time": "2023-06-17T18:14:06.271Z"
   },
   {
    "duration": 123,
    "start_time": "2023-06-17T18:14:10.887Z"
   },
   {
    "duration": 35,
    "start_time": "2023-06-17T18:14:18.525Z"
   },
   {
    "duration": 4,
    "start_time": "2023-06-17T18:14:20.939Z"
   },
   {
    "duration": 3,
    "start_time": "2023-06-17T18:14:47.460Z"
   },
   {
    "duration": 829,
    "start_time": "2023-06-17T18:14:47.493Z"
   },
   {
    "duration": 142,
    "start_time": "2023-06-17T18:14:48.324Z"
   },
   {
    "duration": 139,
    "start_time": "2023-06-17T18:14:48.468Z"
   },
   {
    "duration": 84,
    "start_time": "2023-06-17T18:14:48.609Z"
   },
   {
    "duration": 84,
    "start_time": "2023-06-17T18:14:48.695Z"
   },
   {
    "duration": 974,
    "start_time": "2023-06-17T18:14:48.780Z"
   },
   {
    "duration": 386,
    "start_time": "2023-06-17T18:14:49.756Z"
   },
   {
    "duration": 329,
    "start_time": "2023-06-17T18:14:50.143Z"
   },
   {
    "duration": 23,
    "start_time": "2023-06-17T18:14:50.474Z"
   },
   {
    "duration": 32,
    "start_time": "2023-06-17T18:14:50.499Z"
   },
   {
    "duration": 42,
    "start_time": "2023-06-17T18:14:50.533Z"
   },
   {
    "duration": 160,
    "start_time": "2023-06-17T18:14:50.577Z"
   },
   {
    "duration": 32,
    "start_time": "2023-06-17T18:14:50.739Z"
   },
   {
    "duration": 35,
    "start_time": "2023-06-17T18:14:50.773Z"
   },
   {
    "duration": 48,
    "start_time": "2023-06-17T18:14:50.809Z"
   },
   {
    "duration": 63,
    "start_time": "2023-06-17T18:14:50.858Z"
   },
   {
    "duration": 51,
    "start_time": "2023-06-17T18:14:50.922Z"
   },
   {
    "duration": 11993,
    "start_time": "2023-06-17T18:14:50.975Z"
   },
   {
    "duration": 21,
    "start_time": "2023-06-17T18:15:02.969Z"
   },
   {
    "duration": 145,
    "start_time": "2023-06-17T18:15:02.992Z"
   },
   {
    "duration": 29,
    "start_time": "2023-06-17T18:15:03.139Z"
   },
   {
    "duration": 36,
    "start_time": "2023-06-17T18:15:03.169Z"
   },
   {
    "duration": 23,
    "start_time": "2023-06-17T18:15:03.207Z"
   },
   {
    "duration": 36,
    "start_time": "2023-06-17T18:15:03.231Z"
   },
   {
    "duration": 18,
    "start_time": "2023-06-17T18:15:03.268Z"
   },
   {
    "duration": 19,
    "start_time": "2023-06-17T18:15:03.288Z"
   },
   {
    "duration": 18,
    "start_time": "2023-06-17T18:15:03.308Z"
   },
   {
    "duration": 202,
    "start_time": "2023-06-17T18:15:03.327Z"
   },
   {
    "duration": 83,
    "start_time": "2023-06-17T18:15:03.531Z"
   },
   {
    "duration": 116,
    "start_time": "2023-06-17T18:15:03.616Z"
   },
   {
    "duration": 24,
    "start_time": "2023-06-17T18:15:03.734Z"
   },
   {
    "duration": 44,
    "start_time": "2023-06-17T18:15:03.759Z"
   },
   {
    "duration": 19,
    "start_time": "2023-06-17T18:15:03.804Z"
   },
   {
    "duration": 21,
    "start_time": "2023-06-17T18:15:03.824Z"
   },
   {
    "duration": 22,
    "start_time": "2023-06-17T18:15:03.847Z"
   },
   {
    "duration": 315,
    "start_time": "2023-06-17T18:15:03.870Z"
   },
   {
    "duration": 37,
    "start_time": "2023-06-17T18:15:04.187Z"
   },
   {
    "duration": 35,
    "start_time": "2023-06-17T18:15:04.225Z"
   },
   {
    "duration": 15,
    "start_time": "2023-06-17T18:15:04.262Z"
   },
   {
    "duration": 24,
    "start_time": "2023-06-17T18:15:04.279Z"
   },
   {
    "duration": 19,
    "start_time": "2023-06-17T18:15:04.307Z"
   },
   {
    "duration": 53,
    "start_time": "2023-06-17T18:15:04.327Z"
   },
   {
    "duration": 193,
    "start_time": "2023-06-17T18:15:04.382Z"
   },
   {
    "duration": 81,
    "start_time": "2023-06-17T18:15:04.577Z"
   },
   {
    "duration": 19,
    "start_time": "2023-06-17T18:15:04.660Z"
   },
   {
    "duration": 135,
    "start_time": "2023-06-17T18:15:04.681Z"
   },
   {
    "duration": 16,
    "start_time": "2023-06-17T18:15:04.818Z"
   },
   {
    "duration": 93,
    "start_time": "2023-06-17T18:15:04.836Z"
   },
   {
    "duration": 225,
    "start_time": "2023-06-17T18:15:04.931Z"
   },
   {
    "duration": 16,
    "start_time": "2023-06-17T18:15:05.157Z"
   },
   {
    "duration": 409,
    "start_time": "2023-06-17T18:15:05.174Z"
   },
   {
    "duration": 5,
    "start_time": "2023-06-17T18:15:05.584Z"
   },
   {
    "duration": 40,
    "start_time": "2023-06-17T18:15:05.590Z"
   },
   {
    "duration": 6,
    "start_time": "2023-06-17T18:15:05.632Z"
   },
   {
    "duration": 4,
    "start_time": "2023-06-17T18:15:36.773Z"
   },
   {
    "duration": 30,
    "start_time": "2023-06-17T18:15:44.174Z"
   },
   {
    "duration": 77,
    "start_time": "2023-06-17T18:18:53.155Z"
   },
   {
    "duration": 53,
    "start_time": "2023-06-17T18:19:02.016Z"
   },
   {
    "duration": 4,
    "start_time": "2023-06-17T18:22:06.415Z"
   },
   {
    "duration": 3,
    "start_time": "2023-06-17T18:22:09.969Z"
   },
   {
    "duration": 36,
    "start_time": "2023-06-17T18:22:17.441Z"
   },
   {
    "duration": 8,
    "start_time": "2023-06-17T18:22:30.632Z"
   },
   {
    "duration": 25,
    "start_time": "2023-06-17T18:22:38.877Z"
   },
   {
    "duration": 26,
    "start_time": "2023-06-17T18:22:41.089Z"
   },
   {
    "duration": 26,
    "start_time": "2023-06-17T18:22:44.840Z"
   },
   {
    "duration": 28,
    "start_time": "2023-06-17T18:22:48.833Z"
   },
   {
    "duration": 27,
    "start_time": "2023-06-17T18:23:33.330Z"
   },
   {
    "duration": 58,
    "start_time": "2023-06-17T18:23:36.233Z"
   },
   {
    "duration": 4,
    "start_time": "2023-06-17T18:23:44.903Z"
   },
   {
    "duration": 29,
    "start_time": "2023-06-17T18:23:46.328Z"
   },
   {
    "duration": 25,
    "start_time": "2023-06-17T18:23:51.202Z"
   },
   {
    "duration": 37,
    "start_time": "2023-06-17T18:23:59.732Z"
   },
   {
    "duration": 39,
    "start_time": "2023-06-17T18:24:36.307Z"
   },
   {
    "duration": 115,
    "start_time": "2023-06-17T18:24:51.762Z"
   },
   {
    "duration": 5,
    "start_time": "2023-06-17T18:24:58.038Z"
   },
   {
    "duration": 41,
    "start_time": "2023-06-17T18:25:01.905Z"
   },
   {
    "duration": 48,
    "start_time": "2023-06-17T18:25:25.352Z"
   },
   {
    "duration": 4,
    "start_time": "2023-06-17T18:27:52.498Z"
   },
   {
    "duration": 711,
    "start_time": "2023-06-17T18:27:52.503Z"
   },
   {
    "duration": 119,
    "start_time": "2023-06-17T18:27:53.215Z"
   },
   {
    "duration": 133,
    "start_time": "2023-06-17T18:27:53.336Z"
   },
   {
    "duration": 99,
    "start_time": "2023-06-17T18:27:53.471Z"
   },
   {
    "duration": 94,
    "start_time": "2023-06-17T18:27:53.572Z"
   },
   {
    "duration": 1086,
    "start_time": "2023-06-17T18:27:53.668Z"
   },
   {
    "duration": 404,
    "start_time": "2023-06-17T18:27:54.756Z"
   },
   {
    "duration": 309,
    "start_time": "2023-06-17T18:27:55.162Z"
   },
   {
    "duration": 18,
    "start_time": "2023-06-17T18:27:55.473Z"
   },
   {
    "duration": 23,
    "start_time": "2023-06-17T18:27:55.492Z"
   },
   {
    "duration": 49,
    "start_time": "2023-06-17T18:27:55.516Z"
   },
   {
    "duration": 264,
    "start_time": "2023-06-17T18:27:55.566Z"
   },
   {
    "duration": 36,
    "start_time": "2023-06-17T18:27:55.832Z"
   },
   {
    "duration": 35,
    "start_time": "2023-06-17T18:27:55.869Z"
   },
   {
    "duration": 43,
    "start_time": "2023-06-17T18:27:55.905Z"
   },
   {
    "duration": 32,
    "start_time": "2023-06-17T18:27:55.950Z"
   },
   {
    "duration": 30,
    "start_time": "2023-06-17T18:27:55.983Z"
   },
   {
    "duration": 12113,
    "start_time": "2023-06-17T18:27:56.014Z"
   },
   {
    "duration": 30,
    "start_time": "2023-06-17T18:28:08.128Z"
   },
   {
    "duration": 141,
    "start_time": "2023-06-17T18:28:08.159Z"
   },
   {
    "duration": 19,
    "start_time": "2023-06-17T18:28:08.302Z"
   },
   {
    "duration": 57,
    "start_time": "2023-06-17T18:28:08.323Z"
   },
   {
    "duration": 32,
    "start_time": "2023-06-17T18:28:08.383Z"
   },
   {
    "duration": 24,
    "start_time": "2023-06-17T18:28:08.417Z"
   },
   {
    "duration": 24,
    "start_time": "2023-06-17T18:28:08.443Z"
   },
   {
    "duration": 19,
    "start_time": "2023-06-17T18:28:08.468Z"
   },
   {
    "duration": 23,
    "start_time": "2023-06-17T18:28:08.488Z"
   },
   {
    "duration": 202,
    "start_time": "2023-06-17T18:28:08.512Z"
   },
   {
    "duration": 111,
    "start_time": "2023-06-17T18:28:08.716Z"
   },
   {
    "duration": 160,
    "start_time": "2023-06-17T18:28:08.829Z"
   },
   {
    "duration": 23,
    "start_time": "2023-06-17T18:28:08.991Z"
   },
   {
    "duration": 47,
    "start_time": "2023-06-17T18:28:09.016Z"
   },
   {
    "duration": 31,
    "start_time": "2023-06-17T18:28:09.065Z"
   },
   {
    "duration": 27,
    "start_time": "2023-06-17T18:28:09.098Z"
   },
   {
    "duration": 38,
    "start_time": "2023-06-17T18:28:09.126Z"
   },
   {
    "duration": 219,
    "start_time": "2023-06-17T18:28:09.166Z"
   },
   {
    "duration": 24,
    "start_time": "2023-06-17T18:28:09.387Z"
   },
   {
    "duration": 30,
    "start_time": "2023-06-17T18:28:09.413Z"
   },
   {
    "duration": 29,
    "start_time": "2023-06-17T18:28:09.445Z"
   },
   {
    "duration": 42,
    "start_time": "2023-06-17T18:28:09.476Z"
   },
   {
    "duration": 45,
    "start_time": "2023-06-17T18:28:09.520Z"
   },
   {
    "duration": 56,
    "start_time": "2023-06-17T18:28:09.567Z"
   },
   {
    "duration": 180,
    "start_time": "2023-06-17T18:28:09.625Z"
   },
   {
    "duration": 80,
    "start_time": "2023-06-17T18:28:09.806Z"
   },
   {
    "duration": 20,
    "start_time": "2023-06-17T18:28:09.888Z"
   },
   {
    "duration": 139,
    "start_time": "2023-06-17T18:28:09.910Z"
   },
   {
    "duration": 19,
    "start_time": "2023-06-17T18:28:10.051Z"
   },
   {
    "duration": 123,
    "start_time": "2023-06-17T18:28:10.072Z"
   },
   {
    "duration": 211,
    "start_time": "2023-06-17T18:28:10.197Z"
   },
   {
    "duration": 15,
    "start_time": "2023-06-17T18:28:10.410Z"
   },
   {
    "duration": 389,
    "start_time": "2023-06-17T18:28:10.427Z"
   },
   {
    "duration": 5,
    "start_time": "2023-06-17T18:28:10.818Z"
   },
   {
    "duration": 46,
    "start_time": "2023-06-17T18:28:10.825Z"
   },
   {
    "duration": 6,
    "start_time": "2023-06-17T18:28:10.873Z"
   },
   {
    "duration": 3,
    "start_time": "2023-06-17T18:30:42.068Z"
   },
   {
    "duration": 31,
    "start_time": "2023-06-17T18:31:20.112Z"
   },
   {
    "duration": 51,
    "start_time": "2023-06-17T18:31:36.471Z"
   },
   {
    "duration": 1578,
    "start_time": "2023-06-17T18:31:40.144Z"
   },
   {
    "duration": 2790,
    "start_time": "2023-06-17T18:31:41.723Z"
   },
   {
    "duration": 119,
    "start_time": "2023-06-17T18:31:44.515Z"
   },
   {
    "duration": 152,
    "start_time": "2023-06-17T18:31:44.636Z"
   },
   {
    "duration": 120,
    "start_time": "2023-06-17T18:31:44.790Z"
   },
   {
    "duration": 115,
    "start_time": "2023-06-17T18:31:44.911Z"
   },
   {
    "duration": 1070,
    "start_time": "2023-06-17T18:31:45.027Z"
   },
   {
    "duration": 396,
    "start_time": "2023-06-17T18:31:46.099Z"
   },
   {
    "duration": 325,
    "start_time": "2023-06-17T18:31:46.498Z"
   },
   {
    "duration": 20,
    "start_time": "2023-06-17T18:31:46.825Z"
   },
   {
    "duration": 22,
    "start_time": "2023-06-17T18:31:46.854Z"
   },
   {
    "duration": 29,
    "start_time": "2023-06-17T18:31:46.878Z"
   },
   {
    "duration": 169,
    "start_time": "2023-06-17T18:31:46.908Z"
   },
   {
    "duration": 30,
    "start_time": "2023-06-17T18:31:47.080Z"
   },
   {
    "duration": 49,
    "start_time": "2023-06-17T18:31:47.112Z"
   },
   {
    "duration": 44,
    "start_time": "2023-06-17T18:31:47.163Z"
   },
   {
    "duration": 47,
    "start_time": "2023-06-17T18:31:47.209Z"
   },
   {
    "duration": 34,
    "start_time": "2023-06-17T18:31:47.258Z"
   },
   {
    "duration": 12296,
    "start_time": "2023-06-17T18:31:47.294Z"
   },
   {
    "duration": 22,
    "start_time": "2023-06-17T18:31:59.592Z"
   },
   {
    "duration": 149,
    "start_time": "2023-06-17T18:31:59.616Z"
   },
   {
    "duration": 19,
    "start_time": "2023-06-17T18:31:59.766Z"
   },
   {
    "duration": 35,
    "start_time": "2023-06-17T18:31:59.787Z"
   },
   {
    "duration": 38,
    "start_time": "2023-06-17T18:31:59.823Z"
   },
   {
    "duration": 26,
    "start_time": "2023-06-17T18:31:59.862Z"
   },
   {
    "duration": 18,
    "start_time": "2023-06-17T18:31:59.889Z"
   },
   {
    "duration": 24,
    "start_time": "2023-06-17T18:31:59.908Z"
   },
   {
    "duration": 30,
    "start_time": "2023-06-17T18:31:59.934Z"
   },
   {
    "duration": 190,
    "start_time": "2023-06-17T18:31:59.966Z"
   },
   {
    "duration": 99,
    "start_time": "2023-06-17T18:32:00.157Z"
   },
   {
    "duration": 130,
    "start_time": "2023-06-17T18:32:00.257Z"
   },
   {
    "duration": 24,
    "start_time": "2023-06-17T18:32:00.389Z"
   },
   {
    "duration": 50,
    "start_time": "2023-06-17T18:32:00.415Z"
   },
   {
    "duration": 41,
    "start_time": "2023-06-17T18:32:00.466Z"
   },
   {
    "duration": 57,
    "start_time": "2023-06-17T18:32:00.508Z"
   },
   {
    "duration": 70,
    "start_time": "2023-06-17T18:32:00.567Z"
   },
   {
    "duration": 239,
    "start_time": "2023-06-17T18:32:00.639Z"
   },
   {
    "duration": 30,
    "start_time": "2023-06-17T18:32:00.879Z"
   },
   {
    "duration": 38,
    "start_time": "2023-06-17T18:32:00.910Z"
   },
   {
    "duration": 29,
    "start_time": "2023-06-17T18:32:00.950Z"
   },
   {
    "duration": 40,
    "start_time": "2023-06-17T18:32:00.984Z"
   },
   {
    "duration": 42,
    "start_time": "2023-06-17T18:32:01.025Z"
   },
   {
    "duration": 56,
    "start_time": "2023-06-17T18:32:01.068Z"
   },
   {
    "duration": 230,
    "start_time": "2023-06-17T18:32:01.125Z"
   },
   {
    "duration": 99,
    "start_time": "2023-06-17T18:32:01.358Z"
   },
   {
    "duration": 25,
    "start_time": "2023-06-17T18:32:01.459Z"
   },
   {
    "duration": 142,
    "start_time": "2023-06-17T18:32:01.485Z"
   },
   {
    "duration": 17,
    "start_time": "2023-06-17T18:32:01.628Z"
   },
   {
    "duration": 104,
    "start_time": "2023-06-17T18:32:01.655Z"
   },
   {
    "duration": 212,
    "start_time": "2023-06-17T18:32:01.760Z"
   },
   {
    "duration": 15,
    "start_time": "2023-06-17T18:32:01.974Z"
   },
   {
    "duration": 415,
    "start_time": "2023-06-17T18:32:01.990Z"
   },
   {
    "duration": 8,
    "start_time": "2023-06-17T18:32:02.407Z"
   },
   {
    "duration": 73,
    "start_time": "2023-06-17T18:32:02.417Z"
   },
   {
    "duration": 7,
    "start_time": "2023-06-17T18:32:02.492Z"
   },
   {
    "duration": 107,
    "start_time": "2023-06-17T18:32:02.500Z"
   },
   {
    "duration": 34,
    "start_time": "2023-06-17T18:32:53.395Z"
   },
   {
    "duration": 38,
    "start_time": "2023-06-17T18:32:57.371Z"
   },
   {
    "duration": 57,
    "start_time": "2023-06-17T18:33:07.908Z"
   },
   {
    "duration": 31,
    "start_time": "2023-06-17T18:33:19.883Z"
   },
   {
    "duration": 46,
    "start_time": "2023-06-17T18:36:02.449Z"
   },
   {
    "duration": 40,
    "start_time": "2023-06-17T18:36:08.121Z"
   },
   {
    "duration": 40,
    "start_time": "2023-06-17T18:36:55.528Z"
   },
   {
    "duration": 45,
    "start_time": "2023-06-17T18:37:13.446Z"
   },
   {
    "duration": 41,
    "start_time": "2023-06-17T18:39:33.704Z"
   },
   {
    "duration": 48,
    "start_time": "2023-06-17T18:40:20.779Z"
   },
   {
    "duration": 27,
    "start_time": "2023-06-17T18:40:26.511Z"
   },
   {
    "duration": 4,
    "start_time": "2023-06-17T18:42:19.176Z"
   },
   {
    "duration": 25,
    "start_time": "2023-06-17T18:43:28.713Z"
   },
   {
    "duration": 34,
    "start_time": "2023-06-17T18:43:43.574Z"
   },
   {
    "duration": 42,
    "start_time": "2023-06-17T18:43:48.250Z"
   },
   {
    "duration": 102,
    "start_time": "2023-06-17T18:44:48.020Z"
   },
   {
    "duration": 26,
    "start_time": "2023-06-17T18:45:03.502Z"
   },
   {
    "duration": 79,
    "start_time": "2023-06-17T18:45:09.271Z"
   },
   {
    "duration": 4,
    "start_time": "2023-06-17T18:45:11.667Z"
   },
   {
    "duration": 35,
    "start_time": "2023-06-17T18:45:14.567Z"
   },
   {
    "duration": 35,
    "start_time": "2023-06-17T18:47:10.481Z"
   },
   {
    "duration": 32,
    "start_time": "2023-06-17T18:47:23.041Z"
   },
   {
    "duration": 13,
    "start_time": "2023-06-17T18:47:41.584Z"
   },
   {
    "duration": 93,
    "start_time": "2023-06-17T18:50:57.831Z"
   },
   {
    "duration": 107,
    "start_time": "2023-06-17T18:51:00.356Z"
   },
   {
    "duration": 86,
    "start_time": "2023-06-17T18:51:06.218Z"
   },
   {
    "duration": 97,
    "start_time": "2023-06-17T18:51:16.934Z"
   },
   {
    "duration": 108,
    "start_time": "2023-06-17T18:51:32.388Z"
   },
   {
    "duration": 92,
    "start_time": "2023-06-17T18:51:41.621Z"
   },
   {
    "duration": 41,
    "start_time": "2023-06-17T18:52:55.072Z"
   },
   {
    "duration": 17,
    "start_time": "2023-06-17T18:53:06.220Z"
   },
   {
    "duration": 20,
    "start_time": "2023-06-17T18:53:15.407Z"
   },
   {
    "duration": 19,
    "start_time": "2023-06-17T18:53:20.882Z"
   },
   {
    "duration": 6,
    "start_time": "2023-06-17T18:54:40.420Z"
   },
   {
    "duration": 99,
    "start_time": "2023-06-17T18:55:22.833Z"
   },
   {
    "duration": 15,
    "start_time": "2023-06-17T18:55:34.167Z"
   },
   {
    "duration": 16,
    "start_time": "2023-06-17T18:55:37.287Z"
   },
   {
    "duration": 13,
    "start_time": "2023-06-17T18:55:39.920Z"
   },
   {
    "duration": 22,
    "start_time": "2023-06-17T18:55:50.549Z"
   },
   {
    "duration": 14,
    "start_time": "2023-06-17T18:56:19.522Z"
   },
   {
    "duration": 24,
    "start_time": "2023-06-17T18:57:04.386Z"
   },
   {
    "duration": 27,
    "start_time": "2023-06-17T18:57:09.210Z"
   },
   {
    "duration": 26,
    "start_time": "2023-06-17T18:57:24.559Z"
   },
   {
    "duration": 23,
    "start_time": "2023-06-17T18:57:40.671Z"
   },
   {
    "duration": 16,
    "start_time": "2023-06-17T18:59:55.337Z"
   },
   {
    "duration": 16,
    "start_time": "2023-06-17T19:00:00.607Z"
   },
   {
    "duration": 14,
    "start_time": "2023-06-17T19:00:27.682Z"
   },
   {
    "duration": 6,
    "start_time": "2023-06-17T19:01:28.838Z"
   },
   {
    "duration": 5,
    "start_time": "2023-06-17T19:03:39.451Z"
   },
   {
    "duration": 73,
    "start_time": "2023-06-17T19:03:50.950Z"
   },
   {
    "duration": 4,
    "start_time": "2023-06-17T19:03:56.590Z"
   },
   {
    "duration": 17,
    "start_time": "2023-06-17T19:18:07.133Z"
   },
   {
    "duration": 360,
    "start_time": "2023-06-17T19:18:25.816Z"
   },
   {
    "duration": 421,
    "start_time": "2023-06-17T19:18:28.924Z"
   },
   {
    "duration": 208,
    "start_time": "2023-06-17T19:19:08.364Z"
   },
   {
    "duration": 322,
    "start_time": "2023-06-17T19:19:19.578Z"
   },
   {
    "duration": 321,
    "start_time": "2023-06-17T19:19:24.083Z"
   },
   {
    "duration": 23,
    "start_time": "2023-06-17T19:21:24.306Z"
   },
   {
    "duration": 29,
    "start_time": "2023-06-17T19:21:34.061Z"
   },
   {
    "duration": 8,
    "start_time": "2023-06-17T19:22:11.980Z"
   },
   {
    "duration": 22,
    "start_time": "2023-06-17T19:22:53.394Z"
   },
   {
    "duration": 8277,
    "start_time": "2023-06-17T19:27:08.636Z"
   },
   {
    "duration": 19,
    "start_time": "2023-06-17T19:27:19.638Z"
   },
   {
    "duration": 10006,
    "start_time": "2023-06-17T19:27:25.309Z"
   },
   {
    "duration": 6,
    "start_time": "2023-06-17T19:27:42.371Z"
   },
   {
    "duration": 691,
    "start_time": "2023-06-17T19:27:55.940Z"
   },
   {
    "duration": 3168,
    "start_time": "2023-06-17T19:27:56.634Z"
   },
   {
    "duration": 232,
    "start_time": "2023-06-17T19:27:59.804Z"
   },
   {
    "duration": 303,
    "start_time": "2023-06-17T19:28:00.039Z"
   },
   {
    "duration": 356,
    "start_time": "2023-06-17T19:28:00.345Z"
   },
   {
    "duration": 122,
    "start_time": "2023-06-17T19:28:00.703Z"
   },
   {
    "duration": 1797,
    "start_time": "2023-06-17T19:28:00.827Z"
   },
   {
    "duration": 575,
    "start_time": "2023-06-17T19:28:02.626Z"
   },
   {
    "duration": 421,
    "start_time": "2023-06-17T19:28:03.204Z"
   },
   {
    "duration": 45,
    "start_time": "2023-06-17T19:28:03.628Z"
   },
   {
    "duration": 56,
    "start_time": "2023-06-17T19:28:03.675Z"
   },
   {
    "duration": 43,
    "start_time": "2023-06-17T19:28:03.733Z"
   },
   {
    "duration": 241,
    "start_time": "2023-06-17T19:28:03.778Z"
   },
   {
    "duration": 50,
    "start_time": "2023-06-17T19:28:04.020Z"
   },
   {
    "duration": 51,
    "start_time": "2023-06-17T19:28:04.072Z"
   },
   {
    "duration": 61,
    "start_time": "2023-06-17T19:28:04.125Z"
   },
   {
    "duration": 38,
    "start_time": "2023-06-17T19:28:04.189Z"
   },
   {
    "duration": 68,
    "start_time": "2023-06-17T19:28:04.228Z"
   },
   {
    "duration": 13653,
    "start_time": "2023-06-17T19:28:04.298Z"
   },
   {
    "duration": 31,
    "start_time": "2023-06-17T19:28:17.954Z"
   },
   {
    "duration": 182,
    "start_time": "2023-06-17T19:28:17.988Z"
   },
   {
    "duration": 23,
    "start_time": "2023-06-17T19:28:18.171Z"
   },
   {
    "duration": 59,
    "start_time": "2023-06-17T19:28:18.196Z"
   },
   {
    "duration": 26,
    "start_time": "2023-06-17T19:28:18.257Z"
   },
   {
    "duration": 37,
    "start_time": "2023-06-17T19:28:18.286Z"
   },
   {
    "duration": 40,
    "start_time": "2023-06-17T19:28:18.325Z"
   },
   {
    "duration": 20,
    "start_time": "2023-06-17T19:28:18.366Z"
   },
   {
    "duration": 27,
    "start_time": "2023-06-17T19:28:18.392Z"
   },
   {
    "duration": 226,
    "start_time": "2023-06-17T19:28:18.423Z"
   },
   {
    "duration": 108,
    "start_time": "2023-06-17T19:28:18.651Z"
   },
   {
    "duration": 204,
    "start_time": "2023-06-17T19:28:18.761Z"
   },
   {
    "duration": 29,
    "start_time": "2023-06-17T19:28:18.967Z"
   },
   {
    "duration": 56,
    "start_time": "2023-06-17T19:28:18.998Z"
   },
   {
    "duration": 33,
    "start_time": "2023-06-17T19:28:19.056Z"
   },
   {
    "duration": 29,
    "start_time": "2023-06-17T19:28:19.091Z"
   },
   {
    "duration": 59,
    "start_time": "2023-06-17T19:28:19.122Z"
   },
   {
    "duration": 214,
    "start_time": "2023-06-17T19:28:19.183Z"
   },
   {
    "duration": 33,
    "start_time": "2023-06-17T19:28:19.399Z"
   },
   {
    "duration": 35,
    "start_time": "2023-06-17T19:28:19.434Z"
   },
   {
    "duration": 19,
    "start_time": "2023-06-17T19:28:19.471Z"
   },
   {
    "duration": 31,
    "start_time": "2023-06-17T19:28:19.492Z"
   },
   {
    "duration": 45,
    "start_time": "2023-06-17T19:28:19.524Z"
   },
   {
    "duration": 37,
    "start_time": "2023-06-17T19:28:19.571Z"
   },
   {
    "duration": 302,
    "start_time": "2023-06-17T19:28:19.610Z"
   },
   {
    "duration": 119,
    "start_time": "2023-06-17T19:28:19.914Z"
   },
   {
    "duration": 117,
    "start_time": "2023-06-17T19:28:20.035Z"
   },
   {
    "duration": 183,
    "start_time": "2023-06-17T19:28:20.155Z"
   },
   {
    "duration": 34,
    "start_time": "2023-06-17T19:28:20.340Z"
   },
   {
    "duration": 133,
    "start_time": "2023-06-17T19:28:20.376Z"
   },
   {
    "duration": 249,
    "start_time": "2023-06-17T19:28:20.512Z"
   },
   {
    "duration": 19,
    "start_time": "2023-06-17T19:28:20.763Z"
   },
   {
    "duration": 535,
    "start_time": "2023-06-17T19:28:20.784Z"
   },
   {
    "duration": 5,
    "start_time": "2023-06-17T19:28:21.321Z"
   },
   {
    "duration": 58,
    "start_time": "2023-06-17T19:28:21.327Z"
   },
   {
    "duration": 9,
    "start_time": "2023-06-17T19:28:21.387Z"
   },
   {
    "duration": 124,
    "start_time": "2023-06-17T19:28:21.397Z"
   },
   {
    "duration": 124,
    "start_time": "2023-06-17T19:28:21.523Z"
   },
   {
    "duration": 36,
    "start_time": "2023-06-17T19:28:21.648Z"
   },
   {
    "duration": 19,
    "start_time": "2023-06-17T19:28:21.686Z"
   },
   {
    "duration": 8,
    "start_time": "2023-06-17T19:28:21.707Z"
   },
   {
    "duration": 107,
    "start_time": "2023-06-17T19:28:21.717Z"
   },
   {
    "duration": 28,
    "start_time": "2023-06-17T19:28:21.826Z"
   },
   {
    "duration": 338,
    "start_time": "2023-06-17T19:28:21.856Z"
   },
   {
    "duration": 17,
    "start_time": "2023-06-17T19:28:22.196Z"
   },
   {
    "duration": 10318,
    "start_time": "2023-06-17T19:28:22.215Z"
   },
   {
    "duration": 6,
    "start_time": "2023-06-17T19:28:32.535Z"
   },
   {
    "duration": 17,
    "start_time": "2023-06-17T19:28:32.555Z"
   },
   {
    "duration": 14,
    "start_time": "2023-06-17T19:29:25.280Z"
   },
   {
    "duration": 46,
    "start_time": "2023-06-17T19:30:05.760Z"
   },
   {
    "duration": 16,
    "start_time": "2023-06-17T19:30:44.133Z"
   },
   {
    "duration": 35,
    "start_time": "2023-06-17T19:31:29.606Z"
   },
   {
    "duration": 29,
    "start_time": "2023-06-17T19:31:53.574Z"
   },
   {
    "duration": 49,
    "start_time": "2023-06-17T19:34:30.344Z"
   },
   {
    "duration": 4,
    "start_time": "2023-06-17T19:34:33.614Z"
   },
   {
    "duration": 5,
    "start_time": "2023-06-17T19:36:23.114Z"
   },
   {
    "duration": 51,
    "start_time": "2023-06-17T19:36:33.027Z"
   },
   {
    "duration": 5,
    "start_time": "2023-06-17T19:36:36.082Z"
   },
   {
    "duration": 389,
    "start_time": "2023-06-17T19:36:49.911Z"
   },
   {
    "duration": 33,
    "start_time": "2023-06-17T19:37:10.183Z"
   },
   {
    "duration": 33,
    "start_time": "2023-06-17T19:37:20.731Z"
   },
   {
    "duration": 45,
    "start_time": "2023-06-17T19:38:38.982Z"
   },
   {
    "duration": 43,
    "start_time": "2023-06-17T19:38:40.502Z"
   },
   {
    "duration": 68,
    "start_time": "2023-06-17T19:47:04.951Z"
   },
   {
    "duration": 41,
    "start_time": "2023-06-17T19:47:09.020Z"
   },
   {
    "duration": 16,
    "start_time": "2023-06-17T19:50:56.355Z"
   },
   {
    "duration": 17,
    "start_time": "2023-06-17T19:51:00.365Z"
   },
   {
    "duration": 14,
    "start_time": "2023-06-17T19:51:11.509Z"
   },
   {
    "duration": 50,
    "start_time": "2023-06-17T19:52:06.044Z"
   },
   {
    "duration": 6,
    "start_time": "2023-06-17T19:52:09.280Z"
   },
   {
    "duration": 622,
    "start_time": "2023-06-17T19:52:27.899Z"
   },
   {
    "duration": 806,
    "start_time": "2023-06-17T19:52:28.523Z"
   },
   {
    "duration": 127,
    "start_time": "2023-06-17T19:52:29.331Z"
   },
   {
    "duration": 135,
    "start_time": "2023-06-17T19:52:29.461Z"
   },
   {
    "duration": 128,
    "start_time": "2023-06-17T19:52:29.599Z"
   },
   {
    "duration": 95,
    "start_time": "2023-06-17T19:52:29.728Z"
   },
   {
    "duration": 1105,
    "start_time": "2023-06-17T19:52:29.824Z"
   },
   {
    "duration": 402,
    "start_time": "2023-06-17T19:52:30.930Z"
   },
   {
    "duration": 316,
    "start_time": "2023-06-17T19:52:31.333Z"
   },
   {
    "duration": 19,
    "start_time": "2023-06-17T19:52:31.653Z"
   },
   {
    "duration": 31,
    "start_time": "2023-06-17T19:52:31.674Z"
   },
   {
    "duration": 49,
    "start_time": "2023-06-17T19:52:31.707Z"
   },
   {
    "duration": 162,
    "start_time": "2023-06-17T19:52:31.758Z"
   },
   {
    "duration": 34,
    "start_time": "2023-06-17T19:52:31.922Z"
   },
   {
    "duration": 36,
    "start_time": "2023-06-17T19:52:31.958Z"
   },
   {
    "duration": 43,
    "start_time": "2023-06-17T19:52:31.995Z"
   },
   {
    "duration": 60,
    "start_time": "2023-06-17T19:52:32.040Z"
   },
   {
    "duration": 39,
    "start_time": "2023-06-17T19:52:32.102Z"
   },
   {
    "duration": 12259,
    "start_time": "2023-06-17T19:52:32.143Z"
   },
   {
    "duration": 30,
    "start_time": "2023-06-17T19:52:44.404Z"
   },
   {
    "duration": 160,
    "start_time": "2023-06-17T19:52:44.436Z"
   },
   {
    "duration": 22,
    "start_time": "2023-06-17T19:52:44.598Z"
   },
   {
    "duration": 43,
    "start_time": "2023-06-17T19:52:44.623Z"
   },
   {
    "duration": 35,
    "start_time": "2023-06-17T19:52:44.668Z"
   },
   {
    "duration": 50,
    "start_time": "2023-06-17T19:52:44.705Z"
   },
   {
    "duration": 20,
    "start_time": "2023-06-17T19:52:44.757Z"
   },
   {
    "duration": 17,
    "start_time": "2023-06-17T19:52:44.779Z"
   },
   {
    "duration": 29,
    "start_time": "2023-06-17T19:52:44.802Z"
   },
   {
    "duration": 222,
    "start_time": "2023-06-17T19:52:44.832Z"
   },
   {
    "duration": 105,
    "start_time": "2023-06-17T19:52:45.055Z"
   },
   {
    "duration": 141,
    "start_time": "2023-06-17T19:52:45.161Z"
   },
   {
    "duration": 17,
    "start_time": "2023-06-17T19:52:45.304Z"
   },
   {
    "duration": 49,
    "start_time": "2023-06-17T19:52:45.322Z"
   },
   {
    "duration": 25,
    "start_time": "2023-06-17T19:52:45.372Z"
   },
   {
    "duration": 20,
    "start_time": "2023-06-17T19:52:45.399Z"
   },
   {
    "duration": 51,
    "start_time": "2023-06-17T19:52:45.421Z"
   },
   {
    "duration": 212,
    "start_time": "2023-06-17T19:52:45.474Z"
   },
   {
    "duration": 29,
    "start_time": "2023-06-17T19:52:45.688Z"
   },
   {
    "duration": 46,
    "start_time": "2023-06-17T19:52:45.719Z"
   },
   {
    "duration": 30,
    "start_time": "2023-06-17T19:52:45.767Z"
   },
   {
    "duration": 58,
    "start_time": "2023-06-17T19:52:45.802Z"
   },
   {
    "duration": 33,
    "start_time": "2023-06-17T19:52:45.863Z"
   },
   {
    "duration": 65,
    "start_time": "2023-06-17T19:52:45.898Z"
   },
   {
    "duration": 248,
    "start_time": "2023-06-17T19:52:45.966Z"
   },
   {
    "duration": 91,
    "start_time": "2023-06-17T19:52:46.216Z"
   },
   {
    "duration": 25,
    "start_time": "2023-06-17T19:52:46.309Z"
   },
   {
    "duration": 212,
    "start_time": "2023-06-17T19:52:46.336Z"
   },
   {
    "duration": 18,
    "start_time": "2023-06-17T19:52:46.549Z"
   },
   {
    "duration": 109,
    "start_time": "2023-06-17T19:52:46.568Z"
   },
   {
    "duration": 227,
    "start_time": "2023-06-17T19:52:46.680Z"
   },
   {
    "duration": 15,
    "start_time": "2023-06-17T19:52:46.909Z"
   },
   {
    "duration": 370,
    "start_time": "2023-06-17T19:52:46.926Z"
   },
   {
    "duration": 5,
    "start_time": "2023-06-17T19:52:47.298Z"
   },
   {
    "duration": 55,
    "start_time": "2023-06-17T19:52:47.305Z"
   },
   {
    "duration": 7,
    "start_time": "2023-06-17T19:52:47.361Z"
   },
   {
    "duration": 126,
    "start_time": "2023-06-17T19:52:47.369Z"
   },
   {
    "duration": 129,
    "start_time": "2023-06-17T19:52:47.497Z"
   },
   {
    "duration": 38,
    "start_time": "2023-06-17T19:52:47.628Z"
   },
   {
    "duration": 15,
    "start_time": "2023-06-17T19:52:47.668Z"
   },
   {
    "duration": 5,
    "start_time": "2023-06-17T19:52:47.684Z"
   },
   {
    "duration": 71,
    "start_time": "2023-06-17T19:52:47.691Z"
   },
   {
    "duration": 16,
    "start_time": "2023-06-17T19:52:47.764Z"
   },
   {
    "duration": 319,
    "start_time": "2023-06-17T19:52:47.782Z"
   },
   {
    "duration": 19,
    "start_time": "2023-06-17T19:52:48.103Z"
   },
   {
    "duration": 9534,
    "start_time": "2023-06-17T19:52:48.124Z"
   },
   {
    "duration": 10,
    "start_time": "2023-06-17T19:52:57.659Z"
   },
   {
    "duration": 14,
    "start_time": "2023-06-17T19:52:57.670Z"
   },
   {
    "duration": 30,
    "start_time": "2023-06-17T19:52:57.685Z"
   },
   {
    "duration": 72,
    "start_time": "2023-06-17T19:52:57.717Z"
   },
   {
    "duration": 42,
    "start_time": "2023-06-17T19:52:57.791Z"
   },
   {
    "duration": 33,
    "start_time": "2023-06-17T19:52:57.836Z"
   },
   {
    "duration": 51,
    "start_time": "2023-06-17T19:52:57.871Z"
   },
   {
    "duration": 50,
    "start_time": "2023-06-17T19:52:57.924Z"
   },
   {
    "duration": 30,
    "start_time": "2023-06-17T19:54:58.271Z"
   },
   {
    "duration": 18,
    "start_time": "2023-06-17T19:55:00.806Z"
   },
   {
    "duration": 102,
    "start_time": "2023-06-17T20:11:27.989Z"
   },
   {
    "duration": 11,
    "start_time": "2023-06-17T20:11:47.911Z"
   },
   {
    "duration": 800,
    "start_time": "2023-06-17T20:12:32.380Z"
   },
   {
    "duration": 614,
    "start_time": "2023-06-17T20:16:44.186Z"
   },
   {
    "duration": 140,
    "start_time": "2023-06-17T20:17:24.603Z"
   },
   {
    "duration": 12,
    "start_time": "2023-06-17T20:17:27.864Z"
   },
   {
    "duration": 52,
    "start_time": "2023-06-17T20:17:34.279Z"
   },
   {
    "duration": 135,
    "start_time": "2023-06-17T20:19:47.991Z"
   },
   {
    "duration": 177,
    "start_time": "2023-06-17T20:19:53.716Z"
   },
   {
    "duration": 184,
    "start_time": "2023-06-17T20:19:56.453Z"
   },
   {
    "duration": 173,
    "start_time": "2023-06-17T20:20:08.573Z"
   },
   {
    "duration": 470,
    "start_time": "2023-06-17T20:32:13.050Z"
   },
   {
    "duration": 610,
    "start_time": "2023-06-17T20:35:25.751Z"
   },
   {
    "duration": 10,
    "start_time": "2023-06-17T20:38:52.078Z"
   },
   {
    "duration": 4,
    "start_time": "2023-06-17T20:39:31.707Z"
   },
   {
    "duration": 3,
    "start_time": "2023-06-17T20:40:39.246Z"
   },
   {
    "duration": 212,
    "start_time": "2023-06-17T20:40:46.840Z"
   },
   {
    "duration": 50,
    "start_time": "2023-06-17T20:42:04.949Z"
   },
   {
    "duration": 1264,
    "start_time": "2023-06-17T22:56:44.985Z"
   },
   {
    "duration": 820,
    "start_time": "2023-06-17T22:56:46.251Z"
   },
   {
    "duration": 135,
    "start_time": "2023-06-17T22:56:47.073Z"
   },
   {
    "duration": 176,
    "start_time": "2023-06-17T22:56:47.210Z"
   },
   {
    "duration": 125,
    "start_time": "2023-06-17T22:56:47.387Z"
   },
   {
    "duration": 99,
    "start_time": "2023-06-17T22:56:47.514Z"
   },
   {
    "duration": 983,
    "start_time": "2023-06-17T22:56:47.615Z"
   },
   {
    "duration": 435,
    "start_time": "2023-06-17T22:56:48.600Z"
   },
   {
    "duration": 313,
    "start_time": "2023-06-17T22:56:49.036Z"
   },
   {
    "duration": 20,
    "start_time": "2023-06-17T22:56:49.353Z"
   },
   {
    "duration": 23,
    "start_time": "2023-06-17T22:56:49.374Z"
   },
   {
    "duration": 28,
    "start_time": "2023-06-17T22:56:49.398Z"
   },
   {
    "duration": 169,
    "start_time": "2023-06-17T22:56:49.428Z"
   },
   {
    "duration": 30,
    "start_time": "2023-06-17T22:56:49.598Z"
   },
   {
    "duration": 46,
    "start_time": "2023-06-17T22:56:49.630Z"
   },
   {
    "duration": 33,
    "start_time": "2023-06-17T22:56:49.677Z"
   },
   {
    "duration": 47,
    "start_time": "2023-06-17T22:56:49.711Z"
   },
   {
    "duration": 38,
    "start_time": "2023-06-17T22:56:49.760Z"
   },
   {
    "duration": 11831,
    "start_time": "2023-06-17T22:56:49.800Z"
   },
   {
    "duration": 31,
    "start_time": "2023-06-17T22:57:01.633Z"
   },
   {
    "duration": 144,
    "start_time": "2023-06-17T22:57:01.665Z"
   },
   {
    "duration": 22,
    "start_time": "2023-06-17T22:57:01.810Z"
   },
   {
    "duration": 51,
    "start_time": "2023-06-17T22:57:01.834Z"
   },
   {
    "duration": 51,
    "start_time": "2023-06-17T22:57:01.887Z"
   },
   {
    "duration": 38,
    "start_time": "2023-06-17T22:57:01.939Z"
   },
   {
    "duration": 38,
    "start_time": "2023-06-17T22:57:01.979Z"
   },
   {
    "duration": 60,
    "start_time": "2023-06-17T22:57:02.019Z"
   },
   {
    "duration": 49,
    "start_time": "2023-06-17T22:57:02.083Z"
   },
   {
    "duration": 228,
    "start_time": "2023-06-17T22:57:02.133Z"
   },
   {
    "duration": 97,
    "start_time": "2023-06-17T22:57:02.362Z"
   },
   {
    "duration": 118,
    "start_time": "2023-06-17T22:57:02.460Z"
   },
   {
    "duration": 16,
    "start_time": "2023-06-17T22:57:02.579Z"
   },
   {
    "duration": 34,
    "start_time": "2023-06-17T22:57:02.596Z"
   },
   {
    "duration": 26,
    "start_time": "2023-06-17T22:57:02.632Z"
   },
   {
    "duration": 20,
    "start_time": "2023-06-17T22:57:02.659Z"
   },
   {
    "duration": 29,
    "start_time": "2023-06-17T22:57:02.681Z"
   },
   {
    "duration": 203,
    "start_time": "2023-06-17T22:57:02.711Z"
   },
   {
    "duration": 27,
    "start_time": "2023-06-17T22:57:02.915Z"
   },
   {
    "duration": 19,
    "start_time": "2023-06-17T22:57:02.954Z"
   },
   {
    "duration": 32,
    "start_time": "2023-06-17T22:57:02.974Z"
   },
   {
    "duration": 28,
    "start_time": "2023-06-17T22:57:03.008Z"
   },
   {
    "duration": 27,
    "start_time": "2023-06-17T22:57:03.037Z"
   },
   {
    "duration": 49,
    "start_time": "2023-06-17T22:57:03.065Z"
   },
   {
    "duration": 176,
    "start_time": "2023-06-17T22:57:03.115Z"
   },
   {
    "duration": 83,
    "start_time": "2023-06-17T22:57:03.293Z"
   },
   {
    "duration": 20,
    "start_time": "2023-06-17T22:57:03.378Z"
   },
   {
    "duration": 134,
    "start_time": "2023-06-17T22:57:03.400Z"
   },
   {
    "duration": 20,
    "start_time": "2023-06-17T22:57:03.536Z"
   },
   {
    "duration": 99,
    "start_time": "2023-06-17T22:57:03.558Z"
   },
   {
    "duration": 203,
    "start_time": "2023-06-17T22:57:03.658Z"
   },
   {
    "duration": 15,
    "start_time": "2023-06-17T22:57:03.863Z"
   },
   {
    "duration": 363,
    "start_time": "2023-06-17T22:57:03.880Z"
   },
   {
    "duration": 5,
    "start_time": "2023-06-17T22:57:04.253Z"
   },
   {
    "duration": 52,
    "start_time": "2023-06-17T22:57:04.260Z"
   },
   {
    "duration": 6,
    "start_time": "2023-06-17T22:57:04.314Z"
   },
   {
    "duration": 95,
    "start_time": "2023-06-17T22:57:04.321Z"
   },
   {
    "duration": 81,
    "start_time": "2023-06-17T22:57:04.418Z"
   },
   {
    "duration": 23,
    "start_time": "2023-06-17T22:57:04.500Z"
   },
   {
    "duration": 13,
    "start_time": "2023-06-17T22:57:04.525Z"
   },
   {
    "duration": 5,
    "start_time": "2023-06-17T22:57:04.554Z"
   },
   {
    "duration": 64,
    "start_time": "2023-06-17T22:57:04.560Z"
   },
   {
    "duration": 17,
    "start_time": "2023-06-17T22:57:04.626Z"
   },
   {
    "duration": 316,
    "start_time": "2023-06-17T22:57:04.645Z"
   },
   {
    "duration": 17,
    "start_time": "2023-06-17T22:57:04.963Z"
   },
   {
    "duration": 9094,
    "start_time": "2023-06-17T22:57:04.982Z"
   },
   {
    "duration": 5,
    "start_time": "2023-06-17T22:57:14.077Z"
   },
   {
    "duration": 29,
    "start_time": "2023-06-17T22:57:14.083Z"
   },
   {
    "duration": 27,
    "start_time": "2023-06-17T22:57:14.113Z"
   },
   {
    "duration": 55,
    "start_time": "2023-06-17T22:57:14.141Z"
   },
   {
    "duration": 43,
    "start_time": "2023-06-17T22:57:14.197Z"
   },
   {
    "duration": 22,
    "start_time": "2023-06-17T22:57:14.242Z"
   },
   {
    "duration": 44,
    "start_time": "2023-06-17T22:57:14.266Z"
   },
   {
    "duration": 25,
    "start_time": "2023-06-17T22:57:14.312Z"
   },
   {
    "duration": 740,
    "start_time": "2023-06-17T22:57:14.353Z"
   },
   {
    "duration": 639,
    "start_time": "2023-06-17T22:57:15.094Z"
   },
   {
    "duration": 200,
    "start_time": "2023-06-17T22:57:15.735Z"
   },
   {
    "duration": 70,
    "start_time": "2023-06-17T22:58:07.829Z"
   },
   {
    "duration": 188,
    "start_time": "2023-06-17T22:58:23.078Z"
   },
   {
    "duration": 1239,
    "start_time": "2023-06-17T23:15:28.089Z"
   },
   {
    "duration": 765,
    "start_time": "2023-06-17T23:15:29.330Z"
   },
   {
    "duration": 136,
    "start_time": "2023-06-17T23:15:30.096Z"
   },
   {
    "duration": 147,
    "start_time": "2023-06-17T23:15:30.233Z"
   },
   {
    "duration": 135,
    "start_time": "2023-06-17T23:15:30.382Z"
   },
   {
    "duration": 101,
    "start_time": "2023-06-17T23:15:30.519Z"
   },
   {
    "duration": 995,
    "start_time": "2023-06-17T23:15:30.621Z"
   },
   {
    "duration": 438,
    "start_time": "2023-06-17T23:15:31.617Z"
   },
   {
    "duration": 307,
    "start_time": "2023-06-17T23:15:32.057Z"
   },
   {
    "duration": 20,
    "start_time": "2023-06-17T23:15:32.365Z"
   },
   {
    "duration": 26,
    "start_time": "2023-06-17T23:15:32.387Z"
   },
   {
    "duration": 54,
    "start_time": "2023-06-17T23:15:32.415Z"
   },
   {
    "duration": 162,
    "start_time": "2023-06-17T23:15:32.471Z"
   },
   {
    "duration": 35,
    "start_time": "2023-06-17T23:15:32.636Z"
   },
   {
    "duration": 35,
    "start_time": "2023-06-17T23:15:32.672Z"
   },
   {
    "duration": 48,
    "start_time": "2023-06-17T23:15:32.708Z"
   },
   {
    "duration": 32,
    "start_time": "2023-06-17T23:15:32.759Z"
   },
   {
    "duration": 35,
    "start_time": "2023-06-17T23:15:32.792Z"
   },
   {
    "duration": 11638,
    "start_time": "2023-06-17T23:15:32.829Z"
   },
   {
    "duration": 24,
    "start_time": "2023-06-17T23:15:44.469Z"
   },
   {
    "duration": 149,
    "start_time": "2023-06-17T23:15:44.495Z"
   },
   {
    "duration": 25,
    "start_time": "2023-06-17T23:15:44.646Z"
   },
   {
    "duration": 35,
    "start_time": "2023-06-17T23:15:44.672Z"
   },
   {
    "duration": 27,
    "start_time": "2023-06-17T23:15:44.709Z"
   },
   {
    "duration": 22,
    "start_time": "2023-06-17T23:15:44.754Z"
   },
   {
    "duration": 19,
    "start_time": "2023-06-17T23:15:44.778Z"
   },
   {
    "duration": 16,
    "start_time": "2023-06-17T23:15:44.798Z"
   },
   {
    "duration": 40,
    "start_time": "2023-06-17T23:15:44.816Z"
   },
   {
    "duration": 199,
    "start_time": "2023-06-17T23:15:44.857Z"
   },
   {
    "duration": 99,
    "start_time": "2023-06-17T23:15:45.058Z"
   },
   {
    "duration": 120,
    "start_time": "2023-06-17T23:15:45.159Z"
   },
   {
    "duration": 16,
    "start_time": "2023-06-17T23:15:45.281Z"
   },
   {
    "duration": 27,
    "start_time": "2023-06-17T23:15:45.299Z"
   },
   {
    "duration": 31,
    "start_time": "2023-06-17T23:15:45.328Z"
   },
   {
    "duration": 16,
    "start_time": "2023-06-17T23:15:45.361Z"
   },
   {
    "duration": 20,
    "start_time": "2023-06-17T23:15:45.378Z"
   },
   {
    "duration": 215,
    "start_time": "2023-06-17T23:15:45.400Z"
   },
   {
    "duration": 37,
    "start_time": "2023-06-17T23:15:45.617Z"
   },
   {
    "duration": 20,
    "start_time": "2023-06-17T23:15:45.655Z"
   },
   {
    "duration": 16,
    "start_time": "2023-06-17T23:15:45.677Z"
   },
   {
    "duration": 29,
    "start_time": "2023-06-17T23:15:45.696Z"
   },
   {
    "duration": 30,
    "start_time": "2023-06-17T23:15:45.727Z"
   },
   {
    "duration": 32,
    "start_time": "2023-06-17T23:15:45.758Z"
   },
   {
    "duration": 186,
    "start_time": "2023-06-17T23:15:45.792Z"
   },
   {
    "duration": 87,
    "start_time": "2023-06-17T23:15:45.979Z"
   },
   {
    "duration": 22,
    "start_time": "2023-06-17T23:15:46.068Z"
   },
   {
    "duration": 132,
    "start_time": "2023-06-17T23:15:46.092Z"
   },
   {
    "duration": 16,
    "start_time": "2023-06-17T23:15:46.226Z"
   },
   {
    "duration": 91,
    "start_time": "2023-06-17T23:15:46.243Z"
   },
   {
    "duration": 244,
    "start_time": "2023-06-17T23:15:46.336Z"
   },
   {
    "duration": 17,
    "start_time": "2023-06-17T23:15:46.581Z"
   },
   {
    "duration": 393,
    "start_time": "2023-06-17T23:15:46.599Z"
   },
   {
    "duration": 5,
    "start_time": "2023-06-17T23:15:46.994Z"
   },
   {
    "duration": 58,
    "start_time": "2023-06-17T23:15:47.001Z"
   },
   {
    "duration": 7,
    "start_time": "2023-06-17T23:15:47.061Z"
   },
   {
    "duration": 104,
    "start_time": "2023-06-17T23:15:47.069Z"
   },
   {
    "duration": 81,
    "start_time": "2023-06-17T23:15:47.175Z"
   },
   {
    "duration": 27,
    "start_time": "2023-06-17T23:15:47.258Z"
   },
   {
    "duration": 17,
    "start_time": "2023-06-17T23:15:47.295Z"
   },
   {
    "duration": 6,
    "start_time": "2023-06-17T23:15:47.314Z"
   },
   {
    "duration": 80,
    "start_time": "2023-06-17T23:15:47.321Z"
   },
   {
    "duration": 18,
    "start_time": "2023-06-17T23:15:47.403Z"
   },
   {
    "duration": 317,
    "start_time": "2023-06-17T23:15:47.422Z"
   },
   {
    "duration": 22,
    "start_time": "2023-06-17T23:15:47.741Z"
   },
   {
    "duration": 9119,
    "start_time": "2023-06-17T23:15:47.765Z"
   },
   {
    "duration": 4,
    "start_time": "2023-06-17T23:15:56.885Z"
   },
   {
    "duration": 14,
    "start_time": "2023-06-17T23:15:56.891Z"
   },
   {
    "duration": 25,
    "start_time": "2023-06-17T23:15:56.907Z"
   },
   {
    "duration": 57,
    "start_time": "2023-06-17T23:15:56.933Z"
   },
   {
    "duration": 42,
    "start_time": "2023-06-17T23:15:56.991Z"
   },
   {
    "duration": 25,
    "start_time": "2023-06-17T23:15:57.035Z"
   },
   {
    "duration": 41,
    "start_time": "2023-06-17T23:15:57.061Z"
   },
   {
    "duration": 25,
    "start_time": "2023-06-17T23:15:57.103Z"
   },
   {
    "duration": 126,
    "start_time": "2023-06-17T23:15:57.129Z"
   },
   {
    "duration": 188,
    "start_time": "2023-06-17T23:17:39.474Z"
   },
   {
    "duration": 118,
    "start_time": "2023-06-17T23:18:04.131Z"
   },
   {
    "duration": 45,
    "start_time": "2023-06-17T23:18:20.983Z"
   },
   {
    "duration": 1234,
    "start_time": "2023-06-17T23:18:28.405Z"
   },
   {
    "duration": 788,
    "start_time": "2023-06-17T23:18:29.641Z"
   },
   {
    "duration": 136,
    "start_time": "2023-06-17T23:18:30.431Z"
   },
   {
    "duration": 146,
    "start_time": "2023-06-17T23:18:30.569Z"
   },
   {
    "duration": 121,
    "start_time": "2023-06-17T23:18:30.717Z"
   },
   {
    "duration": 90,
    "start_time": "2023-06-17T23:18:30.840Z"
   },
   {
    "duration": 1006,
    "start_time": "2023-06-17T23:18:30.931Z"
   },
   {
    "duration": 438,
    "start_time": "2023-06-17T23:18:31.939Z"
   },
   {
    "duration": 322,
    "start_time": "2023-06-17T23:18:32.379Z"
   },
   {
    "duration": 18,
    "start_time": "2023-06-17T23:18:32.703Z"
   },
   {
    "duration": 33,
    "start_time": "2023-06-17T23:18:32.723Z"
   },
   {
    "duration": 29,
    "start_time": "2023-06-17T23:18:32.758Z"
   },
   {
    "duration": 165,
    "start_time": "2023-06-17T23:18:32.789Z"
   },
   {
    "duration": 31,
    "start_time": "2023-06-17T23:18:32.957Z"
   },
   {
    "duration": 33,
    "start_time": "2023-06-17T23:18:32.989Z"
   },
   {
    "duration": 49,
    "start_time": "2023-06-17T23:18:33.024Z"
   },
   {
    "duration": 31,
    "start_time": "2023-06-17T23:18:33.074Z"
   },
   {
    "duration": 29,
    "start_time": "2023-06-17T23:18:33.107Z"
   },
   {
    "duration": 11693,
    "start_time": "2023-06-17T23:18:33.137Z"
   },
   {
    "duration": 27,
    "start_time": "2023-06-17T23:18:44.832Z"
   },
   {
    "duration": 141,
    "start_time": "2023-06-17T23:18:44.860Z"
   },
   {
    "duration": 22,
    "start_time": "2023-06-17T23:18:45.003Z"
   },
   {
    "duration": 49,
    "start_time": "2023-06-17T23:18:45.026Z"
   },
   {
    "duration": 43,
    "start_time": "2023-06-17T23:18:45.076Z"
   },
   {
    "duration": 23,
    "start_time": "2023-06-17T23:18:45.121Z"
   },
   {
    "duration": 34,
    "start_time": "2023-06-17T23:18:45.146Z"
   },
   {
    "duration": 24,
    "start_time": "2023-06-17T23:18:45.181Z"
   },
   {
    "duration": 35,
    "start_time": "2023-06-17T23:18:45.207Z"
   },
   {
    "duration": 186,
    "start_time": "2023-06-17T23:18:45.243Z"
   },
   {
    "duration": 94,
    "start_time": "2023-06-17T23:18:45.430Z"
   },
   {
    "duration": 128,
    "start_time": "2023-06-17T23:18:45.526Z"
   },
   {
    "duration": 16,
    "start_time": "2023-06-17T23:18:45.655Z"
   },
   {
    "duration": 38,
    "start_time": "2023-06-17T23:18:45.672Z"
   },
   {
    "duration": 18,
    "start_time": "2023-06-17T23:18:45.711Z"
   },
   {
    "duration": 23,
    "start_time": "2023-06-17T23:18:45.730Z"
   },
   {
    "duration": 26,
    "start_time": "2023-06-17T23:18:45.754Z"
   },
   {
    "duration": 207,
    "start_time": "2023-06-17T23:18:45.781Z"
   },
   {
    "duration": 27,
    "start_time": "2023-06-17T23:18:45.989Z"
   },
   {
    "duration": 21,
    "start_time": "2023-06-17T23:18:46.018Z"
   },
   {
    "duration": 16,
    "start_time": "2023-06-17T23:18:46.053Z"
   },
   {
    "duration": 34,
    "start_time": "2023-06-17T23:18:46.073Z"
   },
   {
    "duration": 29,
    "start_time": "2023-06-17T23:18:46.109Z"
   },
   {
    "duration": 33,
    "start_time": "2023-06-17T23:18:46.140Z"
   },
   {
    "duration": 183,
    "start_time": "2023-06-17T23:18:46.175Z"
   },
   {
    "duration": 80,
    "start_time": "2023-06-17T23:18:46.359Z"
   },
   {
    "duration": 31,
    "start_time": "2023-06-17T23:18:46.441Z"
   },
   {
    "duration": 139,
    "start_time": "2023-06-17T23:18:46.473Z"
   },
   {
    "duration": 15,
    "start_time": "2023-06-17T23:18:46.614Z"
   },
   {
    "duration": 116,
    "start_time": "2023-06-17T23:18:46.631Z"
   },
   {
    "duration": 200,
    "start_time": "2023-06-17T23:18:46.749Z"
   },
   {
    "duration": 15,
    "start_time": "2023-06-17T23:18:46.953Z"
   },
   {
    "duration": 346,
    "start_time": "2023-06-17T23:18:46.970Z"
   },
   {
    "duration": 4,
    "start_time": "2023-06-17T23:18:47.318Z"
   },
   {
    "duration": 57,
    "start_time": "2023-06-17T23:18:47.324Z"
   },
   {
    "duration": 6,
    "start_time": "2023-06-17T23:18:47.384Z"
   },
   {
    "duration": 113,
    "start_time": "2023-06-17T23:18:47.392Z"
   },
   {
    "duration": 80,
    "start_time": "2023-06-17T23:18:47.506Z"
   },
   {
    "duration": 23,
    "start_time": "2023-06-17T23:18:47.587Z"
   },
   {
    "duration": 15,
    "start_time": "2023-06-17T23:18:47.612Z"
   },
   {
    "duration": 20,
    "start_time": "2023-06-17T23:18:47.628Z"
   },
   {
    "duration": 64,
    "start_time": "2023-06-17T23:18:47.649Z"
   },
   {
    "duration": 17,
    "start_time": "2023-06-17T23:18:47.715Z"
   },
   {
    "duration": 313,
    "start_time": "2023-06-17T23:18:47.733Z"
   },
   {
    "duration": 23,
    "start_time": "2023-06-17T23:18:48.047Z"
   },
   {
    "duration": 8798,
    "start_time": "2023-06-17T23:18:48.071Z"
   },
   {
    "duration": 5,
    "start_time": "2023-06-17T23:18:56.870Z"
   },
   {
    "duration": 20,
    "start_time": "2023-06-17T23:18:56.876Z"
   },
   {
    "duration": 32,
    "start_time": "2023-06-17T23:18:56.897Z"
   },
   {
    "duration": 58,
    "start_time": "2023-06-17T23:18:56.930Z"
   },
   {
    "duration": 43,
    "start_time": "2023-06-17T23:18:56.990Z"
   },
   {
    "duration": 21,
    "start_time": "2023-06-17T23:18:57.034Z"
   },
   {
    "duration": 44,
    "start_time": "2023-06-17T23:18:57.057Z"
   },
   {
    "duration": 24,
    "start_time": "2023-06-17T23:18:57.103Z"
   },
   {
    "duration": 116,
    "start_time": "2023-06-17T23:18:57.129Z"
   },
   {
    "duration": 164,
    "start_time": "2023-06-17T23:18:57.247Z"
   },
   {
    "duration": 188,
    "start_time": "2023-06-17T23:19:08.284Z"
   },
   {
    "duration": 3,
    "start_time": "2023-06-17T23:21:06.719Z"
   },
   {
    "duration": 175,
    "start_time": "2023-06-17T23:22:46.761Z"
   },
   {
    "duration": 171,
    "start_time": "2023-06-17T23:22:59.297Z"
   },
   {
    "duration": 178,
    "start_time": "2023-06-17T23:23:03.148Z"
   },
   {
    "duration": 19,
    "start_time": "2023-06-17T23:24:29.891Z"
   },
   {
    "duration": 12,
    "start_time": "2023-06-17T23:24:34.748Z"
   },
   {
    "duration": 21,
    "start_time": "2023-06-17T23:27:00.312Z"
   },
   {
    "duration": 2565,
    "start_time": "2023-06-17T23:27:49.787Z"
   },
   {
    "duration": 22,
    "start_time": "2023-06-17T23:27:58.165Z"
   },
   {
    "duration": 18,
    "start_time": "2023-06-17T23:30:12.832Z"
   },
   {
    "duration": 1250,
    "start_time": "2023-06-17T23:31:09.572Z"
   },
   {
    "duration": 763,
    "start_time": "2023-06-17T23:31:10.824Z"
   },
   {
    "duration": 132,
    "start_time": "2023-06-17T23:31:11.589Z"
   },
   {
    "duration": 144,
    "start_time": "2023-06-17T23:31:11.723Z"
   },
   {
    "duration": 124,
    "start_time": "2023-06-17T23:31:11.869Z"
   },
   {
    "duration": 93,
    "start_time": "2023-06-17T23:31:11.995Z"
   },
   {
    "duration": 981,
    "start_time": "2023-06-17T23:31:12.089Z"
   },
   {
    "duration": 424,
    "start_time": "2023-06-17T23:31:13.072Z"
   },
   {
    "duration": 311,
    "start_time": "2023-06-17T23:31:13.498Z"
   },
   {
    "duration": 18,
    "start_time": "2023-06-17T23:31:13.812Z"
   },
   {
    "duration": 36,
    "start_time": "2023-06-17T23:31:13.832Z"
   },
   {
    "duration": 30,
    "start_time": "2023-06-17T23:31:13.870Z"
   },
   {
    "duration": 165,
    "start_time": "2023-06-17T23:31:13.901Z"
   },
   {
    "duration": 30,
    "start_time": "2023-06-17T23:31:14.068Z"
   },
   {
    "duration": 35,
    "start_time": "2023-06-17T23:31:14.100Z"
   },
   {
    "duration": 33,
    "start_time": "2023-06-17T23:31:14.155Z"
   },
   {
    "duration": 32,
    "start_time": "2023-06-17T23:31:14.190Z"
   },
   {
    "duration": 48,
    "start_time": "2023-06-17T23:31:14.223Z"
   },
   {
    "duration": 11771,
    "start_time": "2023-06-17T23:31:14.273Z"
   },
   {
    "duration": 27,
    "start_time": "2023-06-17T23:31:26.046Z"
   },
   {
    "duration": 152,
    "start_time": "2023-06-17T23:31:26.074Z"
   },
   {
    "duration": 28,
    "start_time": "2023-06-17T23:31:26.227Z"
   },
   {
    "duration": 35,
    "start_time": "2023-06-17T23:31:26.256Z"
   },
   {
    "duration": 24,
    "start_time": "2023-06-17T23:31:26.293Z"
   },
   {
    "duration": 42,
    "start_time": "2023-06-17T23:31:26.318Z"
   },
   {
    "duration": 19,
    "start_time": "2023-06-17T23:31:26.362Z"
   },
   {
    "duration": 19,
    "start_time": "2023-06-17T23:31:26.383Z"
   },
   {
    "duration": 19,
    "start_time": "2023-06-17T23:31:26.406Z"
   },
   {
    "duration": 223,
    "start_time": "2023-06-17T23:31:26.426Z"
   },
   {
    "duration": 108,
    "start_time": "2023-06-17T23:31:26.653Z"
   },
   {
    "duration": 118,
    "start_time": "2023-06-17T23:31:26.763Z"
   },
   {
    "duration": 15,
    "start_time": "2023-06-17T23:31:26.882Z"
   },
   {
    "duration": 51,
    "start_time": "2023-06-17T23:31:26.899Z"
   },
   {
    "duration": 23,
    "start_time": "2023-06-17T23:31:26.952Z"
   },
   {
    "duration": 24,
    "start_time": "2023-06-17T23:31:26.976Z"
   },
   {
    "duration": 27,
    "start_time": "2023-06-17T23:31:27.001Z"
   },
   {
    "duration": 233,
    "start_time": "2023-06-17T23:31:27.030Z"
   },
   {
    "duration": 33,
    "start_time": "2023-06-17T23:31:27.265Z"
   },
   {
    "duration": 23,
    "start_time": "2023-06-17T23:31:27.301Z"
   },
   {
    "duration": 38,
    "start_time": "2023-06-17T23:31:27.327Z"
   },
   {
    "duration": 35,
    "start_time": "2023-06-17T23:31:27.367Z"
   },
   {
    "duration": 18,
    "start_time": "2023-06-17T23:31:27.404Z"
   },
   {
    "duration": 41,
    "start_time": "2023-06-17T23:31:27.423Z"
   },
   {
    "duration": 185,
    "start_time": "2023-06-17T23:31:27.465Z"
   },
   {
    "duration": 77,
    "start_time": "2023-06-17T23:31:27.653Z"
   },
   {
    "duration": 33,
    "start_time": "2023-06-17T23:31:27.731Z"
   },
   {
    "duration": 123,
    "start_time": "2023-06-17T23:31:27.765Z"
   },
   {
    "duration": 16,
    "start_time": "2023-06-17T23:31:27.889Z"
   },
   {
    "duration": 96,
    "start_time": "2023-06-17T23:31:27.906Z"
   },
   {
    "duration": 200,
    "start_time": "2023-06-17T23:31:28.004Z"
   },
   {
    "duration": 15,
    "start_time": "2023-06-17T23:31:28.206Z"
   },
   {
    "duration": 384,
    "start_time": "2023-06-17T23:31:28.223Z"
   },
   {
    "duration": 5,
    "start_time": "2023-06-17T23:31:28.609Z"
   },
   {
    "duration": 57,
    "start_time": "2023-06-17T23:31:28.615Z"
   },
   {
    "duration": 6,
    "start_time": "2023-06-17T23:31:28.674Z"
   },
   {
    "duration": 96,
    "start_time": "2023-06-17T23:31:28.682Z"
   },
   {
    "duration": 79,
    "start_time": "2023-06-17T23:31:28.780Z"
   },
   {
    "duration": 25,
    "start_time": "2023-06-17T23:31:28.860Z"
   },
   {
    "duration": 14,
    "start_time": "2023-06-17T23:31:28.887Z"
   },
   {
    "duration": 5,
    "start_time": "2023-06-17T23:31:28.903Z"
   },
   {
    "duration": 79,
    "start_time": "2023-06-17T23:31:28.909Z"
   },
   {
    "duration": 16,
    "start_time": "2023-06-17T23:31:28.990Z"
   },
   {
    "duration": 317,
    "start_time": "2023-06-17T23:31:29.008Z"
   },
   {
    "duration": 16,
    "start_time": "2023-06-17T23:31:29.327Z"
   },
   {
    "duration": 9118,
    "start_time": "2023-06-17T23:31:29.344Z"
   },
   {
    "duration": 5,
    "start_time": "2023-06-17T23:31:38.463Z"
   },
   {
    "duration": 11,
    "start_time": "2023-06-17T23:31:38.470Z"
   },
   {
    "duration": 27,
    "start_time": "2023-06-17T23:31:38.482Z"
   },
   {
    "duration": 64,
    "start_time": "2023-06-17T23:31:38.510Z"
   },
   {
    "duration": 41,
    "start_time": "2023-06-17T23:31:38.575Z"
   },
   {
    "duration": 13,
    "start_time": "2023-06-17T23:31:38.618Z"
   },
   {
    "duration": 53,
    "start_time": "2023-06-17T23:31:38.632Z"
   },
   {
    "duration": 25,
    "start_time": "2023-06-17T23:31:38.686Z"
   },
   {
    "duration": 119,
    "start_time": "2023-06-17T23:31:38.712Z"
   },
   {
    "duration": 193,
    "start_time": "2023-06-17T23:31:38.833Z"
   },
   {
    "duration": 4632,
    "start_time": "2023-06-17T23:31:39.027Z"
   },
   {
    "duration": 15,
    "start_time": "2023-06-17T23:32:11.154Z"
   },
   {
    "duration": 1292,
    "start_time": "2023-06-17T23:32:26.558Z"
   },
   {
    "duration": 803,
    "start_time": "2023-06-17T23:32:27.852Z"
   },
   {
    "duration": 135,
    "start_time": "2023-06-17T23:32:28.657Z"
   },
   {
    "duration": 144,
    "start_time": "2023-06-17T23:32:28.793Z"
   },
   {
    "duration": 126,
    "start_time": "2023-06-17T23:32:28.939Z"
   },
   {
    "duration": 90,
    "start_time": "2023-06-17T23:32:29.067Z"
   },
   {
    "duration": 1006,
    "start_time": "2023-06-17T23:32:29.158Z"
   },
   {
    "duration": 461,
    "start_time": "2023-06-17T23:32:30.166Z"
   },
   {
    "duration": 325,
    "start_time": "2023-06-17T23:32:30.629Z"
   },
   {
    "duration": 20,
    "start_time": "2023-06-17T23:32:30.955Z"
   },
   {
    "duration": 54,
    "start_time": "2023-06-17T23:32:30.977Z"
   },
   {
    "duration": 46,
    "start_time": "2023-06-17T23:32:31.032Z"
   },
   {
    "duration": 162,
    "start_time": "2023-06-17T23:32:31.080Z"
   },
   {
    "duration": 30,
    "start_time": "2023-06-17T23:32:31.246Z"
   },
   {
    "duration": 51,
    "start_time": "2023-06-17T23:32:31.278Z"
   },
   {
    "duration": 43,
    "start_time": "2023-06-17T23:32:31.331Z"
   },
   {
    "duration": 48,
    "start_time": "2023-06-17T23:32:31.376Z"
   },
   {
    "duration": 57,
    "start_time": "2023-06-17T23:32:31.426Z"
   },
   {
    "duration": 11723,
    "start_time": "2023-06-17T23:32:31.485Z"
   },
   {
    "duration": 22,
    "start_time": "2023-06-17T23:32:43.210Z"
   },
   {
    "duration": 142,
    "start_time": "2023-06-17T23:32:43.233Z"
   },
   {
    "duration": 20,
    "start_time": "2023-06-17T23:32:43.377Z"
   },
   {
    "duration": 33,
    "start_time": "2023-06-17T23:32:43.398Z"
   },
   {
    "duration": 38,
    "start_time": "2023-06-17T23:32:43.433Z"
   },
   {
    "duration": 20,
    "start_time": "2023-06-17T23:32:43.472Z"
   },
   {
    "duration": 17,
    "start_time": "2023-06-17T23:32:43.493Z"
   },
   {
    "duration": 14,
    "start_time": "2023-06-17T23:32:43.512Z"
   },
   {
    "duration": 42,
    "start_time": "2023-06-17T23:32:43.528Z"
   },
   {
    "duration": 193,
    "start_time": "2023-06-17T23:32:43.572Z"
   },
   {
    "duration": 97,
    "start_time": "2023-06-17T23:32:43.766Z"
   },
   {
    "duration": 118,
    "start_time": "2023-06-17T23:32:43.865Z"
   },
   {
    "duration": 15,
    "start_time": "2023-06-17T23:32:43.985Z"
   },
   {
    "duration": 26,
    "start_time": "2023-06-17T23:32:44.001Z"
   },
   {
    "duration": 30,
    "start_time": "2023-06-17T23:32:44.029Z"
   },
   {
    "duration": 14,
    "start_time": "2023-06-17T23:32:44.061Z"
   },
   {
    "duration": 20,
    "start_time": "2023-06-17T23:32:44.076Z"
   },
   {
    "duration": 217,
    "start_time": "2023-06-17T23:32:44.097Z"
   },
   {
    "duration": 26,
    "start_time": "2023-06-17T23:32:44.315Z"
   },
   {
    "duration": 19,
    "start_time": "2023-06-17T23:32:44.353Z"
   },
   {
    "duration": 16,
    "start_time": "2023-06-17T23:32:44.373Z"
   },
   {
    "duration": 24,
    "start_time": "2023-06-17T23:32:44.394Z"
   },
   {
    "duration": 38,
    "start_time": "2023-06-17T23:32:44.420Z"
   },
   {
    "duration": 32,
    "start_time": "2023-06-17T23:32:44.460Z"
   },
   {
    "duration": 189,
    "start_time": "2023-06-17T23:32:44.494Z"
   },
   {
    "duration": 86,
    "start_time": "2023-06-17T23:32:44.685Z"
   },
   {
    "duration": 22,
    "start_time": "2023-06-17T23:32:44.773Z"
   },
   {
    "duration": 131,
    "start_time": "2023-06-17T23:32:44.796Z"
   },
   {
    "duration": 16,
    "start_time": "2023-06-17T23:32:44.928Z"
   },
   {
    "duration": 85,
    "start_time": "2023-06-17T23:32:44.954Z"
   },
   {
    "duration": 219,
    "start_time": "2023-06-17T23:32:45.041Z"
   },
   {
    "duration": 15,
    "start_time": "2023-06-17T23:32:45.261Z"
   },
   {
    "duration": 349,
    "start_time": "2023-06-17T23:32:45.278Z"
   },
   {
    "duration": 5,
    "start_time": "2023-06-17T23:32:45.628Z"
   },
   {
    "duration": 56,
    "start_time": "2023-06-17T23:32:45.635Z"
   },
   {
    "duration": 7,
    "start_time": "2023-06-17T23:32:45.693Z"
   },
   {
    "duration": 94,
    "start_time": "2023-06-17T23:32:45.701Z"
   },
   {
    "duration": 81,
    "start_time": "2023-06-17T23:32:45.796Z"
   },
   {
    "duration": 23,
    "start_time": "2023-06-17T23:32:45.878Z"
   },
   {
    "duration": 11,
    "start_time": "2023-06-17T23:32:45.902Z"
   },
   {
    "duration": 5,
    "start_time": "2023-06-17T23:32:45.915Z"
   },
   {
    "duration": 74,
    "start_time": "2023-06-17T23:32:45.921Z"
   },
   {
    "duration": 16,
    "start_time": "2023-06-17T23:32:45.997Z"
   },
   {
    "duration": 319,
    "start_time": "2023-06-17T23:32:46.014Z"
   },
   {
    "duration": 21,
    "start_time": "2023-06-17T23:32:46.334Z"
   },
   {
    "duration": 8883,
    "start_time": "2023-06-17T23:32:46.357Z"
   },
   {
    "duration": 5,
    "start_time": "2023-06-17T23:32:55.242Z"
   },
   {
    "duration": 14,
    "start_time": "2023-06-17T23:32:55.253Z"
   },
   {
    "duration": 26,
    "start_time": "2023-06-17T23:32:55.268Z"
   },
   {
    "duration": 61,
    "start_time": "2023-06-17T23:32:55.296Z"
   },
   {
    "duration": 43,
    "start_time": "2023-06-17T23:32:55.359Z"
   },
   {
    "duration": 14,
    "start_time": "2023-06-17T23:32:55.404Z"
   },
   {
    "duration": 66,
    "start_time": "2023-06-17T23:32:55.419Z"
   },
   {
    "duration": 26,
    "start_time": "2023-06-17T23:32:55.486Z"
   },
   {
    "duration": 121,
    "start_time": "2023-06-17T23:32:55.513Z"
   },
   {
    "duration": 196,
    "start_time": "2023-06-17T23:32:55.636Z"
   },
   {
    "duration": 5522,
    "start_time": "2023-06-17T23:32:55.833Z"
   },
   {
    "duration": 48,
    "start_time": "2023-06-17T23:33:13.893Z"
   },
   {
    "duration": 108,
    "start_time": "2023-06-17T23:33:17.729Z"
   },
   {
    "duration": 49,
    "start_time": "2023-06-17T23:33:21.356Z"
   },
   {
    "duration": 42,
    "start_time": "2023-06-17T23:42:14.350Z"
   },
   {
    "duration": 17345,
    "start_time": "2023-06-17T23:45:36.223Z"
   },
   {
    "duration": 40,
    "start_time": "2023-06-17T23:46:13.999Z"
   },
   {
    "duration": 79,
    "start_time": "2023-06-17T23:46:20.738Z"
   },
   {
    "duration": 169,
    "start_time": "2023-06-17T23:46:24.979Z"
   },
   {
    "duration": 118,
    "start_time": "2023-06-17T23:46:34.025Z"
   },
   {
    "duration": 1347,
    "start_time": "2023-06-17T23:48:26.384Z"
   },
   {
    "duration": 797,
    "start_time": "2023-06-17T23:48:27.732Z"
   },
   {
    "duration": 136,
    "start_time": "2023-06-17T23:48:28.531Z"
   },
   {
    "duration": 145,
    "start_time": "2023-06-17T23:48:28.669Z"
   },
   {
    "duration": 123,
    "start_time": "2023-06-17T23:48:28.816Z"
   },
   {
    "duration": 92,
    "start_time": "2023-06-17T23:48:28.941Z"
   },
   {
    "duration": 1060,
    "start_time": "2023-06-17T23:48:29.035Z"
   },
   {
    "duration": 390,
    "start_time": "2023-06-17T23:48:30.097Z"
   },
   {
    "duration": 308,
    "start_time": "2023-06-17T23:48:30.488Z"
   },
   {
    "duration": 19,
    "start_time": "2023-06-17T23:48:30.799Z"
   },
   {
    "duration": 56,
    "start_time": "2023-06-17T23:48:30.820Z"
   },
   {
    "duration": 52,
    "start_time": "2023-06-17T23:48:30.878Z"
   },
   {
    "duration": 170,
    "start_time": "2023-06-17T23:48:30.932Z"
   },
   {
    "duration": 31,
    "start_time": "2023-06-17T23:48:31.104Z"
   },
   {
    "duration": 56,
    "start_time": "2023-06-17T23:48:31.137Z"
   },
   {
    "duration": 44,
    "start_time": "2023-06-17T23:48:31.195Z"
   },
   {
    "duration": 47,
    "start_time": "2023-06-17T23:48:31.241Z"
   },
   {
    "duration": 42,
    "start_time": "2023-06-17T23:48:31.290Z"
   },
   {
    "duration": 11633,
    "start_time": "2023-06-17T23:48:31.334Z"
   },
   {
    "duration": 23,
    "start_time": "2023-06-17T23:48:42.969Z"
   },
   {
    "duration": 148,
    "start_time": "2023-06-17T23:48:42.993Z"
   },
   {
    "duration": 25,
    "start_time": "2023-06-17T23:48:43.143Z"
   },
   {
    "duration": 37,
    "start_time": "2023-06-17T23:48:43.170Z"
   },
   {
    "duration": 23,
    "start_time": "2023-06-17T23:48:43.208Z"
   },
   {
    "duration": 38,
    "start_time": "2023-06-17T23:48:43.232Z"
   },
   {
    "duration": 19,
    "start_time": "2023-06-17T23:48:43.272Z"
   },
   {
    "duration": 15,
    "start_time": "2023-06-17T23:48:43.293Z"
   },
   {
    "duration": 42,
    "start_time": "2023-06-17T23:48:43.312Z"
   },
   {
    "duration": 185,
    "start_time": "2023-06-17T23:48:43.355Z"
   },
   {
    "duration": 95,
    "start_time": "2023-06-17T23:48:43.542Z"
   },
   {
    "duration": 122,
    "start_time": "2023-06-17T23:48:43.638Z"
   },
   {
    "duration": 15,
    "start_time": "2023-06-17T23:48:43.761Z"
   },
   {
    "duration": 32,
    "start_time": "2023-06-17T23:48:43.778Z"
   },
   {
    "duration": 17,
    "start_time": "2023-06-17T23:48:43.811Z"
   },
   {
    "duration": 27,
    "start_time": "2023-06-17T23:48:43.830Z"
   },
   {
    "duration": 19,
    "start_time": "2023-06-17T23:48:43.858Z"
   },
   {
    "duration": 202,
    "start_time": "2023-06-17T23:48:43.878Z"
   },
   {
    "duration": 27,
    "start_time": "2023-06-17T23:48:44.081Z"
   },
   {
    "duration": 18,
    "start_time": "2023-06-17T23:48:44.110Z"
   },
   {
    "duration": 34,
    "start_time": "2023-06-17T23:48:44.129Z"
   },
   {
    "duration": 24,
    "start_time": "2023-06-17T23:48:44.164Z"
   },
   {
    "duration": 19,
    "start_time": "2023-06-17T23:48:44.190Z"
   },
   {
    "duration": 51,
    "start_time": "2023-06-17T23:48:44.211Z"
   },
   {
    "duration": 181,
    "start_time": "2023-06-17T23:48:44.264Z"
   },
   {
    "duration": 79,
    "start_time": "2023-06-17T23:48:44.453Z"
   },
   {
    "duration": 29,
    "start_time": "2023-06-17T23:48:44.534Z"
   },
   {
    "duration": 124,
    "start_time": "2023-06-17T23:48:44.564Z"
   },
   {
    "duration": 15,
    "start_time": "2023-06-17T23:48:44.690Z"
   },
   {
    "duration": 95,
    "start_time": "2023-06-17T23:48:44.707Z"
   },
   {
    "duration": 198,
    "start_time": "2023-06-17T23:48:44.804Z"
   },
   {
    "duration": 15,
    "start_time": "2023-06-17T23:48:45.004Z"
   },
   {
    "duration": 367,
    "start_time": "2023-06-17T23:48:45.020Z"
   },
   {
    "duration": 4,
    "start_time": "2023-06-17T23:48:45.389Z"
   },
   {
    "duration": 45,
    "start_time": "2023-06-17T23:48:45.394Z"
   },
   {
    "duration": 17,
    "start_time": "2023-06-17T23:48:45.441Z"
   },
   {
    "duration": 107,
    "start_time": "2023-06-17T23:48:45.460Z"
   },
   {
    "duration": 71,
    "start_time": "2023-06-17T23:48:45.569Z"
   },
   {
    "duration": 31,
    "start_time": "2023-06-17T23:48:45.642Z"
   },
   {
    "duration": 13,
    "start_time": "2023-06-17T23:48:45.674Z"
   },
   {
    "duration": 4,
    "start_time": "2023-06-17T23:48:45.688Z"
   },
   {
    "duration": 71,
    "start_time": "2023-06-17T23:48:45.694Z"
   },
   {
    "duration": 17,
    "start_time": "2023-06-17T23:48:45.767Z"
   },
   {
    "duration": 324,
    "start_time": "2023-06-17T23:48:45.785Z"
   },
   {
    "duration": 18,
    "start_time": "2023-06-17T23:48:46.110Z"
   },
   {
    "duration": 8844,
    "start_time": "2023-06-17T23:48:46.129Z"
   },
   {
    "duration": 4,
    "start_time": "2023-06-17T23:48:54.975Z"
   },
   {
    "duration": 21,
    "start_time": "2023-06-17T23:48:54.981Z"
   },
   {
    "duration": 38,
    "start_time": "2023-06-17T23:48:55.004Z"
   },
   {
    "duration": 65,
    "start_time": "2023-06-17T23:48:55.043Z"
   },
   {
    "duration": 42,
    "start_time": "2023-06-17T23:48:55.110Z"
   },
   {
    "duration": 13,
    "start_time": "2023-06-17T23:48:55.153Z"
   },
   {
    "duration": 49,
    "start_time": "2023-06-17T23:48:55.167Z"
   },
   {
    "duration": 24,
    "start_time": "2023-06-17T23:48:55.217Z"
   },
   {
    "duration": 23,
    "start_time": "2023-06-17T23:48:55.243Z"
   },
   {
    "duration": 130,
    "start_time": "2023-06-17T23:48:55.267Z"
   },
   {
    "duration": 195,
    "start_time": "2023-06-17T23:48:55.399Z"
   },
   {
    "duration": 5442,
    "start_time": "2023-06-17T23:48:55.595Z"
   },
   {
    "duration": 17993,
    "start_time": "2023-06-17T23:49:01.039Z"
   },
   {
    "duration": 10,
    "start_time": "2023-06-17T23:53:13.898Z"
   },
   {
    "duration": 1216,
    "start_time": "2023-06-17T23:53:19.597Z"
   },
   {
    "duration": 72,
    "start_time": "2023-06-17T23:53:53.899Z"
   },
   {
    "duration": 14,
    "start_time": "2023-06-17T23:54:07.418Z"
   },
   {
    "duration": 1351,
    "start_time": "2023-06-17T23:54:15.444Z"
   },
   {
    "duration": 775,
    "start_time": "2023-06-17T23:54:16.797Z"
   },
   {
    "duration": 128,
    "start_time": "2023-06-17T23:54:17.574Z"
   },
   {
    "duration": 141,
    "start_time": "2023-06-17T23:54:17.703Z"
   },
   {
    "duration": 118,
    "start_time": "2023-06-17T23:54:17.853Z"
   },
   {
    "duration": 93,
    "start_time": "2023-06-17T23:54:17.973Z"
   },
   {
    "duration": 1032,
    "start_time": "2023-06-17T23:54:18.067Z"
   },
   {
    "duration": 359,
    "start_time": "2023-06-17T23:54:19.101Z"
   },
   {
    "duration": 307,
    "start_time": "2023-06-17T23:54:19.462Z"
   },
   {
    "duration": 18,
    "start_time": "2023-06-17T23:54:19.770Z"
   },
   {
    "duration": 25,
    "start_time": "2023-06-17T23:54:19.789Z"
   },
   {
    "duration": 41,
    "start_time": "2023-06-17T23:54:19.816Z"
   },
   {
    "duration": 150,
    "start_time": "2023-06-17T23:54:19.858Z"
   },
   {
    "duration": 30,
    "start_time": "2023-06-17T23:54:20.011Z"
   },
   {
    "duration": 34,
    "start_time": "2023-06-17T23:54:20.054Z"
   },
   {
    "duration": 32,
    "start_time": "2023-06-17T23:54:20.089Z"
   },
   {
    "duration": 47,
    "start_time": "2023-06-17T23:54:20.122Z"
   },
   {
    "duration": 29,
    "start_time": "2023-06-17T23:54:20.171Z"
   },
   {
    "duration": 11722,
    "start_time": "2023-06-17T23:54:20.202Z"
   },
   {
    "duration": 29,
    "start_time": "2023-06-17T23:54:31.926Z"
   },
   {
    "duration": 137,
    "start_time": "2023-06-17T23:54:31.956Z"
   },
   {
    "duration": 20,
    "start_time": "2023-06-17T23:54:32.094Z"
   },
   {
    "duration": 46,
    "start_time": "2023-06-17T23:54:32.115Z"
   },
   {
    "duration": 31,
    "start_time": "2023-06-17T23:54:32.162Z"
   },
   {
    "duration": 21,
    "start_time": "2023-06-17T23:54:32.195Z"
   },
   {
    "duration": 17,
    "start_time": "2023-06-17T23:54:32.218Z"
   },
   {
    "duration": 29,
    "start_time": "2023-06-17T23:54:32.236Z"
   },
   {
    "duration": 21,
    "start_time": "2023-06-17T23:54:32.267Z"
   },
   {
    "duration": 206,
    "start_time": "2023-06-17T23:54:32.290Z"
   },
   {
    "duration": 96,
    "start_time": "2023-06-17T23:54:32.497Z"
   },
   {
    "duration": 119,
    "start_time": "2023-06-17T23:54:32.594Z"
   },
   {
    "duration": 15,
    "start_time": "2023-06-17T23:54:32.715Z"
   },
   {
    "duration": 35,
    "start_time": "2023-06-17T23:54:32.731Z"
   },
   {
    "duration": 20,
    "start_time": "2023-06-17T23:54:32.768Z"
   },
   {
    "duration": 15,
    "start_time": "2023-06-17T23:54:32.789Z"
   },
   {
    "duration": 20,
    "start_time": "2023-06-17T23:54:32.806Z"
   },
   {
    "duration": 205,
    "start_time": "2023-06-17T23:54:32.827Z"
   },
   {
    "duration": 31,
    "start_time": "2023-06-17T23:54:33.033Z"
   },
   {
    "duration": 19,
    "start_time": "2023-06-17T23:54:33.066Z"
   },
   {
    "duration": 15,
    "start_time": "2023-06-17T23:54:33.087Z"
   },
   {
    "duration": 49,
    "start_time": "2023-06-17T23:54:33.106Z"
   },
   {
    "duration": 19,
    "start_time": "2023-06-17T23:54:33.157Z"
   },
   {
    "duration": 31,
    "start_time": "2023-06-17T23:54:33.177Z"
   },
   {
    "duration": 190,
    "start_time": "2023-06-17T23:54:33.209Z"
   },
   {
    "duration": 79,
    "start_time": "2023-06-17T23:54:33.400Z"
   },
   {
    "duration": 19,
    "start_time": "2023-06-17T23:54:33.480Z"
   },
   {
    "duration": 132,
    "start_time": "2023-06-17T23:54:33.501Z"
   },
   {
    "duration": 20,
    "start_time": "2023-06-17T23:54:33.635Z"
   },
   {
    "duration": 84,
    "start_time": "2023-06-17T23:54:33.656Z"
   },
   {
    "duration": 205,
    "start_time": "2023-06-17T23:54:33.741Z"
   },
   {
    "duration": 15,
    "start_time": "2023-06-17T23:54:33.947Z"
   },
   {
    "duration": 340,
    "start_time": "2023-06-17T23:54:33.963Z"
   },
   {
    "duration": 4,
    "start_time": "2023-06-17T23:54:34.305Z"
   },
   {
    "duration": 48,
    "start_time": "2023-06-17T23:54:34.310Z"
   },
   {
    "duration": 5,
    "start_time": "2023-06-17T23:54:34.360Z"
   },
   {
    "duration": 101,
    "start_time": "2023-06-17T23:54:34.367Z"
   },
   {
    "duration": 75,
    "start_time": "2023-06-17T23:54:34.470Z"
   },
   {
    "duration": 29,
    "start_time": "2023-06-17T23:54:34.546Z"
   },
   {
    "duration": 13,
    "start_time": "2023-06-17T23:54:34.577Z"
   },
   {
    "duration": 4,
    "start_time": "2023-06-17T23:54:34.592Z"
   },
   {
    "duration": 75,
    "start_time": "2023-06-17T23:54:34.598Z"
   },
   {
    "duration": 16,
    "start_time": "2023-06-17T23:54:34.674Z"
   },
   {
    "duration": 314,
    "start_time": "2023-06-17T23:54:34.691Z"
   },
   {
    "duration": 17,
    "start_time": "2023-06-17T23:54:35.006Z"
   },
   {
    "duration": 8851,
    "start_time": "2023-06-17T23:54:35.025Z"
   },
   {
    "duration": 5,
    "start_time": "2023-06-17T23:54:43.877Z"
   },
   {
    "duration": 12,
    "start_time": "2023-06-17T23:54:43.883Z"
   },
   {
    "duration": 27,
    "start_time": "2023-06-17T23:54:43.896Z"
   },
   {
    "duration": 62,
    "start_time": "2023-06-17T23:54:43.924Z"
   },
   {
    "duration": 42,
    "start_time": "2023-06-17T23:54:43.988Z"
   },
   {
    "duration": 27,
    "start_time": "2023-06-17T23:54:44.031Z"
   },
   {
    "duration": 41,
    "start_time": "2023-06-17T23:54:44.059Z"
   },
   {
    "duration": 24,
    "start_time": "2023-06-17T23:54:44.102Z"
   },
   {
    "duration": 30,
    "start_time": "2023-06-17T23:54:44.128Z"
   },
   {
    "duration": 133,
    "start_time": "2023-06-17T23:54:44.160Z"
   },
   {
    "duration": 198,
    "start_time": "2023-06-17T23:54:44.295Z"
   },
   {
    "duration": 120,
    "start_time": "2023-06-17T23:54:44.495Z"
   },
   {
    "duration": 0,
    "start_time": "2023-06-17T23:54:44.616Z"
   },
   {
    "duration": 0,
    "start_time": "2023-06-17T23:54:44.617Z"
   },
   {
    "duration": 5724,
    "start_time": "2023-06-17T23:55:01.930Z"
   },
   {
    "duration": 18142,
    "start_time": "2023-06-17T23:55:11.454Z"
   },
   {
    "duration": 0,
    "start_time": "2023-06-17T23:55:29.597Z"
   },
   {
    "duration": 22,
    "start_time": "2023-06-17T23:57:01.596Z"
   },
   {
    "duration": 17,
    "start_time": "2023-06-17T23:57:25.937Z"
   },
   {
    "duration": 80,
    "start_time": "2023-06-17T23:58:17.766Z"
   },
   {
    "duration": 124,
    "start_time": "2023-06-17T23:58:30.167Z"
   },
   {
    "duration": 8,
    "start_time": "2023-06-17T23:59:08.212Z"
   },
   {
    "duration": 3,
    "start_time": "2023-06-17T23:59:23.361Z"
   },
   {
    "duration": 1226,
    "start_time": "2023-06-17T23:59:28.647Z"
   },
   {
    "duration": 82,
    "start_time": "2023-06-17T23:59:33.500Z"
   },
   {
    "duration": 313,
    "start_time": "2023-06-18T00:00:06.516Z"
   },
   {
    "duration": 48,
    "start_time": "2023-06-18T00:00:29.643Z"
   },
   {
    "duration": 1972,
    "start_time": "2023-06-18T00:00:50.707Z"
   },
   {
    "duration": 2727,
    "start_time": "2023-06-18T00:00:52.681Z"
   },
   {
    "duration": 121,
    "start_time": "2023-06-18T00:00:55.409Z"
   },
   {
    "duration": 140,
    "start_time": "2023-06-18T00:00:55.531Z"
   },
   {
    "duration": 144,
    "start_time": "2023-06-18T00:00:55.673Z"
   },
   {
    "duration": 117,
    "start_time": "2023-06-18T00:00:55.819Z"
   },
   {
    "duration": 1085,
    "start_time": "2023-06-18T00:00:55.937Z"
   },
   {
    "duration": 383,
    "start_time": "2023-06-18T00:00:57.024Z"
   },
   {
    "duration": 309,
    "start_time": "2023-06-18T00:00:57.409Z"
   },
   {
    "duration": 18,
    "start_time": "2023-06-18T00:00:57.721Z"
   },
   {
    "duration": 33,
    "start_time": "2023-06-18T00:00:57.741Z"
   },
   {
    "duration": 30,
    "start_time": "2023-06-18T00:00:57.775Z"
   },
   {
    "duration": 164,
    "start_time": "2023-06-18T00:00:57.806Z"
   },
   {
    "duration": 29,
    "start_time": "2023-06-18T00:00:57.972Z"
   },
   {
    "duration": 33,
    "start_time": "2023-06-18T00:00:58.002Z"
   },
   {
    "duration": 48,
    "start_time": "2023-06-18T00:00:58.037Z"
   },
   {
    "duration": 31,
    "start_time": "2023-06-18T00:00:58.086Z"
   },
   {
    "duration": 49,
    "start_time": "2023-06-18T00:00:58.119Z"
   },
   {
    "duration": 11712,
    "start_time": "2023-06-18T00:00:58.169Z"
   },
   {
    "duration": 22,
    "start_time": "2023-06-18T00:01:09.883Z"
   },
   {
    "duration": 141,
    "start_time": "2023-06-18T00:01:09.906Z"
   },
   {
    "duration": 24,
    "start_time": "2023-06-18T00:01:10.048Z"
   },
   {
    "duration": 39,
    "start_time": "2023-06-18T00:01:10.074Z"
   },
   {
    "duration": 33,
    "start_time": "2023-06-18T00:01:10.115Z"
   },
   {
    "duration": 21,
    "start_time": "2023-06-18T00:01:10.150Z"
   },
   {
    "duration": 17,
    "start_time": "2023-06-18T00:01:10.173Z"
   },
   {
    "duration": 18,
    "start_time": "2023-06-18T00:01:10.191Z"
   },
   {
    "duration": 20,
    "start_time": "2023-06-18T00:01:10.213Z"
   },
   {
    "duration": 205,
    "start_time": "2023-06-18T00:01:10.234Z"
   },
   {
    "duration": 96,
    "start_time": "2023-06-18T00:01:10.441Z"
   },
   {
    "duration": 122,
    "start_time": "2023-06-18T00:01:10.539Z"
   },
   {
    "duration": 16,
    "start_time": "2023-06-18T00:01:10.663Z"
   },
   {
    "duration": 28,
    "start_time": "2023-06-18T00:01:10.681Z"
   },
   {
    "duration": 18,
    "start_time": "2023-06-18T00:01:10.711Z"
   },
   {
    "duration": 36,
    "start_time": "2023-06-18T00:01:10.731Z"
   },
   {
    "duration": 20,
    "start_time": "2023-06-18T00:01:10.769Z"
   },
   {
    "duration": 208,
    "start_time": "2023-06-18T00:01:10.790Z"
   },
   {
    "duration": 28,
    "start_time": "2023-06-18T00:01:11.000Z"
   },
   {
    "duration": 32,
    "start_time": "2023-06-18T00:01:11.030Z"
   },
   {
    "duration": 17,
    "start_time": "2023-06-18T00:01:11.063Z"
   },
   {
    "duration": 24,
    "start_time": "2023-06-18T00:01:11.082Z"
   },
   {
    "duration": 18,
    "start_time": "2023-06-18T00:01:11.108Z"
   },
   {
    "duration": 53,
    "start_time": "2023-06-18T00:01:11.127Z"
   },
   {
    "duration": 175,
    "start_time": "2023-06-18T00:01:11.182Z"
   },
   {
    "duration": 75,
    "start_time": "2023-06-18T00:01:11.358Z"
   },
   {
    "duration": 36,
    "start_time": "2023-06-18T00:01:11.435Z"
   },
   {
    "duration": 118,
    "start_time": "2023-06-18T00:01:11.472Z"
   },
   {
    "duration": 16,
    "start_time": "2023-06-18T00:01:11.591Z"
   },
   {
    "duration": 99,
    "start_time": "2023-06-18T00:01:11.608Z"
   },
   {
    "duration": 204,
    "start_time": "2023-06-18T00:01:11.708Z"
   },
   {
    "duration": 15,
    "start_time": "2023-06-18T00:01:11.913Z"
   },
   {
    "duration": 358,
    "start_time": "2023-06-18T00:01:11.929Z"
   },
   {
    "duration": 5,
    "start_time": "2023-06-18T00:01:12.288Z"
   },
   {
    "duration": 48,
    "start_time": "2023-06-18T00:01:12.294Z"
   },
   {
    "duration": 14,
    "start_time": "2023-06-18T00:01:12.344Z"
   },
   {
    "duration": 102,
    "start_time": "2023-06-18T00:01:12.359Z"
   },
   {
    "duration": 75,
    "start_time": "2023-06-18T00:01:12.462Z"
   },
   {
    "duration": 32,
    "start_time": "2023-06-18T00:01:12.539Z"
   },
   {
    "duration": 13,
    "start_time": "2023-06-18T00:01:12.573Z"
   },
   {
    "duration": 15,
    "start_time": "2023-06-18T00:01:12.587Z"
   },
   {
    "duration": 61,
    "start_time": "2023-06-18T00:01:12.604Z"
   },
   {
    "duration": 18,
    "start_time": "2023-06-18T00:01:12.666Z"
   },
   {
    "duration": 309,
    "start_time": "2023-06-18T00:01:12.685Z"
   },
   {
    "duration": 16,
    "start_time": "2023-06-18T00:01:12.996Z"
   },
   {
    "duration": 9012,
    "start_time": "2023-06-18T00:01:13.014Z"
   },
   {
    "duration": 5,
    "start_time": "2023-06-18T00:01:22.028Z"
   },
   {
    "duration": 25,
    "start_time": "2023-06-18T00:01:22.034Z"
   },
   {
    "duration": 28,
    "start_time": "2023-06-18T00:01:22.060Z"
   },
   {
    "duration": 43,
    "start_time": "2023-06-18T00:01:22.089Z"
   },
   {
    "duration": 58,
    "start_time": "2023-06-18T00:01:22.134Z"
   },
   {
    "duration": 13,
    "start_time": "2023-06-18T00:01:22.193Z"
   },
   {
    "duration": 53,
    "start_time": "2023-06-18T00:01:22.208Z"
   },
   {
    "duration": 24,
    "start_time": "2023-06-18T00:01:22.263Z"
   },
   {
    "duration": 15,
    "start_time": "2023-06-18T00:01:22.289Z"
   },
   {
    "duration": 143,
    "start_time": "2023-06-18T00:01:22.306Z"
   },
   {
    "duration": 208,
    "start_time": "2023-06-18T00:01:22.450Z"
   },
   {
    "duration": 4434,
    "start_time": "2023-06-18T00:01:22.659Z"
   },
   {
    "duration": 46,
    "start_time": "2023-06-18T00:01:27.095Z"
   },
   {
    "duration": 17935,
    "start_time": "2023-06-18T00:01:27.143Z"
   },
   {
    "duration": 1170,
    "start_time": "2023-06-18T00:01:45.080Z"
   },
   {
    "duration": 264,
    "start_time": "2023-06-18T00:04:15.171Z"
   },
   {
    "duration": 18,
    "start_time": "2023-06-18T00:04:20.798Z"
   },
   {
    "duration": 987,
    "start_time": "2023-06-18T00:05:20.437Z"
   },
   {
    "duration": 36,
    "start_time": "2023-06-18T00:05:23.100Z"
   },
   {
    "duration": 4606,
    "start_time": "2023-06-18T00:05:28.732Z"
   },
   {
    "duration": 42,
    "start_time": "2023-06-18T00:05:34.895Z"
   },
   {
    "duration": 4,
    "start_time": "2023-06-18T00:10:41.699Z"
   },
   {
    "duration": 77,
    "start_time": "2023-06-18T00:14:09.576Z"
   },
   {
    "duration": 135873,
    "start_time": "2023-06-18T00:14:21.114Z"
   },
   {
    "duration": 1668,
    "start_time": "2023-06-18T07:50:35.432Z"
   },
   {
    "duration": 1030,
    "start_time": "2023-06-18T07:50:37.103Z"
   },
   {
    "duration": 129,
    "start_time": "2023-06-18T07:50:38.135Z"
   },
   {
    "duration": 153,
    "start_time": "2023-06-18T07:50:38.267Z"
   },
   {
    "duration": 118,
    "start_time": "2023-06-18T07:50:38.422Z"
   },
   {
    "duration": 112,
    "start_time": "2023-06-18T07:50:38.542Z"
   },
   {
    "duration": 1163,
    "start_time": "2023-06-18T07:50:38.656Z"
   },
   {
    "duration": 359,
    "start_time": "2023-06-18T07:50:39.821Z"
   },
   {
    "duration": 312,
    "start_time": "2023-06-18T07:50:40.181Z"
   },
   {
    "duration": 19,
    "start_time": "2023-06-18T07:50:40.496Z"
   },
   {
    "duration": 48,
    "start_time": "2023-06-18T07:50:40.517Z"
   },
   {
    "duration": 44,
    "start_time": "2023-06-18T07:50:40.567Z"
   },
   {
    "duration": 167,
    "start_time": "2023-06-18T07:50:40.612Z"
   },
   {
    "duration": 30,
    "start_time": "2023-06-18T07:50:40.781Z"
   },
   {
    "duration": 59,
    "start_time": "2023-06-18T07:50:40.813Z"
   },
   {
    "duration": 33,
    "start_time": "2023-06-18T07:50:40.873Z"
   },
   {
    "duration": 42,
    "start_time": "2023-06-18T07:50:40.908Z"
   },
   {
    "duration": 55,
    "start_time": "2023-06-18T07:50:40.952Z"
   },
   {
    "duration": 11422,
    "start_time": "2023-06-18T07:50:41.008Z"
   },
   {
    "duration": 22,
    "start_time": "2023-06-18T07:50:52.432Z"
   },
   {
    "duration": 143,
    "start_time": "2023-06-18T07:50:52.456Z"
   },
   {
    "duration": 18,
    "start_time": "2023-06-18T07:50:52.600Z"
   },
   {
    "duration": 39,
    "start_time": "2023-06-18T07:50:52.620Z"
   },
   {
    "duration": 25,
    "start_time": "2023-06-18T07:50:52.661Z"
   },
   {
    "duration": 20,
    "start_time": "2023-06-18T07:50:52.688Z"
   },
   {
    "duration": 15,
    "start_time": "2023-06-18T07:50:52.711Z"
   },
   {
    "duration": 32,
    "start_time": "2023-06-18T07:50:52.728Z"
   },
   {
    "duration": 30,
    "start_time": "2023-06-18T07:50:52.764Z"
   },
   {
    "duration": 198,
    "start_time": "2023-06-18T07:50:52.796Z"
   },
   {
    "duration": 98,
    "start_time": "2023-06-18T07:50:52.998Z"
   },
   {
    "duration": 111,
    "start_time": "2023-06-18T07:50:53.098Z"
   },
   {
    "duration": 14,
    "start_time": "2023-06-18T07:50:53.211Z"
   },
   {
    "duration": 44,
    "start_time": "2023-06-18T07:50:53.226Z"
   },
   {
    "duration": 16,
    "start_time": "2023-06-18T07:50:53.272Z"
   },
   {
    "duration": 16,
    "start_time": "2023-06-18T07:50:53.290Z"
   },
   {
    "duration": 23,
    "start_time": "2023-06-18T07:50:53.307Z"
   },
   {
    "duration": 213,
    "start_time": "2023-06-18T07:50:53.332Z"
   },
   {
    "duration": 29,
    "start_time": "2023-06-18T07:50:53.547Z"
   },
   {
    "duration": 18,
    "start_time": "2023-06-18T07:50:53.577Z"
   },
   {
    "duration": 23,
    "start_time": "2023-06-18T07:50:53.596Z"
   },
   {
    "duration": 34,
    "start_time": "2023-06-18T07:50:53.621Z"
   },
   {
    "duration": 25,
    "start_time": "2023-06-18T07:50:53.657Z"
   },
   {
    "duration": 33,
    "start_time": "2023-06-18T07:50:53.684Z"
   },
   {
    "duration": 193,
    "start_time": "2023-06-18T07:50:53.719Z"
   },
   {
    "duration": 90,
    "start_time": "2023-06-18T07:50:53.914Z"
   },
   {
    "duration": 23,
    "start_time": "2023-06-18T07:50:54.006Z"
   },
   {
    "duration": 125,
    "start_time": "2023-06-18T07:50:54.030Z"
   },
   {
    "duration": 16,
    "start_time": "2023-06-18T07:50:54.157Z"
   },
   {
    "duration": 101,
    "start_time": "2023-06-18T07:50:54.174Z"
   },
   {
    "duration": 216,
    "start_time": "2023-06-18T07:50:54.277Z"
   },
   {
    "duration": 19,
    "start_time": "2023-06-18T07:50:54.495Z"
   },
   {
    "duration": 349,
    "start_time": "2023-06-18T07:50:54.516Z"
   },
   {
    "duration": 6,
    "start_time": "2023-06-18T07:50:54.867Z"
   },
   {
    "duration": 46,
    "start_time": "2023-06-18T07:50:54.875Z"
   },
   {
    "duration": 7,
    "start_time": "2023-06-18T07:50:54.923Z"
   },
   {
    "duration": 101,
    "start_time": "2023-06-18T07:50:54.951Z"
   },
   {
    "duration": 78,
    "start_time": "2023-06-18T07:50:55.054Z"
   },
   {
    "duration": 40,
    "start_time": "2023-06-18T07:50:55.134Z"
   },
   {
    "duration": 19,
    "start_time": "2023-06-18T07:50:55.176Z"
   },
   {
    "duration": 7,
    "start_time": "2023-06-18T07:50:55.197Z"
   },
   {
    "duration": 92,
    "start_time": "2023-06-18T07:50:55.206Z"
   },
   {
    "duration": 22,
    "start_time": "2023-06-18T07:50:55.300Z"
   },
   {
    "duration": 328,
    "start_time": "2023-06-18T07:50:55.324Z"
   },
   {
    "duration": 20,
    "start_time": "2023-06-18T07:50:55.654Z"
   },
   {
    "duration": 9075,
    "start_time": "2023-06-18T07:50:55.676Z"
   },
   {
    "duration": 6,
    "start_time": "2023-06-18T07:51:04.753Z"
   },
   {
    "duration": 17,
    "start_time": "2023-06-18T07:51:04.761Z"
   },
   {
    "duration": 33,
    "start_time": "2023-06-18T07:51:04.779Z"
   },
   {
    "duration": 67,
    "start_time": "2023-06-18T07:51:04.814Z"
   },
   {
    "duration": 47,
    "start_time": "2023-06-18T07:51:04.882Z"
   },
   {
    "duration": 29,
    "start_time": "2023-06-18T07:51:04.931Z"
   },
   {
    "duration": 46,
    "start_time": "2023-06-18T07:51:04.961Z"
   },
   {
    "duration": 28,
    "start_time": "2023-06-18T07:51:05.009Z"
   },
   {
    "duration": 28,
    "start_time": "2023-06-18T07:51:05.039Z"
   },
   {
    "duration": 156,
    "start_time": "2023-06-18T07:51:05.069Z"
   },
   {
    "duration": 255,
    "start_time": "2023-06-18T07:51:05.227Z"
   },
   {
    "duration": 4679,
    "start_time": "2023-06-18T07:51:05.484Z"
   },
   {
    "duration": 21689,
    "start_time": "2023-06-18T07:51:10.165Z"
   },
   {
    "duration": 198,
    "start_time": "2023-06-18T07:51:31.856Z"
   },
   {
    "duration": 5780,
    "start_time": "2023-06-18T07:51:32.056Z"
   },
   {
    "duration": 49,
    "start_time": "2023-06-18T07:51:37.838Z"
   },
   {
    "duration": 818118,
    "start_time": "2023-06-18T07:52:42.802Z"
   },
   {
    "duration": 116503,
    "start_time": "2023-06-18T08:06:28.589Z"
   },
   {
    "duration": 16,
    "start_time": "2023-06-18T08:08:33.622Z"
   },
   {
    "duration": 9693,
    "start_time": "2023-06-18T08:08:36.620Z"
   },
   {
    "duration": 19172,
    "start_time": "2023-06-18T08:11:02.031Z"
   },
   {
    "duration": 19782,
    "start_time": "2023-06-18T08:11:40.513Z"
   },
   {
    "duration": 84,
    "start_time": "2023-06-18T08:13:41.962Z"
   },
   {
    "duration": 84,
    "start_time": "2023-06-18T08:16:10.217Z"
   },
   {
    "duration": 4,
    "start_time": "2023-06-18T08:16:32.163Z"
   },
   {
    "duration": 95,
    "start_time": "2023-06-18T08:16:40.837Z"
   },
   {
    "duration": 71,
    "start_time": "2023-06-18T08:16:48.127Z"
   },
   {
    "duration": 9,
    "start_time": "2023-06-18T08:16:52.828Z"
   },
   {
    "duration": 10,
    "start_time": "2023-06-18T08:16:59.236Z"
   },
   {
    "duration": 95,
    "start_time": "2023-06-18T08:18:12.238Z"
   },
   {
    "duration": 86,
    "start_time": "2023-06-18T08:19:33.288Z"
   },
   {
    "duration": 18686,
    "start_time": "2023-06-18T08:19:37.714Z"
   },
   {
    "duration": 94,
    "start_time": "2023-06-18T08:27:42.405Z"
   },
   {
    "duration": 12,
    "start_time": "2023-06-18T08:29:20.334Z"
   },
   {
    "duration": 12,
    "start_time": "2023-06-18T08:29:45.640Z"
   },
   {
    "duration": 12,
    "start_time": "2023-06-18T08:29:59.406Z"
   },
   {
    "duration": 12,
    "start_time": "2023-06-18T08:30:03.047Z"
   },
   {
    "duration": 4,
    "start_time": "2023-06-18T08:30:08.005Z"
   },
   {
    "duration": 3,
    "start_time": "2023-06-18T08:33:41.509Z"
   },
   {
    "duration": 19996,
    "start_time": "2023-06-18T08:33:47.952Z"
   },
   {
    "duration": 19801,
    "start_time": "2023-06-18T08:34:24.696Z"
   },
   {
    "duration": 11,
    "start_time": "2023-06-18T08:34:57.055Z"
   },
   {
    "duration": 11,
    "start_time": "2023-06-18T08:35:02.777Z"
   },
   {
    "duration": 3,
    "start_time": "2023-06-18T08:35:13.147Z"
   },
   {
    "duration": 13,
    "start_time": "2023-06-18T08:36:08.719Z"
   },
   {
    "duration": 11,
    "start_time": "2023-06-18T08:36:20.717Z"
   },
   {
    "duration": 10,
    "start_time": "2023-06-18T08:36:24.423Z"
   },
   {
    "duration": 3,
    "start_time": "2023-06-18T08:36:31.823Z"
   },
   {
    "duration": 10,
    "start_time": "2023-06-18T08:36:39.978Z"
   },
   {
    "duration": 3,
    "start_time": "2023-06-18T08:36:43.859Z"
   },
   {
    "duration": 3,
    "start_time": "2023-06-18T08:37:28.537Z"
   },
   {
    "duration": 3,
    "start_time": "2023-06-18T08:37:32.173Z"
   },
   {
    "duration": 19726,
    "start_time": "2023-06-18T08:37:34.360Z"
   },
   {
    "duration": 6120608,
    "start_time": "2023-06-18T08:38:47.357Z"
   },
   {
    "duration": 2011,
    "start_time": "2023-06-19T05:48:03.172Z"
   },
   {
    "duration": 1562,
    "start_time": "2023-06-19T05:48:05.185Z"
   },
   {
    "duration": 180,
    "start_time": "2023-06-19T05:48:06.749Z"
   },
   {
    "duration": 241,
    "start_time": "2023-06-19T05:48:06.932Z"
   },
   {
    "duration": 213,
    "start_time": "2023-06-19T05:48:07.180Z"
   },
   {
    "duration": 105,
    "start_time": "2023-06-19T05:48:07.395Z"
   },
   {
    "duration": 1791,
    "start_time": "2023-06-19T05:48:07.503Z"
   },
   {
    "duration": 441,
    "start_time": "2023-06-19T05:48:09.296Z"
   },
   {
    "duration": 392,
    "start_time": "2023-06-19T05:48:09.739Z"
   },
   {
    "duration": 20,
    "start_time": "2023-06-19T05:48:10.134Z"
   },
   {
    "duration": 48,
    "start_time": "2023-06-19T05:48:10.157Z"
   },
   {
    "duration": 53,
    "start_time": "2023-06-19T05:48:10.208Z"
   },
   {
    "duration": 205,
    "start_time": "2023-06-19T05:48:10.263Z"
   },
   {
    "duration": 49,
    "start_time": "2023-06-19T05:48:10.470Z"
   },
   {
    "duration": 64,
    "start_time": "2023-06-19T05:48:10.521Z"
   },
   {
    "duration": 54,
    "start_time": "2023-06-19T05:48:10.589Z"
   },
   {
    "duration": 55,
    "start_time": "2023-06-19T05:48:10.646Z"
   },
   {
    "duration": 46,
    "start_time": "2023-06-19T05:48:10.703Z"
   },
   {
    "duration": 15127,
    "start_time": "2023-06-19T05:48:10.751Z"
   },
   {
    "duration": 33,
    "start_time": "2023-06-19T05:48:25.880Z"
   },
   {
    "duration": 186,
    "start_time": "2023-06-19T05:48:25.915Z"
   },
   {
    "duration": 27,
    "start_time": "2023-06-19T05:48:26.103Z"
   },
   {
    "duration": 85,
    "start_time": "2023-06-19T05:48:26.133Z"
   },
   {
    "duration": 38,
    "start_time": "2023-06-19T05:48:26.220Z"
   },
   {
    "duration": 37,
    "start_time": "2023-06-19T05:48:26.279Z"
   },
   {
    "duration": 39,
    "start_time": "2023-06-19T05:48:26.320Z"
   },
   {
    "duration": 59,
    "start_time": "2023-06-19T05:48:26.361Z"
   },
   {
    "duration": 33,
    "start_time": "2023-06-19T05:48:26.427Z"
   },
   {
    "duration": 307,
    "start_time": "2023-06-19T05:48:26.463Z"
   },
   {
    "duration": 112,
    "start_time": "2023-06-19T05:48:26.775Z"
   },
   {
    "duration": 158,
    "start_time": "2023-06-19T05:48:26.896Z"
   },
   {
    "duration": 26,
    "start_time": "2023-06-19T05:48:27.056Z"
   },
   {
    "duration": 60,
    "start_time": "2023-06-19T05:48:27.084Z"
   },
   {
    "duration": 36,
    "start_time": "2023-06-19T05:48:27.147Z"
   },
   {
    "duration": 34,
    "start_time": "2023-06-19T05:48:27.189Z"
   },
   {
    "duration": 34,
    "start_time": "2023-06-19T05:48:27.226Z"
   },
   {
    "duration": 247,
    "start_time": "2023-06-19T05:48:27.261Z"
   },
   {
    "duration": 44,
    "start_time": "2023-06-19T05:48:27.511Z"
   },
   {
    "duration": 51,
    "start_time": "2023-06-19T05:48:27.557Z"
   },
   {
    "duration": 30,
    "start_time": "2023-06-19T05:48:27.610Z"
   },
   {
    "duration": 40,
    "start_time": "2023-06-19T05:48:27.642Z"
   },
   {
    "duration": 27,
    "start_time": "2023-06-19T05:48:27.684Z"
   },
   {
    "duration": 40,
    "start_time": "2023-06-19T05:48:27.713Z"
   },
   {
    "duration": 223,
    "start_time": "2023-06-19T05:48:27.755Z"
   },
   {
    "duration": 130,
    "start_time": "2023-06-19T05:48:27.980Z"
   },
   {
    "duration": 36,
    "start_time": "2023-06-19T05:48:28.112Z"
   },
   {
    "duration": 152,
    "start_time": "2023-06-19T05:48:28.151Z"
   },
   {
    "duration": 18,
    "start_time": "2023-06-19T05:48:28.305Z"
   },
   {
    "duration": 116,
    "start_time": "2023-06-19T05:48:28.325Z"
   },
   {
    "duration": 272,
    "start_time": "2023-06-19T05:48:28.443Z"
   },
   {
    "duration": 23,
    "start_time": "2023-06-19T05:48:28.718Z"
   },
   {
    "duration": 498,
    "start_time": "2023-06-19T05:48:28.743Z"
   },
   {
    "duration": 6,
    "start_time": "2023-06-19T05:48:29.244Z"
   },
   {
    "duration": 63,
    "start_time": "2023-06-19T05:48:29.252Z"
   },
   {
    "duration": 7,
    "start_time": "2023-06-19T05:48:29.317Z"
   },
   {
    "duration": 133,
    "start_time": "2023-06-19T05:48:29.326Z"
   },
   {
    "duration": 133,
    "start_time": "2023-06-19T05:48:29.461Z"
   },
   {
    "duration": 22,
    "start_time": "2023-06-19T05:48:29.596Z"
   },
   {
    "duration": 14,
    "start_time": "2023-06-19T05:48:29.620Z"
   },
   {
    "duration": 7,
    "start_time": "2023-06-19T05:48:29.637Z"
   },
   {
    "duration": 55,
    "start_time": "2023-06-19T05:48:29.675Z"
   },
   {
    "duration": 18,
    "start_time": "2023-06-19T05:48:29.732Z"
   },
   {
    "duration": 473,
    "start_time": "2023-06-19T05:48:29.753Z"
   },
   {
    "duration": 21,
    "start_time": "2023-06-19T05:48:30.228Z"
   },
   {
    "duration": 11490,
    "start_time": "2023-06-19T05:48:30.252Z"
   },
   {
    "duration": 5,
    "start_time": "2023-06-19T05:48:41.744Z"
   },
   {
    "duration": 32,
    "start_time": "2023-06-19T05:48:41.751Z"
   },
   {
    "duration": 36,
    "start_time": "2023-06-19T05:48:41.791Z"
   },
   {
    "duration": 71,
    "start_time": "2023-06-19T05:48:41.829Z"
   },
   {
    "duration": 44,
    "start_time": "2023-06-19T05:48:41.902Z"
   },
   {
    "duration": 13,
    "start_time": "2023-06-19T05:48:41.947Z"
   },
   {
    "duration": 55,
    "start_time": "2023-06-19T05:48:41.961Z"
   },
   {
    "duration": 24,
    "start_time": "2023-06-19T05:48:42.017Z"
   },
   {
    "duration": 33,
    "start_time": "2023-06-19T05:48:42.043Z"
   },
   {
    "duration": 159,
    "start_time": "2023-06-19T05:48:42.078Z"
   },
   {
    "duration": 228,
    "start_time": "2023-06-19T05:48:42.239Z"
   },
   {
    "duration": 3532,
    "start_time": "2023-06-19T05:48:42.469Z"
   },
   {
    "duration": 45071,
    "start_time": "2023-06-19T05:48:46.004Z"
   },
   {
    "duration": 197,
    "start_time": "2023-06-19T05:49:31.084Z"
   },
   {
    "duration": 5531,
    "start_time": "2023-06-19T05:49:31.289Z"
   },
   {
    "duration": 54,
    "start_time": "2023-06-19T05:49:36.821Z"
   },
   {
    "duration": 5,
    "start_time": "2023-06-19T05:52:43.800Z"
   },
   {
    "duration": 42,
    "start_time": "2023-06-19T05:52:43.807Z"
   },
   {
    "duration": 12282,
    "start_time": "2023-06-19T05:52:43.851Z"
   },
   {
    "duration": 0,
    "start_time": "2023-06-19T05:52:56.137Z"
   },
   {
    "duration": 3,
    "start_time": "2023-06-19T05:53:04.311Z"
   },
   {
    "duration": 35,
    "start_time": "2023-06-19T05:53:22.771Z"
   },
   {
    "duration": 23,
    "start_time": "2023-06-19T05:53:26.709Z"
   },
   {
    "duration": 24,
    "start_time": "2023-06-19T05:53:28.738Z"
   },
   {
    "duration": 1597,
    "start_time": "2023-06-19T05:55:35.743Z"
   },
   {
    "duration": 1306,
    "start_time": "2023-06-19T05:55:37.342Z"
   },
   {
    "duration": 183,
    "start_time": "2023-06-19T05:55:38.650Z"
   },
   {
    "duration": 183,
    "start_time": "2023-06-19T05:55:38.835Z"
   },
   {
    "duration": 168,
    "start_time": "2023-06-19T05:55:39.020Z"
   },
   {
    "duration": 130,
    "start_time": "2023-06-19T05:55:39.191Z"
   },
   {
    "duration": 1355,
    "start_time": "2023-06-19T05:55:39.323Z"
   },
   {
    "duration": 533,
    "start_time": "2023-06-19T05:55:40.680Z"
   },
   {
    "duration": 398,
    "start_time": "2023-06-19T05:55:41.215Z"
   },
   {
    "duration": 21,
    "start_time": "2023-06-19T05:55:41.616Z"
   },
   {
    "duration": 45,
    "start_time": "2023-06-19T05:55:41.640Z"
   },
   {
    "duration": 68,
    "start_time": "2023-06-19T05:55:41.688Z"
   },
   {
    "duration": 212,
    "start_time": "2023-06-19T05:55:41.757Z"
   },
   {
    "duration": 55,
    "start_time": "2023-06-19T05:55:41.970Z"
   },
   {
    "duration": 37,
    "start_time": "2023-06-19T05:55:42.027Z"
   },
   {
    "duration": 53,
    "start_time": "2023-06-19T05:55:42.080Z"
   },
   {
    "duration": 88,
    "start_time": "2023-06-19T05:55:42.135Z"
   },
   {
    "duration": 30,
    "start_time": "2023-06-19T05:55:42.225Z"
   },
   {
    "duration": 16068,
    "start_time": "2023-06-19T05:55:42.257Z"
   },
   {
    "duration": 26,
    "start_time": "2023-06-19T05:55:58.327Z"
   },
   {
    "duration": 202,
    "start_time": "2023-06-19T05:55:58.355Z"
   },
   {
    "duration": 52,
    "start_time": "2023-06-19T05:55:58.559Z"
   },
   {
    "duration": 46,
    "start_time": "2023-06-19T05:55:58.614Z"
   },
   {
    "duration": 60,
    "start_time": "2023-06-19T05:55:58.662Z"
   },
   {
    "duration": 25,
    "start_time": "2023-06-19T05:55:58.724Z"
   },
   {
    "duration": 36,
    "start_time": "2023-06-19T05:55:58.751Z"
   },
   {
    "duration": 45,
    "start_time": "2023-06-19T05:55:58.793Z"
   },
   {
    "duration": 24,
    "start_time": "2023-06-19T05:55:58.843Z"
   },
   {
    "duration": 289,
    "start_time": "2023-06-19T05:55:58.869Z"
   },
   {
    "duration": 130,
    "start_time": "2023-06-19T05:55:59.160Z"
   },
   {
    "duration": 202,
    "start_time": "2023-06-19T05:55:59.295Z"
   },
   {
    "duration": 23,
    "start_time": "2023-06-19T05:55:59.503Z"
   },
   {
    "duration": 54,
    "start_time": "2023-06-19T05:55:59.528Z"
   },
   {
    "duration": 36,
    "start_time": "2023-06-19T05:55:59.584Z"
   },
   {
    "duration": 17,
    "start_time": "2023-06-19T05:55:59.622Z"
   },
   {
    "duration": 47,
    "start_time": "2023-06-19T05:55:59.641Z"
   },
   {
    "duration": 282,
    "start_time": "2023-06-19T05:55:59.690Z"
   },
   {
    "duration": 46,
    "start_time": "2023-06-19T05:55:59.974Z"
   },
   {
    "duration": 35,
    "start_time": "2023-06-19T05:56:00.023Z"
   },
   {
    "duration": 64,
    "start_time": "2023-06-19T05:56:00.060Z"
   },
   {
    "duration": 39,
    "start_time": "2023-06-19T05:56:00.126Z"
   },
   {
    "duration": 94,
    "start_time": "2023-06-19T05:56:00.166Z"
   },
   {
    "duration": 105,
    "start_time": "2023-06-19T05:56:00.263Z"
   },
   {
    "duration": 281,
    "start_time": "2023-06-19T05:56:00.370Z"
   },
   {
    "duration": 103,
    "start_time": "2023-06-19T05:56:00.653Z"
   },
   {
    "duration": 31,
    "start_time": "2023-06-19T05:56:00.758Z"
   },
   {
    "duration": 231,
    "start_time": "2023-06-19T05:56:00.791Z"
   },
   {
    "duration": 18,
    "start_time": "2023-06-19T05:56:01.025Z"
   },
   {
    "duration": 163,
    "start_time": "2023-06-19T05:56:01.045Z"
   },
   {
    "duration": 399,
    "start_time": "2023-06-19T05:56:01.211Z"
   },
   {
    "duration": 23,
    "start_time": "2023-06-19T05:56:01.613Z"
   },
   {
    "duration": 604,
    "start_time": "2023-06-19T05:56:01.638Z"
   },
   {
    "duration": 7,
    "start_time": "2023-06-19T05:56:02.248Z"
   },
   {
    "duration": 97,
    "start_time": "2023-06-19T05:56:02.257Z"
   },
   {
    "duration": 9,
    "start_time": "2023-06-19T05:56:02.359Z"
   },
   {
    "duration": 166,
    "start_time": "2023-06-19T05:56:02.371Z"
   },
   {
    "duration": 111,
    "start_time": "2023-06-19T05:56:02.538Z"
   },
   {
    "duration": 41,
    "start_time": "2023-06-19T05:56:02.652Z"
   },
   {
    "duration": 36,
    "start_time": "2023-06-19T05:56:02.696Z"
   },
   {
    "duration": 6,
    "start_time": "2023-06-19T05:56:02.734Z"
   },
   {
    "duration": 84,
    "start_time": "2023-06-19T05:56:02.741Z"
   },
   {
    "duration": 22,
    "start_time": "2023-06-19T05:56:02.827Z"
   },
   {
    "duration": 426,
    "start_time": "2023-06-19T05:56:02.851Z"
   },
   {
    "duration": 21,
    "start_time": "2023-06-19T05:56:03.278Z"
   },
   {
    "duration": 12717,
    "start_time": "2023-06-19T05:56:03.301Z"
   },
   {
    "duration": 6,
    "start_time": "2023-06-19T05:56:16.020Z"
   },
   {
    "duration": 264,
    "start_time": "2023-06-19T05:56:16.028Z"
   },
   {
    "duration": 50,
    "start_time": "2023-06-19T05:56:16.294Z"
   },
   {
    "duration": 66,
    "start_time": "2023-06-19T05:56:16.346Z"
   },
   {
    "duration": 94,
    "start_time": "2023-06-19T05:56:16.417Z"
   },
   {
    "duration": 15,
    "start_time": "2023-06-19T05:56:16.523Z"
   },
   {
    "duration": 54,
    "start_time": "2023-06-19T05:56:16.541Z"
   },
   {
    "duration": 33,
    "start_time": "2023-06-19T05:56:16.597Z"
   },
   {
    "duration": 17,
    "start_time": "2023-06-19T05:56:16.633Z"
   },
   {
    "duration": 196,
    "start_time": "2023-06-19T05:56:16.653Z"
   },
   {
    "duration": 282,
    "start_time": "2023-06-19T05:56:16.851Z"
   },
   {
    "duration": 4279,
    "start_time": "2023-06-19T05:56:17.135Z"
   },
   {
    "duration": 4,
    "start_time": "2023-06-19T05:56:21.416Z"
   },
   {
    "duration": 42674,
    "start_time": "2023-06-19T05:56:21.422Z"
   },
   {
    "duration": 197,
    "start_time": "2023-06-19T05:57:04.099Z"
   },
   {
    "duration": 945469,
    "start_time": "2023-06-19T05:57:04.300Z"
   },
   {
    "duration": 5379,
    "start_time": "2023-06-19T06:12:49.774Z"
   },
   {
    "duration": 63,
    "start_time": "2023-06-19T06:12:55.155Z"
   },
   {
    "duration": 145213,
    "start_time": "2023-06-19T06:13:13.967Z"
   },
   {
    "duration": 17,
    "start_time": "2023-06-19T06:16:33.302Z"
   },
   {
    "duration": 20,
    "start_time": "2023-06-19T06:16:52.144Z"
   },
   {
    "duration": 319453,
    "start_time": "2023-06-19T06:27:48.256Z"
   },
   {
    "duration": 166952,
    "start_time": "2023-06-19T08:44:28.146Z"
   },
   {
    "duration": 332963,
    "start_time": "2023-06-19T08:52:04.220Z"
   },
   {
    "duration": 519451,
    "start_time": "2023-06-19T09:50:30.226Z"
   },
   {
    "duration": 4674709,
    "start_time": "2023-06-19T15:03:27.714Z"
   },
   {
    "duration": 121,
    "start_time": "2023-06-20T12:52:03.355Z"
   },
   {
    "duration": 1722,
    "start_time": "2023-06-20T12:53:51.177Z"
   },
   {
    "duration": 1151,
    "start_time": "2023-06-20T12:53:52.901Z"
   },
   {
    "duration": 152,
    "start_time": "2023-06-20T12:53:54.054Z"
   },
   {
    "duration": 181,
    "start_time": "2023-06-20T12:53:54.208Z"
   },
   {
    "duration": 139,
    "start_time": "2023-06-20T12:53:54.391Z"
   },
   {
    "duration": 103,
    "start_time": "2023-06-20T12:53:54.532Z"
   },
   {
    "duration": 1224,
    "start_time": "2023-06-20T12:53:54.637Z"
   },
   {
    "duration": 429,
    "start_time": "2023-06-20T12:53:55.863Z"
   },
   {
    "duration": 362,
    "start_time": "2023-06-20T12:53:56.294Z"
   },
   {
    "duration": 23,
    "start_time": "2023-06-20T12:53:56.658Z"
   },
   {
    "duration": 58,
    "start_time": "2023-06-20T12:53:56.682Z"
   },
   {
    "duration": 57,
    "start_time": "2023-06-20T12:53:56.742Z"
   },
   {
    "duration": 200,
    "start_time": "2023-06-20T12:53:56.800Z"
   },
   {
    "duration": 35,
    "start_time": "2023-06-20T12:53:57.001Z"
   },
   {
    "duration": 47,
    "start_time": "2023-06-20T12:53:57.038Z"
   },
   {
    "duration": 57,
    "start_time": "2023-06-20T12:53:57.086Z"
   },
   {
    "duration": 99,
    "start_time": "2023-06-20T12:53:57.145Z"
   },
   {
    "duration": 52,
    "start_time": "2023-06-20T12:53:57.246Z"
   },
   {
    "duration": 13842,
    "start_time": "2023-06-20T12:53:57.300Z"
   },
   {
    "duration": 42,
    "start_time": "2023-06-20T12:54:11.144Z"
   },
   {
    "duration": 168,
    "start_time": "2023-06-20T12:54:11.187Z"
   },
   {
    "duration": 24,
    "start_time": "2023-06-20T12:54:11.357Z"
   },
   {
    "duration": 47,
    "start_time": "2023-06-20T12:54:11.383Z"
   },
   {
    "duration": 37,
    "start_time": "2023-06-20T12:54:11.432Z"
   },
   {
    "duration": 28,
    "start_time": "2023-06-20T12:54:11.471Z"
   },
   {
    "duration": 29,
    "start_time": "2023-06-20T12:54:11.501Z"
   },
   {
    "duration": 24,
    "start_time": "2023-06-20T12:54:11.532Z"
   },
   {
    "duration": 28,
    "start_time": "2023-06-20T12:54:11.561Z"
   },
   {
    "duration": 222,
    "start_time": "2023-06-20T12:54:11.591Z"
   },
   {
    "duration": 106,
    "start_time": "2023-06-20T12:54:11.815Z"
   },
   {
    "duration": 144,
    "start_time": "2023-06-20T12:54:11.922Z"
   },
   {
    "duration": 19,
    "start_time": "2023-06-20T12:54:12.068Z"
   },
   {
    "duration": 118,
    "start_time": "2023-06-20T12:54:12.088Z"
   },
   {
    "duration": 28,
    "start_time": "2023-06-20T12:54:12.208Z"
   },
   {
    "duration": 19,
    "start_time": "2023-06-20T12:54:12.238Z"
   },
   {
    "duration": 52,
    "start_time": "2023-06-20T12:54:12.259Z"
   },
   {
    "duration": 301,
    "start_time": "2023-06-20T12:54:12.313Z"
   },
   {
    "duration": 41,
    "start_time": "2023-06-20T12:54:12.616Z"
   },
   {
    "duration": 22,
    "start_time": "2023-06-20T12:54:12.659Z"
   },
   {
    "duration": 54,
    "start_time": "2023-06-20T12:54:12.683Z"
   },
   {
    "duration": 57,
    "start_time": "2023-06-20T12:54:12.739Z"
   },
   {
    "duration": 24,
    "start_time": "2023-06-20T12:54:12.797Z"
   },
   {
    "duration": 35,
    "start_time": "2023-06-20T12:54:12.823Z"
   },
   {
    "duration": 207,
    "start_time": "2023-06-20T12:54:12.860Z"
   },
   {
    "duration": 92,
    "start_time": "2023-06-20T12:54:13.069Z"
   },
   {
    "duration": 24,
    "start_time": "2023-06-20T12:54:13.163Z"
   },
   {
    "duration": 158,
    "start_time": "2023-06-20T12:54:13.188Z"
   },
   {
    "duration": 19,
    "start_time": "2023-06-20T12:54:13.348Z"
   },
   {
    "duration": 109,
    "start_time": "2023-06-20T12:54:13.369Z"
   },
   {
    "duration": 254,
    "start_time": "2023-06-20T12:54:13.480Z"
   },
   {
    "duration": 25,
    "start_time": "2023-06-20T12:54:13.736Z"
   },
   {
    "duration": 469,
    "start_time": "2023-06-20T12:54:13.763Z"
   },
   {
    "duration": 7,
    "start_time": "2023-06-20T12:54:14.234Z"
   },
   {
    "duration": 85,
    "start_time": "2023-06-20T12:54:14.254Z"
   },
   {
    "duration": 7,
    "start_time": "2023-06-20T12:54:14.341Z"
   },
   {
    "duration": 131,
    "start_time": "2023-06-20T12:54:14.349Z"
   },
   {
    "duration": 97,
    "start_time": "2023-06-20T12:54:14.482Z"
   },
   {
    "duration": 25,
    "start_time": "2023-06-20T12:54:14.581Z"
   },
   {
    "duration": 22,
    "start_time": "2023-06-20T12:54:14.608Z"
   },
   {
    "duration": 22,
    "start_time": "2023-06-20T12:54:14.632Z"
   },
   {
    "duration": 73,
    "start_time": "2023-06-20T12:54:14.656Z"
   },
   {
    "duration": 18,
    "start_time": "2023-06-20T12:54:14.731Z"
   },
   {
    "duration": 366,
    "start_time": "2023-06-20T12:54:14.751Z"
   },
   {
    "duration": 17,
    "start_time": "2023-06-20T12:54:15.119Z"
   },
   {
    "duration": 10506,
    "start_time": "2023-06-20T12:54:15.137Z"
   },
   {
    "duration": 12,
    "start_time": "2023-06-20T12:54:25.645Z"
   },
   {
    "duration": 59,
    "start_time": "2023-06-20T12:54:25.659Z"
   },
   {
    "duration": 100,
    "start_time": "2023-06-20T12:54:25.720Z"
   },
   {
    "duration": 133,
    "start_time": "2023-06-20T12:54:25.821Z"
   },
   {
    "duration": 45,
    "start_time": "2023-06-20T12:54:25.956Z"
   },
   {
    "duration": 14,
    "start_time": "2023-06-20T12:54:26.003Z"
   },
   {
    "duration": 65,
    "start_time": "2023-06-20T12:54:26.020Z"
   },
   {
    "duration": 25,
    "start_time": "2023-06-20T12:54:26.087Z"
   },
   {
    "duration": 17,
    "start_time": "2023-06-20T12:54:26.114Z"
   },
   {
    "duration": 154,
    "start_time": "2023-06-20T12:54:26.132Z"
   },
   {
    "duration": 232,
    "start_time": "2023-06-20T12:54:26.288Z"
   },
   {
    "duration": 4339,
    "start_time": "2023-06-20T12:54:26.522Z"
   },
   {
    "duration": 3,
    "start_time": "2023-06-20T12:54:30.863Z"
   },
   {
    "duration": 17487,
    "start_time": "2023-06-20T12:54:30.868Z"
   },
   {
    "duration": 130,
    "start_time": "2023-06-20T12:54:48.357Z"
   },
   {
    "duration": 166,
    "start_time": "2023-06-20T12:54:48.556Z"
   },
   {
    "duration": 0,
    "start_time": "2023-06-20T12:54:48.724Z"
   },
   {
    "duration": 0,
    "start_time": "2023-06-20T12:54:48.725Z"
   },
   {
    "duration": 6,
    "start_time": "2023-06-20T12:56:11.262Z"
   },
   {
    "duration": 473908,
    "start_time": "2023-06-20T12:57:13.037Z"
   },
   {
    "duration": 18364,
    "start_time": "2023-06-20T13:05:31.700Z"
   },
   {
    "duration": 562018,
    "start_time": "2023-06-20T13:05:52.945Z"
   },
   {
    "duration": 23,
    "start_time": "2023-06-20T13:18:19.353Z"
   },
   {
    "duration": 6,
    "start_time": "2023-06-20T13:18:20.250Z"
   },
   {
    "duration": 5259,
    "start_time": "2023-06-20T13:20:37.352Z"
   },
   {
    "duration": 136,
    "start_time": "2023-06-20T13:20:42.613Z"
   },
   {
    "duration": 11,
    "start_time": "2023-06-20T13:20:42.751Z"
   },
   {
    "duration": 45,
    "start_time": "2023-06-20T13:20:51.450Z"
   },
   {
    "duration": 5,
    "start_time": "2023-06-20T13:20:56.907Z"
   },
   {
    "duration": 598041,
    "start_time": "2023-06-20T13:21:00.153Z"
   },
   {
    "duration": 29,
    "start_time": "2023-06-20T13:32:21.261Z"
   },
   {
    "duration": 331,
    "start_time": "2023-06-20T13:32:32.415Z"
   },
   {
    "duration": 6,
    "start_time": "2023-06-20T13:32:34.351Z"
   },
   {
    "duration": 3,
    "start_time": "2023-06-20T13:37:50.605Z"
   },
   {
    "duration": 13638,
    "start_time": "2023-06-20T13:39:14.021Z"
   },
   {
    "duration": 457,
    "start_time": "2023-06-20T13:39:34.707Z"
   },
   {
    "duration": 5,
    "start_time": "2023-06-20T13:39:41.302Z"
   },
   {
    "duration": 45509,
    "start_time": "2023-06-20T13:43:01.605Z"
   },
   {
    "duration": 5,
    "start_time": "2023-06-20T13:43:47.116Z"
   },
   {
    "duration": 3,
    "start_time": "2023-06-20T13:43:53.573Z"
   },
   {
    "duration": 8160,
    "start_time": "2023-06-20T13:44:16.201Z"
   },
   {
    "duration": 146838,
    "start_time": "2023-06-20T13:45:57.326Z"
   },
   {
    "duration": 37080,
    "start_time": "2023-06-20T13:49:05.796Z"
   },
   {
    "duration": 66273,
    "start_time": "2023-06-20T13:53:46.384Z"
   },
   {
    "duration": 58,
    "start_time": "2023-06-20T13:56:12.909Z"
   },
   {
    "duration": 40,
    "start_time": "2023-06-20T13:56:29.296Z"
   },
   {
    "duration": 1953,
    "start_time": "2023-06-20T19:51:32.939Z"
   },
   {
    "duration": 1080,
    "start_time": "2023-06-20T19:51:34.893Z"
   },
   {
    "duration": 152,
    "start_time": "2023-06-20T19:51:35.975Z"
   },
   {
    "duration": 152,
    "start_time": "2023-06-20T19:51:36.129Z"
   },
   {
    "duration": 144,
    "start_time": "2023-06-20T19:51:36.283Z"
   },
   {
    "duration": 101,
    "start_time": "2023-06-20T19:51:36.432Z"
   },
   {
    "duration": 1190,
    "start_time": "2023-06-20T19:51:36.535Z"
   },
   {
    "duration": 407,
    "start_time": "2023-06-20T19:51:37.726Z"
   },
   {
    "duration": 326,
    "start_time": "2023-06-20T19:51:38.134Z"
   },
   {
    "duration": 19,
    "start_time": "2023-06-20T19:51:38.464Z"
   },
   {
    "duration": 28,
    "start_time": "2023-06-20T19:51:38.485Z"
   },
   {
    "duration": 40,
    "start_time": "2023-06-20T19:51:38.515Z"
   },
   {
    "duration": 166,
    "start_time": "2023-06-20T19:51:38.556Z"
   },
   {
    "duration": 35,
    "start_time": "2023-06-20T19:51:38.724Z"
   },
   {
    "duration": 36,
    "start_time": "2023-06-20T19:51:38.761Z"
   },
   {
    "duration": 52,
    "start_time": "2023-06-20T19:51:38.799Z"
   },
   {
    "duration": 64,
    "start_time": "2023-06-20T19:51:38.853Z"
   },
   {
    "duration": 39,
    "start_time": "2023-06-20T19:51:38.919Z"
   },
   {
    "duration": 12189,
    "start_time": "2023-06-20T19:51:38.959Z"
   },
   {
    "duration": 25,
    "start_time": "2023-06-20T19:51:51.150Z"
   },
   {
    "duration": 145,
    "start_time": "2023-06-20T19:51:51.177Z"
   },
   {
    "duration": 21,
    "start_time": "2023-06-20T19:51:51.331Z"
   },
   {
    "duration": 48,
    "start_time": "2023-06-20T19:51:51.353Z"
   },
   {
    "duration": 36,
    "start_time": "2023-06-20T19:51:51.402Z"
   },
   {
    "duration": 24,
    "start_time": "2023-06-20T19:51:51.441Z"
   },
   {
    "duration": 31,
    "start_time": "2023-06-20T19:51:51.466Z"
   },
   {
    "duration": 22,
    "start_time": "2023-06-20T19:51:51.499Z"
   },
   {
    "duration": 35,
    "start_time": "2023-06-20T19:51:51.533Z"
   },
   {
    "duration": 233,
    "start_time": "2023-06-20T19:51:51.570Z"
   },
   {
    "duration": 94,
    "start_time": "2023-06-20T19:51:51.804Z"
   },
   {
    "duration": 138,
    "start_time": "2023-06-20T19:51:51.900Z"
   },
   {
    "duration": 17,
    "start_time": "2023-06-20T19:51:52.039Z"
   },
   {
    "duration": 63,
    "start_time": "2023-06-20T19:51:52.058Z"
   },
   {
    "duration": 35,
    "start_time": "2023-06-20T19:51:52.122Z"
   },
   {
    "duration": 34,
    "start_time": "2023-06-20T19:51:52.159Z"
   },
   {
    "duration": 51,
    "start_time": "2023-06-20T19:51:52.195Z"
   },
   {
    "duration": 220,
    "start_time": "2023-06-20T19:51:52.247Z"
   },
   {
    "duration": 28,
    "start_time": "2023-06-20T19:51:52.469Z"
   },
   {
    "duration": 34,
    "start_time": "2023-06-20T19:51:52.498Z"
   },
   {
    "duration": 48,
    "start_time": "2023-06-20T19:51:52.533Z"
   },
   {
    "duration": 38,
    "start_time": "2023-06-20T19:51:52.583Z"
   },
   {
    "duration": 34,
    "start_time": "2023-06-20T19:51:52.622Z"
   },
   {
    "duration": 35,
    "start_time": "2023-06-20T19:51:52.658Z"
   },
   {
    "duration": 179,
    "start_time": "2023-06-20T19:51:52.694Z"
   },
   {
    "duration": 91,
    "start_time": "2023-06-20T19:51:52.875Z"
   },
   {
    "duration": 21,
    "start_time": "2023-06-20T19:51:52.968Z"
   },
   {
    "duration": 124,
    "start_time": "2023-06-20T19:51:52.991Z"
   },
   {
    "duration": 18,
    "start_time": "2023-06-20T19:51:53.116Z"
   },
   {
    "duration": 97,
    "start_time": "2023-06-20T19:51:53.135Z"
   },
   {
    "duration": 221,
    "start_time": "2023-06-20T19:51:53.234Z"
   },
   {
    "duration": 16,
    "start_time": "2023-06-20T19:51:53.457Z"
   },
   {
    "duration": 389,
    "start_time": "2023-06-20T19:51:53.475Z"
   },
   {
    "duration": 5,
    "start_time": "2023-06-20T19:51:53.865Z"
   },
   {
    "duration": 45,
    "start_time": "2023-06-20T19:51:53.872Z"
   },
   {
    "duration": 17,
    "start_time": "2023-06-20T19:51:53.918Z"
   },
   {
    "duration": 99,
    "start_time": "2023-06-20T19:51:53.936Z"
   },
   {
    "duration": 75,
    "start_time": "2023-06-20T19:51:54.037Z"
   },
   {
    "duration": 35,
    "start_time": "2023-06-20T19:51:54.114Z"
   },
   {
    "duration": 13,
    "start_time": "2023-06-20T19:51:54.150Z"
   },
   {
    "duration": 8,
    "start_time": "2023-06-20T19:51:54.165Z"
   },
   {
    "duration": 64,
    "start_time": "2023-06-20T19:51:54.174Z"
   },
   {
    "duration": 16,
    "start_time": "2023-06-20T19:51:54.239Z"
   },
   {
    "duration": 332,
    "start_time": "2023-06-20T19:51:54.257Z"
   },
   {
    "duration": 16,
    "start_time": "2023-06-20T19:51:54.591Z"
   },
   {
    "duration": 9485,
    "start_time": "2023-06-20T19:51:54.608Z"
   },
   {
    "duration": 4,
    "start_time": "2023-06-20T19:52:04.095Z"
   },
   {
    "duration": 70,
    "start_time": "2023-06-20T19:52:04.101Z"
   },
   {
    "duration": 63,
    "start_time": "2023-06-20T19:52:04.173Z"
   },
   {
    "duration": 44,
    "start_time": "2023-06-20T19:52:04.238Z"
   },
   {
    "duration": 50,
    "start_time": "2023-06-20T19:52:04.283Z"
   },
   {
    "duration": 14,
    "start_time": "2023-06-20T19:52:04.334Z"
   },
   {
    "duration": 45,
    "start_time": "2023-06-20T19:52:04.349Z"
   },
   {
    "duration": 43,
    "start_time": "2023-06-20T19:52:04.396Z"
   },
   {
    "duration": 32,
    "start_time": "2023-06-20T19:52:04.441Z"
   },
   {
    "duration": 154,
    "start_time": "2023-06-20T19:52:04.474Z"
   },
   {
    "duration": 238,
    "start_time": "2023-06-20T19:52:04.630Z"
   },
   {
    "duration": 4295,
    "start_time": "2023-06-20T19:52:04.870Z"
   },
   {
    "duration": 4,
    "start_time": "2023-06-20T19:52:09.167Z"
   },
   {
    "duration": 418576,
    "start_time": "2023-06-20T19:52:30.963Z"
   },
   {
    "duration": 2321,
    "start_time": "2023-06-20T19:59:29.541Z"
   },
   {
    "duration": 4,
    "start_time": "2023-06-20T19:59:31.864Z"
   },
   {
    "duration": 583954,
    "start_time": "2023-06-20T20:01:19.705Z"
   },
   {
    "duration": 260,
    "start_time": "2023-06-20T20:11:03.661Z"
   },
   {
    "duration": 4,
    "start_time": "2023-06-20T20:11:03.923Z"
   },
   {
    "duration": 217,
    "start_time": "2023-06-20T20:11:55.905Z"
   },
   {
    "duration": 1362,
    "start_time": "2023-06-20T20:12:03.791Z"
   },
   {
    "duration": 1123,
    "start_time": "2023-06-20T20:12:08.698Z"
   },
   {
    "duration": 4,
    "start_time": "2023-06-20T20:12:33.361Z"
   },
   {
    "duration": 881,
    "start_time": "2023-06-20T20:12:33.387Z"
   },
   {
    "duration": 133,
    "start_time": "2023-06-20T20:12:34.269Z"
   },
   {
    "duration": 162,
    "start_time": "2023-06-20T20:12:34.403Z"
   },
   {
    "duration": 150,
    "start_time": "2023-06-20T20:12:34.566Z"
   },
   {
    "duration": 106,
    "start_time": "2023-06-20T20:12:34.718Z"
   },
   {
    "duration": 1158,
    "start_time": "2023-06-20T20:12:34.831Z"
   },
   {
    "duration": 413,
    "start_time": "2023-06-20T20:12:35.990Z"
   },
   {
    "duration": 345,
    "start_time": "2023-06-20T20:12:36.405Z"
   },
   {
    "duration": 20,
    "start_time": "2023-06-20T20:12:36.751Z"
   },
   {
    "duration": 30,
    "start_time": "2023-06-20T20:12:36.773Z"
   },
   {
    "duration": 42,
    "start_time": "2023-06-20T20:12:36.804Z"
   },
   {
    "duration": 157,
    "start_time": "2023-06-20T20:12:36.848Z"
   },
   {
    "duration": 39,
    "start_time": "2023-06-20T20:12:37.007Z"
   },
   {
    "duration": 33,
    "start_time": "2023-06-20T20:12:37.048Z"
   },
   {
    "duration": 32,
    "start_time": "2023-06-20T20:12:37.083Z"
   },
   {
    "duration": 48,
    "start_time": "2023-06-20T20:12:37.116Z"
   },
   {
    "duration": 31,
    "start_time": "2023-06-20T20:12:37.166Z"
   },
   {
    "duration": 12967,
    "start_time": "2023-06-20T20:12:37.198Z"
   },
   {
    "duration": 22,
    "start_time": "2023-06-20T20:12:50.166Z"
   },
   {
    "duration": 156,
    "start_time": "2023-06-20T20:12:50.190Z"
   },
   {
    "duration": 19,
    "start_time": "2023-06-20T20:12:50.348Z"
   },
   {
    "duration": 54,
    "start_time": "2023-06-20T20:12:50.368Z"
   },
   {
    "duration": 30,
    "start_time": "2023-06-20T20:12:50.423Z"
   },
   {
    "duration": 27,
    "start_time": "2023-06-20T20:12:50.454Z"
   },
   {
    "duration": 18,
    "start_time": "2023-06-20T20:12:50.483Z"
   },
   {
    "duration": 15,
    "start_time": "2023-06-20T20:12:50.503Z"
   },
   {
    "duration": 38,
    "start_time": "2023-06-20T20:12:50.519Z"
   },
   {
    "duration": 201,
    "start_time": "2023-06-20T20:12:50.560Z"
   },
   {
    "duration": 100,
    "start_time": "2023-06-20T20:12:50.762Z"
   },
   {
    "duration": 132,
    "start_time": "2023-06-20T20:12:50.864Z"
   },
   {
    "duration": 16,
    "start_time": "2023-06-20T20:12:50.998Z"
   },
   {
    "duration": 50,
    "start_time": "2023-06-20T20:12:51.015Z"
   },
   {
    "duration": 19,
    "start_time": "2023-06-20T20:12:51.066Z"
   },
   {
    "duration": 18,
    "start_time": "2023-06-20T20:12:51.087Z"
   },
   {
    "duration": 26,
    "start_time": "2023-06-20T20:12:51.107Z"
   },
   {
    "duration": 220,
    "start_time": "2023-06-20T20:12:51.144Z"
   },
   {
    "duration": 26,
    "start_time": "2023-06-20T20:12:51.366Z"
   },
   {
    "duration": 18,
    "start_time": "2023-06-20T20:12:51.394Z"
   },
   {
    "duration": 41,
    "start_time": "2023-06-20T20:12:51.413Z"
   },
   {
    "duration": 29,
    "start_time": "2023-06-20T20:12:51.456Z"
   },
   {
    "duration": 23,
    "start_time": "2023-06-20T20:12:51.487Z"
   },
   {
    "duration": 46,
    "start_time": "2023-06-20T20:12:51.512Z"
   },
   {
    "duration": 192,
    "start_time": "2023-06-20T20:12:51.559Z"
   },
   {
    "duration": 94,
    "start_time": "2023-06-20T20:12:51.752Z"
   },
   {
    "duration": 20,
    "start_time": "2023-06-20T20:12:51.848Z"
   },
   {
    "duration": 136,
    "start_time": "2023-06-20T20:12:51.869Z"
   },
   {
    "duration": 18,
    "start_time": "2023-06-20T20:12:52.007Z"
   },
   {
    "duration": 119,
    "start_time": "2023-06-20T20:12:52.026Z"
   },
   {
    "duration": 214,
    "start_time": "2023-06-20T20:12:52.146Z"
   },
   {
    "duration": 15,
    "start_time": "2023-06-20T20:12:52.362Z"
   },
   {
    "duration": 391,
    "start_time": "2023-06-20T20:12:52.378Z"
   },
   {
    "duration": 4,
    "start_time": "2023-06-20T20:12:52.771Z"
   },
   {
    "duration": 38,
    "start_time": "2023-06-20T20:12:52.776Z"
   },
   {
    "duration": 31,
    "start_time": "2023-06-20T20:12:52.815Z"
   },
   {
    "duration": 100,
    "start_time": "2023-06-20T20:12:52.847Z"
   },
   {
    "duration": 72,
    "start_time": "2023-06-20T20:12:52.949Z"
   },
   {
    "duration": 34,
    "start_time": "2023-06-20T20:12:53.023Z"
   },
   {
    "duration": 23,
    "start_time": "2023-06-20T20:12:53.059Z"
   },
   {
    "duration": 17,
    "start_time": "2023-06-20T20:12:53.083Z"
   },
   {
    "duration": 56,
    "start_time": "2023-06-20T20:12:53.102Z"
   },
   {
    "duration": 17,
    "start_time": "2023-06-20T20:12:53.160Z"
   },
   {
    "duration": 368,
    "start_time": "2023-06-20T20:12:53.178Z"
   },
   {
    "duration": 16,
    "start_time": "2023-06-20T20:12:53.548Z"
   },
   {
    "duration": 10200,
    "start_time": "2023-06-20T20:12:53.566Z"
   },
   {
    "duration": 5,
    "start_time": "2023-06-20T20:13:03.767Z"
   },
   {
    "duration": 18,
    "start_time": "2023-06-20T20:13:03.773Z"
   },
   {
    "duration": 30,
    "start_time": "2023-06-20T20:13:03.792Z"
   },
   {
    "duration": 59,
    "start_time": "2023-06-20T20:13:03.832Z"
   },
   {
    "duration": 47,
    "start_time": "2023-06-20T20:13:03.893Z"
   },
   {
    "duration": 13,
    "start_time": "2023-06-20T20:13:03.942Z"
   },
   {
    "duration": 42,
    "start_time": "2023-06-20T20:13:03.956Z"
   },
   {
    "duration": 44,
    "start_time": "2023-06-20T20:13:03.999Z"
   },
   {
    "duration": 14,
    "start_time": "2023-06-20T20:13:04.046Z"
   },
   {
    "duration": 147,
    "start_time": "2023-06-20T20:13:04.062Z"
   },
   {
    "duration": 200,
    "start_time": "2023-06-20T20:13:04.210Z"
   },
   {
    "duration": 3827,
    "start_time": "2023-06-20T20:13:04.412Z"
   },
   {
    "duration": 4,
    "start_time": "2023-06-20T20:13:08.241Z"
   },
   {
    "duration": 43341,
    "start_time": "2023-06-20T20:13:23.296Z"
   },
   {
    "duration": 427,
    "start_time": "2023-06-20T20:14:10.323Z"
   },
   {
    "duration": 6,
    "start_time": "2023-06-20T20:14:12.716Z"
   },
   {
    "duration": 203805,
    "start_time": "2023-06-20T20:15:11.652Z"
   },
   {
    "duration": 324,
    "start_time": "2023-06-20T20:18:35.534Z"
   },
   {
    "duration": 12,
    "start_time": "2023-06-20T20:18:35.932Z"
   },
   {
    "duration": 1477,
    "start_time": "2023-06-20T20:24:38.141Z"
   },
   {
    "duration": 823,
    "start_time": "2023-06-20T20:24:39.620Z"
   },
   {
    "duration": 134,
    "start_time": "2023-06-20T20:24:40.445Z"
   },
   {
    "duration": 152,
    "start_time": "2023-06-20T20:24:40.580Z"
   },
   {
    "duration": 118,
    "start_time": "2023-06-20T20:24:40.740Z"
   },
   {
    "duration": 132,
    "start_time": "2023-06-20T20:24:40.860Z"
   },
   {
    "duration": 1160,
    "start_time": "2023-06-20T20:24:40.993Z"
   },
   {
    "duration": 399,
    "start_time": "2023-06-20T20:24:42.154Z"
   },
   {
    "duration": 338,
    "start_time": "2023-06-20T20:24:42.554Z"
   },
   {
    "duration": 20,
    "start_time": "2023-06-20T20:24:42.894Z"
   },
   {
    "duration": 49,
    "start_time": "2023-06-20T20:24:42.916Z"
   },
   {
    "duration": 78,
    "start_time": "2023-06-20T20:24:42.967Z"
   },
   {
    "duration": 193,
    "start_time": "2023-06-20T20:24:43.048Z"
   },
   {
    "duration": 32,
    "start_time": "2023-06-20T20:24:43.244Z"
   },
   {
    "duration": 188,
    "start_time": "2023-06-20T20:24:43.278Z"
   },
   {
    "duration": 35,
    "start_time": "2023-06-20T20:24:43.468Z"
   },
   {
    "duration": 45,
    "start_time": "2023-06-20T20:24:43.505Z"
   },
   {
    "duration": 30,
    "start_time": "2023-06-20T20:24:43.552Z"
   },
   {
    "duration": 13477,
    "start_time": "2023-06-20T20:24:43.584Z"
   },
   {
    "duration": 22,
    "start_time": "2023-06-20T20:24:57.063Z"
   },
   {
    "duration": 182,
    "start_time": "2023-06-20T20:24:57.086Z"
   },
   {
    "duration": 20,
    "start_time": "2023-06-20T20:24:57.270Z"
   },
   {
    "duration": 49,
    "start_time": "2023-06-20T20:24:57.292Z"
   },
   {
    "duration": 23,
    "start_time": "2023-06-20T20:24:57.347Z"
   },
   {
    "duration": 29,
    "start_time": "2023-06-20T20:24:57.371Z"
   },
   {
    "duration": 18,
    "start_time": "2023-06-20T20:24:57.401Z"
   },
   {
    "duration": 31,
    "start_time": "2023-06-20T20:24:57.420Z"
   },
   {
    "duration": 33,
    "start_time": "2023-06-20T20:24:57.453Z"
   },
   {
    "duration": 218,
    "start_time": "2023-06-20T20:24:57.488Z"
   },
   {
    "duration": 116,
    "start_time": "2023-06-20T20:24:57.708Z"
   },
   {
    "duration": 157,
    "start_time": "2023-06-20T20:24:57.826Z"
   },
   {
    "duration": 17,
    "start_time": "2023-06-20T20:24:57.985Z"
   },
   {
    "duration": 58,
    "start_time": "2023-06-20T20:24:58.004Z"
   },
   {
    "duration": 26,
    "start_time": "2023-06-20T20:24:58.064Z"
   },
   {
    "duration": 16,
    "start_time": "2023-06-20T20:24:58.092Z"
   },
   {
    "duration": 28,
    "start_time": "2023-06-20T20:24:58.110Z"
   },
   {
    "duration": 242,
    "start_time": "2023-06-20T20:24:58.140Z"
   },
   {
    "duration": 28,
    "start_time": "2023-06-20T20:24:58.383Z"
   },
   {
    "duration": 38,
    "start_time": "2023-06-20T20:24:58.412Z"
   },
   {
    "duration": 29,
    "start_time": "2023-06-20T20:24:58.451Z"
   },
   {
    "duration": 26,
    "start_time": "2023-06-20T20:24:58.484Z"
   },
   {
    "duration": 47,
    "start_time": "2023-06-20T20:24:58.512Z"
   },
   {
    "duration": 45,
    "start_time": "2023-06-20T20:24:58.561Z"
   },
   {
    "duration": 188,
    "start_time": "2023-06-20T20:24:58.608Z"
   },
   {
    "duration": 90,
    "start_time": "2023-06-20T20:24:58.798Z"
   },
   {
    "duration": 20,
    "start_time": "2023-06-20T20:24:58.890Z"
   },
   {
    "duration": 155,
    "start_time": "2023-06-20T20:24:58.912Z"
   },
   {
    "duration": 16,
    "start_time": "2023-06-20T20:24:59.069Z"
   },
   {
    "duration": 109,
    "start_time": "2023-06-20T20:24:59.087Z"
   },
   {
    "duration": 225,
    "start_time": "2023-06-20T20:24:59.198Z"
   },
   {
    "duration": 23,
    "start_time": "2023-06-20T20:24:59.425Z"
   },
   {
    "duration": 409,
    "start_time": "2023-06-20T20:24:59.450Z"
   },
   {
    "duration": 4,
    "start_time": "2023-06-20T20:24:59.861Z"
   },
   {
    "duration": 44,
    "start_time": "2023-06-20T20:24:59.867Z"
   },
   {
    "duration": 33,
    "start_time": "2023-06-20T20:24:59.913Z"
   },
   {
    "duration": 101,
    "start_time": "2023-06-20T20:24:59.947Z"
   },
   {
    "duration": 90,
    "start_time": "2023-06-20T20:25:00.050Z"
   },
   {
    "duration": 117,
    "start_time": "2023-06-20T20:25:00.142Z"
   },
   {
    "duration": 179,
    "start_time": "2023-06-20T20:25:00.261Z"
   },
   {
    "duration": 39,
    "start_time": "2023-06-20T20:25:00.447Z"
   },
   {
    "duration": 85,
    "start_time": "2023-06-20T20:25:00.488Z"
   },
   {
    "duration": 122,
    "start_time": "2023-06-20T20:25:00.575Z"
   },
   {
    "duration": 450,
    "start_time": "2023-06-20T20:25:00.699Z"
   },
   {
    "duration": 20,
    "start_time": "2023-06-20T20:25:01.151Z"
   },
   {
    "duration": 11034,
    "start_time": "2023-06-20T20:25:01.173Z"
   },
   {
    "duration": 6,
    "start_time": "2023-06-20T20:25:12.209Z"
   },
   {
    "duration": 31,
    "start_time": "2023-06-20T20:25:12.217Z"
   },
   {
    "duration": 38,
    "start_time": "2023-06-20T20:25:12.250Z"
   },
   {
    "duration": 52,
    "start_time": "2023-06-20T20:25:12.289Z"
   },
   {
    "duration": 44,
    "start_time": "2023-06-20T20:25:12.348Z"
   },
   {
    "duration": 15,
    "start_time": "2023-06-20T20:25:12.394Z"
   },
   {
    "duration": 218,
    "start_time": "2023-06-20T20:25:12.411Z"
   },
   {
    "duration": 32,
    "start_time": "2023-06-20T20:25:12.631Z"
   },
   {
    "duration": 28,
    "start_time": "2023-06-20T20:25:12.665Z"
   },
   {
    "duration": 160,
    "start_time": "2023-06-20T20:25:12.695Z"
   },
   {
    "duration": 219,
    "start_time": "2023-06-20T20:25:12.857Z"
   },
   {
    "duration": 4610,
    "start_time": "2023-06-20T20:25:13.078Z"
   },
   {
    "duration": 3,
    "start_time": "2023-06-20T20:25:17.690Z"
   },
   {
    "duration": 51147,
    "start_time": "2023-06-20T20:25:17.694Z"
   },
   {
    "duration": 187,
    "start_time": "2023-06-20T20:26:08.847Z"
   },
   {
    "duration": 8,
    "start_time": "2023-06-20T20:26:09.036Z"
   },
   {
    "duration": 715301,
    "start_time": "2023-06-20T20:26:09.046Z"
   },
   {
    "duration": 98,
    "start_time": "2023-06-20T20:38:04.352Z"
   },
   {
    "duration": 79,
    "start_time": "2023-06-20T20:38:04.455Z"
   },
   {
    "duration": 435475,
    "start_time": "2023-06-20T20:38:04.537Z"
   },
   {
    "duration": 2203,
    "start_time": "2023-06-20T20:45:20.014Z"
   },
   {
    "duration": 5,
    "start_time": "2023-06-20T20:45:22.219Z"
   },
   {
    "duration": 581818,
    "start_time": "2023-06-20T20:45:22.231Z"
   },
   {
    "duration": 218,
    "start_time": "2023-06-20T20:55:04.050Z"
   },
   {
    "duration": 4,
    "start_time": "2023-06-20T20:55:04.270Z"
   },
   {
    "duration": 149,
    "start_time": "2023-06-20T20:55:58.971Z"
   },
   {
    "duration": 1435,
    "start_time": "2023-06-20T20:57:10.025Z"
   },
   {
    "duration": 1215,
    "start_time": "2023-06-20T20:57:11.462Z"
   },
   {
    "duration": 136,
    "start_time": "2023-06-20T20:57:12.679Z"
   },
   {
    "duration": 165,
    "start_time": "2023-06-20T20:57:12.817Z"
   },
   {
    "duration": 128,
    "start_time": "2023-06-20T20:57:12.985Z"
   },
   {
    "duration": 128,
    "start_time": "2023-06-20T20:57:13.114Z"
   },
   {
    "duration": 1165,
    "start_time": "2023-06-20T20:57:13.244Z"
   },
   {
    "duration": 514,
    "start_time": "2023-06-20T20:57:14.410Z"
   },
   {
    "duration": 387,
    "start_time": "2023-06-20T20:57:14.925Z"
   },
   {
    "duration": 25,
    "start_time": "2023-06-20T20:57:15.313Z"
   },
   {
    "duration": 58,
    "start_time": "2023-06-20T20:57:15.343Z"
   },
   {
    "duration": 41,
    "start_time": "2023-06-20T20:57:15.403Z"
   },
   {
    "duration": 216,
    "start_time": "2023-06-20T20:57:15.445Z"
   },
   {
    "duration": 98,
    "start_time": "2023-06-20T20:57:15.665Z"
   },
   {
    "duration": 42,
    "start_time": "2023-06-20T20:57:15.768Z"
   },
   {
    "duration": 94,
    "start_time": "2023-06-20T20:57:15.811Z"
   },
   {
    "duration": 68,
    "start_time": "2023-06-20T20:57:15.906Z"
   },
   {
    "duration": 76,
    "start_time": "2023-06-20T20:57:15.976Z"
   },
   {
    "duration": 14273,
    "start_time": "2023-06-20T20:57:16.056Z"
   },
   {
    "duration": 34,
    "start_time": "2023-06-20T20:57:30.339Z"
   },
   {
    "duration": 202,
    "start_time": "2023-06-20T20:57:30.374Z"
   },
   {
    "duration": 95,
    "start_time": "2023-06-20T20:57:30.578Z"
   },
   {
    "duration": 73,
    "start_time": "2023-06-20T20:57:30.675Z"
   },
   {
    "duration": 63,
    "start_time": "2023-06-20T20:57:30.754Z"
   },
   {
    "duration": 44,
    "start_time": "2023-06-20T20:57:30.819Z"
   },
   {
    "duration": 59,
    "start_time": "2023-06-20T20:57:30.865Z"
   },
   {
    "duration": 79,
    "start_time": "2023-06-20T20:57:30.925Z"
   },
   {
    "duration": 124,
    "start_time": "2023-06-20T20:57:31.006Z"
   },
   {
    "duration": 302,
    "start_time": "2023-06-20T20:57:31.142Z"
   },
   {
    "duration": 115,
    "start_time": "2023-06-20T20:57:31.452Z"
   },
   {
    "duration": 161,
    "start_time": "2023-06-20T20:57:31.569Z"
   },
   {
    "duration": 109,
    "start_time": "2023-06-20T20:57:31.732Z"
   },
   {
    "duration": 55,
    "start_time": "2023-06-20T20:57:31.843Z"
   },
   {
    "duration": 20,
    "start_time": "2023-06-20T20:57:31.900Z"
   },
   {
    "duration": 58,
    "start_time": "2023-06-20T20:57:31.922Z"
   },
   {
    "duration": 36,
    "start_time": "2023-06-20T20:57:31.982Z"
   },
   {
    "duration": 288,
    "start_time": "2023-06-20T20:57:32.020Z"
   },
   {
    "duration": 51,
    "start_time": "2023-06-20T20:57:32.310Z"
   },
   {
    "duration": 33,
    "start_time": "2023-06-20T20:57:32.365Z"
   },
   {
    "duration": 34,
    "start_time": "2023-06-20T20:57:32.400Z"
   },
   {
    "duration": 61,
    "start_time": "2023-06-20T20:57:32.442Z"
   },
   {
    "duration": 39,
    "start_time": "2023-06-20T20:57:32.505Z"
   },
   {
    "duration": 52,
    "start_time": "2023-06-20T20:57:32.548Z"
   },
   {
    "duration": 211,
    "start_time": "2023-06-20T20:57:32.602Z"
   },
   {
    "duration": 96,
    "start_time": "2023-06-20T20:57:32.815Z"
   },
   {
    "duration": 38,
    "start_time": "2023-06-20T20:57:32.913Z"
   },
   {
    "duration": 144,
    "start_time": "2023-06-20T20:57:32.952Z"
   },
   {
    "duration": 16,
    "start_time": "2023-06-20T20:57:33.098Z"
   },
   {
    "duration": 122,
    "start_time": "2023-06-20T20:57:33.116Z"
   },
   {
    "duration": 245,
    "start_time": "2023-06-20T20:57:33.239Z"
   },
   {
    "duration": 18,
    "start_time": "2023-06-20T20:57:33.485Z"
   },
   {
    "duration": 475,
    "start_time": "2023-06-20T20:57:33.504Z"
   },
   {
    "duration": 5,
    "start_time": "2023-06-20T20:57:33.981Z"
   },
   {
    "duration": 65,
    "start_time": "2023-06-20T20:57:33.987Z"
   },
   {
    "duration": 10,
    "start_time": "2023-06-20T20:57:34.053Z"
   },
   {
    "duration": 95,
    "start_time": "2023-06-20T20:57:34.065Z"
   },
   {
    "duration": 95,
    "start_time": "2023-06-20T20:57:34.162Z"
   },
   {
    "duration": 25,
    "start_time": "2023-06-20T20:57:34.260Z"
   },
   {
    "duration": 14,
    "start_time": "2023-06-20T20:57:34.286Z"
   },
   {
    "duration": 68,
    "start_time": "2023-06-20T20:57:34.301Z"
   },
   {
    "duration": 117,
    "start_time": "2023-06-20T20:57:34.371Z"
   },
   {
    "duration": 23,
    "start_time": "2023-06-20T20:57:34.490Z"
   },
   {
    "duration": 458,
    "start_time": "2023-06-20T20:57:34.515Z"
   },
   {
    "duration": 17,
    "start_time": "2023-06-20T20:57:34.975Z"
   },
   {
    "duration": 10643,
    "start_time": "2023-06-20T20:57:34.994Z"
   },
   {
    "duration": 7,
    "start_time": "2023-06-20T20:57:45.645Z"
   },
   {
    "duration": 23,
    "start_time": "2023-06-20T20:57:45.653Z"
   },
   {
    "duration": 31,
    "start_time": "2023-06-20T20:57:45.677Z"
   },
   {
    "duration": 53,
    "start_time": "2023-06-20T20:57:45.710Z"
   },
   {
    "duration": 43,
    "start_time": "2023-06-20T20:57:45.764Z"
   },
   {
    "duration": 14,
    "start_time": "2023-06-20T20:57:45.808Z"
   },
   {
    "duration": 52,
    "start_time": "2023-06-20T20:57:45.831Z"
   },
   {
    "duration": 25,
    "start_time": "2023-06-20T20:57:45.885Z"
   },
   {
    "duration": 38,
    "start_time": "2023-06-20T20:57:45.912Z"
   },
   {
    "duration": 137,
    "start_time": "2023-06-20T20:57:45.952Z"
   },
   {
    "duration": 218,
    "start_time": "2023-06-20T20:57:46.091Z"
   },
   {
    "duration": 3842,
    "start_time": "2023-06-20T20:57:46.310Z"
   },
   {
    "duration": 4,
    "start_time": "2023-06-20T20:57:50.157Z"
   },
   {
    "duration": 58897,
    "start_time": "2023-06-20T20:57:50.162Z"
   },
   {
    "duration": 200,
    "start_time": "2023-06-20T20:58:49.131Z"
   },
   {
    "duration": 17,
    "start_time": "2023-06-20T20:58:49.340Z"
   },
   {
    "duration": 349503,
    "start_time": "2023-06-20T20:58:49.360Z"
   },
   {
    "duration": 36,
    "start_time": "2023-06-20T21:04:38.938Z"
   },
   {
    "duration": 119,
    "start_time": "2023-06-20T21:04:39.035Z"
   },
   {
    "duration": 438383,
    "start_time": "2023-06-20T21:04:39.158Z"
   },
   {
    "duration": 2119,
    "start_time": "2023-06-20T21:11:57.550Z"
   },
   {
    "duration": 6,
    "start_time": "2023-06-20T21:11:59.670Z"
   },
   {
    "duration": 760183,
    "start_time": "2023-06-20T21:11:59.678Z"
   },
   {
    "duration": 437,
    "start_time": "2023-06-20T21:24:39.864Z"
   },
   {
    "duration": 5,
    "start_time": "2023-06-20T21:24:40.303Z"
   },
   {
    "duration": 46,
    "start_time": "2023-06-20T21:25:15.556Z"
   },
   {
    "duration": 1529,
    "start_time": "2023-06-20T21:25:34.826Z"
   },
   {
    "duration": 1233,
    "start_time": "2023-06-20T21:25:36.359Z"
   },
   {
    "duration": 167,
    "start_time": "2023-06-20T21:25:37.593Z"
   },
   {
    "duration": 161,
    "start_time": "2023-06-20T21:25:37.763Z"
   },
   {
    "duration": 147,
    "start_time": "2023-06-20T21:25:37.925Z"
   },
   {
    "duration": 97,
    "start_time": "2023-06-20T21:25:38.073Z"
   },
   {
    "duration": 1174,
    "start_time": "2023-06-20T21:25:38.172Z"
   },
   {
    "duration": 407,
    "start_time": "2023-06-20T21:25:39.348Z"
   },
   {
    "duration": 358,
    "start_time": "2023-06-20T21:25:39.757Z"
   },
   {
    "duration": 38,
    "start_time": "2023-06-20T21:25:40.118Z"
   },
   {
    "duration": 67,
    "start_time": "2023-06-20T21:25:40.157Z"
   },
   {
    "duration": 159,
    "start_time": "2023-06-20T21:25:40.226Z"
   },
   {
    "duration": 174,
    "start_time": "2023-06-20T21:25:40.386Z"
   },
   {
    "duration": 31,
    "start_time": "2023-06-20T21:25:40.561Z"
   },
   {
    "duration": 63,
    "start_time": "2023-06-20T21:25:40.593Z"
   },
   {
    "duration": 51,
    "start_time": "2023-06-20T21:25:40.657Z"
   },
   {
    "duration": 56,
    "start_time": "2023-06-20T21:25:40.709Z"
   },
   {
    "duration": 29,
    "start_time": "2023-06-20T21:25:40.767Z"
   },
   {
    "duration": 14494,
    "start_time": "2023-06-20T21:25:40.798Z"
   },
   {
    "duration": 22,
    "start_time": "2023-06-20T21:25:55.293Z"
   },
   {
    "duration": 164,
    "start_time": "2023-06-20T21:25:55.317Z"
   },
   {
    "duration": 22,
    "start_time": "2023-06-20T21:25:55.482Z"
   },
   {
    "duration": 57,
    "start_time": "2023-06-20T21:25:55.506Z"
   },
   {
    "duration": 25,
    "start_time": "2023-06-20T21:25:55.565Z"
   },
   {
    "duration": 21,
    "start_time": "2023-06-20T21:25:55.592Z"
   },
   {
    "duration": 42,
    "start_time": "2023-06-20T21:25:55.615Z"
   },
   {
    "duration": 17,
    "start_time": "2023-06-20T21:25:55.659Z"
   },
   {
    "duration": 29,
    "start_time": "2023-06-20T21:25:55.680Z"
   },
   {
    "duration": 209,
    "start_time": "2023-06-20T21:25:55.710Z"
   },
   {
    "duration": 120,
    "start_time": "2023-06-20T21:25:55.921Z"
   },
   {
    "duration": 144,
    "start_time": "2023-06-20T21:25:56.045Z"
   },
   {
    "duration": 16,
    "start_time": "2023-06-20T21:25:56.190Z"
   },
   {
    "duration": 52,
    "start_time": "2023-06-20T21:25:56.207Z"
   },
   {
    "duration": 18,
    "start_time": "2023-06-20T21:25:56.261Z"
   },
   {
    "duration": 16,
    "start_time": "2023-06-20T21:25:56.280Z"
   },
   {
    "duration": 23,
    "start_time": "2023-06-20T21:25:56.297Z"
   },
   {
    "duration": 230,
    "start_time": "2023-06-20T21:25:56.321Z"
   },
   {
    "duration": 36,
    "start_time": "2023-06-20T21:25:56.552Z"
   },
   {
    "duration": 19,
    "start_time": "2023-06-20T21:25:56.590Z"
   },
   {
    "duration": 53,
    "start_time": "2023-06-20T21:25:56.610Z"
   },
   {
    "duration": 28,
    "start_time": "2023-06-20T21:25:56.665Z"
   },
   {
    "duration": 18,
    "start_time": "2023-06-20T21:25:56.695Z"
   },
   {
    "duration": 49,
    "start_time": "2023-06-20T21:25:56.714Z"
   },
   {
    "duration": 209,
    "start_time": "2023-06-20T21:25:56.764Z"
   },
   {
    "duration": 91,
    "start_time": "2023-06-20T21:25:56.975Z"
   },
   {
    "duration": 19,
    "start_time": "2023-06-20T21:25:57.068Z"
   },
   {
    "duration": 156,
    "start_time": "2023-06-20T21:25:57.089Z"
   },
   {
    "duration": 21,
    "start_time": "2023-06-20T21:25:57.249Z"
   },
   {
    "duration": 91,
    "start_time": "2023-06-20T21:25:57.272Z"
   },
   {
    "duration": 228,
    "start_time": "2023-06-20T21:25:57.365Z"
   },
   {
    "duration": 16,
    "start_time": "2023-06-20T21:25:57.595Z"
   },
   {
    "duration": 458,
    "start_time": "2023-06-20T21:25:57.613Z"
   },
   {
    "duration": 5,
    "start_time": "2023-06-20T21:25:58.073Z"
   },
   {
    "duration": 71,
    "start_time": "2023-06-20T21:25:58.081Z"
   },
   {
    "duration": 7,
    "start_time": "2023-06-20T21:25:58.154Z"
   },
   {
    "duration": 118,
    "start_time": "2023-06-20T21:25:58.162Z"
   },
   {
    "duration": 94,
    "start_time": "2023-06-20T21:25:58.282Z"
   },
   {
    "duration": 37,
    "start_time": "2023-06-20T21:25:58.377Z"
   },
   {
    "duration": 82,
    "start_time": "2023-06-20T21:25:58.416Z"
   },
   {
    "duration": 72,
    "start_time": "2023-06-20T21:25:58.499Z"
   },
   {
    "duration": 58,
    "start_time": "2023-06-20T21:25:58.572Z"
   },
   {
    "duration": 19,
    "start_time": "2023-06-20T21:25:58.642Z"
   },
   {
    "duration": 358,
    "start_time": "2023-06-20T21:25:58.663Z"
   },
   {
    "duration": 26,
    "start_time": "2023-06-20T21:25:59.023Z"
   },
   {
    "duration": 10658,
    "start_time": "2023-06-20T21:25:59.051Z"
   },
   {
    "duration": 4,
    "start_time": "2023-06-20T21:26:09.710Z"
   },
   {
    "duration": 43,
    "start_time": "2023-06-20T21:26:09.716Z"
   },
   {
    "duration": 34,
    "start_time": "2023-06-20T21:26:09.761Z"
   },
   {
    "duration": 52,
    "start_time": "2023-06-20T21:26:09.797Z"
   },
   {
    "duration": 44,
    "start_time": "2023-06-20T21:26:09.854Z"
   },
   {
    "duration": 13,
    "start_time": "2023-06-20T21:26:09.900Z"
   },
   {
    "duration": 60,
    "start_time": "2023-06-20T21:26:09.914Z"
   },
   {
    "duration": 24,
    "start_time": "2023-06-20T21:26:09.976Z"
   },
   {
    "duration": 31,
    "start_time": "2023-06-20T21:26:10.002Z"
   },
   {
    "duration": 140,
    "start_time": "2023-06-20T21:26:10.035Z"
   },
   {
    "duration": 224,
    "start_time": "2023-06-20T21:26:10.176Z"
   },
   {
    "duration": 4210,
    "start_time": "2023-06-20T21:26:10.402Z"
   },
   {
    "duration": 4,
    "start_time": "2023-06-20T21:26:14.614Z"
   },
   {
    "duration": 63832,
    "start_time": "2023-06-20T21:26:14.620Z"
   },
   {
    "duration": 214,
    "start_time": "2023-06-20T21:27:18.454Z"
   },
   {
    "duration": 13,
    "start_time": "2023-06-20T21:27:18.732Z"
   },
   {
    "duration": 321518,
    "start_time": "2023-06-20T21:27:18.831Z"
   },
   {
    "duration": 87,
    "start_time": "2023-06-20T21:32:40.353Z"
   },
   {
    "duration": 89,
    "start_time": "2023-06-20T21:32:40.446Z"
   },
   {
    "duration": 431313,
    "start_time": "2023-06-20T21:32:40.537Z"
   },
   {
    "duration": 2098,
    "start_time": "2023-06-20T21:39:51.852Z"
   },
   {
    "duration": 9,
    "start_time": "2023-06-20T21:39:53.952Z"
   },
   {
    "duration": 761956,
    "start_time": "2023-06-20T21:39:53.963Z"
   },
   {
    "duration": 417,
    "start_time": "2023-06-20T21:52:35.921Z"
   },
   {
    "duration": 11,
    "start_time": "2023-06-20T21:52:36.340Z"
   },
   {
    "duration": 131,
    "start_time": "2023-06-20T21:52:36.357Z"
   },
   {
    "duration": 126,
    "start_time": "2023-06-20T21:59:37.359Z"
   },
   {
    "duration": 1371,
    "start_time": "2023-06-20T21:59:58.179Z"
   },
   {
    "duration": 1105,
    "start_time": "2023-06-20T21:59:59.552Z"
   },
   {
    "duration": 138,
    "start_time": "2023-06-20T22:00:00.659Z"
   },
   {
    "duration": 142,
    "start_time": "2023-06-20T22:00:00.799Z"
   },
   {
    "duration": 134,
    "start_time": "2023-06-20T22:00:00.943Z"
   },
   {
    "duration": 763,
    "start_time": "2023-06-20T22:00:01.078Z"
   },
   {
    "duration": 1175,
    "start_time": "2023-06-20T22:00:01.843Z"
   },
   {
    "duration": 430,
    "start_time": "2023-06-20T22:00:03.019Z"
   },
   {
    "duration": 350,
    "start_time": "2023-06-20T22:00:03.451Z"
   },
   {
    "duration": 19,
    "start_time": "2023-06-20T22:00:03.804Z"
   },
   {
    "duration": 32,
    "start_time": "2023-06-20T22:00:03.824Z"
   },
   {
    "duration": 32,
    "start_time": "2023-06-20T22:00:03.858Z"
   },
   {
    "duration": 177,
    "start_time": "2023-06-20T22:00:03.891Z"
   },
   {
    "duration": 30,
    "start_time": "2023-06-20T22:00:04.070Z"
   },
   {
    "duration": 90,
    "start_time": "2023-06-20T22:00:04.101Z"
   },
   {
    "duration": 88,
    "start_time": "2023-06-20T22:00:04.193Z"
   },
   {
    "duration": 178,
    "start_time": "2023-06-20T22:00:04.283Z"
   },
   {
    "duration": 59,
    "start_time": "2023-06-20T22:00:04.462Z"
   },
   {
    "duration": 13078,
    "start_time": "2023-06-20T22:00:04.523Z"
   },
   {
    "duration": 32,
    "start_time": "2023-06-20T22:00:17.603Z"
   },
   {
    "duration": 151,
    "start_time": "2023-06-20T22:00:17.644Z"
   },
   {
    "duration": 22,
    "start_time": "2023-06-20T22:00:17.796Z"
   },
   {
    "duration": 54,
    "start_time": "2023-06-20T22:00:17.819Z"
   },
   {
    "duration": 30,
    "start_time": "2023-06-20T22:00:17.875Z"
   },
   {
    "duration": 38,
    "start_time": "2023-06-20T22:00:17.907Z"
   },
   {
    "duration": 46,
    "start_time": "2023-06-20T22:00:17.947Z"
   },
   {
    "duration": 33,
    "start_time": "2023-06-20T22:00:17.995Z"
   },
   {
    "duration": 44,
    "start_time": "2023-06-20T22:00:18.033Z"
   },
   {
    "duration": 210,
    "start_time": "2023-06-20T22:00:18.079Z"
   },
   {
    "duration": 104,
    "start_time": "2023-06-20T22:00:18.291Z"
   },
   {
    "duration": 128,
    "start_time": "2023-06-20T22:00:18.397Z"
   },
   {
    "duration": 25,
    "start_time": "2023-06-20T22:00:18.526Z"
   },
   {
    "duration": 30,
    "start_time": "2023-06-20T22:00:18.552Z"
   },
   {
    "duration": 23,
    "start_time": "2023-06-20T22:00:18.584Z"
   },
   {
    "duration": 36,
    "start_time": "2023-06-20T22:00:18.608Z"
   },
   {
    "duration": 21,
    "start_time": "2023-06-20T22:00:18.646Z"
   },
   {
    "duration": 213,
    "start_time": "2023-06-20T22:00:18.668Z"
   },
   {
    "duration": 29,
    "start_time": "2023-06-20T22:00:18.882Z"
   },
   {
    "duration": 37,
    "start_time": "2023-06-20T22:00:18.913Z"
   },
   {
    "duration": 17,
    "start_time": "2023-06-20T22:00:18.952Z"
   },
   {
    "duration": 32,
    "start_time": "2023-06-20T22:00:18.971Z"
   },
   {
    "duration": 44,
    "start_time": "2023-06-20T22:00:19.004Z"
   },
   {
    "duration": 49,
    "start_time": "2023-06-20T22:00:19.050Z"
   },
   {
    "duration": 193,
    "start_time": "2023-06-20T22:00:19.101Z"
   },
   {
    "duration": 89,
    "start_time": "2023-06-20T22:00:19.296Z"
   },
   {
    "duration": 20,
    "start_time": "2023-06-20T22:00:19.387Z"
   },
   {
    "duration": 149,
    "start_time": "2023-06-20T22:00:19.408Z"
   },
   {
    "duration": 16,
    "start_time": "2023-06-20T22:00:19.559Z"
   },
   {
    "duration": 126,
    "start_time": "2023-06-20T22:00:19.576Z"
   },
   {
    "duration": 218,
    "start_time": "2023-06-20T22:00:19.704Z"
   },
   {
    "duration": 27,
    "start_time": "2023-06-20T22:00:19.924Z"
   },
   {
    "duration": 394,
    "start_time": "2023-06-20T22:00:19.952Z"
   },
   {
    "duration": 6,
    "start_time": "2023-06-20T22:00:20.347Z"
   },
   {
    "duration": 89,
    "start_time": "2023-06-20T22:00:20.354Z"
   },
   {
    "duration": 7,
    "start_time": "2023-06-20T22:00:20.444Z"
   },
   {
    "duration": 103,
    "start_time": "2023-06-20T22:00:20.452Z"
   },
   {
    "duration": 92,
    "start_time": "2023-06-20T22:00:20.557Z"
   },
   {
    "duration": 24,
    "start_time": "2023-06-20T22:00:20.650Z"
   },
   {
    "duration": 20,
    "start_time": "2023-06-20T22:00:20.676Z"
   },
   {
    "duration": 18,
    "start_time": "2023-06-20T22:00:20.697Z"
   },
   {
    "duration": 92,
    "start_time": "2023-06-20T22:00:20.717Z"
   },
   {
    "duration": 16,
    "start_time": "2023-06-20T22:00:20.810Z"
   },
   {
    "duration": 364,
    "start_time": "2023-06-20T22:00:20.828Z"
   },
   {
    "duration": 17,
    "start_time": "2023-06-20T22:00:21.194Z"
   },
   {
    "duration": 10350,
    "start_time": "2023-06-20T22:00:21.212Z"
   },
   {
    "duration": 5,
    "start_time": "2023-06-20T22:00:31.564Z"
   },
   {
    "duration": 35,
    "start_time": "2023-06-20T22:00:31.570Z"
   },
   {
    "duration": 82,
    "start_time": "2023-06-20T22:00:31.606Z"
   },
   {
    "duration": 83,
    "start_time": "2023-06-20T22:00:31.690Z"
   },
   {
    "duration": 74,
    "start_time": "2023-06-20T22:00:31.774Z"
   },
   {
    "duration": 14,
    "start_time": "2023-06-20T22:00:31.850Z"
   },
   {
    "duration": 62,
    "start_time": "2023-06-20T22:00:31.865Z"
   },
   {
    "duration": 36,
    "start_time": "2023-06-20T22:00:31.929Z"
   },
   {
    "duration": 63,
    "start_time": "2023-06-20T22:00:31.966Z"
   },
   {
    "duration": 175,
    "start_time": "2023-06-20T22:00:32.031Z"
   },
   {
    "duration": 258,
    "start_time": "2023-06-20T22:00:32.208Z"
   },
   {
    "duration": 4454,
    "start_time": "2023-06-20T22:00:32.468Z"
   },
   {
    "duration": 3,
    "start_time": "2023-06-20T22:01:07.485Z"
   },
   {
    "duration": 19801,
    "start_time": "2023-06-20T22:01:16.152Z"
   },
   {
    "duration": 497,
    "start_time": "2023-06-20T22:01:35.955Z"
   },
   {
    "duration": 4,
    "start_time": "2023-06-20T22:01:36.454Z"
   },
   {
    "duration": 174269,
    "start_time": "2023-06-20T22:01:39.982Z"
   },
   {
    "duration": 593,
    "start_time": "2023-06-20T22:04:34.253Z"
   },
   {
    "duration": 6,
    "start_time": "2023-06-20T22:04:34.848Z"
   },
   {
    "duration": 177,
    "start_time": "2023-06-20T22:05:27.322Z"
   },
   {
    "duration": 418157,
    "start_time": "2023-06-20T22:05:38.275Z"
   },
   {
    "duration": 2158,
    "start_time": "2023-06-20T22:12:36.434Z"
   },
   {
    "duration": 4,
    "start_time": "2023-06-20T22:12:38.594Z"
   },
   {
    "duration": 5969,
    "start_time": "2023-06-20T22:12:47.689Z"
   },
   {
    "duration": 5,
    "start_time": "2023-06-20T22:12:53.660Z"
   },
   {
    "duration": 45,
    "start_time": "2023-06-21T20:37:44.787Z"
   },
   {
    "duration": 1543,
    "start_time": "2023-06-21T20:39:01.028Z"
   },
   {
    "duration": 1042,
    "start_time": "2023-06-21T20:39:02.573Z"
   },
   {
    "duration": 134,
    "start_time": "2023-06-21T20:39:03.616Z"
   },
   {
    "duration": 144,
    "start_time": "2023-06-21T20:39:03.753Z"
   },
   {
    "duration": 125,
    "start_time": "2023-06-21T20:39:03.899Z"
   },
   {
    "duration": 89,
    "start_time": "2023-06-21T20:39:04.026Z"
   },
   {
    "duration": 1119,
    "start_time": "2023-06-21T20:39:04.116Z"
   },
   {
    "duration": 345,
    "start_time": "2023-06-21T20:39:05.236Z"
   },
   {
    "duration": 323,
    "start_time": "2023-06-21T20:39:05.582Z"
   },
   {
    "duration": 28,
    "start_time": "2023-06-21T20:39:05.908Z"
   },
   {
    "duration": 126,
    "start_time": "2023-06-21T20:39:05.938Z"
   },
   {
    "duration": 66,
    "start_time": "2023-06-21T20:39:06.065Z"
   },
   {
    "duration": 162,
    "start_time": "2023-06-21T20:39:06.132Z"
   },
   {
    "duration": 29,
    "start_time": "2023-06-21T20:39:06.296Z"
   },
   {
    "duration": 33,
    "start_time": "2023-06-21T20:39:06.331Z"
   },
   {
    "duration": 50,
    "start_time": "2023-06-21T20:39:06.366Z"
   },
   {
    "duration": 43,
    "start_time": "2023-06-21T20:39:06.417Z"
   },
   {
    "duration": 66,
    "start_time": "2023-06-21T20:39:06.462Z"
   },
   {
    "duration": 12029,
    "start_time": "2023-06-21T20:39:06.530Z"
   },
   {
    "duration": 21,
    "start_time": "2023-06-21T20:39:18.561Z"
   },
   {
    "duration": 166,
    "start_time": "2023-06-21T20:39:18.583Z"
   },
   {
    "duration": 20,
    "start_time": "2023-06-21T20:39:18.750Z"
   },
   {
    "duration": 53,
    "start_time": "2023-06-21T20:39:18.771Z"
   },
   {
    "duration": 45,
    "start_time": "2023-06-21T20:39:18.826Z"
   },
   {
    "duration": 22,
    "start_time": "2023-06-21T20:39:18.872Z"
   },
   {
    "duration": 28,
    "start_time": "2023-06-21T20:39:18.895Z"
   },
   {
    "duration": 40,
    "start_time": "2023-06-21T20:39:18.925Z"
   },
   {
    "duration": 70,
    "start_time": "2023-06-21T20:39:18.968Z"
   },
   {
    "duration": 307,
    "start_time": "2023-06-21T20:39:19.040Z"
   },
   {
    "duration": 127,
    "start_time": "2023-06-21T20:39:19.349Z"
   },
   {
    "duration": 122,
    "start_time": "2023-06-21T20:39:19.478Z"
   },
   {
    "duration": 30,
    "start_time": "2023-06-21T20:39:19.601Z"
   },
   {
    "duration": 27,
    "start_time": "2023-06-21T20:39:19.633Z"
   },
   {
    "duration": 27,
    "start_time": "2023-06-21T20:39:19.662Z"
   },
   {
    "duration": 30,
    "start_time": "2023-06-21T20:39:19.690Z"
   },
   {
    "duration": 25,
    "start_time": "2023-06-21T20:39:19.721Z"
   },
   {
    "duration": 223,
    "start_time": "2023-06-21T20:39:19.748Z"
   },
   {
    "duration": 28,
    "start_time": "2023-06-21T20:39:19.973Z"
   },
   {
    "duration": 32,
    "start_time": "2023-06-21T20:39:20.002Z"
   },
   {
    "duration": 17,
    "start_time": "2023-06-21T20:39:20.036Z"
   },
   {
    "duration": 38,
    "start_time": "2023-06-21T20:39:20.054Z"
   },
   {
    "duration": 30,
    "start_time": "2023-06-21T20:39:20.094Z"
   },
   {
    "duration": 31,
    "start_time": "2023-06-21T20:39:20.125Z"
   },
   {
    "duration": 196,
    "start_time": "2023-06-21T20:39:20.158Z"
   },
   {
    "duration": 87,
    "start_time": "2023-06-21T20:39:20.356Z"
   },
   {
    "duration": 21,
    "start_time": "2023-06-21T20:39:20.445Z"
   },
   {
    "duration": 131,
    "start_time": "2023-06-21T20:39:20.468Z"
   },
   {
    "duration": 17,
    "start_time": "2023-06-21T20:39:20.601Z"
   },
   {
    "duration": 98,
    "start_time": "2023-06-21T20:39:20.620Z"
   },
   {
    "duration": 205,
    "start_time": "2023-06-21T20:39:20.720Z"
   },
   {
    "duration": 16,
    "start_time": "2023-06-21T20:39:20.927Z"
   },
   {
    "duration": 382,
    "start_time": "2023-06-21T20:39:20.945Z"
   },
   {
    "duration": 8,
    "start_time": "2023-06-21T20:39:21.328Z"
   },
   {
    "duration": 44,
    "start_time": "2023-06-21T20:39:21.337Z"
   },
   {
    "duration": 6,
    "start_time": "2023-06-21T20:39:21.383Z"
   },
   {
    "duration": 98,
    "start_time": "2023-06-21T20:39:21.390Z"
   },
   {
    "duration": 86,
    "start_time": "2023-06-21T20:39:21.490Z"
   },
   {
    "duration": 24,
    "start_time": "2023-06-21T20:39:21.577Z"
   },
   {
    "duration": 42,
    "start_time": "2023-06-21T20:39:21.602Z"
   },
   {
    "duration": 21,
    "start_time": "2023-06-21T20:39:21.646Z"
   },
   {
    "duration": 166,
    "start_time": "2023-06-21T20:39:21.669Z"
   },
   {
    "duration": 16,
    "start_time": "2023-06-21T20:39:21.836Z"
   },
   {
    "duration": 322,
    "start_time": "2023-06-21T20:39:21.854Z"
   },
   {
    "duration": 16,
    "start_time": "2023-06-21T20:39:22.177Z"
   },
   {
    "duration": 9563,
    "start_time": "2023-06-21T20:39:22.195Z"
   },
   {
    "duration": 5,
    "start_time": "2023-06-21T20:39:31.760Z"
   },
   {
    "duration": 85,
    "start_time": "2023-06-21T20:39:31.767Z"
   },
   {
    "duration": 57,
    "start_time": "2023-06-21T20:39:31.853Z"
   },
   {
    "duration": 70,
    "start_time": "2023-06-21T20:39:31.912Z"
   },
   {
    "duration": 42,
    "start_time": "2023-06-21T20:39:31.984Z"
   },
   {
    "duration": 13,
    "start_time": "2023-06-21T20:39:32.031Z"
   },
   {
    "duration": 49,
    "start_time": "2023-06-21T20:39:32.046Z"
   },
   {
    "duration": 39,
    "start_time": "2023-06-21T20:39:32.097Z"
   },
   {
    "duration": 32,
    "start_time": "2023-06-21T20:39:32.138Z"
   },
   {
    "duration": 151,
    "start_time": "2023-06-21T20:39:32.172Z"
   },
   {
    "duration": 211,
    "start_time": "2023-06-21T20:39:32.325Z"
   },
   {
    "duration": 3558,
    "start_time": "2023-06-21T20:39:32.539Z"
   },
   {
    "duration": 3,
    "start_time": "2023-06-21T20:39:36.099Z"
   },
   {
    "duration": 17833,
    "start_time": "2023-06-21T20:39:36.104Z"
   },
   {
    "duration": 195,
    "start_time": "2023-06-21T20:39:53.939Z"
   },
   {
    "duration": 97,
    "start_time": "2023-06-21T20:39:54.136Z"
   },
   {
    "duration": 86695,
    "start_time": "2023-06-21T20:39:54.240Z"
   },
   {
    "duration": 98,
    "start_time": "2023-06-21T20:41:20.937Z"
   },
   {
    "duration": 96,
    "start_time": "2023-06-21T20:41:21.039Z"
   },
   {
    "duration": 208,
    "start_time": "2023-06-21T20:41:21.136Z"
   },
   {
    "duration": 219,
    "start_time": "2023-06-21T20:41:21.345Z"
   },
   {
    "duration": 91,
    "start_time": "2023-06-21T20:42:27.857Z"
   },
   {
    "duration": 4,
    "start_time": "2023-06-21T20:43:11.046Z"
   },
   {
    "duration": 331,
    "start_time": "2023-06-21T20:43:33.792Z"
   },
   {
    "duration": 847,
    "start_time": "2023-06-21T20:43:50.300Z"
   },
   {
    "duration": 84573,
    "start_time": "2023-06-21T20:44:07.259Z"
   },
   {
    "duration": 1764,
    "start_time": "2023-06-21T20:45:31.834Z"
   },
   {
    "duration": 5,
    "start_time": "2023-06-21T20:45:33.600Z"
   },
   {
    "duration": 290,
    "start_time": "2023-06-21T20:54:53.155Z"
   },
   {
    "duration": 140723,
    "start_time": "2023-06-21T20:55:04.118Z"
   },
   {
    "duration": 389,
    "start_time": "2023-06-21T20:57:24.843Z"
   },
   {
    "duration": 15,
    "start_time": "2023-06-21T20:57:25.234Z"
   },
   {
    "duration": 5,
    "start_time": "2023-06-21T20:58:39.295Z"
   },
   {
    "duration": 4509,
    "start_time": "2023-06-21T21:01:58.425Z"
   },
   {
    "duration": 219,
    "start_time": "2023-06-21T21:02:05.822Z"
   },
   {
    "duration": 9,
    "start_time": "2023-06-21T21:02:11.886Z"
   },
   {
    "duration": 4,
    "start_time": "2023-06-21T21:02:16.146Z"
   },
   {
    "duration": 21953,
    "start_time": "2023-06-21T21:02:34.585Z"
   },
   {
    "duration": 296,
    "start_time": "2023-06-21T21:02:56.540Z"
   },
   {
    "duration": 5,
    "start_time": "2023-06-21T21:02:56.837Z"
   },
   {
    "duration": 4465,
    "start_time": "2023-06-21T21:09:40.345Z"
   },
   {
    "duration": 6,
    "start_time": "2023-06-21T21:09:44.812Z"
   },
   {
    "duration": 1499,
    "start_time": "2023-06-21T21:11:34.286Z"
   },
   {
    "duration": 769,
    "start_time": "2023-06-21T21:11:35.786Z"
   },
   {
    "duration": 137,
    "start_time": "2023-06-21T21:11:36.557Z"
   },
   {
    "duration": 145,
    "start_time": "2023-06-21T21:11:36.696Z"
   },
   {
    "duration": 134,
    "start_time": "2023-06-21T21:11:36.843Z"
   },
   {
    "duration": 96,
    "start_time": "2023-06-21T21:11:36.978Z"
   },
   {
    "duration": 1163,
    "start_time": "2023-06-21T21:11:37.075Z"
   },
   {
    "duration": 385,
    "start_time": "2023-06-21T21:11:38.240Z"
   },
   {
    "duration": 358,
    "start_time": "2023-06-21T21:11:38.627Z"
   },
   {
    "duration": 23,
    "start_time": "2023-06-21T21:11:38.987Z"
   },
   {
    "duration": 34,
    "start_time": "2023-06-21T21:11:39.011Z"
   },
   {
    "duration": 92,
    "start_time": "2023-06-21T21:11:39.046Z"
   },
   {
    "duration": 193,
    "start_time": "2023-06-21T21:11:39.140Z"
   },
   {
    "duration": 30,
    "start_time": "2023-06-21T21:11:39.335Z"
   },
   {
    "duration": 89,
    "start_time": "2023-06-21T21:11:39.367Z"
   },
   {
    "duration": 90,
    "start_time": "2023-06-21T21:11:39.458Z"
   },
   {
    "duration": 34,
    "start_time": "2023-06-21T21:11:39.550Z"
   },
   {
    "duration": 80,
    "start_time": "2023-06-21T21:11:39.586Z"
   },
   {
    "duration": 11940,
    "start_time": "2023-06-21T21:11:39.668Z"
   },
   {
    "duration": 28,
    "start_time": "2023-06-21T21:11:51.610Z"
   },
   {
    "duration": 149,
    "start_time": "2023-06-21T21:11:51.639Z"
   },
   {
    "duration": 20,
    "start_time": "2023-06-21T21:11:51.789Z"
   },
   {
    "duration": 47,
    "start_time": "2023-06-21T21:11:51.810Z"
   },
   {
    "duration": 59,
    "start_time": "2023-06-21T21:11:51.859Z"
   },
   {
    "duration": 21,
    "start_time": "2023-06-21T21:11:51.920Z"
   },
   {
    "duration": 33,
    "start_time": "2023-06-21T21:11:51.943Z"
   },
   {
    "duration": 20,
    "start_time": "2023-06-21T21:11:51.977Z"
   },
   {
    "duration": 31,
    "start_time": "2023-06-21T21:11:52.001Z"
   },
   {
    "duration": 218,
    "start_time": "2023-06-21T21:11:52.033Z"
   },
   {
    "duration": 96,
    "start_time": "2023-06-21T21:11:52.252Z"
   },
   {
    "duration": 119,
    "start_time": "2023-06-21T21:11:52.349Z"
   },
   {
    "duration": 15,
    "start_time": "2023-06-21T21:11:52.469Z"
   },
   {
    "duration": 33,
    "start_time": "2023-06-21T21:11:52.486Z"
   },
   {
    "duration": 21,
    "start_time": "2023-06-21T21:11:52.521Z"
   },
   {
    "duration": 18,
    "start_time": "2023-06-21T21:11:52.544Z"
   },
   {
    "duration": 38,
    "start_time": "2023-06-21T21:11:52.564Z"
   },
   {
    "duration": 215,
    "start_time": "2023-06-21T21:11:52.603Z"
   },
   {
    "duration": 35,
    "start_time": "2023-06-21T21:11:52.820Z"
   },
   {
    "duration": 19,
    "start_time": "2023-06-21T21:11:52.857Z"
   },
   {
    "duration": 25,
    "start_time": "2023-06-21T21:11:52.878Z"
   },
   {
    "duration": 40,
    "start_time": "2023-06-21T21:11:52.905Z"
   },
   {
    "duration": 23,
    "start_time": "2023-06-21T21:11:52.947Z"
   },
   {
    "duration": 42,
    "start_time": "2023-06-21T21:11:52.971Z"
   },
   {
    "duration": 186,
    "start_time": "2023-06-21T21:11:53.015Z"
   },
   {
    "duration": 87,
    "start_time": "2023-06-21T21:11:53.203Z"
   },
   {
    "duration": 20,
    "start_time": "2023-06-21T21:11:53.291Z"
   },
   {
    "duration": 142,
    "start_time": "2023-06-21T21:11:53.312Z"
   },
   {
    "duration": 15,
    "start_time": "2023-06-21T21:11:53.456Z"
   },
   {
    "duration": 102,
    "start_time": "2023-06-21T21:11:53.472Z"
   },
   {
    "duration": 210,
    "start_time": "2023-06-21T21:11:53.575Z"
   },
   {
    "duration": 16,
    "start_time": "2023-06-21T21:11:53.786Z"
   },
   {
    "duration": 353,
    "start_time": "2023-06-21T21:11:53.804Z"
   },
   {
    "duration": 4,
    "start_time": "2023-06-21T21:11:54.158Z"
   },
   {
    "duration": 66,
    "start_time": "2023-06-21T21:11:54.164Z"
   },
   {
    "duration": 5,
    "start_time": "2023-06-21T21:11:54.232Z"
   },
   {
    "duration": 93,
    "start_time": "2023-06-21T21:11:54.239Z"
   },
   {
    "duration": 72,
    "start_time": "2023-06-21T21:11:54.334Z"
   },
   {
    "duration": 34,
    "start_time": "2023-06-21T21:11:54.408Z"
   },
   {
    "duration": 12,
    "start_time": "2023-06-21T21:11:54.444Z"
   },
   {
    "duration": 5,
    "start_time": "2023-06-21T21:11:54.458Z"
   },
   {
    "duration": 73,
    "start_time": "2023-06-21T21:11:54.464Z"
   },
   {
    "duration": 16,
    "start_time": "2023-06-21T21:11:54.538Z"
   },
   {
    "duration": 363,
    "start_time": "2023-06-21T21:11:54.556Z"
   },
   {
    "duration": 20,
    "start_time": "2023-06-21T21:11:54.921Z"
   },
   {
    "duration": 9102,
    "start_time": "2023-06-21T21:11:54.943Z"
   },
   {
    "duration": 5,
    "start_time": "2023-06-21T21:12:04.046Z"
   },
   {
    "duration": 93,
    "start_time": "2023-06-21T21:12:04.052Z"
   },
   {
    "duration": 27,
    "start_time": "2023-06-21T21:12:04.147Z"
   },
   {
    "duration": 41,
    "start_time": "2023-06-21T21:12:04.175Z"
   },
   {
    "duration": 54,
    "start_time": "2023-06-21T21:12:04.218Z"
   },
   {
    "duration": 14,
    "start_time": "2023-06-21T21:12:04.273Z"
   },
   {
    "duration": 54,
    "start_time": "2023-06-21T21:12:04.288Z"
   },
   {
    "duration": 24,
    "start_time": "2023-06-21T21:12:04.344Z"
   },
   {
    "duration": 15,
    "start_time": "2023-06-21T21:12:04.370Z"
   },
   {
    "duration": 140,
    "start_time": "2023-06-21T21:12:04.386Z"
   },
   {
    "duration": 237,
    "start_time": "2023-06-21T21:12:04.528Z"
   },
   {
    "duration": 3606,
    "start_time": "2023-06-21T21:12:04.767Z"
   },
   {
    "duration": 3,
    "start_time": "2023-06-21T21:12:08.375Z"
   },
   {
    "duration": 18055,
    "start_time": "2023-06-21T21:12:08.379Z"
   },
   {
    "duration": 196,
    "start_time": "2023-06-21T21:12:26.436Z"
   },
   {
    "duration": 97,
    "start_time": "2023-06-21T21:12:26.634Z"
   },
   {
    "duration": 125998,
    "start_time": "2023-06-21T21:12:26.737Z"
   },
   {
    "duration": 20,
    "start_time": "2023-06-21T21:14:32.737Z"
   },
   {
    "duration": 191,
    "start_time": "2023-06-21T21:14:32.759Z"
   },
   {
    "duration": 144,
    "start_time": "2023-06-21T21:14:32.952Z"
   },
   {
    "duration": 230,
    "start_time": "2023-06-21T21:14:33.097Z"
   },
   {
    "duration": 1030,
    "start_time": "2023-06-21T21:14:33.331Z"
   },
   {
    "duration": 88193,
    "start_time": "2023-06-21T21:14:34.363Z"
   },
   {
    "duration": 1855,
    "start_time": "2023-06-21T21:16:02.557Z"
   },
   {
    "duration": 4,
    "start_time": "2023-06-21T21:16:04.414Z"
   },
   {
    "duration": 143445,
    "start_time": "2023-06-21T21:16:04.420Z"
   },
   {
    "duration": 386,
    "start_time": "2023-06-21T21:18:27.866Z"
   },
   {
    "duration": 5,
    "start_time": "2023-06-21T21:18:28.254Z"
   },
   {
    "duration": 131979,
    "start_time": "2023-06-21T21:18:28.261Z"
   },
   {
    "duration": 205,
    "start_time": "2023-06-21T21:20:40.241Z"
   },
   {
    "duration": 15,
    "start_time": "2023-06-21T21:20:40.451Z"
   },
   {
    "duration": 46870,
    "start_time": "2023-06-21T21:20:40.468Z"
   },
   {
    "duration": 296,
    "start_time": "2023-06-21T21:21:27.339Z"
   },
   {
    "duration": 5,
    "start_time": "2023-06-21T21:21:27.637Z"
   },
   {
    "duration": 4929,
    "start_time": "2023-06-21T21:21:27.643Z"
   },
   {
    "duration": 6,
    "start_time": "2023-06-21T21:21:32.573Z"
   },
   {
    "duration": 2032,
    "start_time": "2023-06-28T19:48:45.304Z"
   },
   {
    "duration": 3611,
    "start_time": "2023-06-28T19:48:47.338Z"
   },
   {
    "duration": 131,
    "start_time": "2023-06-28T19:48:50.951Z"
   },
   {
    "duration": 152,
    "start_time": "2023-06-28T19:48:51.085Z"
   },
   {
    "duration": 150,
    "start_time": "2023-06-28T19:48:51.239Z"
   },
   {
    "duration": 101,
    "start_time": "2023-06-28T19:48:51.391Z"
   },
   {
    "duration": 1312,
    "start_time": "2023-06-28T19:48:51.494Z"
   },
   {
    "duration": 442,
    "start_time": "2023-06-28T19:48:52.807Z"
   },
   {
    "duration": 351,
    "start_time": "2023-06-28T19:48:53.251Z"
   },
   {
    "duration": 44,
    "start_time": "2023-06-28T19:48:53.605Z"
   },
   {
    "duration": 28,
    "start_time": "2023-06-28T19:48:53.652Z"
   },
   {
    "duration": 54,
    "start_time": "2023-06-28T19:48:53.682Z"
   },
   {
    "duration": 201,
    "start_time": "2023-06-28T19:48:53.738Z"
   },
   {
    "duration": 34,
    "start_time": "2023-06-28T19:48:53.946Z"
   },
   {
    "duration": 49,
    "start_time": "2023-06-28T19:48:53.981Z"
   },
   {
    "duration": 36,
    "start_time": "2023-06-28T19:48:54.037Z"
   },
   {
    "duration": 31,
    "start_time": "2023-06-28T19:48:54.075Z"
   },
   {
    "duration": 39,
    "start_time": "2023-06-28T19:48:54.108Z"
   },
   {
    "duration": 15132,
    "start_time": "2023-06-28T19:48:54.149Z"
   },
   {
    "duration": 31,
    "start_time": "2023-06-28T19:49:09.283Z"
   },
   {
    "duration": 185,
    "start_time": "2023-06-28T19:49:09.320Z"
   },
   {
    "duration": 43,
    "start_time": "2023-06-28T19:49:09.507Z"
   },
   {
    "duration": 38,
    "start_time": "2023-06-28T19:49:09.552Z"
   },
   {
    "duration": 33,
    "start_time": "2023-06-28T19:49:09.592Z"
   },
   {
    "duration": 37,
    "start_time": "2023-06-28T19:49:09.627Z"
   },
   {
    "duration": 18,
    "start_time": "2023-06-28T19:49:09.666Z"
   },
   {
    "duration": 15,
    "start_time": "2023-06-28T19:49:09.686Z"
   },
   {
    "duration": 41,
    "start_time": "2023-06-28T19:49:09.716Z"
   },
   {
    "duration": 296,
    "start_time": "2023-06-28T19:49:09.760Z"
   },
   {
    "duration": 120,
    "start_time": "2023-06-28T19:49:10.058Z"
   },
   {
    "duration": 158,
    "start_time": "2023-06-28T19:49:10.180Z"
   },
   {
    "duration": 21,
    "start_time": "2023-06-28T19:49:10.340Z"
   },
   {
    "duration": 56,
    "start_time": "2023-06-28T19:49:10.363Z"
   },
   {
    "duration": 27,
    "start_time": "2023-06-28T19:49:10.428Z"
   },
   {
    "duration": 15,
    "start_time": "2023-06-28T19:49:10.457Z"
   },
   {
    "duration": 53,
    "start_time": "2023-06-28T19:49:10.473Z"
   },
   {
    "duration": 276,
    "start_time": "2023-06-28T19:49:10.528Z"
   },
   {
    "duration": 44,
    "start_time": "2023-06-28T19:49:10.806Z"
   },
   {
    "duration": 19,
    "start_time": "2023-06-28T19:49:10.852Z"
   },
   {
    "duration": 23,
    "start_time": "2023-06-28T19:49:10.873Z"
   },
   {
    "duration": 46,
    "start_time": "2023-06-28T19:49:10.898Z"
   },
   {
    "duration": 21,
    "start_time": "2023-06-28T19:49:10.946Z"
   },
   {
    "duration": 48,
    "start_time": "2023-06-28T19:49:10.969Z"
   },
   {
    "duration": 226,
    "start_time": "2023-06-28T19:49:11.018Z"
   },
   {
    "duration": 97,
    "start_time": "2023-06-28T19:49:11.248Z"
   },
   {
    "duration": 25,
    "start_time": "2023-06-28T19:49:11.347Z"
   },
   {
    "duration": 157,
    "start_time": "2023-06-28T19:49:11.374Z"
   },
   {
    "duration": 23,
    "start_time": "2023-06-28T19:49:11.533Z"
   },
   {
    "duration": 124,
    "start_time": "2023-06-28T19:49:11.557Z"
   },
   {
    "duration": 262,
    "start_time": "2023-06-28T19:49:11.683Z"
   },
   {
    "duration": 21,
    "start_time": "2023-06-28T19:49:11.947Z"
   },
   {
    "duration": 460,
    "start_time": "2023-06-28T19:49:11.970Z"
   },
   {
    "duration": 7,
    "start_time": "2023-06-28T19:49:12.432Z"
   },
   {
    "duration": 47,
    "start_time": "2023-06-28T19:49:12.443Z"
   },
   {
    "duration": 6,
    "start_time": "2023-06-28T19:49:12.492Z"
   },
   {
    "duration": 157,
    "start_time": "2023-06-28T19:49:12.499Z"
   },
   {
    "duration": 127,
    "start_time": "2023-06-28T19:49:12.661Z"
   },
   {
    "duration": 40,
    "start_time": "2023-06-28T19:49:12.790Z"
   },
   {
    "duration": 22,
    "start_time": "2023-06-28T19:49:12.842Z"
   },
   {
    "duration": 8,
    "start_time": "2023-06-28T19:49:12.865Z"
   },
   {
    "duration": 79,
    "start_time": "2023-06-28T19:49:12.875Z"
   },
   {
    "duration": 19,
    "start_time": "2023-06-28T19:49:12.956Z"
   },
   {
    "duration": 386,
    "start_time": "2023-06-28T19:49:12.977Z"
   },
   {
    "duration": 19,
    "start_time": "2023-06-28T19:49:13.365Z"
   },
   {
    "duration": 11553,
    "start_time": "2023-06-28T19:49:13.385Z"
   },
   {
    "duration": 11,
    "start_time": "2023-06-28T19:49:24.946Z"
   },
   {
    "duration": 14,
    "start_time": "2023-06-28T19:49:24.959Z"
   },
   {
    "duration": 66,
    "start_time": "2023-06-28T19:49:24.975Z"
   },
   {
    "duration": 62,
    "start_time": "2023-06-28T19:49:25.044Z"
   },
   {
    "duration": 68,
    "start_time": "2023-06-28T19:49:25.109Z"
   },
   {
    "duration": 19,
    "start_time": "2023-06-28T19:49:25.179Z"
   },
   {
    "duration": 68,
    "start_time": "2023-06-28T19:49:25.200Z"
   },
   {
    "duration": 33,
    "start_time": "2023-06-28T19:49:25.270Z"
   },
   {
    "duration": 42,
    "start_time": "2023-06-28T19:49:25.306Z"
   },
   {
    "duration": 184,
    "start_time": "2023-06-28T19:49:25.349Z"
   },
   {
    "duration": 285,
    "start_time": "2023-06-28T19:49:25.537Z"
   },
   {
    "duration": 8464,
    "start_time": "2023-06-28T19:49:25.827Z"
   },
   {
    "duration": 4,
    "start_time": "2023-06-28T19:49:34.293Z"
   },
   {
    "duration": 6549,
    "start_time": "2023-06-28T19:49:45.709Z"
   },
   {
    "duration": 4009,
    "start_time": "2023-06-28T19:49:52.259Z"
   },
   {
    "duration": 138,
    "start_time": "2023-06-28T19:49:56.270Z"
   },
   {
    "duration": 159,
    "start_time": "2023-06-28T19:49:56.412Z"
   },
   {
    "duration": 146,
    "start_time": "2023-06-28T19:49:56.572Z"
   },
   {
    "duration": 121,
    "start_time": "2023-06-28T19:49:56.724Z"
   },
   {
    "duration": 1387,
    "start_time": "2023-06-28T19:49:56.847Z"
   },
   {
    "duration": 455,
    "start_time": "2023-06-28T19:49:58.238Z"
   },
   {
    "duration": 368,
    "start_time": "2023-06-28T19:49:58.695Z"
   },
   {
    "duration": 19,
    "start_time": "2023-06-28T19:49:59.067Z"
   },
   {
    "duration": 62,
    "start_time": "2023-06-28T19:49:59.088Z"
   },
   {
    "duration": 31,
    "start_time": "2023-06-28T19:49:59.152Z"
   },
   {
    "duration": 196,
    "start_time": "2023-06-28T19:49:59.185Z"
   },
   {
    "duration": 48,
    "start_time": "2023-06-28T19:49:59.383Z"
   },
   {
    "duration": 67,
    "start_time": "2023-06-28T19:49:59.433Z"
   },
   {
    "duration": 50,
    "start_time": "2023-06-28T19:49:59.502Z"
   },
   {
    "duration": 37,
    "start_time": "2023-06-28T19:49:59.554Z"
   },
   {
    "duration": 49,
    "start_time": "2023-06-28T19:49:59.593Z"
   },
   {
    "duration": 14842,
    "start_time": "2023-06-28T19:49:59.643Z"
   },
   {
    "duration": 42,
    "start_time": "2023-06-28T19:50:14.487Z"
   },
   {
    "duration": 182,
    "start_time": "2023-06-28T19:50:14.533Z"
   },
   {
    "duration": 34,
    "start_time": "2023-06-28T19:50:14.721Z"
   },
   {
    "duration": 38,
    "start_time": "2023-06-28T19:50:14.757Z"
   },
   {
    "duration": 30,
    "start_time": "2023-06-28T19:50:14.797Z"
   },
   {
    "duration": 32,
    "start_time": "2023-06-28T19:50:14.829Z"
   },
   {
    "duration": 20,
    "start_time": "2023-06-28T19:50:14.864Z"
   },
   {
    "duration": 59,
    "start_time": "2023-06-28T19:50:14.887Z"
   },
   {
    "duration": 21,
    "start_time": "2023-06-28T19:50:14.950Z"
   },
   {
    "duration": 235,
    "start_time": "2023-06-28T19:50:14.973Z"
   },
   {
    "duration": 125,
    "start_time": "2023-06-28T19:50:15.210Z"
   },
   {
    "duration": 127,
    "start_time": "2023-06-28T19:50:15.336Z"
   },
   {
    "duration": 16,
    "start_time": "2023-06-28T19:50:15.464Z"
   },
   {
    "duration": 43,
    "start_time": "2023-06-28T19:50:15.482Z"
   },
   {
    "duration": 25,
    "start_time": "2023-06-28T19:50:15.528Z"
   },
   {
    "duration": 20,
    "start_time": "2023-06-28T19:50:15.555Z"
   },
   {
    "duration": 64,
    "start_time": "2023-06-28T19:50:15.576Z"
   },
   {
    "duration": 277,
    "start_time": "2023-06-28T19:50:15.642Z"
   },
   {
    "duration": 39,
    "start_time": "2023-06-28T19:50:15.922Z"
   },
   {
    "duration": 19,
    "start_time": "2023-06-28T19:50:15.963Z"
   },
   {
    "duration": 48,
    "start_time": "2023-06-28T19:50:15.984Z"
   },
   {
    "duration": 31,
    "start_time": "2023-06-28T19:50:16.037Z"
   },
   {
    "duration": 20,
    "start_time": "2023-06-28T19:50:16.070Z"
   },
   {
    "duration": 40,
    "start_time": "2023-06-28T19:50:16.092Z"
   },
   {
    "duration": 231,
    "start_time": "2023-06-28T19:50:16.134Z"
   },
   {
    "duration": 117,
    "start_time": "2023-06-28T19:50:16.367Z"
   },
   {
    "duration": 64,
    "start_time": "2023-06-28T19:50:16.486Z"
   },
   {
    "duration": 162,
    "start_time": "2023-06-28T19:50:16.553Z"
   },
   {
    "duration": 28,
    "start_time": "2023-06-28T19:50:16.717Z"
   },
   {
    "duration": 107,
    "start_time": "2023-06-28T19:50:16.747Z"
   },
   {
    "duration": 264,
    "start_time": "2023-06-28T19:50:16.856Z"
   },
   {
    "duration": 24,
    "start_time": "2023-06-28T19:50:17.123Z"
   },
   {
    "duration": 461,
    "start_time": "2023-06-28T19:50:17.148Z"
   },
   {
    "duration": 7,
    "start_time": "2023-06-28T19:50:17.612Z"
   },
   {
    "duration": 81,
    "start_time": "2023-06-28T19:50:17.623Z"
   },
   {
    "duration": 8,
    "start_time": "2023-06-28T19:50:17.705Z"
   },
   {
    "duration": 129,
    "start_time": "2023-06-28T19:50:17.715Z"
   },
   {
    "duration": 99,
    "start_time": "2023-06-28T19:50:17.849Z"
   },
   {
    "duration": 28,
    "start_time": "2023-06-28T19:50:17.950Z"
   },
   {
    "duration": 20,
    "start_time": "2023-06-28T19:50:17.980Z"
   },
   {
    "duration": 10,
    "start_time": "2023-06-28T19:50:18.014Z"
   },
   {
    "duration": 70,
    "start_time": "2023-06-28T19:50:18.026Z"
   },
   {
    "duration": 48,
    "start_time": "2023-06-28T19:50:18.098Z"
   },
   {
    "duration": 405,
    "start_time": "2023-06-28T19:50:18.151Z"
   },
   {
    "duration": 19,
    "start_time": "2023-06-28T19:50:18.558Z"
   },
   {
    "duration": 11456,
    "start_time": "2023-06-28T19:50:18.579Z"
   },
   {
    "duration": 11,
    "start_time": "2023-06-28T19:50:30.045Z"
   },
   {
    "duration": 28,
    "start_time": "2023-06-28T19:50:30.068Z"
   },
   {
    "duration": 76,
    "start_time": "2023-06-28T19:50:30.099Z"
   },
   {
    "duration": 85,
    "start_time": "2023-06-28T19:50:30.178Z"
   },
   {
    "duration": 53,
    "start_time": "2023-06-28T19:50:30.271Z"
   },
   {
    "duration": 21,
    "start_time": "2023-06-28T19:50:30.326Z"
   },
   {
    "duration": 85,
    "start_time": "2023-06-28T19:50:30.349Z"
   },
   {
    "duration": 63,
    "start_time": "2023-06-28T19:50:30.436Z"
   },
   {
    "duration": 57,
    "start_time": "2023-06-28T19:50:30.501Z"
   },
   {
    "duration": 174,
    "start_time": "2023-06-28T19:50:30.560Z"
   },
   {
    "duration": 241,
    "start_time": "2023-06-28T19:50:30.736Z"
   },
   {
    "duration": 5946,
    "start_time": "2023-06-28T19:50:30.979Z"
   },
   {
    "duration": 4,
    "start_time": "2023-06-28T19:50:36.927Z"
   },
   {
    "duration": 205,
    "start_time": "2023-06-28T19:50:59.665Z"
   },
   {
    "duration": 1544,
    "start_time": "2023-09-26T18:49:10.315Z"
   },
   {
    "duration": 1256,
    "start_time": "2023-09-26T18:49:11.861Z"
   },
   {
    "duration": 162,
    "start_time": "2023-09-26T18:49:13.119Z"
   },
   {
    "duration": 166,
    "start_time": "2023-09-26T18:49:13.284Z"
   },
   {
    "duration": 158,
    "start_time": "2023-09-26T18:49:13.452Z"
   },
   {
    "duration": 119,
    "start_time": "2023-09-26T18:49:13.611Z"
   },
   {
    "duration": 1250,
    "start_time": "2023-09-26T18:49:13.732Z"
   },
   {
    "duration": 464,
    "start_time": "2023-09-26T18:49:14.984Z"
   },
   {
    "duration": 380,
    "start_time": "2023-09-26T18:49:15.450Z"
   },
   {
    "duration": 22,
    "start_time": "2023-09-26T18:49:15.833Z"
   },
   {
    "duration": 62,
    "start_time": "2023-09-26T18:49:15.858Z"
   },
   {
    "duration": 41,
    "start_time": "2023-09-26T18:49:15.922Z"
   },
   {
    "duration": 211,
    "start_time": "2023-09-26T18:49:15.965Z"
   },
   {
    "duration": 38,
    "start_time": "2023-09-26T18:49:16.178Z"
   },
   {
    "duration": 43,
    "start_time": "2023-09-26T18:49:16.218Z"
   },
   {
    "duration": 49,
    "start_time": "2023-09-26T18:49:16.280Z"
   },
   {
    "duration": 54,
    "start_time": "2023-09-26T18:49:16.330Z"
   },
   {
    "duration": 38,
    "start_time": "2023-09-26T18:49:16.385Z"
   },
   {
    "duration": 15519,
    "start_time": "2023-09-26T18:49:16.425Z"
   },
   {
    "duration": 35,
    "start_time": "2023-09-26T18:49:31.946Z"
   },
   {
    "duration": 199,
    "start_time": "2023-09-26T18:49:31.983Z"
   },
   {
    "duration": 25,
    "start_time": "2023-09-26T18:49:32.184Z"
   },
   {
    "duration": 68,
    "start_time": "2023-09-26T18:49:32.211Z"
   },
   {
    "duration": 32,
    "start_time": "2023-09-26T18:49:32.282Z"
   },
   {
    "duration": 45,
    "start_time": "2023-09-26T18:49:32.316Z"
   },
   {
    "duration": 30,
    "start_time": "2023-09-26T18:49:32.364Z"
   },
   {
    "duration": 42,
    "start_time": "2023-09-26T18:49:32.396Z"
   },
   {
    "duration": 40,
    "start_time": "2023-09-26T18:49:32.443Z"
   },
   {
    "duration": 270,
    "start_time": "2023-09-26T18:49:32.485Z"
   },
   {
    "duration": 102,
    "start_time": "2023-09-26T18:49:32.757Z"
   },
   {
    "duration": 153,
    "start_time": "2023-09-26T18:49:32.860Z"
   },
   {
    "duration": 21,
    "start_time": "2023-09-26T18:49:33.016Z"
   },
   {
    "duration": 54,
    "start_time": "2023-09-26T18:49:33.040Z"
   },
   {
    "duration": 25,
    "start_time": "2023-09-26T18:49:33.095Z"
   },
   {
    "duration": 23,
    "start_time": "2023-09-26T18:49:33.122Z"
   },
   {
    "duration": 39,
    "start_time": "2023-09-26T18:49:33.146Z"
   },
   {
    "duration": 251,
    "start_time": "2023-09-26T18:49:33.187Z"
   },
   {
    "duration": 41,
    "start_time": "2023-09-26T18:49:33.441Z"
   },
   {
    "duration": 24,
    "start_time": "2023-09-26T18:49:33.484Z"
   },
   {
    "duration": 23,
    "start_time": "2023-09-26T18:49:33.510Z"
   },
   {
    "duration": 57,
    "start_time": "2023-09-26T18:49:33.535Z"
   },
   {
    "duration": 24,
    "start_time": "2023-09-26T18:49:33.593Z"
   },
   {
    "duration": 37,
    "start_time": "2023-09-26T18:49:33.619Z"
   },
   {
    "duration": 245,
    "start_time": "2023-09-26T18:49:33.658Z"
   },
   {
    "duration": 100,
    "start_time": "2023-09-26T18:49:33.904Z"
   },
   {
    "duration": 23,
    "start_time": "2023-09-26T18:49:34.006Z"
   },
   {
    "duration": 163,
    "start_time": "2023-09-26T18:49:34.030Z"
   },
   {
    "duration": 19,
    "start_time": "2023-09-26T18:49:34.195Z"
   },
   {
    "duration": 115,
    "start_time": "2023-09-26T18:49:34.216Z"
   },
   {
    "duration": 249,
    "start_time": "2023-09-26T18:49:34.334Z"
   },
   {
    "duration": 19,
    "start_time": "2023-09-26T18:49:34.585Z"
   },
   {
    "duration": 473,
    "start_time": "2023-09-26T18:49:34.606Z"
   },
   {
    "duration": 6,
    "start_time": "2023-09-26T18:49:35.081Z"
   },
   {
    "duration": 48,
    "start_time": "2023-09-26T18:49:35.088Z"
   },
   {
    "duration": 17,
    "start_time": "2023-09-26T18:49:35.137Z"
   },
   {
    "duration": 113,
    "start_time": "2023-09-26T18:49:35.156Z"
   },
   {
    "duration": 94,
    "start_time": "2023-09-26T18:49:35.271Z"
   },
   {
    "duration": 36,
    "start_time": "2023-09-26T18:49:35.367Z"
   },
   {
    "duration": 15,
    "start_time": "2023-09-26T18:49:35.405Z"
   },
   {
    "duration": 7,
    "start_time": "2023-09-26T18:49:35.421Z"
   },
   {
    "duration": 80,
    "start_time": "2023-09-26T18:49:35.429Z"
   },
   {
    "duration": 19,
    "start_time": "2023-09-26T18:49:35.511Z"
   },
   {
    "duration": 386,
    "start_time": "2023-09-26T18:49:35.532Z"
   },
   {
    "duration": 18,
    "start_time": "2023-09-26T18:49:35.920Z"
   },
   {
    "duration": 11604,
    "start_time": "2023-09-26T18:49:35.939Z"
   },
   {
    "duration": 5,
    "start_time": "2023-09-26T18:49:47.545Z"
   },
   {
    "duration": 23,
    "start_time": "2023-09-26T18:49:47.552Z"
   },
   {
    "duration": 44,
    "start_time": "2023-09-26T18:49:47.576Z"
   },
   {
    "duration": 61,
    "start_time": "2023-09-26T18:49:47.622Z"
   },
   {
    "duration": 47,
    "start_time": "2023-09-26T18:49:47.685Z"
   },
   {
    "duration": 14,
    "start_time": "2023-09-26T18:49:47.733Z"
   },
   {
    "duration": 104,
    "start_time": "2023-09-26T18:49:47.750Z"
   },
   {
    "duration": 28,
    "start_time": "2023-09-26T18:49:47.856Z"
   },
   {
    "duration": 17,
    "start_time": "2023-09-26T18:49:47.887Z"
   },
   {
    "duration": 169,
    "start_time": "2023-09-26T18:49:47.906Z"
   },
   {
    "duration": 232,
    "start_time": "2023-09-26T18:49:48.077Z"
   },
   {
    "duration": 4619,
    "start_time": "2023-09-26T18:49:48.310Z"
   },
   {
    "duration": 3,
    "start_time": "2023-09-26T18:49:52.931Z"
   },
   {
    "duration": 26659,
    "start_time": "2023-09-26T18:49:52.936Z"
   },
   {
    "duration": 185,
    "start_time": "2023-09-26T18:50:19.600Z"
   },
   {
    "duration": 94,
    "start_time": "2023-09-26T18:50:19.788Z"
   },
   {
    "duration": 16,
    "start_time": "2023-09-26T18:50:19.891Z"
   },
   {
    "duration": 6,
    "start_time": "2023-09-26T18:50:19.983Z"
   },
   {
    "duration": 130991,
    "start_time": "2023-09-26T18:50:19.991Z"
   },
   {
    "duration": 98,
    "start_time": "2023-09-26T18:52:30.985Z"
   },
   {
    "duration": 101,
    "start_time": "2023-09-26T18:52:31.085Z"
   },
   {
    "duration": 157,
    "start_time": "2023-09-26T18:52:31.188Z"
   },
   {
    "duration": 227,
    "start_time": "2023-09-26T18:52:31.346Z"
   },
   {
    "duration": 1123,
    "start_time": "2023-09-26T18:52:31.574Z"
   },
   {
    "duration": 101389,
    "start_time": "2023-09-26T18:52:32.699Z"
   },
   {
    "duration": 2111,
    "start_time": "2023-09-26T18:54:14.090Z"
   },
   {
    "duration": 6,
    "start_time": "2023-09-26T18:54:16.203Z"
   },
   {
    "duration": 167293,
    "start_time": "2023-09-26T18:54:16.211Z"
   },
   {
    "duration": 439,
    "start_time": "2023-09-26T18:57:03.506Z"
   },
   {
    "duration": 5,
    "start_time": "2023-09-26T18:57:03.946Z"
   },
   {
    "duration": 366232,
    "start_time": "2023-09-26T18:57:03.953Z"
   },
   {
    "duration": 325,
    "start_time": "2023-09-26T19:03:10.186Z"
   },
   {
    "duration": 5,
    "start_time": "2023-09-26T19:03:10.513Z"
   },
   {
    "duration": 257070,
    "start_time": "2023-09-26T19:03:10.521Z"
   },
   {
    "duration": 388,
    "start_time": "2023-09-26T19:07:27.593Z"
   },
   {
    "duration": 5,
    "start_time": "2023-09-26T19:07:27.984Z"
   },
   {
    "duration": 5528,
    "start_time": "2023-09-26T19:07:27.991Z"
   },
   {
    "duration": 6,
    "start_time": "2023-09-26T19:07:33.521Z"
   }
  ],
  "kernelspec": {
   "display_name": "Python 3 (ipykernel)",
   "language": "python",
   "name": "python3"
  },
  "language_info": {
   "codemirror_mode": {
    "name": "ipython",
    "version": 3
   },
   "file_extension": ".py",
   "mimetype": "text/x-python",
   "name": "python",
   "nbconvert_exporter": "python",
   "pygments_lexer": "ipython3",
   "version": "3.10.9"
  },
  "toc": {
   "base_numbering": 1,
   "nav_menu": {},
   "number_sections": true,
   "sideBar": true,
   "skip_h1_title": true,
   "title_cell": "Table of Contents",
   "title_sidebar": "Contents",
   "toc_cell": false,
   "toc_position": {},
   "toc_section_display": true,
   "toc_window_display": true
  }
 },
 "nbformat": 4,
 "nbformat_minor": 2
}
