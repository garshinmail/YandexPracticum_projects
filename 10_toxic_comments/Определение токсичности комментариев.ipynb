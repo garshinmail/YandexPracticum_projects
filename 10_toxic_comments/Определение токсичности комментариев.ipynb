{
 "cells": [
  {
   "cell_type": "markdown",
   "metadata": {
    "toc": true
   },
   "source": [
    "<h1>Содержание<span class=\"tocSkip\"></span></h1>\n",
    "</font></a></span></li></ul></li><li><span><a href=\"#Загрузка-и-подготовка-данных\" data-toc-modified-id=\"Загрузка-и-подготовка-данных-1\"><span class=\"toc-item-num\">1&nbsp;&nbsp;</span>Загрузка и подготовка данных</a></span><ul class=\"toc-item\"><li><span><a href=\"#Импорт-библиотек\" data-toc-modified-id=\"Импорт-библиотек-1.1\"><span class=\"toc-item-num\">1.1&nbsp;&nbsp;</span>Импорт библиотек</a></span></li><li><span><a href=\"#Загрузка-данных\" data-toc-modified-id=\"Загрузка-данных-1.2\"><span class=\"toc-item-num\">1.2&nbsp;&nbsp;</span>Загрузка данных</a></span></li><li><span><a href=\"#Очистка-текстов\" data-toc-modified-id=\"Очистка-текстов-1.3\"><span class=\"toc-item-num\">1.3&nbsp;&nbsp;</span>Очистка текстов</a></span></li><li><span><a href=\"#Лемматизация-текстов\" data-toc-modified-id=\"Лемматизация-текстов-1.4\"><span class=\"toc-item-num\">1.4&nbsp;&nbsp;</span>Лемматизация текстов</a></span></li><li><span><a href=\"#Определение-признаков-и-разделение-выборок\" data-toc-modified-id=\"Определение-признаков-и-разделение-выборок-1.5\"><span class=\"toc-item-num\">1.5&nbsp;&nbsp;</span>Определение признаков и разделение выборок</a></span></li><li><span><a href=\"#Подсчёт-величины-TF-IDF\" data-toc-modified-id=\"Подсчёт-величины-TF-IDF-1.6\"><span class=\"toc-item-num\">1.6&nbsp;&nbsp;</span>Подсчёт величины TF-IDF</a></span></li></ul></li><li><span><a href=\"#Обучение\" data-toc-modified-id=\"Обучение-2\"><span class=\"toc-item-num\">2&nbsp;&nbsp;</span>Обучение</a></span><ul class=\"toc-item\"><li><span><a href=\"#Модель-логистической-регрессии\" data-toc-modified-id=\"Модель-логистической-регрессии-2.1\"><span class=\"toc-item-num\">2.1&nbsp;&nbsp;</span>Модель логистической регрессии</a></span></li><li><span><a href=\"#Модель-случайного-леса\" data-toc-modified-id=\"Модель-случайного-леса-2.2\"><span class=\"toc-item-num\">2.2&nbsp;&nbsp;</span>Модель случайного леса</a></span></li><li><span><a href=\"#Проверка-лучшей-модели-на-тестовой-выборке\" data-toc-modified-id=\"Проверка-лучшей-модели-на-тестовой-выборке-2.3\"><span class=\"toc-item-num\">2.3&nbsp;&nbsp;</span>Проверка лучшей модели на тестовой выборке</a></span></li></ul></li><li><span><a href=\"#Выводы\" data-toc-modified-id=\"Выводы-3\"><span class=\"toc-item-num\">3&nbsp;&nbsp;</span>Выводы</a></span></li><li><span><a href=\"#Классификация-на-эмбеддингах-(BERT)\" data-toc-modified-id=\"Классификация-на-эмбеддингах-(BERT)-4\"><span class=\"toc-item-num\">4&nbsp;&nbsp;</span>Классификация на эмбеддингах (BERT)</a></span></li><li><span><a href=\"#Чек-лист-проверки\" data-toc-modified-id=\"Чек-лист-проверки-5\"><span class=\"toc-item-num\">5&nbsp;&nbsp;</span>Чек-лист проверки</a></span></li></ul></div>"
   ]
  },
  {
   "cell_type": "markdown",
   "metadata": {},
   "source": [
    "# Проект для «Викишоп»  c BERT"
   ]
  },
  {
   "cell_type": "markdown",
   "metadata": {},
   "source": [
    "Интернет-магазин «Викишоп» запускает новый сервис. Теперь пользователи могут редактировать и дополнять описания товаров, как в вики-сообществах. То есть клиенты предлагают свои правки и комментируют изменения других. Магазину нужен инструмент, который будет искать токсичные комментарии и отправлять их на модерацию. \n",
    "\n",
    "Обучите модель классифицировать комментарии на позитивные и негативные. В вашем распоряжении набор данных с разметкой о токсичности правок.\n",
    "\n",
    "Постройте модель со значением метрики качества *F1* не меньше 0.75. \n",
    "\n",
    "**Инструкция по выполнению проекта**\n",
    "\n",
    "1. Загрузите и подготовьте данные.\n",
    "2. Обучите разные модели. \n",
    "3. Сделайте выводы.\n",
    "\n",
    "Для выполнения проекта применять *BERT* необязательно, но вы можете попробовать.\n",
    "\n",
    "**Описание данных**\n",
    "\n",
    "Данные находятся в файле `toxic_comments.csv`. Столбец *text* в нём содержит текст комментария, а *toxic* — целевой признак."
   ]
  },
  {
   "cell_type": "markdown",
   "metadata": {},
   "source": [
    "## Загрузка и подготовка данных"
   ]
  },
  {
   "cell_type": "markdown",
   "metadata": {},
   "source": [
    "### Импорт библиотек"
   ]
  },
  {
   "cell_type": "code",
   "execution_count": 1,
   "metadata": {},
   "outputs": [],
   "source": [
    "import sys\n",
    "import os\n",
    "\n",
    "import pandas as pd #импорт библиотеки pandas (работа с таблицами)\n",
    "import numpy as np\n",
    "\n",
    "import nltk #импорт библиотеки для работы с Natural Language\n",
    "from nltk.corpus import stopwords as nltk_stopwords #импорт инструмента для определения стоп-слов\n",
    "\n",
    "import spacy #импорт инструмента лемматизации\n",
    "\n",
    "from tqdm import notebook #импорт инструмента процесса выполнения циклов\n",
    "\n",
    "import re #импорт модуля для работы с регулярными выражениями(для очистки)\n",
    "\n",
    "from sklearn.feature_extraction.text import TfidfVectorizer #импорт инструмента для расчёта TF-IDF\n",
    "from sklearn.metrics import f1_score, make_scorer #импорт метрики f1, инструмента для интеграции метрики в gridsearch\n",
    "from sklearn.model_selection import train_test_split,cross_val_score, GridSearchCV #импорт инструментов выбора модели\n",
    "from sklearn.ensemble import RandomForestClassifier #импорт модели случайного леса\n",
    "from sklearn.linear_model import LogisticRegression #импорт модели логистической регрессии\n",
    "from sklearn.pipeline import Pipeline\n",
    "\n",
    "import torch\n",
    "import transformers\n"
   ]
  },
  {
   "cell_type": "markdown",
   "metadata": {},
   "source": [
    "### Загрузка данных"
   ]
  },
  {
   "cell_type": "code",
   "execution_count": 2,
   "metadata": {},
   "outputs": [],
   "source": [
    "#путь для ревью\n",
    "path1='/datasets/toxic_comments.csv'\n",
    "\n",
    "#путь для работы\n",
    "path2='toxic_comments.csv'\n",
    "\n",
    "#выбор пути если он существует методом os\n",
    "if os.path.exists(path1):\n",
    "    #загрузка датасета методом pandas.read_csv\n",
    "    df=pd.read_csv(path1,index_col=[0])\n",
    "elif os.path.exists(path2):\n",
    "    df=pd.read_csv(path2,index_col=[0])\n",
    "else:\n",
    "    print('Path does not exist')"
   ]
  },
  {
   "cell_type": "code",
   "execution_count": 3,
   "metadata": {
    "scrolled": true
   },
   "outputs": [
    {
     "name": "stdout",
     "output_type": "stream",
     "text": [
      "<class 'pandas.core.frame.DataFrame'>\n",
      "Int64Index: 159292 entries, 0 to 159450\n",
      "Data columns (total 2 columns):\n",
      " #   Column  Non-Null Count   Dtype \n",
      "---  ------  --------------   ----- \n",
      " 0   text    159292 non-null  object\n",
      " 1   toxic   159292 non-null  int64 \n",
      "dtypes: int64(1), object(1)\n",
      "memory usage: 3.6+ MB\n"
     ]
    }
   ],
   "source": [
    "#вывод информации о данных методом info()\n",
    "df.info()"
   ]
  },
  {
   "cell_type": "code",
   "execution_count": 4,
   "metadata": {},
   "outputs": [
    {
     "data": {
      "text/html": [
       "<div>\n",
       "<style scoped>\n",
       "    .dataframe tbody tr th:only-of-type {\n",
       "        vertical-align: middle;\n",
       "    }\n",
       "\n",
       "    .dataframe tbody tr th {\n",
       "        vertical-align: top;\n",
       "    }\n",
       "\n",
       "    .dataframe thead th {\n",
       "        text-align: right;\n",
       "    }\n",
       "</style>\n",
       "<table border=\"1\" class=\"dataframe\">\n",
       "  <thead>\n",
       "    <tr style=\"text-align: right;\">\n",
       "      <th></th>\n",
       "      <th>text</th>\n",
       "      <th>toxic</th>\n",
       "    </tr>\n",
       "  </thead>\n",
       "  <tbody>\n",
       "    <tr>\n",
       "      <th>0</th>\n",
       "      <td>Explanation\\nWhy the edits made under my usern...</td>\n",
       "      <td>0</td>\n",
       "    </tr>\n",
       "    <tr>\n",
       "      <th>1</th>\n",
       "      <td>D'aww! He matches this background colour I'm s...</td>\n",
       "      <td>0</td>\n",
       "    </tr>\n",
       "    <tr>\n",
       "      <th>2</th>\n",
       "      <td>Hey man, I'm really not trying to edit war. It...</td>\n",
       "      <td>0</td>\n",
       "    </tr>\n",
       "    <tr>\n",
       "      <th>3</th>\n",
       "      <td>\"\\nMore\\nI can't make any real suggestions on ...</td>\n",
       "      <td>0</td>\n",
       "    </tr>\n",
       "    <tr>\n",
       "      <th>4</th>\n",
       "      <td>You, sir, are my hero. Any chance you remember...</td>\n",
       "      <td>0</td>\n",
       "    </tr>\n",
       "  </tbody>\n",
       "</table>\n",
       "</div>"
      ],
      "text/plain": [
       "                                                text  toxic\n",
       "0  Explanation\\nWhy the edits made under my usern...      0\n",
       "1  D'aww! He matches this background colour I'm s...      0\n",
       "2  Hey man, I'm really not trying to edit war. It...      0\n",
       "3  \"\\nMore\\nI can't make any real suggestions on ...      0\n",
       "4  You, sir, are my hero. Any chance you remember...      0"
      ]
     },
     "execution_count": 4,
     "metadata": {},
     "output_type": "execute_result"
    }
   ],
   "source": [
    "#вывод первых строк датасета\n",
    "df.head()"
   ]
  },
  {
   "cell_type": "code",
   "execution_count": 5,
   "metadata": {},
   "outputs": [
    {
     "data": {
      "text/html": [
       "<div>\n",
       "<style scoped>\n",
       "    .dataframe tbody tr th:only-of-type {\n",
       "        vertical-align: middle;\n",
       "    }\n",
       "\n",
       "    .dataframe tbody tr th {\n",
       "        vertical-align: top;\n",
       "    }\n",
       "\n",
       "    .dataframe thead th {\n",
       "        text-align: right;\n",
       "    }\n",
       "</style>\n",
       "<table border=\"1\" class=\"dataframe\">\n",
       "  <thead>\n",
       "    <tr style=\"text-align: right;\">\n",
       "      <th></th>\n",
       "      <th>text</th>\n",
       "    </tr>\n",
       "    <tr>\n",
       "      <th>toxic</th>\n",
       "      <th></th>\n",
       "    </tr>\n",
       "  </thead>\n",
       "  <tbody>\n",
       "    <tr>\n",
       "      <th>0</th>\n",
       "      <td>143106</td>\n",
       "    </tr>\n",
       "    <tr>\n",
       "      <th>1</th>\n",
       "      <td>16186</td>\n",
       "    </tr>\n",
       "  </tbody>\n",
       "</table>\n",
       "</div>"
      ],
      "text/plain": [
       "         text\n",
       "toxic        \n",
       "0      143106\n",
       "1       16186"
      ]
     },
     "execution_count": 5,
     "metadata": {},
     "output_type": "execute_result"
    }
   ],
   "source": [
    "#исследование баланса классов\n",
    "df.groupby('toxic').count()"
   ]
  },
  {
   "cell_type": "markdown",
   "metadata": {},
   "source": [
    "Отсюда видно: в данных отсутствуют пропуски, тексты на английском языке, а также они не лемматизированы. И существует дисбаланс классов: нетоксичных комментариев почти на порядок больше токсичных."
   ]
  },
  {
   "cell_type": "markdown",
   "metadata": {},
   "source": [
    "### Очистка текстов"
   ]
  },
  {
   "cell_type": "code",
   "execution_count": 6,
   "metadata": {},
   "outputs": [],
   "source": [
    "#создание списков текстов\n",
    "corpus=list(df['text'])"
   ]
  },
  {
   "cell_type": "code",
   "execution_count": 7,
   "metadata": {},
   "outputs": [],
   "source": [
    "#создадим функцию, которая оставит в тексте только англоязычные буквы\n",
    "def clear_text(text):\n",
    "    text_0=re.sub(r'[^a-zA-Z]',' ',text)\n",
    "    text_1=text_0.split()\n",
    "    text_2=\" \".join(text_1)\n",
    "    return text_2"
   ]
  },
  {
   "cell_type": "code",
   "execution_count": 8,
   "metadata": {},
   "outputs": [
    {
     "data": {
      "application/vnd.jupyter.widget-view+json": {
       "model_id": "0628dffdc98245ca869b566529f7a8a4",
       "version_major": 2,
       "version_minor": 0
      },
      "text/plain": [
       "  0%|          | 0/159292 [00:00<?, ?it/s]"
      ]
     },
     "metadata": {},
     "output_type": "display_data"
    }
   ],
   "source": [
    "#очистка текстов\n",
    "for i in notebook.tqdm(range(len(corpus))):\n",
    "    corpus[i]=clear_text(corpus[i])"
   ]
  },
  {
   "cell_type": "code",
   "execution_count": 9,
   "metadata": {},
   "outputs": [
    {
     "name": "stdout",
     "output_type": "stream",
     "text": [
      "\"\n",
      "\n",
      "Congratulations from me as well, use the tools well.  · talk \"\n",
      "Congratulations from me as well use the tools well talk\n"
     ]
    }
   ],
   "source": [
    "#проверка очистки\n",
    "print(df['text'][5])\n",
    "print(corpus[5])"
   ]
  },
  {
   "cell_type": "markdown",
   "metadata": {},
   "source": [
    "### Лемматизация текстов"
   ]
  },
  {
   "cell_type": "code",
   "execution_count": 10,
   "metadata": {},
   "outputs": [],
   "source": [
    "#загрузка инструмента лемматизации для английского языка\n",
    "nlp=spacy.load('en_core_web_sm',disable=['parser','ner'])"
   ]
  },
  {
   "cell_type": "code",
   "execution_count": 11,
   "metadata": {},
   "outputs": [],
   "source": [
    "#создадим фнукцию, которая вернёт лемматизированный текст\n",
    "def lemmatize_text(text):\n",
    "    doc=nlp(text)\n",
    "    lemm_text=' '.join([token.lemma_ for token in doc])\n",
    "    return lemm_text"
   ]
  },
  {
   "cell_type": "code",
   "execution_count": 12,
   "metadata": {
    "scrolled": true
   },
   "outputs": [
    {
     "data": {
      "application/vnd.jupyter.widget-view+json": {
       "model_id": "2a986375067f4162ad0f791a6d788dc1",
       "version_major": 2,
       "version_minor": 0
      },
      "text/plain": [
       "  0%|          | 0/159292 [00:00<?, ?it/s]"
      ]
     },
     "metadata": {},
     "output_type": "display_data"
    }
   ],
   "source": [
    "#лемматизация текстов\n",
    "for i in notebook.tqdm(range(len(corpus))):\n",
    "    corpus[i]=lemmatize_text(corpus[i])"
   ]
  },
  {
   "cell_type": "code",
   "execution_count": 13,
   "metadata": {
    "scrolled": true
   },
   "outputs": [
    {
     "name": "stdout",
     "output_type": "stream",
     "text": [
      "Hey man, I'm really not trying to edit war. It's just that this guy is constantly removing relevant information and talking to me through edits instead of my talk page. He seems to care more about the formatting than the actual info.\n",
      "hey man I m really not try to edit war it s just that this guy be constantly remove relevant information and talk to I through edit instead of my talk page he seem to care more about the formatting than the actual info\n"
     ]
    }
   ],
   "source": [
    "#проверка лемматизации\n",
    "n=2\n",
    "print(df['text'][n])\n",
    "print(corpus[n])"
   ]
  },
  {
   "cell_type": "markdown",
   "metadata": {},
   "source": [
    "### Определение признаков и разделение выборок"
   ]
  },
  {
   "cell_type": "code",
   "execution_count": 14,
   "metadata": {},
   "outputs": [],
   "source": [
    "#задаём признаки и целевой признак\n",
    "features=corpus\n",
    "target=df['toxic']"
   ]
  },
  {
   "cell_type": "code",
   "execution_count": 15,
   "metadata": {},
   "outputs": [],
   "source": [
    "#разделение выборок на тренировочную и тестовую\n",
    "features_train,features_test,target_train,target_test=train_test_split(features,target,train_size=0.8)"
   ]
  },
  {
   "cell_type": "markdown",
   "metadata": {},
   "source": [
    "### Подсчёт величины TF-IDF"
   ]
  },
  {
   "cell_type": "raw",
   "metadata": {},
   "source": [
    "#скачивание стоп-слов\n",
    "nltk.download('stopwords')"
   ]
  },
  {
   "cell_type": "code",
   "execution_count": 16,
   "metadata": {},
   "outputs": [],
   "source": [
    "#сохранение английских стоп-слов\n",
    "stopwords=set(nltk_stopwords.words('english'))\n",
    "#обозначение инструмента подсчёта tf-idf\n",
    "count_tf_idf=TfidfVectorizer(stop_words=stopwords)"
   ]
  },
  {
   "cell_type": "markdown",
   "metadata": {},
   "source": [
    "## Обучение"
   ]
  },
  {
   "cell_type": "markdown",
   "metadata": {},
   "source": [
    "### Модель логистической регрессии"
   ]
  },
  {
   "cell_type": "code",
   "execution_count": 17,
   "metadata": {
    "scrolled": false
   },
   "outputs": [
    {
     "name": "stdout",
     "output_type": "stream",
     "text": [
      "CPU times: user 10min 1s, sys: 9min 22s, total: 19min 24s\n",
      "Wall time: 19min 28s\n"
     ]
    },
    {
     "data": {
      "text/plain": [
       "GridSearchCV(cv=4,\n",
       "             estimator=Pipeline(steps=[('tfidf',\n",
       "                                        TfidfVectorizer(stop_words={'a',\n",
       "                                                                    'about',\n",
       "                                                                    'above',\n",
       "                                                                    'after',\n",
       "                                                                    'again',\n",
       "                                                                    'against',\n",
       "                                                                    'ain',\n",
       "                                                                    'all', 'am',\n",
       "                                                                    'an', 'and',\n",
       "                                                                    'any',\n",
       "                                                                    'are',\n",
       "                                                                    'aren',\n",
       "                                                                    \"aren't\",\n",
       "                                                                    'as', 'at',\n",
       "                                                                    'be',\n",
       "                                                                    'because',\n",
       "                                                                    'been',\n",
       "                                                                    'before',\n",
       "                                                                    'being',\n",
       "                                                                    'below',\n",
       "                                                                    'between',\n",
       "                                                                    'both',\n",
       "                                                                    'but', 'by',\n",
       "                                                                    'can',\n",
       "                                                                    'couldn',\n",
       "                                                                    \"couldn't\", ...})),\n",
       "                                       ('clf', LogisticRegression())]),\n",
       "             param_grid={'clf__C': [1, 10], 'clf__class_weight': ['balanced'],\n",
       "                         'clf__max_iter': [5000],\n",
       "                         'clf__solver': ['lbfgs', 'liblinear', 'newton-cg']},\n",
       "             scoring=make_scorer(f1_score))"
      ]
     },
     "execution_count": 17,
     "metadata": {},
     "output_type": "execute_result"
    }
   ],
   "source": [
    "%%time\n",
    "#обучение модели логистической регрессии с перебором гиперпараметров и взвешиванием классов\n",
    "parametres={'clf__solver':['lbfgs','liblinear', 'newton-cg'],\n",
    "            'clf__max_iter':[5000],\n",
    "            'clf__class_weight':['balanced'],\n",
    "            'clf__C':[1, 10]}\n",
    "pipe_0=Pipeline([('tfidf',TfidfVectorizer(stop_words=stopwords)),\n",
    "                 ('clf',LogisticRegression())])\n",
    "best_model_0=GridSearchCV(estimator=pipe_0,\n",
    "                          param_grid=parametres,\n",
    "                          cv=4,\n",
    "                          scoring=make_scorer(f1_score))\n",
    "best_model_0.fit(features_train,target_train)"
   ]
  },
  {
   "cell_type": "code",
   "execution_count": 18,
   "metadata": {
    "scrolled": true
   },
   "outputs": [
    {
     "name": "stdout",
     "output_type": "stream",
     "text": [
      "f1-мера: 0.7670918490265854\n"
     ]
    }
   ],
   "source": [
    "#вывод результатов f1-меры для модели\n",
    "print('f1-мера:',abs(best_model_0.best_score_))"
   ]
  },
  {
   "cell_type": "markdown",
   "metadata": {},
   "source": [
    "### Модель случайного леса"
   ]
  },
  {
   "cell_type": "code",
   "execution_count": 20,
   "metadata": {},
   "outputs": [
    {
     "name": "stdout",
     "output_type": "stream",
     "text": [
      "CPU times: user 4min 48s, sys: 3.87 s, total: 4min 52s\n",
      "Wall time: 4min 52s\n"
     ]
    },
    {
     "data": {
      "text/plain": [
       "GridSearchCV(cv=4,\n",
       "             estimator=Pipeline(steps=[('tfidf',\n",
       "                                        TfidfVectorizer(stop_words={'a',\n",
       "                                                                    'about',\n",
       "                                                                    'above',\n",
       "                                                                    'after',\n",
       "                                                                    'again',\n",
       "                                                                    'against',\n",
       "                                                                    'ain',\n",
       "                                                                    'all', 'am',\n",
       "                                                                    'an', 'and',\n",
       "                                                                    'any',\n",
       "                                                                    'are',\n",
       "                                                                    'aren',\n",
       "                                                                    \"aren't\",\n",
       "                                                                    'as', 'at',\n",
       "                                                                    'be',\n",
       "                                                                    'because',\n",
       "                                                                    'been',\n",
       "                                                                    'before',\n",
       "                                                                    'being',\n",
       "                                                                    'below',\n",
       "                                                                    'between',\n",
       "                                                                    'both',\n",
       "                                                                    'but', 'by',\n",
       "                                                                    'can',\n",
       "                                                                    'couldn',\n",
       "                                                                    \"couldn't\", ...})),\n",
       "                                       ('clf',\n",
       "                                        RandomForestClassifier(class_weight='balanced',\n",
       "                                                               random_state=12345))]),\n",
       "             param_grid={'clf__criterion': ['gini'],\n",
       "                         'clf__max_depth': [750, 1000],\n",
       "                         'clf__min_samples_leaf': [1, 3],\n",
       "                         'clf__min_samples_split': [4, 6],\n",
       "                         'clf__n_estimators': [2]},\n",
       "             scoring=make_scorer(f1_score))"
      ]
     },
     "execution_count": 20,
     "metadata": {},
     "output_type": "execute_result"
    }
   ],
   "source": [
    "%%time\n",
    "#обучение модели случайного леса с перебором гиперпараметров\n",
    "parametres={'clf__n_estimators': [2],\n",
    "            'clf__max_depth': [750,1000],\n",
    "            'clf__criterion':[\"gini\"],\n",
    "            'clf__min_samples_split':[4,6],\n",
    "           'clf__min_samples_leaf':[1,3]}\n",
    "pipe_1=Pipeline([('tfidf',TfidfVectorizer(stop_words=stopwords)),\n",
    "                 ('clf',RandomForestClassifier(class_weight='balanced',random_state=12345))])\n",
    "best_model_1=GridSearchCV(estimator=pipe_1,\n",
    "                          param_grid=parametres,\n",
    "                          cv=4,\n",
    "                          scoring=make_scorer(f1_score))\n",
    "best_model_1.fit(features_train,target_train)"
   ]
  },
  {
   "cell_type": "code",
   "execution_count": 21,
   "metadata": {},
   "outputs": [
    {
     "name": "stdout",
     "output_type": "stream",
     "text": [
      "f1-мера: 0.4987316810086649\n"
     ]
    }
   ],
   "source": [
    "#вывод результатов f1-меры для модели\n",
    "print('f1-мера:',abs(best_model_1.best_score_))"
   ]
  },
  {
   "cell_type": "markdown",
   "metadata": {},
   "source": [
    "### Проверка лучшей модели на тестовой выборке"
   ]
  },
  {
   "cell_type": "markdown",
   "metadata": {},
   "source": [
    "В ходе работы были обучены две модели с подбором гиперпараметров и кросс-валидацией: логистическая регрессия и случайный лес. Сравнительные результаты на кросс-валидации:\n",
    "\n",
    "| Модель                 | f1-мера  | Время выполнения|\n",
    "|------------------------|----------|-----------------|\n",
    "| Логистическая регрессия| 0.77     | 19 мин 10 сек   |\n",
    "| Случайный лес          | 0.52     | 4 мин 35 сек    |\n",
    "\n",
    "Далее проверим модель Логистической регрессии (model_0) на тестовой выборке:"
   ]
  },
  {
   "cell_type": "code",
   "execution_count": 23,
   "metadata": {
    "scrolled": true
   },
   "outputs": [
    {
     "name": "stdout",
     "output_type": "stream",
     "text": [
      "f1-мера: 0.7641352549889135\n"
     ]
    }
   ],
   "source": [
    "#предсказания на тестовой выборке\n",
    "predictions_test=best_model_0.predict(features_test)\n",
    "#вывод результатов f1-меры \n",
    "print('f1-мера:',f1_score(predictions_test,target_test))"
   ]
  },
  {
   "cell_type": "markdown",
   "metadata": {},
   "source": [
    "## Выводы"
   ]
  },
  {
   "cell_type": "markdown",
   "metadata": {},
   "source": [
    "\n",
    "    \n",
    "В ходе работы были обучены две модели с подбором гиперпараметров и кросс-валидацией: логистическая регрессия и случайный лес. \n",
    "\n",
    "Логистическая регрессия обучалась в 4 раза дольше, чем случайный лес (20 минут против 4), но зато выдала удовлетворительный результат f1 меры больше 0.75, в отличие от случайного леса.\n",
    "\n",
    "На тестовой же выборке наилучшая модель логистической регрессии показала значение f1-меры в 0.77.    \n",
    "   "
   ]
  },
  {
   "cell_type": "markdown",
   "metadata": {},
   "source": [
    "## Классификация на эмбеддингах (BERT)"
   ]
  },
  {
   "cell_type": "markdown",
   "metadata": {},
   "source": [
    "Несмотря на то, что данный раздел предполагалось выполнять на локальной машине, с этим возникли пока непреодолимые трудности, так что я попытался сделать в Jupyter Hub, но с очень маленькой выборкой (на бОльших ядро умирает), чтобы хотя бы проверить рабочесть идеи."
   ]
  },
  {
   "cell_type": "code",
   "execution_count": 26,
   "metadata": {},
   "outputs": [],
   "source": [
    "#частичная выборка из датасета\n",
    "df_bert=df[0:800]"
   ]
  },
  {
   "cell_type": "code",
   "execution_count": 27,
   "metadata": {},
   "outputs": [
    {
     "data": {
      "application/vnd.jupyter.widget-view+json": {
       "model_id": "e28e50c77d0047a88c0cf7781bad1654",
       "version_major": 2,
       "version_minor": 0
      },
      "text/plain": [
       "Downloading:   0%|          | 0.00/226k [00:00<?, ?B/s]"
      ]
     },
     "metadata": {},
     "output_type": "display_data"
    },
    {
     "data": {
      "application/vnd.jupyter.widget-view+json": {
       "model_id": "1308731c062e4e3d8df13b247a9ae4c6",
       "version_major": 2,
       "version_minor": 0
      },
      "text/plain": [
       "Downloading:   0%|          | 0.00/112 [00:00<?, ?B/s]"
      ]
     },
     "metadata": {},
     "output_type": "display_data"
    },
    {
     "data": {
      "application/vnd.jupyter.widget-view+json": {
       "model_id": "2a239fafb0cc478f8a5f5fcf3c91a1a2",
       "version_major": 2,
       "version_minor": 0
      },
      "text/plain": [
       "Downloading:   0%|          | 0.00/174 [00:00<?, ?B/s]"
      ]
     },
     "metadata": {},
     "output_type": "display_data"
    },
    {
     "data": {
      "application/vnd.jupyter.widget-view+json": {
       "model_id": "969821419e294dd8a0dfda0e63ef5ec0",
       "version_major": 2,
       "version_minor": 0
      },
      "text/plain": [
       "Downloading:   0%|          | 0.00/811 [00:00<?, ?B/s]"
      ]
     },
     "metadata": {},
     "output_type": "display_data"
    }
   ],
   "source": [
    "#инициализация токенайзера\n",
    "tokenizer=transformers.BertTokenizer.from_pretrained(\"unitary/toxic-bert\")"
   ]
  },
  {
   "cell_type": "code",
   "execution_count": 28,
   "metadata": {},
   "outputs": [],
   "source": [
    "#токенизация текстов с переводом в тензоры\n",
    "tokenized=df_bert['text'].apply(lambda x: tokenizer.encode(x,add_special_tokens=True,truncation=True))"
   ]
  },
  {
   "cell_type": "code",
   "execution_count": 29,
   "metadata": {},
   "outputs": [],
   "source": [
    "#определение максимальной длины тензора\n",
    "max_len = 0\n",
    "for i in tokenized.values:\n",
    "    if len(i) > max_len:\n",
    "        max_len = len(i)        "
   ]
  },
  {
   "cell_type": "code",
   "execution_count": 30,
   "metadata": {},
   "outputs": [],
   "source": [
    "#заполняем тензоры разной длины до наибольшей нулями\n",
    "padded = np.array([i + [0]*(max_len - len(i)) for i in tokenized.values])\n",
    "#создаём маску для нулей\n",
    "attention_mask = np.where(padded != 0, 1, 0)"
   ]
  },
  {
   "cell_type": "code",
   "execution_count": 31,
   "metadata": {
    "scrolled": true
   },
   "outputs": [
    {
     "data": {
      "application/vnd.jupyter.widget-view+json": {
       "model_id": "de02f08c1c784028b791ef948bddc02a",
       "version_major": 2,
       "version_minor": 0
      },
      "text/plain": [
       "Downloading:   0%|          | 0.00/418M [00:00<?, ?B/s]"
      ]
     },
     "metadata": {},
     "output_type": "display_data"
    },
    {
     "name": "stderr",
     "output_type": "stream",
     "text": [
      "Some weights of the model checkpoint at unitary/toxic-bert were not used when initializing BertModel: ['classifier.bias', 'classifier.weight']\n",
      "- This IS expected if you are initializing BertModel from the checkpoint of a model trained on another task or with another architecture (e.g. initializing a BertForSequenceClassification model from a BertForPreTraining model).\n",
      "- This IS NOT expected if you are initializing BertModel from the checkpoint of a model that you expect to be exactly identical (initializing a BertForSequenceClassification model from a BertForSequenceClassification model).\n"
     ]
    }
   ],
   "source": [
    "#инициализация модели\n",
    "model=transformers.BertModel.from_pretrained(\"unitary/toxic-bert\")"
   ]
  },
  {
   "cell_type": "code",
   "execution_count": 32,
   "metadata": {},
   "outputs": [
    {
     "data": {
      "application/vnd.jupyter.widget-view+json": {
       "model_id": "b0b2553896e64e81aa8ab7e1ac65ab51",
       "version_major": 2,
       "version_minor": 0
      },
      "text/plain": [
       "  0%|          | 0/400 [00:00<?, ?it/s]"
      ]
     },
     "metadata": {},
     "output_type": "display_data"
    }
   ],
   "source": [
    "#обучение эмбеддингов\n",
    "batch_size = 2\n",
    "embeddings = []\n",
    "for i in notebook.tqdm(range(padded.shape[0] // batch_size)):\n",
    "        batch = torch.LongTensor(padded[batch_size*i:batch_size*(i+1)]) \n",
    "        attention_mask_batch = torch.LongTensor(attention_mask[batch_size*i:batch_size*(i+1)])\n",
    "        \n",
    "        with torch.no_grad():\n",
    "            batch_embeddings = model(batch, attention_mask=attention_mask_batch)\n",
    "        \n",
    "        embeddings.append(batch_embeddings[0][:,0,:].numpy())"
   ]
  },
  {
   "cell_type": "code",
   "execution_count": 33,
   "metadata": {},
   "outputs": [],
   "source": [
    "#задаём признаки и целевой признак\n",
    "features = np.concatenate(embeddings)\n",
    "target=df_bert['toxic']"
   ]
  },
  {
   "cell_type": "code",
   "execution_count": 34,
   "metadata": {},
   "outputs": [],
   "source": [
    "#делим выборки\n",
    "features_train,features_test,target_train,target_test=train_test_split(features,target,train_size=0.5)"
   ]
  },
  {
   "cell_type": "code",
   "execution_count": 35,
   "metadata": {},
   "outputs": [],
   "source": [
    "#обучение модели логистической регрессии на эмбеддингах с взвешиванием классов\n",
    "model=LogisticRegression(class_weight='balanced',random_state=12345)\n",
    "model.fit(features_train,target_train)\n",
    "predictions=model.predict(features_test)"
   ]
  },
  {
   "cell_type": "code",
   "execution_count": 36,
   "metadata": {},
   "outputs": [
    {
     "data": {
      "text/plain": [
       "0.9195402298850575"
      ]
     },
     "execution_count": 36,
     "metadata": {},
     "output_type": "execute_result"
    }
   ],
   "source": [
    "f1_score(predictions,target_test)"
   ]
  },
  {
   "cell_type": "markdown",
   "metadata": {},
   "source": [
    "**Вывод**\n",
    "    \n",
    "Даже на такой маленькой выборке в 800 строк результат оказался лучше, чем для tf-idf: f1-score равняется 0.91. Однако и время обучения оказалось наибольшим из методов (порядка 40 минут), хотя в целом сопоставимым с суммарным временем лемматизации (примерно 15 минут) и обучением линейной регрессии (20 минут)\n",
    "    \n"
   ]
  },
  {
   "cell_type": "markdown",
   "metadata": {},
   "source": [
    "## Чек-лист проверки"
   ]
  },
  {
   "cell_type": "markdown",
   "metadata": {},
   "source": [
    "- [x]  Jupyter Notebook открыт\n",
    "- [x]  Весь код выполняется без ошибок (одна ошибка оставлена специально для проверки гипотезы о правильности понимания)\n",
    "- [x]  Ячейки с кодом расположены в порядке исполнения\n",
    "- [x]  Данные загружены и подготовлены\n",
    "- [x]  Модели обучены\n",
    "- [x]  Значение метрики *F1* не меньше 0.75\n",
    "- [x]  Выводы написаны"
   ]
  }
 ],
 "metadata": {
  "ExecuteTimeLog": [
   {
    "duration": 2111,
    "start_time": "2023-06-28T20:03:54.036Z"
   },
   {
    "duration": 184,
    "start_time": "2023-06-28T20:28:11.606Z"
   },
   {
    "duration": 120,
    "start_time": "2023-06-28T20:28:19.101Z"
   },
   {
    "duration": 4287,
    "start_time": "2023-06-28T20:28:44.275Z"
   },
   {
    "duration": 39,
    "start_time": "2023-06-28T20:28:54.262Z"
   },
   {
    "duration": 19,
    "start_time": "2023-06-28T20:29:02.073Z"
   },
   {
    "duration": 40,
    "start_time": "2023-06-28T20:29:17.808Z"
   },
   {
    "duration": 15,
    "start_time": "2023-06-28T20:29:29.506Z"
   },
   {
    "duration": 891,
    "start_time": "2023-06-28T20:29:50.893Z"
   },
   {
    "duration": 34,
    "start_time": "2023-06-28T20:29:52.773Z"
   },
   {
    "duration": 8,
    "start_time": "2023-06-28T20:29:57.448Z"
   },
   {
    "duration": 16,
    "start_time": "2023-06-28T20:30:01.029Z"
   },
   {
    "duration": 14,
    "start_time": "2023-06-28T20:30:29.446Z"
   },
   {
    "duration": 17,
    "start_time": "2023-06-28T20:30:40.756Z"
   },
   {
    "duration": 47,
    "start_time": "2023-06-29T07:27:39.297Z"
   },
   {
    "duration": 2106,
    "start_time": "2023-06-29T07:27:44.392Z"
   },
   {
    "duration": 2360,
    "start_time": "2023-06-29T07:27:46.500Z"
   },
   {
    "duration": 35,
    "start_time": "2023-06-29T07:27:48.862Z"
   },
   {
    "duration": 39,
    "start_time": "2023-06-29T07:31:16.372Z"
   },
   {
    "duration": 3,
    "start_time": "2023-06-29T07:31:29.932Z"
   },
   {
    "duration": 14,
    "start_time": "2023-06-29T07:31:35.931Z"
   },
   {
    "duration": 97,
    "start_time": "2023-06-29T07:33:47.109Z"
   },
   {
    "duration": 12,
    "start_time": "2023-06-29T07:33:53.763Z"
   },
   {
    "duration": 4,
    "start_time": "2023-06-29T07:35:49.263Z"
   },
   {
    "duration": 33,
    "start_time": "2023-06-29T07:36:26.292Z"
   },
   {
    "duration": 46,
    "start_time": "2023-06-29T07:36:29.909Z"
   },
   {
    "duration": 4,
    "start_time": "2023-06-29T07:36:47.538Z"
   },
   {
    "duration": 5,
    "start_time": "2023-06-29T07:36:50.302Z"
   },
   {
    "duration": 4,
    "start_time": "2023-06-29T07:37:10.490Z"
   },
   {
    "duration": 19,
    "start_time": "2023-06-29T07:37:33.795Z"
   },
   {
    "duration": 803,
    "start_time": "2023-06-29T07:37:41.698Z"
   },
   {
    "duration": 5,
    "start_time": "2023-06-29T07:39:27.382Z"
   },
   {
    "duration": 3,
    "start_time": "2023-06-29T07:39:51.138Z"
   },
   {
    "duration": 3,
    "start_time": "2023-06-29T07:41:14.290Z"
   },
   {
    "duration": 53,
    "start_time": "2023-06-29T07:41:42.250Z"
   },
   {
    "duration": 4,
    "start_time": "2023-06-29T07:41:56.002Z"
   },
   {
    "duration": 4,
    "start_time": "2023-06-29T07:42:03.128Z"
   },
   {
    "duration": 5,
    "start_time": "2023-06-29T07:42:08.601Z"
   },
   {
    "duration": 14,
    "start_time": "2023-06-29T07:44:09.438Z"
   },
   {
    "duration": 38,
    "start_time": "2023-06-29T07:44:13.013Z"
   },
   {
    "duration": 9,
    "start_time": "2023-06-29T07:44:15.974Z"
   },
   {
    "duration": 4185,
    "start_time": "2023-06-29T07:44:30.280Z"
   },
   {
    "duration": 25,
    "start_time": "2023-06-29T07:44:43.079Z"
   },
   {
    "duration": 5,
    "start_time": "2023-06-29T07:44:47.895Z"
   },
   {
    "duration": 4,
    "start_time": "2023-06-29T07:44:51.179Z"
   },
   {
    "duration": 4,
    "start_time": "2023-06-29T07:44:57.463Z"
   },
   {
    "duration": 4,
    "start_time": "2023-06-29T07:45:03.663Z"
   },
   {
    "duration": 4,
    "start_time": "2023-06-29T07:45:11.364Z"
   },
   {
    "duration": 3951,
    "start_time": "2023-06-29T07:45:33.516Z"
   },
   {
    "duration": 4,
    "start_time": "2023-06-29T07:45:38.380Z"
   },
   {
    "duration": 4,
    "start_time": "2023-06-29T07:46:05.819Z"
   },
   {
    "duration": 689,
    "start_time": "2023-06-29T07:46:20.719Z"
   },
   {
    "duration": 4,
    "start_time": "2023-06-29T07:46:33.830Z"
   },
   {
    "duration": 696,
    "start_time": "2023-06-29T07:46:34.952Z"
   },
   {
    "duration": 4,
    "start_time": "2023-06-29T07:46:35.650Z"
   },
   {
    "duration": 3,
    "start_time": "2023-06-29T07:46:59.089Z"
   },
   {
    "duration": 3391,
    "start_time": "2023-06-29T07:46:59.428Z"
   },
   {
    "duration": 3,
    "start_time": "2023-06-29T07:47:05.621Z"
   },
   {
    "duration": 695,
    "start_time": "2023-06-29T07:47:06.650Z"
   },
   {
    "duration": 3,
    "start_time": "2023-06-29T07:47:11.662Z"
   },
   {
    "duration": 584,
    "start_time": "2023-06-29T07:47:11.989Z"
   },
   {
    "duration": 3,
    "start_time": "2023-06-29T07:47:13.836Z"
   },
   {
    "duration": 700,
    "start_time": "2023-06-29T07:47:14.292Z"
   },
   {
    "duration": 4,
    "start_time": "2023-06-29T07:47:15.880Z"
   },
   {
    "duration": 4,
    "start_time": "2023-06-29T07:47:19.751Z"
   },
   {
    "duration": 54,
    "start_time": "2023-06-29T07:47:29.684Z"
   },
   {
    "duration": 4,
    "start_time": "2023-06-29T07:47:30.366Z"
   },
   {
    "duration": 4144,
    "start_time": "2023-06-29T07:47:31.052Z"
   },
   {
    "duration": 13,
    "start_time": "2023-06-29T07:47:35.201Z"
   },
   {
    "duration": 741,
    "start_time": "2023-06-29T07:47:35.217Z"
   },
   {
    "duration": 5,
    "start_time": "2023-06-29T07:47:35.960Z"
   },
   {
    "duration": 3,
    "start_time": "2023-06-29T07:47:52.140Z"
   },
   {
    "duration": 674,
    "start_time": "2023-06-29T07:47:52.628Z"
   },
   {
    "duration": 16,
    "start_time": "2023-06-29T07:48:25.353Z"
   },
   {
    "duration": 669,
    "start_time": "2023-06-29T07:48:37.064Z"
   },
   {
    "duration": 4,
    "start_time": "2023-06-29T09:14:31.844Z"
   },
   {
    "duration": 339,
    "start_time": "2023-06-29T09:15:13.608Z"
   },
   {
    "duration": 3,
    "start_time": "2023-06-29T09:15:41.803Z"
   },
   {
    "duration": 20,
    "start_time": "2023-06-29T09:15:43.207Z"
   },
   {
    "duration": 3,
    "start_time": "2023-06-29T09:16:12.907Z"
   },
   {
    "duration": 4,
    "start_time": "2023-06-29T09:16:16.998Z"
   },
   {
    "duration": 5,
    "start_time": "2023-06-29T09:16:17.868Z"
   },
   {
    "duration": 48744,
    "start_time": "2023-06-29T09:16:44.975Z"
   },
   {
    "duration": 0,
    "start_time": "2023-06-29T09:17:33.721Z"
   },
   {
    "duration": 39,
    "start_time": "2023-06-29T09:17:36.802Z"
   },
   {
    "duration": 40,
    "start_time": "2023-06-29T09:18:12.810Z"
   },
   {
    "duration": 38,
    "start_time": "2023-06-29T09:18:18.191Z"
   },
   {
    "duration": 1451,
    "start_time": "2023-06-29T09:18:46.695Z"
   },
   {
    "duration": 861,
    "start_time": "2023-06-29T09:18:49.394Z"
   },
   {
    "duration": 45,
    "start_time": "2023-06-29T09:18:50.257Z"
   },
   {
    "duration": 15,
    "start_time": "2023-06-29T09:18:50.698Z"
   },
   {
    "duration": 36,
    "start_time": "2023-06-29T09:18:53.692Z"
   },
   {
    "duration": 3,
    "start_time": "2023-06-29T09:18:54.127Z"
   },
   {
    "duration": 4599,
    "start_time": "2023-06-29T09:18:54.639Z"
   },
   {
    "duration": 242,
    "start_time": "2023-06-29T09:19:01.683Z"
   },
   {
    "duration": 3,
    "start_time": "2023-06-29T09:19:02.089Z"
   },
   {
    "duration": 191,
    "start_time": "2023-06-29T09:19:02.897Z"
   },
   {
    "duration": 3,
    "start_time": "2023-06-29T09:19:14.887Z"
   },
   {
    "duration": 3158,
    "start_time": "2023-06-29T09:19:15.943Z"
   },
   {
    "duration": 5,
    "start_time": "2023-06-29T09:19:25.318Z"
   },
   {
    "duration": 10,
    "start_time": "2023-06-29T09:20:00.436Z"
   },
   {
    "duration": 7,
    "start_time": "2023-06-29T09:20:17.875Z"
   },
   {
    "duration": 4,
    "start_time": "2023-06-29T09:20:21.221Z"
   },
   {
    "duration": 4,
    "start_time": "2023-06-29T09:20:41.441Z"
   },
   {
    "duration": 11,
    "start_time": "2023-06-29T09:21:28.702Z"
   },
   {
    "duration": 4,
    "start_time": "2023-06-29T09:21:37.716Z"
   },
   {
    "duration": 2,
    "start_time": "2023-06-29T09:21:53.095Z"
   },
   {
    "duration": 4,
    "start_time": "2023-06-29T09:21:55.533Z"
   },
   {
    "duration": 4,
    "start_time": "2023-06-29T09:22:07.021Z"
   },
   {
    "duration": 5,
    "start_time": "2023-06-29T09:22:39.193Z"
   },
   {
    "duration": 4,
    "start_time": "2023-06-29T09:23:00.806Z"
   },
   {
    "duration": 6,
    "start_time": "2023-06-29T09:23:36.143Z"
   },
   {
    "duration": 4,
    "start_time": "2023-06-29T09:24:41.133Z"
   },
   {
    "duration": 8,
    "start_time": "2023-06-29T09:24:49.511Z"
   },
   {
    "duration": 770,
    "start_time": "2023-06-29T09:24:58.178Z"
   },
   {
    "duration": 28,
    "start_time": "2023-06-29T09:24:58.950Z"
   },
   {
    "duration": 9,
    "start_time": "2023-06-29T09:25:01.110Z"
   },
   {
    "duration": 48,
    "start_time": "2023-06-29T09:25:02.683Z"
   },
   {
    "duration": 4,
    "start_time": "2023-06-29T09:25:03.133Z"
   },
   {
    "duration": 4501,
    "start_time": "2023-06-29T09:25:03.644Z"
   },
   {
    "duration": 9,
    "start_time": "2023-06-29T09:25:27.207Z"
   },
   {
    "duration": 4,
    "start_time": "2023-06-29T09:26:08.398Z"
   },
   {
    "duration": 3,
    "start_time": "2023-06-29T09:26:16.031Z"
   },
   {
    "duration": 1553,
    "start_time": "2023-06-29T09:26:18.174Z"
   },
   {
    "duration": 3,
    "start_time": "2023-06-29T09:26:24.645Z"
   },
   {
    "duration": 4,
    "start_time": "2023-06-29T09:26:55.484Z"
   },
   {
    "duration": 4,
    "start_time": "2023-06-29T09:27:01.004Z"
   },
   {
    "duration": 5,
    "start_time": "2023-06-29T09:27:03.658Z"
   },
   {
    "duration": 3,
    "start_time": "2023-06-29T09:27:07.045Z"
   },
   {
    "duration": 4,
    "start_time": "2023-06-29T09:27:11.446Z"
   },
   {
    "duration": 3,
    "start_time": "2023-06-29T09:27:18.037Z"
   },
   {
    "duration": 4,
    "start_time": "2023-06-29T09:27:29.051Z"
   },
   {
    "duration": 4,
    "start_time": "2023-06-29T09:27:41.748Z"
   },
   {
    "duration": 5,
    "start_time": "2023-06-29T09:27:46.472Z"
   },
   {
    "duration": 5,
    "start_time": "2023-06-29T09:27:48.934Z"
   },
   {
    "duration": 5,
    "start_time": "2023-06-29T09:27:55.478Z"
   },
   {
    "duration": 5,
    "start_time": "2023-06-29T09:27:57.347Z"
   },
   {
    "duration": 4,
    "start_time": "2023-06-29T09:27:59.472Z"
   },
   {
    "duration": 4,
    "start_time": "2023-06-29T09:28:00.911Z"
   },
   {
    "duration": 4,
    "start_time": "2023-06-29T09:28:06.610Z"
   },
   {
    "duration": 3,
    "start_time": "2023-06-29T09:43:57.326Z"
   },
   {
    "duration": 2768,
    "start_time": "2023-06-29T09:44:21.444Z"
   },
   {
    "duration": 2245,
    "start_time": "2023-06-29T09:44:26.631Z"
   },
   {
    "duration": 12123,
    "start_time": "2023-06-29T09:44:40.256Z"
   },
   {
    "duration": 4319,
    "start_time": "2023-06-29T09:45:09.751Z"
   },
   {
    "duration": 4,
    "start_time": "2023-06-29T09:45:20.375Z"
   },
   {
    "duration": 4,
    "start_time": "2023-06-29T09:45:40.697Z"
   },
   {
    "duration": 3,
    "start_time": "2023-06-29T09:45:44.070Z"
   },
   {
    "duration": 501,
    "start_time": "2023-06-29T09:46:42.907Z"
   },
   {
    "duration": 4,
    "start_time": "2023-06-29T09:47:11.373Z"
   },
   {
    "duration": 980,
    "start_time": "2023-06-29T09:47:13.035Z"
   },
   {
    "duration": 31,
    "start_time": "2023-06-29T09:47:14.017Z"
   },
   {
    "duration": 30,
    "start_time": "2023-06-29T09:47:14.051Z"
   },
   {
    "duration": 30,
    "start_time": "2023-06-29T09:47:16.595Z"
   },
   {
    "duration": 3,
    "start_time": "2023-06-29T09:47:17.245Z"
   },
   {
    "duration": 4745,
    "start_time": "2023-06-29T09:47:17.619Z"
   },
   {
    "duration": 9,
    "start_time": "2023-06-29T09:47:22.367Z"
   },
   {
    "duration": 8228,
    "start_time": "2023-06-29T09:47:32.376Z"
   },
   {
    "duration": 561,
    "start_time": "2023-06-29T09:47:43.622Z"
   },
   {
    "duration": 4930,
    "start_time": "2023-06-29T09:48:14.138Z"
   },
   {
    "duration": 972,
    "start_time": "2023-06-29T09:48:19.070Z"
   },
   {
    "duration": 34,
    "start_time": "2023-06-29T09:48:20.043Z"
   },
   {
    "duration": 33,
    "start_time": "2023-06-29T09:48:20.078Z"
   },
   {
    "duration": 45,
    "start_time": "2023-06-29T09:48:20.113Z"
   },
   {
    "duration": 23,
    "start_time": "2023-06-29T09:48:20.160Z"
   },
   {
    "duration": 4574,
    "start_time": "2023-06-29T09:48:20.185Z"
   },
   {
    "duration": 10,
    "start_time": "2023-06-29T09:48:24.760Z"
   },
   {
    "duration": 4,
    "start_time": "2023-06-29T09:48:25.607Z"
   },
   {
    "duration": 442,
    "start_time": "2023-06-29T09:48:31.272Z"
   },
   {
    "duration": 676,
    "start_time": "2023-06-29T09:48:36.374Z"
   },
   {
    "duration": 3,
    "start_time": "2023-06-29T09:48:53.562Z"
   },
   {
    "duration": 3,
    "start_time": "2023-06-29T09:48:58.347Z"
   },
   {
    "duration": 28,
    "start_time": "2023-06-29T09:49:10.796Z"
   },
   {
    "duration": 8,
    "start_time": "2023-06-29T09:49:16.734Z"
   },
   {
    "duration": 9,
    "start_time": "2023-06-29T09:49:57.567Z"
   },
   {
    "duration": 9,
    "start_time": "2023-06-29T09:50:01.525Z"
   },
   {
    "duration": 455,
    "start_time": "2023-06-29T09:50:29.334Z"
   },
   {
    "duration": 3,
    "start_time": "2023-06-29T09:51:12.418Z"
   },
   {
    "duration": 4,
    "start_time": "2023-06-29T09:51:18.493Z"
   },
   {
    "duration": 40,
    "start_time": "2023-06-29T09:51:19.995Z"
   },
   {
    "duration": 1057533,
    "start_time": "2023-06-29T09:51:27.581Z"
   },
   {
    "duration": 41,
    "start_time": "2023-06-29T10:09:05.117Z"
   },
   {
    "duration": 4,
    "start_time": "2023-06-29T10:09:07.854Z"
   },
   {
    "duration": 4,
    "start_time": "2023-06-29T10:09:16.744Z"
   },
   {
    "duration": 4,
    "start_time": "2023-06-29T10:09:19.056Z"
   },
   {
    "duration": 4,
    "start_time": "2023-06-29T10:09:22.542Z"
   },
   {
    "duration": 4,
    "start_time": "2023-06-29T10:09:25.879Z"
   },
   {
    "duration": 4,
    "start_time": "2023-06-29T10:09:28.956Z"
   },
   {
    "duration": 199,
    "start_time": "2023-06-29T10:09:47.906Z"
   },
   {
    "duration": 22,
    "start_time": "2023-06-29T10:10:23.709Z"
   },
   {
    "duration": 23,
    "start_time": "2023-06-29T10:10:27.254Z"
   },
   {
    "duration": 21,
    "start_time": "2023-06-29T10:10:38.517Z"
   },
   {
    "duration": 4,
    "start_time": "2023-06-29T10:10:44.757Z"
   },
   {
    "duration": 24,
    "start_time": "2023-06-29T10:10:53.939Z"
   },
   {
    "duration": 6750,
    "start_time": "2023-06-29T10:11:39.218Z"
   },
   {
    "duration": 7196,
    "start_time": "2023-06-29T10:12:39.606Z"
   },
   {
    "duration": 3,
    "start_time": "2023-06-29T10:12:49.429Z"
   },
   {
    "duration": 51,
    "start_time": "2023-06-29T10:12:50.662Z"
   },
   {
    "duration": 46726,
    "start_time": "2023-06-29T10:12:51.897Z"
   },
   {
    "duration": 60,
    "start_time": "2023-06-29T12:21:46.744Z"
   },
   {
    "duration": 45200,
    "start_time": "2023-06-29T12:21:47.526Z"
   },
   {
    "duration": 21,
    "start_time": "2023-06-29T12:24:41.811Z"
   },
   {
    "duration": 5,
    "start_time": "2023-06-29T12:25:50.892Z"
   },
   {
    "duration": 2758,
    "start_time": "2023-06-29T12:25:54.156Z"
   },
   {
    "duration": 142355,
    "start_time": "2023-06-29T12:26:38.448Z"
   },
   {
    "duration": 4,
    "start_time": "2023-06-29T12:29:00.805Z"
   },
   {
    "duration": 109835,
    "start_time": "2023-06-29T12:29:24.376Z"
   },
   {
    "duration": 87,
    "start_time": "2023-06-29T12:31:14.216Z"
   },
   {
    "duration": 67059,
    "start_time": "2023-06-29T12:33:38.576Z"
   },
   {
    "duration": 4,
    "start_time": "2023-06-29T12:34:49.494Z"
   },
   {
    "duration": 299105,
    "start_time": "2023-06-29T12:34:51.610Z"
   },
   {
    "duration": 4,
    "start_time": "2023-06-29T12:41:44.730Z"
   },
   {
    "duration": 21,
    "start_time": "2023-06-29T12:42:27.739Z"
   },
   {
    "duration": 42,
    "start_time": "2023-06-29T12:43:06.154Z"
   },
   {
    "duration": 52314,
    "start_time": "2023-06-29T12:43:08.089Z"
   },
   {
    "duration": 599647,
    "start_time": "2023-06-29T12:44:09.061Z"
   },
   {
    "duration": 57515,
    "start_time": "2023-06-29T12:54:08.711Z"
   },
   {
    "duration": 4,
    "start_time": "2023-06-29T12:55:06.228Z"
   },
   {
    "duration": 12,
    "start_time": "2023-06-29T12:55:06.235Z"
   },
   {
    "duration": 5,
    "start_time": "2023-06-29T12:55:12.234Z"
   },
   {
    "duration": 4,
    "start_time": "2023-06-29T12:55:46.897Z"
   },
   {
    "duration": 5,
    "start_time": "2023-06-29T12:55:50.055Z"
   },
   {
    "duration": 5,
    "start_time": "2023-06-29T12:55:54.472Z"
   },
   {
    "duration": 5,
    "start_time": "2023-06-29T12:55:59.101Z"
   },
   {
    "duration": 9,
    "start_time": "2023-06-29T12:56:04.636Z"
   },
   {
    "duration": 4829,
    "start_time": "2023-06-29T12:56:17.024Z"
   },
   {
    "duration": 5,
    "start_time": "2023-06-29T12:56:27.372Z"
   },
   {
    "duration": 21,
    "start_time": "2023-06-29T12:56:33.324Z"
   },
   {
    "duration": 5,
    "start_time": "2023-06-29T12:56:35.825Z"
   },
   {
    "duration": 5,
    "start_time": "2023-06-29T12:56:39.749Z"
   },
   {
    "duration": 8,
    "start_time": "2023-06-29T12:56:48.300Z"
   },
   {
    "duration": 8,
    "start_time": "2023-06-29T12:56:55.949Z"
   },
   {
    "duration": 22,
    "start_time": "2023-06-29T13:00:08.351Z"
   },
   {
    "duration": 1202876,
    "start_time": "2023-06-29T13:00:59.837Z"
   },
   {
    "duration": 24,
    "start_time": "2023-06-29T13:33:29.431Z"
   },
   {
    "duration": 585,
    "start_time": "2023-06-29T13:33:53.197Z"
   },
   {
    "duration": 4,
    "start_time": "2023-06-29T13:33:57.409Z"
   },
   {
    "duration": 4,
    "start_time": "2023-06-29T13:35:13.671Z"
   },
   {
    "duration": 94981,
    "start_time": "2023-06-29T13:35:21.761Z"
   },
   {
    "duration": 4,
    "start_time": "2023-06-29T13:37:07.026Z"
   },
   {
    "duration": 4,
    "start_time": "2023-06-29T13:37:11.257Z"
   },
   {
    "duration": 51075,
    "start_time": "2023-06-29T13:37:16.855Z"
   },
   {
    "duration": 51193,
    "start_time": "2023-06-29T13:38:32.942Z"
   },
   {
    "duration": 50056,
    "start_time": "2023-06-29T13:39:36.084Z"
   },
   {
    "duration": 4,
    "start_time": "2023-06-29T13:41:22.261Z"
   },
   {
    "duration": 16519,
    "start_time": "2023-06-29T13:41:24.359Z"
   },
   {
    "duration": 4,
    "start_time": "2023-06-29T13:41:44.238Z"
   },
   {
    "duration": 50734,
    "start_time": "2023-06-29T13:41:50.371Z"
   },
   {
    "duration": 49276,
    "start_time": "2023-06-29T13:43:00.236Z"
   },
   {
    "duration": 618115,
    "start_time": "2023-06-29T13:44:06.989Z"
   },
   {
    "duration": 4,
    "start_time": "2023-06-29T13:56:50.101Z"
   },
   {
    "duration": 2218095,
    "start_time": "2023-06-29T20:27:27.642Z"
   },
   {
    "duration": 4,
    "start_time": "2023-06-29T21:11:46.066Z"
   },
   {
    "duration": 9767,
    "start_time": "2023-07-03T16:58:15.982Z"
   },
   {
    "duration": 4485,
    "start_time": "2023-07-03T17:02:08.512Z"
   },
   {
    "duration": 2705,
    "start_time": "2023-07-03T17:02:13.000Z"
   },
   {
    "duration": 29,
    "start_time": "2023-07-03T17:02:15.715Z"
   },
   {
    "duration": 13,
    "start_time": "2023-07-03T17:02:15.746Z"
   },
   {
    "duration": 38,
    "start_time": "2023-07-03T17:02:15.760Z"
   },
   {
    "duration": 31,
    "start_time": "2023-07-03T17:02:15.799Z"
   },
   {
    "duration": 4679,
    "start_time": "2023-07-03T17:02:15.831Z"
   },
   {
    "duration": 8,
    "start_time": "2023-07-03T17:02:20.516Z"
   },
   {
    "duration": 698,
    "start_time": "2023-07-03T17:02:20.526Z"
   },
   {
    "duration": 2,
    "start_time": "2023-07-03T17:02:21.227Z"
   },
   {
    "duration": 914317,
    "start_time": "2023-07-03T17:02:21.231Z"
   },
   {
    "duration": 4,
    "start_time": "2023-07-03T17:17:35.549Z"
   },
   {
    "duration": 6179,
    "start_time": "2023-07-03T17:17:35.555Z"
   },
   {
    "duration": 3,
    "start_time": "2023-07-03T17:17:41.736Z"
   },
   {
    "duration": 30,
    "start_time": "2023-07-03T17:17:41.740Z"
   },
   {
    "duration": 1035442,
    "start_time": "2023-07-03T17:17:41.772Z"
   },
   {
    "duration": 3,
    "start_time": "2023-07-03T17:34:57.300Z"
   },
   {
    "duration": 24,
    "start_time": "2023-07-03T17:34:57.305Z"
   },
   {
    "duration": 308452,
    "start_time": "2023-07-03T17:34:57.330Z"
   },
   {
    "duration": 4,
    "start_time": "2023-07-03T17:40:05.784Z"
   },
   {
    "duration": 128,
    "start_time": "2023-07-03T17:40:05.801Z"
   },
   {
    "duration": 26013,
    "start_time": "2023-07-04T13:49:19.149Z"
   },
   {
    "duration": 3366,
    "start_time": "2023-07-04T13:49:45.164Z"
   },
   {
    "duration": 26,
    "start_time": "2023-07-04T13:49:48.532Z"
   },
   {
    "duration": 12,
    "start_time": "2023-07-04T13:49:48.560Z"
   },
   {
    "duration": 59,
    "start_time": "2023-07-04T13:49:48.574Z"
   },
   {
    "duration": 42,
    "start_time": "2023-07-04T13:49:48.635Z"
   },
   {
    "duration": 8891,
    "start_time": "2023-07-04T13:49:48.678Z"
   },
   {
    "duration": 6,
    "start_time": "2023-07-04T13:49:57.571Z"
   },
   {
    "duration": 1069,
    "start_time": "2023-07-04T13:49:57.579Z"
   },
   {
    "duration": 12,
    "start_time": "2023-07-04T13:49:58.654Z"
   },
   {
    "duration": 986511,
    "start_time": "2023-07-04T13:49:58.667Z"
   },
   {
    "duration": 4,
    "start_time": "2023-07-04T14:06:25.179Z"
   },
   {
    "duration": 7333,
    "start_time": "2023-07-04T14:06:25.184Z"
   },
   {
    "duration": 3,
    "start_time": "2023-07-04T14:06:32.530Z"
   },
   {
    "duration": 28,
    "start_time": "2023-07-04T14:06:32.534Z"
   },
   {
    "duration": 1022989,
    "start_time": "2023-07-04T14:06:32.564Z"
   },
   {
    "duration": 3,
    "start_time": "2023-07-04T14:23:35.555Z"
   },
   {
    "duration": 25,
    "start_time": "2023-07-04T14:23:35.559Z"
   },
   {
    "duration": 388303,
    "start_time": "2023-07-04T14:23:35.585Z"
   },
   {
    "duration": 38,
    "start_time": "2023-07-04T14:30:03.891Z"
   },
   {
    "duration": 163,
    "start_time": "2023-07-04T14:30:03.938Z"
   },
   {
    "duration": 3,
    "start_time": "2023-07-04T20:12:52.024Z"
   },
   {
    "duration": 134,
    "start_time": "2023-07-04T20:13:02.878Z"
   },
   {
    "duration": 7,
    "start_time": "2023-07-04T20:13:13.154Z"
   },
   {
    "duration": 3,
    "start_time": "2023-07-04T20:13:15.286Z"
   },
   {
    "duration": 6763,
    "start_time": "2023-07-04T20:13:42.930Z"
   },
   {
    "duration": 904,
    "start_time": "2023-07-04T20:15:53.733Z"
   },
   {
    "duration": 4,
    "start_time": "2023-07-04T20:16:08.220Z"
   },
   {
    "duration": 5983,
    "start_time": "2023-07-04T20:16:13.038Z"
   },
   {
    "duration": 267,
    "start_time": "2023-07-04T20:16:23.430Z"
   },
   {
    "duration": 268,
    "start_time": "2023-07-04T20:16:37.096Z"
   },
   {
    "duration": 6,
    "start_time": "2023-07-04T20:16:41.522Z"
   },
   {
    "duration": 947,
    "start_time": "2023-07-04T20:16:48.342Z"
   },
   {
    "duration": 63,
    "start_time": "2023-07-04T20:16:52.866Z"
   },
   {
    "duration": 202,
    "start_time": "2023-07-04T20:17:22.679Z"
   },
   {
    "duration": 7,
    "start_time": "2023-07-04T20:17:29.446Z"
   },
   {
    "duration": 5,
    "start_time": "2023-07-04T20:17:46.319Z"
   },
   {
    "duration": 4,
    "start_time": "2023-07-04T20:17:49.683Z"
   },
   {
    "duration": 95,
    "start_time": "2023-07-04T20:17:56.246Z"
   },
   {
    "duration": 13666,
    "start_time": "2023-07-04T20:18:50.432Z"
   },
   {
    "duration": 517,
    "start_time": "2023-07-04T20:19:09.567Z"
   },
   {
    "duration": 20,
    "start_time": "2023-07-04T20:19:39.297Z"
   },
   {
    "duration": 3518,
    "start_time": "2023-07-04T20:19:45.835Z"
   },
   {
    "duration": 0,
    "start_time": "2023-07-04T20:22:08.674Z"
   },
   {
    "duration": 0,
    "start_time": "2023-07-04T20:22:08.675Z"
   },
   {
    "duration": 4018,
    "start_time": "2023-07-04T20:22:12.450Z"
   },
   {
    "duration": 1925,
    "start_time": "2023-07-05T00:44:28.928Z"
   },
   {
    "duration": 1723,
    "start_time": "2023-07-05T00:46:15.592Z"
   },
   {
    "duration": 249,
    "start_time": "2023-07-05T00:46:18.152Z"
   },
   {
    "duration": 14,
    "start_time": "2023-07-05T00:46:25.466Z"
   },
   {
    "duration": 911,
    "start_time": "2023-07-05T00:46:27.704Z"
   },
   {
    "duration": 2313,
    "start_time": "2023-07-05T00:46:30.338Z"
   },
   {
    "duration": 2,
    "start_time": "2023-07-05T00:46:39.500Z"
   },
   {
    "duration": 3,
    "start_time": "2023-07-05T00:46:46.939Z"
   },
   {
    "duration": 4,
    "start_time": "2023-07-05T00:47:45.100Z"
   },
   {
    "duration": 9,
    "start_time": "2023-07-05T00:47:46.736Z"
   },
   {
    "duration": 79,
    "start_time": "2023-07-05T00:47:51.802Z"
   },
   {
    "duration": 18,
    "start_time": "2023-07-05T00:47:56.464Z"
   },
   {
    "duration": 14,
    "start_time": "2023-07-05T01:01:00.682Z"
   },
   {
    "duration": 3344,
    "start_time": "2023-07-05T01:01:23.420Z"
   },
   {
    "duration": 9481,
    "start_time": "2023-07-05T01:01:47.182Z"
   },
   {
    "duration": 3,
    "start_time": "2023-07-05T01:02:45.547Z"
   },
   {
    "duration": 5,
    "start_time": "2023-07-05T01:03:15.533Z"
   },
   {
    "duration": 116,
    "start_time": "2023-07-05T01:03:38.035Z"
   },
   {
    "duration": 10,
    "start_time": "2023-07-05T01:03:42.771Z"
   },
   {
    "duration": 2,
    "start_time": "2023-07-05T01:04:11.112Z"
   },
   {
    "duration": 5,
    "start_time": "2023-07-05T01:04:15.233Z"
   },
   {
    "duration": 3,
    "start_time": "2023-07-05T01:10:40.875Z"
   },
   {
    "duration": 2,
    "start_time": "2023-07-05T01:10:43.150Z"
   },
   {
    "duration": 3,
    "start_time": "2023-07-05T01:10:44.976Z"
   },
   {
    "duration": 3868,
    "start_time": "2023-07-05T01:10:58.390Z"
   },
   {
    "duration": 151,
    "start_time": "2023-07-05T01:11:26.313Z"
   },
   {
    "duration": 2515,
    "start_time": "2023-07-05T01:13:38.614Z"
   },
   {
    "duration": 124,
    "start_time": "2023-07-05T01:13:43.962Z"
   },
   {
    "duration": 127,
    "start_time": "2023-07-05T01:14:02.780Z"
   },
   {
    "duration": 124,
    "start_time": "2023-07-05T01:14:15.479Z"
   },
   {
    "duration": 6,
    "start_time": "2023-07-05T01:14:20.599Z"
   },
   {
    "duration": 3,
    "start_time": "2023-07-05T01:15:45.283Z"
   },
   {
    "duration": 9,
    "start_time": "2023-07-05T01:15:49.903Z"
   },
   {
    "duration": 8938,
    "start_time": "2023-07-05T01:16:00.668Z"
   },
   {
    "duration": 78,
    "start_time": "2023-07-05T01:16:23.173Z"
   },
   {
    "duration": 46,
    "start_time": "2023-07-05T01:16:55.360Z"
   },
   {
    "duration": 48,
    "start_time": "2023-07-05T01:17:27.064Z"
   },
   {
    "duration": 40,
    "start_time": "2023-07-05T01:17:45.095Z"
   },
   {
    "duration": 61,
    "start_time": "2023-07-05T01:18:04.069Z"
   },
   {
    "duration": 3,
    "start_time": "2023-07-05T01:18:12.123Z"
   },
   {
    "duration": 3,
    "start_time": "2023-07-05T01:18:16.379Z"
   },
   {
    "duration": 2337,
    "start_time": "2023-07-05T01:18:20.170Z"
   },
   {
    "duration": 10,
    "start_time": "2023-07-05T01:18:22.509Z"
   },
   {
    "duration": 3,
    "start_time": "2023-07-05T01:18:22.716Z"
   },
   {
    "duration": 5,
    "start_time": "2023-07-05T01:18:23.503Z"
   },
   {
    "duration": 2068,
    "start_time": "2023-07-05T01:18:24.741Z"
   },
   {
    "duration": 4942,
    "start_time": "2023-07-05T01:18:28.709Z"
   },
   {
    "duration": 5,
    "start_time": "2023-07-05T01:19:45.456Z"
   },
   {
    "duration": 3,
    "start_time": "2023-07-05T01:21:15.067Z"
   },
   {
    "duration": 105,
    "start_time": "2023-07-05T01:21:20.177Z"
   },
   {
    "duration": 3,
    "start_time": "2023-07-05T01:21:21.683Z"
   },
   {
    "duration": 7,
    "start_time": "2023-07-05T01:21:23.820Z"
   },
   {
    "duration": 2402,
    "start_time": "2023-07-05T01:21:24.692Z"
   },
   {
    "duration": 42,
    "start_time": "2023-07-05T01:21:31.293Z"
   },
   {
    "duration": 2680,
    "start_time": "2023-07-05T01:23:38.133Z"
   },
   {
    "duration": 111,
    "start_time": "2023-07-05T01:23:47.692Z"
   },
   {
    "duration": 3,
    "start_time": "2023-07-05T01:23:53.120Z"
   },
   {
    "duration": 8,
    "start_time": "2023-07-05T01:23:53.469Z"
   },
   {
    "duration": 152152,
    "start_time": "2023-07-05T01:23:55.186Z"
   },
   {
    "duration": 5,
    "start_time": "2023-07-05T01:26:27.341Z"
   },
   {
    "duration": 3,
    "start_time": "2023-07-05T01:26:30.533Z"
   },
   {
    "duration": 4,
    "start_time": "2023-07-05T01:26:31.557Z"
   },
   {
    "duration": 96,
    "start_time": "2023-07-05T01:26:32.372Z"
   },
   {
    "duration": 953,
    "start_time": "2023-07-05T01:26:35.897Z"
   },
   {
    "duration": 5,
    "start_time": "2023-07-05T01:26:38.096Z"
   },
   {
    "duration": 3,
    "start_time": "2023-07-05T01:26:50.222Z"
   },
   {
    "duration": 2602,
    "start_time": "2023-07-05T01:26:51.383Z"
   },
   {
    "duration": 1232,
    "start_time": "2023-07-05T01:26:54.711Z"
   },
   {
    "duration": 4,
    "start_time": "2023-07-05T01:26:56.049Z"
   },
   {
    "duration": 53,
    "start_time": "2023-07-05T01:26:57.495Z"
   },
   {
    "duration": 40,
    "start_time": "2023-07-05T01:27:03.374Z"
   },
   {
    "duration": 2003,
    "start_time": "2023-07-05T01:27:11.567Z"
   },
   {
    "duration": 1828,
    "start_time": "2023-07-05T01:31:36.436Z"
   },
   {
    "duration": 96,
    "start_time": "2023-07-05T01:31:44.780Z"
   },
   {
    "duration": 1703,
    "start_time": "2023-07-05T01:31:49.309Z"
   },
   {
    "duration": 164,
    "start_time": "2023-07-05T01:31:51.886Z"
   },
   {
    "duration": 1176,
    "start_time": "2023-07-05T01:31:55.637Z"
   },
   {
    "duration": 2394,
    "start_time": "2023-07-05T01:31:59.478Z"
   },
   {
    "duration": 3,
    "start_time": "2023-07-05T01:32:05.262Z"
   },
   {
    "duration": 2593,
    "start_time": "2023-07-05T01:32:07.336Z"
   },
   {
    "duration": 369,
    "start_time": "2023-07-05T01:32:10.736Z"
   },
   {
    "duration": 3,
    "start_time": "2023-07-05T01:32:11.560Z"
   },
   {
    "duration": 25,
    "start_time": "2023-07-05T01:32:12.224Z"
   },
   {
    "duration": 8948,
    "start_time": "2023-07-05T01:32:12.947Z"
   },
   {
    "duration": 920572,
    "start_time": "2023-07-05T01:32:23.694Z"
   },
   {
    "duration": 5,
    "start_time": "2023-07-05T01:48:10.630Z"
   },
   {
    "duration": 5,
    "start_time": "2023-07-05T01:48:11.508Z"
   },
   {
    "duration": 1204,
    "start_time": "2023-07-05T01:48:12.047Z"
   },
   {
    "duration": 187,
    "start_time": "2023-07-05T01:48:13.253Z"
   },
   {
    "duration": 4383,
    "start_time": "2023-07-05T01:49:34.253Z"
   },
   {
    "duration": 2305,
    "start_time": "2023-07-05T01:49:40.201Z"
   },
   {
    "duration": 29,
    "start_time": "2023-07-05T01:49:42.508Z"
   },
   {
    "duration": 12,
    "start_time": "2023-07-05T01:49:45.214Z"
   },
   {
    "duration": 38,
    "start_time": "2023-07-05T01:50:29.139Z"
   },
   {
    "duration": 30,
    "start_time": "2023-07-05T01:51:11.037Z"
   },
   {
    "duration": 3,
    "start_time": "2023-07-05T01:51:11.493Z"
   },
   {
    "duration": 4302,
    "start_time": "2023-07-05T01:51:11.983Z"
   },
   {
    "duration": 10,
    "start_time": "2023-07-05T01:51:16.288Z"
   },
   {
    "duration": 474,
    "start_time": "2023-07-05T01:51:18.933Z"
   },
   {
    "duration": 3,
    "start_time": "2023-07-05T01:51:20.582Z"
   },
   {
    "duration": 910827,
    "start_time": "2023-07-05T01:51:21.051Z"
   },
   {
    "duration": 4,
    "start_time": "2023-07-05T02:06:31.880Z"
   },
   {
    "duration": 8431,
    "start_time": "2023-07-05T02:06:31.885Z"
   },
   {
    "duration": 3,
    "start_time": "2023-07-05T02:06:40.318Z"
   },
   {
    "duration": 63,
    "start_time": "2023-07-05T02:06:40.323Z"
   },
   {
    "duration": 1403750,
    "start_time": "2023-07-05T02:06:40.389Z"
   },
   {
    "duration": 10,
    "start_time": "2023-07-05T02:30:04.141Z"
   },
   {
    "duration": 28,
    "start_time": "2023-07-05T02:30:04.232Z"
   },
   {
    "duration": 262796,
    "start_time": "2023-07-05T02:30:20.145Z"
   },
   {
    "duration": 4,
    "start_time": "2023-07-05T02:34:42.944Z"
   },
   {
    "duration": 105,
    "start_time": "2023-07-05T02:34:42.949Z"
   },
   {
    "duration": 4,
    "start_time": "2023-07-05T02:35:43.809Z"
   },
   {
    "duration": 310,
    "start_time": "2023-07-05T02:35:48.498Z"
   },
   {
    "duration": 256034,
    "start_time": "2023-07-05T02:36:41.225Z"
   },
   {
    "duration": 403,
    "start_time": "2023-07-05T02:40:57.261Z"
   },
   {
    "duration": 3,
    "start_time": "2023-07-05T02:42:28.277Z"
   },
   {
    "duration": 73,
    "start_time": "2023-07-05T02:42:29.225Z"
   },
   {
    "duration": 389,
    "start_time": "2023-07-05T02:42:49.891Z"
   },
   {
    "duration": 2585,
    "start_time": "2023-07-05T02:42:52.340Z"
   },
   {
    "duration": 673,
    "start_time": "2023-07-05T02:42:55.417Z"
   },
   {
    "duration": 3,
    "start_time": "2023-07-05T02:42:57.677Z"
   },
   {
    "duration": 26,
    "start_time": "2023-07-05T02:43:00.835Z"
   },
   {
    "duration": 3933,
    "start_time": "2023-07-05T02:43:02.028Z"
   },
   {
    "duration": 115436,
    "start_time": "2023-07-05T02:43:09.031Z"
   },
   {
    "duration": 3,
    "start_time": "2023-07-05T02:45:14.060Z"
   },
   {
    "duration": 20,
    "start_time": "2023-07-05T02:45:14.880Z"
   },
   {
    "duration": 6630,
    "start_time": "2023-07-05T02:45:25.118Z"
   },
   {
    "duration": 0,
    "start_time": "2023-07-05T02:45:31.749Z"
   },
   {
    "duration": 4430,
    "start_time": "2023-07-05T02:45:42.834Z"
   },
   {
    "duration": 1905,
    "start_time": "2023-07-05T02:45:47.266Z"
   },
   {
    "duration": 27,
    "start_time": "2023-07-05T02:45:49.172Z"
   },
   {
    "duration": 12,
    "start_time": "2023-07-05T02:45:49.200Z"
   },
   {
    "duration": 40,
    "start_time": "2023-07-05T02:45:49.214Z"
   },
   {
    "duration": 24,
    "start_time": "2023-07-05T02:45:49.256Z"
   },
   {
    "duration": 6,
    "start_time": "2023-07-05T02:45:49.282Z"
   },
   {
    "duration": 4274,
    "start_time": "2023-07-05T02:45:49.290Z"
   },
   {
    "duration": 10,
    "start_time": "2023-07-05T02:45:53.566Z"
   },
   {
    "duration": 471,
    "start_time": "2023-07-05T02:45:53.578Z"
   },
   {
    "duration": 3,
    "start_time": "2023-07-05T02:45:54.050Z"
   },
   {
    "duration": 927005,
    "start_time": "2023-07-05T02:45:54.054Z"
   },
   {
    "duration": 3,
    "start_time": "2023-07-05T03:01:21.060Z"
   },
   {
    "duration": 6138,
    "start_time": "2023-07-05T03:01:21.066Z"
   },
   {
    "duration": 3,
    "start_time": "2023-07-05T03:01:27.206Z"
   },
   {
    "duration": 49,
    "start_time": "2023-07-05T03:01:27.210Z"
   },
   {
    "duration": 1299419,
    "start_time": "2023-07-05T03:01:27.260Z"
   },
   {
    "duration": 3,
    "start_time": "2023-07-05T03:23:06.680Z"
   },
   {
    "duration": 17,
    "start_time": "2023-07-05T03:23:06.684Z"
   },
   {
    "duration": 297035,
    "start_time": "2023-07-05T03:23:06.702Z"
   },
   {
    "duration": 3,
    "start_time": "2023-07-05T03:28:03.739Z"
   },
   {
    "duration": 127,
    "start_time": "2023-07-05T03:28:03.744Z"
   },
   {
    "duration": 2,
    "start_time": "2023-07-05T03:28:03.873Z"
   },
   {
    "duration": 2692,
    "start_time": "2023-07-05T03:28:03.877Z"
   },
   {
    "duration": 722,
    "start_time": "2023-07-05T03:28:06.571Z"
   },
   {
    "duration": 3,
    "start_time": "2023-07-05T03:28:07.294Z"
   },
   {
    "duration": 44,
    "start_time": "2023-07-05T03:28:07.299Z"
   },
   {
    "duration": 2461,
    "start_time": "2023-07-05T03:28:07.344Z"
   },
   {
    "duration": 47,
    "start_time": "2023-07-05T03:52:55.441Z"
   },
   {
    "duration": 4513,
    "start_time": "2023-07-05T03:53:48.225Z"
   },
   {
    "duration": 2279,
    "start_time": "2023-07-05T03:53:52.740Z"
   },
   {
    "duration": 30,
    "start_time": "2023-07-05T03:53:55.021Z"
   },
   {
    "duration": 46,
    "start_time": "2023-07-05T03:53:55.052Z"
   },
   {
    "duration": 46,
    "start_time": "2023-07-05T03:53:55.100Z"
   },
   {
    "duration": 26,
    "start_time": "2023-07-05T03:53:55.148Z"
   },
   {
    "duration": 15,
    "start_time": "2023-07-05T03:53:55.176Z"
   },
   {
    "duration": 4425,
    "start_time": "2023-07-05T03:53:55.193Z"
   },
   {
    "duration": 9,
    "start_time": "2023-07-05T03:53:59.631Z"
   },
   {
    "duration": 490,
    "start_time": "2023-07-05T03:53:59.641Z"
   },
   {
    "duration": 3,
    "start_time": "2023-07-05T03:54:00.133Z"
   },
   {
    "duration": 1063270,
    "start_time": "2023-07-05T03:54:00.138Z"
   },
   {
    "duration": 3,
    "start_time": "2023-07-05T04:11:43.410Z"
   },
   {
    "duration": 7925,
    "start_time": "2023-07-05T04:11:43.416Z"
   },
   {
    "duration": 5,
    "start_time": "2023-07-05T04:11:51.343Z"
   },
   {
    "duration": 67,
    "start_time": "2023-07-05T04:11:51.351Z"
   },
   {
    "duration": 1131259,
    "start_time": "2023-07-05T04:11:51.420Z"
   },
   {
    "duration": 4,
    "start_time": "2023-07-05T04:30:42.681Z"
   },
   {
    "duration": 22,
    "start_time": "2023-07-05T04:30:42.686Z"
   },
   {
    "duration": 317934,
    "start_time": "2023-07-05T04:30:42.709Z"
   },
   {
    "duration": 9,
    "start_time": "2023-07-05T04:36:00.645Z"
   },
   {
    "duration": 198,
    "start_time": "2023-07-05T04:36:00.657Z"
   },
   {
    "duration": 4,
    "start_time": "2023-07-05T04:36:00.857Z"
   },
   {
    "duration": 3081,
    "start_time": "2023-07-05T04:36:00.862Z"
   },
   {
    "duration": 453,
    "start_time": "2023-07-05T04:36:03.945Z"
   },
   {
    "duration": 3,
    "start_time": "2023-07-05T04:36:04.400Z"
   },
   {
    "duration": 56,
    "start_time": "2023-07-05T04:36:04.405Z"
   },
   {
    "duration": 9144,
    "start_time": "2023-07-05T04:36:04.464Z"
   },
   {
    "duration": 4728,
    "start_time": "2023-07-06T07:26:50.592Z"
   },
   {
    "duration": 2213,
    "start_time": "2023-07-06T07:26:55.323Z"
   },
   {
    "duration": 30,
    "start_time": "2023-07-06T07:26:57.538Z"
   },
   {
    "duration": 18,
    "start_time": "2023-07-06T07:26:57.569Z"
   },
   {
    "duration": 42,
    "start_time": "2023-07-06T07:26:57.588Z"
   },
   {
    "duration": 38,
    "start_time": "2023-07-06T07:26:57.632Z"
   },
   {
    "duration": 20,
    "start_time": "2023-07-06T07:26:57.671Z"
   },
   {
    "duration": 4101,
    "start_time": "2023-07-06T07:26:57.692Z"
   },
   {
    "duration": 9,
    "start_time": "2023-07-06T07:27:01.794Z"
   },
   {
    "duration": 484,
    "start_time": "2023-07-06T07:27:01.805Z"
   },
   {
    "duration": 3,
    "start_time": "2023-07-06T07:27:02.291Z"
   },
   {
    "duration": 988462,
    "start_time": "2023-07-06T07:27:02.296Z"
   },
   {
    "duration": 8,
    "start_time": "2023-07-06T10:11:19.266Z"
   },
   {
    "duration": 3,
    "start_time": "2023-07-06T10:12:03.738Z"
   },
   {
    "duration": 72,
    "start_time": "2023-07-06T10:12:08.266Z"
   },
   {
    "duration": 5326,
    "start_time": "2023-07-06T10:15:08.602Z"
   },
   {
    "duration": 3,
    "start_time": "2023-07-06T10:15:28.665Z"
   },
   {
    "duration": 479,
    "start_time": "2023-07-06T10:24:18.396Z"
   },
   {
    "duration": 6,
    "start_time": "2023-07-06T10:25:27.149Z"
   },
   {
    "duration": 146,
    "start_time": "2023-07-06T10:25:33.958Z"
   },
   {
    "duration": 113,
    "start_time": "2023-07-06T10:25:38.537Z"
   },
   {
    "duration": 195,
    "start_time": "2023-07-06T10:27:37.461Z"
   },
   {
    "duration": 164,
    "start_time": "2023-07-06T10:32:35.457Z"
   },
   {
    "duration": 180,
    "start_time": "2023-07-06T10:34:20.985Z"
   },
   {
    "duration": 5,
    "start_time": "2023-07-06T10:35:16.768Z"
   },
   {
    "duration": 50074,
    "start_time": "2023-07-06T10:36:46.266Z"
   },
   {
    "duration": 47,
    "start_time": "2023-07-06T10:41:33.467Z"
   },
   {
    "duration": 44,
    "start_time": "2023-07-06T10:42:10.367Z"
   },
   {
    "duration": 101,
    "start_time": "2023-07-06T10:42:22.756Z"
   },
   {
    "duration": 82,
    "start_time": "2023-07-06T10:42:44.887Z"
   },
   {
    "duration": 66,
    "start_time": "2023-07-06T10:43:08.386Z"
   },
   {
    "duration": 61,
    "start_time": "2023-07-06T10:43:35.720Z"
   },
   {
    "duration": 50,
    "start_time": "2023-07-06T10:44:01.224Z"
   },
   {
    "duration": 216,
    "start_time": "2023-07-06T10:44:14.487Z"
   },
   {
    "duration": 131,
    "start_time": "2023-07-06T10:44:54.723Z"
   },
   {
    "duration": 136,
    "start_time": "2023-07-06T10:45:18.990Z"
   },
   {
    "duration": 19,
    "start_time": "2023-07-06T10:46:03.647Z"
   },
   {
    "duration": 4,
    "start_time": "2023-07-06T10:46:11.634Z"
   },
   {
    "duration": 155,
    "start_time": "2023-07-06T10:47:45.759Z"
   },
   {
    "duration": 196,
    "start_time": "2023-07-06T10:47:58.225Z"
   },
   {
    "duration": 1479201,
    "start_time": "2023-07-06T10:49:43.190Z"
   },
   {
    "duration": 4,
    "start_time": "2023-07-06T11:17:42.011Z"
   },
   {
    "duration": 4,
    "start_time": "2023-07-06T12:26:49.097Z"
   },
   {
    "duration": 4,
    "start_time": "2023-07-06T12:26:55.549Z"
   },
   {
    "duration": 4,
    "start_time": "2023-07-06T12:27:57.924Z"
   },
   {
    "duration": 184,
    "start_time": "2023-07-06T12:30:19.024Z"
   },
   {
    "duration": 189,
    "start_time": "2023-07-06T12:31:22.311Z"
   },
   {
    "duration": 312521,
    "start_time": "2023-07-06T12:32:05.841Z"
   },
   {
    "duration": 3,
    "start_time": "2023-07-06T12:37:18.365Z"
   },
   {
    "duration": 4,
    "start_time": "2023-07-06T12:37:23.794Z"
   },
   {
    "duration": 2,
    "start_time": "2023-07-06T12:38:50.206Z"
   },
   {
    "duration": 1211478,
    "start_time": "2023-07-06T12:38:59.617Z"
   },
   {
    "duration": 1498,
    "start_time": "2023-07-06T12:59:11.098Z"
   },
   {
    "duration": 28,
    "start_time": "2023-07-06T13:14:25.773Z"
   },
   {
    "duration": 4,
    "start_time": "2023-07-06T13:15:12.726Z"
   },
   {
    "duration": 19,
    "start_time": "2023-07-06T13:15:19.492Z"
   },
   {
    "duration": 5,
    "start_time": "2023-07-06T13:15:25.087Z"
   },
   {
    "duration": 41,
    "start_time": "2023-07-06T13:16:13.940Z"
   },
   {
    "duration": 81,
    "start_time": "2023-07-06T13:16:41.542Z"
   },
   {
    "duration": 4,
    "start_time": "2023-07-06T13:16:46.903Z"
   },
   {
    "duration": 6,
    "start_time": "2023-07-06T13:16:51.415Z"
   },
   {
    "duration": 7,
    "start_time": "2023-07-06T13:16:54.491Z"
   },
   {
    "duration": 66,
    "start_time": "2023-07-06T13:17:02.740Z"
   },
   {
    "duration": 1433,
    "start_time": "2023-07-06T13:17:08.598Z"
   },
   {
    "duration": 81,
    "start_time": "2023-07-06T13:17:35.316Z"
   },
   {
    "duration": 22,
    "start_time": "2023-07-06T13:17:38.518Z"
   },
   {
    "duration": 1522,
    "start_time": "2023-07-06T13:17:58.411Z"
   },
   {
    "duration": 26,
    "start_time": "2023-07-06T13:18:09.423Z"
   },
   {
    "duration": 3,
    "start_time": "2023-07-06T13:20:04.787Z"
   },
   {
    "duration": 28,
    "start_time": "2023-07-06T13:21:37.030Z"
   },
   {
    "duration": 23,
    "start_time": "2023-07-06T13:22:07.916Z"
   },
   {
    "duration": 1555,
    "start_time": "2023-07-06T13:22:16.023Z"
   },
   {
    "duration": 11,
    "start_time": "2023-07-06T13:22:19.706Z"
   },
   {
    "duration": 26,
    "start_time": "2023-07-06T13:22:27.144Z"
   },
   {
    "duration": 1599,
    "start_time": "2023-07-06T13:23:28.327Z"
   },
   {
    "duration": 23,
    "start_time": "2023-07-06T13:27:35.011Z"
   },
   {
    "duration": 18,
    "start_time": "2023-07-06T13:27:49.705Z"
   },
   {
    "duration": 34,
    "start_time": "2023-07-06T13:28:14.459Z"
   },
   {
    "duration": 1524,
    "start_time": "2023-07-06T13:28:19.982Z"
   },
   {
    "duration": 49,
    "start_time": "2023-07-06T13:28:22.932Z"
   },
   {
    "duration": 1496,
    "start_time": "2023-07-06T13:28:32.549Z"
   },
   {
    "duration": 3,
    "start_time": "2023-07-06T13:32:50.294Z"
   },
   {
    "duration": 4290,
    "start_time": "2023-07-06T13:35:35.650Z"
   },
   {
    "duration": 449,
    "start_time": "2023-07-06T13:35:42.134Z"
   },
   {
    "duration": 3,
    "start_time": "2023-07-06T13:35:43.323Z"
   },
   {
    "duration": 30,
    "start_time": "2023-07-06T13:35:44.653Z"
   },
   {
    "duration": 10074,
    "start_time": "2023-07-06T13:35:47.722Z"
   },
   {
    "duration": 1079556,
    "start_time": "2023-07-06T13:36:00.011Z"
   },
   {
    "duration": 4,
    "start_time": "2023-07-06T14:24:15.202Z"
   },
   {
    "duration": 9,
    "start_time": "2023-07-06T14:24:17.154Z"
   },
   {
    "duration": 620,
    "start_time": "2023-07-06T14:24:17.951Z"
   },
   {
    "duration": 6,
    "start_time": "2023-07-06T14:24:19.595Z"
   },
   {
    "duration": 14929,
    "start_time": "2023-07-06T14:25:08.737Z"
   },
   {
    "duration": 943621,
    "start_time": "2023-07-06T14:25:30.647Z"
   },
   {
    "duration": 3,
    "start_time": "2023-07-06T14:41:19.206Z"
   },
   {
    "duration": 5,
    "start_time": "2023-07-06T14:41:19.706Z"
   },
   {
    "duration": 639,
    "start_time": "2023-07-06T14:41:20.320Z"
   },
   {
    "duration": 14,
    "start_time": "2023-07-06T14:41:21.154Z"
   },
   {
    "duration": 4,
    "start_time": "2023-07-06T14:41:28.771Z"
   },
   {
    "duration": 4,
    "start_time": "2023-07-06T14:41:29.263Z"
   },
   {
    "duration": 608,
    "start_time": "2023-07-06T14:41:29.663Z"
   },
   {
    "duration": 13,
    "start_time": "2023-07-06T14:41:30.353Z"
   },
   {
    "duration": 559,
    "start_time": "2023-07-06T14:42:01.600Z"
   },
   {
    "duration": 19,
    "start_time": "2023-07-06T14:42:02.948Z"
   },
   {
    "duration": 551,
    "start_time": "2023-07-06T14:42:05.110Z"
   },
   {
    "duration": 7,
    "start_time": "2023-07-06T14:42:06.304Z"
   },
   {
    "duration": 3,
    "start_time": "2023-07-06T14:42:29.297Z"
   },
   {
    "duration": 2944,
    "start_time": "2023-07-06T14:42:32.585Z"
   },
   {
    "duration": 3528,
    "start_time": "2023-07-06T14:42:49.013Z"
   },
   {
    "duration": 3,
    "start_time": "2023-07-06T14:42:54.736Z"
   },
   {
    "duration": 2470,
    "start_time": "2023-07-06T14:42:55.151Z"
   },
   {
    "duration": 3,
    "start_time": "2023-07-06T14:43:02.729Z"
   },
   {
    "duration": 2319,
    "start_time": "2023-07-06T14:43:03.093Z"
   },
   {
    "duration": 3,
    "start_time": "2023-07-06T14:43:10.507Z"
   },
   {
    "duration": 2465,
    "start_time": "2023-07-06T14:43:10.865Z"
   },
   {
    "duration": 2262,
    "start_time": "2023-07-06T14:43:16.350Z"
   },
   {
    "duration": 4,
    "start_time": "2023-07-06T14:43:22.314Z"
   },
   {
    "duration": 90,
    "start_time": "2023-07-06T14:43:23.308Z"
   },
   {
    "duration": 5659,
    "start_time": "2023-07-06T14:43:27.001Z"
   },
   {
    "duration": 23854,
    "start_time": "2023-07-06T15:21:50.832Z"
   },
   {
    "duration": 2359,
    "start_time": "2023-07-06T15:22:19.018Z"
   },
   {
    "duration": 39,
    "start_time": "2023-07-06T15:22:21.379Z"
   },
   {
    "duration": 3,
    "start_time": "2023-07-06T15:22:25.755Z"
   },
   {
    "duration": 3096,
    "start_time": "2023-07-06T15:22:26.188Z"
   },
   {
    "duration": 2089,
    "start_time": "2023-07-06T15:22:54.919Z"
   },
   {
    "duration": 3,
    "start_time": "2023-07-06T15:22:57.010Z"
   },
   {
    "duration": 76,
    "start_time": "2023-07-06T15:22:57.093Z"
   },
   {
    "duration": 8935,
    "start_time": "2023-07-06T15:22:59.530Z"
   },
   {
    "duration": 3,
    "start_time": "2023-07-06T15:24:22.107Z"
   },
   {
    "duration": 2356,
    "start_time": "2023-07-06T15:24:22.906Z"
   },
   {
    "duration": 1160,
    "start_time": "2023-07-06T15:24:27.593Z"
   },
   {
    "duration": 4,
    "start_time": "2023-07-06T15:24:28.755Z"
   },
   {
    "duration": 38,
    "start_time": "2023-07-06T15:24:30.897Z"
   },
   {
    "duration": 2644,
    "start_time": "2023-07-06T15:24:31.930Z"
   },
   {
    "duration": 1628157,
    "start_time": "2023-07-06T15:24:38.019Z"
   },
   {
    "duration": 5,
    "start_time": "2023-07-06T15:51:53.934Z"
   },
   {
    "duration": 5,
    "start_time": "2023-07-06T15:51:54.605Z"
   },
   {
    "duration": 404,
    "start_time": "2023-07-06T15:51:55.449Z"
   },
   {
    "duration": 10,
    "start_time": "2023-07-06T15:51:59.221Z"
   },
   {
    "duration": 16610,
    "start_time": "2023-07-06T16:01:00.610Z"
   },
   {
    "duration": 2311,
    "start_time": "2023-07-06T16:01:17.222Z"
   },
   {
    "duration": 36,
    "start_time": "2023-07-06T16:01:19.535Z"
   },
   {
    "duration": 27,
    "start_time": "2023-07-06T16:01:19.573Z"
   },
   {
    "duration": 69,
    "start_time": "2023-07-06T16:01:19.601Z"
   },
   {
    "duration": 45,
    "start_time": "2023-07-06T16:01:19.672Z"
   },
   {
    "duration": 33,
    "start_time": "2023-07-06T16:01:19.719Z"
   },
   {
    "duration": 4202,
    "start_time": "2023-07-06T16:01:19.754Z"
   },
   {
    "duration": 10,
    "start_time": "2023-07-06T16:01:23.957Z"
   },
   {
    "duration": 797,
    "start_time": "2023-07-06T16:01:23.969Z"
   },
   {
    "duration": 3,
    "start_time": "2023-07-06T16:01:24.768Z"
   },
   {
    "duration": 0,
    "start_time": "2023-07-06T16:11:59.062Z"
   },
   {
    "duration": 4657,
    "start_time": "2023-07-06T16:12:06.691Z"
   },
   {
    "duration": 791,
    "start_time": "2023-07-06T16:12:11.350Z"
   },
   {
    "duration": 39,
    "start_time": "2023-07-06T16:12:12.142Z"
   },
   {
    "duration": 15,
    "start_time": "2023-07-06T16:12:12.183Z"
   },
   {
    "duration": 61,
    "start_time": "2023-07-06T16:12:12.200Z"
   },
   {
    "duration": 33,
    "start_time": "2023-07-06T16:12:12.263Z"
   },
   {
    "duration": 10,
    "start_time": "2023-07-06T16:12:12.298Z"
   },
   {
    "duration": 4371,
    "start_time": "2023-07-06T16:12:12.310Z"
   },
   {
    "duration": 9,
    "start_time": "2023-07-06T16:12:16.682Z"
   },
   {
    "duration": 493,
    "start_time": "2023-07-06T16:12:16.692Z"
   },
   {
    "duration": 4,
    "start_time": "2023-07-06T16:12:17.187Z"
   },
   {
    "duration": 994211,
    "start_time": "2023-07-06T16:12:17.192Z"
   },
   {
    "duration": 4,
    "start_time": "2023-07-06T16:28:51.405Z"
   },
   {
    "duration": 9,
    "start_time": "2023-07-06T16:28:51.412Z"
   },
   {
    "duration": 72,
    "start_time": "2023-07-06T16:28:51.422Z"
   },
   {
    "duration": 20,
    "start_time": "2023-07-06T16:28:51.496Z"
   },
   {
    "duration": 1222218,
    "start_time": "2023-07-06T16:28:51.518Z"
   },
   {
    "duration": 3,
    "start_time": "2023-07-06T16:49:13.738Z"
   },
   {
    "duration": 104,
    "start_time": "2023-07-06T16:49:13.753Z"
   },
   {
    "duration": 306387,
    "start_time": "2023-07-06T16:49:13.859Z"
   },
   {
    "duration": 5,
    "start_time": "2023-07-06T16:54:20.248Z"
   },
   {
    "duration": 27,
    "start_time": "2023-07-06T16:54:20.255Z"
   },
   {
    "duration": 1310,
    "start_time": "2023-07-06T16:54:20.284Z"
   },
   {
    "duration": 338,
    "start_time": "2023-07-06T16:54:21.596Z"
   },
   {
    "duration": 0,
    "start_time": "2023-07-06T16:54:21.936Z"
   },
   {
    "duration": 0,
    "start_time": "2023-07-06T16:54:21.937Z"
   },
   {
    "duration": 0,
    "start_time": "2023-07-06T16:54:21.939Z"
   },
   {
    "duration": 0,
    "start_time": "2023-07-06T16:54:21.940Z"
   },
   {
    "duration": 1,
    "start_time": "2023-07-06T16:54:21.941Z"
   },
   {
    "duration": 0,
    "start_time": "2023-07-06T16:54:21.952Z"
   },
   {
    "duration": 0,
    "start_time": "2023-07-06T16:54:21.953Z"
   },
   {
    "duration": 0,
    "start_time": "2023-07-06T16:54:21.954Z"
   },
   {
    "duration": 0,
    "start_time": "2023-07-06T16:54:21.955Z"
   },
   {
    "duration": 0,
    "start_time": "2023-07-06T16:54:21.956Z"
   },
   {
    "duration": 0,
    "start_time": "2023-07-06T16:54:21.957Z"
   },
   {
    "duration": 0,
    "start_time": "2023-07-06T16:54:21.959Z"
   },
   {
    "duration": 22,
    "start_time": "2023-07-06T17:09:47.622Z"
   },
   {
    "duration": 5060,
    "start_time": "2023-07-06T17:10:02.652Z"
   },
   {
    "duration": 1318,
    "start_time": "2023-07-06T17:10:46.647Z"
   },
   {
    "duration": 39,
    "start_time": "2023-07-06T17:11:53.789Z"
   },
   {
    "duration": 1263,
    "start_time": "2023-07-06T17:12:41.234Z"
   },
   {
    "duration": 27,
    "start_time": "2023-07-06T17:12:43.035Z"
   },
   {
    "duration": 28,
    "start_time": "2023-07-06T17:13:20.659Z"
   },
   {
    "duration": 4665,
    "start_time": "2023-07-06T17:13:30.917Z"
   },
   {
    "duration": 777,
    "start_time": "2023-07-06T17:13:35.584Z"
   },
   {
    "duration": 33,
    "start_time": "2023-07-06T17:13:36.363Z"
   },
   {
    "duration": 25,
    "start_time": "2023-07-06T17:13:36.398Z"
   },
   {
    "duration": 50,
    "start_time": "2023-07-06T17:13:36.424Z"
   },
   {
    "duration": 33,
    "start_time": "2023-07-06T17:13:36.476Z"
   },
   {
    "duration": 7,
    "start_time": "2023-07-06T17:13:36.511Z"
   },
   {
    "duration": 4106,
    "start_time": "2023-07-06T17:13:36.519Z"
   },
   {
    "duration": 26,
    "start_time": "2023-07-06T17:13:40.626Z"
   },
   {
    "duration": 470,
    "start_time": "2023-07-06T17:13:40.653Z"
   },
   {
    "duration": 4,
    "start_time": "2023-07-06T17:13:41.124Z"
   },
   {
    "duration": 990281,
    "start_time": "2023-07-06T17:13:41.130Z"
   },
   {
    "duration": 5,
    "start_time": "2023-07-06T17:30:11.415Z"
   },
   {
    "duration": 13,
    "start_time": "2023-07-06T17:30:11.421Z"
   },
   {
    "duration": 67,
    "start_time": "2023-07-06T17:30:11.436Z"
   },
   {
    "duration": 15,
    "start_time": "2023-07-06T17:30:11.505Z"
   },
   {
    "duration": 1150252,
    "start_time": "2023-07-06T17:30:11.522Z"
   },
   {
    "duration": 4,
    "start_time": "2023-07-06T17:49:21.853Z"
   },
   {
    "duration": 6,
    "start_time": "2023-07-06T17:49:21.858Z"
   },
   {
    "duration": 275988,
    "start_time": "2023-07-06T17:49:21.866Z"
   },
   {
    "duration": 3,
    "start_time": "2023-07-06T17:53:57.855Z"
   },
   {
    "duration": 8,
    "start_time": "2023-07-06T17:53:57.859Z"
   },
   {
    "duration": 1315,
    "start_time": "2023-07-06T17:53:57.868Z"
   },
   {
    "duration": 6529,
    "start_time": "2023-07-06T17:53:59.185Z"
   },
   {
    "duration": 313,
    "start_time": "2023-07-06T17:54:05.716Z"
   },
   {
    "duration": 0,
    "start_time": "2023-07-06T17:54:06.031Z"
   },
   {
    "duration": 0,
    "start_time": "2023-07-06T17:54:06.032Z"
   },
   {
    "duration": 0,
    "start_time": "2023-07-06T17:54:06.033Z"
   },
   {
    "duration": 0,
    "start_time": "2023-07-06T17:54:06.034Z"
   },
   {
    "duration": 0,
    "start_time": "2023-07-06T17:54:06.035Z"
   },
   {
    "duration": 0,
    "start_time": "2023-07-06T17:54:06.036Z"
   },
   {
    "duration": 0,
    "start_time": "2023-07-06T17:54:06.037Z"
   },
   {
    "duration": 0,
    "start_time": "2023-07-06T17:54:06.037Z"
   },
   {
    "duration": 0,
    "start_time": "2023-07-06T17:54:06.038Z"
   },
   {
    "duration": 0,
    "start_time": "2023-07-06T17:54:06.039Z"
   },
   {
    "duration": 0,
    "start_time": "2023-07-06T17:54:06.040Z"
   },
   {
    "duration": 3,
    "start_time": "2023-07-06T18:08:51.996Z"
   },
   {
    "duration": 2818,
    "start_time": "2023-07-06T18:08:52.692Z"
   },
   {
    "duration": 1037,
    "start_time": "2023-07-06T18:08:56.204Z"
   },
   {
    "duration": 3,
    "start_time": "2023-07-06T18:08:57.243Z"
   },
   {
    "duration": 37,
    "start_time": "2023-07-06T18:08:57.531Z"
   },
   {
    "duration": 5955,
    "start_time": "2023-07-06T18:08:59.407Z"
   },
   {
    "duration": 1515209,
    "start_time": "2023-07-06T18:09:05.365Z"
   },
   {
    "duration": 5,
    "start_time": "2023-07-06T18:34:20.576Z"
   },
   {
    "duration": 58,
    "start_time": "2023-07-06T18:34:20.582Z"
   },
   {
    "duration": 331,
    "start_time": "2023-07-06T18:34:20.643Z"
   },
   {
    "duration": 78,
    "start_time": "2023-07-06T18:34:20.976Z"
   },
   {
    "duration": 5982,
    "start_time": "2023-09-27T11:18:30.392Z"
   },
   {
    "duration": 3287,
    "start_time": "2023-09-27T11:18:36.377Z"
   },
   {
    "duration": 40,
    "start_time": "2023-09-27T11:18:39.666Z"
   },
   {
    "duration": 20,
    "start_time": "2023-09-27T11:18:39.708Z"
   },
   {
    "duration": 55,
    "start_time": "2023-09-27T11:18:39.731Z"
   },
   {
    "duration": 92,
    "start_time": "2023-09-27T11:18:39.787Z"
   },
   {
    "duration": 23,
    "start_time": "2023-09-27T11:18:39.881Z"
   },
   {
    "duration": 4496,
    "start_time": "2023-09-27T11:18:39.906Z"
   },
   {
    "duration": 13,
    "start_time": "2023-09-27T11:18:44.403Z"
   },
   {
    "duration": 856,
    "start_time": "2023-09-27T11:18:44.418Z"
   },
   {
    "duration": 3,
    "start_time": "2023-09-27T11:18:45.276Z"
   },
   {
    "duration": 988234,
    "start_time": "2023-09-27T11:18:45.280Z"
   },
   {
    "duration": 4,
    "start_time": "2023-09-27T11:35:13.515Z"
   },
   {
    "duration": 22,
    "start_time": "2023-09-27T11:35:13.521Z"
   },
   {
    "duration": 64,
    "start_time": "2023-09-27T11:35:13.545Z"
   },
   {
    "duration": 15,
    "start_time": "2023-09-27T11:35:13.611Z"
   },
   {
    "duration": 1168262,
    "start_time": "2023-09-27T11:35:13.628Z"
   },
   {
    "duration": 3,
    "start_time": "2023-09-27T11:54:41.891Z"
   },
   {
    "duration": 22,
    "start_time": "2023-09-27T11:54:41.896Z"
   },
   {
    "duration": 292695,
    "start_time": "2023-09-27T11:54:41.919Z"
   },
   {
    "duration": 3,
    "start_time": "2023-09-27T11:59:34.616Z"
   },
   {
    "duration": 12,
    "start_time": "2023-09-27T11:59:34.621Z"
   },
   {
    "duration": 1483,
    "start_time": "2023-09-27T11:59:34.634Z"
   },
   {
    "duration": 7717,
    "start_time": "2023-09-27T11:59:36.119Z"
   },
   {
    "duration": 391,
    "start_time": "2023-09-27T11:59:43.838Z"
   },
   {
    "duration": 0,
    "start_time": "2023-09-27T11:59:44.230Z"
   },
   {
    "duration": 0,
    "start_time": "2023-09-27T11:59:44.232Z"
   },
   {
    "duration": 0,
    "start_time": "2023-09-27T11:59:44.233Z"
   },
   {
    "duration": 0,
    "start_time": "2023-09-27T11:59:44.235Z"
   },
   {
    "duration": 0,
    "start_time": "2023-09-27T11:59:44.236Z"
   },
   {
    "duration": 0,
    "start_time": "2023-09-27T11:59:44.237Z"
   },
   {
    "duration": 0,
    "start_time": "2023-09-27T11:59:44.238Z"
   },
   {
    "duration": 0,
    "start_time": "2023-09-27T11:59:44.239Z"
   },
   {
    "duration": 0,
    "start_time": "2023-09-27T11:59:44.241Z"
   },
   {
    "duration": 0,
    "start_time": "2023-09-27T11:59:44.242Z"
   },
   {
    "duration": 0,
    "start_time": "2023-09-27T11:59:44.243Z"
   },
   {
    "duration": 3,
    "start_time": "2023-09-27T12:19:00.240Z"
   },
   {
    "duration": 3946,
    "start_time": "2023-09-27T12:19:00.247Z"
   },
   {
    "duration": 1144,
    "start_time": "2023-09-27T12:19:04.195Z"
   },
   {
    "duration": 3,
    "start_time": "2023-09-27T12:19:05.341Z"
   },
   {
    "duration": 61,
    "start_time": "2023-09-27T12:19:05.345Z"
   },
   {
    "duration": 77023,
    "start_time": "2023-09-27T12:19:05.408Z"
   },
   {
    "duration": 1550894,
    "start_time": "2023-09-27T12:20:22.433Z"
   },
   {
    "duration": 5,
    "start_time": "2023-09-27T12:46:13.328Z"
   },
   {
    "duration": 36,
    "start_time": "2023-09-27T12:46:13.334Z"
   },
   {
    "duration": 551,
    "start_time": "2023-09-27T12:46:13.371Z"
   },
   {
    "duration": 91,
    "start_time": "2023-09-27T12:46:13.925Z"
   }
  ],
  "kernelspec": {
   "display_name": "Python 3 (ipykernel)",
   "language": "python",
   "name": "python3"
  },
  "language_info": {
   "codemirror_mode": {
    "name": "ipython",
    "version": 3
   },
   "file_extension": ".py",
   "mimetype": "text/x-python",
   "name": "python",
   "nbconvert_exporter": "python",
   "pygments_lexer": "ipython3",
   "version": "3.10.9"
  },
  "toc": {
   "base_numbering": 1,
   "nav_menu": {},
   "number_sections": true,
   "sideBar": true,
   "skip_h1_title": true,
   "title_cell": "Содержание",
   "title_sidebar": "Contents",
   "toc_cell": true,
   "toc_position": {
    "height": "calc(100% - 180px)",
    "left": "10px",
    "top": "150px",
    "width": "302.391px"
   },
   "toc_section_display": true,
   "toc_window_display": false
  }
 },
 "nbformat": 4,
 "nbformat_minor": 2
}
